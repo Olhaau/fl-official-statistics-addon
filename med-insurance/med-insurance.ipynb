{
 "cells": [
  {
   "cell_type": "markdown",
   "metadata": {
    "collapsed": false
   },
   "source": [
    "## Medical insurance data set\n",
    "* https://www.kaggle.com/datasets/teertha/ushealthinsurancedataset\n",
    "    * 1400 data points\n",
    "\n",
    "## Results\n",
    "* DNN: R² of 0.83\n",
    "* RandomForest: R² of 0.87\n",
    "* LinearRegression: bad idea, non-linear data R² of 0.78\n",
    "* Same with Ridge Regressor\n",
    "\n",
    "### Next steps\n",
    "* Data augmentation\n",
    "* cross validation\n",
    "* privacy attacks\n",
    "* differential privacy\n"
   ]
  },
  {
   "cell_type": "code",
   "execution_count": 2,
   "metadata": {
    "collapsed": false
   },
   "outputs": [],
   "source": [
    "import pandas as pd\n",
    "\n",
    "validation_split_size = 0.2\n",
    "dataset = pd.read_csv('data/med-insurance/insurance.csv')"
   ]
  },
  {
   "cell_type": "code",
   "execution_count": 3,
   "metadata": {
    "collapsed": false
   },
   "outputs": [
    {
     "data": {
      "text/html": [
       "<div>\n",
       "<style scoped>\n",
       "    .dataframe tbody tr th:only-of-type {\n",
       "        vertical-align: middle;\n",
       "    }\n",
       "\n",
       "    .dataframe tbody tr th {\n",
       "        vertical-align: top;\n",
       "    }\n",
       "\n",
       "    .dataframe thead th {\n",
       "        text-align: right;\n",
       "    }\n",
       "</style>\n",
       "<table border=\"1\" class=\"dataframe\">\n",
       "  <thead>\n",
       "    <tr style=\"text-align: right;\">\n",
       "      <th></th>\n",
       "      <th>age</th>\n",
       "      <th>sex</th>\n",
       "      <th>bmi</th>\n",
       "      <th>children</th>\n",
       "      <th>smoker</th>\n",
       "      <th>region</th>\n",
       "      <th>charges</th>\n",
       "    </tr>\n",
       "  </thead>\n",
       "  <tbody>\n",
       "    <tr>\n",
       "      <th>0</th>\n",
       "      <td>19</td>\n",
       "      <td>0</td>\n",
       "      <td>27.900</td>\n",
       "      <td>0</td>\n",
       "      <td>1</td>\n",
       "      <td>3</td>\n",
       "      <td>16884.92400</td>\n",
       "    </tr>\n",
       "    <tr>\n",
       "      <th>1</th>\n",
       "      <td>18</td>\n",
       "      <td>1</td>\n",
       "      <td>33.770</td>\n",
       "      <td>1</td>\n",
       "      <td>0</td>\n",
       "      <td>2</td>\n",
       "      <td>1725.55230</td>\n",
       "    </tr>\n",
       "    <tr>\n",
       "      <th>2</th>\n",
       "      <td>28</td>\n",
       "      <td>1</td>\n",
       "      <td>33.000</td>\n",
       "      <td>3</td>\n",
       "      <td>0</td>\n",
       "      <td>2</td>\n",
       "      <td>4449.46200</td>\n",
       "    </tr>\n",
       "    <tr>\n",
       "      <th>3</th>\n",
       "      <td>33</td>\n",
       "      <td>1</td>\n",
       "      <td>22.705</td>\n",
       "      <td>0</td>\n",
       "      <td>0</td>\n",
       "      <td>1</td>\n",
       "      <td>21984.47061</td>\n",
       "    </tr>\n",
       "    <tr>\n",
       "      <th>4</th>\n",
       "      <td>32</td>\n",
       "      <td>1</td>\n",
       "      <td>28.880</td>\n",
       "      <td>0</td>\n",
       "      <td>0</td>\n",
       "      <td>1</td>\n",
       "      <td>3866.85520</td>\n",
       "    </tr>\n",
       "    <tr>\n",
       "      <th>...</th>\n",
       "      <td>...</td>\n",
       "      <td>...</td>\n",
       "      <td>...</td>\n",
       "      <td>...</td>\n",
       "      <td>...</td>\n",
       "      <td>...</td>\n",
       "      <td>...</td>\n",
       "    </tr>\n",
       "    <tr>\n",
       "      <th>1333</th>\n",
       "      <td>50</td>\n",
       "      <td>1</td>\n",
       "      <td>30.970</td>\n",
       "      <td>3</td>\n",
       "      <td>0</td>\n",
       "      <td>1</td>\n",
       "      <td>10600.54830</td>\n",
       "    </tr>\n",
       "    <tr>\n",
       "      <th>1334</th>\n",
       "      <td>18</td>\n",
       "      <td>0</td>\n",
       "      <td>31.920</td>\n",
       "      <td>0</td>\n",
       "      <td>0</td>\n",
       "      <td>0</td>\n",
       "      <td>2205.98080</td>\n",
       "    </tr>\n",
       "    <tr>\n",
       "      <th>1335</th>\n",
       "      <td>18</td>\n",
       "      <td>0</td>\n",
       "      <td>36.850</td>\n",
       "      <td>0</td>\n",
       "      <td>0</td>\n",
       "      <td>2</td>\n",
       "      <td>1629.83350</td>\n",
       "    </tr>\n",
       "    <tr>\n",
       "      <th>1336</th>\n",
       "      <td>21</td>\n",
       "      <td>0</td>\n",
       "      <td>25.800</td>\n",
       "      <td>0</td>\n",
       "      <td>0</td>\n",
       "      <td>3</td>\n",
       "      <td>2007.94500</td>\n",
       "    </tr>\n",
       "    <tr>\n",
       "      <th>1337</th>\n",
       "      <td>61</td>\n",
       "      <td>0</td>\n",
       "      <td>29.070</td>\n",
       "      <td>0</td>\n",
       "      <td>1</td>\n",
       "      <td>1</td>\n",
       "      <td>29141.36030</td>\n",
       "    </tr>\n",
       "  </tbody>\n",
       "</table>\n",
       "<p>1338 rows × 7 columns</p>\n",
       "</div>"
      ],
      "text/plain": [
       "      age  sex     bmi  children  smoker  region      charges\n",
       "0      19    0  27.900         0       1       3  16884.92400\n",
       "1      18    1  33.770         1       0       2   1725.55230\n",
       "2      28    1  33.000         3       0       2   4449.46200\n",
       "3      33    1  22.705         0       0       1  21984.47061\n",
       "4      32    1  28.880         0       0       1   3866.85520\n",
       "...   ...  ...     ...       ...     ...     ...          ...\n",
       "1333   50    1  30.970         3       0       1  10600.54830\n",
       "1334   18    0  31.920         0       0       0   2205.98080\n",
       "1335   18    0  36.850         0       0       2   1629.83350\n",
       "1336   21    0  25.800         0       0       3   2007.94500\n",
       "1337   61    0  29.070         0       1       1  29141.36030\n",
       "\n",
       "[1338 rows x 7 columns]"
      ]
     },
     "execution_count": 3,
     "metadata": {},
     "output_type": "execute_result"
    }
   ],
   "source": [
    "# categorical data columns\n",
    "dataset['sex'] = dataset['sex'].astype('category').cat.codes\n",
    "dataset['region'] = dataset['region'].astype('category').cat.codes\n",
    "dataset['smoker'] = dataset['smoker'].astype('category').cat.codes\n",
    "dataset"
   ]
  },
  {
   "cell_type": "code",
   "execution_count": 4,
   "metadata": {
    "collapsed": false
   },
   "outputs": [
    {
     "data": {
      "text/plain": [
       "2    364\n",
       "3    325\n",
       "1    325\n",
       "0    324\n",
       "Name: region, dtype: int64"
      ]
     },
     "execution_count": 4,
     "metadata": {},
     "output_type": "execute_result"
    }
   ],
   "source": [
    "dataset['region'].value_counts()"
   ]
  },
  {
   "cell_type": "code",
   "execution_count": 5,
   "metadata": {
    "collapsed": false
   },
   "outputs": [
    {
     "data": {
      "text/html": [
       "<div>\n",
       "<style scoped>\n",
       "    .dataframe tbody tr th:only-of-type {\n",
       "        vertical-align: middle;\n",
       "    }\n",
       "\n",
       "    .dataframe tbody tr th {\n",
       "        vertical-align: top;\n",
       "    }\n",
       "\n",
       "    .dataframe thead th {\n",
       "        text-align: right;\n",
       "    }\n",
       "</style>\n",
       "<table border=\"1\" class=\"dataframe\">\n",
       "  <thead>\n",
       "    <tr style=\"text-align: right;\">\n",
       "      <th></th>\n",
       "      <th>age</th>\n",
       "      <th>sex</th>\n",
       "      <th>bmi</th>\n",
       "      <th>children</th>\n",
       "      <th>smoker</th>\n",
       "      <th>region</th>\n",
       "      <th>charges</th>\n",
       "      <th>region0</th>\n",
       "      <th>region1</th>\n",
       "      <th>region2</th>\n",
       "      <th>region3</th>\n",
       "    </tr>\n",
       "  </thead>\n",
       "  <tbody>\n",
       "    <tr>\n",
       "      <th>0</th>\n",
       "      <td>0.021739</td>\n",
       "      <td>0</td>\n",
       "      <td>0.321227</td>\n",
       "      <td>0.0</td>\n",
       "      <td>1</td>\n",
       "      <td>3</td>\n",
       "      <td>16884.92400</td>\n",
       "      <td>0</td>\n",
       "      <td>0</td>\n",
       "      <td>0</td>\n",
       "      <td>1</td>\n",
       "    </tr>\n",
       "    <tr>\n",
       "      <th>1</th>\n",
       "      <td>0.000000</td>\n",
       "      <td>1</td>\n",
       "      <td>0.479150</td>\n",
       "      <td>0.2</td>\n",
       "      <td>0</td>\n",
       "      <td>2</td>\n",
       "      <td>1725.55230</td>\n",
       "      <td>0</td>\n",
       "      <td>0</td>\n",
       "      <td>1</td>\n",
       "      <td>0</td>\n",
       "    </tr>\n",
       "    <tr>\n",
       "      <th>2</th>\n",
       "      <td>0.217391</td>\n",
       "      <td>1</td>\n",
       "      <td>0.458434</td>\n",
       "      <td>0.6</td>\n",
       "      <td>0</td>\n",
       "      <td>2</td>\n",
       "      <td>4449.46200</td>\n",
       "      <td>0</td>\n",
       "      <td>0</td>\n",
       "      <td>1</td>\n",
       "      <td>0</td>\n",
       "    </tr>\n",
       "    <tr>\n",
       "      <th>3</th>\n",
       "      <td>0.326087</td>\n",
       "      <td>1</td>\n",
       "      <td>0.181464</td>\n",
       "      <td>0.0</td>\n",
       "      <td>0</td>\n",
       "      <td>1</td>\n",
       "      <td>21984.47061</td>\n",
       "      <td>0</td>\n",
       "      <td>1</td>\n",
       "      <td>0</td>\n",
       "      <td>0</td>\n",
       "    </tr>\n",
       "    <tr>\n",
       "      <th>4</th>\n",
       "      <td>0.304348</td>\n",
       "      <td>1</td>\n",
       "      <td>0.347592</td>\n",
       "      <td>0.0</td>\n",
       "      <td>0</td>\n",
       "      <td>1</td>\n",
       "      <td>3866.85520</td>\n",
       "      <td>0</td>\n",
       "      <td>1</td>\n",
       "      <td>0</td>\n",
       "      <td>0</td>\n",
       "    </tr>\n",
       "    <tr>\n",
       "      <th>...</th>\n",
       "      <td>...</td>\n",
       "      <td>...</td>\n",
       "      <td>...</td>\n",
       "      <td>...</td>\n",
       "      <td>...</td>\n",
       "      <td>...</td>\n",
       "      <td>...</td>\n",
       "      <td>...</td>\n",
       "      <td>...</td>\n",
       "      <td>...</td>\n",
       "      <td>...</td>\n",
       "    </tr>\n",
       "    <tr>\n",
       "      <th>1333</th>\n",
       "      <td>0.695652</td>\n",
       "      <td>1</td>\n",
       "      <td>0.403820</td>\n",
       "      <td>0.6</td>\n",
       "      <td>0</td>\n",
       "      <td>1</td>\n",
       "      <td>10600.54830</td>\n",
       "      <td>0</td>\n",
       "      <td>1</td>\n",
       "      <td>0</td>\n",
       "      <td>0</td>\n",
       "    </tr>\n",
       "    <tr>\n",
       "      <th>1334</th>\n",
       "      <td>0.000000</td>\n",
       "      <td>0</td>\n",
       "      <td>0.429379</td>\n",
       "      <td>0.0</td>\n",
       "      <td>0</td>\n",
       "      <td>0</td>\n",
       "      <td>2205.98080</td>\n",
       "      <td>1</td>\n",
       "      <td>0</td>\n",
       "      <td>0</td>\n",
       "      <td>0</td>\n",
       "    </tr>\n",
       "    <tr>\n",
       "      <th>1335</th>\n",
       "      <td>0.000000</td>\n",
       "      <td>0</td>\n",
       "      <td>0.562012</td>\n",
       "      <td>0.0</td>\n",
       "      <td>0</td>\n",
       "      <td>2</td>\n",
       "      <td>1629.83350</td>\n",
       "      <td>0</td>\n",
       "      <td>0</td>\n",
       "      <td>1</td>\n",
       "      <td>0</td>\n",
       "    </tr>\n",
       "    <tr>\n",
       "      <th>1336</th>\n",
       "      <td>0.065217</td>\n",
       "      <td>0</td>\n",
       "      <td>0.264730</td>\n",
       "      <td>0.0</td>\n",
       "      <td>0</td>\n",
       "      <td>3</td>\n",
       "      <td>2007.94500</td>\n",
       "      <td>0</td>\n",
       "      <td>0</td>\n",
       "      <td>0</td>\n",
       "      <td>1</td>\n",
       "    </tr>\n",
       "    <tr>\n",
       "      <th>1337</th>\n",
       "      <td>0.934783</td>\n",
       "      <td>0</td>\n",
       "      <td>0.352704</td>\n",
       "      <td>0.0</td>\n",
       "      <td>1</td>\n",
       "      <td>1</td>\n",
       "      <td>29141.36030</td>\n",
       "      <td>0</td>\n",
       "      <td>1</td>\n",
       "      <td>0</td>\n",
       "      <td>0</td>\n",
       "    </tr>\n",
       "  </tbody>\n",
       "</table>\n",
       "<p>1338 rows × 11 columns</p>\n",
       "</div>"
      ],
      "text/plain": [
       "           age  sex       bmi  children  smoker  region      charges  region0  \\\n",
       "0     0.021739    0  0.321227       0.0       1       3  16884.92400        0   \n",
       "1     0.000000    1  0.479150       0.2       0       2   1725.55230        0   \n",
       "2     0.217391    1  0.458434       0.6       0       2   4449.46200        0   \n",
       "3     0.326087    1  0.181464       0.0       0       1  21984.47061        0   \n",
       "4     0.304348    1  0.347592       0.0       0       1   3866.85520        0   \n",
       "...        ...  ...       ...       ...     ...     ...          ...      ...   \n",
       "1333  0.695652    1  0.403820       0.6       0       1  10600.54830        0   \n",
       "1334  0.000000    0  0.429379       0.0       0       0   2205.98080        1   \n",
       "1335  0.000000    0  0.562012       0.0       0       2   1629.83350        0   \n",
       "1336  0.065217    0  0.264730       0.0       0       3   2007.94500        0   \n",
       "1337  0.934783    0  0.352704       0.0       1       1  29141.36030        0   \n",
       "\n",
       "      region1  region2  region3  \n",
       "0           0        0        1  \n",
       "1           0        1        0  \n",
       "2           0        1        0  \n",
       "3           1        0        0  \n",
       "4           1        0        0  \n",
       "...       ...      ...      ...  \n",
       "1333        1        0        0  \n",
       "1334        0        0        0  \n",
       "1335        0        1        0  \n",
       "1336        0        0        1  \n",
       "1337        1        0        0  \n",
       "\n",
       "[1338 rows x 11 columns]"
      ]
     },
     "execution_count": 5,
     "metadata": {},
     "output_type": "execute_result"
    }
   ],
   "source": [
    "from sklearn.preprocessing import MinMaxScaler\n",
    "\n",
    "scaler = MinMaxScaler()\n",
    "# von 0-1 skalieren\n",
    "dataset[['age', 'bmi', 'children']] = scaler.fit_transform(dataset[['age', 'bmi', 'children']])\n",
    "# one hot encoding\n",
    "dataset[['region0', 'region1', 'region2', 'region3']] = pd.get_dummies(dataset['region'])\n",
    "dataset"
   ]
  },
  {
   "cell_type": "code",
   "execution_count": 6,
   "metadata": {
    "collapsed": false
   },
   "outputs": [],
   "source": [
    "training_features = ['age', 'sex', 'bmi', 'children', 'smoker', 'region0', 'region1', 'region2', 'region3']\n",
    "target_variable = 'charges'\n",
    "def get_x(d):\n",
    "    return d[training_features]\n",
    "\n",
    "def get_y(d):\n",
    "    return d[[target_variable]]"
   ]
  },
  {
   "cell_type": "code",
   "execution_count": 7,
   "metadata": {
    "collapsed": false
   },
   "outputs": [],
   "source": [
    "from sklearn.model_selection import train_test_split\n",
    "\n",
    "X_train, X_test, y_train, y_test = train_test_split(dataset[training_features], dataset[[target_variable]], test_size=0.2, random_state=42, shuffle=True)"
   ]
  },
  {
   "cell_type": "code",
   "execution_count": 8,
   "metadata": {
    "collapsed": false
   },
   "outputs": [],
   "source": [
    "# import, plot function\n",
    "import matplotlib.pyplot as plt\n",
    "\n",
    "def plot_loss(history, y_min=None, y_max=None):\n",
    "    plt.plot(history.history['r_square'], label='train R^2')\n",
    "    plt.plot(history.history['val_r_square'], label='test R^2')\n",
    "    if y_min is not None and y_max is not None:\n",
    "        plt.ylim([y_min, y_max])\n",
    "    plt.xlabel('Epoch')\n",
    "    plt.ylabel('Error')\n",
    "    plt.legend()\n",
    "    plt.grid(True)\n",
    "    plt.savefig('fig.png')"
   ]
  },
  {
   "cell_type": "markdown",
   "metadata": {
    "collapsed": false
   },
   "source": [
    "# DNN"
   ]
  },
  {
   "cell_type": "code",
   "execution_count": 8,
   "metadata": {
    "collapsed": false
   },
   "outputs": [
    {
     "name": "stderr",
     "output_type": "stream",
     "text": [
      "2022-11-15 13:08:15.705718: I tensorflow/core/platform/cpu_feature_guard.cc:193] This TensorFlow binary is optimized with oneAPI Deep Neural Network Library (oneDNN) to use the following CPU instructions in performance-critical operations:  AVX2 FMA\n",
      "To enable them in other operations, rebuild TensorFlow with the appropriate compiler flags.\n",
      "2022-11-15 13:08:15.859325: W tensorflow/stream_executor/platform/default/dso_loader.cc:64] Could not load dynamic library 'libcudart.so.11.0'; dlerror: libcudart.so.11.0: cannot open shared object file: No such file or directory\n",
      "2022-11-15 13:08:15.859356: I tensorflow/stream_executor/cuda/cudart_stub.cc:29] Ignore above cudart dlerror if you do not have a GPU set up on your machine.\n",
      "2022-11-15 13:08:15.888500: E tensorflow/stream_executor/cuda/cuda_blas.cc:2981] Unable to register cuBLAS factory: Attempting to register factory for plugin cuBLAS when one has already been registered\n",
      "2022-11-15 13:08:17.703824: W tensorflow/stream_executor/platform/default/dso_loader.cc:64] Could not load dynamic library 'libnvinfer.so.7'; dlerror: libnvinfer.so.7: cannot open shared object file: No such file or directory\n",
      "2022-11-15 13:08:17.703913: W tensorflow/stream_executor/platform/default/dso_loader.cc:64] Could not load dynamic library 'libnvinfer_plugin.so.7'; dlerror: libnvinfer_plugin.so.7: cannot open shared object file: No such file or directory\n",
      "2022-11-15 13:08:17.703922: W tensorflow/compiler/tf2tensorrt/utils/py_utils.cc:38] TF-TRT Warning: Cannot dlopen some TensorRT libraries. If you would like to use Nvidia GPU with TensorRT, please make sure the missing libraries mentioned above are installed properly.\n",
      "2022-11-15 13:08:22.351596: W tensorflow/stream_executor/platform/default/dso_loader.cc:64] Could not load dynamic library 'libcuda.so.1'; dlerror: libcuda.so.1: cannot open shared object file: No such file or directory\n",
      "2022-11-15 13:08:22.351625: W tensorflow/stream_executor/cuda/cuda_driver.cc:263] failed call to cuInit: UNKNOWN ERROR (303)\n",
      "2022-11-15 13:08:22.351641: I tensorflow/stream_executor/cuda/cuda_diagnostics.cc:156] kernel driver does not appear to be running on this host (issc3): /proc/driver/nvidia/version does not exist\n",
      "2022-11-15 13:08:22.351844: I tensorflow/core/platform/cpu_feature_guard.cc:193] This TensorFlow binary is optimized with oneAPI Deep Neural Network Library (oneDNN) to use the following CPU instructions in performance-critical operations:  AVX2 FMA\n",
      "To enable them in other operations, rebuild TensorFlow with the appropriate compiler flags.\n"
     ]
    }
   ],
   "source": [
    "import tensorflow as tf\n",
    "from tensorflow import keras\n",
    "from keras.models import Sequential\n",
    "from keras.layers import Dense\n",
    "from tensorflow_addons.metrics import RSquare\n",
    "\n",
    "# DNN: compose and compile\n",
    "dnn_model = Sequential([\n",
    "    keras.Input(shape=(9,)),\n",
    "    Dense(32, activation='relu'),\n",
    "    keras.layers.Dropout(0.05),\n",
    "    Dense(16, activation='relu'),\n",
    "    Dense(1)\n",
    "])\n",
    "\n",
    "dnn_model.compile(loss=tf.losses.mae,\n",
    "                  optimizer=tf.optimizers.SGD(),\n",
    "                  metrics=[\"mae\", 'mean_squared_error', RSquare()]\n",
    "                  )"
   ]
  },
  {
   "cell_type": "code",
   "execution_count": 9,
   "metadata": {
    "collapsed": false
   },
   "outputs": [
    {
     "name": "stdout",
     "output_type": "stream",
     "text": [
      "Epoch 1/100\n",
      "27/27 [==============================] - 1s 11ms/step - loss: 13518.2100 - mae: 13518.2100 - mean_squared_error: 325458048.0000 - r_square: -1.2804 - val_loss: 12654.4893 - val_mae: 12654.4893 - val_mean_squared_error: 310340064.0000 - val_r_square: -1.0661\n",
      "Epoch 2/100\n",
      "27/27 [==============================] - 0s 3ms/step - loss: 13516.6201 - mae: 13516.6201 - mean_squared_error: 325412704.0000 - r_square: -1.2801 - val_loss: 12651.8867 - val_mae: 12651.8867 - val_mean_squared_error: 310269920.0000 - val_r_square: -1.0656\n",
      "Epoch 3/100\n",
      "27/27 [==============================] - 0s 3ms/step - loss: 13509.6807 - mae: 13509.6807 - mean_squared_error: 325214080.0000 - r_square: -1.2787 - val_loss: 12633.9863 - val_mae: 12633.9863 - val_mean_squared_error: 309784416.0000 - val_r_square: -1.0624\n",
      "Epoch 4/100\n",
      "27/27 [==============================] - 0s 3ms/step - loss: 13095.6904 - mae: 13095.6904 - mean_squared_error: 314357024.0000 - r_square: -1.2027 - val_loss: 8486.7979 - val_mae: 8486.7979 - val_mean_squared_error: 197839456.0000 - val_r_square: -0.3171\n",
      "Epoch 5/100\n",
      "27/27 [==============================] - 0s 3ms/step - loss: 6891.8530 - mae: 6891.8530 - mean_squared_error: 114234984.0000 - r_square: 0.1996 - val_loss: 4596.5928 - val_mae: 4596.5928 - val_mean_squared_error: 70650784.0000 - val_r_square: 0.5296\n",
      "Epoch 6/100\n",
      "27/27 [==============================] - 0s 3ms/step - loss: 5657.8691 - mae: 5657.8691 - mean_squared_error: 71375888.0000 - r_square: 0.4999 - val_loss: 7960.9043 - val_mae: 7960.9043 - val_mean_squared_error: 127735208.0000 - val_r_square: 0.1496\n",
      "Epoch 7/100\n",
      "27/27 [==============================] - 0s 3ms/step - loss: 5363.7075 - mae: 5363.7075 - mean_squared_error: 64574188.0000 - r_square: 0.5475 - val_loss: 4102.4395 - val_mae: 4102.4395 - val_mean_squared_error: 56881640.0000 - val_r_square: 0.6213\n",
      "Epoch 8/100\n",
      "27/27 [==============================] - 0s 3ms/step - loss: 5000.9170 - mae: 5000.9170 - mean_squared_error: 59837068.0000 - r_square: 0.5807 - val_loss: 5096.1763 - val_mae: 5096.1763 - val_mean_squared_error: 45804684.0000 - val_r_square: 0.6951\n",
      "Epoch 9/100\n",
      "27/27 [==============================] - 0s 3ms/step - loss: 4714.3374 - mae: 4714.3374 - mean_squared_error: 54609720.0000 - r_square: 0.6174 - val_loss: 4669.9668 - val_mae: 4669.9668 - val_mean_squared_error: 44978172.0000 - val_r_square: 0.7006\n",
      "Epoch 10/100\n",
      "27/27 [==============================] - 0s 3ms/step - loss: 4287.4604 - mae: 4287.4604 - mean_squared_error: 47789968.0000 - r_square: 0.6651 - val_loss: 3527.3289 - val_mae: 3527.3291 - val_mean_squared_error: 37920772.0000 - val_r_square: 0.7475\n",
      "Epoch 11/100\n",
      "27/27 [==============================] - 0s 3ms/step - loss: 4346.7607 - mae: 4346.7607 - mean_squared_error: 47461720.0000 - r_square: 0.6674 - val_loss: 3658.7397 - val_mae: 3658.7397 - val_mean_squared_error: 35344308.0000 - val_r_square: 0.7647\n",
      "Epoch 12/100\n",
      "27/27 [==============================] - 0s 3ms/step - loss: 4946.0664 - mae: 4946.0664 - mean_squared_error: 59640712.0000 - r_square: 0.5821 - val_loss: 4006.8948 - val_mae: 4006.8948 - val_mean_squared_error: 34382568.0000 - val_r_square: 0.7711\n",
      "Epoch 13/100\n",
      "27/27 [==============================] - 0s 3ms/step - loss: 4879.9829 - mae: 4879.9829 - mean_squared_error: 54988316.0000 - r_square: 0.6147 - val_loss: 3159.0303 - val_mae: 3159.0303 - val_mean_squared_error: 38683336.0000 - val_r_square: 0.7425\n",
      "Epoch 14/100\n",
      "27/27 [==============================] - 0s 3ms/step - loss: 4192.9072 - mae: 4192.9072 - mean_squared_error: 47061852.0000 - r_square: 0.6702 - val_loss: 4358.1924 - val_mae: 4358.1924 - val_mean_squared_error: 37955484.0000 - val_r_square: 0.7473\n",
      "Epoch 15/100\n",
      "27/27 [==============================] - 0s 3ms/step - loss: 4741.0571 - mae: 4741.0571 - mean_squared_error: 56561264.0000 - r_square: 0.6037 - val_loss: 3034.4729 - val_mae: 3034.4729 - val_mean_squared_error: 33847776.0000 - val_r_square: 0.7747\n",
      "Epoch 16/100\n",
      "27/27 [==============================] - 0s 3ms/step - loss: 4451.6333 - mae: 4451.6333 - mean_squared_error: 52141176.0000 - r_square: 0.6347 - val_loss: 5287.8359 - val_mae: 5287.8359 - val_mean_squared_error: 47261264.0000 - val_r_square: 0.6854\n",
      "Epoch 17/100\n",
      "27/27 [==============================] - 0s 3ms/step - loss: 4411.2983 - mae: 4411.2983 - mean_squared_error: 48189952.0000 - r_square: 0.6623 - val_loss: 5727.6050 - val_mae: 5727.6050 - val_mean_squared_error: 78376296.0000 - val_r_square: 0.4782\n",
      "Epoch 18/100\n",
      "27/27 [==============================] - 0s 3ms/step - loss: 4253.3774 - mae: 4253.3774 - mean_squared_error: 46061232.0000 - r_square: 0.6773 - val_loss: 3811.4407 - val_mae: 3811.4407 - val_mean_squared_error: 32012218.0000 - val_r_square: 0.7869\n",
      "Epoch 19/100\n",
      "27/27 [==============================] - 0s 3ms/step - loss: 4312.0093 - mae: 4312.0093 - mean_squared_error: 48067104.0000 - r_square: 0.6632 - val_loss: 5901.8120 - val_mae: 5901.8120 - val_mean_squared_error: 75291776.0000 - val_r_square: 0.4987\n",
      "Epoch 20/100\n",
      "27/27 [==============================] - 0s 3ms/step - loss: 4364.1841 - mae: 4364.1841 - mean_squared_error: 47864440.0000 - r_square: 0.6646 - val_loss: 3310.3245 - val_mae: 3310.3245 - val_mean_squared_error: 29084954.0000 - val_r_square: 0.8064\n",
      "Epoch 21/100\n",
      "27/27 [==============================] - 0s 3ms/step - loss: 4419.1611 - mae: 4419.1611 - mean_squared_error: 51101340.0000 - r_square: 0.6419 - val_loss: 5689.0386 - val_mae: 5689.0386 - val_mean_squared_error: 73957912.0000 - val_r_square: 0.5076\n",
      "Epoch 22/100\n",
      "27/27 [==============================] - 0s 3ms/step - loss: 4249.7793 - mae: 4249.7793 - mean_squared_error: 46270300.0000 - r_square: 0.6758 - val_loss: 5610.4443 - val_mae: 5610.4443 - val_mean_squared_error: 68675248.0000 - val_r_square: 0.5428\n",
      "Epoch 23/100\n",
      "27/27 [==============================] - 0s 3ms/step - loss: 4471.4966 - mae: 4471.4966 - mean_squared_error: 51292608.0000 - r_square: 0.6406 - val_loss: 6202.9995 - val_mae: 6202.9995 - val_mean_squared_error: 74506296.0000 - val_r_square: 0.5040\n",
      "Epoch 24/100\n",
      "27/27 [==============================] - 0s 3ms/step - loss: 4136.9790 - mae: 4136.9790 - mean_squared_error: 44869192.0000 - r_square: 0.6856 - val_loss: 2617.3486 - val_mae: 2617.3486 - val_mean_squared_error: 27636052.0000 - val_r_square: 0.8160\n",
      "Epoch 25/100\n",
      "27/27 [==============================] - 0s 3ms/step - loss: 4440.9355 - mae: 4440.9355 - mean_squared_error: 52506608.0000 - r_square: 0.6321 - val_loss: 4222.2524 - val_mae: 4222.2524 - val_mean_squared_error: 35327236.0000 - val_r_square: 0.7648\n",
      "Epoch 26/100\n",
      "27/27 [==============================] - 0s 3ms/step - loss: 4491.6123 - mae: 4491.6123 - mean_squared_error: 49462872.0000 - r_square: 0.6534 - val_loss: 7832.5903 - val_mae: 7832.5903 - val_mean_squared_error: 91306624.0000 - val_r_square: 0.3921\n",
      "Epoch 27/100\n",
      "27/27 [==============================] - 0s 3ms/step - loss: 4694.0229 - mae: 4694.0229 - mean_squared_error: 56457920.0000 - r_square: 0.6044 - val_loss: 4823.6538 - val_mae: 4823.6538 - val_mean_squared_error: 39929168.0000 - val_r_square: 0.7342\n",
      "Epoch 28/100\n",
      "27/27 [==============================] - 0s 3ms/step - loss: 4931.2847 - mae: 4931.2847 - mean_squared_error: 57711004.0000 - r_square: 0.5956 - val_loss: 3379.8206 - val_mae: 3379.8206 - val_mean_squared_error: 26345932.0000 - val_r_square: 0.8246\n",
      "Epoch 29/100\n",
      "27/27 [==============================] - 0s 3ms/step - loss: 4786.8208 - mae: 4786.8208 - mean_squared_error: 54926296.0000 - r_square: 0.6151 - val_loss: 4952.3345 - val_mae: 4952.3345 - val_mean_squared_error: 55531900.0000 - val_r_square: 0.6303\n",
      "Epoch 30/100\n",
      "27/27 [==============================] - 0s 3ms/step - loss: 4233.1406 - mae: 4233.1406 - mean_squared_error: 48255788.0000 - r_square: 0.6619 - val_loss: 4327.9824 - val_mae: 4327.9824 - val_mean_squared_error: 30655188.0000 - val_r_square: 0.7959\n",
      "Epoch 31/100\n",
      "27/27 [==============================] - 0s 3ms/step - loss: 4084.9736 - mae: 4084.9736 - mean_squared_error: 45157184.0000 - r_square: 0.6836 - val_loss: 4690.2935 - val_mae: 4690.2935 - val_mean_squared_error: 54482816.0000 - val_r_square: 0.6373\n",
      "Epoch 32/100\n",
      "27/27 [==============================] - 0s 3ms/step - loss: 4316.4087 - mae: 4316.4087 - mean_squared_error: 47973564.0000 - r_square: 0.6639 - val_loss: 3339.5923 - val_mae: 3339.5923 - val_mean_squared_error: 24040680.0000 - val_r_square: 0.8399\n",
      "Epoch 33/100\n",
      "27/27 [==============================] - 0s 3ms/step - loss: 4233.4268 - mae: 4233.4268 - mean_squared_error: 46201712.0000 - r_square: 0.6763 - val_loss: 4139.0737 - val_mae: 4139.0737 - val_mean_squared_error: 29456504.0000 - val_r_square: 0.8039\n",
      "Epoch 34/100\n",
      "27/27 [==============================] - 0s 3ms/step - loss: 4616.4785 - mae: 4616.4785 - mean_squared_error: 51056644.0000 - r_square: 0.6423 - val_loss: 3643.7129 - val_mae: 3643.7129 - val_mean_squared_error: 43117608.0000 - val_r_square: 0.7129\n",
      "Epoch 35/100\n",
      "27/27 [==============================] - 0s 3ms/step - loss: 3875.3398 - mae: 3875.3398 - mean_squared_error: 38600528.0000 - r_square: 0.7295 - val_loss: 4108.4370 - val_mae: 4108.4370 - val_mean_squared_error: 44486392.0000 - val_r_square: 0.7038\n",
      "Epoch 36/100\n",
      "27/27 [==============================] - 0s 3ms/step - loss: 4454.0459 - mae: 4454.0459 - mean_squared_error: 48588160.0000 - r_square: 0.6595 - val_loss: 4928.8267 - val_mae: 4928.8267 - val_mean_squared_error: 52624624.0000 - val_r_square: 0.6496\n",
      "Epoch 37/100\n",
      "27/27 [==============================] - 0s 3ms/step - loss: 3946.8831 - mae: 3946.8831 - mean_squared_error: 40794940.0000 - r_square: 0.7142 - val_loss: 4363.8477 - val_mae: 4363.8477 - val_mean_squared_error: 44996948.0000 - val_r_square: 0.7004\n",
      "Epoch 38/100\n",
      "27/27 [==============================] - 0s 3ms/step - loss: 4239.7690 - mae: 4239.7690 - mean_squared_error: 45472348.0000 - r_square: 0.6814 - val_loss: 4890.2402 - val_mae: 4890.2402 - val_mean_squared_error: 51769400.0000 - val_r_square: 0.6553\n",
      "Epoch 39/100\n",
      "27/27 [==============================] - 0s 3ms/step - loss: 4451.4536 - mae: 4451.4536 - mean_squared_error: 47808056.0000 - r_square: 0.6650 - val_loss: 4059.5237 - val_mae: 4059.5237 - val_mean_squared_error: 45483576.0000 - val_r_square: 0.6972\n",
      "Epoch 40/100\n",
      "27/27 [==============================] - 0s 3ms/step - loss: 4024.7844 - mae: 4024.7844 - mean_squared_error: 43182808.0000 - r_square: 0.6974 - val_loss: 2721.9744 - val_mae: 2721.9744 - val_mean_squared_error: 29446740.0000 - val_r_square: 0.8040\n",
      "Epoch 41/100\n",
      "27/27 [==============================] - 0s 3ms/step - loss: 4150.1577 - mae: 4150.1577 - mean_squared_error: 44158708.0000 - r_square: 0.6906 - val_loss: 3041.0100 - val_mae: 3041.0100 - val_mean_squared_error: 23696618.0000 - val_r_square: 0.8422\n",
      "Epoch 42/100\n",
      "27/27 [==============================] - 0s 3ms/step - loss: 4384.6284 - mae: 4384.6284 - mean_squared_error: 46267376.0000 - r_square: 0.6758 - val_loss: 5304.7920 - val_mae: 5304.7925 - val_mean_squared_error: 63064868.0000 - val_r_square: 0.5801\n",
      "Epoch 43/100\n",
      "27/27 [==============================] - 0s 3ms/step - loss: 3946.7654 - mae: 3946.7654 - mean_squared_error: 42565160.0000 - r_square: 0.7018 - val_loss: 3667.0779 - val_mae: 3667.0779 - val_mean_squared_error: 26226484.0000 - val_r_square: 0.8254\n",
      "Epoch 44/100\n",
      "27/27 [==============================] - 0s 3ms/step - loss: 3996.4797 - mae: 3996.4797 - mean_squared_error: 44385404.0000 - r_square: 0.6890 - val_loss: 6960.8579 - val_mae: 6960.8579 - val_mean_squared_error: 102522584.0000 - val_r_square: 0.3174\n",
      "Epoch 45/100\n",
      "27/27 [==============================] - 0s 3ms/step - loss: 4186.0757 - mae: 4186.0757 - mean_squared_error: 45418896.0000 - r_square: 0.6818 - val_loss: 3987.3630 - val_mae: 3987.3630 - val_mean_squared_error: 40891020.0000 - val_r_square: 0.7278\n",
      "Epoch 46/100\n",
      "27/27 [==============================] - 0s 3ms/step - loss: 4132.2983 - mae: 4132.2983 - mean_squared_error: 46488020.0000 - r_square: 0.6743 - val_loss: 3588.2527 - val_mae: 3588.2527 - val_mean_squared_error: 30267990.0000 - val_r_square: 0.7985\n",
      "Epoch 47/100\n",
      "27/27 [==============================] - 0s 3ms/step - loss: 3921.2673 - mae: 3921.2673 - mean_squared_error: 42260472.0000 - r_square: 0.7039 - val_loss: 2484.4614 - val_mae: 2484.4614 - val_mean_squared_error: 25574322.0000 - val_r_square: 0.8297\n",
      "Epoch 48/100\n",
      "27/27 [==============================] - 0s 3ms/step - loss: 3746.5598 - mae: 3746.5598 - mean_squared_error: 38850236.0000 - r_square: 0.7278 - val_loss: 3919.6787 - val_mae: 3919.6787 - val_mean_squared_error: 28638902.0000 - val_r_square: 0.8093\n",
      "Epoch 49/100\n",
      "27/27 [==============================] - 0s 3ms/step - loss: 4047.2222 - mae: 4047.2222 - mean_squared_error: 44376888.0000 - r_square: 0.6891 - val_loss: 3047.7366 - val_mae: 3047.7366 - val_mean_squared_error: 24207742.0000 - val_r_square: 0.8388\n",
      "Epoch 50/100\n",
      "27/27 [==============================] - 0s 3ms/step - loss: 3900.8113 - mae: 3900.8113 - mean_squared_error: 42295872.0000 - r_square: 0.7036 - val_loss: 3982.3992 - val_mae: 3982.3992 - val_mean_squared_error: 33699996.0000 - val_r_square: 0.7756\n",
      "Epoch 51/100\n",
      "27/27 [==============================] - 0s 3ms/step - loss: 3668.9509 - mae: 3668.9509 - mean_squared_error: 37735864.0000 - r_square: 0.7356 - val_loss: 4606.3843 - val_mae: 4606.3843 - val_mean_squared_error: 39835080.0000 - val_r_square: 0.7348\n",
      "Epoch 52/100\n",
      "27/27 [==============================] - 0s 3ms/step - loss: 3572.3889 - mae: 3572.3889 - mean_squared_error: 35527012.0000 - r_square: 0.7511 - val_loss: 2929.8428 - val_mae: 2929.8428 - val_mean_squared_error: 23085444.0000 - val_r_square: 0.8463\n",
      "Epoch 53/100\n",
      "27/27 [==============================] - 0s 3ms/step - loss: 3508.0042 - mae: 3508.0042 - mean_squared_error: 37273612.0000 - r_square: 0.7388 - val_loss: 3410.3792 - val_mae: 3410.3792 - val_mean_squared_error: 25256538.0000 - val_r_square: 0.8319\n",
      "Epoch 54/100\n",
      "27/27 [==============================] - 0s 3ms/step - loss: 4109.1182 - mae: 4109.1182 - mean_squared_error: 46101120.0000 - r_square: 0.6770 - val_loss: 4551.7490 - val_mae: 4551.7490 - val_mean_squared_error: 52576764.0000 - val_r_square: 0.6500\n",
      "Epoch 55/100\n",
      "27/27 [==============================] - 0s 3ms/step - loss: 3757.7283 - mae: 3757.7283 - mean_squared_error: 43117968.0000 - r_square: 0.6979 - val_loss: 3406.2305 - val_mae: 3406.2305 - val_mean_squared_error: 24429128.0000 - val_r_square: 0.8374\n",
      "Epoch 56/100\n",
      "27/27 [==============================] - 0s 3ms/step - loss: 3601.5393 - mae: 3601.5393 - mean_squared_error: 38280204.0000 - r_square: 0.7318 - val_loss: 5534.8984 - val_mae: 5534.8984 - val_mean_squared_error: 64462412.0000 - val_r_square: 0.5708\n",
      "Epoch 57/100\n",
      "27/27 [==============================] - 0s 3ms/step - loss: 3652.6536 - mae: 3652.6536 - mean_squared_error: 39039528.0000 - r_square: 0.7265 - val_loss: 3437.6443 - val_mae: 3437.6443 - val_mean_squared_error: 27632742.0000 - val_r_square: 0.8160\n",
      "Epoch 58/100\n",
      "27/27 [==============================] - 0s 3ms/step - loss: 3561.7056 - mae: 3561.7056 - mean_squared_error: 37125700.0000 - r_square: 0.7399 - val_loss: 4794.4028 - val_mae: 4794.4028 - val_mean_squared_error: 53724408.0000 - val_r_square: 0.6423\n",
      "Epoch 59/100\n",
      "27/27 [==============================] - 0s 3ms/step - loss: 3657.8516 - mae: 3657.8516 - mean_squared_error: 39066056.0000 - r_square: 0.7263 - val_loss: 2421.1086 - val_mae: 2421.1086 - val_mean_squared_error: 23731356.0000 - val_r_square: 0.8420\n",
      "Epoch 60/100\n",
      "27/27 [==============================] - 0s 3ms/step - loss: 3455.2571 - mae: 3455.2571 - mean_squared_error: 36046424.0000 - r_square: 0.7474 - val_loss: 3900.7383 - val_mae: 3900.7383 - val_mean_squared_error: 40618576.0000 - val_r_square: 0.7296\n",
      "Epoch 61/100\n",
      "27/27 [==============================] - 0s 3ms/step - loss: 3470.0488 - mae: 3470.0488 - mean_squared_error: 35819104.0000 - r_square: 0.7490 - val_loss: 3058.6553 - val_mae: 3058.6553 - val_mean_squared_error: 23828970.0000 - val_r_square: 0.8414\n",
      "Epoch 62/100\n",
      "27/27 [==============================] - 0s 3ms/step - loss: 3558.6843 - mae: 3558.6843 - mean_squared_error: 38030260.0000 - r_square: 0.7335 - val_loss: 4029.3813 - val_mae: 4029.3813 - val_mean_squared_error: 27266800.0000 - val_r_square: 0.8185\n",
      "Epoch 63/100\n",
      "27/27 [==============================] - 0s 3ms/step - loss: 3582.3306 - mae: 3582.3306 - mean_squared_error: 37860652.0000 - r_square: 0.7347 - val_loss: 2528.5664 - val_mae: 2528.5664 - val_mean_squared_error: 24862846.0000 - val_r_square: 0.8345\n",
      "Epoch 64/100\n",
      "27/27 [==============================] - 0s 3ms/step - loss: 3422.0381 - mae: 3422.0381 - mean_squared_error: 35476364.0000 - r_square: 0.7514 - val_loss: 2776.5569 - val_mae: 2776.5569 - val_mean_squared_error: 23930870.0000 - val_r_square: 0.8407\n",
      "Epoch 65/100\n",
      "27/27 [==============================] - 0s 3ms/step - loss: 3413.8875 - mae: 3413.8875 - mean_squared_error: 36200048.0000 - r_square: 0.7464 - val_loss: 3099.8350 - val_mae: 3099.8350 - val_mean_squared_error: 25617700.0000 - val_r_square: 0.8294\n",
      "Epoch 66/100\n",
      "27/27 [==============================] - 0s 3ms/step - loss: 3579.6313 - mae: 3579.6313 - mean_squared_error: 39384852.0000 - r_square: 0.7240 - val_loss: 2721.1438 - val_mae: 2721.1438 - val_mean_squared_error: 24162156.0000 - val_r_square: 0.8391\n",
      "Epoch 67/100\n",
      "27/27 [==============================] - 0s 3ms/step - loss: 3317.9631 - mae: 3317.9631 - mean_squared_error: 34955464.0000 - r_square: 0.7551 - val_loss: 3994.0583 - val_mae: 3994.0583 - val_mean_squared_error: 43150560.0000 - val_r_square: 0.7127\n",
      "Epoch 68/100\n",
      "27/27 [==============================] - 0s 3ms/step - loss: 3568.3796 - mae: 3568.3796 - mean_squared_error: 37443528.0000 - r_square: 0.7376 - val_loss: 5289.7925 - val_mae: 5289.7925 - val_mean_squared_error: 63368268.0000 - val_r_square: 0.5781\n",
      "Epoch 69/100\n",
      "27/27 [==============================] - 0s 3ms/step - loss: 3497.2468 - mae: 3497.2468 - mean_squared_error: 38790644.0000 - r_square: 0.7282 - val_loss: 3345.8198 - val_mae: 3345.8198 - val_mean_squared_error: 32686602.0000 - val_r_square: 0.7824\n",
      "Epoch 70/100\n",
      "27/27 [==============================] - 0s 3ms/step - loss: 3035.5044 - mae: 3035.5044 - mean_squared_error: 32154378.0000 - r_square: 0.7747 - val_loss: 3809.7908 - val_mae: 3809.7908 - val_mean_squared_error: 32234070.0000 - val_r_square: 0.7854\n",
      "Epoch 71/100\n",
      "27/27 [==============================] - 0s 3ms/step - loss: 3209.0132 - mae: 3209.0132 - mean_squared_error: 33451094.0000 - r_square: 0.7656 - val_loss: 3511.4131 - val_mae: 3511.4131 - val_mean_squared_error: 32438800.0000 - val_r_square: 0.7840\n",
      "Epoch 72/100\n",
      "27/27 [==============================] - 0s 3ms/step - loss: 3107.0908 - mae: 3107.0908 - mean_squared_error: 32147522.0000 - r_square: 0.7747 - val_loss: 3126.4744 - val_mae: 3126.4744 - val_mean_squared_error: 22974436.0000 - val_r_square: 0.8470\n",
      "Epoch 73/100\n",
      "27/27 [==============================] - 0s 3ms/step - loss: 3382.2581 - mae: 3382.2581 - mean_squared_error: 35626004.0000 - r_square: 0.7504 - val_loss: 4564.8623 - val_mae: 4564.8623 - val_mean_squared_error: 53868016.0000 - val_r_square: 0.6414\n",
      "Epoch 74/100\n",
      "27/27 [==============================] - 0s 3ms/step - loss: 3538.5911 - mae: 3538.5911 - mean_squared_error: 37079212.0000 - r_square: 0.7402 - val_loss: 4183.0645 - val_mae: 4183.0645 - val_mean_squared_error: 45293372.0000 - val_r_square: 0.6985\n",
      "Epoch 75/100\n",
      "27/27 [==============================] - 0s 3ms/step - loss: 3283.0359 - mae: 3283.0359 - mean_squared_error: 34833988.0000 - r_square: 0.7559 - val_loss: 2393.5107 - val_mae: 2393.5107 - val_mean_squared_error: 26706064.0000 - val_r_square: 0.8222\n",
      "Epoch 76/100\n",
      "27/27 [==============================] - 0s 3ms/step - loss: 3473.3518 - mae: 3473.3518 - mean_squared_error: 35852684.0000 - r_square: 0.7488 - val_loss: 2826.6729 - val_mae: 2826.6729 - val_mean_squared_error: 25034352.0000 - val_r_square: 0.8333\n",
      "Epoch 77/100\n",
      "27/27 [==============================] - 0s 3ms/step - loss: 3381.2847 - mae: 3381.2847 - mean_squared_error: 36196500.0000 - r_square: 0.7464 - val_loss: 2730.9006 - val_mae: 2730.9006 - val_mean_squared_error: 24124880.0000 - val_r_square: 0.8394\n",
      "Epoch 78/100\n",
      "27/27 [==============================] - 0s 3ms/step - loss: 3408.7336 - mae: 3408.7336 - mean_squared_error: 35138320.0000 - r_square: 0.7538 - val_loss: 3586.9150 - val_mae: 3586.9150 - val_mean_squared_error: 27614132.0000 - val_r_square: 0.8162\n",
      "Epoch 79/100\n",
      "27/27 [==============================] - 0s 3ms/step - loss: 3416.3398 - mae: 3416.3398 - mean_squared_error: 33960748.0000 - r_square: 0.7620 - val_loss: 2984.7708 - val_mae: 2984.7708 - val_mean_squared_error: 29549162.0000 - val_r_square: 0.8033\n",
      "Epoch 80/100\n",
      "27/27 [==============================] - 0s 3ms/step - loss: 3330.4563 - mae: 3330.4563 - mean_squared_error: 34442428.0000 - r_square: 0.7587 - val_loss: 2919.2302 - val_mae: 2919.2302 - val_mean_squared_error: 30923042.0000 - val_r_square: 0.7941\n",
      "Epoch 81/100\n",
      "27/27 [==============================] - 0s 3ms/step - loss: 3199.0935 - mae: 3199.0935 - mean_squared_error: 33076624.0000 - r_square: 0.7682 - val_loss: 2658.2219 - val_mae: 2658.2219 - val_mean_squared_error: 27532906.0000 - val_r_square: 0.8167\n",
      "Epoch 82/100\n",
      "27/27 [==============================] - 0s 3ms/step - loss: 3445.4346 - mae: 3445.4346 - mean_squared_error: 36112548.0000 - r_square: 0.7470 - val_loss: 2732.7273 - val_mae: 2732.7275 - val_mean_squared_error: 26759850.0000 - val_r_square: 0.8218\n",
      "Epoch 83/100\n",
      "27/27 [==============================] - 0s 3ms/step - loss: 3134.7324 - mae: 3134.7324 - mean_squared_error: 33328504.0000 - r_square: 0.7665 - val_loss: 2903.5024 - val_mae: 2903.5024 - val_mean_squared_error: 26355836.0000 - val_r_square: 0.8245\n",
      "Epoch 84/100\n",
      "27/27 [==============================] - 0s 3ms/step - loss: 3304.3113 - mae: 3304.3113 - mean_squared_error: 36143444.0000 - r_square: 0.7467 - val_loss: 2475.1826 - val_mae: 2475.1829 - val_mean_squared_error: 23502548.0000 - val_r_square: 0.8435\n",
      "Epoch 85/100\n",
      "27/27 [==============================] - 0s 3ms/step - loss: 3378.2310 - mae: 3378.2310 - mean_squared_error: 34166228.0000 - r_square: 0.7606 - val_loss: 2912.9365 - val_mae: 2912.9365 - val_mean_squared_error: 23832640.0000 - val_r_square: 0.8413\n",
      "Epoch 86/100\n",
      "27/27 [==============================] - 0s 3ms/step - loss: 3608.4177 - mae: 3608.4177 - mean_squared_error: 39365532.0000 - r_square: 0.7242 - val_loss: 3547.4824 - val_mae: 3547.4824 - val_mean_squared_error: 36177648.0000 - val_r_square: 0.7591\n",
      "Epoch 87/100\n",
      "27/27 [==============================] - 0s 3ms/step - loss: 3441.5579 - mae: 3441.5579 - mean_squared_error: 36156844.0000 - r_square: 0.7467 - val_loss: 3640.3071 - val_mae: 3640.3071 - val_mean_squared_error: 46474184.0000 - val_r_square: 0.6906\n",
      "Epoch 88/100\n",
      "27/27 [==============================] - 0s 3ms/step - loss: 3414.9841 - mae: 3414.9841 - mean_squared_error: 35589360.0000 - r_square: 0.7506 - val_loss: 2359.8330 - val_mae: 2359.8330 - val_mean_squared_error: 26714918.0000 - val_r_square: 0.8221\n",
      "Epoch 89/100\n",
      "27/27 [==============================] - 0s 3ms/step - loss: 3274.8040 - mae: 3274.8040 - mean_squared_error: 33923136.0000 - r_square: 0.7623 - val_loss: 3045.7859 - val_mae: 3045.7859 - val_mean_squared_error: 40216348.0000 - val_r_square: 0.7323\n",
      "Epoch 90/100\n",
      "27/27 [==============================] - 0s 3ms/step - loss: 3170.5920 - mae: 3170.5920 - mean_squared_error: 33171570.0000 - r_square: 0.7676 - val_loss: 3087.4602 - val_mae: 3087.4602 - val_mean_squared_error: 39740556.0000 - val_r_square: 0.7354\n",
      "Epoch 91/100\n",
      "27/27 [==============================] - 0s 3ms/step - loss: 3211.2932 - mae: 3211.2932 - mean_squared_error: 32880266.0000 - r_square: 0.7696 - val_loss: 2686.3420 - val_mae: 2686.3420 - val_mean_squared_error: 21289264.0000 - val_r_square: 0.8583\n",
      "Epoch 92/100\n",
      "27/27 [==============================] - 0s 3ms/step - loss: 3268.0359 - mae: 3268.0359 - mean_squared_error: 35115732.0000 - r_square: 0.7539 - val_loss: 2412.4321 - val_mae: 2412.4321 - val_mean_squared_error: 22861518.0000 - val_r_square: 0.8478\n",
      "Epoch 93/100\n",
      "27/27 [==============================] - 0s 3ms/step - loss: 3109.6643 - mae: 3109.6643 - mean_squared_error: 32239078.0000 - r_square: 0.7741 - val_loss: 2978.8750 - val_mae: 2978.8750 - val_mean_squared_error: 34680164.0000 - val_r_square: 0.7691\n",
      "Epoch 94/100\n",
      "27/27 [==============================] - 0s 3ms/step - loss: 3351.3218 - mae: 3351.3218 - mean_squared_error: 36761988.0000 - r_square: 0.7424 - val_loss: 2414.9187 - val_mae: 2414.9187 - val_mean_squared_error: 23290184.0000 - val_r_square: 0.8449\n",
      "Epoch 95/100\n",
      "27/27 [==============================] - 0s 3ms/step - loss: 3120.4875 - mae: 3120.4875 - mean_squared_error: 32881644.0000 - r_square: 0.7696 - val_loss: 2943.1609 - val_mae: 2943.1609 - val_mean_squared_error: 22310688.0000 - val_r_square: 0.8515\n",
      "Epoch 96/100\n",
      "27/27 [==============================] - 0s 3ms/step - loss: 3327.0068 - mae: 3327.0068 - mean_squared_error: 35388912.0000 - r_square: 0.7520 - val_loss: 2566.2859 - val_mae: 2566.2859 - val_mean_squared_error: 22161120.0000 - val_r_square: 0.8525\n",
      "Epoch 97/100\n",
      "27/27 [==============================] - 0s 3ms/step - loss: 3189.4109 - mae: 3189.4109 - mean_squared_error: 33926832.0000 - r_square: 0.7623 - val_loss: 3014.4312 - val_mae: 3014.4312 - val_mean_squared_error: 30781086.0000 - val_r_square: 0.7951\n",
      "Epoch 98/100\n",
      "27/27 [==============================] - 0s 3ms/step - loss: 3115.3435 - mae: 3115.3435 - mean_squared_error: 33369376.0000 - r_square: 0.7662 - val_loss: 2776.9929 - val_mae: 2776.9929 - val_mean_squared_error: 29505394.0000 - val_r_square: 0.8036\n",
      "Epoch 99/100\n",
      "27/27 [==============================] - 0s 3ms/step - loss: 3324.3774 - mae: 3324.3774 - mean_squared_error: 34351576.0000 - r_square: 0.7593 - val_loss: 2921.6130 - val_mae: 2921.6130 - val_mean_squared_error: 35755688.0000 - val_r_square: 0.7620\n",
      "Epoch 100/100\n",
      "27/27 [==============================] - 0s 3ms/step - loss: 3628.0657 - mae: 3628.0657 - mean_squared_error: 40812096.0000 - r_square: 0.7140 - val_loss: 2556.0754 - val_mae: 2556.0754 - val_mean_squared_error: 28207592.0000 - val_r_square: 0.8122\n"
     ]
    }
   ],
   "source": [
    "# DNN: train\n",
    "dnn_history = dnn_model.fit(\n",
    "    X_train,\n",
    "    y_train,\n",
    "    #batch_size=16,\n",
    "    shuffle=True,\n",
    "    validation_split=validation_split_size,\n",
    "    epochs=100)"
   ]
  },
  {
   "cell_type": "code",
   "execution_count": 10,
   "metadata": {
    "collapsed": false
   },
   "outputs": [
    {
     "data": {
      "image/png": "[encoded data removed]",
      "text/plain": [
       "<Figure size 432x288 with 1 Axes>"
      ]
     },
     "metadata": {
      "needs_background": "light"
     },
     "output_type": "display_data"
    }
   ],
   "source": [
    "plot_loss(dnn_history, y_min=0.5, y_max=0.9)"
   ]
  },
  {
   "cell_type": "code",
   "execution_count": 10,
   "metadata": {
    "collapsed": false
   },
   "outputs": [
    {
     "name": "stdout",
     "output_type": "stream",
     "text": [
      "1/1 [==============================] - 0s 104ms/step\n"
     ]
    },
    {
     "data": {
      "text/plain": [
       "array([[11031.147]], dtype=float32)"
      ]
     },
     "execution_count": 10,
     "metadata": {},
     "output_type": "execute_result"
    }
   ],
   "source": [
    "# 'age', 'sex', 'bmi', 'children', 'smoker', 'region'\n",
    "dnn_model.predict([[0.9, 0, 0, 0.1, 0, 0,0,0,1]])"
   ]
  },
  {
   "cell_type": "markdown",
   "metadata": {
    "collapsed": false
   },
   "source": [
    "#### keras tune: DNN Hyper search"
   ]
  },
  {
   "cell_type": "code",
   "execution_count": 33,
   "metadata": {
    "collapsed": false
   },
   "outputs": [],
   "source": [
    "from tensorflow import keras\n",
    "from keras import layers\n",
    "from tensorflow_addons.metrics import RSquare"
   ]
  },
  {
   "cell_type": "code",
   "execution_count": 34,
   "metadata": {
    "collapsed": false
   },
   "outputs": [],
   "source": [
    "\n",
    "def build_model(hp):\n",
    "    model = keras.Sequential()\n",
    "    model.add(\n",
    "        layers.Dense(\n",
    "            # Define the hyperparameter.\n",
    "            units=hp.Int(\"units_0\", min_value=8, max_value=64, step=8),\n",
    "            activation=\"relu\",\n",
    "        )\n",
    "    )\n",
    "    if hp.Boolean(\"dropout\"):\n",
    "        model.add(layers.Dropout(\n",
    "            rate=hp.Float(\"dropout_rate\", min_value=0.1, max_value=0.3, step=0.05)\n",
    "        ))\n",
    "    model.add(\n",
    "        layers.Dense(\n",
    "            # Define the hyperparameter.\n",
    "            units=hp.Int(\"units_1\", min_value=2, max_value=14, step=4),\n",
    "            activation=\"relu\",\n",
    "        )\n",
    "    )\n",
    "    model.add(layers.Dense(1))\n",
    "    model.compile(\n",
    "        optimizer=\"sgd\",\n",
    "        loss=\"mae\",\n",
    "        metrics=[\"mae\", 'mean_squared_error', RSquare()],\n",
    "    )\n",
    "    return model"
   ]
  },
  {
   "cell_type": "code",
   "execution_count": 53,
   "metadata": {
    "collapsed": false
   },
   "outputs": [],
   "source": [
    "import keras_tuner\n",
    "\n",
    "build_model(keras_tuner.HyperParameters())\n",
    "\n",
    "tuner = keras_tuner.RandomSearch(\n",
    "    hypermodel=build_model,\n",
    "    objective=\"val_mae\",\n",
    "    max_trials=3,\n",
    "    executions_per_trial=2,\n",
    "    overwrite=True,\n",
    "    directory=\"keras_tune_results\",\n",
    "    project_name=\"insurance-dnn-tuner\",\n",
    ")\n"
   ]
  },
  {
   "cell_type": "code",
   "execution_count": 54,
   "metadata": {
    "collapsed": false
   },
   "outputs": [
    {
     "name": "stdout",
     "output_type": "stream",
     "text": [
      "Trial 3 Complete [00h 00m 19s]\n",
      "val_mae: 2133.479736328125\n",
      "\n",
      "Best val_mae So Far: 2133.479736328125\n",
      "Total elapsed time: 00h 00m 58s\n",
      "INFO:tensorflow:Oracle triggered exit\n"
     ]
    }
   ],
   "source": [
    "tuner.search(X_train, y_train, epochs=100, validation_split=validation_split_size)"
   ]
  },
  {
   "cell_type": "code",
   "execution_count": 60,
   "metadata": {
    "collapsed": false
   },
   "outputs": [
    {
     "name": "stdout",
     "output_type": "stream",
     "text": [
      "Model: \"sequential_3\"\n",
      "_________________________________________________________________\n",
      " Layer (type)                Output Shape              Param #   \n",
      "=================================================================\n",
      " dense_6 (Dense)             (None, 16)                160       \n",
      "                                                                 \n",
      " dense_7 (Dense)             (None, 2)                 34        \n",
      "                                                                 \n",
      " dense_8 (Dense)             (None, 1)                 3         \n",
      "                                                                 \n",
      "=================================================================\n",
      "Total params: 197\n",
      "Trainable params: 197\n",
      "Non-trainable params: 0\n",
      "_________________________________________________________________\n"
     ]
    }
   ],
   "source": [
    "best_hps = tuner.get_best_hyperparameters(5)\n",
    "best_model = build_model(best_hps[0])\n",
    "best_model.build(input_shape=(None,9))\n",
    "#best_model.build(input_shape=(None,9))\n",
    "best_model.summary()"
   ]
  },
  {
   "cell_type": "code",
   "execution_count": 61,
   "metadata": {
    "collapsed": false
   },
   "outputs": [
    {
     "name": "stdout",
     "output_type": "stream",
     "text": [
      "Epoch 1/100\n",
      "27/27 [==============================] - 1s 9ms/step - loss: 13518.7080 - mae: 13518.7080 - mean_squared_error: 325472576.0000 - r_square: -1.2805 - val_loss: 12655.3496 - val_mae: 12655.3496 - val_mean_squared_error: 310362912.0000 - val_r_square: -1.0663\n",
      "Epoch 2/100\n",
      "27/27 [==============================] - 0s 3ms/step - loss: 13518.3398 - mae: 13518.3398 - mean_squared_error: 325462336.0000 - r_square: -1.2805 - val_loss: 12655.0400 - val_mae: 12655.0400 - val_mean_squared_error: 310355168.0000 - val_r_square: -1.0662\n",
      "Epoch 3/100\n",
      "27/27 [==============================] - 0s 3ms/step - loss: 13518.0469 - mae: 13518.0469 - mean_squared_error: 325454464.0000 - r_square: -1.2804 - val_loss: 12654.7598 - val_mae: 12654.7598 - val_mean_squared_error: 310348064.0000 - val_r_square: -1.0662\n",
      "Epoch 4/100\n",
      "27/27 [==============================] - 0s 3ms/step - loss: 13517.7656 - mae: 13517.7656 - mean_squared_error: 325446880.0000 - r_square: -1.2804 - val_loss: 12654.4785 - val_mae: 12654.4785 - val_mean_squared_error: 310340992.0000 - val_r_square: -1.0661\n",
      "Epoch 5/100\n",
      "27/27 [==============================] - 0s 3ms/step - loss: 13517.4863 - mae: 13517.4863 - mean_squared_error: 325439136.0000 - r_square: -1.2803 - val_loss: 12654.1943 - val_mae: 12654.1943 - val_mean_squared_error: 310333728.0000 - val_r_square: -1.0661\n",
      "Epoch 6/100\n",
      "27/27 [==============================] - 0s 3ms/step - loss: 13517.1924 - mae: 13517.1924 - mean_squared_error: 325431264.0000 - r_square: -1.2803 - val_loss: 12653.8877 - val_mae: 12653.8877 - val_mean_squared_error: 310325920.0000 - val_r_square: -1.0660\n",
      "Epoch 7/100\n",
      "27/27 [==============================] - 0s 3ms/step - loss: 13516.8643 - mae: 13516.8643 - mean_squared_error: 325422304.0000 - r_square: -1.2802 - val_loss: 12653.5254 - val_mae: 12653.5254 - val_mean_squared_error: 310316480.0000 - val_r_square: -1.0660\n",
      "Epoch 8/100\n",
      "27/27 [==============================] - 0s 3ms/step - loss: 13516.4307 - mae: 13516.4307 - mean_squared_error: 325410624.0000 - r_square: -1.2801 - val_loss: 12652.9834 - val_mae: 12652.9834 - val_mean_squared_error: 310302208.0000 - val_r_square: -1.0659\n",
      "Epoch 9/100\n",
      "27/27 [==============================] - 0s 3ms/step - loss: 13515.6572 - mae: 13515.6572 - mean_squared_error: 325389024.0000 - r_square: -1.2800 - val_loss: 12651.8291 - val_mae: 12651.8291 - val_mean_squared_error: 310271296.0000 - val_r_square: -1.0657\n",
      "Epoch 10/100\n",
      "27/27 [==============================] - 0s 3ms/step - loss: 13513.4326 - mae: 13513.4326 - mean_squared_error: 325327712.0000 - r_square: -1.2795 - val_loss: 12647.4639 - val_mae: 12647.4639 - val_mean_squared_error: 310152768.0000 - val_r_square: -1.0649\n",
      "Epoch 11/100\n",
      "27/27 [==============================] - 0s 3ms/step - loss: 13497.0723 - mae: 13497.0723 - mean_squared_error: 324876320.0000 - r_square: -1.2764 - val_loss: 12591.0322 - val_mae: 12591.0322 - val_mean_squared_error: 308620992.0000 - val_r_square: -1.0547\n",
      "Epoch 12/100\n",
      "27/27 [==============================] - 0s 3ms/step - loss: 11195.2393 - mae: 11195.2393 - mean_squared_error: 256021472.0000 - r_square: -0.7939 - val_loss: 6879.8682 - val_mae: 6879.8682 - val_mean_squared_error: 117771888.0000 - val_r_square: 0.2159\n",
      "Epoch 13/100\n",
      "27/27 [==============================] - 0s 3ms/step - loss: 6076.4595 - mae: 6076.4595 - mean_squared_error: 86657312.0000 - r_square: 0.3928 - val_loss: 4942.4307 - val_mae: 4942.4307 - val_mean_squared_error: 49100748.0000 - val_r_square: 0.6731\n",
      "Epoch 14/100\n",
      "27/27 [==============================] - 0s 3ms/step - loss: 5453.4712 - mae: 5453.4712 - mean_squared_error: 66076568.0000 - r_square: 0.5370 - val_loss: 5691.9712 - val_mae: 5691.9712 - val_mean_squared_error: 82680632.0000 - val_r_square: 0.4495\n",
      "Epoch 15/100\n",
      "27/27 [==============================] - 0s 3ms/step - loss: 4938.6509 - mae: 4938.6509 - mean_squared_error: 55966132.0000 - r_square: 0.6079 - val_loss: 4402.7554 - val_mae: 4402.7554 - val_mean_squared_error: 39374060.0000 - val_r_square: 0.7379\n",
      "Epoch 16/100\n",
      "27/27 [==============================] - 0s 3ms/step - loss: 4871.6719 - mae: 4871.6719 - mean_squared_error: 53847128.0000 - r_square: 0.6227 - val_loss: 6196.1899 - val_mae: 6196.1899 - val_mean_squared_error: 66029576.0000 - val_r_square: 0.5604\n",
      "Epoch 17/100\n",
      "27/27 [==============================] - 0s 3ms/step - loss: 4875.8340 - mae: 4875.8340 - mean_squared_error: 53678724.0000 - r_square: 0.6239 - val_loss: 3692.5984 - val_mae: 3692.5984 - val_mean_squared_error: 41660384.0000 - val_r_square: 0.7226\n",
      "Epoch 18/100\n",
      "27/27 [==============================] - 0s 3ms/step - loss: 5004.1646 - mae: 5004.1646 - mean_squared_error: 58813716.0000 - r_square: 0.5879 - val_loss: 3783.7637 - val_mae: 3783.7637 - val_mean_squared_error: 43231724.0000 - val_r_square: 0.7122\n",
      "Epoch 19/100\n",
      "27/27 [==============================] - 0s 3ms/step - loss: 4591.6001 - mae: 4591.6001 - mean_squared_error: 51762856.0000 - r_square: 0.6373 - val_loss: 4362.3428 - val_mae: 4362.3428 - val_mean_squared_error: 54081564.0000 - val_r_square: 0.6399\n",
      "Epoch 20/100\n",
      "27/27 [==============================] - 0s 3ms/step - loss: 4792.4399 - mae: 4792.4399 - mean_squared_error: 54635152.0000 - r_square: 0.6172 - val_loss: 5290.3315 - val_mae: 5290.3315 - val_mean_squared_error: 48998956.0000 - val_r_square: 0.6738\n",
      "Epoch 21/100\n",
      "27/27 [==============================] - 0s 3ms/step - loss: 4223.3672 - mae: 4223.3672 - mean_squared_error: 45950368.0000 - r_square: 0.6780 - val_loss: 4694.5073 - val_mae: 4694.5073 - val_mean_squared_error: 61895380.0000 - val_r_square: 0.5879\n",
      "Epoch 22/100\n",
      "27/27 [==============================] - 0s 3ms/step - loss: 4665.9990 - mae: 4665.9990 - mean_squared_error: 52332844.0000 - r_square: 0.6333 - val_loss: 3174.6982 - val_mae: 3174.6982 - val_mean_squared_error: 36658972.0000 - val_r_square: 0.7559\n",
      "Epoch 23/100\n",
      "27/27 [==============================] - 0s 3ms/step - loss: 3993.4736 - mae: 3993.4736 - mean_squared_error: 44798580.0000 - r_square: 0.6861 - val_loss: 5795.5288 - val_mae: 5795.5288 - val_mean_squared_error: 55935172.0000 - val_r_square: 0.6276\n",
      "Epoch 24/100\n",
      "27/27 [==============================] - 0s 3ms/step - loss: 4287.7134 - mae: 4287.7134 - mean_squared_error: 46031928.0000 - r_square: 0.6775 - val_loss: 5936.5894 - val_mae: 5936.5894 - val_mean_squared_error: 54846008.0000 - val_r_square: 0.6349\n",
      "Epoch 25/100\n",
      "27/27 [==============================] - 0s 3ms/step - loss: 4765.9531 - mae: 4765.9531 - mean_squared_error: 56144600.0000 - r_square: 0.6066 - val_loss: 3004.6448 - val_mae: 3004.6448 - val_mean_squared_error: 33905880.0000 - val_r_square: 0.7743\n",
      "Epoch 26/100\n",
      "27/27 [==============================] - 0s 3ms/step - loss: 4392.9619 - mae: 4392.9619 - mean_squared_error: 48042584.0000 - r_square: 0.6634 - val_loss: 5190.3813 - val_mae: 5190.3813 - val_mean_squared_error: 65236916.0000 - val_r_square: 0.5657\n",
      "Epoch 27/100\n",
      "27/27 [==============================] - 0s 3ms/step - loss: 4680.7480 - mae: 4680.7480 - mean_squared_error: 50273612.0000 - r_square: 0.6477 - val_loss: 2988.4304 - val_mae: 2988.4304 - val_mean_squared_error: 31935942.0000 - val_r_square: 0.7874\n",
      "Epoch 28/100\n",
      "27/27 [==============================] - 0s 3ms/step - loss: 4351.2188 - mae: 4351.2188 - mean_squared_error: 43814000.0000 - r_square: 0.6930 - val_loss: 4010.5793 - val_mae: 4010.5793 - val_mean_squared_error: 44776552.0000 - val_r_square: 0.7019\n",
      "Epoch 29/100\n",
      "27/27 [==============================] - 0s 3ms/step - loss: 4155.8701 - mae: 4155.8701 - mean_squared_error: 45695680.0000 - r_square: 0.6798 - val_loss: 4370.2261 - val_mae: 4370.2261 - val_mean_squared_error: 51415508.0000 - val_r_square: 0.6577\n",
      "Epoch 30/100\n",
      "27/27 [==============================] - 0s 3ms/step - loss: 4333.6470 - mae: 4333.6470 - mean_squared_error: 47805924.0000 - r_square: 0.6650 - val_loss: 5624.7798 - val_mae: 5624.7798 - val_mean_squared_error: 62755176.0000 - val_r_square: 0.5822\n",
      "Epoch 31/100\n",
      "27/27 [==============================] - 0s 3ms/step - loss: 4645.2612 - mae: 4645.2612 - mean_squared_error: 50984968.0000 - r_square: 0.6428 - val_loss: 3618.3794 - val_mae: 3618.3794 - val_mean_squared_error: 42196264.0000 - val_r_square: 0.7191\n",
      "Epoch 32/100\n",
      "27/27 [==============================] - 0s 3ms/step - loss: 4486.8740 - mae: 4486.8740 - mean_squared_error: 51929996.0000 - r_square: 0.6361 - val_loss: 3861.8149 - val_mae: 3861.8149 - val_mean_squared_error: 27508628.0000 - val_r_square: 0.8169\n",
      "Epoch 33/100\n",
      "27/27 [==============================] - 0s 3ms/step - loss: 4832.9512 - mae: 4832.9512 - mean_squared_error: 51584612.0000 - r_square: 0.6386 - val_loss: 6584.7363 - val_mae: 6584.7363 - val_mean_squared_error: 86056080.0000 - val_r_square: 0.4271\n",
      "Epoch 34/100\n",
      "27/27 [==============================] - 0s 3ms/step - loss: 4200.0469 - mae: 4200.0469 - mean_squared_error: 43292876.0000 - r_square: 0.6967 - val_loss: 5010.1807 - val_mae: 5010.1807 - val_mean_squared_error: 50354956.0000 - val_r_square: 0.6648\n",
      "Epoch 35/100\n",
      "27/27 [==============================] - 0s 3ms/step - loss: 4564.9111 - mae: 4564.9111 - mean_squared_error: 52018832.0000 - r_square: 0.6355 - val_loss: 4650.2241 - val_mae: 4650.2241 - val_mean_squared_error: 38943712.0000 - val_r_square: 0.7407\n",
      "Epoch 36/100\n",
      "27/27 [==============================] - 0s 3ms/step - loss: 4709.9536 - mae: 4709.9536 - mean_squared_error: 51263240.0000 - r_square: 0.6408 - val_loss: 3226.4905 - val_mae: 3226.4905 - val_mean_squared_error: 39322884.0000 - val_r_square: 0.7382\n",
      "Epoch 37/100\n",
      "27/27 [==============================] - 0s 3ms/step - loss: 4313.3516 - mae: 4313.3516 - mean_squared_error: 42903876.0000 - r_square: 0.6994 - val_loss: 4104.2710 - val_mae: 4104.2710 - val_mean_squared_error: 31973288.0000 - val_r_square: 0.7871\n",
      "Epoch 38/100\n",
      "27/27 [==============================] - 0s 3ms/step - loss: 4353.6890 - mae: 4353.6890 - mean_squared_error: 47348812.0000 - r_square: 0.6682 - val_loss: 3562.1707 - val_mae: 3562.1707 - val_mean_squared_error: 30945308.0000 - val_r_square: 0.7940\n",
      "Epoch 39/100\n",
      "27/27 [==============================] - 0s 3ms/step - loss: 4081.6448 - mae: 4081.6448 - mean_squared_error: 41094988.0000 - r_square: 0.7121 - val_loss: 4110.9448 - val_mae: 4110.9448 - val_mean_squared_error: 32090284.0000 - val_r_square: 0.7864\n",
      "Epoch 40/100\n",
      "27/27 [==============================] - 0s 3ms/step - loss: 3977.6367 - mae: 3977.6367 - mean_squared_error: 38477720.0000 - r_square: 0.7304 - val_loss: 3643.7148 - val_mae: 3643.7148 - val_mean_squared_error: 25496084.0000 - val_r_square: 0.8303\n",
      "Epoch 41/100\n",
      "27/27 [==============================] - 0s 3ms/step - loss: 4343.6567 - mae: 4343.6567 - mean_squared_error: 43875016.0000 - r_square: 0.6926 - val_loss: 4199.7295 - val_mae: 4199.7295 - val_mean_squared_error: 44287228.0000 - val_r_square: 0.7052\n",
      "Epoch 42/100\n",
      "27/27 [==============================] - 0s 3ms/step - loss: 4475.1660 - mae: 4475.1660 - mean_squared_error: 48203364.0000 - r_square: 0.6622 - val_loss: 4187.7954 - val_mae: 4187.7954 - val_mean_squared_error: 30036528.0000 - val_r_square: 0.8000\n",
      "Epoch 43/100\n",
      "27/27 [==============================] - 0s 3ms/step - loss: 4029.3235 - mae: 4029.3235 - mean_squared_error: 40558220.0000 - r_square: 0.7158 - val_loss: 3943.0361 - val_mae: 3943.0361 - val_mean_squared_error: 41221040.0000 - val_r_square: 0.7256\n",
      "Epoch 44/100\n",
      "27/27 [==============================] - 0s 3ms/step - loss: 4130.2910 - mae: 4130.2910 - mean_squared_error: 41817200.0000 - r_square: 0.7070 - val_loss: 4028.5151 - val_mae: 4028.5151 - val_mean_squared_error: 41899028.0000 - val_r_square: 0.7211\n",
      "Epoch 45/100\n",
      "27/27 [==============================] - 0s 3ms/step - loss: 4376.1328 - mae: 4376.1328 - mean_squared_error: 47500604.0000 - r_square: 0.6672 - val_loss: 4071.1997 - val_mae: 4071.1997 - val_mean_squared_error: 26298782.0000 - val_r_square: 0.8249\n",
      "Epoch 46/100\n",
      "27/27 [==============================] - 0s 3ms/step - loss: 4029.5649 - mae: 4029.5649 - mean_squared_error: 40865668.0000 - r_square: 0.7137 - val_loss: 3188.6545 - val_mae: 3188.6545 - val_mean_squared_error: 26496590.0000 - val_r_square: 0.8236\n",
      "Epoch 47/100\n",
      "27/27 [==============================] - 0s 3ms/step - loss: 3779.7214 - mae: 3779.7214 - mean_squared_error: 39323860.0000 - r_square: 0.7245 - val_loss: 3312.0894 - val_mae: 3312.0894 - val_mean_squared_error: 32479394.0000 - val_r_square: 0.7838\n",
      "Epoch 48/100\n",
      "27/27 [==============================] - 0s 3ms/step - loss: 4258.8628 - mae: 4258.8628 - mean_squared_error: 45022704.0000 - r_square: 0.6845 - val_loss: 5075.9292 - val_mae: 5075.9292 - val_mean_squared_error: 41449796.0000 - val_r_square: 0.7240\n",
      "Epoch 49/100\n",
      "27/27 [==============================] - 0s 3ms/step - loss: 3873.6426 - mae: 3873.6426 - mean_squared_error: 38759604.0000 - r_square: 0.7284 - val_loss: 2831.2634 - val_mae: 2831.2634 - val_mean_squared_error: 24917458.0000 - val_r_square: 0.8341\n",
      "Epoch 50/100\n",
      "27/27 [==============================] - 0s 3ms/step - loss: 4092.1284 - mae: 4092.1284 - mean_squared_error: 43570440.0000 - r_square: 0.6947 - val_loss: 5747.2988 - val_mae: 5747.2988 - val_mean_squared_error: 72263504.0000 - val_r_square: 0.5189\n",
      "Epoch 51/100\n",
      "27/27 [==============================] - 0s 3ms/step - loss: 4044.0864 - mae: 4044.0864 - mean_squared_error: 41440776.0000 - r_square: 0.7096 - val_loss: 2822.9438 - val_mae: 2822.9438 - val_mean_squared_error: 26760524.0000 - val_r_square: 0.8218\n",
      "Epoch 52/100\n",
      "27/27 [==============================] - 0s 3ms/step - loss: 3660.1594 - mae: 3660.1594 - mean_squared_error: 35940020.0000 - r_square: 0.7482 - val_loss: 5088.9663 - val_mae: 5088.9663 - val_mean_squared_error: 40241320.0000 - val_r_square: 0.7321\n",
      "Epoch 53/100\n",
      "27/27 [==============================] - 0s 3ms/step - loss: 3851.6030 - mae: 3851.6030 - mean_squared_error: 38576516.0000 - r_square: 0.7297 - val_loss: 3909.6431 - val_mae: 3909.6431 - val_mean_squared_error: 45082088.0000 - val_r_square: 0.6999\n",
      "Epoch 54/100\n",
      "27/27 [==============================] - 0s 3ms/step - loss: 3842.8843 - mae: 3842.8843 - mean_squared_error: 38572952.0000 - r_square: 0.7297 - val_loss: 3070.7532 - val_mae: 3070.7532 - val_mean_squared_error: 33076224.0000 - val_r_square: 0.7798\n",
      "Epoch 55/100\n",
      "27/27 [==============================] - 0s 3ms/step - loss: 3639.0244 - mae: 3639.0244 - mean_squared_error: 35972036.0000 - r_square: 0.7479 - val_loss: 3197.9016 - val_mae: 3197.9016 - val_mean_squared_error: 24015020.0000 - val_r_square: 0.8401\n",
      "Epoch 56/100\n",
      "27/27 [==============================] - 0s 3ms/step - loss: 3826.2034 - mae: 3826.2034 - mean_squared_error: 38360312.0000 - r_square: 0.7312 - val_loss: 2382.0991 - val_mae: 2382.0991 - val_mean_squared_error: 22926540.0000 - val_r_square: 0.8474\n",
      "Epoch 57/100\n",
      "27/27 [==============================] - 0s 3ms/step - loss: 3752.2192 - mae: 3752.2192 - mean_squared_error: 38737944.0000 - r_square: 0.7286 - val_loss: 3221.2666 - val_mae: 3221.2666 - val_mean_squared_error: 25926506.0000 - val_r_square: 0.8274\n",
      "Epoch 58/100\n",
      "27/27 [==============================] - 0s 3ms/step - loss: 3671.6448 - mae: 3671.6448 - mean_squared_error: 36472276.0000 - r_square: 0.7444 - val_loss: 3581.8782 - val_mae: 3581.8782 - val_mean_squared_error: 33770552.0000 - val_r_square: 0.7752\n",
      "Epoch 59/100\n",
      "27/27 [==============================] - 0s 3ms/step - loss: 3903.0566 - mae: 3903.0566 - mean_squared_error: 39400420.0000 - r_square: 0.7239 - val_loss: 3255.0957 - val_mae: 3255.0957 - val_mean_squared_error: 24831600.0000 - val_r_square: 0.8347\n",
      "Epoch 60/100\n",
      "27/27 [==============================] - 0s 3ms/step - loss: 3777.6133 - mae: 3777.6133 - mean_squared_error: 37915212.0000 - r_square: 0.7343 - val_loss: 2664.8752 - val_mae: 2664.8752 - val_mean_squared_error: 22836984.0000 - val_r_square: 0.8480\n",
      "Epoch 61/100\n",
      "27/27 [==============================] - 0s 3ms/step - loss: 3435.9021 - mae: 3435.9021 - mean_squared_error: 33364268.0000 - r_square: 0.7662 - val_loss: 2629.8508 - val_mae: 2629.8508 - val_mean_squared_error: 24106232.0000 - val_r_square: 0.8395\n",
      "Epoch 62/100\n",
      "27/27 [==============================] - 0s 3ms/step - loss: 3802.7004 - mae: 3802.7004 - mean_squared_error: 38811292.0000 - r_square: 0.7281 - val_loss: 3470.7273 - val_mae: 3470.7273 - val_mean_squared_error: 38027648.0000 - val_r_square: 0.7468\n",
      "Epoch 63/100\n",
      "27/27 [==============================] - 0s 3ms/step - loss: 3711.9431 - mae: 3711.9431 - mean_squared_error: 36369216.0000 - r_square: 0.7452 - val_loss: 3017.9900 - val_mae: 3017.9900 - val_mean_squared_error: 26005470.0000 - val_r_square: 0.8269\n",
      "Epoch 64/100\n",
      "27/27 [==============================] - 0s 3ms/step - loss: 3430.5400 - mae: 3430.5400 - mean_squared_error: 33100070.0000 - r_square: 0.7681 - val_loss: 5797.9438 - val_mae: 5797.9438 - val_mean_squared_error: 80430280.0000 - val_r_square: 0.4645\n",
      "Epoch 65/100\n",
      "27/27 [==============================] - 0s 3ms/step - loss: 3391.1169 - mae: 3391.1169 - mean_squared_error: 34643728.0000 - r_square: 0.7573 - val_loss: 2302.5723 - val_mae: 2302.5723 - val_mean_squared_error: 22694998.0000 - val_r_square: 0.8489\n",
      "Epoch 66/100\n",
      "27/27 [==============================] - 0s 3ms/step - loss: 3644.1345 - mae: 3644.1345 - mean_squared_error: 34681984.0000 - r_square: 0.7570 - val_loss: 2427.4612 - val_mae: 2427.4612 - val_mean_squared_error: 23067730.0000 - val_r_square: 0.8464\n",
      "Epoch 67/100\n",
      "27/27 [==============================] - 0s 3ms/step - loss: 3216.8447 - mae: 3216.8447 - mean_squared_error: 31673284.0000 - r_square: 0.7781 - val_loss: 2203.3938 - val_mae: 2203.3938 - val_mean_squared_error: 24995324.0000 - val_r_square: 0.8336\n",
      "Epoch 68/100\n",
      "27/27 [==============================] - 0s 3ms/step - loss: 3541.9456 - mae: 3541.9456 - mean_squared_error: 34978700.0000 - r_square: 0.7549 - val_loss: 3206.7024 - val_mae: 3206.7024 - val_mean_squared_error: 23736852.0000 - val_r_square: 0.8420\n",
      "Epoch 69/100\n",
      "27/27 [==============================] - 0s 3ms/step - loss: 3380.9900 - mae: 3380.9900 - mean_squared_error: 34347356.0000 - r_square: 0.7593 - val_loss: 2682.5876 - val_mae: 2682.5876 - val_mean_squared_error: 23725112.0000 - val_r_square: 0.8420\n",
      "Epoch 70/100\n",
      "27/27 [==============================] - 0s 3ms/step - loss: 3469.5571 - mae: 3469.5571 - mean_squared_error: 34813800.0000 - r_square: 0.7561 - val_loss: 4888.7705 - val_mae: 4888.7705 - val_mean_squared_error: 40147156.0000 - val_r_square: 0.7327\n",
      "Epoch 71/100\n",
      "27/27 [==============================] - 0s 3ms/step - loss: 3694.3123 - mae: 3694.3123 - mean_squared_error: 36099576.0000 - r_square: 0.7471 - val_loss: 2904.0164 - val_mae: 2904.0164 - val_mean_squared_error: 28134630.0000 - val_r_square: 0.8127\n",
      "Epoch 72/100\n",
      "27/27 [==============================] - 0s 3ms/step - loss: 3343.4624 - mae: 3343.4624 - mean_squared_error: 33172436.0000 - r_square: 0.7676 - val_loss: 4621.3628 - val_mae: 4621.3628 - val_mean_squared_error: 49927120.0000 - val_r_square: 0.6676\n",
      "Epoch 73/100\n",
      "27/27 [==============================] - 0s 3ms/step - loss: 3354.2432 - mae: 3354.2432 - mean_squared_error: 33485968.0000 - r_square: 0.7654 - val_loss: 3993.9983 - val_mae: 3993.9983 - val_mean_squared_error: 29309036.0000 - val_r_square: 0.8049\n",
      "Epoch 74/100\n",
      "27/27 [==============================] - 0s 3ms/step - loss: 3497.2754 - mae: 3497.2754 - mean_squared_error: 34297712.0000 - r_square: 0.7597 - val_loss: 4726.7505 - val_mae: 4726.7505 - val_mean_squared_error: 50597716.0000 - val_r_square: 0.6631\n",
      "Epoch 75/100\n",
      "27/27 [==============================] - 0s 3ms/step - loss: 3494.9363 - mae: 3494.9363 - mean_squared_error: 35103920.0000 - r_square: 0.7540 - val_loss: 2506.5391 - val_mae: 2506.5391 - val_mean_squared_error: 23202946.0000 - val_r_square: 0.8455\n",
      "Epoch 76/100\n",
      "27/27 [==============================] - 0s 3ms/step - loss: 3595.0806 - mae: 3595.0806 - mean_squared_error: 37378956.0000 - r_square: 0.7381 - val_loss: 2723.7859 - val_mae: 2723.7859 - val_mean_squared_error: 22731870.0000 - val_r_square: 0.8487\n",
      "Epoch 77/100\n",
      "27/27 [==============================] - 0s 3ms/step - loss: 3449.5020 - mae: 3449.5020 - mean_squared_error: 32741680.0000 - r_square: 0.7706 - val_loss: 4917.9580 - val_mae: 4917.9580 - val_mean_squared_error: 68333056.0000 - val_r_square: 0.5451\n",
      "Epoch 78/100\n",
      "27/27 [==============================] - 0s 3ms/step - loss: 3531.9214 - mae: 3531.9214 - mean_squared_error: 37298660.0000 - r_square: 0.7387 - val_loss: 2780.5337 - val_mae: 2780.5337 - val_mean_squared_error: 35592444.0000 - val_r_square: 0.7630\n",
      "Epoch 79/100\n",
      "27/27 [==============================] - 0s 3ms/step - loss: 3386.5088 - mae: 3386.5088 - mean_squared_error: 33378522.0000 - r_square: 0.7661 - val_loss: 3335.5210 - val_mae: 3335.5210 - val_mean_squared_error: 31552148.0000 - val_r_square: 0.7899\n",
      "Epoch 80/100\n",
      "27/27 [==============================] - 0s 3ms/step - loss: 3488.3125 - mae: 3488.3125 - mean_squared_error: 34260300.0000 - r_square: 0.7599 - val_loss: 6407.3877 - val_mae: 6407.3877 - val_mean_squared_error: 91194696.0000 - val_r_square: 0.3929\n",
      "Epoch 81/100\n",
      "27/27 [==============================] - 0s 3ms/step - loss: 3672.0488 - mae: 3672.0488 - mean_squared_error: 39738292.0000 - r_square: 0.7216 - val_loss: 3578.2085 - val_mae: 3578.2085 - val_mean_squared_error: 25546488.0000 - val_r_square: 0.8299\n",
      "Epoch 82/100\n",
      "27/27 [==============================] - 0s 3ms/step - loss: 3363.8547 - mae: 3363.8547 - mean_squared_error: 31388706.0000 - r_square: 0.7801 - val_loss: 4089.0986 - val_mae: 4089.0986 - val_mean_squared_error: 40348728.0000 - val_r_square: 0.7314\n",
      "Epoch 83/100\n",
      "27/27 [==============================] - 0s 3ms/step - loss: 3537.7197 - mae: 3537.7197 - mean_squared_error: 36941016.0000 - r_square: 0.7412 - val_loss: 2288.3347 - val_mae: 2288.3347 - val_mean_squared_error: 25296836.0000 - val_r_square: 0.8316\n",
      "Epoch 84/100\n",
      "27/27 [==============================] - 0s 3ms/step - loss: 3338.5288 - mae: 3338.5288 - mean_squared_error: 32019570.0000 - r_square: 0.7756 - val_loss: 3400.1069 - val_mae: 3400.1069 - val_mean_squared_error: 32112324.0000 - val_r_square: 0.7862\n",
      "Epoch 85/100\n",
      "27/27 [==============================] - 0s 3ms/step - loss: 3396.4983 - mae: 3396.4983 - mean_squared_error: 34073624.0000 - r_square: 0.7612 - val_loss: 2683.9453 - val_mae: 2683.9453 - val_mean_squared_error: 27482400.0000 - val_r_square: 0.8170\n",
      "Epoch 86/100\n",
      "27/27 [==============================] - 0s 3ms/step - loss: 3574.5020 - mae: 3574.5020 - mean_squared_error: 36392916.0000 - r_square: 0.7450 - val_loss: 2927.5417 - val_mae: 2927.5417 - val_mean_squared_error: 26113370.0000 - val_r_square: 0.8261\n",
      "Epoch 87/100\n",
      "27/27 [==============================] - 0s 3ms/step - loss: 3460.8826 - mae: 3460.8826 - mean_squared_error: 33709852.0000 - r_square: 0.7638 - val_loss: 3043.8418 - val_mae: 3043.8418 - val_mean_squared_error: 28746158.0000 - val_r_square: 0.8086\n",
      "Epoch 88/100\n",
      "27/27 [==============================] - 0s 3ms/step - loss: 3265.8137 - mae: 3265.8137 - mean_squared_error: 32898776.0000 - r_square: 0.7695 - val_loss: 3342.9910 - val_mae: 3342.9910 - val_mean_squared_error: 33177828.0000 - val_r_square: 0.7791\n",
      "Epoch 89/100\n",
      "27/27 [==============================] - 0s 3ms/step - loss: 3226.0354 - mae: 3226.0354 - mean_squared_error: 31429216.0000 - r_square: 0.7798 - val_loss: 3154.5381 - val_mae: 3154.5381 - val_mean_squared_error: 30902114.0000 - val_r_square: 0.7943\n",
      "Epoch 90/100\n",
      "27/27 [==============================] - 0s 3ms/step - loss: 3360.1948 - mae: 3360.1948 - mean_squared_error: 33684500.0000 - r_square: 0.7640 - val_loss: 4033.6233 - val_mae: 4033.6233 - val_mean_squared_error: 51876172.0000 - val_r_square: 0.6546\n",
      "Epoch 91/100\n",
      "27/27 [==============================] - 0s 3ms/step - loss: 3265.8093 - mae: 3265.8093 - mean_squared_error: 31487972.0000 - r_square: 0.7794 - val_loss: 3872.2661 - val_mae: 3872.2661 - val_mean_squared_error: 29119096.0000 - val_r_square: 0.8061\n",
      "Epoch 92/100\n",
      "27/27 [==============================] - 0s 3ms/step - loss: 3350.9429 - mae: 3350.9429 - mean_squared_error: 32294780.0000 - r_square: 0.7737 - val_loss: 3792.7273 - val_mae: 3792.7273 - val_mean_squared_error: 44354752.0000 - val_r_square: 0.7047\n",
      "Epoch 93/100\n",
      "27/27 [==============================] - 0s 3ms/step - loss: 3196.9497 - mae: 3196.9497 - mean_squared_error: 32025766.0000 - r_square: 0.7756 - val_loss: 2914.8364 - val_mae: 2914.8364 - val_mean_squared_error: 34234312.0000 - val_r_square: 0.7721\n",
      "Epoch 94/100\n",
      "27/27 [==============================] - 0s 3ms/step - loss: 3125.8140 - mae: 3125.8140 - mean_squared_error: 30555038.0000 - r_square: 0.7859 - val_loss: 3122.1985 - val_mae: 3122.1985 - val_mean_squared_error: 23496830.0000 - val_r_square: 0.8436\n",
      "Epoch 95/100\n",
      "27/27 [==============================] - 0s 3ms/step - loss: 3288.3140 - mae: 3288.3140 - mean_squared_error: 33212278.0000 - r_square: 0.7673 - val_loss: 2317.8669 - val_mae: 2317.8669 - val_mean_squared_error: 24274796.0000 - val_r_square: 0.8384\n",
      "Epoch 96/100\n",
      "27/27 [==============================] - 0s 3ms/step - loss: 3255.3960 - mae: 3255.3960 - mean_squared_error: 33348610.0000 - r_square: 0.7663 - val_loss: 2626.8499 - val_mae: 2626.8499 - val_mean_squared_error: 22460216.0000 - val_r_square: 0.8505\n",
      "Epoch 97/100\n",
      "27/27 [==============================] - 0s 3ms/step - loss: 3259.3755 - mae: 3259.3755 - mean_squared_error: 32170306.0000 - r_square: 0.7746 - val_loss: 3233.4451 - val_mae: 3233.4451 - val_mean_squared_error: 28943336.0000 - val_r_square: 0.8073\n",
      "Epoch 98/100\n",
      "27/27 [==============================] - 0s 3ms/step - loss: 3280.8972 - mae: 3280.8972 - mean_squared_error: 32943900.0000 - r_square: 0.7692 - val_loss: 2878.0771 - val_mae: 2878.0771 - val_mean_squared_error: 27544332.0000 - val_r_square: 0.8166\n",
      "Epoch 99/100\n",
      "27/27 [==============================] - 0s 3ms/step - loss: 3251.0779 - mae: 3251.0779 - mean_squared_error: 32983986.0000 - r_square: 0.7689 - val_loss: 3706.1057 - val_mae: 3706.1057 - val_mean_squared_error: 27487302.0000 - val_r_square: 0.8170\n",
      "Epoch 100/100\n",
      "27/27 [==============================] - 0s 3ms/step - loss: 3137.3918 - mae: 3137.3918 - mean_squared_error: 32122038.0000 - r_square: 0.7749 - val_loss: 3113.2520 - val_mae: 3113.2520 - val_mean_squared_error: 23408070.0000 - val_r_square: 0.8442\n"
     ]
    }
   ],
   "source": [
    "history = best_model.fit(\n",
    "    X_train,\n",
    "    y_train,\n",
    "    #batch_size=16,\n",
    "    shuffle=True,\n",
    "validation_split=validation_split_size,\n",
    "epochs=100)"
   ]
  },
  {
   "cell_type": "code",
   "execution_count": 69,
   "metadata": {
    "collapsed": false
   },
   "outputs": [
    {
     "data": {
      "text/plain": [
       "9"
      ]
     },
     "execution_count": 69,
     "metadata": {},
     "output_type": "execute_result"
    }
   ],
   "source": [
    "X_train.shape[1]"
   ]
  },
  {
   "cell_type": "code",
   "execution_count": 67,
   "metadata": {
    "collapsed": false
   },
   "outputs": [
    {
     "data": {
      "image/png": "[encoded data removed]",
      "text/plain": [
       "<Figure size 432x288 with 1 Axes>"
      ]
     },
     "metadata": {
      "needs_background": "light"
     },
     "output_type": "display_data"
    }
   ],
   "source": [
    "#plot_loss(dnn_history, y_min=0.5, y_max=0.9)\n",
    "#plt.plot(history)\n",
    "plot_loss(history, y_min=0.5, y_max=0.9)"
   ]
  },
  {
   "cell_type": "code",
   "execution_count": 71,
   "metadata": {
    "collapsed": false
   },
   "outputs": [
    {
     "name": "stdout",
     "output_type": "stream",
     "text": [
      "9/9 [==============================] - 0s 1ms/step - loss: 3119.0137 - mae: 3119.0137 - mean_squared_error: 22272892.0000 - r_square: 0.8565\n"
     ]
    }
   ],
   "source": [
    "result = best_model.evaluate(X_test, y_test)"
   ]
  },
  {
   "cell_type": "code",
   "execution_count": 72,
   "metadata": {
    "collapsed": false
   },
   "outputs": [
    {
     "name": "stdout",
     "output_type": "stream",
     "text": [
      "[3119.013671875, 3119.013671875, 22272892.0, 0.8565341234207153]\n"
     ]
    }
   ],
   "source": [
    "print(str(result))"
   ]
  },
  {
   "cell_type": "markdown",
   "metadata": {
    "collapsed": false
   },
   "source": [
    "# Random Forest"
   ]
  },
  {
   "cell_type": "code",
   "execution_count": 18,
   "metadata": {
    "collapsed": false
   },
   "outputs": [],
   "source": [
    "from sklearn.model_selection import cross_val_score, ShuffleSplit\n",
    "\n",
    "def cross_validate(model, X_train, y_train, cross_val_test_set_size):\n",
    "    \"\"\"\n",
    "    cross validates a model\n",
    "    :param model: model to test\n",
    "    :param X_train: test set (X)\n",
    "    :param y_train: test set (y)\n",
    "    :param cross_val_test_set_size: relative size of validation set\n",
    "    :return: mean and standard deviation for test scores\n",
    "    \"\"\"\n",
    "    cv = ShuffleSplit(n_splits=5, test_size=cross_val_test_set_size, random_state=0)\n",
    "    scores = cross_val_score(model, X_train, y_train.values.ravel(), cv=cv)\n",
    "    return scores.mean(), scores.std()"
   ]
  },
  {
   "cell_type": "code",
   "execution_count": 15,
   "metadata": {
    "collapsed": false
   },
   "outputs": [
    {
     "name": "stdout",
     "output_type": "stream",
     "text": [
      "RANDOM FOREST: 0.84147 mean accuracy with a standard deviation of 0.01782\n"
     ]
    },
    {
     "data": {
      "text/plain": [
       "RandomForestRegressor(max_depth=4, random_state=0)"
      ]
     },
     "execution_count": 15,
     "metadata": {},
     "output_type": "execute_result"
    }
   ],
   "source": [
    "from sklearn.ensemble import RandomForestRegressor\n",
    "\n",
    "clf = RandomForestRegressor(max_depth=4, random_state=0)\n",
    "mean, std = cross_validate(clf, X_train, y_train, validation_split_size)\n",
    "print(\"RANDOM FOREST: %0.5f mean accuracy with a standard deviation of %0.5f\" % (mean, std))\n",
    "clf.fit(X_train, y_train.values.ravel())"
   ]
  },
  {
   "cell_type": "code",
   "execution_count": 16,
   "metadata": {
    "collapsed": false
   },
   "outputs": [
    {
     "data": {
      "text/plain": [
       "0.8714346169733819"
      ]
     },
     "execution_count": 16,
     "metadata": {},
     "output_type": "execute_result"
    }
   ],
   "source": [
    "clf.score(X_test, y_test.values.ravel())"
   ]
  },
  {
   "cell_type": "code",
   "execution_count": 17,
   "metadata": {
    "collapsed": false
   },
   "outputs": [
    {
     "name": "stderr",
     "output_type": "stream",
     "text": [
      "/home/jstock/anaconda3/lib/python3.9/site-packages/sklearn/base.py:450: UserWarning: X does not have valid feature names, but RandomForestRegressor was fitted with feature names\n",
      "  warnings.warn(\n"
     ]
    },
    {
     "data": {
      "text/plain": [
       "array([14183.52296664])"
      ]
     },
     "execution_count": 17,
     "metadata": {},
     "output_type": "execute_result"
    }
   ],
   "source": [
    "clf.predict([[0.9, 0, 0, 0.1, 0, 0,0,0,1]])"
   ]
  },
  {
   "cell_type": "markdown",
   "metadata": {
    "collapsed": false
   },
   "source": [
    "### Hyperparemeter tuning"
   ]
  },
  {
   "cell_type": "code",
   "execution_count": 20,
   "metadata": {
    "collapsed": false
   },
   "outputs": [
    {
     "name": "stdout",
     "output_type": "stream",
     "text": [
      "Fitting 3 folds for each of 300 candidates, totalling 900 fits\n"
     ]
    },
    {
     "data": {
      "text/plain": [
       "RandomizedSearchCV(cv=3, estimator=RandomForestRegressor(), n_iter=300,\n",
       "                   n_jobs=-1,\n",
       "                   param_distributions={'bootstrap': [True, False],\n",
       "                                        'max_depth': [3, 4, 5, 6],\n",
       "                                        'max_features': [0.5, 0.6, 0.7, 0.8,\n",
       "                                                         0.9, 0.95, 1.0],\n",
       "                                        'min_samples_leaf': [1, 2, 4],\n",
       "                                        'min_samples_split': [2, 5, 10],\n",
       "                                        'n_estimators': [200, 400, 600, 800,\n",
       "                                                         1000, 1200, 1400, 1600,\n",
       "                                                         1800, 2000]},\n",
       "                   random_state=42, verbose=2)"
      ]
     },
     "execution_count": 20,
     "metadata": {},
     "output_type": "execute_result"
    }
   ],
   "source": [
    "from sklearn.model_selection import RandomizedSearchCV# Number of trees in random forest\n",
    "import numpy as np\n",
    "\n",
    "n_estimators = [int(x) for x in np.linspace(start = 200, stop = 2000, num = 10)]\n",
    "# Maximum number of levels in tree\n",
    "max_depth = [3,4,5,6]\n",
    "max_features = [0.5,0.6,0.7,0.8,0.9,0.95,1.0]\n",
    "# Minimum number of samples required to split a node\n",
    "min_samples_split = [2, 5, 10]\n",
    "# Minimum number of samples required at each leaf node\n",
    "min_samples_leaf = [1, 2, 4]\n",
    "# Method of selecting samples for training each tree\n",
    "bootstrap = [True, False]# Create the random grid\n",
    "random_grid = {'n_estimators': n_estimators,\n",
    "               'max_depth': max_depth,\n",
    "               'max_features': max_features,\n",
    "               'min_samples_split': min_samples_split,\n",
    "               'min_samples_leaf': min_samples_leaf,\n",
    "               'bootstrap': bootstrap}\n",
    "\n",
    "rf = RandomForestRegressor()\n",
    "# Random search of parameters, using 3 fold cross validation,\n",
    "# search across 100 different combinations, and use all available cores\n",
    "rf_random = RandomizedSearchCV(estimator = rf, param_distributions = random_grid, n_iter = 300, cv = 3, verbose=2, random_state=42, n_jobs = -1)# Fit the random search model\n",
    "rf_random.fit(X_train, y_train.values.ravel())"
   ]
  },
  {
   "cell_type": "code",
   "execution_count": 21,
   "metadata": {
    "collapsed": false
   },
   "outputs": [
    {
     "name": "stdout",
     "output_type": "stream",
     "text": [
      "BEST PARAMS: {'n_estimators': 1000, 'min_samples_split': 5, 'min_samples_leaf': 4, 'max_features': 0.7, 'max_depth': 5, 'bootstrap': True}\n"
     ]
    }
   ],
   "source": [
    "print(f'BEST PARAMS: {rf_random.best_params_}')\n",
    "rfff = RandomForestRegressor(**rf_random.best_params_)"
   ]
  },
  {
   "cell_type": "code",
   "execution_count": 22,
   "metadata": {
    "collapsed": false
   },
   "outputs": [
    {
     "name": "stdout",
     "output_type": "stream",
     "text": [
      "RANDOM FOREST: 0.84196 mean accuracy with a standard deviation of 0.01963\n"
     ]
    },
    {
     "data": {
      "text/plain": [
       "0.8800714441127572"
      ]
     },
     "execution_count": 22,
     "metadata": {},
     "output_type": "execute_result"
    }
   ],
   "source": [
    "# train again\n",
    "mean, std = cross_validate(rfff, X_train, y_train, validation_split_size)\n",
    "print(\"RANDOM FOREST: %0.5f mean accuracy with a standard deviation of %0.5f\" % (mean, std))\n",
    "rfff.fit(X_train, y_train.values.ravel())\n",
    "rfff.score(X_test, y_test.values.ravel())"
   ]
  },
  {
   "cell_type": "code",
   "execution_count": 23,
   "metadata": {
    "collapsed": false
   },
   "outputs": [
    {
     "name": "stdout",
     "output_type": "stream",
     "text": [
      "Fitting 3 folds for each of 3456 candidates, totalling 10368 fits\n"
     ]
    },
    {
     "data": {
      "text/plain": [
       "{'bootstrap': True,\n",
       " 'max_depth': 4,\n",
       " 'max_features': 0.8,\n",
       " 'min_samples_leaf': 5,\n",
       " 'min_samples_split': 9,\n",
       " 'n_estimators': 1050}"
      ]
     },
     "execution_count": 23,
     "metadata": {},
     "output_type": "execute_result"
    }
   ],
   "source": [
    "from sklearn.model_selection import GridSearchCV# Create the parameter grid based on the results of random search\n",
    "param_grid = {\n",
    "    'bootstrap': [True],\n",
    "    'max_depth': [4,5,6],\n",
    "    'max_features': [0.65, 0.7, 0.75, 0.8, 0.85, 0.9],\n",
    "    'min_samples_leaf': [2, 3, 4, 5],\n",
    "    'min_samples_split': [3,4,5,6,7,8,9,10],\n",
    "    'n_estimators': [900, 950, 1000, 1050, 1100, 1150]\n",
    "}# Create a based model\n",
    "rf = RandomForestRegressor()# Instantiate the grid search model\n",
    "grid_search = GridSearchCV(estimator = rf, param_grid = param_grid,\n",
    "                           cv = 3, n_jobs = -1, verbose = 1)\n",
    "grid_search.fit(X_train, y_train.values.ravel())\n",
    "grid_search.best_params_"
   ]
  },
  {
   "cell_type": "code",
   "execution_count": 24,
   "metadata": {
    "collapsed": false
   },
   "outputs": [
    {
     "name": "stdout",
     "output_type": "stream",
     "text": [
      "BEST PARAMS: {'bootstrap': True, 'max_depth': 4, 'max_features': 0.8, 'min_samples_leaf': 5, 'min_samples_split': 9, 'n_estimators': 1050}\n"
     ]
    }
   ],
   "source": [
    "print(f'BEST PARAMS: {grid_search.best_params_}')\n",
    "rffff = RandomForestRegressor(**grid_search.best_params_)"
   ]
  },
  {
   "cell_type": "code",
   "execution_count": 25,
   "metadata": {
    "collapsed": false
   },
   "outputs": [
    {
     "name": "stdout",
     "output_type": "stream",
     "text": [
      "RANDOM FOREST: 0.84350 mean accuracy with a standard deviation of 0.01929\n"
     ]
    },
    {
     "data": {
      "text/plain": [
       "0.8771455163913252"
      ]
     },
     "execution_count": 25,
     "metadata": {},
     "output_type": "execute_result"
    }
   ],
   "source": [
    "# train again\n",
    "mean, std = cross_validate(rffff, X_train, y_train, validation_split_size)\n",
    "print(\"RANDOM FOREST: %0.5f mean accuracy with a standard deviation of %0.5f\" % (mean, std))\n",
    "rffff.fit(X_train, y_train.values.ravel())\n",
    "rffff.score(X_test, y_test.values.ravel())"
   ]
  },
  {
   "cell_type": "markdown",
   "metadata": {
    "collapsed": false
   },
   "source": [
    "## Random Forest without region attribute (test scenario)"
   ]
  },
  {
   "cell_type": "code",
   "execution_count": 9,
   "metadata": {
    "collapsed": false
   },
   "outputs": [
    {
     "data": {
      "text/html": [
       "<div>\n",
       "<style scoped>\n",
       "    .dataframe tbody tr th:only-of-type {\n",
       "        vertical-align: middle;\n",
       "    }\n",
       "\n",
       "    .dataframe tbody tr th {\n",
       "        vertical-align: top;\n",
       "    }\n",
       "\n",
       "    .dataframe thead th {\n",
       "        text-align: right;\n",
       "    }\n",
       "</style>\n",
       "<table border=\"1\" class=\"dataframe\">\n",
       "  <thead>\n",
       "    <tr style=\"text-align: right;\">\n",
       "      <th></th>\n",
       "      <th>age</th>\n",
       "      <th>sex</th>\n",
       "      <th>bmi</th>\n",
       "      <th>children</th>\n",
       "      <th>smoker</th>\n",
       "      <th>region0</th>\n",
       "      <th>region1</th>\n",
       "      <th>region2</th>\n",
       "      <th>region3</th>\n",
       "    </tr>\n",
       "  </thead>\n",
       "  <tbody>\n",
       "    <tr>\n",
       "      <th>560</th>\n",
       "      <td>0.608696</td>\n",
       "      <td>0</td>\n",
       "      <td>0.107345</td>\n",
       "      <td>0.4</td>\n",
       "      <td>0</td>\n",
       "      <td>0</td>\n",
       "      <td>1</td>\n",
       "      <td>0</td>\n",
       "      <td>0</td>\n",
       "    </tr>\n",
       "    <tr>\n",
       "      <th>1285</th>\n",
       "      <td>0.630435</td>\n",
       "      <td>0</td>\n",
       "      <td>0.224913</td>\n",
       "      <td>0.0</td>\n",
       "      <td>0</td>\n",
       "      <td>1</td>\n",
       "      <td>0</td>\n",
       "      <td>0</td>\n",
       "      <td>0</td>\n",
       "    </tr>\n",
       "    <tr>\n",
       "      <th>1142</th>\n",
       "      <td>0.739130</td>\n",
       "      <td>0</td>\n",
       "      <td>0.239440</td>\n",
       "      <td>0.0</td>\n",
       "      <td>0</td>\n",
       "      <td>0</td>\n",
       "      <td>0</td>\n",
       "      <td>1</td>\n",
       "      <td>0</td>\n",
       "    </tr>\n",
       "    <tr>\n",
       "      <th>969</th>\n",
       "      <td>0.456522</td>\n",
       "      <td>0</td>\n",
       "      <td>0.493947</td>\n",
       "      <td>1.0</td>\n",
       "      <td>0</td>\n",
       "      <td>0</td>\n",
       "      <td>0</td>\n",
       "      <td>1</td>\n",
       "      <td>0</td>\n",
       "    </tr>\n",
       "    <tr>\n",
       "      <th>486</th>\n",
       "      <td>0.782609</td>\n",
       "      <td>0</td>\n",
       "      <td>0.148238</td>\n",
       "      <td>0.6</td>\n",
       "      <td>0</td>\n",
       "      <td>0</td>\n",
       "      <td>1</td>\n",
       "      <td>0</td>\n",
       "      <td>0</td>\n",
       "    </tr>\n",
       "    <tr>\n",
       "      <th>...</th>\n",
       "      <td>...</td>\n",
       "      <td>...</td>\n",
       "      <td>...</td>\n",
       "      <td>...</td>\n",
       "      <td>...</td>\n",
       "      <td>...</td>\n",
       "      <td>...</td>\n",
       "      <td>...</td>\n",
       "      <td>...</td>\n",
       "    </tr>\n",
       "    <tr>\n",
       "      <th>1095</th>\n",
       "      <td>0.000000</td>\n",
       "      <td>0</td>\n",
       "      <td>0.414044</td>\n",
       "      <td>0.8</td>\n",
       "      <td>0</td>\n",
       "      <td>1</td>\n",
       "      <td>0</td>\n",
       "      <td>0</td>\n",
       "      <td>0</td>\n",
       "    </tr>\n",
       "    <tr>\n",
       "      <th>1130</th>\n",
       "      <td>0.456522</td>\n",
       "      <td>0</td>\n",
       "      <td>0.212806</td>\n",
       "      <td>1.0</td>\n",
       "      <td>0</td>\n",
       "      <td>0</td>\n",
       "      <td>0</td>\n",
       "      <td>1</td>\n",
       "      <td>0</td>\n",
       "    </tr>\n",
       "    <tr>\n",
       "      <th>1294</th>\n",
       "      <td>0.869565</td>\n",
       "      <td>1</td>\n",
       "      <td>0.247915</td>\n",
       "      <td>0.0</td>\n",
       "      <td>0</td>\n",
       "      <td>1</td>\n",
       "      <td>0</td>\n",
       "      <td>0</td>\n",
       "      <td>0</td>\n",
       "    </tr>\n",
       "    <tr>\n",
       "      <th>860</th>\n",
       "      <td>0.413043</td>\n",
       "      <td>0</td>\n",
       "      <td>0.851224</td>\n",
       "      <td>0.4</td>\n",
       "      <td>1</td>\n",
       "      <td>0</td>\n",
       "      <td>0</td>\n",
       "      <td>0</td>\n",
       "      <td>1</td>\n",
       "    </tr>\n",
       "    <tr>\n",
       "      <th>1126</th>\n",
       "      <td>0.804348</td>\n",
       "      <td>1</td>\n",
       "      <td>0.375034</td>\n",
       "      <td>0.0</td>\n",
       "      <td>0</td>\n",
       "      <td>0</td>\n",
       "      <td>0</td>\n",
       "      <td>0</td>\n",
       "      <td>1</td>\n",
       "    </tr>\n",
       "  </tbody>\n",
       "</table>\n",
       "<p>1070 rows × 9 columns</p>\n",
       "</div>"
      ],
      "text/plain": [
       "           age  sex       bmi  children  smoker  region0  region1  region2  \\\n",
       "560   0.608696    0  0.107345       0.4       0        0        1        0   \n",
       "1285  0.630435    0  0.224913       0.0       0        1        0        0   \n",
       "1142  0.739130    0  0.239440       0.0       0        0        0        1   \n",
       "969   0.456522    0  0.493947       1.0       0        0        0        1   \n",
       "486   0.782609    0  0.148238       0.6       0        0        1        0   \n",
       "...        ...  ...       ...       ...     ...      ...      ...      ...   \n",
       "1095  0.000000    0  0.414044       0.8       0        1        0        0   \n",
       "1130  0.456522    0  0.212806       1.0       0        0        0        1   \n",
       "1294  0.869565    1  0.247915       0.0       0        1        0        0   \n",
       "860   0.413043    0  0.851224       0.4       1        0        0        0   \n",
       "1126  0.804348    1  0.375034       0.0       0        0        0        0   \n",
       "\n",
       "      region3  \n",
       "560         0  \n",
       "1285        0  \n",
       "1142        0  \n",
       "969         0  \n",
       "486         0  \n",
       "...       ...  \n",
       "1095        0  \n",
       "1130        0  \n",
       "1294        0  \n",
       "860         1  \n",
       "1126        1  \n",
       "\n",
       "[1070 rows x 9 columns]"
      ]
     },
     "execution_count": 9,
     "metadata": {},
     "output_type": "execute_result"
    }
   ],
   "source": [
    "X_train"
   ]
  },
  {
   "cell_type": "code",
   "execution_count": 21,
   "metadata": {
    "collapsed": false
   },
   "outputs": [],
   "source": [
    "X_train_no_region = X_train.copy()\n",
    "X_train_no_region = X_train_no_region.drop(columns=[\"region0\", \"region1\", \"region2\", \"region3\"])\n",
    "\n",
    "X_test_no_region = X_test.copy()\n",
    "X_test_no_region = X_test_no_region.drop(columns=[\"region0\", \"region1\", \"region2\", \"region3\"])"
   ]
  },
  {
   "cell_type": "code",
   "execution_count": 22,
   "metadata": {
    "collapsed": false
   },
   "outputs": [
    {
     "name": "stdout",
     "output_type": "stream",
     "text": [
      "RANDOM FOREST: 0.84349 mean accuracy with a standard deviation of 0.01914\n"
     ]
    },
    {
     "data": {
      "text/plain": [
       "0.8774715990241138"
      ]
     },
     "execution_count": 22,
     "metadata": {},
     "output_type": "execute_result"
    }
   ],
   "source": [
    "from sklearn.ensemble import RandomForestRegressor\n",
    "\n",
    "rf_no_region = RandomForestRegressor(bootstrap=True, max_depth=4, max_features=0.8, min_samples_leaf=5, min_samples_split=9, n_estimators=1050)\n",
    "\n",
    "mean, std = cross_validate(rf_no_region, X_train_no_region, y_train, validation_split_size)\n",
    "print(\"RANDOM FOREST: %0.5f mean accuracy with a standard deviation of %0.5f\" % (mean, std))\n",
    "rf_no_region.fit(X_train_no_region, y_train.values.ravel())\n",
    "rf_no_region.score(X_test_no_region, y_test.values.ravel())\n"
   ]
  },
  {
   "cell_type": "markdown",
   "metadata": {
    "collapsed": false
   },
   "source": [
    "## Linear Regression"
   ]
  },
  {
   "cell_type": "code",
   "execution_count": 37,
   "metadata": {
    "collapsed": false
   },
   "outputs": [
    {
     "name": "stdout",
     "output_type": "stream",
     "text": [
      "LINEAR REGRESSION: 0.72373 mean accuracy with a standard deviation of 0.02820\n"
     ]
    },
    {
     "data": {
      "text/html": [
       "<style>#sk-container-id-10 {color: black;background-color: white;}#sk-container-id-10 pre{padding: 0;}#sk-container-id-10 div.sk-toggleable {background-color: white;}#sk-container-id-10 label.sk-toggleable__label {cursor: pointer;display: block;width: 100%;margin-bottom: 0;padding: 0.3em;box-sizing: border-box;text-align: center;}#sk-container-id-10 label.sk-toggleable__label-arrow:before {content: \"▸\";float: left;margin-right: 0.25em;color: #696969;}#sk-container-id-10 label.sk-toggleable__label-arrow:hover:before {color: black;}#sk-container-id-10 div.sk-estimator:hover label.sk-toggleable__label-arrow:before {color: black;}#sk-container-id-10 div.sk-toggleable__content {max-height: 0;max-width: 0;overflow: hidden;text-align: left;background-color: #f0f8ff;}#sk-container-id-10 div.sk-toggleable__content pre {margin: 0.2em;color: black;border-radius: 0.25em;background-color: #f0f8ff;}#sk-container-id-10 input.sk-toggleable__control:checked~div.sk-toggleable__content {max-height: 200px;max-width: 100%;overflow: auto;}#sk-container-id-10 input.sk-toggleable__control:checked~label.sk-toggleable__label-arrow:before {content: \"▾\";}#sk-container-id-10 div.sk-estimator input.sk-toggleable__control:checked~label.sk-toggleable__label {background-color: #d4ebff;}#sk-container-id-10 div.sk-label input.sk-toggleable__control:checked~label.sk-toggleable__label {background-color: #d4ebff;}#sk-container-id-10 input.sk-hidden--visually {border: 0;clip: rect(1px 1px 1px 1px);clip: rect(1px, 1px, 1px, 1px);height: 1px;margin: -1px;overflow: hidden;padding: 0;position: absolute;width: 1px;}#sk-container-id-10 div.sk-estimator {font-family: monospace;background-color: #f0f8ff;border: 1px dotted black;border-radius: 0.25em;box-sizing: border-box;margin-bottom: 0.5em;}#sk-container-id-10 div.sk-estimator:hover {background-color: #d4ebff;}#sk-container-id-10 div.sk-parallel-item::after {content: \"\";width: 100%;border-bottom: 1px solid gray;flex-grow: 1;}#sk-container-id-10 div.sk-label:hover label.sk-toggleable__label {background-color: #d4ebff;}#sk-container-id-10 div.sk-serial::before {content: \"\";position: absolute;border-left: 1px solid gray;box-sizing: border-box;top: 0;bottom: 0;left: 50%;z-index: 0;}#sk-container-id-10 div.sk-serial {display: flex;flex-direction: column;align-items: center;background-color: white;padding-right: 0.2em;padding-left: 0.2em;position: relative;}#sk-container-id-10 div.sk-item {position: relative;z-index: 1;}#sk-container-id-10 div.sk-parallel {display: flex;align-items: stretch;justify-content: center;background-color: white;position: relative;}#sk-container-id-10 div.sk-item::before, #sk-container-id-10 div.sk-parallel-item::before {content: \"\";position: absolute;border-left: 1px solid gray;box-sizing: border-box;top: 0;bottom: 0;left: 50%;z-index: -1;}#sk-container-id-10 div.sk-parallel-item {display: flex;flex-direction: column;z-index: 1;position: relative;background-color: white;}#sk-container-id-10 div.sk-parallel-item:first-child::after {align-self: flex-end;width: 50%;}#sk-container-id-10 div.sk-parallel-item:last-child::after {align-self: flex-start;width: 50%;}#sk-container-id-10 div.sk-parallel-item:only-child::after {width: 0;}#sk-container-id-10 div.sk-dashed-wrapped {border: 1px dashed gray;margin: 0 0.4em 0.5em 0.4em;box-sizing: border-box;padding-bottom: 0.4em;background-color: white;}#sk-container-id-10 div.sk-label label {font-family: monospace;font-weight: bold;display: inline-block;line-height: 1.2em;}#sk-container-id-10 div.sk-label-container {text-align: center;}#sk-container-id-10 div.sk-container {/* jupyter's `normalize.less` sets `[hidden] { display: none; }` but bootstrap.min.css set `[hidden] { display: none !important; }` so we also need the `!important` here to be able to override the default hidden behavior on the sphinx rendered scikit-learn.org. See: https://github.com/scikit-learn/scikit-learn/issues/21755 */display: inline-block !important;position: relative;}#sk-container-id-10 div.sk-text-repr-fallback {display: none;}</style><div id=\"sk-container-id-10\" class=\"sk-top-container\"><div class=\"sk-text-repr-fallback\"><pre>LinearRegression()</pre><b>In a Jupyter environment, please rerun this cell to show the HTML representation or trust the notebook. <br />On GitHub, the HTML representation is unable to render, please try loading this page with nbviewer.org.</b></div><div class=\"sk-container\" hidden><div class=\"sk-item\"><div class=\"sk-estimator sk-toggleable\"><input class=\"sk-toggleable__control sk-hidden--visually\" id=\"sk-estimator-id-10\" type=\"checkbox\" checked><label for=\"sk-estimator-id-10\" class=\"sk-toggleable__label sk-toggleable__label-arrow\">LinearRegression</label><div class=\"sk-toggleable__content\"><pre>LinearRegression()</pre></div></div></div></div></div>"
      ],
      "text/plain": [
       "LinearRegression()"
      ]
     },
     "execution_count": 37,
     "metadata": {},
     "output_type": "execute_result"
    }
   ],
   "source": [
    "from sklearn.linear_model import LinearRegression\n",
    "\n",
    "clf_lr = LinearRegression()\n",
    "mean, std = cross_validate(clf_lr, X_train, y_train, validation_split_size)\n",
    "print(\"LINEAR REGRESSION: %0.5f mean accuracy with a standard deviation of %0.5f\" % (mean, std))\n",
    "clf_lr.fit(X_train, y_train.values.ravel())"
   ]
  },
  {
   "cell_type": "code",
   "execution_count": 38,
   "metadata": {
    "collapsed": false
   },
   "outputs": [
    {
     "data": {
      "text/plain": [
       "0.7836721494853242"
      ]
     },
     "execution_count": 38,
     "metadata": {},
     "output_type": "execute_result"
    }
   ],
   "source": [
    "clf_lr.score(X_test, y_test.values.ravel())"
   ]
  },
  {
   "cell_type": "code",
   "execution_count": null,
   "metadata": {
    "collapsed": false
   },
   "outputs": [],
   "source": []
  }
 ],
 "metadata": {
  "kernelspec": {
   "display_name": "Python 3 (ipykernel)",
   "language": "python",
   "name": "python3"
  },
  "language_info": {
   "codemirror_mode": {
    "name": "ipython",
    "version": 2
   },
   "file_extension": ".py",
   "mimetype": "text/x-python",
   "name": "python",
   "nbconvert_exporter": "python",
   "pygments_lexer": "ipython2",
   "version": "2.7.6"
  }
 },
 "nbformat": 4,
 "nbformat_minor": 0
}
