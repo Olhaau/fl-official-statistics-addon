{
 "cells": [
  {
   "cell_type": "markdown",
   "metadata": {
    "collapsed": false
   },
   "source": [
    "## Medical insurance data set\n",
    "* https://www.kaggle.com/datasets/teertha/ushealthinsurancedataset\n",
    "    * 1400 data points\n",
    "\n",
    "## Results\n",
    "* DNN: R² of 0.83\n",
    "* RandomForest: R² of 0.87\n",
    "* LinearRegression: bad idea, non-linear data R² of 0.78\n",
    "* Same with Ridge Regressor\n",
    "\n",
    "### Next steps\n",
    "* Data augmentation\n",
    "* cross validation\n",
    "* privacy attacks\n",
    "* differential privacy\n"
   ]
  },
  {
   "cell_type": "code",
   "execution_count": 77,
   "metadata": {
    "collapsed": false
   },
   "outputs": [],
   "source": [
    "import numpy as np\n",
    "import pandas as pd\n",
    "import matplotlib.pyplot as plt\n",
    "from sklearn.model_selection import train_test_split, cross_val_score, ShuffleSplit, RandomizedSearchCV, GridSearchCV\n",
    "from sklearn.preprocessing import MinMaxScaler\n",
    "from sklearn.ensemble import RandomForestRegressor\n",
    "# Import the DNN functions\n",
    "import tensorflow as tf\n",
    "from tensorflow import keras\n",
    "from keras.models import Sequential\n",
    "from keras.layers import Dense, Dropout\n",
    "from tensorflow_addons.metrics import RSquare\n",
    "import keras_tuner\n",
    "\n",
    "validation_split_size = 0.2"
   ]
  },
  {
   "cell_type": "code",
   "execution_count": 31,
   "metadata": {
    "collapsed": false
   },
   "outputs": [
    {
     "data": {
      "text/html": [
       "<div>\n",
       "<style scoped>\n",
       "    .dataframe tbody tr th:only-of-type {\n",
       "        vertical-align: middle;\n",
       "    }\n",
       "\n",
       "    .dataframe tbody tr th {\n",
       "        vertical-align: top;\n",
       "    }\n",
       "\n",
       "    .dataframe thead th {\n",
       "        text-align: right;\n",
       "    }\n",
       "</style>\n",
       "<table border=\"1\" class=\"dataframe\">\n",
       "  <thead>\n",
       "    <tr style=\"text-align: right;\">\n",
       "      <th></th>\n",
       "      <th>age</th>\n",
       "      <th>sex</th>\n",
       "      <th>bmi</th>\n",
       "      <th>children</th>\n",
       "      <th>smoker</th>\n",
       "      <th>region</th>\n",
       "      <th>charges</th>\n",
       "      <th>region0</th>\n",
       "      <th>region1</th>\n",
       "      <th>region2</th>\n",
       "      <th>region3</th>\n",
       "    </tr>\n",
       "  </thead>\n",
       "  <tbody>\n",
       "    <tr>\n",
       "      <th>0</th>\n",
       "      <td>0.021739</td>\n",
       "      <td>0</td>\n",
       "      <td>0.321227</td>\n",
       "      <td>0.0</td>\n",
       "      <td>1</td>\n",
       "      <td>3</td>\n",
       "      <td>16884.92400</td>\n",
       "      <td>0</td>\n",
       "      <td>0</td>\n",
       "      <td>0</td>\n",
       "      <td>1</td>\n",
       "    </tr>\n",
       "    <tr>\n",
       "      <th>1</th>\n",
       "      <td>0.000000</td>\n",
       "      <td>1</td>\n",
       "      <td>0.479150</td>\n",
       "      <td>0.2</td>\n",
       "      <td>0</td>\n",
       "      <td>2</td>\n",
       "      <td>1725.55230</td>\n",
       "      <td>0</td>\n",
       "      <td>0</td>\n",
       "      <td>1</td>\n",
       "      <td>0</td>\n",
       "    </tr>\n",
       "    <tr>\n",
       "      <th>2</th>\n",
       "      <td>0.217391</td>\n",
       "      <td>1</td>\n",
       "      <td>0.458434</td>\n",
       "      <td>0.6</td>\n",
       "      <td>0</td>\n",
       "      <td>2</td>\n",
       "      <td>4449.46200</td>\n",
       "      <td>0</td>\n",
       "      <td>0</td>\n",
       "      <td>1</td>\n",
       "      <td>0</td>\n",
       "    </tr>\n",
       "    <tr>\n",
       "      <th>3</th>\n",
       "      <td>0.326087</td>\n",
       "      <td>1</td>\n",
       "      <td>0.181464</td>\n",
       "      <td>0.0</td>\n",
       "      <td>0</td>\n",
       "      <td>1</td>\n",
       "      <td>21984.47061</td>\n",
       "      <td>0</td>\n",
       "      <td>1</td>\n",
       "      <td>0</td>\n",
       "      <td>0</td>\n",
       "    </tr>\n",
       "    <tr>\n",
       "      <th>4</th>\n",
       "      <td>0.304348</td>\n",
       "      <td>1</td>\n",
       "      <td>0.347592</td>\n",
       "      <td>0.0</td>\n",
       "      <td>0</td>\n",
       "      <td>1</td>\n",
       "      <td>3866.85520</td>\n",
       "      <td>0</td>\n",
       "      <td>1</td>\n",
       "      <td>0</td>\n",
       "      <td>0</td>\n",
       "    </tr>\n",
       "    <tr>\n",
       "      <th>...</th>\n",
       "      <td>...</td>\n",
       "      <td>...</td>\n",
       "      <td>...</td>\n",
       "      <td>...</td>\n",
       "      <td>...</td>\n",
       "      <td>...</td>\n",
       "      <td>...</td>\n",
       "      <td>...</td>\n",
       "      <td>...</td>\n",
       "      <td>...</td>\n",
       "      <td>...</td>\n",
       "    </tr>\n",
       "    <tr>\n",
       "      <th>1333</th>\n",
       "      <td>0.695652</td>\n",
       "      <td>1</td>\n",
       "      <td>0.403820</td>\n",
       "      <td>0.6</td>\n",
       "      <td>0</td>\n",
       "      <td>1</td>\n",
       "      <td>10600.54830</td>\n",
       "      <td>0</td>\n",
       "      <td>1</td>\n",
       "      <td>0</td>\n",
       "      <td>0</td>\n",
       "    </tr>\n",
       "    <tr>\n",
       "      <th>1334</th>\n",
       "      <td>0.000000</td>\n",
       "      <td>0</td>\n",
       "      <td>0.429379</td>\n",
       "      <td>0.0</td>\n",
       "      <td>0</td>\n",
       "      <td>0</td>\n",
       "      <td>2205.98080</td>\n",
       "      <td>1</td>\n",
       "      <td>0</td>\n",
       "      <td>0</td>\n",
       "      <td>0</td>\n",
       "    </tr>\n",
       "    <tr>\n",
       "      <th>1335</th>\n",
       "      <td>0.000000</td>\n",
       "      <td>0</td>\n",
       "      <td>0.562012</td>\n",
       "      <td>0.0</td>\n",
       "      <td>0</td>\n",
       "      <td>2</td>\n",
       "      <td>1629.83350</td>\n",
       "      <td>0</td>\n",
       "      <td>0</td>\n",
       "      <td>1</td>\n",
       "      <td>0</td>\n",
       "    </tr>\n",
       "    <tr>\n",
       "      <th>1336</th>\n",
       "      <td>0.065217</td>\n",
       "      <td>0</td>\n",
       "      <td>0.264730</td>\n",
       "      <td>0.0</td>\n",
       "      <td>0</td>\n",
       "      <td>3</td>\n",
       "      <td>2007.94500</td>\n",
       "      <td>0</td>\n",
       "      <td>0</td>\n",
       "      <td>0</td>\n",
       "      <td>1</td>\n",
       "    </tr>\n",
       "    <tr>\n",
       "      <th>1337</th>\n",
       "      <td>0.934783</td>\n",
       "      <td>0</td>\n",
       "      <td>0.352704</td>\n",
       "      <td>0.0</td>\n",
       "      <td>1</td>\n",
       "      <td>1</td>\n",
       "      <td>29141.36030</td>\n",
       "      <td>0</td>\n",
       "      <td>1</td>\n",
       "      <td>0</td>\n",
       "      <td>0</td>\n",
       "    </tr>\n",
       "  </tbody>\n",
       "</table>\n",
       "<p>1338 rows × 11 columns</p>\n",
       "</div>"
      ],
      "text/plain": [
       "           age  sex       bmi  children  smoker  region      charges  region0  \\\n",
       "0     0.021739    0  0.321227       0.0       1       3  16884.92400        0   \n",
       "1     0.000000    1  0.479150       0.2       0       2   1725.55230        0   \n",
       "2     0.217391    1  0.458434       0.6       0       2   4449.46200        0   \n",
       "3     0.326087    1  0.181464       0.0       0       1  21984.47061        0   \n",
       "4     0.304348    1  0.347592       0.0       0       1   3866.85520        0   \n",
       "...        ...  ...       ...       ...     ...     ...          ...      ...   \n",
       "1333  0.695652    1  0.403820       0.6       0       1  10600.54830        0   \n",
       "1334  0.000000    0  0.429379       0.0       0       0   2205.98080        1   \n",
       "1335  0.000000    0  0.562012       0.0       0       2   1629.83350        0   \n",
       "1336  0.065217    0  0.264730       0.0       0       3   2007.94500        0   \n",
       "1337  0.934783    0  0.352704       0.0       1       1  29141.36030        0   \n",
       "\n",
       "      region1  region2  region3  \n",
       "0           0        0        1  \n",
       "1           0        1        0  \n",
       "2           0        1        0  \n",
       "3           1        0        0  \n",
       "4           1        0        0  \n",
       "...       ...      ...      ...  \n",
       "1333        1        0        0  \n",
       "1334        0        0        0  \n",
       "1335        0        1        0  \n",
       "1336        0        0        1  \n",
       "1337        1        0        0  \n",
       "\n",
       "[1338 rows x 11 columns]"
      ]
     },
     "execution_count": 31,
     "metadata": {},
     "output_type": "execute_result"
    }
   ],
   "source": [
    "# Load and preprocess the data\n",
    "dataset = pd.read_csv('data/insurance.csv')\n",
    "# Make non numerical features (sex, region, smoker) to categorical features\n",
    "dataset['sex'] = dataset['sex'].astype('category').cat.codes\n",
    "dataset['region'] = dataset['region'].astype('category').cat.codes\n",
    "dataset['smoker'] = dataset['smoker'].astype('category').cat.codes\n",
    "# One hot encoding\n",
    "dataset[['region0', 'region1', 'region2', 'region3']] = pd.get_dummies(dataset['region'])\n",
    "# Scale data into [0, 1]\n",
    "scaler = MinMaxScaler()\n",
    "dataset[['age', 'bmi', 'children']] = scaler.fit_transform(dataset[['age', 'bmi', 'children']])\n",
    "dataset"
   ]
  },
  {
   "cell_type": "code",
   "execution_count": 30,
   "metadata": {
    "collapsed": false
   },
   "outputs": [],
   "source": [
    "# Functions for easy data handling and feature definition\n",
    "training_features = ['age', 'sex', 'bmi', 'children', 'smoker', 'region0', 'region1', 'region2', 'region3']\n",
    "target_variable = 'charges'\n",
    "def get_x(d):\n",
    "    \"\"\"Return the before defined training_features from the given data.\n",
    "\n",
    "    :param d: The data to filter the features from\n",
    "    :type d: pandas.DataFrame\n",
    "    :return: The data of the training_features\n",
    "    :rtype: pandas.DataFrame\n",
    "    \"\"\"\n",
    "    return d[training_features]\n",
    "\n",
    "def get_y(d):\n",
    "    \"\"\"Return the before defined target_variable from the given data.\n",
    "\n",
    "    :param d: The data to filter the features from\n",
    "    :type d: pandas.DataFrame\n",
    "    :return: The data of the training_features\n",
    "    :rtype: pandas.DataFrame\n",
    "    \"\"\"\n",
    "    return d[[target_variable]]"
   ]
  },
  {
   "cell_type": "code",
   "execution_count": 19,
   "metadata": {
    "collapsed": false
   },
   "outputs": [],
   "source": [
    "# Divide data into train and test data\n",
    "X_train, X_test, y_train, y_test = train_test_split(dataset[training_features], dataset[[target_variable]], test_size=0.2, random_state=42,\n",
    "                                                    shuffle=True)"
   ]
  },
  {
   "cell_type": "code",
   "execution_count": 54,
   "metadata": {
    "collapsed": false
   },
   "outputs": [],
   "source": [
    "def plot_loss(history, y_min=None, y_max=None, save_path=None):\n",
    "    \"\"\"Plot the training history and save the figure.\n",
    "\n",
    "    :param history: The history object including the metrics to plot\n",
    "    :type history: keras.callbacks.History\n",
    "    :param y_min: The lover limit of the plot\n",
    "    :type y_min: float, optional\n",
    "    :param y_max: The upper limit of the plot\n",
    "    :type y_max: float, optional\n",
    "    :param save_path: The path to save the plot, if None, it will not be saved\n",
    "    :type save_path: str, optional\n",
    "    \"\"\"\n",
    "    plt.plot(history.history['r_square'], label='train R^2')\n",
    "    plt.plot(history.history['val_r_square'], label='test R^2')\n",
    "    if y_min is not None and y_max is not None:\n",
    "        plt.ylim([y_min, y_max])\n",
    "    plt.xlabel('Epoch')\n",
    "    plt.ylabel('Error')\n",
    "    plt.legend()\n",
    "    plt.grid(True)\n",
    "    if save_path is not None:\n",
    "        plt.savefig(save_path)"
   ]
  },
  {
   "cell_type": "markdown",
   "metadata": {
    "collapsed": false
   },
   "source": [
    "# DNN"
   ]
  },
  {
   "cell_type": "code",
   "execution_count": 51,
   "metadata": {
    "collapsed": false
   },
   "outputs": [],
   "source": [
    "# DNN: compose and compile\n",
    "dnn_model = Sequential([\n",
    "    keras.Input(shape=(9,)),\n",
    "    Dense(32, activation='relu'),\n",
    "    Dropout(0.05),\n",
    "    Dense(16, activation='relu'),\n",
    "    Dense(1)\n",
    "])\n",
    "\n",
    "dnn_model.compile(loss=tf.losses.mae,\n",
    "                  optimizer=tf.optimizers.SGD(),\n",
    "                  metrics=[\"mae\", 'mean_squared_error', RSquare()]\n",
    "                  )"
   ]
  },
  {
   "cell_type": "code",
   "execution_count": 52,
   "metadata": {
    "collapsed": false
   },
   "outputs": [
    {
     "name": "stdout",
     "output_type": "stream",
     "text": [
      "Epoch 1/100\n",
      "27/27 [==============================] - 1s 18ms/step - loss: 13518.7490 - mae: 13518.7490 - mean_squared_error: 325473792.0000 - r_square: -1.2806 - val_loss: 12655.3281 - val_mae: 12655.3281 - val_mean_squared_error: 310362912.0000 - val_r_square: -1.0663\n",
      "Epoch 2/100\n",
      "27/27 [==============================] - 0s 5ms/step - loss: 13518.2314 - mae: 13518.2314 - mean_squared_error: 325459520.0000 - r_square: -1.2805 - val_loss: 12654.8145 - val_mae: 12654.8145 - val_mean_squared_error: 310349440.0000 - val_r_square: -1.0662\n",
      "Epoch 3/100\n",
      "27/27 [==============================] - 0s 4ms/step - loss: 13517.6768 - mae: 13517.6768 - mean_squared_error: 325444288.0000 - r_square: -1.2804 - val_loss: 12654.1445 - val_mae: 12654.1445 - val_mean_squared_error: 310331776.0000 - val_r_square: -1.0661\n",
      "Epoch 4/100\n",
      "27/27 [==============================] - 0s 4ms/step - loss: 13516.7617 - mae: 13516.7617 - mean_squared_error: 325418752.0000 - r_square: -1.2802 - val_loss: 12652.8037 - val_mae: 12652.8037 - val_mean_squared_error: 310296032.0000 - val_r_square: -1.0658\n",
      "Epoch 5/100\n",
      "27/27 [==============================] - 0s 5ms/step - loss: 13514.2881 - mae: 13514.2881 - mean_squared_error: 325348128.0000 - r_square: -1.2797 - val_loss: 12647.9629 - val_mae: 12647.9629 - val_mean_squared_error: 310165632.0000 - val_r_square: -1.0649\n",
      "Epoch 6/100\n",
      "27/27 [==============================] - 0s 4ms/step - loss: 13496.0811 - mae: 13496.0811 - mean_squared_error: 324825856.0000 - r_square: -1.2760 - val_loss: 12583.1543 - val_mae: 12583.1543 - val_mean_squared_error: 308409824.0000 - val_r_square: -1.0533\n",
      "Epoch 7/100\n",
      "27/27 [==============================] - 0s 5ms/step - loss: 10851.7139 - mae: 10851.7139 - mean_squared_error: 243673840.0000 - r_square: -0.7074 - val_loss: 6681.2744 - val_mae: 6681.2744 - val_mean_squared_error: 115243648.0000 - val_r_square: 0.2328\n",
      "Epoch 8/100\n",
      "27/27 [==============================] - 0s 4ms/step - loss: 6099.0200 - mae: 6099.0200 - mean_squared_error: 85840560.0000 - r_square: 0.3985 - val_loss: 5637.8018 - val_mae: 5637.8018 - val_mean_squared_error: 44293004.0000 - val_r_square: 0.7051\n",
      "Epoch 9/100\n",
      "27/27 [==============================] - 0s 5ms/step - loss: 4940.6064 - mae: 4940.6064 - mean_squared_error: 53009320.0000 - r_square: 0.6286 - val_loss: 8372.8643 - val_mae: 8372.8643 - val_mean_squared_error: 95150256.0000 - val_r_square: 0.3665\n",
      "Epoch 10/100\n",
      "27/27 [==============================] - 0s 5ms/step - loss: 4904.6899 - mae: 4904.6899 - mean_squared_error: 54375588.0000 - r_square: 0.6190 - val_loss: 4809.7788 - val_mae: 4809.7788 - val_mean_squared_error: 39806216.0000 - val_r_square: 0.7350\n",
      "Epoch 11/100\n",
      "27/27 [==============================] - 0s 3ms/step - loss: 4883.0366 - mae: 4883.0366 - mean_squared_error: 56135508.0000 - r_square: 0.6067 - val_loss: 5587.6289 - val_mae: 5587.6289 - val_mean_squared_error: 73645440.0000 - val_r_square: 0.5097\n",
      "Epoch 12/100\n",
      "27/27 [==============================] - 0s 3ms/step - loss: 4736.6270 - mae: 4736.6270 - mean_squared_error: 54199520.0000 - r_square: 0.6202 - val_loss: 4049.6174 - val_mae: 4049.6174 - val_mean_squared_error: 36032692.0000 - val_r_square: 0.7601\n",
      "Epoch 13/100\n",
      "27/27 [==============================] - 0s 4ms/step - loss: 4880.6860 - mae: 4880.6860 - mean_squared_error: 54757160.0000 - r_square: 0.6163 - val_loss: 5548.1689 - val_mae: 5548.1689 - val_mean_squared_error: 71761744.0000 - val_r_square: 0.5222\n",
      "Epoch 14/100\n",
      "27/27 [==============================] - 0s 4ms/step - loss: 4315.2524 - mae: 4315.2524 - mean_squared_error: 47766008.0000 - r_square: 0.6653 - val_loss: 5659.5566 - val_mae: 5659.5566 - val_mean_squared_error: 72004744.0000 - val_r_square: 0.5206\n",
      "Epoch 15/100\n",
      "27/27 [==============================] - 0s 4ms/step - loss: 4847.5317 - mae: 4847.5317 - mean_squared_error: 55438092.0000 - r_square: 0.6116 - val_loss: 3353.9326 - val_mae: 3353.9326 - val_mean_squared_error: 41062648.0000 - val_r_square: 0.7266\n",
      "Epoch 16/100\n",
      "27/27 [==============================] - 0s 4ms/step - loss: 4446.7935 - mae: 4446.7935 - mean_squared_error: 49932944.0000 - r_square: 0.6501 - val_loss: 5356.3037 - val_mae: 5356.3037 - val_mean_squared_error: 74532424.0000 - val_r_square: 0.5038\n",
      "Epoch 17/100\n",
      "27/27 [==============================] - 0s 5ms/step - loss: 4569.2388 - mae: 4569.2388 - mean_squared_error: 51169728.0000 - r_square: 0.6415 - val_loss: 4479.2686 - val_mae: 4479.2686 - val_mean_squared_error: 60010380.0000 - val_r_square: 0.6005\n",
      "Epoch 18/100\n",
      "27/27 [==============================] - 0s 5ms/step - loss: 4312.8608 - mae: 4312.8608 - mean_squared_error: 49982288.0000 - r_square: 0.6498 - val_loss: 6405.2578 - val_mae: 6405.2578 - val_mean_squared_error: 89723648.0000 - val_r_square: 0.4027\n",
      "Epoch 19/100\n",
      "27/27 [==============================] - 0s 5ms/step - loss: 4588.2241 - mae: 4588.2241 - mean_squared_error: 50569588.0000 - r_square: 0.6457 - val_loss: 6261.0947 - val_mae: 6261.0947 - val_mean_squared_error: 85238696.0000 - val_r_square: 0.4325\n",
      "Epoch 20/100\n",
      "27/27 [==============================] - 0s 5ms/step - loss: 4601.4028 - mae: 4601.4028 - mean_squared_error: 52982540.0000 - r_square: 0.6288 - val_loss: 4713.9287 - val_mae: 4713.9287 - val_mean_squared_error: 56211012.0000 - val_r_square: 0.6258\n",
      "Epoch 21/100\n",
      "27/27 [==============================] - 0s 5ms/step - loss: 4357.6929 - mae: 4357.6929 - mean_squared_error: 46228568.0000 - r_square: 0.6761 - val_loss: 7036.8970 - val_mae: 7036.8970 - val_mean_squared_error: 103934088.0000 - val_r_square: 0.3081\n",
      "Epoch 22/100\n",
      "27/27 [==============================] - 0s 5ms/step - loss: 4849.3086 - mae: 4849.3086 - mean_squared_error: 54696764.0000 - r_square: 0.6167 - val_loss: 5728.8477 - val_mae: 5728.8477 - val_mean_squared_error: 71257272.0000 - val_r_square: 0.5256\n",
      "Epoch 23/100\n",
      "27/27 [==============================] - 0s 4ms/step - loss: 4262.1196 - mae: 4262.1196 - mean_squared_error: 47013220.0000 - r_square: 0.6706 - val_loss: 3769.0259 - val_mae: 3769.0259 - val_mean_squared_error: 43522292.0000 - val_r_square: 0.7102\n",
      "Epoch 24/100\n",
      "27/27 [==============================] - 0s 5ms/step - loss: 4288.7993 - mae: 4288.7993 - mean_squared_error: 44514204.0000 - r_square: 0.6881 - val_loss: 3249.6904 - val_mae: 3249.6904 - val_mean_squared_error: 33346976.0000 - val_r_square: 0.7780\n",
      "Epoch 25/100\n",
      "27/27 [==============================] - 0s 5ms/step - loss: 4128.2065 - mae: 4128.2065 - mean_squared_error: 45951712.0000 - r_square: 0.6780 - val_loss: 4282.4165 - val_mae: 4282.4165 - val_mean_squared_error: 56644080.0000 - val_r_square: 0.6229\n",
      "Epoch 26/100\n",
      "27/27 [==============================] - 0s 5ms/step - loss: 4246.6626 - mae: 4246.6626 - mean_squared_error: 48716432.0000 - r_square: 0.6586 - val_loss: 3263.9314 - val_mae: 3263.9314 - val_mean_squared_error: 27456328.0000 - val_r_square: 0.8172\n",
      "Epoch 27/100\n",
      "27/27 [==============================] - 0s 5ms/step - loss: 3859.2764 - mae: 3859.2764 - mean_squared_error: 41402900.0000 - r_square: 0.7099 - val_loss: 4798.8955 - val_mae: 4798.8955 - val_mean_squared_error: 53659120.0000 - val_r_square: 0.6428\n",
      "Epoch 28/100\n",
      "27/27 [==============================] - 0s 5ms/step - loss: 4214.6323 - mae: 4214.6323 - mean_squared_error: 45500812.0000 - r_square: 0.6812 - val_loss: 4083.1262 - val_mae: 4083.1262 - val_mean_squared_error: 32928954.0000 - val_r_square: 0.7808\n",
      "Epoch 29/100\n",
      "27/27 [==============================] - 0s 4ms/step - loss: 4823.7031 - mae: 4823.7031 - mean_squared_error: 53744036.0000 - r_square: 0.6234 - val_loss: 2619.4597 - val_mae: 2619.4597 - val_mean_squared_error: 27984684.0000 - val_r_square: 0.8137\n",
      "Epoch 30/100\n",
      "27/27 [==============================] - 0s 5ms/step - loss: 4537.2544 - mae: 4537.2544 - mean_squared_error: 50498692.0000 - r_square: 0.6462 - val_loss: 4501.1123 - val_mae: 4501.1123 - val_mean_squared_error: 51030424.0000 - val_r_square: 0.6603\n",
      "Epoch 31/100\n",
      "27/27 [==============================] - 0s 5ms/step - loss: 4350.5073 - mae: 4350.5073 - mean_squared_error: 50006652.0000 - r_square: 0.6496 - val_loss: 3091.8203 - val_mae: 3091.8203 - val_mean_squared_error: 23740426.0000 - val_r_square: 0.8419\n",
      "Epoch 32/100\n",
      "27/27 [==============================] - 0s 5ms/step - loss: 4296.2251 - mae: 4296.2251 - mean_squared_error: 45509876.0000 - r_square: 0.6811 - val_loss: 5561.8804 - val_mae: 5561.8804 - val_mean_squared_error: 72025560.0000 - val_r_square: 0.5205\n",
      "Epoch 33/100\n",
      "27/27 [==============================] - 0s 5ms/step - loss: 4255.3311 - mae: 4255.3311 - mean_squared_error: 48630712.0000 - r_square: 0.6593 - val_loss: 5553.6328 - val_mae: 5553.6328 - val_mean_squared_error: 66981028.0000 - val_r_square: 0.5541\n",
      "Epoch 34/100\n",
      "27/27 [==============================] - 0s 5ms/step - loss: 4429.9570 - mae: 4429.9570 - mean_squared_error: 50994804.0000 - r_square: 0.6427 - val_loss: 3159.8367 - val_mae: 3159.8367 - val_mean_squared_error: 30365906.0000 - val_r_square: 0.7978\n",
      "Epoch 35/100\n",
      "27/27 [==============================] - 0s 5ms/step - loss: 4455.3789 - mae: 4455.3789 - mean_squared_error: 50300712.0000 - r_square: 0.6475 - val_loss: 4746.0273 - val_mae: 4746.0273 - val_mean_squared_error: 38102696.0000 - val_r_square: 0.7463\n",
      "Epoch 36/100\n",
      "27/27 [==============================] - 0s 5ms/step - loss: 4356.5571 - mae: 4356.5571 - mean_squared_error: 46921580.0000 - r_square: 0.6712 - val_loss: 6181.7173 - val_mae: 6181.7173 - val_mean_squared_error: 79784712.0000 - val_r_square: 0.4688\n",
      "Epoch 37/100\n",
      "27/27 [==============================] - 0s 5ms/step - loss: 4312.5425 - mae: 4312.5425 - mean_squared_error: 49018156.0000 - r_square: 0.6565 - val_loss: 4337.0815 - val_mae: 4337.0815 - val_mean_squared_error: 51248840.0000 - val_r_square: 0.6588\n",
      "Epoch 38/100\n",
      "27/27 [==============================] - 0s 3ms/step - loss: 4149.0942 - mae: 4149.0942 - mean_squared_error: 43183348.0000 - r_square: 0.6974 - val_loss: 5272.8091 - val_mae: 5272.8091 - val_mean_squared_error: 65772916.0000 - val_r_square: 0.5621\n",
      "Epoch 39/100\n",
      "27/27 [==============================] - 0s 5ms/step - loss: 3886.8604 - mae: 3886.8604 - mean_squared_error: 40730900.0000 - r_square: 0.7146 - val_loss: 3118.0845 - val_mae: 3118.0845 - val_mean_squared_error: 22617560.0000 - val_r_square: 0.8494\n",
      "Epoch 40/100\n",
      "27/27 [==============================] - 0s 5ms/step - loss: 4339.3354 - mae: 4339.3354 - mean_squared_error: 48921472.0000 - r_square: 0.6572 - val_loss: 6365.1494 - val_mae: 6365.1494 - val_mean_squared_error: 92339408.0000 - val_r_square: 0.3852\n",
      "Epoch 41/100\n",
      "27/27 [==============================] - 0s 5ms/step - loss: 4275.5537 - mae: 4275.5537 - mean_squared_error: 45044312.0000 - r_square: 0.6844 - val_loss: 6177.0205 - val_mae: 6177.0205 - val_mean_squared_error: 79060944.0000 - val_r_square: 0.4736\n",
      "Epoch 42/100\n",
      "27/27 [==============================] - 0s 5ms/step - loss: 4286.1543 - mae: 4286.1543 - mean_squared_error: 48194464.0000 - r_square: 0.6623 - val_loss: 2778.1096 - val_mae: 2778.1096 - val_mean_squared_error: 26785662.0000 - val_r_square: 0.8217\n",
      "Epoch 43/100\n",
      "27/27 [==============================] - 0s 5ms/step - loss: 4415.5303 - mae: 4415.5303 - mean_squared_error: 50009608.0000 - r_square: 0.6496 - val_loss: 2362.1338 - val_mae: 2362.1338 - val_mean_squared_error: 25793190.0000 - val_r_square: 0.8283\n",
      "Epoch 44/100\n",
      "27/27 [==============================] - 0s 5ms/step - loss: 4339.9556 - mae: 4339.9556 - mean_squared_error: 45493492.0000 - r_square: 0.6812 - val_loss: 2420.4207 - val_mae: 2420.4207 - val_mean_squared_error: 23741354.0000 - val_r_square: 0.8419\n",
      "Epoch 45/100\n",
      "27/27 [==============================] - 0s 5ms/step - loss: 3918.0876 - mae: 3918.0876 - mean_squared_error: 42901576.0000 - r_square: 0.6994 - val_loss: 4493.7036 - val_mae: 4493.7036 - val_mean_squared_error: 51701280.0000 - val_r_square: 0.6558\n",
      "Epoch 46/100\n",
      "27/27 [==============================] - 0s 5ms/step - loss: 4276.3608 - mae: 4276.3608 - mean_squared_error: 47110856.0000 - r_square: 0.6699 - val_loss: 2753.1846 - val_mae: 2753.1846 - val_mean_squared_error: 28074170.0000 - val_r_square: 0.8131\n",
      "Epoch 47/100\n",
      "27/27 [==============================] - 0s 5ms/step - loss: 3880.4790 - mae: 3880.4790 - mean_squared_error: 42157160.0000 - r_square: 0.7046 - val_loss: 4614.6685 - val_mae: 4614.6685 - val_mean_squared_error: 50057556.0000 - val_r_square: 0.6667\n",
      "Epoch 48/100\n",
      "27/27 [==============================] - 0s 5ms/step - loss: 4000.6960 - mae: 4000.6960 - mean_squared_error: 41860136.0000 - r_square: 0.7067 - val_loss: 4469.2676 - val_mae: 4469.2676 - val_mean_squared_error: 52079784.0000 - val_r_square: 0.6533\n",
      "Epoch 49/100\n",
      "27/27 [==============================] - 0s 5ms/step - loss: 4013.4080 - mae: 4013.4080 - mean_squared_error: 43350264.0000 - r_square: 0.6962 - val_loss: 2523.0278 - val_mae: 2523.0278 - val_mean_squared_error: 30151030.0000 - val_r_square: 0.7993\n",
      "Epoch 50/100\n",
      "27/27 [==============================] - 0s 5ms/step - loss: 4187.1245 - mae: 4187.1245 - mean_squared_error: 47872824.0000 - r_square: 0.6646 - val_loss: 2669.0315 - val_mae: 2669.0315 - val_mean_squared_error: 26895394.0000 - val_r_square: 0.8209\n",
      "Epoch 51/100\n",
      "27/27 [==============================] - 0s 5ms/step - loss: 3633.2517 - mae: 3633.2517 - mean_squared_error: 38159844.0000 - r_square: 0.7326 - val_loss: 3055.5728 - val_mae: 3055.5728 - val_mean_squared_error: 31438716.0000 - val_r_square: 0.7907\n",
      "Epoch 52/100\n",
      "27/27 [==============================] - 0s 5ms/step - loss: 3850.8870 - mae: 3850.8870 - mean_squared_error: 41502040.0000 - r_square: 0.7092 - val_loss: 5531.7637 - val_mae: 5531.7642 - val_mean_squared_error: 68305784.0000 - val_r_square: 0.5453\n",
      "Epoch 53/100\n",
      "27/27 [==============================] - 0s 5ms/step - loss: 3921.8845 - mae: 3921.8845 - mean_squared_error: 42491140.0000 - r_square: 0.7023 - val_loss: 3384.2927 - val_mae: 3384.2927 - val_mean_squared_error: 32464968.0000 - val_r_square: 0.7839\n",
      "Epoch 54/100\n",
      "27/27 [==============================] - 0s 4ms/step - loss: 3742.5181 - mae: 3742.5181 - mean_squared_error: 41311888.0000 - r_square: 0.7105 - val_loss: 5720.0337 - val_mae: 5720.0337 - val_mean_squared_error: 57053020.0000 - val_r_square: 0.6202\n",
      "Epoch 55/100\n",
      "27/27 [==============================] - 0s 4ms/step - loss: 3778.9556 - mae: 3778.9556 - mean_squared_error: 40935864.0000 - r_square: 0.7132 - val_loss: 3806.7693 - val_mae: 3806.7693 - val_mean_squared_error: 47622800.0000 - val_r_square: 0.6829\n",
      "Epoch 56/100\n",
      "27/27 [==============================] - 0s 3ms/step - loss: 4049.9424 - mae: 4049.9424 - mean_squared_error: 45278948.0000 - r_square: 0.6827 - val_loss: 2549.9399 - val_mae: 2549.9399 - val_mean_squared_error: 25704298.0000 - val_r_square: 0.8289\n",
      "Epoch 57/100\n",
      "27/27 [==============================] - 0s 3ms/step - loss: 4126.8677 - mae: 4126.8677 - mean_squared_error: 45511052.0000 - r_square: 0.6811 - val_loss: 3130.5029 - val_mae: 3130.5029 - val_mean_squared_error: 32928066.0000 - val_r_square: 0.7808\n",
      "Epoch 58/100\n",
      "27/27 [==============================] - 0s 4ms/step - loss: 3828.3992 - mae: 3828.3992 - mean_squared_error: 43868348.0000 - r_square: 0.6926 - val_loss: 5191.4316 - val_mae: 5191.4316 - val_mean_squared_error: 42070372.0000 - val_r_square: 0.7199\n",
      "Epoch 59/100\n",
      "27/27 [==============================] - 0s 5ms/step - loss: 4082.0688 - mae: 4082.0688 - mean_squared_error: 44222992.0000 - r_square: 0.6901 - val_loss: 6218.0278 - val_mae: 6218.0278 - val_mean_squared_error: 85904296.0000 - val_r_square: 0.4281\n",
      "Epoch 60/100\n",
      "27/27 [==============================] - 0s 4ms/step - loss: 3653.4331 - mae: 3653.4331 - mean_squared_error: 37586844.0000 - r_square: 0.7366 - val_loss: 2932.7593 - val_mae: 2932.7593 - val_mean_squared_error: 23329820.0000 - val_r_square: 0.8447\n",
      "Epoch 61/100\n",
      "27/27 [==============================] - 0s 4ms/step - loss: 3870.3967 - mae: 3870.3967 - mean_squared_error: 41087332.0000 - r_square: 0.7121 - val_loss: 2863.2544 - val_mae: 2863.2544 - val_mean_squared_error: 22822600.0000 - val_r_square: 0.8481\n",
      "Epoch 62/100\n",
      "27/27 [==============================] - 0s 4ms/step - loss: 3969.6428 - mae: 3969.6428 - mean_squared_error: 44127860.0000 - r_square: 0.6908 - val_loss: 2869.2236 - val_mae: 2869.2236 - val_mean_squared_error: 23212676.0000 - val_r_square: 0.8455\n",
      "Epoch 63/100\n",
      "27/27 [==============================] - 0s 4ms/step - loss: 3918.5977 - mae: 3918.5977 - mean_squared_error: 42171540.0000 - r_square: 0.7045 - val_loss: 3331.0386 - val_mae: 3331.0386 - val_mean_squared_error: 24366996.0000 - val_r_square: 0.8378\n",
      "Epoch 64/100\n",
      "27/27 [==============================] - 0s 4ms/step - loss: 3822.5381 - mae: 3822.5381 - mean_squared_error: 39336316.0000 - r_square: 0.7244 - val_loss: 2496.3989 - val_mae: 2496.3989 - val_mean_squared_error: 29328062.0000 - val_r_square: 0.8047\n",
      "Epoch 65/100\n",
      "27/27 [==============================] - 0s 4ms/step - loss: 3763.9700 - mae: 3763.9700 - mean_squared_error: 40212584.0000 - r_square: 0.7182 - val_loss: 3273.0286 - val_mae: 3273.0286 - val_mean_squared_error: 36506544.0000 - val_r_square: 0.7570\n",
      "Epoch 66/100\n",
      "27/27 [==============================] - 0s 5ms/step - loss: 3795.1211 - mae: 3795.1211 - mean_squared_error: 40206052.0000 - r_square: 0.7183 - val_loss: 5330.1865 - val_mae: 5330.1865 - val_mean_squared_error: 65115948.0000 - val_r_square: 0.5665\n",
      "Epoch 67/100\n",
      "27/27 [==============================] - 0s 5ms/step - loss: 3914.1658 - mae: 3914.1658 - mean_squared_error: 46952136.0000 - r_square: 0.6710 - val_loss: 3282.9912 - val_mae: 3282.9912 - val_mean_squared_error: 25070826.0000 - val_r_square: 0.8331\n",
      "Epoch 68/100\n",
      "27/27 [==============================] - 0s 4ms/step - loss: 3386.5337 - mae: 3386.5337 - mean_squared_error: 33850240.0000 - r_square: 0.7628 - val_loss: 4704.8164 - val_mae: 4704.8164 - val_mean_squared_error: 55169488.0000 - val_r_square: 0.6327\n",
      "Epoch 69/100\n",
      "27/27 [==============================] - 0s 5ms/step - loss: 3621.9358 - mae: 3621.9358 - mean_squared_error: 38432568.0000 - r_square: 0.7307 - val_loss: 3165.0488 - val_mae: 3165.0488 - val_mean_squared_error: 25725932.0000 - val_r_square: 0.8287\n",
      "Epoch 70/100\n",
      "27/27 [==============================] - 0s 5ms/step - loss: 3553.7942 - mae: 3553.7942 - mean_squared_error: 35773592.0000 - r_square: 0.7493 - val_loss: 3877.0918 - val_mae: 3877.0918 - val_mean_squared_error: 41255772.0000 - val_r_square: 0.7253\n",
      "Epoch 71/100\n",
      "27/27 [==============================] - 0s 5ms/step - loss: 3617.8179 - mae: 3617.8179 - mean_squared_error: 39089232.0000 - r_square: 0.7261 - val_loss: 5127.9502 - val_mae: 5127.9502 - val_mean_squared_error: 61509784.0000 - val_r_square: 0.5905\n",
      "Epoch 72/100\n",
      "27/27 [==============================] - 0s 5ms/step - loss: 3441.2527 - mae: 3441.2527 - mean_squared_error: 37221516.0000 - r_square: 0.7392 - val_loss: 2337.0837 - val_mae: 2337.0837 - val_mean_squared_error: 22276572.0000 - val_r_square: 0.8517\n",
      "Epoch 73/100\n",
      "27/27 [==============================] - 0s 5ms/step - loss: 3668.2144 - mae: 3668.2144 - mean_squared_error: 39604184.0000 - r_square: 0.7225 - val_loss: 3331.2651 - val_mae: 3331.2651 - val_mean_squared_error: 29770330.0000 - val_r_square: 0.8018\n",
      "Epoch 74/100\n",
      "27/27 [==============================] - 0s 5ms/step - loss: 3890.6396 - mae: 3890.6396 - mean_squared_error: 40262640.0000 - r_square: 0.7179 - val_loss: 2996.0239 - val_mae: 2996.0239 - val_mean_squared_error: 23641256.0000 - val_r_square: 0.8426\n",
      "Epoch 75/100\n",
      "27/27 [==============================] - 0s 5ms/step - loss: 3706.3633 - mae: 3706.3633 - mean_squared_error: 39677908.0000 - r_square: 0.7220 - val_loss: 3076.8015 - val_mae: 3076.8015 - val_mean_squared_error: 24673328.0000 - val_r_square: 0.8357\n",
      "Epoch 76/100\n",
      "27/27 [==============================] - 0s 5ms/step - loss: 3812.7737 - mae: 3812.7737 - mean_squared_error: 41744820.0000 - r_square: 0.7075 - val_loss: 4271.3159 - val_mae: 4271.3159 - val_mean_squared_error: 47362212.0000 - val_r_square: 0.6847\n",
      "Epoch 77/100\n",
      "27/27 [==============================] - 0s 5ms/step - loss: 3689.6924 - mae: 3689.6924 - mean_squared_error: 39066328.0000 - r_square: 0.7263 - val_loss: 2404.3379 - val_mae: 2404.3379 - val_mean_squared_error: 22984398.0000 - val_r_square: 0.8470\n",
      "Epoch 78/100\n",
      "27/27 [==============================] - 0s 4ms/step - loss: 3698.6140 - mae: 3698.6140 - mean_squared_error: 38236236.0000 - r_square: 0.7321 - val_loss: 4050.6724 - val_mae: 4050.6724 - val_mean_squared_error: 48403336.0000 - val_r_square: 0.6778\n",
      "Epoch 79/100\n",
      "27/27 [==============================] - 0s 4ms/step - loss: 3564.1699 - mae: 3564.1699 - mean_squared_error: 36631920.0000 - r_square: 0.7433 - val_loss: 4103.4556 - val_mae: 4103.4556 - val_mean_squared_error: 47556512.0000 - val_r_square: 0.6834\n",
      "Epoch 80/100\n",
      "27/27 [==============================] - 0s 4ms/step - loss: 3701.2473 - mae: 3701.2473 - mean_squared_error: 38182260.0000 - r_square: 0.7325 - val_loss: 2567.7341 - val_mae: 2567.7341 - val_mean_squared_error: 25364812.0000 - val_r_square: 0.8311\n",
      "Epoch 81/100\n",
      "27/27 [==============================] - 0s 4ms/step - loss: 3368.4504 - mae: 3368.4504 - mean_squared_error: 35521604.0000 - r_square: 0.7511 - val_loss: 3530.9241 - val_mae: 3530.9241 - val_mean_squared_error: 42861172.0000 - val_r_square: 0.7146\n",
      "Epoch 82/100\n",
      "27/27 [==============================] - 0s 4ms/step - loss: 3941.7681 - mae: 3941.7681 - mean_squared_error: 44465148.0000 - r_square: 0.6884 - val_loss: 2493.2219 - val_mae: 2493.2219 - val_mean_squared_error: 28822870.0000 - val_r_square: 0.8081\n",
      "Epoch 83/100\n",
      "27/27 [==============================] - 0s 4ms/step - loss: 3454.4597 - mae: 3454.4597 - mean_squared_error: 38500624.0000 - r_square: 0.7302 - val_loss: 2583.4443 - val_mae: 2583.4443 - val_mean_squared_error: 27323492.0000 - val_r_square: 0.8181\n",
      "Epoch 84/100\n",
      "27/27 [==============================] - 0s 3ms/step - loss: 3375.4976 - mae: 3375.4976 - mean_squared_error: 36820852.0000 - r_square: 0.7420 - val_loss: 2591.7092 - val_mae: 2591.7092 - val_mean_squared_error: 27709158.0000 - val_r_square: 0.8155\n",
      "Epoch 85/100\n",
      "27/27 [==============================] - 0s 4ms/step - loss: 3444.0117 - mae: 3444.0117 - mean_squared_error: 35724052.0000 - r_square: 0.7497 - val_loss: 5439.8931 - val_mae: 5439.8931 - val_mean_squared_error: 65962592.0000 - val_r_square: 0.5609\n",
      "Epoch 86/100\n",
      "27/27 [==============================] - 0s 4ms/step - loss: 3457.2693 - mae: 3457.2693 - mean_squared_error: 38541844.0000 - r_square: 0.7299 - val_loss: 3585.4329 - val_mae: 3585.4329 - val_mean_squared_error: 36135300.0000 - val_r_square: 0.7594\n",
      "Epoch 87/100\n",
      "27/27 [==============================] - 0s 4ms/step - loss: 3240.1296 - mae: 3240.1296 - mean_squared_error: 34593456.0000 - r_square: 0.7576 - val_loss: 2273.3472 - val_mae: 2273.3472 - val_mean_squared_error: 23232224.0000 - val_r_square: 0.8453\n",
      "Epoch 88/100\n",
      "27/27 [==============================] - 0s 4ms/step - loss: 3372.7178 - mae: 3372.7178 - mean_squared_error: 36862672.0000 - r_square: 0.7417 - val_loss: 2926.1860 - val_mae: 2926.1860 - val_mean_squared_error: 23328870.0000 - val_r_square: 0.8447\n",
      "Epoch 89/100\n",
      "27/27 [==============================] - 0s 3ms/step - loss: 3427.9790 - mae: 3427.9790 - mean_squared_error: 36878064.0000 - r_square: 0.7416 - val_loss: 3626.4670 - val_mae: 3626.4668 - val_mean_squared_error: 42655848.0000 - val_r_square: 0.7160\n",
      "Epoch 90/100\n",
      "27/27 [==============================] - 0s 5ms/step - loss: 3447.8894 - mae: 3447.8894 - mean_squared_error: 35161040.0000 - r_square: 0.7536 - val_loss: 3625.8914 - val_mae: 3625.8914 - val_mean_squared_error: 37513120.0000 - val_r_square: 0.7503\n",
      "Epoch 91/100\n",
      "27/27 [==============================] - 0s 5ms/step - loss: 3479.1907 - mae: 3479.1907 - mean_squared_error: 35491020.0000 - r_square: 0.7513 - val_loss: 2369.1831 - val_mae: 2369.1831 - val_mean_squared_error: 21977956.0000 - val_r_square: 0.8537\n",
      "Epoch 92/100\n",
      "27/27 [==============================] - 0s 5ms/step - loss: 3687.7585 - mae: 3687.7585 - mean_squared_error: 38762188.0000 - r_square: 0.7284 - val_loss: 4276.3301 - val_mae: 4276.3301 - val_mean_squared_error: 49961272.0000 - val_r_square: 0.6674\n",
      "Epoch 93/100\n",
      "27/27 [==============================] - 0s 4ms/step - loss: 3525.2549 - mae: 3525.2549 - mean_squared_error: 37125804.0000 - r_square: 0.7399 - val_loss: 3046.5725 - val_mae: 3046.5725 - val_mean_squared_error: 27522674.0000 - val_r_square: 0.8168\n",
      "Epoch 94/100\n",
      "27/27 [==============================] - 0s 3ms/step - loss: 3656.6750 - mae: 3656.6750 - mean_squared_error: 40515020.0000 - r_square: 0.7161 - val_loss: 2693.2737 - val_mae: 2693.2737 - val_mean_squared_error: 30577810.0000 - val_r_square: 0.7964\n",
      "Epoch 95/100\n",
      "27/27 [==============================] - 0s 5ms/step - loss: 3360.3716 - mae: 3360.3716 - mean_squared_error: 35965584.0000 - r_square: 0.7480 - val_loss: 3222.0847 - val_mae: 3222.0847 - val_mean_squared_error: 23872508.0000 - val_r_square: 0.8411\n",
      "Epoch 96/100\n",
      "27/27 [==============================] - 0s 5ms/step - loss: 3455.7163 - mae: 3455.7163 - mean_squared_error: 36691776.0000 - r_square: 0.7429 - val_loss: 2095.9675 - val_mae: 2095.9675 - val_mean_squared_error: 22832750.0000 - val_r_square: 0.8480\n",
      "Epoch 97/100\n",
      "27/27 [==============================] - 0s 5ms/step - loss: 3376.7397 - mae: 3376.7397 - mean_squared_error: 36848672.0000 - r_square: 0.7418 - val_loss: 3727.7170 - val_mae: 3727.7170 - val_mean_squared_error: 33282658.0000 - val_r_square: 0.7784\n",
      "Epoch 98/100\n",
      "27/27 [==============================] - 0s 4ms/step - loss: 3531.7830 - mae: 3531.7830 - mean_squared_error: 37516856.0000 - r_square: 0.7371 - val_loss: 3405.7917 - val_mae: 3405.7917 - val_mean_squared_error: 26581134.0000 - val_r_square: 0.8230\n",
      "Epoch 99/100\n",
      "27/27 [==============================] - 0s 5ms/step - loss: 3625.1399 - mae: 3625.1399 - mean_squared_error: 41047668.0000 - r_square: 0.7124 - val_loss: 2735.3171 - val_mae: 2735.3171 - val_mean_squared_error: 31759406.0000 - val_r_square: 0.7886\n",
      "Epoch 100/100\n",
      "27/27 [==============================] - 0s 4ms/step - loss: 3268.1438 - mae: 3268.1438 - mean_squared_error: 35414756.0000 - r_square: 0.7519 - val_loss: 2438.1992 - val_mae: 2438.1992 - val_mean_squared_error: 25526898.0000 - val_r_square: 0.8301\n"
     ]
    }
   ],
   "source": [
    "# DNN: train\n",
    "dnn_history = dnn_model.fit(\n",
    "    X_train,\n",
    "    y_train,\n",
    "    shuffle=True,\n",
    "    validation_split=validation_split_size,\n",
    "    epochs=100)"
   ]
  },
  {
   "cell_type": "code",
   "execution_count": 55,
   "metadata": {
    "collapsed": false
   },
   "outputs": [
    {
     "data": {
      "image/png": "[encoded data removed]",
      "text/plain": [
       "<Figure size 432x288 with 1 Axes>"
      ]
     },
     "metadata": {
      "needs_background": "light"
     },
     "output_type": "display_data"
    }
   ],
   "source": [
    "plot_loss(dnn_history, y_min=0.5, y_max=0.9, save_path=\"rsquared_init_params.jpg\")"
   ]
  },
  {
   "cell_type": "code",
   "execution_count": 26,
   "metadata": {
    "collapsed": false
   },
   "outputs": [
    {
     "name": "stdout",
     "output_type": "stream",
     "text": [
      "1/1 [==============================] - 0s 216ms/step\n"
     ]
    },
    {
     "data": {
      "text/plain": [
       "array([[12988.019]], dtype=float32)"
      ]
     },
     "execution_count": 26,
     "metadata": {},
     "output_type": "execute_result"
    }
   ],
   "source": [
    "# Test to predict one sample, features are: 'age', 'sex', 'bmi', 'children', 'smoker', 'region'\n",
    "# The region feature is one hot encoded over four different regions so the last four features blong to region\n",
    "dnn_model.predict([[0.9, 0, 0, 0.1, 0, 0,0,0,1]])"
   ]
  },
  {
   "cell_type": "markdown",
   "metadata": {
    "collapsed": false
   },
   "source": [
    "#### keras tune: DNN Hyper search"
   ]
  },
  {
   "cell_type": "code",
   "execution_count": 33,
   "metadata": {
    "collapsed": false
   },
   "outputs": [],
   "source": [
    "def build_model(hp):\n",
    "    \"\"\"Build and compile model for hyperparameter search\n",
    "\n",
    "    :param hp: Hyperparameter object to define model parameters\n",
    "    :type hp: keras_tuner.HyperParameters\n",
    "    :return: The build and compiled model\n",
    "    :rtype: keras.Model\n",
    "    \"\"\"\n",
    "    model = keras.Sequential()\n",
    "    model.add(Dense(\n",
    "        # Define the hyperparameters.\n",
    "        units=hp.Int(\"units_0\", min_value=8, max_value=64, step=8),\n",
    "        activation=\"relu\",\n",
    "    ))\n",
    "    if hp.Boolean(\"dropout\"):\n",
    "        model.add(Dropout(\n",
    "            rate=hp.Float(\"dropout_rate\", min_value=0.1, max_value=0.3, step=0.05)\n",
    "        ))\n",
    "    model.add(Dense(\n",
    "        # Define the hyperparameter.\n",
    "        units=hp.Int(\"units_1\", min_value=2, max_value=14, step=4), activation=\"relu\",\n",
    "    ))\n",
    "    model.add(Dense(1))\n",
    "    model.compile(\n",
    "        optimizer=\"sgd\",\n",
    "        loss=\"mae\",\n",
    "        metrics=[\"mae\", 'mean_squared_error', RSquare()],\n",
    "    )\n",
    "    return model"
   ]
  },
  {
   "cell_type": "code",
   "execution_count": 41,
   "metadata": {
    "collapsed": false
   },
   "outputs": [],
   "source": [
    "# Prepare hyperparameter search\n",
    "build_model(keras_tuner.HyperParameters())\n",
    "\n",
    "tuner = keras_tuner.RandomSearch(\n",
    "    hypermodel=build_model,\n",
    "    objective=\"val_mae\",\n",
    "    max_trials=3,\n",
    "    executions_per_trial=2,\n",
    "    overwrite=True,\n",
    "    directory=\"keras_tune_results\",\n",
    "    project_name=\"insurance-dnn-tuner\",\n",
    ")\n"
   ]
  },
  {
   "cell_type": "code",
   "execution_count": 42,
   "metadata": {
    "collapsed": false
   },
   "outputs": [
    {
     "name": "stdout",
     "output_type": "stream",
     "text": [
      "Trial 3 Complete [00h 00m 30s]\n",
      "val_mae: 2194.21728515625\n",
      "\n",
      "Best val_mae So Far: 2088.236572265625\n",
      "Total elapsed time: 00h 01m 30s\n",
      "INFO:tensorflow:Oracle triggered exit\n"
     ]
    }
   ],
   "source": [
    "# Search best parameters\n",
    "tuner.search(X_train, y_train, epochs=100, validation_split=validation_split_size)"
   ]
  },
  {
   "cell_type": "code",
   "execution_count": 45,
   "metadata": {
    "collapsed": false
   },
   "outputs": [
    {
     "name": "stdout",
     "output_type": "stream",
     "text": [
      "Model: \"sequential_2\"\n",
      "_________________________________________________________________\n",
      " Layer (type)                Output Shape              Param #   \n",
      "=================================================================\n",
      " dense_6 (Dense)             (None, 56)                560       \n",
      "                                                                 \n",
      " dense_7 (Dense)             (None, 10)                570       \n",
      "                                                                 \n",
      " dense_8 (Dense)             (None, 1)                 11        \n",
      "                                                                 \n",
      "=================================================================\n",
      "Total params: 1,141\n",
      "Trainable params: 1,141\n",
      "Non-trainable params: 0\n",
      "_________________________________________________________________\n"
     ]
    }
   ],
   "source": [
    "# Get best found parameters and build such model\n",
    "best_hps = tuner.get_best_hyperparameters(5)\n",
    "best_model = build_model(best_hps[0])\n",
    "best_model.build(input_shape=(None,9))\n",
    "#best_model.build(input_shape=(None,9))\n",
    "best_model.summary()"
   ]
  },
  {
   "cell_type": "code",
   "execution_count": 46,
   "metadata": {
    "collapsed": false
   },
   "outputs": [
    {
     "name": "stdout",
     "output_type": "stream",
     "text": [
      "Epoch 1/100\n",
      "27/27 [==============================] - 1s 18ms/step - loss: 13518.2959 - mae: 13518.2959 - mean_squared_error: 325460576.0000 - r_square: -1.2805 - val_loss: 12654.7363 - val_mae: 12654.7363 - val_mean_squared_error: 310346880.0000 - val_r_square: -1.0662\n",
      "Epoch 2/100\n",
      "27/27 [==============================] - 0s 4ms/step - loss: 13517.1953 - mae: 13517.1953 - mean_squared_error: 325429216.0000 - r_square: -1.2802 - val_loss: 12653.0381 - val_mae: 12653.0381 - val_mean_squared_error: 310303328.0000 - val_r_square: -1.0659\n",
      "Epoch 3/100\n",
      "27/27 [==============================] - 0s 4ms/step - loss: 13513.4775 - mae: 13513.4775 - mean_squared_error: 325325952.0000 - r_square: -1.2795 - val_loss: 12644.9209 - val_mae: 12644.9209 - val_mean_squared_error: 310089216.0000 - val_r_square: -1.0644\n",
      "Epoch 4/100\n",
      "27/27 [==============================] - 0s 4ms/step - loss: 13462.9883 - mae: 13462.9883 - mean_squared_error: 323896032.0000 - r_square: -1.2695 - val_loss: 12382.0352 - val_mae: 12382.0352 - val_mean_squared_error: 303082560.0000 - val_r_square: -1.0178\n",
      "Epoch 5/100\n",
      "27/27 [==============================] - 0s 4ms/step - loss: 8889.7422 - mae: 8889.7422 - mean_squared_error: 175741520.0000 - r_square: -0.2314 - val_loss: 5751.9873 - val_mae: 5751.9873 - val_mean_squared_error: 76952552.0000 - val_r_square: 0.4877\n",
      "Epoch 6/100\n",
      "27/27 [==============================] - 0s 5ms/step - loss: 5820.4639 - mae: 5820.4639 - mean_squared_error: 79394808.0000 - r_square: 0.4437 - val_loss: 5311.4902 - val_mae: 5311.4902 - val_mean_squared_error: 76512888.0000 - val_r_square: 0.4906\n",
      "Epoch 7/100\n",
      "27/27 [==============================] - 0s 5ms/step - loss: 5318.2119 - mae: 5318.2119 - mean_squared_error: 60563748.0000 - r_square: 0.5756 - val_loss: 3384.5281 - val_mae: 3384.5281 - val_mean_squared_error: 41660264.0000 - val_r_square: 0.7226\n",
      "Epoch 8/100\n",
      "27/27 [==============================] - 0s 4ms/step - loss: 5206.9917 - mae: 5206.9917 - mean_squared_error: 62446660.0000 - r_square: 0.5624 - val_loss: 4896.6069 - val_mae: 4896.6069 - val_mean_squared_error: 40755112.0000 - val_r_square: 0.7287\n",
      "Epoch 9/100\n",
      "27/27 [==============================] - 0s 3ms/step - loss: 4781.6211 - mae: 4781.6211 - mean_squared_error: 54032316.0000 - r_square: 0.6214 - val_loss: 4718.0537 - val_mae: 4718.0537 - val_mean_squared_error: 59465380.0000 - val_r_square: 0.6041\n",
      "Epoch 10/100\n",
      "27/27 [==============================] - 0s 4ms/step - loss: 4320.9390 - mae: 4320.9390 - mean_squared_error: 49556140.0000 - r_square: 0.6528 - val_loss: 3725.1418 - val_mae: 3725.1418 - val_mean_squared_error: 40451004.0000 - val_r_square: 0.7307\n",
      "Epoch 11/100\n",
      "27/27 [==============================] - 0s 3ms/step - loss: 4765.1514 - mae: 4765.1514 - mean_squared_error: 53840068.0000 - r_square: 0.6227 - val_loss: 3381.3098 - val_mae: 3381.3098 - val_mean_squared_error: 37839500.0000 - val_r_square: 0.7481\n",
      "Epoch 12/100\n",
      "27/27 [==============================] - 0s 3ms/step - loss: 4592.8218 - mae: 4592.8218 - mean_squared_error: 51295032.0000 - r_square: 0.6406 - val_loss: 3231.2637 - val_mae: 3231.2637 - val_mean_squared_error: 36235436.0000 - val_r_square: 0.7588\n",
      "Epoch 13/100\n",
      "27/27 [==============================] - 0s 4ms/step - loss: 4500.8716 - mae: 4500.8716 - mean_squared_error: 49496132.0000 - r_square: 0.6532 - val_loss: 5663.5034 - val_mae: 5663.5034 - val_mean_squared_error: 68234424.0000 - val_r_square: 0.5457\n",
      "Epoch 14/100\n",
      "27/27 [==============================] - 0s 3ms/step - loss: 4426.0542 - mae: 4426.0542 - mean_squared_error: 50171024.0000 - r_square: 0.6485 - val_loss: 3859.7131 - val_mae: 3859.7131 - val_mean_squared_error: 35976172.0000 - val_r_square: 0.7605\n",
      "Epoch 15/100\n",
      "27/27 [==============================] - 0s 4ms/step - loss: 4358.1113 - mae: 4358.1113 - mean_squared_error: 49071548.0000 - r_square: 0.6562 - val_loss: 3275.3210 - val_mae: 3275.3210 - val_mean_squared_error: 32476116.0000 - val_r_square: 0.7838\n",
      "Epoch 16/100\n",
      "27/27 [==============================] - 0s 5ms/step - loss: 4528.0796 - mae: 4528.0796 - mean_squared_error: 50608796.0000 - r_square: 0.6454 - val_loss: 5979.8047 - val_mae: 5979.8047 - val_mean_squared_error: 61351256.0000 - val_r_square: 0.5916\n",
      "Epoch 17/100\n",
      "27/27 [==============================] - 0s 5ms/step - loss: 4610.4873 - mae: 4610.4873 - mean_squared_error: 51821152.0000 - r_square: 0.6369 - val_loss: 3470.0813 - val_mae: 3470.0813 - val_mean_squared_error: 41746748.0000 - val_r_square: 0.7221\n",
      "Epoch 18/100\n",
      "27/27 [==============================] - 0s 4ms/step - loss: 4388.9277 - mae: 4388.9277 - mean_squared_error: 47193508.0000 - r_square: 0.6693 - val_loss: 5900.1899 - val_mae: 5900.1899 - val_mean_squared_error: 75551824.0000 - val_r_square: 0.4970\n",
      "Epoch 19/100\n",
      "27/27 [==============================] - 0s 5ms/step - loss: 4502.8745 - mae: 4502.8745 - mean_squared_error: 51593368.0000 - r_square: 0.6385 - val_loss: 6250.5684 - val_mae: 6250.5684 - val_mean_squared_error: 82671800.0000 - val_r_square: 0.4496\n",
      "Epoch 20/100\n",
      "27/27 [==============================] - 0s 5ms/step - loss: 4886.2856 - mae: 4886.2856 - mean_squared_error: 55837900.0000 - r_square: 0.6088 - val_loss: 7823.0020 - val_mae: 7823.0020 - val_mean_squared_error: 121283968.0000 - val_r_square: 0.1925\n",
      "Epoch 21/100\n",
      "27/27 [==============================] - 0s 4ms/step - loss: 4498.7285 - mae: 4498.7285 - mean_squared_error: 50590468.0000 - r_square: 0.6455 - val_loss: 3151.4526 - val_mae: 3151.4526 - val_mean_squared_error: 27634942.0000 - val_r_square: 0.8160\n",
      "Epoch 22/100\n",
      "27/27 [==============================] - 0s 5ms/step - loss: 4152.8252 - mae: 4152.8252 - mean_squared_error: 43852260.0000 - r_square: 0.6927 - val_loss: 4625.1006 - val_mae: 4625.1006 - val_mean_squared_error: 48562616.0000 - val_r_square: 0.6767\n",
      "Epoch 23/100\n",
      "27/27 [==============================] - 0s 5ms/step - loss: 4569.6406 - mae: 4569.6406 - mean_squared_error: 49399312.0000 - r_square: 0.6539 - val_loss: 6379.3105 - val_mae: 6379.3105 - val_mean_squared_error: 80283896.0000 - val_r_square: 0.4655\n",
      "Epoch 24/100\n",
      "27/27 [==============================] - 0s 5ms/step - loss: 4228.2612 - mae: 4228.2612 - mean_squared_error: 46725028.0000 - r_square: 0.6726 - val_loss: 6864.3682 - val_mae: 6864.3682 - val_mean_squared_error: 98309112.0000 - val_r_square: 0.3455\n",
      "Epoch 25/100\n",
      "27/27 [==============================] - 0s 5ms/step - loss: 4546.6060 - mae: 4546.6060 - mean_squared_error: 49887136.0000 - r_square: 0.6504 - val_loss: 2586.5747 - val_mae: 2586.5747 - val_mean_squared_error: 27262830.0000 - val_r_square: 0.8185\n",
      "Epoch 26/100\n",
      "27/27 [==============================] - 0s 5ms/step - loss: 4434.0591 - mae: 4434.0591 - mean_squared_error: 48816056.0000 - r_square: 0.6580 - val_loss: 3542.3845 - val_mae: 3542.3845 - val_mean_squared_error: 43048664.0000 - val_r_square: 0.7134\n",
      "Epoch 27/100\n",
      "27/27 [==============================] - 0s 4ms/step - loss: 4309.1655 - mae: 4309.1655 - mean_squared_error: 43466840.0000 - r_square: 0.6954 - val_loss: 8026.3359 - val_mae: 8026.3359 - val_mean_squared_error: 124446904.0000 - val_r_square: 0.1715\n",
      "Epoch 28/100\n",
      "27/27 [==============================] - 0s 3ms/step - loss: 4935.4634 - mae: 4935.4634 - mean_squared_error: 58010396.0000 - r_square: 0.5935 - val_loss: 5441.5762 - val_mae: 5441.5762 - val_mean_squared_error: 62857944.0000 - val_r_square: 0.5815\n",
      "Epoch 29/100\n",
      "27/27 [==============================] - 0s 4ms/step - loss: 4285.3442 - mae: 4285.3442 - mean_squared_error: 45041308.0000 - r_square: 0.6844 - val_loss: 5860.7715 - val_mae: 5860.7715 - val_mean_squared_error: 69075296.0000 - val_r_square: 0.5401\n",
      "Epoch 30/100\n",
      "27/27 [==============================] - 0s 5ms/step - loss: 4496.6274 - mae: 4496.6274 - mean_squared_error: 47425048.0000 - r_square: 0.6677 - val_loss: 2399.9258 - val_mae: 2399.9258 - val_mean_squared_error: 23976250.0000 - val_r_square: 0.8404\n",
      "Epoch 31/100\n",
      "27/27 [==============================] - 0s 5ms/step - loss: 4143.2290 - mae: 4143.2290 - mean_squared_error: 42191648.0000 - r_square: 0.7044 - val_loss: 3336.3379 - val_mae: 3336.3379 - val_mean_squared_error: 38354584.0000 - val_r_square: 0.7447\n",
      "Epoch 32/100\n",
      "27/27 [==============================] - 0s 5ms/step - loss: 4163.6421 - mae: 4163.6421 - mean_squared_error: 43382024.0000 - r_square: 0.6960 - val_loss: 3303.9250 - val_mae: 3303.9250 - val_mean_squared_error: 31325908.0000 - val_r_square: 0.7914\n",
      "Epoch 33/100\n",
      "27/27 [==============================] - 0s 5ms/step - loss: 4226.1289 - mae: 4226.1289 - mean_squared_error: 43679860.0000 - r_square: 0.6939 - val_loss: 3740.3696 - val_mae: 3740.3696 - val_mean_squared_error: 28780978.0000 - val_r_square: 0.8084\n",
      "Epoch 34/100\n",
      "27/27 [==============================] - 0s 5ms/step - loss: 4159.9497 - mae: 4159.9497 - mean_squared_error: 44655632.0000 - r_square: 0.6871 - val_loss: 2520.5635 - val_mae: 2520.5635 - val_mean_squared_error: 22869198.0000 - val_r_square: 0.8477\n",
      "Epoch 35/100\n",
      "27/27 [==============================] - 0s 3ms/step - loss: 3979.3999 - mae: 3979.3999 - mean_squared_error: 40302444.0000 - r_square: 0.7176 - val_loss: 2337.5300 - val_mae: 2337.5300 - val_mean_squared_error: 23290878.0000 - val_r_square: 0.8449\n",
      "Epoch 36/100\n",
      "27/27 [==============================] - 0s 4ms/step - loss: 3852.9683 - mae: 3852.9683 - mean_squared_error: 40789740.0000 - r_square: 0.7142 - val_loss: 2724.8821 - val_mae: 2724.8821 - val_mean_squared_error: 23346152.0000 - val_r_square: 0.8446\n",
      "Epoch 37/100\n",
      "27/27 [==============================] - 0s 5ms/step - loss: 4374.9712 - mae: 4374.9712 - mean_squared_error: 47656768.0000 - r_square: 0.6661 - val_loss: 5070.9966 - val_mae: 5070.9966 - val_mean_squared_error: 54952320.0000 - val_r_square: 0.6342\n",
      "Epoch 38/100\n",
      "27/27 [==============================] - 0s 4ms/step - loss: 4033.4543 - mae: 4033.4543 - mean_squared_error: 46838076.0000 - r_square: 0.6718 - val_loss: 5277.9199 - val_mae: 5277.9199 - val_mean_squared_error: 54383100.0000 - val_r_square: 0.6379\n",
      "Epoch 39/100\n",
      "27/27 [==============================] - 0s 4ms/step - loss: 4048.4036 - mae: 4048.4036 - mean_squared_error: 44369740.0000 - r_square: 0.6891 - val_loss: 4787.3643 - val_mae: 4787.3643 - val_mean_squared_error: 53260420.0000 - val_r_square: 0.6454\n",
      "Epoch 40/100\n",
      "27/27 [==============================] - 0s 5ms/step - loss: 3739.4697 - mae: 3739.4697 - mean_squared_error: 38038036.0000 - r_square: 0.7335 - val_loss: 3990.1011 - val_mae: 3990.1011 - val_mean_squared_error: 52539516.0000 - val_r_square: 0.6502\n",
      "Epoch 41/100\n",
      "27/27 [==============================] - 0s 5ms/step - loss: 3851.2688 - mae: 3851.2688 - mean_squared_error: 37979248.0000 - r_square: 0.7339 - val_loss: 2410.6892 - val_mae: 2410.6892 - val_mean_squared_error: 26571642.0000 - val_r_square: 0.8231\n",
      "Epoch 42/100\n",
      "27/27 [==============================] - 0s 5ms/step - loss: 3889.2424 - mae: 3889.2424 - mean_squared_error: 40875516.0000 - r_square: 0.7136 - val_loss: 3528.1309 - val_mae: 3528.1309 - val_mean_squared_error: 25966046.0000 - val_r_square: 0.8271\n",
      "Epoch 43/100\n",
      "27/27 [==============================] - 0s 5ms/step - loss: 3710.9641 - mae: 3710.9641 - mean_squared_error: 41311492.0000 - r_square: 0.7105 - val_loss: 3928.3738 - val_mae: 3928.3738 - val_mean_squared_error: 27240788.0000 - val_r_square: 0.8186\n",
      "Epoch 44/100\n",
      "27/27 [==============================] - 0s 5ms/step - loss: 3684.2126 - mae: 3684.2126 - mean_squared_error: 36131604.0000 - r_square: 0.7468 - val_loss: 2641.3669 - val_mae: 2641.3669 - val_mean_squared_error: 26547920.0000 - val_r_square: 0.8233\n",
      "Epoch 45/100\n",
      "27/27 [==============================] - 0s 5ms/step - loss: 3750.0649 - mae: 3750.0649 - mean_squared_error: 37984040.0000 - r_square: 0.7339 - val_loss: 4122.6611 - val_mae: 4122.6611 - val_mean_squared_error: 46673316.0000 - val_r_square: 0.6893\n",
      "Epoch 46/100\n",
      "27/27 [==============================] - 0s 5ms/step - loss: 3671.6716 - mae: 3671.6716 - mean_squared_error: 39543708.0000 - r_square: 0.7229 - val_loss: 5067.2144 - val_mae: 5067.2144 - val_mean_squared_error: 59535040.0000 - val_r_square: 0.6036\n",
      "Epoch 47/100\n",
      "27/27 [==============================] - 0s 5ms/step - loss: 3758.8052 - mae: 3758.8052 - mean_squared_error: 38892684.0000 - r_square: 0.7275 - val_loss: 2622.6516 - val_mae: 2622.6516 - val_mean_squared_error: 23976374.0000 - val_r_square: 0.8404\n",
      "Epoch 48/100\n",
      "27/27 [==============================] - 0s 4ms/step - loss: 3481.3855 - mae: 3481.3855 - mean_squared_error: 36744664.0000 - r_square: 0.7425 - val_loss: 4310.7515 - val_mae: 4310.7515 - val_mean_squared_error: 46646264.0000 - val_r_square: 0.6894\n",
      "Epoch 49/100\n",
      "27/27 [==============================] - 0s 5ms/step - loss: 3766.0322 - mae: 3766.0322 - mean_squared_error: 38106352.0000 - r_square: 0.7330 - val_loss: 4717.5439 - val_mae: 4717.5439 - val_mean_squared_error: 50583244.0000 - val_r_square: 0.6632\n",
      "Epoch 50/100\n",
      "27/27 [==============================] - 0s 5ms/step - loss: 3570.1360 - mae: 3570.1360 - mean_squared_error: 38704496.0000 - r_square: 0.7288 - val_loss: 2603.8271 - val_mae: 2603.8271 - val_mean_squared_error: 25326064.0000 - val_r_square: 0.8314\n",
      "Epoch 51/100\n",
      "27/27 [==============================] - 0s 5ms/step - loss: 3421.7605 - mae: 3421.7605 - mean_squared_error: 35820388.0000 - r_square: 0.7490 - val_loss: 2455.8276 - val_mae: 2455.8276 - val_mean_squared_error: 22265794.0000 - val_r_square: 0.8518\n",
      "Epoch 52/100\n",
      "27/27 [==============================] - 0s 5ms/step - loss: 3487.1189 - mae: 3487.1189 - mean_squared_error: 36745216.0000 - r_square: 0.7425 - val_loss: 3607.7297 - val_mae: 3607.7297 - val_mean_squared_error: 37563644.0000 - val_r_square: 0.7499\n",
      "Epoch 53/100\n",
      "27/27 [==============================] - 0s 5ms/step - loss: 3727.1685 - mae: 3727.1685 - mean_squared_error: 40933540.0000 - r_square: 0.7132 - val_loss: 3571.4961 - val_mae: 3571.4961 - val_mean_squared_error: 30675010.0000 - val_r_square: 0.7958\n",
      "Epoch 54/100\n",
      "27/27 [==============================] - 0s 5ms/step - loss: 3464.5190 - mae: 3464.5190 - mean_squared_error: 35921412.0000 - r_square: 0.7483 - val_loss: 2248.6418 - val_mae: 2248.6418 - val_mean_squared_error: 23377040.0000 - val_r_square: 0.8444\n",
      "Epoch 55/100\n",
      "27/27 [==============================] - 0s 5ms/step - loss: 3380.1382 - mae: 3380.1382 - mean_squared_error: 34608684.0000 - r_square: 0.7575 - val_loss: 2266.9763 - val_mae: 2266.9763 - val_mean_squared_error: 23622804.0000 - val_r_square: 0.8427\n",
      "Epoch 56/100\n",
      "27/27 [==============================] - 0s 5ms/step - loss: 3380.6221 - mae: 3380.6221 - mean_squared_error: 32646810.0000 - r_square: 0.7712 - val_loss: 3373.1323 - val_mae: 3373.1323 - val_mean_squared_error: 24807592.0000 - val_r_square: 0.8348\n",
      "Epoch 57/100\n",
      "27/27 [==============================] - 0s 4ms/step - loss: 3134.9514 - mae: 3134.9514 - mean_squared_error: 31958694.0000 - r_square: 0.7761 - val_loss: 3065.3291 - val_mae: 3065.3291 - val_mean_squared_error: 34622216.0000 - val_r_square: 0.7695\n",
      "Epoch 58/100\n",
      "27/27 [==============================] - 0s 4ms/step - loss: 3521.4387 - mae: 3521.4387 - mean_squared_error: 34417680.0000 - r_square: 0.7588 - val_loss: 3513.5486 - val_mae: 3513.5486 - val_mean_squared_error: 25147278.0000 - val_r_square: 0.8326\n",
      "Epoch 59/100\n",
      "27/27 [==============================] - 0s 5ms/step - loss: 3490.3477 - mae: 3490.3477 - mean_squared_error: 36880572.0000 - r_square: 0.7416 - val_loss: 3321.7786 - val_mae: 3321.7786 - val_mean_squared_error: 24856184.0000 - val_r_square: 0.8345\n",
      "Epoch 60/100\n",
      "27/27 [==============================] - 0s 4ms/step - loss: 3560.2339 - mae: 3560.2339 - mean_squared_error: 37452276.0000 - r_square: 0.7376 - val_loss: 2848.8708 - val_mae: 2848.8708 - val_mean_squared_error: 30906388.0000 - val_r_square: 0.7942\n",
      "Epoch 61/100\n",
      "27/27 [==============================] - 0s 3ms/step - loss: 3373.3708 - mae: 3373.3708 - mean_squared_error: 34229120.0000 - r_square: 0.7602 - val_loss: 2362.2788 - val_mae: 2362.2788 - val_mean_squared_error: 24676082.0000 - val_r_square: 0.8357\n",
      "Epoch 62/100\n",
      "27/27 [==============================] - 0s 5ms/step - loss: 3346.1223 - mae: 3346.1223 - mean_squared_error: 34053208.0000 - r_square: 0.7614 - val_loss: 3517.8745 - val_mae: 3517.8745 - val_mean_squared_error: 36219500.0000 - val_r_square: 0.7589\n",
      "Epoch 63/100\n",
      "27/27 [==============================] - 0s 5ms/step - loss: 3353.6858 - mae: 3353.6858 - mean_squared_error: 33740936.0000 - r_square: 0.7636 - val_loss: 2876.2485 - val_mae: 2876.2485 - val_mean_squared_error: 28745414.0000 - val_r_square: 0.8086\n",
      "Epoch 64/100\n",
      "27/27 [==============================] - 0s 6ms/step - loss: 3009.6960 - mae: 3009.6960 - mean_squared_error: 31724828.0000 - r_square: 0.7777 - val_loss: 4278.9097 - val_mae: 4278.9097 - val_mean_squared_error: 33062620.0000 - val_r_square: 0.7799\n",
      "Epoch 65/100\n",
      "27/27 [==============================] - 0s 5ms/step - loss: 3377.1760 - mae: 3377.1760 - mean_squared_error: 34716024.0000 - r_square: 0.7567 - val_loss: 3642.2505 - val_mae: 3642.2505 - val_mean_squared_error: 35828424.0000 - val_r_square: 0.7615\n",
      "Epoch 66/100\n",
      "27/27 [==============================] - 0s 5ms/step - loss: 3353.0415 - mae: 3353.0415 - mean_squared_error: 35459220.0000 - r_square: 0.7515 - val_loss: 2841.1475 - val_mae: 2841.1475 - val_mean_squared_error: 27763786.0000 - val_r_square: 0.8152\n",
      "Epoch 67/100\n",
      "27/27 [==============================] - 0s 4ms/step - loss: 3351.7170 - mae: 3351.7170 - mean_squared_error: 33877684.0000 - r_square: 0.7626 - val_loss: 2248.4656 - val_mae: 2248.4656 - val_mean_squared_error: 23806272.0000 - val_r_square: 0.8415\n",
      "Epoch 68/100\n",
      "27/27 [==============================] - 0s 4ms/step - loss: 3257.8694 - mae: 3257.8694 - mean_squared_error: 32865158.0000 - r_square: 0.7697 - val_loss: 2806.7117 - val_mae: 2806.7117 - val_mean_squared_error: 22276854.0000 - val_r_square: 0.8517\n",
      "Epoch 69/100\n",
      "27/27 [==============================] - 0s 4ms/step - loss: 3179.0725 - mae: 3179.0725 - mean_squared_error: 31566814.0000 - r_square: 0.7788 - val_loss: 2688.3411 - val_mae: 2688.3411 - val_mean_squared_error: 25983832.0000 - val_r_square: 0.8270\n",
      "Epoch 70/100\n",
      "27/27 [==============================] - 0s 4ms/step - loss: 3122.5762 - mae: 3122.5762 - mean_squared_error: 32355082.0000 - r_square: 0.7733 - val_loss: 3026.8342 - val_mae: 3026.8342 - val_mean_squared_error: 22994092.0000 - val_r_square: 0.8469\n",
      "Epoch 71/100\n",
      "27/27 [==============================] - 0s 3ms/step - loss: 3375.8398 - mae: 3375.8398 - mean_squared_error: 32718042.0000 - r_square: 0.7707 - val_loss: 2581.8879 - val_mae: 2581.8879 - val_mean_squared_error: 22866454.0000 - val_r_square: 0.8478\n",
      "Epoch 72/100\n",
      "27/27 [==============================] - 0s 4ms/step - loss: 3191.2764 - mae: 3191.2764 - mean_squared_error: 33588752.0000 - r_square: 0.7646 - val_loss: 4618.0459 - val_mae: 4618.0459 - val_mean_squared_error: 55442892.0000 - val_r_square: 0.6309\n",
      "Epoch 73/100\n",
      "27/27 [==============================] - 0s 3ms/step - loss: 3280.3320 - mae: 3280.3320 - mean_squared_error: 32761100.0000 - r_square: 0.7704 - val_loss: 2273.7312 - val_mae: 2273.7312 - val_mean_squared_error: 25174958.0000 - val_r_square: 0.8324\n",
      "Epoch 74/100\n",
      "27/27 [==============================] - 0s 4ms/step - loss: 3094.3367 - mae: 3094.3367 - mean_squared_error: 31206334.0000 - r_square: 0.7813 - val_loss: 2599.8179 - val_mae: 2599.8179 - val_mean_squared_error: 25957964.0000 - val_r_square: 0.8272\n",
      "Epoch 75/100\n",
      "27/27 [==============================] - 0s 4ms/step - loss: 3194.4702 - mae: 3194.4702 - mean_squared_error: 32419416.0000 - r_square: 0.7728 - val_loss: 2932.9744 - val_mae: 2932.9744 - val_mean_squared_error: 30808846.0000 - val_r_square: 0.7949\n",
      "Epoch 76/100\n",
      "27/27 [==============================] - 0s 5ms/step - loss: 3233.9385 - mae: 3233.9385 - mean_squared_error: 33234154.0000 - r_square: 0.7671 - val_loss: 2796.2720 - val_mae: 2796.2720 - val_mean_squared_error: 22494904.0000 - val_r_square: 0.8502\n",
      "Epoch 77/100\n",
      "27/27 [==============================] - 0s 5ms/step - loss: 3190.7395 - mae: 3190.7395 - mean_squared_error: 31537928.0000 - r_square: 0.7790 - val_loss: 2161.1335 - val_mae: 2161.1335 - val_mean_squared_error: 22363526.0000 - val_r_square: 0.8511\n",
      "Epoch 78/100\n",
      "27/27 [==============================] - 0s 5ms/step - loss: 2888.1426 - mae: 2888.1426 - mean_squared_error: 30382156.0000 - r_square: 0.7871 - val_loss: 2906.1157 - val_mae: 2906.1157 - val_mean_squared_error: 22483764.0000 - val_r_square: 0.8503\n",
      "Epoch 79/100\n",
      "27/27 [==============================] - 0s 5ms/step - loss: 3191.5659 - mae: 3191.5659 - mean_squared_error: 32254972.0000 - r_square: 0.7740 - val_loss: 2965.8215 - val_mae: 2965.8215 - val_mean_squared_error: 23076292.0000 - val_r_square: 0.8464\n",
      "Epoch 80/100\n",
      "27/27 [==============================] - 0s 5ms/step - loss: 2868.0593 - mae: 2868.0593 - mean_squared_error: 28790462.0000 - r_square: 0.7983 - val_loss: 3001.5815 - val_mae: 3001.5815 - val_mean_squared_error: 29767538.0000 - val_r_square: 0.8018\n",
      "Epoch 81/100\n",
      "27/27 [==============================] - 0s 4ms/step - loss: 3166.2739 - mae: 3166.2739 - mean_squared_error: 33290826.0000 - r_square: 0.7667 - val_loss: 3991.3740 - val_mae: 3991.3740 - val_mean_squared_error: 49862368.0000 - val_r_square: 0.6680\n",
      "Epoch 82/100\n",
      "27/27 [==============================] - 0s 4ms/step - loss: 3178.9565 - mae: 3178.9565 - mean_squared_error: 32616118.0000 - r_square: 0.7715 - val_loss: 2873.2175 - val_mae: 2873.2175 - val_mean_squared_error: 28537880.0000 - val_r_square: 0.8100\n",
      "Epoch 83/100\n",
      "27/27 [==============================] - 0s 5ms/step - loss: 3079.3689 - mae: 3079.3689 - mean_squared_error: 32231792.0000 - r_square: 0.7742 - val_loss: 2682.0571 - val_mae: 2682.0571 - val_mean_squared_error: 23554934.0000 - val_r_square: 0.8432\n",
      "Epoch 84/100\n",
      "27/27 [==============================] - 0s 4ms/step - loss: 3205.2908 - mae: 3205.2908 - mean_squared_error: 33013214.0000 - r_square: 0.7687 - val_loss: 2651.1150 - val_mae: 2651.1150 - val_mean_squared_error: 27127178.0000 - val_r_square: 0.8194\n",
      "Epoch 85/100\n",
      "27/27 [==============================] - 0s 5ms/step - loss: 3154.1143 - mae: 3154.1143 - mean_squared_error: 32065636.0000 - r_square: 0.7753 - val_loss: 2309.0283 - val_mae: 2309.0283 - val_mean_squared_error: 24251960.0000 - val_r_square: 0.8385\n",
      "Epoch 86/100\n",
      "27/27 [==============================] - 0s 3ms/step - loss: 3115.8896 - mae: 3115.8896 - mean_squared_error: 31822616.0000 - r_square: 0.7770 - val_loss: 2435.1130 - val_mae: 2435.1130 - val_mean_squared_error: 24847652.0000 - val_r_square: 0.8346\n",
      "Epoch 87/100\n",
      "27/27 [==============================] - 0s 4ms/step - loss: 3173.2056 - mae: 3173.2056 - mean_squared_error: 33663144.0000 - r_square: 0.7641 - val_loss: 3313.9731 - val_mae: 3313.9731 - val_mean_squared_error: 38267620.0000 - val_r_square: 0.7452\n",
      "Epoch 88/100\n",
      "27/27 [==============================] - 0s 5ms/step - loss: 3235.7920 - mae: 3235.7920 - mean_squared_error: 33543298.0000 - r_square: 0.7650 - val_loss: 3534.3086 - val_mae: 3534.3086 - val_mean_squared_error: 41618236.0000 - val_r_square: 0.7229\n",
      "Epoch 89/100\n",
      "27/27 [==============================] - 0s 5ms/step - loss: 3083.5933 - mae: 3083.5933 - mean_squared_error: 32050444.0000 - r_square: 0.7754 - val_loss: 2318.2598 - val_mae: 2318.2598 - val_mean_squared_error: 23037258.0000 - val_r_square: 0.8466\n",
      "Epoch 90/100\n",
      "27/27 [==============================] - 0s 6ms/step - loss: 2893.7964 - mae: 2893.7964 - mean_squared_error: 29582566.0000 - r_square: 0.7927 - val_loss: 4541.6807 - val_mae: 4541.6807 - val_mean_squared_error: 55811728.0000 - val_r_square: 0.6284\n",
      "Epoch 91/100\n",
      "27/27 [==============================] - 0s 6ms/step - loss: 2873.2170 - mae: 2873.2170 - mean_squared_error: 31081036.0000 - r_square: 0.7822 - val_loss: 2563.1475 - val_mae: 2563.1475 - val_mean_squared_error: 27003852.0000 - val_r_square: 0.8202\n",
      "Epoch 92/100\n",
      "27/27 [==============================] - 0s 5ms/step - loss: 2990.4697 - mae: 2990.4697 - mean_squared_error: 29657132.0000 - r_square: 0.7922 - val_loss: 3578.6118 - val_mae: 3578.6118 - val_mean_squared_error: 41961604.0000 - val_r_square: 0.7206\n",
      "Epoch 93/100\n",
      "27/27 [==============================] - 0s 5ms/step - loss: 2868.0889 - mae: 2868.0889 - mean_squared_error: 30247716.0000 - r_square: 0.7881 - val_loss: 2578.2371 - val_mae: 2578.2371 - val_mean_squared_error: 30471094.0000 - val_r_square: 0.7971\n",
      "Epoch 94/100\n",
      "27/27 [==============================] - 0s 3ms/step - loss: 2987.3984 - mae: 2987.3984 - mean_squared_error: 31842070.0000 - r_square: 0.7769 - val_loss: 2485.9612 - val_mae: 2485.9612 - val_mean_squared_error: 25453008.0000 - val_r_square: 0.8305\n",
      "Epoch 95/100\n",
      "27/27 [==============================] - 0s 4ms/step - loss: 2975.7793 - mae: 2975.7793 - mean_squared_error: 32019708.0000 - r_square: 0.7756 - val_loss: 2861.2144 - val_mae: 2861.2144 - val_mean_squared_error: 23572338.0000 - val_r_square: 0.8431\n",
      "Epoch 96/100\n",
      "27/27 [==============================] - 0s 4ms/step - loss: 3057.3813 - mae: 3057.3813 - mean_squared_error: 31607362.0000 - r_square: 0.7785 - val_loss: 5626.0586 - val_mae: 5626.0586 - val_mean_squared_error: 73611112.0000 - val_r_square: 0.5099\n",
      "Epoch 97/100\n",
      "27/27 [==============================] - 0s 4ms/step - loss: 2868.9832 - mae: 2868.9832 - mean_squared_error: 30274172.0000 - r_square: 0.7879 - val_loss: 2519.4009 - val_mae: 2519.4009 - val_mean_squared_error: 22091406.0000 - val_r_square: 0.8529\n",
      "Epoch 98/100\n",
      "27/27 [==============================] - 0s 5ms/step - loss: 2903.0896 - mae: 2903.0896 - mean_squared_error: 29676412.0000 - r_square: 0.7921 - val_loss: 3384.4617 - val_mae: 3384.4617 - val_mean_squared_error: 23745856.0000 - val_r_square: 0.8419\n",
      "Epoch 99/100\n",
      "27/27 [==============================] - 0s 5ms/step - loss: 3056.0464 - mae: 3056.0464 - mean_squared_error: 32731992.0000 - r_square: 0.7707 - val_loss: 2552.0232 - val_mae: 2552.0232 - val_mean_squared_error: 26188874.0000 - val_r_square: 0.8256\n",
      "Epoch 100/100\n",
      "27/27 [==============================] - 0s 5ms/step - loss: 2990.1265 - mae: 2990.1265 - mean_squared_error: 31327052.0000 - r_square: 0.7805 - val_loss: 2738.8542 - val_mae: 2738.8542 - val_mean_squared_error: 25908396.0000 - val_r_square: 0.8275\n"
     ]
    }
   ],
   "source": [
    "history = best_model.fit(\n",
    "    X_train,\n",
    "    y_train,\n",
    "    #batch_size=16,\n",
    "    shuffle=True,\n",
    "validation_split=validation_split_size,\n",
    "epochs=100)"
   ]
  },
  {
   "cell_type": "code",
   "execution_count": 59,
   "metadata": {
    "collapsed": false
   },
   "outputs": [
    {
     "data": {
      "image/png": "[encoded data removed]",
      "text/plain": [
       "<Figure size 432x288 with 1 Axes>"
      ]
     },
     "metadata": {
      "needs_background": "light"
     },
     "output_type": "display_data"
    }
   ],
   "source": [
    "# Comparison with the above trained model (before hyperparameter search)\n",
    "plot_loss(dnn_history, y_min=0.5, y_max=0.9)"
   ]
  },
  {
   "cell_type": "code",
   "execution_count": 60,
   "metadata": {
    "collapsed": false
   },
   "outputs": [
    {
     "data": {
      "image/png": "[encoded data removed]",
      "text/plain": [
       "<Figure size 432x288 with 1 Axes>"
      ]
     },
     "metadata": {
      "needs_background": "light"
     },
     "output_type": "display_data"
    }
   ],
   "source": [
    "plot_loss(history, y_min=0.5, y_max=0.9, save_path=\"rsquared_hyperparams.jpg\")"
   ]
  },
  {
   "cell_type": "code",
   "execution_count": 63,
   "metadata": {
    "collapsed": false
   },
   "outputs": [
    {
     "name": "stdout",
     "output_type": "stream",
     "text": [
      "9/9 [==============================] - 0s 2ms/step - loss: 2923.1877 - mae: 2923.1877 - mean_squared_error: 28920794.0000 - r_square: 0.8137\n",
      "[2923.187744140625, 2923.187744140625, 28920794.0, 0.8137131929397583]\n"
     ]
    }
   ],
   "source": [
    "# Evaluate the model with the test data\n",
    "result = best_model.evaluate(X_test, y_test)\n",
    "print(str(result))"
   ]
  },
  {
   "cell_type": "markdown",
   "metadata": {
    "collapsed": false
   },
   "source": [
    "# Random Forest"
   ]
  },
  {
   "cell_type": "code",
   "execution_count": 66,
   "metadata": {
    "collapsed": false
   },
   "outputs": [],
   "source": [
    "def cross_validate(model, X_train, y_train, cross_val_test_set_size):\n",
    "    \"\"\"Cross validate a model and return mean and standard deviation for given data\n",
    "\n",
    "    :param model: model to test\n",
    "    :type model: keras.Model\n",
    "    :param X_train: test set (X, features)\n",
    "    :type X_train: pandas.DataFrame\n",
    "    :param y_train: test set (y, labels)\n",
    "    :type y_train: pandas.DataFrame\n",
    "    :param cross_val_test_set_size: relative size of validation set\n",
    "    :type cross_val_test_set_size: float\n",
    "    :return: mean and standard deviation for test scores\n",
    "    :rtype: float, float\n",
    "    \"\"\"\n",
    "    cv = ShuffleSplit(n_splits=5, test_size=cross_val_test_set_size, random_state=0)\n",
    "    scores = cross_val_score(model, X_train, y_train.values.ravel(), cv=cv)\n",
    "    return scores.mean(), scores.std()"
   ]
  },
  {
   "cell_type": "code",
   "execution_count": 69,
   "metadata": {
    "collapsed": false
   },
   "outputs": [
    {
     "name": "stdout",
     "output_type": "stream",
     "text": [
      "RANDOM FOREST: 0.84147 mean accuracy with a standard deviation of 0.01782\n"
     ]
    },
    {
     "data": {
      "text/plain": [
       "RandomForestRegressor(max_depth=4, random_state=0)"
      ]
     },
     "execution_count": 69,
     "metadata": {},
     "output_type": "execute_result"
    }
   ],
   "source": [
    "# Cross validation of Random Forest model\n",
    "clf = RandomForestRegressor(max_depth=4, random_state=0)\n",
    "mean, std = cross_validate(clf, X_train, y_train, validation_split_size)\n",
    "print(\"RANDOM FOREST: %0.5f mean accuracy with a standard deviation of %0.5f\" % (mean, std))\n",
    "clf.fit(X_train, y_train.values.ravel())"
   ]
  },
  {
   "cell_type": "code",
   "execution_count": 70,
   "metadata": {
    "collapsed": false
   },
   "outputs": [
    {
     "data": {
      "text/plain": [
       "0.8714346169733819"
      ]
     },
     "execution_count": 70,
     "metadata": {},
     "output_type": "execute_result"
    }
   ],
   "source": [
    "# Calculate the r² score for the test data\n",
    "clf.score(X_test, y_test.values.ravel())"
   ]
  },
  {
   "cell_type": "code",
   "execution_count": 71,
   "metadata": {
    "collapsed": false
   },
   "outputs": [
    {
     "name": "stderr",
     "output_type": "stream",
     "text": [
      "/informatik1/students/home/0zadim/anaconda3/lib/python3.9/site-packages/sklearn/base.py:450: UserWarning: X does not have valid feature names, but RandomForestRegressor was fitted with feature names\n",
      "  warnings.warn(\n"
     ]
    },
    {
     "data": {
      "text/plain": [
       "array([14183.52296664])"
      ]
     },
     "execution_count": 71,
     "metadata": {},
     "output_type": "execute_result"
    }
   ],
   "source": [
    "# A test prediction\n",
    "clf.predict([[0.9, 0, 0, 0.1, 0, 0,0,0,1]])"
   ]
  },
  {
   "cell_type": "markdown",
   "metadata": {
    "collapsed": false
   },
   "source": [
    "### Hyperparemeter tuning"
   ]
  },
  {
   "cell_type": "code",
   "execution_count": 73,
   "metadata": {
    "collapsed": false
   },
   "outputs": [
    {
     "name": "stdout",
     "output_type": "stream",
     "text": [
      "Fitting 3 folds for each of 300 candidates, totalling 900 fits\n"
     ]
    },
    {
     "data": {
      "text/plain": [
       "RandomizedSearchCV(cv=3, estimator=RandomForestRegressor(), n_iter=300,\n",
       "                   n_jobs=-1,\n",
       "                   param_distributions={'bootstrap': [True, False],\n",
       "                                        'max_depth': [3, 4, 5, 6],\n",
       "                                        'max_features': [0.5, 0.6, 0.7, 0.8,\n",
       "                                                         0.9, 0.95, 1.0],\n",
       "                                        'min_samples_leaf': [1, 2, 4],\n",
       "                                        'min_samples_split': [2, 5, 10],\n",
       "                                        'n_estimators': [200, 400, 600, 800,\n",
       "                                                         1000, 1200, 1400, 1600,\n",
       "                                                         1800, 2000]},\n",
       "                   random_state=42, verbose=2)"
      ]
     },
     "execution_count": 73,
     "metadata": {},
     "output_type": "execute_result"
    }
   ],
   "source": [
    "# Do the hyperparameter tuning for the Random Forest\n",
    "n_estimators = [int(x) for x in np.linspace(start = 200, stop = 2000, num = 10)]\n",
    "# Maximum number of levels in tree\n",
    "max_depth = [3,4,5,6]\n",
    "max_features = [0.5,0.6,0.7,0.8,0.9,0.95,1.0]\n",
    "# Minimum number of samples required to split a node\n",
    "min_samples_split = [2, 5, 10]\n",
    "# Minimum number of samples required at each leaf node\n",
    "min_samples_leaf = [1, 2, 4]\n",
    "# Method of selecting samples for training each tree\n",
    "bootstrap = [True, False]# Create the random grid\n",
    "random_grid = {'n_estimators': n_estimators,\n",
    "               'max_depth': max_depth,\n",
    "               'max_features': max_features,\n",
    "               'min_samples_split': min_samples_split,\n",
    "               'min_samples_leaf': min_samples_leaf,\n",
    "               'bootstrap': bootstrap}\n",
    "\n",
    "rf = RandomForestRegressor()\n",
    "# Random search of parameters, using 3 fold cross validation,\n",
    "# search across 100 different combinations, and use all available cores\n",
    "rf_random = RandomizedSearchCV(estimator = rf, param_distributions = random_grid, n_iter = 300, cv = 3, verbose=2, random_state=42, n_jobs = -1)# Fit the random search model\n",
    "rf_random.fit(X_train, y_train.values.ravel())"
   ]
  },
  {
   "cell_type": "code",
   "execution_count": 74,
   "metadata": {
    "collapsed": false
   },
   "outputs": [
    {
     "name": "stdout",
     "output_type": "stream",
     "text": [
      "BEST PARAMS: {'n_estimators': 1000, 'min_samples_split': 5, 'min_samples_leaf': 4, 'max_features': 0.7, 'max_depth': 5, 'bootstrap': True}\n"
     ]
    }
   ],
   "source": [
    "# Print best results and create forest with these values\n",
    "print(f'BEST PARAMS: {rf_random.best_params_}')\n",
    "rand_forest_improved = RandomForestRegressor(**rf_random.best_params_)"
   ]
  },
  {
   "cell_type": "code",
   "execution_count": 75,
   "metadata": {
    "collapsed": false
   },
   "outputs": [
    {
     "name": "stdout",
     "output_type": "stream",
     "text": [
      "RANDOM FOREST: 0.84193 mean accuracy with a standard deviation of 0.01986\n"
     ]
    },
    {
     "data": {
      "text/plain": [
       "0.8800749858766648"
      ]
     },
     "execution_count": 75,
     "metadata": {},
     "output_type": "execute_result"
    }
   ],
   "source": [
    "# Tran the \"best\" model\n",
    "mean, std = cross_validate(rand_forest_improved, X_train, y_train, validation_split_size)\n",
    "print(\"RANDOM FOREST: %0.5f mean accuracy with a standard deviation of %0.5f\" % (mean, std))\n",
    "rand_forest_improved.fit(X_train, y_train.values.ravel())\n",
    "rand_forest_improved.score(X_test, y_test.values.ravel())"
   ]
  },
  {
   "cell_type": "code",
   "execution_count": 78,
   "metadata": {
    "collapsed": false
   },
   "outputs": [
    {
     "name": "stdout",
     "output_type": "stream",
     "text": [
      "Fitting 3 folds for each of 3456 candidates, totalling 10368 fits\n"
     ]
    },
    {
     "data": {
      "text/plain": [
       "{'bootstrap': True,\n",
       " 'max_depth': 4,\n",
       " 'max_features': 0.8,\n",
       " 'min_samples_leaf': 5,\n",
       " 'min_samples_split': 3,\n",
       " 'n_estimators': 1050}"
      ]
     },
     "execution_count": 78,
     "metadata": {},
     "output_type": "execute_result"
    }
   ],
   "source": [
    "# Create the parameter grid based on the results of random search\n",
    "param_grid = {\n",
    "    'bootstrap': [True],\n",
    "    'max_depth': [4,5,6],\n",
    "    'max_features': [0.65, 0.7, 0.75, 0.8, 0.85, 0.9],\n",
    "    'min_samples_leaf': [2, 3, 4, 5],\n",
    "    'min_samples_split': [3,4,5,6,7,8,9,10],\n",
    "    'n_estimators': [900, 950, 1000, 1050, 1100, 1150]\n",
    "}# Create a based model\n",
    "rf = RandomForestRegressor()# Instantiate the grid search model\n",
    "grid_search = GridSearchCV(estimator = rf, param_grid = param_grid,\n",
    "                           cv = 3, n_jobs = -1, verbose = 1)\n",
    "grid_search.fit(X_train, y_train.values.ravel())\n",
    "grid_search.best_params_"
   ]
  },
  {
   "cell_type": "code",
   "execution_count": 90,
   "metadata": {
    "collapsed": false
   },
   "outputs": [
    {
     "name": "stdout",
     "output_type": "stream",
     "text": [
      "BEST PARAMS: {'bootstrap': True, 'max_depth': 4, 'max_features': 0.8, 'min_samples_leaf': 5, 'min_samples_split': 3, 'n_estimators': 1050}\n"
     ]
    }
   ],
   "source": [
    "# Get the best parameters using grid search\n",
    "print(f'BEST PARAMS: {grid_search.best_params_}')\n",
    "rand_forest_improved_grid = RandomForestRegressor(**grid_search.best_params_)"
   ]
  },
  {
   "cell_type": "code",
   "execution_count": 94,
   "metadata": {
    "collapsed": false
   },
   "outputs": [
    {
     "name": "stdout",
     "output_type": "stream",
     "text": [
      "RANDOM FOREST: 0.84297 mean accuracy with a standard deviation of 0.01966\n"
     ]
    },
    {
     "data": {
      "text/plain": [
       "0.87710858459907"
      ]
     },
     "execution_count": 94,
     "metadata": {},
     "output_type": "execute_result"
    }
   ],
   "source": [
    "# Train the model with the best parameters found with grind search\n",
    "mean, std = cross_validate(rand_forest_improved_grid, X_train, y_train, validation_split_size)\n",
    "print(\"RANDOM FOREST: %0.5f mean accuracy with a standard deviation of %0.5f\" % (mean, std))\n",
    "rand_forest_improved_grid.fit(X_train, y_train.values.ravel())\n",
    "rand_forest_improved_grid.score(X_test, y_test.values.ravel())"
   ]
  },
  {
   "cell_type": "markdown",
   "metadata": {
    "collapsed": false
   },
   "source": [
    "## Random Forest without region attribute (test scenario)"
   ]
  },
  {
   "cell_type": "code",
   "execution_count": 83,
   "metadata": {
    "collapsed": false
   },
   "outputs": [
    {
     "data": {
      "text/html": [
       "<div>\n",
       "<style scoped>\n",
       "    .dataframe tbody tr th:only-of-type {\n",
       "        vertical-align: middle;\n",
       "    }\n",
       "\n",
       "    .dataframe tbody tr th {\n",
       "        vertical-align: top;\n",
       "    }\n",
       "\n",
       "    .dataframe thead th {\n",
       "        text-align: right;\n",
       "    }\n",
       "</style>\n",
       "<table border=\"1\" class=\"dataframe\">\n",
       "  <thead>\n",
       "    <tr style=\"text-align: right;\">\n",
       "      <th></th>\n",
       "      <th>age</th>\n",
       "      <th>sex</th>\n",
       "      <th>bmi</th>\n",
       "      <th>children</th>\n",
       "      <th>smoker</th>\n",
       "      <th>region0</th>\n",
       "      <th>region1</th>\n",
       "      <th>region2</th>\n",
       "      <th>region3</th>\n",
       "    </tr>\n",
       "  </thead>\n",
       "  <tbody>\n",
       "    <tr>\n",
       "      <th>560</th>\n",
       "      <td>0.608696</td>\n",
       "      <td>0</td>\n",
       "      <td>0.107345</td>\n",
       "      <td>0.4</td>\n",
       "      <td>0</td>\n",
       "      <td>0</td>\n",
       "      <td>1</td>\n",
       "      <td>0</td>\n",
       "      <td>0</td>\n",
       "    </tr>\n",
       "    <tr>\n",
       "      <th>1285</th>\n",
       "      <td>0.630435</td>\n",
       "      <td>0</td>\n",
       "      <td>0.224913</td>\n",
       "      <td>0.0</td>\n",
       "      <td>0</td>\n",
       "      <td>1</td>\n",
       "      <td>0</td>\n",
       "      <td>0</td>\n",
       "      <td>0</td>\n",
       "    </tr>\n",
       "    <tr>\n",
       "      <th>1142</th>\n",
       "      <td>0.739130</td>\n",
       "      <td>0</td>\n",
       "      <td>0.239440</td>\n",
       "      <td>0.0</td>\n",
       "      <td>0</td>\n",
       "      <td>0</td>\n",
       "      <td>0</td>\n",
       "      <td>1</td>\n",
       "      <td>0</td>\n",
       "    </tr>\n",
       "    <tr>\n",
       "      <th>969</th>\n",
       "      <td>0.456522</td>\n",
       "      <td>0</td>\n",
       "      <td>0.493947</td>\n",
       "      <td>1.0</td>\n",
       "      <td>0</td>\n",
       "      <td>0</td>\n",
       "      <td>0</td>\n",
       "      <td>1</td>\n",
       "      <td>0</td>\n",
       "    </tr>\n",
       "    <tr>\n",
       "      <th>486</th>\n",
       "      <td>0.782609</td>\n",
       "      <td>0</td>\n",
       "      <td>0.148238</td>\n",
       "      <td>0.6</td>\n",
       "      <td>0</td>\n",
       "      <td>0</td>\n",
       "      <td>1</td>\n",
       "      <td>0</td>\n",
       "      <td>0</td>\n",
       "    </tr>\n",
       "    <tr>\n",
       "      <th>...</th>\n",
       "      <td>...</td>\n",
       "      <td>...</td>\n",
       "      <td>...</td>\n",
       "      <td>...</td>\n",
       "      <td>...</td>\n",
       "      <td>...</td>\n",
       "      <td>...</td>\n",
       "      <td>...</td>\n",
       "      <td>...</td>\n",
       "    </tr>\n",
       "    <tr>\n",
       "      <th>1095</th>\n",
       "      <td>0.000000</td>\n",
       "      <td>0</td>\n",
       "      <td>0.414044</td>\n",
       "      <td>0.8</td>\n",
       "      <td>0</td>\n",
       "      <td>1</td>\n",
       "      <td>0</td>\n",
       "      <td>0</td>\n",
       "      <td>0</td>\n",
       "    </tr>\n",
       "    <tr>\n",
       "      <th>1130</th>\n",
       "      <td>0.456522</td>\n",
       "      <td>0</td>\n",
       "      <td>0.212806</td>\n",
       "      <td>1.0</td>\n",
       "      <td>0</td>\n",
       "      <td>0</td>\n",
       "      <td>0</td>\n",
       "      <td>1</td>\n",
       "      <td>0</td>\n",
       "    </tr>\n",
       "    <tr>\n",
       "      <th>1294</th>\n",
       "      <td>0.869565</td>\n",
       "      <td>1</td>\n",
       "      <td>0.247915</td>\n",
       "      <td>0.0</td>\n",
       "      <td>0</td>\n",
       "      <td>1</td>\n",
       "      <td>0</td>\n",
       "      <td>0</td>\n",
       "      <td>0</td>\n",
       "    </tr>\n",
       "    <tr>\n",
       "      <th>860</th>\n",
       "      <td>0.413043</td>\n",
       "      <td>0</td>\n",
       "      <td>0.851224</td>\n",
       "      <td>0.4</td>\n",
       "      <td>1</td>\n",
       "      <td>0</td>\n",
       "      <td>0</td>\n",
       "      <td>0</td>\n",
       "      <td>1</td>\n",
       "    </tr>\n",
       "    <tr>\n",
       "      <th>1126</th>\n",
       "      <td>0.804348</td>\n",
       "      <td>1</td>\n",
       "      <td>0.375034</td>\n",
       "      <td>0.0</td>\n",
       "      <td>0</td>\n",
       "      <td>0</td>\n",
       "      <td>0</td>\n",
       "      <td>0</td>\n",
       "      <td>1</td>\n",
       "    </tr>\n",
       "  </tbody>\n",
       "</table>\n",
       "<p>1070 rows × 9 columns</p>\n",
       "</div>"
      ],
      "text/plain": [
       "           age  sex       bmi  children  smoker  region0  region1  region2  \\\n",
       "560   0.608696    0  0.107345       0.4       0        0        1        0   \n",
       "1285  0.630435    0  0.224913       0.0       0        1        0        0   \n",
       "1142  0.739130    0  0.239440       0.0       0        0        0        1   \n",
       "969   0.456522    0  0.493947       1.0       0        0        0        1   \n",
       "486   0.782609    0  0.148238       0.6       0        0        1        0   \n",
       "...        ...  ...       ...       ...     ...      ...      ...      ...   \n",
       "1095  0.000000    0  0.414044       0.8       0        1        0        0   \n",
       "1130  0.456522    0  0.212806       1.0       0        0        0        1   \n",
       "1294  0.869565    1  0.247915       0.0       0        1        0        0   \n",
       "860   0.413043    0  0.851224       0.4       1        0        0        0   \n",
       "1126  0.804348    1  0.375034       0.0       0        0        0        0   \n",
       "\n",
       "      region3  \n",
       "560         0  \n",
       "1285        0  \n",
       "1142        0  \n",
       "969         0  \n",
       "486         0  \n",
       "...       ...  \n",
       "1095        0  \n",
       "1130        0  \n",
       "1294        0  \n",
       "860         1  \n",
       "1126        1  \n",
       "\n",
       "[1070 rows x 9 columns]"
      ]
     },
     "execution_count": 83,
     "metadata": {},
     "output_type": "execute_result"
    }
   ],
   "source": [
    "X_train"
   ]
  },
  {
   "cell_type": "code",
   "execution_count": 84,
   "metadata": {
    "collapsed": false
   },
   "outputs": [],
   "source": [
    "# Create data without the region attribute\n",
    "X_train_no_region = X_train.copy()\n",
    "X_train_no_region = X_train_no_region.drop(columns=[\"region0\", \"region1\", \"region2\", \"region3\"])\n",
    "\n",
    "X_test_no_region = X_test.copy()\n",
    "X_test_no_region = X_test_no_region.drop(columns=[\"region0\", \"region1\", \"region2\", \"region3\"])"
   ]
  },
  {
   "cell_type": "code",
   "execution_count": 95,
   "metadata": {
    "collapsed": false
   },
   "outputs": [
    {
     "name": "stdout",
     "output_type": "stream",
     "text": [
      "RANDOM FOREST: 0.84320 mean accuracy with a standard deviation of 0.01920\n"
     ]
    },
    {
     "data": {
      "text/plain": [
       "0.8776530613504745"
      ]
     },
     "execution_count": 95,
     "metadata": {},
     "output_type": "execute_result"
    }
   ],
   "source": [
    "# Create a model with reliable parameters and do cross validation without the region data\n",
    "rf_no_region = RandomForestRegressor(bootstrap=True, max_depth=4, max_features=0.8, min_samples_leaf=5, min_samples_split=9, n_estimators=1050)\n",
    "\n",
    "mean, std = cross_validate(rf_no_region, X_train_no_region, y_train, validation_split_size)\n",
    "print(\"RANDOM FOREST: %0.5f mean accuracy with a standard deviation of %0.5f\" % (mean, std))\n",
    "rf_no_region.fit(X_train_no_region, y_train.values.ravel())\n",
    "rf_no_region.score(X_test_no_region, y_test.values.ravel())"
   ]
  },
  {
   "cell_type": "code",
   "execution_count": 96,
   "metadata": {
    "collapsed": false
   },
   "outputs": [
    {
     "data": {
      "text/plain": [
       "0.87710858459907"
      ]
     },
     "execution_count": 96,
     "metadata": {},
     "output_type": "execute_result"
    }
   ],
   "source": [
    "# As a test the results with region data\n",
    "rand_forest_improved_grid.score(X_test, y_test.values.ravel())"
   ]
  },
  {
   "cell_type": "markdown",
   "metadata": {
    "collapsed": false
   },
   "source": [
    "## Linear Regression"
   ]
  },
  {
   "cell_type": "code",
   "execution_count": 87,
   "metadata": {
    "collapsed": false
   },
   "outputs": [
    {
     "name": "stdout",
     "output_type": "stream",
     "text": [
      "LINEAR REGRESSION: 0.72334 mean accuracy with a standard deviation of 0.02784\n"
     ]
    },
    {
     "data": {
      "text/plain": [
       "LinearRegression()"
      ]
     },
     "execution_count": 87,
     "metadata": {},
     "output_type": "execute_result"
    }
   ],
   "source": [
    "from sklearn.linear_model import LinearRegression\n",
    "\n",
    "clf_lr = LinearRegression()\n",
    "mean, std = cross_validate(clf_lr, X_train, y_train, validation_split_size)\n",
    "print(\"LINEAR REGRESSION: %0.5f mean accuracy with a standard deviation of %0.5f\" % (mean, std))\n",
    "clf_lr.fit(X_train, y_train.values.ravel())"
   ]
  },
  {
   "cell_type": "code",
   "execution_count": 88,
   "metadata": {
    "collapsed": false
   },
   "outputs": [
    {
     "data": {
      "text/plain": [
       "0.7835929767120722"
      ]
     },
     "execution_count": 88,
     "metadata": {},
     "output_type": "execute_result"
    }
   ],
   "source": [
    "clf_lr.score(X_test, y_test.values.ravel())"
   ]
  },
  {
   "cell_type": "code",
   "execution_count": null,
   "metadata": {
    "collapsed": false
   },
   "outputs": [],
   "source": []
  }
 ],
 "metadata": {
  "kernelspec": {
   "display_name": "Python 3 (ipykernel)",
   "language": "python",
   "name": "python3"
  },
  "language_info": {
   "codemirror_mode": {
    "name": "ipython",
    "version": 2
   },
   "file_extension": ".py",
   "mimetype": "text/x-python",
   "name": "python",
   "nbconvert_exporter": "python",
   "pygments_lexer": "ipython2",
   "version": "2.7.6"
  }
 },
 "nbformat": 4,
 "nbformat_minor": 0
}
