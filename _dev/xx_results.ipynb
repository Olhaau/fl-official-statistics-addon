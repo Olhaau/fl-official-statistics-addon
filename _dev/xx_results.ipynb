{
 "cells": [
  {
   "cell_type": "markdown",
   "id": "07fd0e3a-d25e-4d62-ad6b-33714f4fe994",
   "metadata": {},
   "source": [
    "# Results of further Investigation \n",
    "---\n",
    "\n",
    "Federated Learning in Official Statistics"
   ]
  },
  {
   "cell_type": "markdown",
   "id": "277d5e56-30c0-4ca9-84cc-a0a95f123935",
   "metadata": {
    "execution": {
     "iopub.execute_input": "2023-03-29T05:05:07.851161Z",
     "iopub.status.busy": "2023-03-29T05:05:07.851161Z",
     "iopub.status.idle": "2023-03-29T05:05:07.870662Z",
     "shell.execute_reply": "2023-03-29T05:05:07.868602Z",
     "shell.execute_reply.started": "2023-03-29T05:05:07.851161Z"
    },
    "tags": []
   },
   "source": [
    "<span style=\"background-color: #FFFF00\">tba...</span> \n",
    "\n",
    "#### Initial Check of FL\n",
    "\n",
    "In [med-insurance-federated.ipynb](../original_work/med-insurance/med-insurance-federated.ipynb), we investigated, why FL performs so much worse. Our Observations:\n",
    "\n",
    "**The FL model was not the DNN used in the centralized situation.**\n",
    "\n",
    "Data preprocessing and model initilisationData preprocessing and model initilisation\n",
    "\n",
    "**The FL model didn't learn anything (zero Initializer).**\n",
    "\n",
    "In the FL use case, we tested other model specifications and couldn't improve the performance.\n",
    "\n",
    "Thus, we switch to investigating the centralized DNN.\n",
    "\n",
    "#### Check of the centralized model.\n",
    "\n",
    "- high variance in training\n",
    "- new experiments are also highly variating\n",
    "- performance variates in the regions\n",
    "\n",
    "S. [02_insurance_DNN.ipynb#Results](02_insurance_DNN.ipynb#Results) \n",
    "\n"
   ]
  },
  {
   "cell_type": "markdown",
   "id": "74152451-5f9b-4340-8f05-b223038693ae",
   "metadata": {},
   "source": [
    "### Einrichtung auf verschiedenen Systemen aufwändig\n",
    "\n",
    "### Medical Insurance - Details\n",
    "\n",
    "S. [00_initial_results.ipynb#Our Investigation](<../_dev/00_initial_results.ipynb#Our Investigation>)\n",
    "\n",
    "### Our Investigation"
   ]
  },
  {
   "cell_type": "markdown",
   "id": "960600a0-e97e-49b4-9ce1-ed37718a0544",
   "metadata": {},
   "source": [
    "### Einrichtung auf verschiedenen Systemen aufwändig\n",
    "\n",
    "### Medical Insurance - Details\n",
    "\n",
    "S. [00_initial_results.ipynb#Our Investigation](<../_dev/00_initial_results.ipynb#Our Investigation>)"
   ]
  },
  {
   "cell_type": "markdown",
   "id": "c626399e-92dc-4627-988b-52b667419f9f",
   "metadata": {},
   "source": [
    "<span style=\"background-color: #FFFF00\">tba...</span> \n",
    "\n",
    "#### Initial Check of FL\n",
    "\n",
    "In [med-insurance-federated.ipynb](../original_work/med-insurance/med-insurance-federated.ipynb), we investigated, why FL performs so much worse. Our Observations:\n",
    "\n",
    "**The FL model was not the DNN used in the centralized situation.**\n",
    "\n",
    "Data preprocessing and model initilisationData preprocessing and model initilisation\n",
    "\n",
    "**The FL model didn't learn anything (zero Initializer).**\n",
    "\n",
    "In the FL use case, we tested other model specifications and couldn't improve the performance.\n",
    "\n",
    "Thus, we switch to investigating the centralized DNN.\n",
    "\n",
    "#### Check of the centralized model.\n",
    "\n",
    "- high variance in training\n",
    "- new experiments are also highly variating\n",
    "- performance variates in the regions\n",
    "\n",
    "S. [02_insurance_DNN.ipynb#Results](02_insurance_DNN.ipynb#Results) \n",
    "\n"
   ]
  }
 ],
 "metadata": {
  "kernelspec": {
   "display_name": "Python 3 (ipykernel)",
   "language": "python",
   "name": "python3"
  },
  "language_info": {
   "codemirror_mode": {
    "name": "ipython",
    "version": 3
   },
   "file_extension": ".py",
   "mimetype": "text/x-python",
   "name": "python",
   "nbconvert_exporter": "python",
   "pygments_lexer": "ipython3",
   "version": "3.9.16"
  }
 },
 "nbformat": 4,
 "nbformat_minor": 5
}
