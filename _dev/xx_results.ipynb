{
  "cells": [
    {
      "cell_type": "markdown",
      "id": "07fd0e3a-d25e-4d62-ad6b-33714f4fe994",
      "metadata": {
        "id": "07fd0e3a-d25e-4d62-ad6b-33714f4fe994"
      },
      "source": [
        "# Results of further Investigation \n",
        "---\n",
        "\n",
        "Federated Learning in Official Statistics"
      ]
    },
    {
      "cell_type": "markdown",
      "source": [
        "## Results\n",
        "---"
      ],
      "metadata": {
        "id": "Al-ZilIZhaX9"
      },
      "id": "Al-ZilIZhaX9"
    },
    {
      "cell_type": "markdown",
      "source": [
        "-- tba --"
      ],
      "metadata": {
        "id": "e5I8klMwjxtp"
      },
      "id": "e5I8klMwjxtp"
    },
    {
      "cell_type": "markdown",
      "source": [
        "## Progress\n",
        "---"
      ],
      "metadata": {
        "id": "esB9c0lJhd_u"
      },
      "id": "esB9c0lJhd_u"
    },
    {
      "cell_type": "markdown",
      "source": [
        "### Installations"
      ],
      "metadata": {
        "id": "K-OgZCmFhhwG"
      },
      "id": "K-OgZCmFhhwG"
    },
    {
      "cell_type": "markdown",
      "source": [
        "effortfully established:\n",
        "\n",
        "- github (repo fork)\n",
        "- colab (cloud computing and collaboration)\n",
        "- local version (JupyterLab)\n",
        "- tff avaialbe at R-Server\n",
        "\n",
        "&rarr; often expectable with Federated Learning!"
      ],
      "metadata": {
        "id": "fGGpO83ViZuD"
      },
      "id": "fGGpO83ViZuD"
    },
    {
      "cell_type": "markdown",
      "source": [
        "### Training (Oli)\n",
        "\n",
        "Python, used Libraries, ..."
      ],
      "metadata": {
        "id": "9aohUU27oeJS"
      },
      "id": "9aohUU27oeJS"
    },
    {
      "cell_type": "markdown",
      "source": [
        "### Initial Check of FL for medical insurance"
      ],
      "metadata": {
        "id": "7qIOPoONi98D"
      },
      "id": "7qIOPoONi98D"
    },
    {
      "cell_type": "markdown",
      "source": [
        "Observations:\n",
        "\n",
        "- not convenient (e.g. tff)\n",
        "- not consistent, missing documentation\n",
        "  - I think 'federated_insurance_data' is empty\n",
        "- missspecified model (zero initializer) \n",
        "  - no training occurs, s. [03_insurance_federated.ipynb#Original Model](<../_dev/03_insurance_federated.ipynb>)\n",
        "- first we could not generate improvements."
      ],
      "metadata": {
        "id": "ylPWb6qYjPOz"
      },
      "id": "ylPWb6qYjPOz"
    },
    {
      "cell_type": "markdown",
      "source": [
        "### Initial Check of centralized medical insurance"
      ],
      "metadata": {
        "id": "NV2z4796i9-6"
      },
      "id": "NV2z4796i9-6"
    },
    {
      "cell_type": "markdown",
      "source": [
        "The paper stated that the result of the centralized neural network are very good ($R^2 = 0.85$). But we found very high variance in the training process. Thus, the high performance occurs randomly. See:\n",
        "\n",
        "\n",
        "*Training Performance with initial parameters:*\n",
        "![](https://github.com/Olhaau/fl-official-statistics-addon/blob/main/original_work/med-insurance/rsquared_init_params.jpg?raw=1)\n",
        "\n",
        "*Training Performance after tuning:*\n",
        "![](https://github.com/Olhaau/fl-official-statistics-addon/blob/main/original_work/med-insurance/rsquared_hyperparams.jpg?raw=1)\n",
        "\n",
        "We used a lower learning rate to stabilize the training:\n",
        "\n",
        "\n",
        "\n",
        "\n",
        "But why is test (actually eval) over train (no dropout used)? &rarr; open\n",
        "\n"
      ],
      "metadata": {
        "id": "fpDIj9Wli-B6"
      },
      "id": "fpDIj9Wli-B6"
    },
    {
      "cell_type": "markdown",
      "source": [
        "### Is not enough data available for FL?\n",
        "\n"
      ],
      "metadata": {
        "id": "A5DsINroozV8"
      },
      "id": "A5DsINroozV8"
    },
    {
      "cell_type": "markdown",
      "source": [],
      "metadata": {
        "id": "ENqg1BrrozY6"
      },
      "id": "ENqg1BrrozY6"
    },
    {
      "cell_type": "markdown",
      "source": [
        "### FL for medical insurance - improved model\n",
        "\n",
        "- result: from mae 8700 to ~6500 (error from update), centralized we have ~2900\n",
        "- changes\n",
        "  - lower learning rate, 'glorom_uniform' (default) initializer and relu activation"
      ],
      "metadata": {
        "id": "QGlTpm7ni-FN"
      },
      "id": "QGlTpm7ni-FN"
    },
    {
      "cell_type": "markdown",
      "source": [],
      "metadata": {
        "id": "li7kFdBXi-IK"
      },
      "id": "li7kFdBXi-IK"
    },
    {
      "cell_type": "markdown",
      "id": "277d5e56-30c0-4ca9-84cc-a0a95f123935",
      "metadata": {
        "execution": {
          "iopub.execute_input": "2023-03-29T05:05:07.851161Z",
          "iopub.status.busy": "2023-03-29T05:05:07.851161Z",
          "iopub.status.idle": "2023-03-29T05:05:07.870662Z",
          "shell.execute_reply": "2023-03-29T05:05:07.868602Z",
          "shell.execute_reply.started": "2023-03-29T05:05:07.851161Z"
        },
        "tags": [],
        "id": "277d5e56-30c0-4ca9-84cc-a0a95f123935"
      },
      "source": [
        "<span style=\"background-color: #FFFF00\">tba...</span> \n",
        "\n",
        "#### Initial Check of FL\n",
        "\n",
        "In [med-insurance-federated.ipynb](../original_work/med-insurance/med-insurance-federated.ipynb), we investigated, why FL performs so much worse. Our Observations:\n",
        "\n",
        "**The FL model was not the DNN used in the centralized situation.**\n",
        "\n",
        "Data preprocessing and model initilisationData preprocessing and model initilisation\n",
        "\n",
        "**The FL model didn't learn anything (zero Initializer).**\n",
        "\n",
        "In the FL use case, we tested other model specifications and couldn't improve the performance.\n",
        "\n",
        "Thus, we switch to investigating the centralized DNN.\n",
        "\n",
        "#### Check of the centralized model.\n",
        "\n",
        "- high variance in training\n",
        "- new experiments are also highly variating\n",
        "- performance variates in the regions\n",
        "\n",
        "S. [02_insurance_DNN.ipynb#Results](02_insurance_DNN.ipynb#Results) \n",
        "\n"
      ]
    },
    {
      "cell_type": "markdown",
      "id": "74152451-5f9b-4340-8f05-b223038693ae",
      "metadata": {
        "id": "74152451-5f9b-4340-8f05-b223038693ae"
      },
      "source": [
        "### Einrichtung auf verschiedenen Systemen aufwändig\n",
        "\n",
        "### Medical Insurance - Details\n",
        "\n",
        "S. [00_initial_results.ipynb#Our Investigation](<../_dev/00_initial_results.ipynb#Our Investigation>)\n",
        "\n",
        "### Our Investigation"
      ]
    },
    {
      "cell_type": "markdown",
      "id": "960600a0-e97e-49b4-9ce1-ed37718a0544",
      "metadata": {
        "id": "960600a0-e97e-49b4-9ce1-ed37718a0544"
      },
      "source": [
        "### Einrichtung auf verschiedenen Systemen aufwändig\n",
        "\n",
        "### Medical Insurance - Details\n",
        "\n",
        "S. [00_initial_results.ipynb#Our Investigation](<../_dev/00_initial_results.ipynb#Our Investigation>)"
      ]
    },
    {
      "cell_type": "markdown",
      "id": "c626399e-92dc-4627-988b-52b667419f9f",
      "metadata": {
        "id": "c626399e-92dc-4627-988b-52b667419f9f"
      },
      "source": [
        "<span style=\"background-color: #FFFF00\">tba...</span> \n",
        "\n",
        "#### Initial Check of FL\n",
        "\n",
        "In [med-insurance-federated.ipynb](../original_work/med-insurance/med-insurance-federated.ipynb), we investigated, why FL performs so much worse. Our Observations:\n",
        "\n",
        "**The FL model was not the DNN used in the centralized situation.**\n",
        "\n",
        "Data preprocessing and model initilisationData preprocessing and model initilisation\n",
        "\n",
        "**The FL model didn't learn anything (zero Initializer).**\n",
        "\n",
        "In the FL use case, we tested other model specifications and couldn't improve the performance.\n",
        "\n",
        "Thus, we switch to investigating the centralized DNN.\n",
        "\n",
        "#### Check of the centralized model.\n",
        "\n",
        "- high variance in training\n",
        "- new experiments are also highly variating\n",
        "- performance variates in the regions\n",
        "\n",
        "S. [02_insurance_DNN.ipynb#Results](02_insurance_DNN.ipynb#Results) \n",
        "\n"
      ]
    }
  ],
  "metadata": {
    "kernelspec": {
      "display_name": "Python 3 (ipykernel)",
      "language": "python",
      "name": "python3"
    },
    "language_info": {
      "codemirror_mode": {
        "name": "ipython",
        "version": 3
      },
      "file_extension": ".py",
      "mimetype": "text/x-python",
      "name": "python",
      "nbconvert_exporter": "python",
      "pygments_lexer": "ipython3",
      "version": "3.9.16"
    },
    "colab": {
      "provenance": []
    }
  },
  "nbformat": 4,
  "nbformat_minor": 5
}