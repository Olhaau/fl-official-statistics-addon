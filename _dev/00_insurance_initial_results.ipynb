{
 "cells": [
  {
   "cell_type": "markdown",
   "id": "83c22209-c976-434a-b3e7-e6d7f7d5389e",
   "metadata": {
    "execution": {
     "iopub.execute_input": "2023-03-28T11:57:47.295804Z",
     "iopub.status.busy": "2023-03-28T11:57:47.295804Z",
     "iopub.status.idle": "2023-03-28T11:57:47.299339Z",
     "shell.execute_reply": "2023-03-28T11:57:47.299339Z",
     "shell.execute_reply.started": "2023-03-28T11:57:47.295804Z"
    },
    "tags": []
   },
   "source": [
    "# Medical Insurance - a Federated Learning Use Case.\n",
    "\n",
    "This notebook contains the **initial results of the originating work** <a name=\"cite_ref-1\"></a>[(Stock et al., 2023)](#cite_note-1)."
   ]
  },
  {
   "cell_type": "markdown",
   "id": "100ec1f5-ebe3-4c93-a5fe-c272fbb2b3d6",
   "metadata": {},
   "source": [
    "## Results"
   ]
  },
  {
   "cell_type": "markdown",
   "id": "a02dab58-1acb-4138-aca0-647d9fff46ed",
   "metadata": {},
   "source": [
    "To analyze the potential, \n",
    "\n",
    "\n",
    "> *To analyze the potential of FL for official statistics, we run simulations with three different data sets.*"
   ]
  },
  {
   "cell_type": "markdown",
   "id": "2845a8bb-b75d-4296-8ca6-3065c22cd49b",
   "metadata": {
    "tags": []
   },
   "source": [
    "## Appendix\n",
    "---"
   ]
  },
  {
   "cell_type": "markdown",
   "id": "16bfc6d4-e139-48ae-b169-623a0f50b8ed",
   "metadata": {
    "jp-MarkdownHeadingCollapsed": true,
    "tags": []
   },
   "source": [
    "### References\n",
    "<a name=\"cite_note-1\"></a>[(Stock et al., 2023)](#cite_ref-1)  &emsp;  Stock, Petersen, Federrath (2023). *On the Applicability of Federated Learning for Official Statistics* "
   ]
  },
  {
   "cell_type": "markdown",
   "id": "aaec50e2-84c5-443e-948a-5668df6f5e81",
   "metadata": {},
   "source": [
    "### Helpful\n",
    "- [Footnotes in Markdown (Stackoverflow)](https://stackoverflow.com/questions/61139741/footnotes-in-markdown-both-on-jupyter-and-google-colab)\n",
    "- [Add Spaces in Markdown (Stackoverflow)](https://stackoverflow.com/questions/47061626/how-to-get-tab-space-in-markdown-cell-of-jupyter-notebook)"
   ]
  }
 ],
 "metadata": {
  "kernelspec": {
   "display_name": "Python 3 (ipykernel)",
   "language": "python",
   "name": "python3"
  },
  "language_info": {
   "codemirror_mode": {
    "name": "ipython",
    "version": 3
   },
   "file_extension": ".py",
   "mimetype": "text/x-python",
   "name": "python",
   "nbconvert_exporter": "python",
   "pygments_lexer": "ipython3",
   "version": "3.9.16"
  }
 },
 "nbformat": 4,
 "nbformat_minor": 5
}
