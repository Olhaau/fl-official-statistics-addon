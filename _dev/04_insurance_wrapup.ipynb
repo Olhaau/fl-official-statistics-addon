{
 "cells": [
  {
   "attachments": {},
   "cell_type": "markdown",
   "metadata": {},
   "source": [
    "# Medical Insurance - a Federated Learning Use Case.\n",
    "\n",
    "Revision by Destatis (Oliver Hauke and Julius Weißmann)"
   ]
  }
 ],
 "metadata": {
  "language_info": {
   "name": "python"
  },
  "orig_nbformat": 4
 },
 "nbformat": 4,
 "nbformat_minor": 2
}
