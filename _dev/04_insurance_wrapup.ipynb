{
  "cells": [
    {
      "cell_type": "markdown",
      "metadata": {
        "id": "view-in-github",
        "colab_type": "text"
      },
      "source": [
        "<a href=\"https://colab.research.google.com/github/Olhaau/fl-official-statistics-addon/blob/main/_dev/04_insurance_wrapup.ipynb\" target=\"_parent\"><img src=\"https://colab.research.google.com/assets/colab-badge.svg\" alt=\"Open In Colab\"/></a>"
      ]
    },
    {
      "cell_type": "markdown",
      "metadata": {
        "id": "SER9bN_Vg-pA"
      },
      "source": [
        "# Medical Insurance - a Federated Learning Use Case.\n",
        "\n",
        "Revision by Destatis (Julius Weißmann and Oliver Hauke)"
      ]
    },
    {
      "cell_type": "markdown",
      "source": [
        "## Summary\n",
        "---"
      ],
      "metadata": {
        "id": "v9a3fZALlUPC"
      }
    },
    {
      "cell_type": "markdown",
      "source": [
        "- We stablized the centralized deep neural network (DNN)\n",
        "  - model with more units and layers, without dropout, Xavier Initializion\n",
        "  - more robust, faster and precise results\n",
        "- We fixed the Federated Learning (FL) Algorithm\n",
        "  - same model as in the centralized setting\n",
        "  - great improvement in loss, MAE similiar to centralized setting\n",
        "- outline\n",
        "  - FL highly suitable for the available data\n",
        "  - suggestions:\n",
        "    - fixed train/val/test-split for centralized vs federated\n",
        "    - cross validation\n",
        "    - tests for 5 or 9 features"
      ],
      "metadata": {
        "id": "N1037nfAhXsN"
      }
    },
    {
      "cell_type": "markdown",
      "source": [
        "## Initial Results\n",
        "---"
      ],
      "metadata": {
        "id": "QKXX8C6QjoWo"
      }
    },
    {
      "cell_type": "markdown",
      "source": [
        "### Centralized"
      ],
      "metadata": {
        "id": "mklhkEOUkh3U"
      }
    },
    {
      "cell_type": "markdown",
      "source": [
        "*Training Performance after tuning:*\n",
        "![](https://github.com/Olhaau/fl-official-statistics-addon/blob/main/original_work/med-insurance/rsquared_hyperparams.jpg?raw=1)\n",
        "\n",
        "\n"
      ],
      "metadata": {
        "id": "n5sBWJtoils1"
      }
    },
    {
      "cell_type": "markdown",
      "source": [
        "### Federated"
      ],
      "metadata": {
        "id": "JbUydGHSkroh"
      }
    },
    {
      "cell_type": "markdown",
      "source": [
        "S. \n",
        "https://github.com/joshua-stock/fl-official-statistics/blob/main/med-insurance/med-insurance-federated.ipynb\n",
        "\n",
        "- \"*Ergebnisse sehen deutlich schlechter aus als zentralisiert.*\"\n",
        "- \"*MAE geht nicht unter ~8700 (vs. ~2900 im zentralisierten Modell)*\"\n",
        "- \"*R² ist negativ!*\""
      ],
      "metadata": {
        "id": "-qsCUp62kryl"
      }
    },
    {
      "cell_type": "markdown",
      "source": [
        "## Setup\n",
        "---"
      ],
      "metadata": {
        "id": "kymOCs4nljqA"
      }
    },
    {
      "cell_type": "code",
      "execution_count": 1,
      "metadata": {
        "execution": {
          "iopub.execute_input": "2023-03-28T14:27:44.075055Z",
          "iopub.status.busy": "2023-03-28T14:27:44.075055Z",
          "iopub.status.idle": "2023-03-28T14:27:44.092127Z",
          "shell.execute_reply": "2023-03-28T14:27:44.092127Z",
          "shell.execute_reply.started": "2023-03-28T14:27:44.075055Z"
        },
        "tags": [],
        "id": "ntuqAkUjTssj"
      },
      "outputs": [],
      "source": [
        "# Is a repo-clone and installs needed (e.g. in colabs)? \n",
        "need_clone_install = True"
      ]
    },
    {
      "cell_type": "markdown",
      "metadata": {
        "id": "aZQgDGzbd3pm"
      },
      "source": [
        "### Pull Repo"
      ]
    },
    {
      "cell_type": "code",
      "execution_count": 2,
      "metadata": {
        "colab": {
          "base_uri": "https://localhost:8080/"
        },
        "execution": {
          "iopub.execute_input": "2023-03-28T14:28:00.749833Z",
          "iopub.status.busy": "2023-03-28T14:28:00.749833Z",
          "iopub.status.idle": "2023-03-28T14:28:00.760797Z",
          "shell.execute_reply": "2023-03-28T14:28:00.760797Z",
          "shell.execute_reply.started": "2023-03-28T14:28:00.749833Z"
        },
        "id": "F5qBP638d0iR",
        "outputId": "1ee6e52a-c2f7-4972-df65-b69dac71e0f8",
        "tags": []
      },
      "outputs": [
        {
          "output_type": "stream",
          "name": "stdout",
          "text": [
            "Cloning into 'fl-official-statistics-addon'...\n",
            "remote: Enumerating objects: 877, done.\u001b[K\n",
            "remote: Counting objects: 100% (59/59), done.\u001b[K\n",
            "remote: Compressing objects: 100% (49/49), done.\u001b[K\n",
            "remote: Total 877 (delta 39), reused 15 (delta 10), pack-reused 818\u001b[K\n",
            "Receiving objects: 100% (877/877), 33.56 MiB | 14.15 MiB/s, done.\n",
            "Resolving deltas: 100% (399/399), done.\n",
            "/content/fl-official-statistics-addon\n",
            "Already up to date.\n"
          ]
        }
      ],
      "source": [
        "if need_clone_install:\n",
        "    import os\n",
        "    \n",
        "    # rm repo from gdrive\n",
        "    if os.path.exists(\"fl-official-statistics-addon\"):\n",
        "      %rm -r fl-official-statistics-addon\n",
        "\n",
        "    # clone\n",
        "    !git clone https://github.com/Olhaau/fl-official-statistics-addon\n",
        "    %cd fl-official-statistics-addon\n",
        "\n",
        "    # pull (the currenct version of the repo)\n",
        "    !git pull"
      ]
    },
    {
      "cell_type": "markdown",
      "metadata": {
        "id": "Lh4tDIuxQEeb"
      },
      "source": [
        "### Installs"
      ]
    },
    {
      "cell_type": "markdown",
      "source": [
        "#### Python Version"
      ],
      "metadata": {
        "id": "G_J64urdjxPu"
      }
    },
    {
      "cell_type": "code",
      "source": [
        "#https://www.datasciencelearner.com/change-python-version-in-google-colab-steps/\n",
        "if False:\n",
        "  !python --version\n",
        "  print(\"-----------------------------------------------------------\")\n",
        "  !sudo update-alternatives --install /usr/bin/python3 python3 /usr/bin/python3.9 1\n",
        "  !sudo update-alternatives --config python3\n",
        "  print(\"-----------------------------------------------------------\")\n",
        "  !python --version"
      ],
      "metadata": {
        "id": "DnkuFrk2oTeL"
      },
      "execution_count": 3,
      "outputs": []
    },
    {
      "cell_type": "markdown",
      "source": [
        "#### Packages"
      ],
      "metadata": {
        "id": "CDLyJzZ5l6Df"
      }
    },
    {
      "cell_type": "code",
      "source": [
        "if need_clone_install:\n",
        "  #!pip install --quiet nest-asyncio==1.5.6\n",
        "  #!pip install --quiet tensorflow==2.11.*\n",
        "  !pip install --quiet tensorflow-federated==0.48.*\n",
        "  !pip install --quiet tensorflow-addons==0.19.*"
      ],
      "metadata": {
        "colab": {
          "base_uri": "https://localhost:8080/"
        },
        "id": "MJKsRPFArrOD",
        "outputId": "837da877-13d6-449a-ccf4-17a3729a008b"
      },
      "execution_count": null,
      "outputs": [
        {
          "output_type": "stream",
          "name": "stdout",
          "text": [
            "\u001b[2K     \u001b[90m━━━━━━━━━━━━━━━━━━━━━━━━━━━━━━━━━━━━━━━━\u001b[0m \u001b[32m42.8/42.8 MB\u001b[0m \u001b[31m10.0 MB/s\u001b[0m eta \u001b[36m0:00:00\u001b[0m\n",
            "\u001b[2K     \u001b[90m━━━━━━━━━━━━━━━━━━━━━━━━━━━━━━━━━━━━━━━━\u001b[0m \u001b[32m60.6/60.6 KB\u001b[0m \u001b[31m2.8 MB/s\u001b[0m eta \u001b[36m0:00:00\u001b[0m\n",
            "\u001b[2K     \u001b[90m━━━━━━━━━━━━━━━━━━━━━━━━━━━━━━━━━━━━━━━━\u001b[0m \u001b[32m3.0/3.0 MB\u001b[0m \u001b[31m31.2 MB/s\u001b[0m eta \u001b[36m0:00:00\u001b[0m\n",
            "\u001b[2K     \u001b[90m━━━━━━━━━━━━━━━━━━━━━━━━━━━━━━━━━━━━━━━━\u001b[0m \u001b[32m71.3/71.3 MB\u001b[0m \u001b[31m10.4 MB/s\u001b[0m eta \u001b[36m0:00:00\u001b[0m\n",
            "\u001b[2K     \u001b[90m━━━━━━━━━━━━━━━━━━━━━━━━━━━━━━━━━━━━━━\u001b[0m \u001b[32m142.7/142.7 KB\u001b[0m \u001b[31m13.2 MB/s\u001b[0m eta \u001b[36m0:00:00\u001b[0m\n",
            "\u001b[2K     \u001b[90m━━━━━━━━━━━━━━━━━━━━━━━━━━━━━━━━━━━━━━━━\u001b[0m \u001b[32m89.9/89.9 KB\u001b[0m \u001b[31m8.1 MB/s\u001b[0m eta \u001b[36m0:00:00\u001b[0m\n",
            "\u001b[2K     \u001b[90m━━━━━━━━━━━━━━━━━━━━━━━━━━━━━━━━━━━━━━\u001b[0m \u001b[32m243.8/243.8 KB\u001b[0m \u001b[31m12.0 MB/s\u001b[0m eta \u001b[36m0:00:00\u001b[0m\n",
            "\u001b[2K     \u001b[90m━━━━━━━━━━━━━━━━━━━━━━━━━━━━━━━━━━━━━━━\u001b[0m \u001b[32m238.9/238.9 KB\u001b[0m \u001b[31m6.3 MB/s\u001b[0m eta \u001b[36m0:00:00\u001b[0m\n",
            "\u001b[2K     \u001b[90m━━━━━━━━━━━━━━━━━━━━━━━━━━━━━━━━━━━━━━━\u001b[0m \u001b[32m588.3/588.3 MB\u001b[0m \u001b[31m2.3 MB/s\u001b[0m eta \u001b[36m0:00:00\u001b[0m\n",
            "\u001b[2K     \u001b[90m━━━━━━━━━━━━━━━━━━━━━━━━━━━━━━━━━━━━━━\u001b[0m \u001b[32m301.7/301.7 KB\u001b[0m \u001b[31m26.9 MB/s\u001b[0m eta \u001b[36m0:00:00\u001b[0m\n",
            "\u001b[2K     \u001b[90m━━━━━━━━━━━━━━━━━━━━━━━━━━━━━━━━━━━━━━\u001b[0m \u001b[32m120.2/120.2 KB\u001b[0m \u001b[31m12.8 MB/s\u001b[0m eta \u001b[36m0:00:00\u001b[0m\n",
            "\u001b[2K     \u001b[90m━━━━━━━━━━━━━━━━━━━━━━━━━━━━━━━━━━━━━━\u001b[0m \u001b[32m990.1/990.1 KB\u001b[0m \u001b[31m66.4 MB/s\u001b[0m eta \u001b[36m0:00:00\u001b[0m\n",
            "\u001b[?25h  Preparing metadata (setup.py) ... \u001b[?25l\u001b[?25hdone\n",
            "\u001b[2K     \u001b[90m━━━━━━━━━━━━━━━━━━━━━━━━━━━━━━━━━━━━━━━━\u001b[0m \u001b[32m39.8/39.8 MB\u001b[0m \u001b[31m15.1 MB/s\u001b[0m eta \u001b[36m0:00:00\u001b[0m\n",
            "\u001b[2K     \u001b[90m━━━━━━━━━━━━━━━━━━━━━━━━━━━━━━━━━━━━━━\u001b[0m \u001b[32m126.7/126.7 KB\u001b[0m \u001b[31m13.8 MB/s\u001b[0m eta \u001b[36m0:00:00\u001b[0m\n",
            "\u001b[2K     \u001b[90m━━━━━━━━━━━━━━━━━━━━━━━━━━━━━━━━━━━━━━\u001b[0m \u001b[32m532.6/532.6 KB\u001b[0m \u001b[31m19.2 MB/s\u001b[0m eta \u001b[36m0:00:00\u001b[0m\n",
            "\u001b[2K     \u001b[90m━━━━━━━━━━━━━━━━━━━━━━━━━━━━━━━━━━━━━━━━\u001b[0m \u001b[32m2.8/2.8 MB\u001b[0m \u001b[31m54.4 MB/s\u001b[0m eta \u001b[36m0:00:00\u001b[0m\n",
            "\u001b[2K     \u001b[90m━━━━━━━━━━━━━━━━━━━━━━━━━━━━━━━━━━━━━━\u001b[0m \u001b[32m146.0/146.0 KB\u001b[0m \u001b[31m15.2 MB/s\u001b[0m eta \u001b[36m0:00:00\u001b[0m\n",
            "\u001b[2K     \u001b[90m━━━━━━━━━━━━━━━━━━━━━━━━━━━━━━━━━━━━━━━━\u001b[0m \u001b[32m2.0/2.0 MB\u001b[0m \u001b[31m21.4 MB/s\u001b[0m eta \u001b[36m0:00:00\u001b[0m\n",
            "\u001b[2K     \u001b[90m━━━━━━━━━━━━━━━━━━━━━━━━━━━━━━━━━━━━━━━━\u001b[0m \u001b[32m5.7/5.7 MB\u001b[0m \u001b[31m73.2 MB/s\u001b[0m eta \u001b[36m0:00:00\u001b[0m\n",
            "\u001b[2K     \u001b[90m━━━━━━━━━━━━━━━━━━━━━━━━━━━━━━━━━━━━━━\u001b[0m \u001b[32m439.2/439.2 KB\u001b[0m \u001b[31m34.1 MB/s\u001b[0m eta \u001b[36m0:00:00\u001b[0m\n",
            "\u001b[2K     \u001b[90m━━━━━━━━━━━━━━━━━━━━━━━━━━━━━━━━━━━━━━━━\u001b[0m \u001b[32m6.0/6.0 MB\u001b[0m \u001b[31m75.8 MB/s\u001b[0m eta \u001b[36m0:00:00\u001b[0m\n",
            "\u001b[2K     \u001b[90m━━━━━━━━━━━━━━━━━━━━━━━━━━━━━━━━━━━━━━━━\u001b[0m \u001b[32m1.1/1.1 MB\u001b[0m \u001b[31m35.3 MB/s\u001b[0m eta \u001b[36m0:00:00\u001b[0m\n",
            "\u001b[2K     \u001b[90m━━━━━━━━━━━━━━━━━━━━━━━━━━━━━━━━━━━━━━━━\u001b[0m \u001b[32m1.7/1.7 MB\u001b[0m \u001b[31m59.5 MB/s\u001b[0m eta \u001b[36m0:00:00\u001b[0m\n",
            "\u001b[?25h"
          ]
        }
      ]
    },
    {
      "cell_type": "code",
      "source": [
        "!pip list"
      ],
      "metadata": {
        "id": "6YfWCaRJmXZy"
      },
      "execution_count": null,
      "outputs": []
    },
    {
      "cell_type": "markdown",
      "source": [
        "### Imports"
      ],
      "metadata": {
        "id": "qvWu4XrpooAN"
      }
    },
    {
      "cell_type": "code",
      "source": [
        "import pandas as pd\n",
        "import time\n",
        "import matplotlib.pyplot as plt\n",
        "\n",
        "from sklearn.model_selection import train_test_split, cross_val_score, ShuffleSplit, RandomizedSearchCV, GridSearchCV\n",
        "from sklearn.metrics import r2_score\n",
        "\n",
        "# DNN\n",
        "import tensorflow as tf\n",
        "from tensorflow import keras\n",
        "from keras.models import Sequential\n",
        "from keras.layers import Dense, Dropout, ReLU\n",
        "from tensorflow_addons.metrics import RSquare\n",
        "\n",
        "# TFF\n",
        "import tensorflow_federated as tff"
      ],
      "metadata": {
        "id": "FfwccnL_opI_"
      },
      "execution_count": null,
      "outputs": []
    },
    {
      "cell_type": "markdown",
      "source": [
        "### Visualizations for neural networks\n",
        "\n",
        "(optional)"
      ],
      "metadata": {
        "id": "hMYOXoMGWHPJ"
      }
    },
    {
      "cell_type": "code",
      "source": [
        "!pip install --quiet keras_visualizer==3.1.1 \n",
        "from keras_visualizer import visualizer\n",
        "from IPython.display import Image"
      ],
      "metadata": {
        "id": "fvRkG-3DWN5G"
      },
      "execution_count": null,
      "outputs": []
    },
    {
      "cell_type": "markdown",
      "source": [
        "## Ingest Data\n",
        "---"
      ],
      "metadata": {
        "id": "Jrb--YDLohhH"
      }
    },
    {
      "cell_type": "code",
      "source": [
        "df = pd.read_csv(\"https://raw.githubusercontent.com/Olhaau/fl-official-statistics-addon/main/output/data/insurance-clean.csv\", index_col = 0)\n",
        "df.head()"
      ],
      "metadata": {
        "id": "4DrZOC8eog-a"
      },
      "execution_count": null,
      "outputs": []
    },
    {
      "cell_type": "markdown",
      "source": [
        "### Train Test Split"
      ],
      "metadata": {
        "id": "bDoFHNfqpB2V"
      }
    },
    {
      "cell_type": "code",
      "source": [
        "# Divide data into train and test data\n",
        "features = ['age', 'sex', 'bmi', 'children', 'smoker', 'region0', 'region1', 'region2', 'region3']\n",
        "target = 'charges'\n",
        "\n",
        "df_ml = df[features + [target]]\n",
        "\n",
        "X_train, X_test, y_train, y_test = train_test_split(\n",
        "    df_ml[features], df_ml[[target]], \n",
        "    test_size = 0.2, random_state = 42, shuffle = True)"
      ],
      "metadata": {
        "id": "tHFJOCG6pA1n"
      },
      "execution_count": null,
      "outputs": []
    },
    {
      "cell_type": "markdown",
      "source": [
        "## Centralized Neural Networks\n",
        "---"
      ],
      "metadata": {
        "id": "5-M2CgbFk2ur"
      }
    },
    {
      "cell_type": "markdown",
      "source": [
        "### Initial Model"
      ],
      "metadata": {
        "id": "XFyBvM3ZsBYW"
      }
    },
    {
      "cell_type": "markdown",
      "source": [
        "See section 'DNN' from https://github.com/joshua-stock/fl-official-statistics/blob/main/med-insurance/med-insurance.ipynb"
      ],
      "metadata": {
        "id": "S1YbC6fzVPGs"
      }
    },
    {
      "cell_type": "markdown",
      "source": [
        "#### Define + Compile"
      ],
      "metadata": {
        "id": "D4NYgI1cydw8"
      }
    },
    {
      "cell_type": "code",
      "source": [
        "\n",
        "\n",
        "model0 = Sequential([\n",
        "    keras.Input(shape=(9,)),\n",
        "    Dense(32, activation='relu'),\n",
        "    Dropout(0.05),\n",
        "    Dense(16, activation='relu'),\n",
        "    Dense(1)\n",
        "])\n",
        "\n",
        "# alternatively ...\n",
        "#model0 = Sequential()\n",
        "#model0.add(Dense(32, input_dim = 9))\n",
        "#model0.add(ReLU())\n",
        "#model0.add(Dropout(0.05))\n",
        "#...\n",
        "\n",
        "model0.compile(\n",
        "    loss        = 'mae', \n",
        "    optimizer   = tf.optimizers.SGD(),\n",
        "    metrics     = [\"mae\", 'mean_squared_error', r2_score], \n",
        "    run_eagerly = True\n",
        "    )\n",
        "\n",
        "model0.summary()"
      ],
      "metadata": {
        "id": "6uTvBJ5ok7Cy"
      },
      "execution_count": null,
      "outputs": []
    },
    {
      "cell_type": "code",
      "source": [
        "visualizer(model0, file_format = 'png', file_name = '_initial_model', view=True)\n",
        "Image('_initial_model.png')"
      ],
      "metadata": {
        "id": "CdiCY9g6UQfl"
      },
      "execution_count": null,
      "outputs": []
    },
    {
      "cell_type": "markdown",
      "source": [
        "#### Train"
      ],
      "metadata": {
        "id": "EXTO0dixykOu"
      }
    },
    {
      "cell_type": "code",
      "source": [
        "rtime = time.time() \n",
        "tf.random.set_seed(42)\n",
        "\n",
        "with tf.device('/device:GPU:0'):\n",
        "  hist0 = model0.fit(\n",
        "      X_train, y_train,\n",
        "      shuffle = True,\n",
        "      validation_split = 0.2,\n",
        "      epochs = 100,\n",
        "      verbose = 0\n",
        "  )\n",
        "\n",
        "rtime = time.time() - rtime\n",
        "print(rtime / 60)"
      ],
      "metadata": {
        "id": "lmGv8WO2tyl6"
      },
      "execution_count": null,
      "outputs": []
    },
    {
      "cell_type": "markdown",
      "source": [
        "#### Evaluate"
      ],
      "metadata": {
        "id": "YMiYYEtjyrMX"
      }
    },
    {
      "cell_type": "code",
      "source": [
        "def plot_loss(hist, msr = 'loss'):\n",
        "  \"\"\"Plot the training history and save the figure.\n",
        "  :param hist: The history object including the metrics to plot\n",
        "  :type hist: keras.callbacks.History\n",
        "  :param msr: The metrics to plot\n",
        "  :type msr: str, optional\n",
        "  \"\"\"\n",
        "  plt.plot(hist.history[msr])\n",
        "  plt.plot(hist.history['val_' + msr])\n",
        "  plt.ylabel(msr)\n",
        "  plt.xlabel('epoch')\n",
        "  plt.legend(['train', 'eval'], loc='upper left')\n",
        "\n",
        "\n",
        "plot_loss(hist0, 'r2_score')\n",
        "plt.title('Initial Model')\n",
        "plt.ylim([0.5, 0.9])\n",
        "plt.show()\n",
        "#fig = plt.figure()\n",
        "#fig.savefig(plot_experiment_path + \"/40_40_20_mse_adam_0_05_ReLU_bs256.png\", dpi=fig.dpi)"
      ],
      "metadata": {
        "id": "ZsF0QfjZwn4e"
      },
      "execution_count": null,
      "outputs": []
    },
    {
      "cell_type": "code",
      "source": [
        "# Test\n",
        "pd.DataFrame({\n",
        "    'measure': [\"mae\", 'mse', 'r2_score'],\n",
        "    'value': hist0.model.evaluate(X_test, y_test, verbose = 0)[1:]\n",
        "})"
      ],
      "metadata": {
        "id": "x5VBXnk4ycM7"
      },
      "execution_count": null,
      "outputs": []
    },
    {
      "cell_type": "markdown",
      "source": [
        "### Improved Model"
      ],
      "metadata": {
        "id": "Jo8HkhG6wjp7"
      }
    },
    {
      "cell_type": "code",
      "source": [
        "# define + compile\n",
        "model = Sequential([\n",
        "    Dense(40, input_dim = 9, activation = 'relu'),\n",
        "    Dense(40, activation = 'relu'),\n",
        "    Dense(20, activation = 'relu'),\n",
        "    Dense(1)\n",
        "])\n",
        "# removed dropout, increased units and added another big layer in the middle\n",
        "\n",
        "model.compile(\n",
        "      loss = 'mean_squared_error', \n",
        "      optimizer = tf.optimizers.Adam(learning_rate = .05),\n",
        "      # Adam + lower learning rate\n",
        "      metrics = [\"mae\", 'mean_squared_error', r2_score], \n",
        "      run_eagerly = True\n",
        "      )\n",
        "\n",
        "model.summary()\n",
        "print(\"=================================================================\")\n",
        "\n",
        "# train\n",
        "rtime = time.time() \n",
        "tf.random.set_seed(42)\n",
        "\n",
        "with tf.device('/device:GPU:0'):\n",
        "  hist = model.fit(\n",
        "      X_train, y_train,\n",
        "      batch_size = 128, # <- higher batch_size\n",
        "      shuffle = True,\n",
        "      validation_split = 0.2,\n",
        "      epochs = 100,\n",
        "      verbose = 0\n",
        "  )\n",
        "\n",
        "rtime = time.time() - rtime\n",
        "print('-- Training --')\n",
        "print('time to train: ', rtime / 60)\n",
        "print(\"=================================================================\")\n",
        "\n",
        "# evaluate\n",
        "plot_loss(hist, 'r2_score')\n",
        "plt.title('Modified Model')\n",
        "plt.ylim([0.5, 0.9])\n",
        "plt.show()\n",
        "#fig = plt.figure()\n",
        "#fig.savefig(plot_experiment_path + \"/40_40_20_mse_adam_0_05_ReLU_bs256.png\", dpi=fig.dpi)\n",
        "\n",
        "# Test\n",
        "print(\"=================================================================\")\n",
        "print(\"-- Test Performance --\")\n",
        "pd.DataFrame({\n",
        "    'measure': [\"mae\", 'mse', 'r2_score'],\n",
        "    'value': hist.model.evaluate(X_test, y_test, verbose = 0)[1:]\n",
        "})"
      ],
      "metadata": {
        "id": "ySuc2VfLvyKJ"
      },
      "execution_count": null,
      "outputs": []
    },
    {
      "cell_type": "markdown",
      "source": [
        "## Federated Learning\n",
        "---"
      ],
      "metadata": {
        "id": "NZVOoXS7k7_Z"
      }
    },
    {
      "cell_type": "markdown",
      "source": [
        "### Setup"
      ],
      "metadata": {
        "id": "lxCznqHKmKjq"
      }
    },
    {
      "cell_type": "markdown",
      "source": [
        "### FedAvg"
      ],
      "metadata": {
        "id": "P1XW9W2CmMX0"
      }
    },
    {
      "cell_type": "markdown",
      "source": [],
      "metadata": {
        "id": "9G4ljqEHmMaQ"
      }
    }
  ],
  "metadata": {
    "language_info": {
      "name": "python"
    },
    "orig_nbformat": 4,
    "colab": {
      "provenance": [],
      "include_colab_link": true
    },
    "kernelspec": {
      "name": "python3",
      "display_name": "Python 3"
    },
    "gpuClass": "standard",
    "accelerator": "GPU"
  },
  "nbformat": 4,
  "nbformat_minor": 0
}