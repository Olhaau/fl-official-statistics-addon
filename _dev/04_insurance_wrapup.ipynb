{
  "cells": [
    {
      "cell_type": "markdown",
      "metadata": {
        "id": "view-in-github",
        "colab_type": "text"
      },
      "source": [
        "<a href=\"https://colab.research.google.com/github/Olhaau/fl-official-statistics-addon/blob/main/_dev/04_insurance_wrapup.ipynb\" target=\"_parent\"><img src=\"https://colab.research.google.com/assets/colab-badge.svg\" alt=\"Open In Colab\"/></a>"
      ]
    },
    {
      "cell_type": "markdown",
      "metadata": {
        "id": "SER9bN_Vg-pA"
      },
      "source": [
        "# Medical Insurance - a Federated Learning Use Case.\n",
        "\n",
        "Revision by Destatis (Julius Weißmann and Oliver Hauke)"
      ]
    },
    {
      "cell_type": "markdown",
      "source": [
        "## Summary\n",
        "---\n",
        "\n",
        "- We stablized the centralized deep neural network (DNN)\n",
        "  - model with more units and layers, without dropout, Xavier Initializion\n",
        "  - more robust, faster and precise results\n",
        "- We fixed the Federated Learning (FL) Algorithm\n",
        "  - same model as in the centralized setting\n",
        "  - great improvement in loss, MAE similiar to centralized setting\n",
        "- outline\n",
        "  - FL highly suitable for the available data\n",
        "  - suggestions:\n",
        "    - fixed train/val/test-split for centralized vs federated\n",
        "    - cross validation\n",
        "    - tests for 5 or 9 features"
      ],
      "metadata": {
        "id": "N1037nfAhXsN"
      }
    },
    {
      "cell_type": "markdown",
      "source": [
        "## Initial Results\n",
        "---"
      ],
      "metadata": {
        "id": "QKXX8C6QjoWo"
      }
    },
    {
      "cell_type": "markdown",
      "source": [
        "### Centralized"
      ],
      "metadata": {
        "id": "mklhkEOUkh3U"
      }
    },
    {
      "cell_type": "markdown",
      "source": [
        "*Training Performance after tuning:*\n",
        "![](https://github.com/Olhaau/fl-official-statistics-addon/blob/main/original_work/med-insurance/rsquared_hyperparams.jpg?raw=1)\n",
        "\n",
        "\n"
      ],
      "metadata": {
        "id": "n5sBWJtoils1"
      }
    },
    {
      "cell_type": "markdown",
      "source": [
        "### Federated"
      ],
      "metadata": {
        "id": "JbUydGHSkroh"
      }
    },
    {
      "cell_type": "markdown",
      "source": [
        "S. \n",
        "https://github.com/joshua-stock/fl-official-statistics/blob/main/med-insurance/med-insurance-federated.ipynb\n",
        "\n",
        "- \"*Ergebnisse sehen deutlich schlechter aus als zentralisiert.*\"\n",
        "- \"*MAE geht nicht unter ~8700 (vs. ~2900 im zentralisierten Modell)*\"\n",
        "- \"*R² ist negativ!*\""
      ],
      "metadata": {
        "id": "-qsCUp62kryl"
      }
    },
    {
      "cell_type": "markdown",
      "source": [
        "## Centralized Setting\n",
        "---"
      ],
      "metadata": {
        "id": "5-M2CgbFk2ur"
      }
    },
    {
      "cell_type": "code",
      "source": [],
      "metadata": {
        "id": "6uTvBJ5ok7Cy"
      },
      "execution_count": null,
      "outputs": []
    },
    {
      "cell_type": "markdown",
      "source": [
        "## Federated Setting\n",
        "---"
      ],
      "metadata": {
        "id": "NZVOoXS7k7_Z"
      }
    }
  ],
  "metadata": {
    "language_info": {
      "name": "python"
    },
    "orig_nbformat": 4,
    "colab": {
      "provenance": [],
      "toc_visible": true,
      "include_colab_link": true
    },
    "kernelspec": {
      "name": "python3",
      "display_name": "Python 3"
    },
    "gpuClass": "standard",
    "accelerator": "GPU"
  },
  "nbformat": 4,
  "nbformat_minor": 0
}