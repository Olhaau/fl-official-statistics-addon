{
  "nbformat": 4,
  "nbformat_minor": 0,
  "metadata": {
    "colab": {
      "provenance": [],
      "authorship_tag": "ABX9TyPT3V0WyDzt/roSVZ28J6NV",
      "include_colab_link": true
    },
    "kernelspec": {
      "name": "python3",
      "display_name": "Python 3"
    },
    "language_info": {
      "name": "python"
    }
  },
  "cells": [
    {
      "cell_type": "markdown",
      "metadata": {
        "id": "view-in-github",
        "colab_type": "text"
      },
      "source": [
        "<a href=\"https://colab.research.google.com/github/Olhaau/fl-official-statistics-addon/blob/main/_dev/insurance_01_prep_eda_baselines.ipynb\" target=\"_parent\"><img src=\"https://colab.research.google.com/assets/colab-badge.svg\" alt=\"Open In Colab\"/></a>"
      ]
    },
    {
      "cell_type": "markdown",
      "source": [],
      "metadata": {
        "id": "oMQFjl6UPR0b"
      }
    },
    {
      "cell_type": "code",
      "execution_count": 1,
      "metadata": {
        "colab": {
          "base_uri": "https://localhost:8080/"
        },
        "id": "ZySHFHMgN9mL",
        "outputId": "ba44f609-2824-4313-9225-725ef49a001e"
      },
      "outputs": [
        {
          "output_type": "stream",
          "name": "stdout",
          "text": [
            "Cloning into 'fl-official-statistics-addon'...\n",
            "remote: Enumerating objects: 595, done.\u001b[K\n",
            "remote: Counting objects: 100% (231/231), done.\u001b[K\n",
            "remote: Compressing objects: 100% (188/188), done.\u001b[K\n",
            "remote: Total 595 (delta 96), reused 148 (delta 39), pack-reused 364\u001b[K\n",
            "Receiving objects: 100% (595/595), 31.22 MiB | 5.79 MiB/s, done.\n",
            "Resolving deltas: 100% (219/219), done.\n",
            "/content/fl-official-statistics-addon\n",
            "Already up to date.\n"
          ]
        }
      ],
      "source": [
        "import os\n",
        "\n",
        "# rm repo from gdrive\n",
        "if os.path.exists(\"fl-official-statistics-addon\"):\n",
        "  %rm -r fl-official-statistics-addon\n",
        "\n",
        "# clone\n",
        "!git clone https://github.com/Olhaau/fl-official-statistics-addon\n",
        "# the repo gets cloned to gdrive and available in the current runtime \n",
        "%cd fl-official-statistics-addon\n",
        "\n",
        "# pull (the currenct version of the repo)\n",
        "!git pull"
      ]
    },
    {
      "cell_type": "code",
      "source": [],
      "metadata": {
        "id": "AwO6YAf9PQbo"
      },
      "execution_count": null,
      "outputs": []
    },
    {
      "cell_type": "code",
      "source": [
        "!ls"
      ],
      "metadata": {
        "colab": {
          "base_uri": "https://localhost:8080/"
        },
        "id": "CdIMFlfROw_X",
        "outputId": "4bdd9e01-a83b-4942-8c8a-58d27c3a1991"
      },
      "execution_count": 2,
      "outputs": [
        {
          "output_type": "stream",
          "name": "stdout",
          "text": [
            "data  doc  original_work  output  README.md  requirements.txt\n"
          ]
        }
      ]
    },
    {
      "cell_type": "code",
      "source": [],
      "metadata": {
        "id": "Kh_0PRooOxBl"
      },
      "execution_count": null,
      "outputs": []
    },
    {
      "cell_type": "code",
      "source": [],
      "metadata": {
        "id": "SvFCoap0OxEE"
      },
      "execution_count": null,
      "outputs": []
    },
    {
      "cell_type": "code",
      "source": [],
      "metadata": {
        "id": "2WJV-Q-xOxHH"
      },
      "execution_count": null,
      "outputs": []
    }
  ]
}