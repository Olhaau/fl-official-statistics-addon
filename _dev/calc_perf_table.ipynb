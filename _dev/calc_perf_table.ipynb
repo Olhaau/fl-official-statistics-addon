{
 "cells": [
  {
   "cell_type": "code",
   "execution_count": 1,
   "metadata": {},
   "outputs": [
    {
     "data": {
      "text/html": [
       "<div>\n",
       "<style scoped>\n",
       "    .dataframe tbody tr th:only-of-type {\n",
       "        vertical-align: middle;\n",
       "    }\n",
       "\n",
       "    .dataframe tbody tr th {\n",
       "        vertical-align: top;\n",
       "    }\n",
       "\n",
       "    .dataframe thead th {\n",
       "        text-align: right;\n",
       "    }\n",
       "</style>\n",
       "<table border=\"1\" class=\"dataframe\">\n",
       "  <thead>\n",
       "    <tr style=\"text-align: right;\">\n",
       "      <th></th>\n",
       "      <th>age</th>\n",
       "      <th>sex</th>\n",
       "      <th>bmi</th>\n",
       "      <th>children</th>\n",
       "      <th>smoker</th>\n",
       "      <th>region</th>\n",
       "      <th>charges</th>\n",
       "    </tr>\n",
       "  </thead>\n",
       "  <tbody>\n",
       "    <tr>\n",
       "      <th>0</th>\n",
       "      <td>19</td>\n",
       "      <td>female</td>\n",
       "      <td>27.900</td>\n",
       "      <td>0</td>\n",
       "      <td>yes</td>\n",
       "      <td>southwest</td>\n",
       "      <td>16884.92400</td>\n",
       "    </tr>\n",
       "    <tr>\n",
       "      <th>1</th>\n",
       "      <td>18</td>\n",
       "      <td>male</td>\n",
       "      <td>33.770</td>\n",
       "      <td>1</td>\n",
       "      <td>no</td>\n",
       "      <td>southeast</td>\n",
       "      <td>1725.55230</td>\n",
       "    </tr>\n",
       "    <tr>\n",
       "      <th>2</th>\n",
       "      <td>28</td>\n",
       "      <td>male</td>\n",
       "      <td>33.000</td>\n",
       "      <td>3</td>\n",
       "      <td>no</td>\n",
       "      <td>southeast</td>\n",
       "      <td>4449.46200</td>\n",
       "    </tr>\n",
       "    <tr>\n",
       "      <th>3</th>\n",
       "      <td>33</td>\n",
       "      <td>male</td>\n",
       "      <td>22.705</td>\n",
       "      <td>0</td>\n",
       "      <td>no</td>\n",
       "      <td>northwest</td>\n",
       "      <td>21984.47061</td>\n",
       "    </tr>\n",
       "    <tr>\n",
       "      <th>4</th>\n",
       "      <td>32</td>\n",
       "      <td>male</td>\n",
       "      <td>28.880</td>\n",
       "      <td>0</td>\n",
       "      <td>no</td>\n",
       "      <td>northwest</td>\n",
       "      <td>3866.85520</td>\n",
       "    </tr>\n",
       "  </tbody>\n",
       "</table>\n",
       "</div>"
      ],
      "text/plain": [
       "   age     sex     bmi  children smoker     region      charges\n",
       "0   19  female  27.900         0    yes  southwest  16884.92400\n",
       "1   18    male  33.770         1     no  southeast   1725.55230\n",
       "2   28    male  33.000         3     no  southeast   4449.46200\n",
       "3   33    male  22.705         0     no  northwest  21984.47061\n",
       "4   32    male  28.880         0     no  northwest   3866.85520"
      ]
     },
     "metadata": {},
     "output_type": "display_data"
    }
   ],
   "source": [
    "from pycaret.datasets import get_data\n",
    "df = get_data('insurance')"
   ]
  },
  {
   "cell_type": "code",
   "execution_count": 9,
   "metadata": {},
   "outputs": [
    {
     "data": {
      "text/plain": [
       "0.8367077198380402"
      ]
     },
     "execution_count": 9,
     "metadata": {},
     "output_type": "execute_result"
    }
   ],
   "source": [
    "1 - 26831630.32 / df['charges'].var()\n",
    "\n",
    "1 - 23947200.24 / df['charges'].var()"
   ]
  },
  {
   "cell_type": "code",
   "execution_count": 15,
   "metadata": {},
   "outputs": [
    {
     "name": "stdout",
     "output_type": "stream",
     "text": [
      "mae = 31.24\n",
      "mse = 1527.27\n",
      "rmse = 39.08\n"
     ]
    }
   ],
   "source": [
    "import numpy as np\n",
    "\n",
    "y = np.array([1,1,1,1,1,1,1,1,1,1])\n",
    "yp = np.array([1,2,1.1,3,7,2,100,100,2,1])\n",
    "y = [np.mean(yp)]*10\n",
    "\n",
    "mae = np.mean(np.abs(y-yp))\n",
    "mse = np.mean((y-yp) ** 2)\n",
    "rmse = np.sqrt(np.mean((y-yp) ** 2))\n",
    "\n",
    "\n",
    "print('mae = %.2f' % mae)\n",
    "print('mse = %.2f' % mse)\n",
    "print('rmse = %.2f' % rmse)\n"
   ]
  },
  {
   "cell_type": "code",
   "execution_count": 13,
   "metadata": {},
   "outputs": [
    {
     "name": "stdout",
     "output_type": "stream",
     "text": [
      "0.6515513126491647\n",
      "0.535224153705398\n"
     ]
    }
   ],
   "source": [
    "print(2.73/4.19)\n",
    "print(5.85/10.93)"
   ]
  },
  {
   "attachments": {},
   "cell_type": "markdown",
   "metadata": {},
   "source": []
  },
  {
   "cell_type": "code",
   "execution_count": 21,
   "metadata": {},
   "outputs": [
    {
     "data": {
      "text/plain": [
       "0.36853801765211636"
      ]
     },
     "execution_count": 21,
     "metadata": {},
     "output_type": "execute_result"
    }
   ],
   "source": [
    "np.sqrt(2961651.4632) / np.sqrt(21805666.0709)\n"
   ]
  },
  {
   "cell_type": "code",
   "execution_count": null,
   "metadata": {},
   "outputs": [],
   "source": [
    "326.0407 / 4658.2576\t"
   ]
  },
  {
   "cell_type": "code",
   "execution_count": 20,
   "metadata": {},
   "outputs": [
    {
     "data": {
      "text/plain": [
       "0.1358202704549516"
      ]
     },
     "execution_count": 20,
     "metadata": {},
     "output_type": "execute_result"
    }
   ],
   "source": [
    "2961651.4632 / 21805666.0709"
   ]
  },
  {
   "cell_type": "code",
   "execution_count": 19,
   "metadata": {},
   "outputs": [
    {
     "name": "stdout",
     "output_type": "stream",
     "text": [
      "4669.653742077671\n",
      "1720.944933227092\n"
     ]
    }
   ],
   "source": [
    "print(np.sqrt(21805666.0709))\n",
    "print(np.sqrt(2961651.4632))"
   ]
  },
  {
   "attachments": {},
   "cell_type": "markdown",
   "metadata": {},
   "source": [
    "## NN CV Ergebnisse"
   ]
  },
  {
   "cell_type": "code",
   "execution_count": 2,
   "metadata": {},
   "outputs": [
    {
     "data": {
      "text/plain": [
       "'/home/olihauke/code/federated-learning/fl-official-statistics-addon/output/experiments'"
      ]
     },
     "execution_count": 2,
     "metadata": {},
     "output_type": "execute_result"
    }
   ],
   "source": [
    "import os\n",
    "experiment_path = '/home/olihauke/code/federated-learning/fl-official-statistics-addon/output/experiments'\n",
    "if os.getcwd() != experiment_path: os.chdir(experiment_path)\n",
    "os.getcwd()\n"
   ]
  },
  {
   "cell_type": "code",
   "execution_count": 3,
   "metadata": {},
   "outputs": [],
   "source": [
    "experiments = ['07_central_fix', '06_federated_fix']\n"
   ]
  },
  {
   "cell_type": "code",
   "execution_count": 4,
   "metadata": {},
   "outputs": [
    {
     "data": {
      "text/plain": [
       "['performance_overview.csv',\n",
       " 'training_performance_rsq.png',\n",
       " 'training_performance_mae.png',\n",
       " 'performance_test_overview.csv',\n",
       " 'performance_train_overview.csv',\n",
       " 'performance.csv',\n",
       " 'performance_test.csv']"
      ]
     },
     "execution_count": 4,
     "metadata": {},
     "output_type": "execute_result"
    }
   ],
   "source": [
    "os.listdir(os.path.join(experiments[0], 'results'))"
   ]
  },
  {
   "cell_type": "code",
   "execution_count": 5,
   "metadata": {},
   "outputs": [],
   "source": [
    "import pandas as pd"
   ]
  },
  {
   "cell_type": "code",
   "execution_count": 6,
   "metadata": {},
   "outputs": [],
   "source": [
    "perfs = {ex: pd.read_csv(os.path.join(ex, 'results', 'performance.csv'), sep = \";\", index_col=0)for ex in experiments}"
   ]
  },
  {
   "cell_type": "code",
   "execution_count": 32,
   "metadata": {},
   "outputs": [],
   "source": [
    "#perfs['07_central_fix'].filter(regex = 'test.*').assign(test_rmse = lambda x: np.sqrt(x.test_mean_squared_error)).describe()"
   ]
  },
  {
   "cell_type": "code",
   "execution_count": 21,
   "metadata": {},
   "outputs": [
    {
     "data": {
      "text/html": [
       "<div>\n",
       "<style scoped>\n",
       "    .dataframe tbody tr th:only-of-type {\n",
       "        vertical-align: middle;\n",
       "    }\n",
       "\n",
       "    .dataframe tbody tr th {\n",
       "        vertical-align: top;\n",
       "    }\n",
       "\n",
       "    .dataframe thead th {\n",
       "        text-align: right;\n",
       "    }\n",
       "</style>\n",
       "<table border=\"1\" class=\"dataframe\">\n",
       "  <thead>\n",
       "    <tr style=\"text-align: right;\">\n",
       "      <th></th>\n",
       "      <th>test_loss</th>\n",
       "      <th>test_mae</th>\n",
       "      <th>test_mean_squared_error</th>\n",
       "      <th>test_r2_score</th>\n",
       "      <th>test_rmse</th>\n",
       "    </tr>\n",
       "  </thead>\n",
       "  <tbody>\n",
       "    <tr>\n",
       "      <th>count</th>\n",
       "      <td>5.000000e+00</td>\n",
       "      <td>5.000000</td>\n",
       "      <td>5.000000e+00</td>\n",
       "      <td>5.000000</td>\n",
       "      <td>5.000000</td>\n",
       "    </tr>\n",
       "    <tr>\n",
       "      <th>mean</th>\n",
       "      <td>2.401863e+07</td>\n",
       "      <td>2700.977832</td>\n",
       "      <td>2.401863e+07</td>\n",
       "      <td>0.814515</td>\n",
       "      <td>4883.844984</td>\n",
       "    </tr>\n",
       "    <tr>\n",
       "      <th>std</th>\n",
       "      <td>4.398155e+06</td>\n",
       "      <td>197.874550</td>\n",
       "      <td>4.398155e+06</td>\n",
       "      <td>0.040087</td>\n",
       "      <td>456.462717</td>\n",
       "    </tr>\n",
       "    <tr>\n",
       "      <th>min</th>\n",
       "      <td>1.905191e+07</td>\n",
       "      <td>2415.641602</td>\n",
       "      <td>1.905191e+07</td>\n",
       "      <td>0.758861</td>\n",
       "      <td>4364.849596</td>\n",
       "    </tr>\n",
       "    <tr>\n",
       "      <th>25%</th>\n",
       "      <td>1.951589e+07</td>\n",
       "      <td>2604.526855</td>\n",
       "      <td>1.951589e+07</td>\n",
       "      <td>0.785901</td>\n",
       "      <td>4417.679255</td>\n",
       "    </tr>\n",
       "    <tr>\n",
       "      <th>50%</th>\n",
       "      <td>2.618223e+07</td>\n",
       "      <td>2764.433105</td>\n",
       "      <td>2.618223e+07</td>\n",
       "      <td>0.833140</td>\n",
       "      <td>5116.857629</td>\n",
       "    </tr>\n",
       "    <tr>\n",
       "      <th>75%</th>\n",
       "      <td>2.694243e+07</td>\n",
       "      <td>2785.298584</td>\n",
       "      <td>2.694243e+07</td>\n",
       "      <td>0.845066</td>\n",
       "      <td>5190.609791</td>\n",
       "    </tr>\n",
       "    <tr>\n",
       "      <th>max</th>\n",
       "      <td>2.840068e+07</td>\n",
       "      <td>2934.989014</td>\n",
       "      <td>2.840068e+07</td>\n",
       "      <td>0.849606</td>\n",
       "      <td>5329.228650</td>\n",
       "    </tr>\n",
       "  </tbody>\n",
       "</table>\n",
       "</div>"
      ],
      "text/plain": [
       "          test_loss     test_mae  test_mean_squared_error  test_r2_score  \\\n",
       "count  5.000000e+00     5.000000             5.000000e+00       5.000000   \n",
       "mean   2.401863e+07  2700.977832             2.401863e+07       0.814515   \n",
       "std    4.398155e+06   197.874550             4.398155e+06       0.040087   \n",
       "min    1.905191e+07  2415.641602             1.905191e+07       0.758861   \n",
       "25%    1.951589e+07  2604.526855             1.951589e+07       0.785901   \n",
       "50%    2.618223e+07  2764.433105             2.618223e+07       0.833140   \n",
       "75%    2.694243e+07  2785.298584             2.694243e+07       0.845066   \n",
       "max    2.840068e+07  2934.989014             2.840068e+07       0.849606   \n",
       "\n",
       "         test_rmse  \n",
       "count     5.000000  \n",
       "mean   4883.844984  \n",
       "std     456.462717  \n",
       "min    4364.849596  \n",
       "25%    4417.679255  \n",
       "50%    5116.857629  \n",
       "75%    5190.609791  \n",
       "max    5329.228650  "
      ]
     },
     "execution_count": 21,
     "metadata": {},
     "output_type": "execute_result"
    }
   ],
   "source": [
    "perfs['07_central_fix'].filter(regex = 'test.*').assign(test_rmse = lambda x: np.sqrt(x.test_mean_squared_error)).iloc[:5].describe()"
   ]
  },
  {
   "cell_type": "code",
   "execution_count": 33,
   "metadata": {},
   "outputs": [
    {
     "data": {
      "text/plain": [
       "0.04921579099218553"
      ]
     },
     "execution_count": 33,
     "metadata": {},
     "output_type": "execute_result"
    }
   ],
   "source": [
    "0.040087\t/0.814515"
   ]
  },
  {
   "cell_type": "code",
   "execution_count": 22,
   "metadata": {},
   "outputs": [
    {
     "data": {
      "text/plain": [
       "0.0934638012663016"
      ]
     },
     "execution_count": 22,
     "metadata": {},
     "output_type": "execute_result"
    }
   ],
   "source": [
    "456.462717 / 4883.844984"
   ]
  },
  {
   "cell_type": "code",
   "execution_count": 30,
   "metadata": {},
   "outputs": [
    {
     "data": {
      "text/plain": [
       "0.07326033840621317"
      ]
     },
     "execution_count": 30,
     "metadata": {},
     "output_type": "execute_result"
    }
   ],
   "source": [
    "197.874550/2700.977832\t"
   ]
  },
  {
   "cell_type": "code",
   "execution_count": 116,
   "metadata": {},
   "outputs": [],
   "source": [
    "#perfs['06_federated_fix'].filter(regex = 'test.*').assign(test_rmse = lambda x: np.sqrt(x.test_mean_squared_error)).iloc[:5].describe()"
   ]
  },
  {
   "cell_type": "code",
   "execution_count": 118,
   "metadata": {},
   "outputs": [
    {
     "data": {
      "text/html": [
       "<div>\n",
       "<style scoped>\n",
       "    .dataframe tbody tr th:only-of-type {\n",
       "        vertical-align: middle;\n",
       "    }\n",
       "\n",
       "    .dataframe tbody tr th {\n",
       "        vertical-align: top;\n",
       "    }\n",
       "\n",
       "    .dataframe thead th {\n",
       "        text-align: right;\n",
       "    }\n",
       "</style>\n",
       "<table border=\"1\" class=\"dataframe\">\n",
       "  <thead>\n",
       "    <tr style=\"text-align: right;\">\n",
       "      <th></th>\n",
       "      <th>test_loss</th>\n",
       "      <th>test_mae</th>\n",
       "      <th>test_mean_squared_error</th>\n",
       "      <th>test_r2_score</th>\n",
       "      <th>test_rmse</th>\n",
       "    </tr>\n",
       "  </thead>\n",
       "  <tbody>\n",
       "    <tr>\n",
       "      <th>count</th>\n",
       "      <td>5.000000e+00</td>\n",
       "      <td>5.000000</td>\n",
       "      <td>5.000000e+00</td>\n",
       "      <td>5.000000</td>\n",
       "      <td>5.000000</td>\n",
       "    </tr>\n",
       "    <tr>\n",
       "      <th>mean</th>\n",
       "      <td>2.811472e+07</td>\n",
       "      <td>3584.470557</td>\n",
       "      <td>2.811472e+07</td>\n",
       "      <td>0.784059</td>\n",
       "      <td>5300.268237</td>\n",
       "    </tr>\n",
       "    <tr>\n",
       "      <th>std</th>\n",
       "      <td>1.745732e+06</td>\n",
       "      <td>341.617680</td>\n",
       "      <td>1.745732e+06</td>\n",
       "      <td>0.031273</td>\n",
       "      <td>165.354969</td>\n",
       "    </tr>\n",
       "    <tr>\n",
       "      <th>min</th>\n",
       "      <td>2.552878e+07</td>\n",
       "      <td>3174.701904</td>\n",
       "      <td>2.552878e+07</td>\n",
       "      <td>0.746083</td>\n",
       "      <td>5052.601310</td>\n",
       "    </tr>\n",
       "    <tr>\n",
       "      <th>25%</th>\n",
       "      <td>2.806634e+07</td>\n",
       "      <td>3306.806641</td>\n",
       "      <td>2.806634e+07</td>\n",
       "      <td>0.766295</td>\n",
       "      <td>5297.767077</td>\n",
       "    </tr>\n",
       "    <tr>\n",
       "      <th>50%</th>\n",
       "      <td>2.817824e+07</td>\n",
       "      <td>3649.589600</td>\n",
       "      <td>2.817824e+07</td>\n",
       "      <td>0.787516</td>\n",
       "      <td>5308.318001</td>\n",
       "    </tr>\n",
       "    <tr>\n",
       "      <th>75%</th>\n",
       "      <td>2.835313e+07</td>\n",
       "      <td>3786.253174</td>\n",
       "      <td>2.835313e+07</td>\n",
       "      <td>0.790509</td>\n",
       "      <td>5324.765347</td>\n",
       "    </tr>\n",
       "    <tr>\n",
       "      <th>max</th>\n",
       "      <td>3.044710e+07</td>\n",
       "      <td>4005.001465</td>\n",
       "      <td>3.044710e+07</td>\n",
       "      <td>0.829892</td>\n",
       "      <td>5517.889452</td>\n",
       "    </tr>\n",
       "  </tbody>\n",
       "</table>\n",
       "</div>"
      ],
      "text/plain": [
       "          test_loss     test_mae  test_mean_squared_error  test_r2_score  \\\n",
       "count  5.000000e+00     5.000000             5.000000e+00       5.000000   \n",
       "mean   2.811472e+07  3584.470557             2.811472e+07       0.784059   \n",
       "std    1.745732e+06   341.617680             1.745732e+06       0.031273   \n",
       "min    2.552878e+07  3174.701904             2.552878e+07       0.746083   \n",
       "25%    2.806634e+07  3306.806641             2.806634e+07       0.766295   \n",
       "50%    2.817824e+07  3649.589600             2.817824e+07       0.787516   \n",
       "75%    2.835313e+07  3786.253174             2.835313e+07       0.790509   \n",
       "max    3.044710e+07  4005.001465             3.044710e+07       0.829892   \n",
       "\n",
       "         test_rmse  \n",
       "count     5.000000  \n",
       "mean   5300.268237  \n",
       "std     165.354969  \n",
       "min    5052.601310  \n",
       "25%    5297.767077  \n",
       "50%    5308.318001  \n",
       "75%    5324.765347  \n",
       "max    5517.889452  "
      ]
     },
     "execution_count": 118,
     "metadata": {},
     "output_type": "execute_result"
    }
   ],
   "source": [
    "perfs['06_federated_fix'].filter(regex = 'test.*').assign(test_rmse = lambda x: np.sqrt(x.test_mean_squared_error)).iloc[:5].describe()"
   ]
  },
  {
   "cell_type": "code",
   "execution_count": 34,
   "metadata": {},
   "outputs": [
    {
     "data": {
      "text/plain": [
       "0.03988602898506363"
      ]
     },
     "execution_count": 34,
     "metadata": {},
     "output_type": "execute_result"
    }
   ],
   "source": [
    "0.031273 / 0.784059"
   ]
  },
  {
   "cell_type": "code",
   "execution_count": 28,
   "metadata": {},
   "outputs": [
    {
     "data": {
      "text/plain": [
       "0.03119747182712255"
      ]
     },
     "execution_count": 28,
     "metadata": {},
     "output_type": "execute_result"
    }
   ],
   "source": [
    "165.354969 / 5300.268237"
   ]
  },
  {
   "cell_type": "code",
   "execution_count": 29,
   "metadata": {},
   "outputs": [
    {
     "data": {
      "text/plain": [
       "0.09530492009004386"
      ]
     },
     "execution_count": 29,
     "metadata": {},
     "output_type": "execute_result"
    }
   ],
   "source": [
    "341.617680\t/ 3584.470557\t"
   ]
  },
  {
   "cell_type": "code",
   "execution_count": 35,
   "metadata": {},
   "outputs": [],
   "source": [
    "import matplotlib.pyplot as plt"
   ]
  },
  {
   "cell_type": "code",
   "execution_count": 39,
   "metadata": {},
   "outputs": [
    {
     "data": {
      "text/html": [
       "<div>\n",
       "<style scoped>\n",
       "    .dataframe tbody tr th:only-of-type {\n",
       "        vertical-align: middle;\n",
       "    }\n",
       "\n",
       "    .dataframe tbody tr th {\n",
       "        vertical-align: top;\n",
       "    }\n",
       "\n",
       "    .dataframe thead th {\n",
       "        text-align: right;\n",
       "    }\n",
       "</style>\n",
       "<table border=\"1\" class=\"dataframe\">\n",
       "  <thead>\n",
       "    <tr style=\"text-align: right;\">\n",
       "      <th></th>\n",
       "      <th>rsq</th>\n",
       "      <th>mae</th>\n",
       "      <th>rmse</th>\n",
       "    </tr>\n",
       "  </thead>\n",
       "  <tbody>\n",
       "    <tr>\n",
       "      <th>0</th>\n",
       "      <td>0.8453</td>\n",
       "      <td>2677.6</td>\n",
       "      <td>4658.3</td>\n",
       "    </tr>\n",
       "    <tr>\n",
       "      <th>1</th>\n",
       "      <td>0.8145</td>\n",
       "      <td>2701.0</td>\n",
       "      <td>4883.8</td>\n",
       "    </tr>\n",
       "    <tr>\n",
       "      <th>2</th>\n",
       "      <td>0.7841</td>\n",
       "      <td>3584.5</td>\n",
       "      <td>5300.3</td>\n",
       "    </tr>\n",
       "  </tbody>\n",
       "</table>\n",
       "</div>"
      ],
      "text/plain": [
       "      rsq     mae    rmse\n",
       "0  0.8453  2677.6  4658.3\n",
       "1  0.8145  2701.0  4883.8\n",
       "2  0.7841  3584.5  5300.3"
      ]
     },
     "execution_count": 39,
     "metadata": {},
     "output_type": "execute_result"
    }
   ],
   "source": [
    "tab1 = pd.DataFrame({\n",
    "    'rsq':  [0.8453, 0.8145, 0.7841],\n",
    "    'mae':  [2677.6, 2701.0, 3584.5],\n",
    "    'rmse': [4658.3, 4883.8, 5300.3]\n",
    "})\n",
    "tab1"
   ]
  },
  {
   "cell_type": "code",
   "execution_count": 93,
   "metadata": {},
   "outputs": [
    {
     "data": {
      "text/plain": [
       "array([1., 1., 1.])"
      ]
     },
     "execution_count": 93,
     "metadata": {},
     "output_type": "execute_result"
    }
   ],
   "source": [
    "np.array(((1- abs(np.matrix(tab1) - np.matrix(tab1)[0]) / np.matrix(tab1)[0])))[0]"
   ]
  },
  {
   "cell_type": "code",
   "execution_count": 98,
   "metadata": {},
   "outputs": [
    {
     "data": {
      "text/plain": [
       "array([1.        , 0.99126083, 0.66130117])"
      ]
     },
     "execution_count": 98,
     "metadata": {},
     "output_type": "execute_result"
    }
   ],
   "source": [
    "np.array(((1- abs(np.matrix(tab1) - np.matrix(tab1)[0]) / np.matrix(tab1)[0]))).transpose()[1]"
   ]
  },
  {
   "cell_type": "code",
   "execution_count": 113,
   "metadata": {},
   "outputs": [
    {
     "data": {
      "text/plain": [
       "<matplotlib.legend.Legend at 0x7f230067d610>"
      ]
     },
     "execution_count": 113,
     "metadata": {},
     "output_type": "execute_result"
    },
    {
     "data": {
      "image/png": "[encoded data removed]",
      "text/plain": [
       "<Figure size 640x480 with 1 Axes>"
      ]
     },
     "metadata": {},
     "output_type": "display_data"
    }
   ],
   "source": [
    "plt.plot(['Best', 'Centralized nn', 'Federated nn'], np.array(((1- abs(np.matrix(tab1) - np.matrix(tab1)[0]) / np.matrix(tab1)[0]))).transpose()[0], label = 'RSQ')\n",
    "plt.plot(['Best', 'Centralized nn', 'Federated nn'], np.array(((1- abs(np.matrix(tab1) - np.matrix(tab1)[0]) / np.matrix(tab1)[0]))).transpose()[1], label = 'MAE')\n",
    "plt.plot(['Best', 'Centralized nn', 'Federated nn'], np.array(((1- abs(np.matrix(tab1) - np.matrix(tab1)[0]) / np.matrix(tab1)[0]))).transpose()[2], label = 'RMSE')\n",
    "plt.legend()\n",
    "#plt.#label(['R^2', 'MAE', 'RMSE'])"
   ]
  },
  {
   "cell_type": "code",
   "execution_count": 59,
   "metadata": {},
   "outputs": [
    {
     "data": {
      "text/plain": [
       "matrix([[0.03643677, 0.00873917, 0.04840822],\n",
       "        [0.07240033, 0.33869883, 0.13781852]])"
      ]
     },
     "execution_count": 59,
     "metadata": {},
     "output_type": "execute_result"
    }
   ],
   "source": [
    "((np.abs(np.matrix(tab1)[1:]-np.matrix(tab1)[0])) /np.matrix(tab1)[0])#.transpose()"
   ]
  },
  {
   "cell_type": "code",
   "execution_count": 53,
   "metadata": {},
   "outputs": [
    {
     "data": {
      "text/plain": [
       "matrix([[0.07240033],\n",
       "        [0.33869883],\n",
       "        [0.13781852]])"
      ]
     },
     "execution_count": 53,
     "metadata": {},
     "output_type": "execute_result"
    }
   ],
   "source": [
    "((np.abs(np.matrix(tab1)[2]-np.matrix(tab1)[0])) /np.matrix(tab1)[0]).transpose()"
   ]
  },
  {
   "cell_type": "code",
   "execution_count": 54,
   "metadata": {},
   "outputs": [
    {
     "data": {
      "text/plain": [
       "matrix([[0.03596356],\n",
       "        [0.32995967],\n",
       "        [0.0894103 ]])"
      ]
     },
     "execution_count": 54,
     "metadata": {},
     "output_type": "execute_result"
    }
   ],
   "source": [
    "((np.abs(np.matrix(tab1)[2]-np.matrix(tab1)[1])) /np.matrix(tab1)[0]).transpose()"
   ]
  },
  {
   "cell_type": "code",
   "execution_count": 55,
   "metadata": {},
   "outputs": [
    {
     "data": {
      "text/plain": [
       "0.07240033124334555"
      ]
     },
     "execution_count": 55,
     "metadata": {},
     "output_type": "execute_result"
    }
   ],
   "source": [
    "1 - 0.7841 / 0.8453"
   ]
  },
  {
   "cell_type": "code",
   "execution_count": 56,
   "metadata": {},
   "outputs": [
    {
     "data": {
      "text/plain": [
       "<Figure size 7680x5760 with 0 Axes>"
      ]
     },
     "execution_count": 56,
     "metadata": {},
     "output_type": "execute_result"
    },
    {
     "data": {
      "text/plain": [
       "<Figure size 7680x5760 with 0 Axes>"
      ]
     },
     "metadata": {},
     "output_type": "display_data"
    }
   ],
   "source": [
    "plt.figure(dpi = 1200)\n"
   ]
  },
  {
   "cell_type": "code",
   "execution_count": 102,
   "metadata": {},
   "outputs": [
    {
     "data": {
      "text/html": [
       "<div>\n",
       "<style scoped>\n",
       "    .dataframe tbody tr th:only-of-type {\n",
       "        vertical-align: middle;\n",
       "    }\n",
       "\n",
       "    .dataframe tbody tr th {\n",
       "        vertical-align: top;\n",
       "    }\n",
       "\n",
       "    .dataframe thead th {\n",
       "        text-align: right;\n",
       "    }\n",
       "</style>\n",
       "<table border=\"1\" class=\"dataframe\">\n",
       "  <thead>\n",
       "    <tr style=\"text-align: right;\">\n",
       "      <th></th>\n",
       "      <th>rsq</th>\n",
       "      <th>mae</th>\n",
       "      <th>rmse</th>\n",
       "    </tr>\n",
       "  </thead>\n",
       "  <tbody>\n",
       "    <tr>\n",
       "      <th>0</th>\n",
       "      <td>0.8453</td>\n",
       "      <td>2677.6</td>\n",
       "      <td>4658.3</td>\n",
       "    </tr>\n",
       "    <tr>\n",
       "      <th>1</th>\n",
       "      <td>0.8145</td>\n",
       "      <td>2701.0</td>\n",
       "      <td>4883.8</td>\n",
       "    </tr>\n",
       "    <tr>\n",
       "      <th>2</th>\n",
       "      <td>0.7841</td>\n",
       "      <td>3584.5</td>\n",
       "      <td>5300.3</td>\n",
       "    </tr>\n",
       "  </tbody>\n",
       "</table>\n",
       "</div>"
      ],
      "text/plain": [
       "      rsq     mae    rmse\n",
       "0  0.8453  2677.6  4658.3\n",
       "1  0.8145  2701.0  4883.8\n",
       "2  0.7841  3584.5  5300.3"
      ]
     },
     "execution_count": 102,
     "metadata": {},
     "output_type": "execute_result"
    }
   ],
   "source": [
    "tab1"
   ]
  },
  {
   "cell_type": "code",
   "execution_count": 103,
   "metadata": {},
   "outputs": [
    {
     "data": {
      "text/html": [
       "<div>\n",
       "<style scoped>\n",
       "    .dataframe tbody tr th:only-of-type {\n",
       "        vertical-align: middle;\n",
       "    }\n",
       "\n",
       "    .dataframe tbody tr th {\n",
       "        vertical-align: top;\n",
       "    }\n",
       "\n",
       "    .dataframe thead th {\n",
       "        text-align: right;\n",
       "    }\n",
       "</style>\n",
       "<table border=\"1\" class=\"dataframe\">\n",
       "  <thead>\n",
       "    <tr style=\"text-align: right;\">\n",
       "      <th></th>\n",
       "      <th>age</th>\n",
       "      <th>sex</th>\n",
       "      <th>bmi</th>\n",
       "      <th>children</th>\n",
       "      <th>smoker</th>\n",
       "      <th>region</th>\n",
       "      <th>charges</th>\n",
       "    </tr>\n",
       "  </thead>\n",
       "  <tbody>\n",
       "    <tr>\n",
       "      <th>0</th>\n",
       "      <td>19</td>\n",
       "      <td>female</td>\n",
       "      <td>27.900</td>\n",
       "      <td>0</td>\n",
       "      <td>yes</td>\n",
       "      <td>southwest</td>\n",
       "      <td>16884.92400</td>\n",
       "    </tr>\n",
       "    <tr>\n",
       "      <th>1</th>\n",
       "      <td>18</td>\n",
       "      <td>male</td>\n",
       "      <td>33.770</td>\n",
       "      <td>1</td>\n",
       "      <td>no</td>\n",
       "      <td>southeast</td>\n",
       "      <td>1725.55230</td>\n",
       "    </tr>\n",
       "    <tr>\n",
       "      <th>2</th>\n",
       "      <td>28</td>\n",
       "      <td>male</td>\n",
       "      <td>33.000</td>\n",
       "      <td>3</td>\n",
       "      <td>no</td>\n",
       "      <td>southeast</td>\n",
       "      <td>4449.46200</td>\n",
       "    </tr>\n",
       "    <tr>\n",
       "      <th>3</th>\n",
       "      <td>33</td>\n",
       "      <td>male</td>\n",
       "      <td>22.705</td>\n",
       "      <td>0</td>\n",
       "      <td>no</td>\n",
       "      <td>northwest</td>\n",
       "      <td>21984.47061</td>\n",
       "    </tr>\n",
       "    <tr>\n",
       "      <th>4</th>\n",
       "      <td>32</td>\n",
       "      <td>male</td>\n",
       "      <td>28.880</td>\n",
       "      <td>0</td>\n",
       "      <td>no</td>\n",
       "      <td>northwest</td>\n",
       "      <td>3866.85520</td>\n",
       "    </tr>\n",
       "  </tbody>\n",
       "</table>\n",
       "</div>"
      ],
      "text/plain": [
       "   age     sex     bmi  children smoker     region      charges\n",
       "0   19  female  27.900         0    yes  southwest  16884.92400\n",
       "1   18    male  33.770         1     no  southeast   1725.55230\n",
       "2   28    male  33.000         3     no  southeast   4449.46200\n",
       "3   33    male  22.705         0     no  northwest  21984.47061\n",
       "4   32    male  28.880         0     no  northwest   3866.85520"
      ]
     },
     "metadata": {},
     "output_type": "display_data"
    }
   ],
   "source": [
    "from pycaret.datasets import get_data\n",
    "df = get_data('insurance')"
   ]
  },
  {
   "cell_type": "code",
   "execution_count": 106,
   "metadata": {},
   "outputs": [
    {
     "data": {
      "text/plain": [
       "146652372.15285498"
      ]
     },
     "execution_count": 106,
     "metadata": {},
     "output_type": "execute_result"
    }
   ],
   "source": [
    "df.charges.var()"
   ]
  },
  {
   "cell_type": "code",
   "execution_count": 109,
   "metadata": {},
   "outputs": [
    {
     "data": {
      "text/html": [
       "<div>\n",
       "<style scoped>\n",
       "    .dataframe tbody tr th:only-of-type {\n",
       "        vertical-align: middle;\n",
       "    }\n",
       "\n",
       "    .dataframe tbody tr th {\n",
       "        vertical-align: top;\n",
       "    }\n",
       "\n",
       "    .dataframe thead th {\n",
       "        text-align: right;\n",
       "    }\n",
       "</style>\n",
       "<table border=\"1\" class=\"dataframe\">\n",
       "  <thead>\n",
       "    <tr style=\"text-align: right;\">\n",
       "      <th></th>\n",
       "      <th>rsq</th>\n",
       "      <th>mae</th>\n",
       "      <th>rmse</th>\n",
       "      <th>rsq2</th>\n",
       "    </tr>\n",
       "  </thead>\n",
       "  <tbody>\n",
       "    <tr>\n",
       "      <th>0</th>\n",
       "      <td>0.8453</td>\n",
       "      <td>2677.6</td>\n",
       "      <td>4658.3</td>\n",
       "      <td>0.852033</td>\n",
       "    </tr>\n",
       "    <tr>\n",
       "      <th>1</th>\n",
       "      <td>0.8145</td>\n",
       "      <td>2701.0</td>\n",
       "      <td>4883.8</td>\n",
       "      <td>0.837360</td>\n",
       "    </tr>\n",
       "    <tr>\n",
       "      <th>2</th>\n",
       "      <td>0.7841</td>\n",
       "      <td>3584.5</td>\n",
       "      <td>5300.3</td>\n",
       "      <td>0.808437</td>\n",
       "    </tr>\n",
       "  </tbody>\n",
       "</table>\n",
       "</div>"
      ],
      "text/plain": [
       "      rsq     mae    rmse      rsq2\n",
       "0  0.8453  2677.6  4658.3  0.852033\n",
       "1  0.8145  2701.0  4883.8  0.837360\n",
       "2  0.7841  3584.5  5300.3  0.808437"
      ]
     },
     "execution_count": 109,
     "metadata": {},
     "output_type": "execute_result"
    }
   ],
   "source": [
    "tab1.assign(rsq2 = lambda x: 1 - x.rmse ** 2 / df.charges.var())"
   ]
  },
  {
   "cell_type": "code",
   "execution_count": 120,
   "metadata": {},
   "outputs": [
    {
     "data": {
      "text/html": [
       "<div>\n",
       "<style scoped>\n",
       "    .dataframe tbody tr th:only-of-type {\n",
       "        vertical-align: middle;\n",
       "    }\n",
       "\n",
       "    .dataframe tbody tr th {\n",
       "        vertical-align: top;\n",
       "    }\n",
       "\n",
       "    .dataframe thead th {\n",
       "        text-align: right;\n",
       "    }\n",
       "</style>\n",
       "<table border=\"1\" class=\"dataframe\">\n",
       "  <thead>\n",
       "    <tr style=\"text-align: right;\">\n",
       "      <th></th>\n",
       "      <th>age</th>\n",
       "      <th>sex</th>\n",
       "      <th>bmi</th>\n",
       "      <th>children</th>\n",
       "      <th>smoker</th>\n",
       "      <th>charges</th>\n",
       "    </tr>\n",
       "    <tr>\n",
       "      <th>region</th>\n",
       "      <th></th>\n",
       "      <th></th>\n",
       "      <th></th>\n",
       "      <th></th>\n",
       "      <th></th>\n",
       "      <th></th>\n",
       "    </tr>\n",
       "  </thead>\n",
       "  <tbody>\n",
       "    <tr>\n",
       "      <th>northeast</th>\n",
       "      <td>324</td>\n",
       "      <td>324</td>\n",
       "      <td>324</td>\n",
       "      <td>324</td>\n",
       "      <td>324</td>\n",
       "      <td>324</td>\n",
       "    </tr>\n",
       "    <tr>\n",
       "      <th>northwest</th>\n",
       "      <td>325</td>\n",
       "      <td>325</td>\n",
       "      <td>325</td>\n",
       "      <td>325</td>\n",
       "      <td>325</td>\n",
       "      <td>325</td>\n",
       "    </tr>\n",
       "    <tr>\n",
       "      <th>southeast</th>\n",
       "      <td>364</td>\n",
       "      <td>364</td>\n",
       "      <td>364</td>\n",
       "      <td>364</td>\n",
       "      <td>364</td>\n",
       "      <td>364</td>\n",
       "    </tr>\n",
       "    <tr>\n",
       "      <th>southwest</th>\n",
       "      <td>325</td>\n",
       "      <td>325</td>\n",
       "      <td>325</td>\n",
       "      <td>325</td>\n",
       "      <td>325</td>\n",
       "      <td>325</td>\n",
       "    </tr>\n",
       "  </tbody>\n",
       "</table>\n",
       "</div>"
      ],
      "text/plain": [
       "           age  sex  bmi  children  smoker  charges\n",
       "region                                             \n",
       "northeast  324  324  324       324     324      324\n",
       "northwest  325  325  325       325     325      325\n",
       "southeast  364  364  364       364     364      364\n",
       "southwest  325  325  325       325     325      325"
      ]
     },
     "execution_count": 120,
     "metadata": {},
     "output_type": "execute_result"
    }
   ],
   "source": [
    "df.groupby('region').count()"
   ]
  },
  {
   "cell_type": "code",
   "execution_count": 123,
   "metadata": {},
   "outputs": [],
   "source": [
    "from sklearn.metrics import mean_squared_error as mse\n",
    "from sklearn.metrics import mean_absolute_error as mae\n",
    "from sklearn.metrics import error"
   ]
  },
  {
   "cell_type": "code",
   "execution_count": 205,
   "metadata": {},
   "outputs": [],
   "source": [
    "yt = np.ones(100) * 1000\n",
    "\n",
    "np.random.seed(1)\n",
    "y0 = np.append(np.random.normal(loc = 1000, scale = 130, size = 100- 10), [10000]*10)\n",
    "#y0 = np.random.normal(loc = 1000, scale = 100, size = 100)\n",
    "np.random.seed(1)\n",
    "y1 = np.random.normal(loc = 1000, scale = 130, size = 100)\n",
    "np.random.seed(1)\n",
    "y2 = np.append(np.random.normal(loc = 1000, scale = 150, size = 100- 10), [10000]*10)\n",
    "\n",
    "y = [y0, y1, y2]"
   ]
  },
  {
   "cell_type": "code",
   "execution_count": 206,
   "metadata": {},
   "outputs": [
    {
     "name": "stdout",
     "output_type": "stream",
     "text": [
      "[ 0.90667349 -0.013424  ]\n",
      "[ 9.59505716e-01 -2.60610636e-04]\n",
      "[2848.29120811  115.33951405 2849.0335031 ]\n",
      "[986.03773311  92.02346284 999.27430743]\n"
     ]
    }
   ],
   "source": [
    "maes  = np.array([        mae(yt, yd) for yd in y])\n",
    "rmses = np.array([np.sqrt(mse(yt, yd)) for yd in y])\n",
    "\n",
    "\n",
    "print((1 -  maes /  maes[0])[1:])\n",
    "print((1 - rmses / rmses[0])[1:])\n",
    "\n",
    "print(rmses)\n",
    "print(maes)\n",
    "\n"
   ]
  },
  {
   "cell_type": "code",
   "execution_count": 219,
   "metadata": {},
   "outputs": [
    {
     "data": {
      "text/plain": [
       "100"
      ]
     },
     "execution_count": 219,
     "metadata": {},
     "output_type": "execute_result"
    }
   ],
   "source": [
    "y = [np.append(y0[:(1000 - i - 1)], np.random.normal(loc = 1000, scale = 1000, size = i)) for i in range(10)]\n",
    "len(y[0])"
   ]
  },
  {
   "cell_type": "code",
   "execution_count": 222,
   "metadata": {},
   "outputs": [
    {
     "data": {
      "text/plain": [
       "100"
      ]
     },
     "execution_count": 222,
     "metadata": {},
     "output_type": "execute_result"
    }
   ],
   "source": [
    "len(y[0])"
   ]
  },
  {
   "cell_type": "code",
   "execution_count": 220,
   "metadata": {},
   "outputs": [
    {
     "ename": "ValueError",
     "evalue": "Found input variables with inconsistent numbers of samples: [100, 101]",
     "output_type": "error",
     "traceback": [
      "\u001b[0;31m---------------------------------------------------------------------------\u001b[0m",
      "\u001b[0;31mValueError\u001b[0m                                Traceback (most recent call last)",
      "\u001b[0;32m/tmp/ipykernel_37455/243290439.py\u001b[0m in \u001b[0;36m<cell line: 1>\u001b[0;34m()\u001b[0m\n\u001b[0;32m----> 1\u001b[0;31m \u001b[0mnp\u001b[0m\u001b[0;34m.\u001b[0m\u001b[0marray\u001b[0m\u001b[0;34m(\u001b[0m\u001b[0;34m[\u001b[0m        \u001b[0mmae\u001b[0m\u001b[0;34m(\u001b[0m\u001b[0myt\u001b[0m\u001b[0;34m,\u001b[0m \u001b[0myd\u001b[0m\u001b[0;34m)\u001b[0m \u001b[0;32mfor\u001b[0m \u001b[0myd\u001b[0m \u001b[0;32min\u001b[0m \u001b[0my\u001b[0m\u001b[0;34m]\u001b[0m\u001b[0;34m)\u001b[0m\u001b[0;34m\u001b[0m\u001b[0;34m\u001b[0m\u001b[0m\n\u001b[0m",
      "\u001b[0;32m/tmp/ipykernel_37455/243290439.py\u001b[0m in \u001b[0;36m<listcomp>\u001b[0;34m(.0)\u001b[0m\n\u001b[0;32m----> 1\u001b[0;31m \u001b[0mnp\u001b[0m\u001b[0;34m.\u001b[0m\u001b[0marray\u001b[0m\u001b[0;34m(\u001b[0m\u001b[0;34m[\u001b[0m        \u001b[0mmae\u001b[0m\u001b[0;34m(\u001b[0m\u001b[0myt\u001b[0m\u001b[0;34m,\u001b[0m \u001b[0myd\u001b[0m\u001b[0;34m)\u001b[0m \u001b[0;32mfor\u001b[0m \u001b[0myd\u001b[0m \u001b[0;32min\u001b[0m \u001b[0my\u001b[0m\u001b[0;34m]\u001b[0m\u001b[0;34m)\u001b[0m\u001b[0;34m\u001b[0m\u001b[0;34m\u001b[0m\u001b[0m\n\u001b[0m",
      "\u001b[0;32m~/.asdf/installs/python/miniconda3-latest/envs/env-tff/lib/python3.9/site-packages/sklearn/metrics/_regression.py\u001b[0m in \u001b[0;36mmean_absolute_error\u001b[0;34m(y_true, y_pred, sample_weight, multioutput)\u001b[0m\n\u001b[1;32m    194\u001b[0m     \u001b[0;36m0.85\u001b[0m\u001b[0;34m...\u001b[0m\u001b[0;34m\u001b[0m\u001b[0;34m\u001b[0m\u001b[0m\n\u001b[1;32m    195\u001b[0m     \"\"\"\n\u001b[0;32m--> 196\u001b[0;31m     y_type, y_true, y_pred, multioutput = _check_reg_targets(\n\u001b[0m\u001b[1;32m    197\u001b[0m         \u001b[0my_true\u001b[0m\u001b[0;34m,\u001b[0m \u001b[0my_pred\u001b[0m\u001b[0;34m,\u001b[0m \u001b[0mmultioutput\u001b[0m\u001b[0;34m\u001b[0m\u001b[0;34m\u001b[0m\u001b[0m\n\u001b[1;32m    198\u001b[0m     )\n",
      "\u001b[0;32m~/.asdf/installs/python/miniconda3-latest/envs/env-tff/lib/python3.9/site-packages/sklearn/metrics/_regression.py\u001b[0m in \u001b[0;36m_check_reg_targets\u001b[0;34m(y_true, y_pred, multioutput, dtype)\u001b[0m\n\u001b[1;32m     98\u001b[0m         \u001b[0mcorrect\u001b[0m \u001b[0mkeyword\u001b[0m\u001b[0;34m.\u001b[0m\u001b[0;34m\u001b[0m\u001b[0;34m\u001b[0m\u001b[0m\n\u001b[1;32m     99\u001b[0m     \"\"\"\n\u001b[0;32m--> 100\u001b[0;31m     \u001b[0mcheck_consistent_length\u001b[0m\u001b[0;34m(\u001b[0m\u001b[0my_true\u001b[0m\u001b[0;34m,\u001b[0m \u001b[0my_pred\u001b[0m\u001b[0;34m)\u001b[0m\u001b[0;34m\u001b[0m\u001b[0;34m\u001b[0m\u001b[0m\n\u001b[0m\u001b[1;32m    101\u001b[0m     \u001b[0my_true\u001b[0m \u001b[0;34m=\u001b[0m \u001b[0mcheck_array\u001b[0m\u001b[0;34m(\u001b[0m\u001b[0my_true\u001b[0m\u001b[0;34m,\u001b[0m \u001b[0mensure_2d\u001b[0m\u001b[0;34m=\u001b[0m\u001b[0;32mFalse\u001b[0m\u001b[0;34m,\u001b[0m \u001b[0mdtype\u001b[0m\u001b[0;34m=\u001b[0m\u001b[0mdtype\u001b[0m\u001b[0;34m)\u001b[0m\u001b[0;34m\u001b[0m\u001b[0;34m\u001b[0m\u001b[0m\n\u001b[1;32m    102\u001b[0m     \u001b[0my_pred\u001b[0m \u001b[0;34m=\u001b[0m \u001b[0mcheck_array\u001b[0m\u001b[0;34m(\u001b[0m\u001b[0my_pred\u001b[0m\u001b[0;34m,\u001b[0m \u001b[0mensure_2d\u001b[0m\u001b[0;34m=\u001b[0m\u001b[0;32mFalse\u001b[0m\u001b[0;34m,\u001b[0m \u001b[0mdtype\u001b[0m\u001b[0;34m=\u001b[0m\u001b[0mdtype\u001b[0m\u001b[0;34m)\u001b[0m\u001b[0;34m\u001b[0m\u001b[0;34m\u001b[0m\u001b[0m\n",
      "\u001b[0;32m~/.asdf/installs/python/miniconda3-latest/envs/env-tff/lib/python3.9/site-packages/sklearn/utils/validation.py\u001b[0m in \u001b[0;36mcheck_consistent_length\u001b[0;34m(*arrays)\u001b[0m\n\u001b[1;32m    395\u001b[0m     \u001b[0muniques\u001b[0m \u001b[0;34m=\u001b[0m \u001b[0mnp\u001b[0m\u001b[0;34m.\u001b[0m\u001b[0munique\u001b[0m\u001b[0;34m(\u001b[0m\u001b[0mlengths\u001b[0m\u001b[0;34m)\u001b[0m\u001b[0;34m\u001b[0m\u001b[0;34m\u001b[0m\u001b[0m\n\u001b[1;32m    396\u001b[0m     \u001b[0;32mif\u001b[0m \u001b[0mlen\u001b[0m\u001b[0;34m(\u001b[0m\u001b[0muniques\u001b[0m\u001b[0;34m)\u001b[0m \u001b[0;34m>\u001b[0m \u001b[0;36m1\u001b[0m\u001b[0;34m:\u001b[0m\u001b[0;34m\u001b[0m\u001b[0;34m\u001b[0m\u001b[0m\n\u001b[0;32m--> 397\u001b[0;31m         raise ValueError(\n\u001b[0m\u001b[1;32m    398\u001b[0m             \u001b[0;34m\"Found input variables with inconsistent numbers of samples: %r\"\u001b[0m\u001b[0;34m\u001b[0m\u001b[0;34m\u001b[0m\u001b[0m\n\u001b[1;32m    399\u001b[0m             \u001b[0;34m%\u001b[0m \u001b[0;34m[\u001b[0m\u001b[0mint\u001b[0m\u001b[0;34m(\u001b[0m\u001b[0ml\u001b[0m\u001b[0;34m)\u001b[0m \u001b[0;32mfor\u001b[0m \u001b[0ml\u001b[0m \u001b[0;32min\u001b[0m \u001b[0mlengths\u001b[0m\u001b[0;34m]\u001b[0m\u001b[0;34m\u001b[0m\u001b[0;34m\u001b[0m\u001b[0m\n",
      "\u001b[0;31mValueError\u001b[0m: Found input variables with inconsistent numbers of samples: [100, 101]"
     ]
    }
   ],
   "source": [
    "np.array([        mae(yt, yd) for yd in y])"
   ]
  },
  {
   "cell_type": "code",
   "execution_count": 228,
   "metadata": {},
   "outputs": [
    {
     "name": "stdout",
     "output_type": "stream",
     "text": [
      "100\n",
      "101\n",
      "102\n",
      "103\n",
      "104\n",
      "105\n",
      "106\n",
      "107\n",
      "108\n",
      "109\n"
     ]
    }
   ],
   "source": [
    "\n",
    "for i in range(len(y)): \n",
    "    print(len(y[i]))\n",
    "    \n",
    "    #print(mse(y[i], yt))\n",
    "#[        mae(yt, yd) for yd in y]"
   ]
  },
  {
   "cell_type": "code",
   "execution_count": 235,
   "metadata": {},
   "outputs": [
    {
     "data": {
      "text/plain": [
       "array([1019.07948424, 1074.33463425,  995.21370465, 1014.60790354,\n",
       "        980.43443767, 1119.01490485,  943.03396525, 1024.11963073,\n",
       "       1051.2756439 , 1094.31793257, 1194.46501956, 1087.8089952 ,\n",
       "       1077.89772061,  808.86917843, 1078.83251276, 1298.18328961,\n",
       "        892.09857188,  867.46241958,  972.09500051, 1132.76225639,\n",
       "       1068.217564  ,  937.97385316,  995.32127638, 1134.81506763,\n",
       "       1087.44056726, 1315.75400604, 1130.73926844, 1045.96373808,\n",
       "       1079.91441586,  954.63205518,  872.8895098 , 1022.35442718,\n",
       "       1063.7729357 ,  818.61320674,  932.09365953,  951.99673276,\n",
       "       1034.53351233,  966.13941235, 1057.86257234, 1012.75459201,\n",
       "       1137.84257619,  777.54820425, 1215.42620295, 1184.29762169,\n",
       "       1006.5412212 , 1084.54201785, 1078.85129205,  904.15234839,\n",
       "       1021.40645856, 1101.16264328, 1040.27617862, 1136.67169982,\n",
       "       1012.34949431, 1010.49762852,  900.18551302,  952.61005354,\n",
       "        940.23670147, 1221.71285731, 1031.26572178,  870.07455482,\n",
       "       1051.81779046,  975.03951944,  603.01063054, 1062.38080825,\n",
       "        798.14915819, 1075.20037463,  875.03573213,  810.41782015,\n",
       "       1064.26441463,  805.75481051,  941.92910355, 1026.56906134,\n",
       "       1079.59022801, 1096.83498974,  995.28343249,  891.7886048 ,\n",
       "       1250.09600538,  921.22242833, 1234.46656759,  941.17175347,\n",
       "       1150.96714013, 1139.09552006,  864.08054784, 1046.18698591,\n",
       "       1098.20096379, 1091.1276758 ,  974.13813146, 1039.2548059 ,\n",
       "        948.69034147,  847.6642607 , 1127.9215908 ,  927.24141515,\n",
       "       1179.36856491, 1078.31861716,  883.95593244,  979.04421846,\n",
       "        962.769961  ,  886.78460555, 1065.18584669,  937.7801704 ])"
      ]
     },
     "execution_count": 235,
     "metadata": {},
     "output_type": "execute_result"
    }
   ],
   "source": [
    "y0[:99]"
   ]
  },
  {
   "cell_type": "code",
   "execution_count": 238,
   "metadata": {},
   "outputs": [
    {
     "name": "stdout",
     "output_type": "stream",
     "text": [
      "99\n",
      "99\n",
      "99\n",
      "99\n",
      "99\n",
      "99\n",
      "99\n",
      "99\n",
      "99\n",
      "99\n"
     ]
    }
   ],
   "source": [
    "y = [np.append(y0[:(100 -  i - 1)], np.random.normal(loc = 1000, scale = 1000, size = i)) for i in range(10)]\n",
    "for yi in y:\n",
    "    print(len(yi))"
   ]
  },
  {
   "cell_type": "code",
   "execution_count": 403,
   "metadata": {},
   "outputs": [
    {
     "name": "stdout",
     "output_type": "stream",
     "text": [
      "[ 91.67  95.8  101.38 101.86  99.51 102.03 102.75 103.26 104.04 103.26]\n",
      "[115.07 117.11 119.86 117.76 112.94 114.18 111.71 110.81 110.75 107.21]\n",
      "mae:  [0.045  0.106  0.1112 0.0856 0.113  0.1209 0.1265 0.135  0.1265]\n",
      "rmse: [ 0.0177  0.0416  0.0234 -0.0185 -0.0077 -0.0292 -0.037  -0.0376 -0.0683]\n",
      "frac: [  2.5439   2.5448   4.7497  -4.6268 -14.6378  -4.1431  -3.4199  -3.5942\n",
      "  -1.8519]\n"
     ]
    }
   ],
   "source": [
    "yt = np.ones(100) * 1000\n",
    "np.random.seed(1)\n",
    "y0 = np.random.normal(loc = 1000, scale = 130, size = 100)\n",
    "yt = np.array([np.mean(y0)] * len(y0))\n",
    "\n",
    "eps = 100\n",
    "y = [y0] + [np.append(y0[:(len(y0) - i * 10)], \n",
    "                      [1000 - eps] * i * 5 + [1000 + eps] * i * 5\n",
    "                      #np.random.normal(loc = 1000, scale = 100, size = i * 10)\n",
    "                      ) for i in range(1, 10)]\n",
    "maes  = np.array([        mae(yt, yd) for yd in y])\n",
    "rmses = np.array([np.sqrt(mse(yt, yd)) for yd in y])\n",
    "\n",
    "print(maes.round(2))\n",
    "print(rmses.round(2))\n",
    "\n",
    "print('mae: ', (maes  /  maes[0] - 1)[1:].round(4))\n",
    "print('rmse:', (rmses / rmses[0] - 1)[1:].round(4))\n",
    "print('frac:', ((maes /  maes[0] - 1) / (rmses / rmses[0]- 1))[1:].round(4))"
   ]
  },
  {
   "cell_type": "code",
   "execution_count": 404,
   "metadata": {},
   "outputs": [
    {
     "data": {
      "text/plain": [
       "[115.07030779810606,\n",
       " 117.10401412135985,\n",
       " 119.83147117234473,\n",
       " 117.75609759048945,\n",
       " 112.71013709573779,\n",
       " 113.78323271689182,\n",
       " 111.00634142500873,\n",
       " 110.34304869372002,\n",
       " 110.16554457938055,\n",
       " 106.82311179242183]"
      ]
     },
     "execution_count": 404,
     "metadata": {},
     "output_type": "execute_result"
    }
   ],
   "source": [
    "[np.std(yd) for yd in y]"
   ]
  },
  {
   "cell_type": "code",
   "execution_count": 414,
   "metadata": {},
   "outputs": [
    {
     "name": "stdout",
     "output_type": "stream",
     "text": [
      "mae: 1.11 rmse: 1.25\n",
      "mae: 2.0 rmse: 2.45\n",
      "mae: 3.11 rmse: 3.68\n",
      "mae: 4.22 rmse: 4.92\n",
      "mae: 5.33 rmse: 6.16\n",
      "mae: 6.44 rmse: 7.41\n",
      "mae: 7.56 rmse: 8.65\n",
      "mae: 8.67 rmse: 9.9\n",
      "mae: 9.78 rmse: 11.15\n"
     ]
    }
   ],
   "source": [
    "for i in range(1,10):\n",
    "    x = np.array([-i,1,2* i] * i)\n",
    "    print(\"mae:\", mae(x, [np.mean(x)]*len(x)).round(2), \"rmse:\", np.sqrt(mse(x, [np.mean(x)]*len(x))).round(2))    "
   ]
  },
  {
   "attachments": {},
   "cell_type": "markdown",
   "metadata": {},
   "source": [
    "variance/outliers decrease -> mae gets faster high than rmse"
   ]
  },
  {
   "cell_type": "code",
   "execution_count": 309,
   "metadata": {},
   "outputs": [
    {
     "name": "stdout",
     "output_type": "stream",
     "text": [
      "rmse:  8.955445270895245\n",
      "mae:   8.2\n"
     ]
    }
   ],
   "source": [
    "y = np.array([1,-1,1,-1,1,-1,1,-1,1,-1,-10,10,-10,10,-10,10,-10,10,-10,10,-10,10,-10,10,-10,10,-10,10,-10,10,-10,10,-10,10,-10,10,-10,10,-10,10,-10,10,-10,10,-10,10,-10,10,-10,10])\n",
    "y0 = np.array([np.mean(y)] * len(y))\n",
    "\n",
    "print('rmse: ', np.sqrt(mse(y,y0)))\n",
    "print('mae:  ', mae(y,y0))\n"
   ]
  },
  {
   "cell_type": "code",
   "execution_count": 155,
   "metadata": {},
   "outputs": [
    {
     "data": {
      "text/plain": [
       "array([ 0.30833925,  0.60324647,  0.3128273 ,  0.15479436,  0.32875387,\n",
       "        0.9873354 , -0.11731035,  1.2344157 ,  2.65980218,  1.74204416,\n",
       "       10.        ])"
      ]
     },
     "execution_count": 155,
     "metadata": {},
     "output_type": "execute_result"
    }
   ],
   "source": [
    "np.append(np.random.normal(loc = 1, scale = 1, size = 10), 10)"
   ]
  },
  {
   "cell_type": "code",
   "execution_count": 426,
   "metadata": {},
   "outputs": [
    {
     "name": "stdout",
     "output_type": "stream",
     "text": [
      "rmse: 1.43 | mae: 1.09\n"
     ]
    }
   ],
   "source": [
    "y = np.random.binomial(10,.5, 100)\n",
    "y0 = np.array([np.mean(y)] * len(y))\n",
    "print('rmse:',np.sqrt(mse(y,y0)).round(2),'| mae:', mae(y,y0).round(2))"
   ]
  },
  {
   "cell_type": "code",
   "execution_count": 430,
   "metadata": {},
   "outputs": [
    {
     "name": "stdout",
     "output_type": "stream",
     "text": [
      "rmse: 1.03 | mae: 0.87\n"
     ]
    }
   ],
   "source": [
    "y = np.append(np.random.binomial(10,.1, 100),[])\n",
    "y0 = np.array([np.mean(y)] * len(y))\n",
    "print('rmse:',np.sqrt(mse(y,y0)).round(2),'| mae:', mae(y,y0).round(2))"
   ]
  },
  {
   "cell_type": "code",
   "execution_count": 432,
   "metadata": {},
   "outputs": [
    {
     "name": "stdout",
     "output_type": "stream",
     "text": [
      "rmse: 2.03 | mae: 1.55\n"
     ]
    }
   ],
   "source": [
    "y = np.append(np.random.binomial(10,.5, 100-10),[10]*10)\n",
    "y0 = np.array([np.mean(y)] * len(y))\n",
    "print('rmse:',np.sqrt(mse(y,y0)).round(2),'| mae:', mae(y,y0).round(2))"
   ]
  },
  {
   "cell_type": "code",
   "execution_count": 436,
   "metadata": {},
   "outputs": [
    {
     "data": {
      "text/plain": [
       "count     1338.000000\n",
       "mean     13270.422265\n",
       "std      12110.011237\n",
       "min       1121.873900\n",
       "25%       4740.287150\n",
       "50%       9382.033000\n",
       "75%      16639.912515\n",
       "max      63770.428010\n",
       "Name: charges, dtype: float64"
      ]
     },
     "execution_count": 436,
     "metadata": {},
     "output_type": "execute_result"
    }
   ],
   "source": [
    "df.charges.describe()"
   ]
  }
 ],
 "metadata": {
  "kernelspec": {
   "display_name": "env-tff",
   "language": "python",
   "name": "python3"
  },
  "language_info": {
   "codemirror_mode": {
    "name": "ipython",
    "version": 3
   },
   "file_extension": ".py",
   "mimetype": "text/x-python",
   "name": "python",
   "nbconvert_exporter": "python",
   "pygments_lexer": "ipython3",
   "version": "3.9.16"
  },
  "orig_nbformat": 4
 },
 "nbformat": 4,
 "nbformat_minor": 2
}
