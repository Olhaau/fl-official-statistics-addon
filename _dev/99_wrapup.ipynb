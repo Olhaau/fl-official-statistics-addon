{
  "cells": [
    {
      "cell_type": "markdown",
      "metadata": {
        "id": "view-in-github",
        "colab_type": "text"
      },
      "source": [
        "<a href=\"https://colab.research.google.com/github/Olhaau/fl-official-statistics-addon/blob/main/_dev/99_wrapup.ipynb\" target=\"_parent\"><img src=\"https://colab.research.google.com/assets/colab-badge.svg\" alt=\"Open In Colab\"/></a>"
      ]
    },
    {
      "cell_type": "markdown",
      "metadata": {
        "id": "N_O8Atlvv_cW"
      },
      "source": [
        "## Summary\n",
        "---"
      ]
    },
    {
      "cell_type": "markdown",
      "metadata": {
        "id": "GoR_Mplfv_cZ"
      },
      "source": [
        "### Setup\n",
        "- **OS**: Linux is superior in convenience and stability. \n",
        "    - A WSL (Windows-Subsystem Linux) is a convienient solution for Windows.\n",
        "- **Virtual environment**: both, conda or venv, work fine. Conda is used here.\n",
        "- **Versions**\n",
        "    - Python 3.9.* is recommended here: https://www.tensorflow.org/install/pip"
      ]
    },
    {
      "cell_type": "markdown",
      "metadata": {
        "id": "i-lXMn8cv_cd"
      },
      "source": [
        "## Prerequisites\n",
        "---"
      ]
    },
    {
      "cell_type": "markdown",
      "metadata": {
        "id": "trkGBitHv_ce"
      },
      "source": [
        "### Development environment\n",
        "---\n",
        "\n",
        "We use Tensorflow Federated (TFF). For further development e.g. is considerded "
      ]
    },
    {
      "cell_type": "markdown",
      "metadata": {
        "id": "IWp1F-GAv_cg"
      },
      "source": [
        "#### OS - Linux is recommended"
      ]
    },
    {
      "cell_type": "markdown",
      "metadata": {
        "id": "v2IuC7p0v_ch"
      },
      "source": [
        "##### Windows restrictions\n",
        "\n",
        "Tensorflow (TF) and Tensorflow Federated (TFF) have only restricted Windows support, e.g.\n",
        "\n",
        "- **TFF - several problems**, e.g.\n",
        "  - installing TFF does run infinitely because of not resolvable dependencies, see https://stackoverflow.com/questions/69949143/tensorflow-federated-on-windows\n",
        "  - needed JAX has no Windows support, see https://github.com/google/jax/issues/438. JAX Team:\n",
        "    \n",
        "    >*Windows support is still not on the agenda. We're maxed out on other things, and moreover no one on the JAX team is a Windows user, which only makes development harder.*\n",
        "  - XLA (JAX dependency) was not fully compilable, but should now be available since TF 2.2.0.\n",
        "- **TF - no GPU support**, s. https://www.tensorflow.org/install/pip#windows-native\n",
        "  \n",
        "  > *Starting with TensorFlow 2.11, you will need to install TensorFlow in WSL2, or install tensorflow or tensorflow-cpu and, optionally, try the TensorFlow-DirectML-Plugin.*\n",
        "\n",
        "##### Windows-Subsystem for Linux\n",
        "\n",
        "**A Windows-Subsystem for Linux (WSL) can be a convenient solution**, see\n",
        "\n",
        "- Install Tensorflow using a WSL: https://www.tensorflow.org/install/pip#windows-wsl2\n",
        "- tutorial for setting up GPU support: https://www.youtube.com/watch?v=0S81koZpwPA&t=518s&pp=ygUOd3NsIHRlbnNvcmZsb3c%3D\n",
        "- General development environment in VSCode using WSL: https://code.visualstudio.com/docs/remote/wsl\n",
        "\n",
        "##### MacOS restrictions\n",
        "\n",
        "TFF is not fully available for MacOS, e.g. ...\n",
        "- only outdated versions are available, see https://github.com/tensorflow/federated/issues/3881\n",
        "- installation is complicated and partly sketchy, see\n",
        "  - https://stackoverflow.com/questions/66705900/can-tensorflow-federated-be-installed-on-apple-silicon-m1\n",
        "  - https://stackoverflow.com/questions/71839866/can-anyone-give-me-a-comprehensive-guide-to-installing-tensorflow-federated-on-m1\n",
        "  - https://discuss.tensorflow.org/t/update-tensorflow-federated-to-match-tensorflow-macos-2-7-0-and-tensorflow-metal-0-3-0/7193/10\n",
        "  - conda-forge could help: https://stackoverflow.com/questions/68327863/importing-jax-fails-on-mac-with-m1-chip"
      ]
    },
    {
      "cell_type": "markdown",
      "metadata": {
        "id": "OpcXh5Cvv_ck"
      },
      "source": [
        "#### Virtual environment\n"
      ]
    },
    {
      "cell_type": "markdown",
      "metadata": {
        "id": "O-giDHSFv_cl"
      },
      "source": [
        "Recommended virtual environments are:\n",
        "\n",
        "1. environment by ``conda`` using Python 3.9.* for TensorFlow, see [Install TensorFlow with pip](https://www.tensorflow.org/install/pip) (works fine for Tensorflow Federated)\n",
        "2. environment by ``venv``, see [Install TensorFlow Federated](https://www.tensorflow.org/federated/install)"
      ]
    },
    {
      "cell_type": "markdown",
      "metadata": {
        "id": "a2I6mwLsv_cn"
      },
      "source": [
        "#### Versions\n",
        "\n",
        "- Python 3.9.* is recommended here: https://www.tensorflow.org/install/pip\n",
        "    - rem.: [asdf-vm](https://asdf-vm.com/) is convenient to manage python versions. \n",
        "- to reproduce the used environment use (recommended):\n",
        "    - ``!pip install -r ../requirements.txt``\n",
        "- to install a new similiar environment use:\n",
        "    - ``pip install --upgrade tensorflow-federated``  \n",
        "    - simlilarly install further helpful packages\n",
        "\n",
        "For the full list of install packages see [requirements.txt](../requirements.txt). E.g. the following tensorflow[...] versions are used."
      ]
    },
    {
      "cell_type": "code",
      "source": [
        "colab = True\n",
        "if colab:\n",
        "    import os\n",
        "    \n",
        "    # rm repo from gdrive\n",
        "    if os.path.exists(\"fl-official-statistics-addon\"):\n",
        "      %rm -r fl-official-statistics-addon\n",
        "\n",
        "    # clone\n",
        "    !git clone https://github.com/Olhaau/fl-official-statistics-addon\n",
        "    %cd fl-official-statistics-addon\n",
        "\n",
        "    # pull (the currenct version of the repo)\n",
        "    !git pull"
      ],
      "metadata": {
        "id": "fjGQD5n3AuxT",
        "outputId": "fb26ca3a-1bde-4e6d-f312-b96cddb82175",
        "colab": {
          "base_uri": "https://localhost:8080/"
        }
      },
      "execution_count": 1,
      "outputs": [
        {
          "output_type": "stream",
          "name": "stdout",
          "text": [
            "Cloning into 'fl-official-statistics-addon'...\n",
            "remote: Enumerating objects: 988, done.\u001b[K\n",
            "remote: Counting objects: 100% (170/170), done.\u001b[K\n",
            "remote: Compressing objects: 100% (154/154), done.\u001b[K\n",
            "remote: Total 988 (delta 107), reused 32 (delta 14), pack-reused 818\u001b[K\n",
            "Receiving objects: 100% (988/988), 39.40 MiB | 20.17 MiB/s, done.\n",
            "Resolving deltas: 100% (467/467), done.\n",
            "/content/fl-official-statistics-addon\n",
            "Already up to date.\n"
          ]
        }
      ]
    },
    {
      "cell_type": "code",
      "source": [
        "!python --version"
      ],
      "metadata": {
        "id": "ETQeoGjWA4Z2",
        "outputId": "dfce0235-e699-41b0-e547-6b4feee6f427",
        "colab": {
          "base_uri": "https://localhost:8080/"
        }
      },
      "execution_count": 3,
      "outputs": [
        {
          "output_type": "stream",
          "name": "stdout",
          "text": [
            "Python 3.10.11\n"
          ]
        }
      ]
    },
    {
      "cell_type": "code",
      "source": [
        "if colab: \n",
        "  !pip install -q tensorflow-federated==0.56.0"
      ],
      "metadata": {
        "id": "RCoNshMFA-OB"
      },
      "execution_count": 8,
      "outputs": []
    },
    {
      "cell_type": "code",
      "execution_count": 9,
      "metadata": {
        "id": "-6_Mxsrbv_cp",
        "outputId": "dabbbc09-3c03-4aa0-fb00-a8f3ae05ad21",
        "colab": {
          "base_uri": "https://localhost:8080/"
        }
      },
      "outputs": [
        {
          "output_type": "stream",
          "name": "stdout",
          "text": [
            "tensorflow                    2.12.0\n",
            "tensorflow-compression        2.12.0\n",
            "tensorflow-datasets           4.8.3\n",
            "tensorflow-estimator          2.12.0\n",
            "tensorflow-federated          0.56.0\n",
            "tensorflow-gcs-config         2.12.0\n",
            "tensorflow-hub                0.13.0\n",
            "tensorflow-io-gcs-filesystem  0.32.0\n",
            "tensorflow-metadata           1.13.1\n",
            "tensorflow-model-optimization 0.7.3\n",
            "tensorflow-privacy            0.8.8\n",
            "tensorflow-probability        0.15.0\n"
          ]
        }
      ],
      "source": [
        "!pip list | grep tensorflow\n",
        "# for more details use !pip show tensorflow"
      ]
    },
    {
      "cell_type": "code",
      "execution_count": null,
      "metadata": {
        "id": "WtIqYX44v_cv"
      },
      "outputs": [],
      "source": [
        "# Save the package versioning to requirements.txt if needed (ovewrites the previous)\n",
        "#!pip freeze > ../requirements.txt\n",
        "#!conda list --export > ../requirements.txt"
      ]
    },
    {
      "cell_type": "markdown",
      "metadata": {
        "id": "5rd5d1erv_cx"
      },
      "source": [
        "### Imports\n",
        "---"
      ]
    },
    {
      "cell_type": "code",
      "execution_count": 10,
      "metadata": {
        "id": "rPyuI4qxv_cy"
      },
      "outputs": [],
      "source": [
        "import pandas as pd\n",
        "import numpy as np\n",
        "from sklearn.model_selection import StratifiedKFold, RepeatedStratifiedKFold\n",
        "from sklearn.metrics import r2_score\n",
        "import matplotlib.pyplot as plt\n",
        "from itertools import product\n",
        "from math import floor\n",
        "import time\n",
        "\n",
        "import tensorflow as tf\n",
        "import tensorflow_federated as tff\n",
        "from keras.models import Sequential\n",
        "from keras.layers import Dense, InputLayer\n",
        "\n",
        "# -> check tff\n",
        "#print(tff.federated_computation(lambda: 'Hello World')()) "
      ]
    },
    {
      "cell_type": "markdown",
      "metadata": {
        "id": "IOmoCQUUv_c0"
      },
      "source": [
        "### Ingest data\n",
        "---"
      ]
    },
    {
      "cell_type": "code",
      "execution_count": 11,
      "metadata": {
        "id": "Dxy4tEtev_c1",
        "outputId": "c0639558-a61c-4be1-c144-53c02b7e167e",
        "colab": {
          "base_uri": "https://localhost:8080/",
          "height": 206
        }
      },
      "outputs": [
        {
          "output_type": "execute_result",
          "data": {
            "text/plain": [
              "        age  sex       bmi  children  smoker     region      charges  region0  \\\n",
              "0  0.021739  0.0  0.321227       0.0     1.0  southwest  16884.92400      0.0   \n",
              "1  0.000000  1.0  0.479150       0.2     0.0  southeast   1725.55230      0.0   \n",
              "2  0.217391  1.0  0.458434       0.6     0.0  southeast   4449.46200      0.0   \n",
              "3  0.326087  1.0  0.181464       0.0     0.0  northwest  21984.47061      0.0   \n",
              "4  0.304348  1.0  0.347592       0.0     0.0  northwest   3866.85520      0.0   \n",
              "\n",
              "   region1  region2  region3  \n",
              "0      0.0      0.0      1.0  \n",
              "1      0.0      1.0      0.0  \n",
              "2      0.0      1.0      0.0  \n",
              "3      1.0      0.0      0.0  \n",
              "4      1.0      0.0      0.0  "
            ],
            "text/html": [
              "\n",
              "  <div id=\"df-31f505da-ec62-4ae0-9a6c-fe87d307915c\">\n",
              "    <div class=\"colab-df-container\">\n",
              "      <div>\n",
              "<style scoped>\n",
              "    .dataframe tbody tr th:only-of-type {\n",
              "        vertical-align: middle;\n",
              "    }\n",
              "\n",
              "    .dataframe tbody tr th {\n",
              "        vertical-align: top;\n",
              "    }\n",
              "\n",
              "    .dataframe thead th {\n",
              "        text-align: right;\n",
              "    }\n",
              "</style>\n",
              "<table border=\"1\" class=\"dataframe\">\n",
              "  <thead>\n",
              "    <tr style=\"text-align: right;\">\n",
              "      <th></th>\n",
              "      <th>age</th>\n",
              "      <th>sex</th>\n",
              "      <th>bmi</th>\n",
              "      <th>children</th>\n",
              "      <th>smoker</th>\n",
              "      <th>region</th>\n",
              "      <th>charges</th>\n",
              "      <th>region0</th>\n",
              "      <th>region1</th>\n",
              "      <th>region2</th>\n",
              "      <th>region3</th>\n",
              "    </tr>\n",
              "  </thead>\n",
              "  <tbody>\n",
              "    <tr>\n",
              "      <th>0</th>\n",
              "      <td>0.021739</td>\n",
              "      <td>0.0</td>\n",
              "      <td>0.321227</td>\n",
              "      <td>0.0</td>\n",
              "      <td>1.0</td>\n",
              "      <td>southwest</td>\n",
              "      <td>16884.92400</td>\n",
              "      <td>0.0</td>\n",
              "      <td>0.0</td>\n",
              "      <td>0.0</td>\n",
              "      <td>1.0</td>\n",
              "    </tr>\n",
              "    <tr>\n",
              "      <th>1</th>\n",
              "      <td>0.000000</td>\n",
              "      <td>1.0</td>\n",
              "      <td>0.479150</td>\n",
              "      <td>0.2</td>\n",
              "      <td>0.0</td>\n",
              "      <td>southeast</td>\n",
              "      <td>1725.55230</td>\n",
              "      <td>0.0</td>\n",
              "      <td>0.0</td>\n",
              "      <td>1.0</td>\n",
              "      <td>0.0</td>\n",
              "    </tr>\n",
              "    <tr>\n",
              "      <th>2</th>\n",
              "      <td>0.217391</td>\n",
              "      <td>1.0</td>\n",
              "      <td>0.458434</td>\n",
              "      <td>0.6</td>\n",
              "      <td>0.0</td>\n",
              "      <td>southeast</td>\n",
              "      <td>4449.46200</td>\n",
              "      <td>0.0</td>\n",
              "      <td>0.0</td>\n",
              "      <td>1.0</td>\n",
              "      <td>0.0</td>\n",
              "    </tr>\n",
              "    <tr>\n",
              "      <th>3</th>\n",
              "      <td>0.326087</td>\n",
              "      <td>1.0</td>\n",
              "      <td>0.181464</td>\n",
              "      <td>0.0</td>\n",
              "      <td>0.0</td>\n",
              "      <td>northwest</td>\n",
              "      <td>21984.47061</td>\n",
              "      <td>0.0</td>\n",
              "      <td>1.0</td>\n",
              "      <td>0.0</td>\n",
              "      <td>0.0</td>\n",
              "    </tr>\n",
              "    <tr>\n",
              "      <th>4</th>\n",
              "      <td>0.304348</td>\n",
              "      <td>1.0</td>\n",
              "      <td>0.347592</td>\n",
              "      <td>0.0</td>\n",
              "      <td>0.0</td>\n",
              "      <td>northwest</td>\n",
              "      <td>3866.85520</td>\n",
              "      <td>0.0</td>\n",
              "      <td>1.0</td>\n",
              "      <td>0.0</td>\n",
              "      <td>0.0</td>\n",
              "    </tr>\n",
              "  </tbody>\n",
              "</table>\n",
              "</div>\n",
              "      <button class=\"colab-df-convert\" onclick=\"convertToInteractive('df-31f505da-ec62-4ae0-9a6c-fe87d307915c')\"\n",
              "              title=\"Convert this dataframe to an interactive table.\"\n",
              "              style=\"display:none;\">\n",
              "        \n",
              "  <svg xmlns=\"http://www.w3.org/2000/svg\" height=\"24px\"viewBox=\"0 0 24 24\"\n",
              "       width=\"24px\">\n",
              "    <path d=\"M0 0h24v24H0V0z\" fill=\"none\"/>\n",
              "    <path d=\"M18.56 5.44l.94 2.06.94-2.06 2.06-.94-2.06-.94-.94-2.06-.94 2.06-2.06.94zm-11 1L8.5 8.5l.94-2.06 2.06-.94-2.06-.94L8.5 2.5l-.94 2.06-2.06.94zm10 10l.94 2.06.94-2.06 2.06-.94-2.06-.94-.94-2.06-.94 2.06-2.06.94z\"/><path d=\"M17.41 7.96l-1.37-1.37c-.4-.4-.92-.59-1.43-.59-.52 0-1.04.2-1.43.59L10.3 9.45l-7.72 7.72c-.78.78-.78 2.05 0 2.83L4 21.41c.39.39.9.59 1.41.59.51 0 1.02-.2 1.41-.59l7.78-7.78 2.81-2.81c.8-.78.8-2.07 0-2.86zM5.41 20L4 18.59l7.72-7.72 1.47 1.35L5.41 20z\"/>\n",
              "  </svg>\n",
              "      </button>\n",
              "      \n",
              "  <style>\n",
              "    .colab-df-container {\n",
              "      display:flex;\n",
              "      flex-wrap:wrap;\n",
              "      gap: 12px;\n",
              "    }\n",
              "\n",
              "    .colab-df-convert {\n",
              "      background-color: #E8F0FE;\n",
              "      border: none;\n",
              "      border-radius: 50%;\n",
              "      cursor: pointer;\n",
              "      display: none;\n",
              "      fill: #1967D2;\n",
              "      height: 32px;\n",
              "      padding: 0 0 0 0;\n",
              "      width: 32px;\n",
              "    }\n",
              "\n",
              "    .colab-df-convert:hover {\n",
              "      background-color: #E2EBFA;\n",
              "      box-shadow: 0px 1px 2px rgba(60, 64, 67, 0.3), 0px 1px 3px 1px rgba(60, 64, 67, 0.15);\n",
              "      fill: #174EA6;\n",
              "    }\n",
              "\n",
              "    [theme=dark] .colab-df-convert {\n",
              "      background-color: #3B4455;\n",
              "      fill: #D2E3FC;\n",
              "    }\n",
              "\n",
              "    [theme=dark] .colab-df-convert:hover {\n",
              "      background-color: #434B5C;\n",
              "      box-shadow: 0px 1px 3px 1px rgba(0, 0, 0, 0.15);\n",
              "      filter: drop-shadow(0px 1px 2px rgba(0, 0, 0, 0.3));\n",
              "      fill: #FFFFFF;\n",
              "    }\n",
              "  </style>\n",
              "\n",
              "      <script>\n",
              "        const buttonEl =\n",
              "          document.querySelector('#df-31f505da-ec62-4ae0-9a6c-fe87d307915c button.colab-df-convert');\n",
              "        buttonEl.style.display =\n",
              "          google.colab.kernel.accessAllowed ? 'block' : 'none';\n",
              "\n",
              "        async function convertToInteractive(key) {\n",
              "          const element = document.querySelector('#df-31f505da-ec62-4ae0-9a6c-fe87d307915c');\n",
              "          const dataTable =\n",
              "            await google.colab.kernel.invokeFunction('convertToInteractive',\n",
              "                                                     [key], {});\n",
              "          if (!dataTable) return;\n",
              "\n",
              "          const docLinkHtml = 'Like what you see? Visit the ' +\n",
              "            '<a target=\"_blank\" href=https://colab.research.google.com/notebooks/data_table.ipynb>data table notebook</a>'\n",
              "            + ' to learn more about interactive tables.';\n",
              "          element.innerHTML = '';\n",
              "          dataTable['output_type'] = 'display_data';\n",
              "          await google.colab.output.renderOutput(dataTable, element);\n",
              "          const docLink = document.createElement('div');\n",
              "          docLink.innerHTML = docLinkHtml;\n",
              "          element.appendChild(docLink);\n",
              "        }\n",
              "      </script>\n",
              "    </div>\n",
              "  </div>\n",
              "  "
            ]
          },
          "metadata": {},
          "execution_count": 11
        }
      ],
      "source": [
        "df = pd.read_csv(\"https://raw.githubusercontent.com/Olhaau/fl-official-statistics-addon/main/output/data/insurance-clean.csv\", index_col = 0)\n",
        "df.head()"
      ]
    },
    {
      "cell_type": "markdown",
      "metadata": {
        "id": "VQJXLBjFv_c2"
      },
      "source": [
        "##### Evaluation splits"
      ]
    },
    {
      "cell_type": "code",
      "execution_count": 12,
      "metadata": {
        "id": "ke_eyfsNv_c4",
        "outputId": "d212abec-b7c4-448c-8343-a58fec5a96ea",
        "colab": {
          "base_uri": "https://localhost:8080/"
        }
      },
      "outputs": [
        {
          "output_type": "execute_result",
          "data": {
            "text/plain": [
              "Index(['age', 'sex', 'bmi', 'children', 'smoker', 'region', 'charges',\n",
              "       'region0', 'region1', 'region2', 'region3', 'rep0-fold0', 'rep0-fold1',\n",
              "       'rep0-fold2', 'rep0-fold3', 'rep0-fold4', 'rep1-fold0', 'rep1-fold1',\n",
              "       'rep1-fold2', 'rep1-fold3', 'rep1-fold4', 'rep2-fold0', 'rep2-fold1',\n",
              "       'rep2-fold2', 'rep2-fold3', 'rep2-fold4', 'rep3-fold0', 'rep3-fold1',\n",
              "       'rep3-fold2', 'rep3-fold3', 'rep3-fold4', 'rep4-fold0', 'rep4-fold1',\n",
              "       'rep4-fold2', 'rep4-fold3', 'rep4-fold4'],\n",
              "      dtype='object')"
            ]
          },
          "metadata": {},
          "execution_count": 12
        }
      ],
      "source": [
        "nfolds = 5\n",
        "nreps = 5\n",
        "\n",
        "cv = RepeatedStratifiedKFold(n_splits = nfolds, n_repeats = nreps, random_state = 42)\n",
        "\n",
        "ind = 0\n",
        "for train, test in cv.split(df, df.region):\n",
        "  \n",
        "  label = 'rep' + str(floor(ind / nfolds)) + '-fold' + str(ind % nfolds)\n",
        "  df.loc[train, label] = 'train'\n",
        "  df.loc[test,  label] = 'test'\n",
        "  ind += 1\n",
        "\n",
        "df.columns"
      ]
    },
    {
      "cell_type": "markdown",
      "metadata": {
        "id": "8rkxFWRev_c6"
      },
      "source": [
        "##### Select feature and target"
      ]
    },
    {
      "cell_type": "code",
      "execution_count": 13,
      "metadata": {
        "id": "nqv8MLadv_c7"
      },
      "outputs": [],
      "source": [
        "features = ['age', 'sex', 'bmi', 'children', 'smoker'\n",
        "            , 'region0', 'region1', 'region2', 'region3']\n",
        "target = 'charges'"
      ]
    },
    {
      "cell_type": "markdown",
      "metadata": {
        "id": "-si9xakWv_c9"
      },
      "source": [
        "#### Train Test Selector"
      ]
    },
    {
      "cell_type": "code",
      "execution_count": 14,
      "metadata": {
        "id": "YWlMRIICv_c9"
      },
      "outputs": [],
      "source": [
        "def select_split(\n",
        "      df, \n",
        "      target = target, \n",
        "      features = features, \n",
        "      type = 'train', \n",
        "      rep = 0, \n",
        "      fold = 0\n",
        "      ):\n",
        "   \"\"\"selects the train and test set from a specific column.\n",
        "\n",
        "  Parameters\n",
        "  ------------\n",
        "  df: dataFrame\n",
        "  target: str\n",
        "  features: list of str\n",
        "  type: str\n",
        "      'train' or 'test'.\n",
        "  rep, fold: int\n",
        "      Considered is a repeated cross validation with ``rep`` repetions and ``fold`` folds.\n",
        "  \"\"\"\n",
        "   \n",
        "   labels = 'rep' + str(rep) + '-fold' + str(fold)\n",
        "   \n",
        "   X = df.loc[df[labels] == type, features]\n",
        "   y = df.loc[df[labels] == type, target]\n",
        "   \n",
        "   return X, y"
      ]
    },
    {
      "cell_type": "code",
      "execution_count": 15,
      "metadata": {
        "id": "BHhFK3Krv_c_",
        "outputId": "68af6483-dd4d-4e26-a9aa-f244c417b7d1",
        "colab": {
          "base_uri": "https://localhost:8080/"
        }
      },
      "outputs": [
        {
          "output_type": "stream",
          "name": "stdout",
          "text": [
            "====== Train ======\n",
            "        age  sex       bmi  children  smoker  region0  region1  region2  \\\n",
            "1  0.000000  1.0  0.479150       0.2     0.0      0.0      0.0      1.0   \n",
            "2  0.217391  1.0  0.458434       0.6     0.0      0.0      0.0      1.0   \n",
            "3  0.326087  1.0  0.181464       0.0     0.0      0.0      1.0      0.0   \n",
            "5  0.282609  0.0  0.263115       0.0     0.0      0.0      0.0      1.0   \n",
            "6  0.608696  0.0  0.470272       0.2     0.0      0.0      0.0      1.0   \n",
            "\n",
            "   region3 rep1-fold0  \n",
            "1      0.0      train  \n",
            "2      0.0      train  \n",
            "3      0.0      train  \n",
            "5      0.0      train  \n",
            "6      0.0      train  \n",
            "\n",
            "====== Test ======\n",
            "         age  sex       bmi  children  smoker  region0  region1  region2  \\\n",
            "8   0.413043  1.0  0.373150       0.4     0.0      1.0      0.0      0.0   \n",
            "18  0.826087  1.0  0.654829       0.0     0.0      0.0      0.0      0.0   \n",
            "25  0.891304  0.0  0.316384       0.6     0.0      0.0      0.0      1.0   \n",
            "27  0.804348  0.0  0.452381       0.4     0.0      0.0      1.0      0.0   \n",
            "41  0.282609  0.0  0.556094       0.4     0.0      0.0      0.0      1.0   \n",
            "\n",
            "    region3 rep0-fold0  \n",
            "8       0.0       test  \n",
            "18      1.0       test  \n",
            "25      0.0       test  \n",
            "27      0.0       test  \n",
            "41      0.0       test  \n"
          ]
        }
      ],
      "source": [
        "# test\n",
        "X_train, y_train = select_split(df,\n",
        "   features = features + ['rep' + str(1) + '-fold' + str(0)],\n",
        "   type = 'train', rep = 1, fold = 0\n",
        "   )\n",
        "X_test, y_test = select_split(df,\n",
        "   features = features + ['rep' + str(0) + '-fold' + str(0)],\n",
        "   type = 'test', rep = 0, fold = 0\n",
        "   )\n",
        "print(\"====== Train ======\")\n",
        "print(X_train.head())\n",
        "print(\"\\n====== Test ======\")\n",
        "print(X_test.head())\n",
        "\n",
        "del X_train, y_train, X_test, y_test"
      ]
    },
    {
      "cell_type": "markdown",
      "metadata": {
        "id": "Vo6Ch6Yrv_dA"
      },
      "source": [
        "### Model wrapper\n",
        "---"
      ]
    },
    {
      "cell_type": "code",
      "execution_count": 16,
      "metadata": {
        "id": "3-hAdbmnv_dC",
        "outputId": "265c65fd-e3f8-42a8-b6b2-1592ee918157",
        "colab": {
          "base_uri": "https://localhost:8080/"
        }
      },
      "outputs": [
        {
          "output_type": "stream",
          "name": "stdout",
          "text": [
            "Model: \"sequential\"\n",
            "_________________________________________________________________\n",
            " Layer (type)                Output Shape              Param #   \n",
            "=================================================================\n",
            " dense (Dense)               (None, 40)                400       \n",
            "                                                                 \n",
            " dense_1 (Dense)             (None, 40)                1640      \n",
            "                                                                 \n",
            " dense_2 (Dense)             (None, 20)                820       \n",
            "                                                                 \n",
            " dense_3 (Dense)             (None, 1)                 21        \n",
            "                                                                 \n",
            "=================================================================\n",
            "Total params: 2,881\n",
            "Trainable params: 2,881\n",
            "Non-trainable params: 0\n",
            "_________________________________________________________________\n"
          ]
        }
      ],
      "source": [
        "def build_model(\n",
        "    nfeatures = 9,\n",
        "    units = [40, 40, 20], \n",
        "    activations = ['relu'] * 3, \n",
        "    loss = 'mean_squared_error',\n",
        "    optimizer = tf.optimizers.legacy.Adam(learning_rate = .05),\n",
        "    metrics = [\"mae\", 'mean_squared_error', r2_score], \n",
        "    run_eagerly = True\n",
        "    ):\n",
        "  \n",
        "  \"\"\"Construct a fully connected neural network and compile it.\n",
        "  \n",
        "  Parameters\n",
        "  ------------\n",
        "  nfeatures: int, optional\n",
        "    Number of input features. Default is 9.\n",
        "  units: list of int, optional\n",
        "    List of number of units of the hidden dense layers. The length of ``units`` defines the number of hidden layers. Default are 3 layers with 40, 40 an 20 units, respectively.\n",
        "  activations: list of str, optional\n",
        "    List of activation functions used in the hidden layers.\n",
        "  loss: str, optional\n",
        "    Used loss function for compiling.\n",
        "  optimizer: keras.optimizers, optional\n",
        "    Used optimizer for compiling.\n",
        "  metrics: list of str or sklearn.metrics\n",
        "    List of metrics for compiling.\n",
        "  run_eagerly: bool\n",
        "    Parameter for compiling\n",
        "\n",
        "  Return\n",
        "  ------------\n",
        "    model: keras.engine.sequential.Sequential\n",
        "      Keras sequential fully connected neural network. Already compiled.\n",
        "  \"\"\"\n",
        "  \n",
        "  # construct model\n",
        "  model = Sequential()\n",
        "  model.add(InputLayer(input_shape = [nfeatures]))\n",
        "  for ind in range(len(units)):\n",
        "    model.add(Dense(\n",
        "      units = units[ind], \n",
        "      activation = activations[ind]\n",
        "      ))\n",
        "  model.add(Dense(1))\n",
        "  \n",
        "\n",
        "  # compile model\n",
        "  model.compile(\n",
        "    loss = loss,\n",
        "    optimizer = optimizer,\n",
        "    metrics = metrics,\n",
        "    run_eagerly = run_eagerly\n",
        "  )\n",
        "\n",
        "  return model\n",
        "\n",
        "build_model().summary()"
      ]
    },
    {
      "cell_type": "code",
      "execution_count": 17,
      "metadata": {
        "id": "WvrzQlq5v_dE"
      },
      "outputs": [],
      "source": [
        "def train_model(model, X_train, y_train,\n",
        "    epochs           = 100,\n",
        "    batch_size       = 128,\n",
        "    shuffle          = True,\n",
        "    validation_split = 0.2,\n",
        "    verbose          = 0,\n",
        "    output_msr       = 'loss',\n",
        "    seed             = 42,\n",
        "    **kwargs\n",
        "    ):\n",
        "  \n",
        "  \"\"\"Compile and train a Keras neural network.\n",
        "  \n",
        "  For additional arguments see https://www.tensorflow.org/api_docs/python/tf/keras/Model#fit.\n",
        "\n",
        "  Parameters\n",
        "  ------------\n",
        "  model: keras.engine.sequential.Sequential\n",
        "  X_train: dataFrame\n",
        "  y_train: dataFrame\n",
        "  shuffle: bool\n",
        "  epochs: int\n",
        "  validation_split: float\n",
        "  verbose: int\n",
        "    verbose of model.fit(...)\n",
        "  output_msr: str\n",
        "    measure for custom output.\n",
        "  batch_size: int\n",
        "    batch_size of model.fit(...)   \n",
        "\n",
        "  Return\n",
        "  ------------\n",
        "    hist: keras.callbacks.History\n",
        "      History of model.fit(...)\n",
        "  \"\"\"\n",
        "\n",
        "  # fit with custom verbose\n",
        "  starttime = time.time()\n",
        "  \n",
        "  if seed != None: tf.keras.utils.set_random_seed(seed)\n",
        "\n",
        "  hist = model.fit(\n",
        "    X_train, \n",
        "    y_train,\n",
        "    batch_size = batch_size, \n",
        "    shuffle    = shuffle,\n",
        "    validation_split = validation_split,\n",
        "    epochs     = epochs,\n",
        "    verbose    = verbose, \n",
        "    **kwargs\n",
        "  )\n",
        "  print(\n",
        "      \"R^2  = %.4f, \" % hist.history[output_msr][-1],\n",
        "      \"time = %.1f sec\" % ((time.time() - starttime)))\n",
        "  \n",
        "  return hist"
      ]
    },
    {
      "cell_type": "code",
      "execution_count": 18,
      "metadata": {
        "id": "lRnAW4d-v_dG"
      },
      "outputs": [],
      "source": [
        "def test_model(model, X_test, y_test, \n",
        "               verbose = False):\n",
        "  \"\"\"\n",
        "  Parameters\n",
        "  ------------\n",
        "  model: keras.engine.sequential.Sequential\n",
        "    Fitted model.\n",
        "  X_test, y_test: dataFrame\n",
        "    Test data.\n",
        "  verbose: bool\n",
        "    Output control.\n",
        "\n",
        "  Output\n",
        "  ------------\n",
        "  perf: list of float\n",
        "    The test performances.\n",
        "  \"\"\"\n",
        "\n",
        "  start = time.time() \n",
        "  perf  = model.evaluate(X_test, y_test, verbose = 0)[1:]\n",
        "\n",
        "  if verbose: print('time - test: %.2f' % (time.time() - start / 60))\n",
        "  \n",
        "  return perf"
      ]
    },
    {
      "cell_type": "code",
      "execution_count": 20,
      "metadata": {
        "id": "kOF4FVgFv_dI"
      },
      "outputs": [],
      "source": [
        "def plot_perf(hist, msr = 'loss'):\n",
        "  \"\"\"Plot the training history and save the figure.\n",
        "  :param hist: The history object including the metrics to plot\n",
        "  :type hist: keras.callbacks.History\n",
        "  :param msr: The metrics to plot\n",
        "  :type msr: str, optional\n",
        "  \"\"\"\n",
        "  plt.plot(hist.history[msr])\n",
        "  plt.plot(hist.history['val_' + msr])\n",
        "  plt.ylabel(msr)\n",
        "  plt.xlabel('epoch')\n",
        "  plt.legend(['train', 'eval'], loc='upper left')"
      ]
    },
    {
      "cell_type": "markdown",
      "metadata": {
        "id": "rxOw_zRrv_dJ"
      },
      "source": [
        "## Experiments\n",
        "---"
      ]
    },
    {
      "cell_type": "markdown",
      "metadata": {
        "id": "fEr36O3lv_dK"
      },
      "source": [
        "### Centralized Model\n",
        "---"
      ]
    },
    {
      "cell_type": "markdown",
      "metadata": {
        "id": "VjNc4jMCv_dL"
      },
      "source": [
        "#### Training"
      ]
    },
    {
      "cell_type": "code",
      "execution_count": 23,
      "metadata": {
        "id": "y4ahaA47v_dL",
        "outputId": "2f7ae8b4-e00a-46bc-e614-f5679d0896da",
        "colab": {
          "base_uri": "https://localhost:8080/",
          "height": 451
        }
      },
      "outputs": [
        {
          "output_type": "stream",
          "name": "stdout",
          "text": [
            "======= rep 0 - fold 0  =======\n"
          ]
        },
        {
          "output_type": "error",
          "ename": "AssertionError",
          "evalue": "ignored",
          "traceback": [
            "\u001b[0;31m---------------------------------------------------------------------------\u001b[0m",
            "\u001b[0;31mAssertionError\u001b[0m                            Traceback (most recent call last)",
            "\u001b[0;32m<timed exec>\u001b[0m in \u001b[0;36m<module>\u001b[0;34m\u001b[0m\n",
            "\u001b[0;32m<ipython-input-17-d278e8906693>\u001b[0m in \u001b[0;36mtrain_model\u001b[0;34m(model, X_train, y_train, epochs, batch_size, shuffle, validation_split, verbose, output_msr, seed, **kwargs)\u001b[0m\n\u001b[1;32m     40\u001b[0m   \u001b[0;32mif\u001b[0m \u001b[0mseed\u001b[0m \u001b[0;34m!=\u001b[0m \u001b[0;32mNone\u001b[0m\u001b[0;34m:\u001b[0m \u001b[0mtf\u001b[0m\u001b[0;34m.\u001b[0m\u001b[0mkeras\u001b[0m\u001b[0;34m.\u001b[0m\u001b[0mutils\u001b[0m\u001b[0;34m.\u001b[0m\u001b[0mset_random_seed\u001b[0m\u001b[0;34m(\u001b[0m\u001b[0mseed\u001b[0m\u001b[0;34m)\u001b[0m\u001b[0;34m\u001b[0m\u001b[0;34m\u001b[0m\u001b[0m\n\u001b[1;32m     41\u001b[0m \u001b[0;34m\u001b[0m\u001b[0m\n\u001b[0;32m---> 42\u001b[0;31m   hist = model.fit(\n\u001b[0m\u001b[1;32m     43\u001b[0m     \u001b[0mX_train\u001b[0m\u001b[0;34m,\u001b[0m\u001b[0;34m\u001b[0m\u001b[0;34m\u001b[0m\u001b[0m\n\u001b[1;32m     44\u001b[0m     \u001b[0my_train\u001b[0m\u001b[0;34m,\u001b[0m\u001b[0;34m\u001b[0m\u001b[0;34m\u001b[0m\u001b[0m\n",
            "\u001b[0;32m/usr/local/lib/python3.10/dist-packages/keras/utils/traceback_utils.py\u001b[0m in \u001b[0;36merror_handler\u001b[0;34m(*args, **kwargs)\u001b[0m\n\u001b[1;32m     68\u001b[0m             \u001b[0;31m# To get the full stack trace, call:\u001b[0m\u001b[0;34m\u001b[0m\u001b[0;34m\u001b[0m\u001b[0m\n\u001b[1;32m     69\u001b[0m             \u001b[0;31m# `tf.debugging.disable_traceback_filtering()`\u001b[0m\u001b[0;34m\u001b[0m\u001b[0;34m\u001b[0m\u001b[0m\n\u001b[0;32m---> 70\u001b[0;31m             \u001b[0;32mraise\u001b[0m \u001b[0me\u001b[0m\u001b[0;34m.\u001b[0m\u001b[0mwith_traceback\u001b[0m\u001b[0;34m(\u001b[0m\u001b[0mfiltered_tb\u001b[0m\u001b[0;34m)\u001b[0m \u001b[0;32mfrom\u001b[0m \u001b[0;32mNone\u001b[0m\u001b[0;34m\u001b[0m\u001b[0;34m\u001b[0m\u001b[0m\n\u001b[0m\u001b[1;32m     71\u001b[0m         \u001b[0;32mfinally\u001b[0m\u001b[0;34m:\u001b[0m\u001b[0;34m\u001b[0m\u001b[0;34m\u001b[0m\u001b[0m\n\u001b[1;32m     72\u001b[0m             \u001b[0;32mdel\u001b[0m \u001b[0mfiltered_tb\u001b[0m\u001b[0;34m\u001b[0m\u001b[0;34m\u001b[0m\u001b[0m\n",
            "\u001b[0;32m/usr/local/lib/python3.10/dist-packages/tensorflow/python/util/tf_stack.py\u001b[0m in \u001b[0;36m__exit__\u001b[0;34m(self, unused_type, unused_value, unused_traceback)\u001b[0m\n\u001b[1;32m     59\u001b[0m   \u001b[0;32mdef\u001b[0m \u001b[0m__exit__\u001b[0m\u001b[0;34m(\u001b[0m\u001b[0mself\u001b[0m\u001b[0;34m,\u001b[0m \u001b[0munused_type\u001b[0m\u001b[0;34m,\u001b[0m \u001b[0munused_value\u001b[0m\u001b[0;34m,\u001b[0m \u001b[0munused_traceback\u001b[0m\u001b[0;34m)\u001b[0m\u001b[0;34m:\u001b[0m\u001b[0;34m\u001b[0m\u001b[0;34m\u001b[0m\u001b[0m\n\u001b[1;32m     60\u001b[0m     \u001b[0mtop\u001b[0m \u001b[0;34m=\u001b[0m \u001b[0mself\u001b[0m\u001b[0;34m.\u001b[0m\u001b[0m_stack_dict\u001b[0m\u001b[0;34m[\u001b[0m\u001b[0mself\u001b[0m\u001b[0;34m.\u001b[0m\u001b[0m_thread_key\u001b[0m\u001b[0;34m]\u001b[0m\u001b[0;34m.\u001b[0m\u001b[0mpop\u001b[0m\u001b[0;34m(\u001b[0m\u001b[0;34m)\u001b[0m\u001b[0;34m\u001b[0m\u001b[0;34m\u001b[0m\u001b[0m\n\u001b[0;32m---> 61\u001b[0;31m     \u001b[0;32massert\u001b[0m \u001b[0mtop\u001b[0m \u001b[0;32mis\u001b[0m \u001b[0mself\u001b[0m\u001b[0;34m,\u001b[0m \u001b[0;34m'Concurrent access?'\u001b[0m\u001b[0;34m\u001b[0m\u001b[0;34m\u001b[0m\u001b[0m\n\u001b[0m\u001b[1;32m     62\u001b[0m \u001b[0;34m\u001b[0m\u001b[0m\n\u001b[1;32m     63\u001b[0m   \u001b[0;32mdef\u001b[0m \u001b[0mupdate\u001b[0m\u001b[0;34m(\u001b[0m\u001b[0mself\u001b[0m\u001b[0;34m)\u001b[0m\u001b[0;34m:\u001b[0m\u001b[0;34m\u001b[0m\u001b[0;34m\u001b[0m\u001b[0m\n",
            "\u001b[0;31mAssertionError\u001b[0m: Concurrent access?"
          ]
        }
      ],
      "source": [
        "%%time\n",
        "\n",
        "n_epochs = 100\n",
        "\n",
        "hists = []\n",
        "with tf.device('/device:GPU:0'):\n",
        "  for rep, fold in product(range(nreps), range(nfolds)):\n",
        "      print('======= rep %s - fold %s  =======' % (rep, fold))\n",
        "      model            = build_model()\n",
        "      X_train, y_train = select_split(df, type = 'train', rep = rep, fold = fold)\n",
        "      hist             = train_model(model, X_train, y_train, epochs = n_epochs, output_msr = \"r2_score\")\n",
        "      hists.append(hist)"
      ]
    },
    {
      "cell_type": "markdown",
      "metadata": {
        "id": "aqS7vjSVv_dN"
      },
      "source": [
        "#### Evaluation"
      ]
    },
    {
      "cell_type": "code",
      "execution_count": 22,
      "metadata": {
        "id": "tc0UPMIAv_dO",
        "outputId": "55c3c92b-a517-4852-f873-3cbe9e1eb579",
        "colab": {
          "base_uri": "https://localhost:8080/",
          "height": 236
        }
      },
      "outputs": [
        {
          "output_type": "error",
          "ename": "IndexError",
          "evalue": "ignored",
          "traceback": [
            "\u001b[0;31m---------------------------------------------------------------------------\u001b[0m",
            "\u001b[0;31mIndexError\u001b[0m                                Traceback (most recent call last)",
            "\u001b[0;32m<ipython-input-22-16707a17ccd3>\u001b[0m in \u001b[0;36m<cell line: 5>\u001b[0;34m()\u001b[0m\n\u001b[1;32m      5\u001b[0m \u001b[0;32mfor\u001b[0m \u001b[0mrep\u001b[0m\u001b[0;34m,\u001b[0m \u001b[0mfold\u001b[0m \u001b[0;32min\u001b[0m \u001b[0mproduct\u001b[0m\u001b[0;34m(\u001b[0m\u001b[0mrange\u001b[0m\u001b[0;34m(\u001b[0m\u001b[0mnreps\u001b[0m\u001b[0;34m)\u001b[0m\u001b[0;34m,\u001b[0m \u001b[0mrange\u001b[0m\u001b[0;34m(\u001b[0m\u001b[0mnfolds\u001b[0m\u001b[0;34m)\u001b[0m\u001b[0;34m)\u001b[0m\u001b[0;34m:\u001b[0m\u001b[0;34m\u001b[0m\u001b[0;34m\u001b[0m\u001b[0m\n\u001b[1;32m      6\u001b[0m \u001b[0;34m\u001b[0m\u001b[0m\n\u001b[0;32m----> 7\u001b[0;31m   \u001b[0mmodel\u001b[0m          \u001b[0;34m=\u001b[0m \u001b[0mhists\u001b[0m\u001b[0;34m[\u001b[0m\u001b[0mi\u001b[0m\u001b[0;34m]\u001b[0m\u001b[0;34m.\u001b[0m\u001b[0mmodel\u001b[0m\u001b[0;34m\u001b[0m\u001b[0;34m\u001b[0m\u001b[0m\n\u001b[0m\u001b[1;32m      8\u001b[0m   \u001b[0mX_test\u001b[0m\u001b[0;34m,\u001b[0m \u001b[0my_test\u001b[0m \u001b[0;34m=\u001b[0m \u001b[0mselect_split\u001b[0m\u001b[0;34m(\u001b[0m\u001b[0mdf\u001b[0m\u001b[0;34m,\u001b[0m \u001b[0mtype\u001b[0m \u001b[0;34m=\u001b[0m \u001b[0;34m'test'\u001b[0m\u001b[0;34m,\u001b[0m \u001b[0mrep\u001b[0m \u001b[0;34m=\u001b[0m \u001b[0mrep\u001b[0m\u001b[0;34m,\u001b[0m \u001b[0mfold\u001b[0m \u001b[0;34m=\u001b[0m \u001b[0mfold\u001b[0m\u001b[0;34m)\u001b[0m\u001b[0;34m\u001b[0m\u001b[0;34m\u001b[0m\u001b[0m\n\u001b[1;32m      9\u001b[0m   \u001b[0mperfs\u001b[0m\u001b[0;34m[\u001b[0m\u001b[0mi\u001b[0m\u001b[0;34m]\u001b[0m       \u001b[0;34m=\u001b[0m \u001b[0;34m[\u001b[0m\u001b[0mrep\u001b[0m\u001b[0;34m,\u001b[0m \u001b[0mfold\u001b[0m\u001b[0;34m]\u001b[0m \u001b[0;34m+\u001b[0m \u001b[0mtest_model\u001b[0m\u001b[0;34m(\u001b[0m\u001b[0mmodel\u001b[0m\u001b[0;34m,\u001b[0m \u001b[0mX_test\u001b[0m\u001b[0;34m,\u001b[0m \u001b[0my_test\u001b[0m\u001b[0;34m)\u001b[0m\u001b[0;34m\u001b[0m\u001b[0;34m\u001b[0m\u001b[0m\n",
            "\u001b[0;31mIndexError\u001b[0m: list index out of range"
          ]
        }
      ],
      "source": [
        "# calculate the performance\n",
        "perfs = [None] * nreps * nfolds\n",
        "\n",
        "i = 0\n",
        "for rep, fold in product(range(nreps), range(nfolds)):\n",
        "  \n",
        "  model          = hists[i].model\n",
        "  X_test, y_test = select_split(df, type = 'test', rep = rep, fold = fold)\n",
        "  perfs[i]       = [rep, fold] + test_model(model, X_test, y_test)\n",
        "\n",
        "  i += 1\n",
        "\n",
        "# convert to DataFrame\n",
        "perfs = pd.DataFrame(perfs, columns = [\"rep\", \"fold\",\"MAE\", 'MSE', 'RSQ']).assign(\n",
        "    RMSE   = lambda x: np.sqrt(x.MSE),\n",
        "    RSQ_pct = lambda x: x.RSQ * 100\n",
        ")\n",
        "\n",
        "perfs[['MAE', 'RMSE', 'RSQ_pct']].describe()[1:].round(2)"
      ]
    },
    {
      "cell_type": "markdown",
      "metadata": {
        "id": "KuIHRlqLv_dP"
      },
      "source": [
        "##### Tables"
      ]
    },
    {
      "cell_type": "markdown",
      "metadata": {
        "id": "iLzL3uy-v_dQ"
      },
      "source": [
        "**Overview**"
      ]
    },
    {
      "cell_type": "code",
      "execution_count": null,
      "metadata": {
        "id": "ulAwpX32v_dR"
      },
      "outputs": [],
      "source": [
        "perfs[['MAE', 'RMSE', 'RSQ_pct']].describe()[1:].round(2)"
      ]
    },
    {
      "cell_type": "markdown",
      "metadata": {
        "id": "j6MrlwN6v_dS"
      },
      "source": [
        "**All Evaluations**"
      ]
    },
    {
      "cell_type": "code",
      "execution_count": null,
      "metadata": {
        "id": "M6lHcFG7v_dT"
      },
      "outputs": [],
      "source": [
        "perfs[[\"rep\", \"fold\",'MAE', 'RMSE', 'RSQ_pct']].sort_values('RSQ_pct').round(2)"
      ]
    },
    {
      "cell_type": "markdown",
      "metadata": {
        "id": "WdRDW46av_dU"
      },
      "source": [
        "##### Investigation"
      ]
    },
    {
      "cell_type": "code",
      "execution_count": null,
      "metadata": {
        "id": "hWuQ2ZJlv_dV"
      },
      "outputs": [],
      "source": [
        "\n",
        "results = []\n",
        "\n",
        "i = 0\n",
        "for rep, fold in product(range(nreps), range(nfolds)):\n",
        "\n",
        "    results.append(\n",
        "        [rep, fold]+ [\n",
        "            hists[i].history['r2_score'][-1],\n",
        "            float(perfs[(perfs.rep ==rep) & (perfs.fold==fold)][\"RSQ\"]), \n",
        "            hists[i].history['val_r2_score'][-1], \n",
        "            \n",
        "             hists[i].history['r2_score'][-1] /  float(perfs[(perfs.rep ==rep) & (perfs.fold==fold)][\"RSQ\"])- 1\n",
        "            ] +\n",
        "        [x - 1 for x in \n",
        "        list(df.loc[df['rep'+str(rep)+'-fold'+str(fold)] == 'test', features[:5] + [target]].mean() /\n",
        "        df.loc[df['rep'+str(rep)+'-fold'+str(fold)] == 'train', features[:5] + [target]].mean())])\n",
        "    i += 1\n",
        "\n",
        "results = pd.DataFrame(\n",
        "    results, \n",
        "    columns = ['rep', 'fold', \"RSQ_train\",'RSQ_test', \"RSQ_eval\",  \"pct_diff_tt\"]+['mean_ttdiff_' + x for x in features[:5] + [target]]\n",
        "    )\n",
        "\n",
        "results.sort_values(\"pct_diff_tt\")"
      ]
    },
    {
      "cell_type": "markdown",
      "metadata": {
        "id": "3ic9aL4Ov_dW"
      },
      "source": [
        "##### Plots"
      ]
    },
    {
      "cell_type": "code",
      "execution_count": null,
      "metadata": {
        "id": "OZvjzTJev_dX"
      },
      "outputs": [],
      "source": [
        "\n",
        "y1 = np.array([hist.history[\"r2_score\"] for hist in hists])\n",
        "y2 = np.array([hist.history[\"val_r2_score\"] for hist in hists])\n",
        "\n",
        "plt.plot(np.quantile(y1,.5, axis = 0), label = 'median (train)', color = 'blue')\n",
        "plt.fill_between(range(1, n_epochs +1), np.quantile(y1,.05, axis = 0), np.quantile(y1,.95, axis = 0),color = 'blue', alpha = 0.15, label = '90 % CI (train)')\n",
        "plt.plot(np.quantile(y2,.5, axis = 0), label = 'median (eval)', color = 'orange')\n",
        "plt.fill_between(range(1, n_epochs +1), np.quantile(y2,.05, axis = 0), np.quantile(y2,.95, axis = 0),color = 'orange', alpha = 0.15, label = '90 % CI (eval)')\n",
        "#plt.fill_between(range(1, n_epochs +1), np.quantile(y,.0, axis = 0), np.quantile(y,1., axis = 0), color = 'blue', alpha = 0.15, label = '100-90-70 % CI')\n",
        "#plt.fill_between(range(1, n_epochs +1), np.quantile(y,.05 + .1, axis = 0), np.quantile(y,.95 - .1, axis = 0),color = 'blue', alpha = 0.15)\n",
        "#plt.fill_between(range(1, n_epochs +1), np.quantile(y,.0, axis = 0), np.quantile(y,1., axis = 0), color = 'orange', alpha = 0.15, label = '100-90-70 % CI')\n",
        "#plt.fill_between(range(1, n_epochs +1), np.quantile(y,.05 + .1, axis = 0), np.quantile(y,.95 - .1, axis = 0),color = 'blue', alpha = 0.15)\n",
        "\n",
        "plt.title('Training Performance (test median RSQ = ' + str(round(perfs[['RSQ_pct']].median()[0], 2))+ \" %)\")\n",
        "\n",
        "plt.legend()\n",
        "plt.ylim([0.5, 0.9])\n",
        "plt.show()"
      ]
    },
    {
      "cell_type": "code",
      "execution_count": null,
      "metadata": {
        "id": "-VPE7KNAv_dZ"
      },
      "outputs": [],
      "source": [
        "\n",
        "i = 0\n",
        "for rep, fold in product(range(nreps), range(nfolds)):\n",
        "  plot_perf(hists[i], 'r2_score')\n",
        "  #plt.suptitle('Training Performance (test r2_score = ' + str(round(perfs[ind][2] * 100, 2))+ \" %)\")\n",
        "  #'Training Performance (test r2_score = ' + str(round(perfs[ind][2] * 100, 2))+ \" %)\")\n",
        "  plt.suptitle('Training Performance for rep = ' + str(rep) + ', fold = ' + str(fold))\n",
        "  plt.title(' (test RSQ = ' + str(round(perfs.loc[i,'RSQ_pct'], 2))+ \" %)\")\n",
        "  plt.ylim([0.5, 0.9])\n",
        "  plt.show()\n",
        "  i += 1"
      ]
    },
    {
      "cell_type": "markdown",
      "metadata": {
        "id": "Y9Qbrg1dv_da"
      },
      "source": [
        "### Centralized (5 Features)"
      ]
    },
    {
      "cell_type": "code",
      "execution_count": null,
      "metadata": {
        "id": "Gu2Igmvsv_db"
      },
      "outputs": [],
      "source": [
        "%%time\n",
        "\n",
        "n_epochs = 100\n",
        "\n",
        "hists2 = []\n",
        "for rep, fold in product(range(nreps), range(nfolds)):\n",
        "    print('======= rep %s - fold %s  =======' % (rep, fold))\n",
        "    model            = build_model(nfeatures = 5)\n",
        "    X_train, y_train = select_split(df, features = features[:5], type = 'train', rep = rep, fold = fold)\n",
        "    hist             = train_model(model, X_train, y_train, epochs = n_epochs, output_msr = \"r2_score\")\n",
        "    hists2.append(hist)"
      ]
    },
    {
      "cell_type": "code",
      "execution_count": null,
      "metadata": {
        "id": "sEckb0Iyv_dc"
      },
      "outputs": [],
      "source": [
        "# calculate the performance\n",
        "perfs2 = [None] * nreps * nfolds\n",
        "\n",
        "i = 0\n",
        "for rep, fold in product(range(nreps), range(nfolds)):\n",
        "  \n",
        "  model          = hists2[i].model\n",
        "  X_test, y_test = select_split(df, features = features[:5], type = 'test', rep = rep, fold = fold)\n",
        "  perfs2[i]       = [rep, fold] + test_model(model, X_test, y_test)\n",
        "\n",
        "  i += 1\n",
        "\n",
        "# convert to DataFrame\n",
        "perfs2 = pd.DataFrame(perfs, columns = [\"rep\", \"fold\",\"MAE\", 'MSE', 'RSQ']).assign(\n",
        "    RMSE   = lambda x: np.sqrt(x.MSE),\n",
        "    RSQ_pct = lambda x: x.RSQ * 100\n",
        ")\n",
        "\n",
        "perfs2[['MAE', 'RMSE', 'RSQ_pct']].describe()[1:].round(2)"
      ]
    },
    {
      "cell_type": "code",
      "execution_count": null,
      "metadata": {
        "id": "J6tvOJ-pv_de"
      },
      "outputs": [],
      "source": [
        "y1 = np.array([hist.history[\"r2_score\"] for hist in hists2])\n",
        "y2 = np.array([hist.history[\"val_r2_score\"] for hist in hists2])\n",
        "\n",
        "plt.plot(np.quantile(y1,.5, axis = 0), label = 'median (train)', color = 'blue')\n",
        "plt.fill_between(range(1, n_epochs +1), np.quantile(y1,.05, axis = 0), np.quantile(y1,.95, axis = 0),color = 'blue', alpha = 0.15, label = '90 % CI (train)')\n",
        "plt.plot(np.quantile(y2,.5, axis = 0), label = 'median (eval)', color = 'orange')\n",
        "plt.fill_between(range(1, n_epochs +1), np.quantile(y2,.05, axis = 0), np.quantile(y2,.95, axis = 0),color = 'orange', alpha = 0.15, label = '90 % CI (eval)')\n",
        "#plt.fill_between(range(1, n_epochs +1), np.quantile(y,.0, axis = 0), np.quantile(y,1., axis = 0), color = 'blue', alpha = 0.15, label = '100-90-70 % CI')\n",
        "#plt.fill_between(range(1, n_epochs +1), np.quantile(y,.05 + .1, axis = 0), np.quantile(y,.95 - .1, axis = 0),color = 'blue', alpha = 0.15)\n",
        "#plt.fill_between(range(1, n_epochs +1), np.quantile(y,.0, axis = 0), np.quantile(y,1., axis = 0), color = 'orange', alpha = 0.15, label = '100-90-70 % CI')\n",
        "#plt.fill_between(range(1, n_epochs +1), np.quantile(y,.05 + .1, axis = 0), np.quantile(y,.95 - .1, axis = 0),color = 'blue', alpha = 0.15)\n",
        "\n",
        "plt.title('Training Performance (test median RSQ = ' + str(round(perfs[['RSQ_pct']].median()[0], 2))+ \" %)\")\n",
        "\n",
        "plt.legend()\n",
        "plt.ylim([0.5, 0.9])\n",
        "plt.show()"
      ]
    },
    {
      "cell_type": "markdown",
      "metadata": {
        "id": "rcMrsKqav_df"
      },
      "source": [
        "### Tuning\n",
        "---"
      ]
    },
    {
      "cell_type": "markdown",
      "metadata": {
        "id": "PQDWmWMvv_dg"
      },
      "source": [
        "Is the centralized model improvable?\n",
        "\n",
        "- train_model(..., steps_per_epoch = 3) -> improves the result?\n",
        "- FIXME: What about random forests?\n",
        "- FIXME: Systematic tuning"
      ]
    },
    {
      "cell_type": "markdown",
      "metadata": {
        "id": "CjEVVzo2v_dh"
      },
      "source": [
        "### Federated Learning\n",
        "---"
      ]
    },
    {
      "cell_type": "code",
      "execution_count": null,
      "metadata": {
        "id": "wuJgH-OZv_dl"
      },
      "outputs": [],
      "source": [
        "# Federated Learning"
      ]
    }
  ],
  "metadata": {
    "kernelspec": {
      "display_name": "tf",
      "language": "python",
      "name": "python3"
    },
    "language_info": {
      "codemirror_mode": {
        "name": "ipython",
        "version": 3
      },
      "file_extension": ".py",
      "mimetype": "text/x-python",
      "name": "python",
      "nbconvert_exporter": "python",
      "pygments_lexer": "ipython3",
      "version": "3.9.16"
    },
    "orig_nbformat": 4,
    "colab": {
      "provenance": [],
      "include_colab_link": true
    }
  },
  "nbformat": 4,
  "nbformat_minor": 0
}