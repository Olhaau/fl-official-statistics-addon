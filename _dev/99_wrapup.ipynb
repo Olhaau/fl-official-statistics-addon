{
  "cells": [
    {
      "cell_type": "markdown",
      "metadata": {
        "colab_type": "text",
        "id": "view-in-github"
      },
      "source": [
        "<a href=\"https://colab.research.google.com/github/Olhaau/fl-official-statistics-addon/blob/main/_dev/99_wrapup.ipynb\" target=\"_parent\"><img src=\"https://colab.research.google.com/assets/colab-badge.svg\" alt=\"Open In Colab\"/></a>"
      ]
    },
    {
      "cell_type": "markdown",
      "metadata": {
        "id": "8yQFE2E5FGCz"
      },
      "source": [
        "## Summary\n",
        "---"
      ]
    },
    {
      "cell_type": "markdown",
      "metadata": {
        "id": "xMRbGtekFGC0"
      },
      "source": [
        "### Setup\n",
        "- **OS**: Linux is superior in convenience and stability. \n",
        "    - A WSL (Windows-Subsystem Linux) is a convienient solution for Windows.\n",
        "- **Virtual environment**: both, conda or venv, work fine. Conda is used here.\n",
        "- **Versions**\n",
        "    - Python 3.9.* is recommended here: https://www.tensorflow.org/install/pip"
      ]
    },
    {
      "cell_type": "markdown",
      "metadata": {
        "id": "aqk25KAUFGC1"
      },
      "source": [
        "## Prerequisites\n",
        "---"
      ]
    },
    {
      "cell_type": "markdown",
      "metadata": {
        "id": "NU7zrbdNFGC3"
      },
      "source": [
        "### Development environment\n",
        "---\n",
        "\n",
        "We use Tensorflow Federated (TFF). For further development e.g. is considerded "
      ]
    },
    {
      "cell_type": "markdown",
      "metadata": {
        "id": "cM4ARyJNFGC3"
      },
      "source": [
        "#### OS - Linux is recommended"
      ]
    },
    {
      "cell_type": "markdown",
      "metadata": {
        "id": "RTX0RsIlFGC4"
      },
      "source": [
        "##### Windows restrictions\n",
        "\n",
        "Tensorflow (TF) and Tensorflow Federated (TFF) have only restricted Windows support, e.g.\n",
        "\n",
        "- **TFF - several problems**, e.g.\n",
        "  - installing TFF does run infinitely because of not resolvable dependencies, see https://stackoverflow.com/questions/69949143/tensorflow-federated-on-windows\n",
        "  - needed JAX has no Windows support, see https://github.com/google/jax/issues/438. JAX Team:\n",
        "    \n",
        "    >*Windows support is still not on the agenda. We're maxed out on other things, and moreover no one on the JAX team is a Windows user, which only makes development harder.*\n",
        "  - XLA (JAX dependency) was not fully compilable, but should now be available since TF 2.2.0.\n",
        "- **TF - no GPU support**, s. https://www.tensorflow.org/install/pip#windows-native\n",
        "  \n",
        "  > *Starting with TensorFlow 2.11, you will need to install TensorFlow in WSL2, or install tensorflow or tensorflow-cpu and, optionally, try the TensorFlow-DirectML-Plugin.*\n",
        "\n",
        "##### Windows-Subsystem for Linux\n",
        "\n",
        "**A Windows-Subsystem for Linux (WSL) can be a convenient solution**, see\n",
        "\n",
        "- Install Tensorflow using a WSL: https://www.tensorflow.org/install/pip#windows-wsl2\n",
        "- tutorial for setting up GPU support: https://www.youtube.com/watch?v=0S81koZpwPA&t=518s&pp=ygUOd3NsIHRlbnNvcmZsb3c%3D\n",
        "- General development environment in VSCode using WSL: https://code.visualstudio.com/docs/remote/wsl\n",
        "\n",
        "##### MacOS restrictions\n",
        "\n",
        "TFF is not fully available for MacOS, e.g. ...\n",
        "- only outdated versions are available, see https://github.com/tensorflow/federated/issues/3881\n",
        "- installation is complicated and partly sketchy, see\n",
        "  - https://stackoverflow.com/questions/66705900/can-tensorflow-federated-be-installed-on-apple-silicon-m1\n",
        "  - https://stackoverflow.com/questions/71839866/can-anyone-give-me-a-comprehensive-guide-to-installing-tensorflow-federated-on-m1\n",
        "  - https://discuss.tensorflow.org/t/update-tensorflow-federated-to-match-tensorflow-macos-2-7-0-and-tensorflow-metal-0-3-0/7193/10\n",
        "  - conda-forge could help: https://stackoverflow.com/questions/68327863/importing-jax-fails-on-mac-with-m1-chip"
      ]
    },
    {
      "cell_type": "markdown",
      "metadata": {
        "id": "m-jg7j31FGC5"
      },
      "source": [
        "#### Virtual environment\n"
      ]
    },
    {
      "attachments": {},
      "cell_type": "markdown",
      "metadata": {
        "id": "uHHwNeJnFGC5"
      },
      "source": [
        "**Recommended virtual environments**\n",
        "\n",
        "1. environment by ``conda`` using Python 3.9.* for TensorFlow, see [Install TensorFlow with pip](https://www.tensorflow.org/install/pip) (works fine for Tensorflow Federated)\n",
        "2. environment by ``venv``, see [Install TensorFlow Federated](https://www.tensorflow.org/federated/install)"
      ]
    },
    {
      "cell_type": "markdown",
      "metadata": {
        "id": "YeLR7lYhFGC6"
      },
      "source": [
        "#### Versions\n",
        "\n",
        "- Python 3.9.* is recommended here: https://www.tensorflow.org/install/pip\n",
        "    - rem.: [asdf-vm](https://asdf-vm.com/) is convenient to manage python versions. \n",
        "- to reproduce the used environment use (recommended):\n",
        "    - ``!pip install -r ../requirements.txt``\n",
        "- to install a new similiar environment use:\n",
        "    - ``pip install --upgrade tensorflow-federated``  \n",
        "    - simlilarly install further helpful packages\n",
        "\n",
        "For the full list of install packages see [requirements.txt](../requirements.txt). E.g. the following tensorflow[...] versions are used."
      ]
    },
    {
      "cell_type": "code",
      "execution_count": 1,
      "metadata": {},
      "outputs": [
        {
          "data": {
            "text/plain": [
              "False"
            ]
          },
          "execution_count": 1,
          "metadata": {},
          "output_type": "execute_result"
        }
      ],
      "source": [
        "try:\n",
        "  import google.colab\n",
        "  IN_COLAB = True\n",
        "except:\n",
        "  IN_COLAB = False\n",
        "IN_COLAB"
      ]
    },
    {
      "cell_type": "code",
      "execution_count": 2,
      "metadata": {
        "colab": {
          "base_uri": "https://localhost:8080/"
        },
        "id": "OEiTSO0LFYPT",
        "outputId": "477e059f-7c4e-47f5-d534-b3ffe80e167b"
      },
      "outputs": [],
      "source": [
        "if IN_COLAB:\n",
        "    import os\n",
        "    \n",
        "    # rm repo from gdrive\n",
        "    if os.path.exists(\"fl-official-statistics-addon\"):\n",
        "      %rm -r fl-official-statistics-addon\n",
        "\n",
        "    # clone\n",
        "    !git clone https://github.com/Olhaau/fl-official-statistics-addon\n",
        "    %cd fl-official-statistics-addon\n",
        "\n",
        "    # pull (the currenct version of the repo)\n",
        "    !git pull"
      ]
    },
    {
      "cell_type": "code",
      "execution_count": 3,
      "metadata": {
        "colab": {
          "base_uri": "https://localhost:8080/"
        },
        "id": "ARxiHLrHFMZC",
        "outputId": "0923e579-14ed-45e3-81d6-46e0ca93a5db"
      },
      "outputs": [
        {
          "name": "stdout",
          "output_type": "stream",
          "text": [
            "/bin/bash: /home/olihauke/.asdf/installs/python/miniconda3-latest/envs/tf/lib/libtinfo.so.6: no version information available (required by /bin/bash)\n",
            "Python 3.9.16\n"
          ]
        }
      ],
      "source": [
        "!python --version\n",
        "# 3.9.* or 3.10.* work fine."
      ]
    },
    {
      "cell_type": "code",
      "execution_count": 4,
      "metadata": {
        "id": "MccQuyJvFPWk"
      },
      "outputs": [],
      "source": [
        "if IN_COLAB: \n",
        "  !pip install -q tensorflow-federated==0.56.0\n",
        "  #!pip install -r requirements.txt"
      ]
    },
    {
      "cell_type": "code",
      "execution_count": 5,
      "metadata": {
        "colab": {
          "base_uri": "https://localhost:8080/"
        },
        "id": "ZmWVYdqLFGC7",
        "outputId": "1d2cf11d-75c9-4cb5-cc9b-54c2bf574818"
      },
      "outputs": [
        {
          "name": "stdout",
          "output_type": "stream",
          "text": [
            "/bin/bash: /home/olihauke/.asdf/installs/python/miniconda3-latest/envs/tf/lib/libtinfo.so.6: no version information available (required by /bin/bash)\n",
            "tensorflow                    2.12.0\n",
            "tensorflow-compression        2.12.0\n",
            "tensorflow-datasets           4.9.2\n",
            "tensorflow-estimator          2.12.0\n",
            "tensorflow-federated          0.56.0\n",
            "tensorflow-io-gcs-filesystem  0.32.0\n",
            "tensorflow-metadata           1.13.1\n",
            "tensorflow-model-optimization 0.7.3\n",
            "tensorflow-privacy            0.8.8\n",
            "tensorflow-probability        0.15.0\n"
          ]
        }
      ],
      "source": [
        "!pip list | grep tensorflow\n",
        "# for more details use !pip show tensorflow\n",
        "#>tensorflow                    2.12.0\n",
        "#>tensorflow-compression        2.12.0\n",
        "#>tensorflow-datasets           4.8.3\n",
        "#>tensorflow-estimator          2.12.0\n",
        "#>tensorflow-federated          0.56.0\n",
        "#>tensorflow-gcs-config         2.12.0\n",
        "#>tensorflow-hub                0.13.0\n",
        "#>tensorflow-io-gcs-filesystem  0.32.0\n",
        "#>tensorflow-metadata           1.13.1\n",
        "#>tensorflow-model-optimization 0.7.3\n",
        "#>tensorflow-privacy            0.8.8\n",
        "#>tensorflow-probability        0.15.0"
      ]
    },
    {
      "cell_type": "code",
      "execution_count": 6,
      "metadata": {
        "id": "Jy6hRHtcFGC8",
        "outputId": "2b101c38-cbcb-43e7-ceb3-ace64bdcb387"
      },
      "outputs": [],
      "source": [
        "# Save the package versioning to requirements.txt if needed (ovewrites the previous)\n",
        "#!conda list --export > ../requirements.txt\n",
        "# or\n",
        "#!pip freeze > ../requirements.txt"
      ]
    },
    {
      "cell_type": "markdown",
      "metadata": {
        "id": "p8vyAybBFGC8"
      },
      "source": [
        "### Imports\n",
        "---"
      ]
    },
    {
      "cell_type": "code",
      "execution_count": 7,
      "metadata": {
        "id": "D509SL9vFGC-"
      },
      "outputs": [
        {
          "name": "stderr",
          "output_type": "stream",
          "text": [
            "2023-05-03 22:06:48.048603: I tensorflow/core/platform/cpu_feature_guard.cc:182] This TensorFlow binary is optimized to use available CPU instructions in performance-critical operations.\n",
            "To enable the following instructions: AVX2 FMA, in other operations, rebuild TensorFlow with the appropriate compiler flags.\n",
            "2023-05-03 22:06:48.748546: W tensorflow/compiler/tf2tensorrt/utils/py_utils.cc:38] TF-TRT Warning: Could not find TensorRT\n"
          ]
        }
      ],
      "source": [
        "import pandas as pd\n",
        "import numpy as np\n",
        "import os\n",
        "from sklearn.model_selection import StratifiedKFold, RepeatedStratifiedKFold\n",
        "from sklearn.metrics import r2_score\n",
        "import matplotlib.pyplot as plt\n",
        "from itertools import product\n",
        "from math import floor\n",
        "import time\n",
        "\n",
        "import tensorflow as tf\n",
        "import tensorflow_federated as tff\n",
        "from keras.models import Sequential\n",
        "from keras.layers import Dense, InputLayer\n",
        "from keras.callbacks import CSVLogger\n",
        "\n",
        "# -> check tff\n",
        "#print(tff.federated_computation(lambda: 'Hello World')()) "
      ]
    },
    {
      "cell_type": "markdown",
      "metadata": {
        "id": "MIkxOg8gFGC-"
      },
      "source": [
        "### Ingest data\n",
        "---"
      ]
    },
    {
      "cell_type": "code",
      "execution_count": 8,
      "metadata": {
        "colab": {
          "base_uri": "https://localhost:8080/",
          "height": 206
        },
        "id": "1SUT7Xy9FGC-",
        "outputId": "2adc04a9-0216-47fe-fcd0-5444db498120"
      },
      "outputs": [
        {
          "data": {
            "text/html": [
              "<div>\n",
              "<style scoped>\n",
              "    .dataframe tbody tr th:only-of-type {\n",
              "        vertical-align: middle;\n",
              "    }\n",
              "\n",
              "    .dataframe tbody tr th {\n",
              "        vertical-align: top;\n",
              "    }\n",
              "\n",
              "    .dataframe thead th {\n",
              "        text-align: right;\n",
              "    }\n",
              "</style>\n",
              "<table border=\"1\" class=\"dataframe\">\n",
              "  <thead>\n",
              "    <tr style=\"text-align: right;\">\n",
              "      <th></th>\n",
              "      <th>age</th>\n",
              "      <th>sex</th>\n",
              "      <th>bmi</th>\n",
              "      <th>children</th>\n",
              "      <th>smoker</th>\n",
              "      <th>region</th>\n",
              "      <th>charges</th>\n",
              "      <th>region0</th>\n",
              "      <th>region1</th>\n",
              "      <th>region2</th>\n",
              "      <th>region3</th>\n",
              "    </tr>\n",
              "  </thead>\n",
              "  <tbody>\n",
              "    <tr>\n",
              "      <th>0</th>\n",
              "      <td>0.021739</td>\n",
              "      <td>0.0</td>\n",
              "      <td>0.321227</td>\n",
              "      <td>0.0</td>\n",
              "      <td>1.0</td>\n",
              "      <td>southwest</td>\n",
              "      <td>16884.92400</td>\n",
              "      <td>0.0</td>\n",
              "      <td>0.0</td>\n",
              "      <td>0.0</td>\n",
              "      <td>1.0</td>\n",
              "    </tr>\n",
              "    <tr>\n",
              "      <th>1</th>\n",
              "      <td>0.000000</td>\n",
              "      <td>1.0</td>\n",
              "      <td>0.479150</td>\n",
              "      <td>0.2</td>\n",
              "      <td>0.0</td>\n",
              "      <td>southeast</td>\n",
              "      <td>1725.55230</td>\n",
              "      <td>0.0</td>\n",
              "      <td>0.0</td>\n",
              "      <td>1.0</td>\n",
              "      <td>0.0</td>\n",
              "    </tr>\n",
              "    <tr>\n",
              "      <th>2</th>\n",
              "      <td>0.217391</td>\n",
              "      <td>1.0</td>\n",
              "      <td>0.458434</td>\n",
              "      <td>0.6</td>\n",
              "      <td>0.0</td>\n",
              "      <td>southeast</td>\n",
              "      <td>4449.46200</td>\n",
              "      <td>0.0</td>\n",
              "      <td>0.0</td>\n",
              "      <td>1.0</td>\n",
              "      <td>0.0</td>\n",
              "    </tr>\n",
              "    <tr>\n",
              "      <th>3</th>\n",
              "      <td>0.326087</td>\n",
              "      <td>1.0</td>\n",
              "      <td>0.181464</td>\n",
              "      <td>0.0</td>\n",
              "      <td>0.0</td>\n",
              "      <td>northwest</td>\n",
              "      <td>21984.47061</td>\n",
              "      <td>0.0</td>\n",
              "      <td>1.0</td>\n",
              "      <td>0.0</td>\n",
              "      <td>0.0</td>\n",
              "    </tr>\n",
              "    <tr>\n",
              "      <th>4</th>\n",
              "      <td>0.304348</td>\n",
              "      <td>1.0</td>\n",
              "      <td>0.347592</td>\n",
              "      <td>0.0</td>\n",
              "      <td>0.0</td>\n",
              "      <td>northwest</td>\n",
              "      <td>3866.85520</td>\n",
              "      <td>0.0</td>\n",
              "      <td>1.0</td>\n",
              "      <td>0.0</td>\n",
              "      <td>0.0</td>\n",
              "    </tr>\n",
              "  </tbody>\n",
              "</table>\n",
              "</div>"
            ],
            "text/plain": [
              "        age  sex       bmi  children  smoker     region      charges  region0  \\\n",
              "0  0.021739  0.0  0.321227       0.0     1.0  southwest  16884.92400      0.0   \n",
              "1  0.000000  1.0  0.479150       0.2     0.0  southeast   1725.55230      0.0   \n",
              "2  0.217391  1.0  0.458434       0.6     0.0  southeast   4449.46200      0.0   \n",
              "3  0.326087  1.0  0.181464       0.0     0.0  northwest  21984.47061      0.0   \n",
              "4  0.304348  1.0  0.347592       0.0     0.0  northwest   3866.85520      0.0   \n",
              "\n",
              "   region1  region2  region3  \n",
              "0      0.0      0.0      1.0  \n",
              "1      0.0      1.0      0.0  \n",
              "2      0.0      1.0      0.0  \n",
              "3      1.0      0.0      0.0  \n",
              "4      1.0      0.0      0.0  "
            ]
          },
          "execution_count": 8,
          "metadata": {},
          "output_type": "execute_result"
        }
      ],
      "source": [
        "df = pd.read_csv(\"https://raw.githubusercontent.com/Olhaau/fl-official-statistics-addon/main/output/data/insurance-clean.csv\", index_col = 0)\n",
        "df.head()"
      ]
    },
    {
      "cell_type": "markdown",
      "metadata": {
        "id": "CkvUuICkFGC-"
      },
      "source": [
        "##### Evaluation splits"
      ]
    },
    {
      "cell_type": "code",
      "execution_count": 9,
      "metadata": {
        "id": "9ZxNNroTFGC_",
        "outputId": "1ed43656-880b-45d9-ab6c-113911c548ba"
      },
      "outputs": [
        {
          "data": {
            "text/plain": [
              "Index(['age', 'sex', 'bmi', 'children', 'smoker', 'region', 'charges',\n",
              "       'region0', 'region1', 'region2', 'region3', 'rep0-fold0', 'rep0-fold1',\n",
              "       'rep0-fold2', 'rep0-fold3', 'rep0-fold4', 'rep1-fold0', 'rep1-fold1',\n",
              "       'rep1-fold2', 'rep1-fold3', 'rep1-fold4', 'rep2-fold0', 'rep2-fold1',\n",
              "       'rep2-fold2', 'rep2-fold3', 'rep2-fold4', 'rep3-fold0', 'rep3-fold1',\n",
              "       'rep3-fold2', 'rep3-fold3', 'rep3-fold4', 'rep4-fold0', 'rep4-fold1',\n",
              "       'rep4-fold2', 'rep4-fold3', 'rep4-fold4'],\n",
              "      dtype='object')"
            ]
          },
          "execution_count": 9,
          "metadata": {},
          "output_type": "execute_result"
        }
      ],
      "source": [
        "nfolds = 5\n",
        "nreps = 5\n",
        "\n",
        "cv = RepeatedStratifiedKFold(n_splits = nfolds, n_repeats = nreps, random_state = 42)\n",
        "\n",
        "ind = 0\n",
        "for train, test in cv.split(df, df.region):\n",
        "  \n",
        "  label = 'rep' + str(floor(ind / nfolds)) + '-fold' + str(ind % nfolds)\n",
        "  df.loc[train, label] = 'train'\n",
        "  df.loc[test,  label] = 'test'\n",
        "  ind += 1\n",
        "\n",
        "df.columns"
      ]
    },
    {
      "cell_type": "markdown",
      "metadata": {
        "id": "LS5QtGx6FGC_"
      },
      "source": [
        "##### Select feature and target"
      ]
    },
    {
      "cell_type": "code",
      "execution_count": 10,
      "metadata": {
        "id": "3jJP0Q3yFGDA"
      },
      "outputs": [],
      "source": [
        "features = ['age', 'sex', 'bmi', 'children', 'smoker'\n",
        "            , 'region0', 'region1', 'region2', 'region3']\n",
        "target = 'charges'"
      ]
    },
    {
      "cell_type": "markdown",
      "metadata": {
        "id": "fjqEAvtrFGDA"
      },
      "source": [
        "#### Train Test Selector"
      ]
    },
    {
      "cell_type": "code",
      "execution_count": 11,
      "metadata": {
        "id": "na5KWv5kFGDA"
      },
      "outputs": [],
      "source": [
        "def select_split(\n",
        "      df, \n",
        "      target = target, \n",
        "      features = features, \n",
        "      type = 'train', \n",
        "      rep = 0, \n",
        "      fold = 0\n",
        "      ):\n",
        "   \"\"\"selects the train and test set from a specific column.\n",
        "\n",
        "  Parameters\n",
        "  ------------\n",
        "  df: dataFrame\n",
        "  target: str\n",
        "  features: list of str\n",
        "  type: str\n",
        "      'train' or 'test'.\n",
        "  rep, fold: int\n",
        "      Considered is a repeated cross validation with ``rep`` repetions and ``fold`` folds.\n",
        "  \"\"\"\n",
        "   \n",
        "   labels = 'rep' + str(rep) + '-fold' + str(fold)\n",
        "   \n",
        "   X = df.loc[df[labels] == type, features]\n",
        "   y = df.loc[df[labels] == type, target]\n",
        "   \n",
        "   return X, y"
      ]
    },
    {
      "cell_type": "code",
      "execution_count": 12,
      "metadata": {
        "id": "TXBDr05dFGDA",
        "outputId": "147952d7-4efa-40e5-d41c-e356bfae6a5b"
      },
      "outputs": [
        {
          "name": "stdout",
          "output_type": "stream",
          "text": [
            "====== Train ======\n",
            "        age  sex       bmi  children  smoker  region0  region1  region2  \\\n",
            "1  0.000000  1.0  0.479150       0.2     0.0      0.0      0.0      1.0   \n",
            "2  0.217391  1.0  0.458434       0.6     0.0      0.0      0.0      1.0   \n",
            "3  0.326087  1.0  0.181464       0.0     0.0      0.0      1.0      0.0   \n",
            "5  0.282609  0.0  0.263115       0.0     0.0      0.0      0.0      1.0   \n",
            "6  0.608696  0.0  0.470272       0.2     0.0      0.0      0.0      1.0   \n",
            "\n",
            "   region3 rep1-fold0  \n",
            "1      0.0      train  \n",
            "2      0.0      train  \n",
            "3      0.0      train  \n",
            "5      0.0      train  \n",
            "6      0.0      train  \n",
            "\n",
            "====== Test ======\n",
            "         age  sex       bmi  children  smoker  region0  region1  region2  \\\n",
            "8   0.413043  1.0  0.373150       0.4     0.0      1.0      0.0      0.0   \n",
            "18  0.826087  1.0  0.654829       0.0     0.0      0.0      0.0      0.0   \n",
            "25  0.891304  0.0  0.316384       0.6     0.0      0.0      0.0      1.0   \n",
            "27  0.804348  0.0  0.452381       0.4     0.0      0.0      1.0      0.0   \n",
            "41  0.282609  0.0  0.556094       0.4     0.0      0.0      0.0      1.0   \n",
            "\n",
            "    region3 rep0-fold0  \n",
            "8       0.0       test  \n",
            "18      1.0       test  \n",
            "25      0.0       test  \n",
            "27      0.0       test  \n",
            "41      0.0       test  \n"
          ]
        }
      ],
      "source": [
        "# test\n",
        "X_train, y_train = select_split(df,\n",
        "   features = features + ['rep' + str(1) + '-fold' + str(0)],\n",
        "   type = 'train', rep = 1, fold = 0\n",
        "   )\n",
        "X_test, y_test = select_split(df,\n",
        "   features = features + ['rep' + str(0) + '-fold' + str(0)],\n",
        "   type = 'test', rep = 0, fold = 0\n",
        "   )\n",
        "print(\"====== Train ======\")\n",
        "print(X_train.head())\n",
        "print(\"\\n====== Test ======\")\n",
        "print(X_test.head())\n",
        "\n",
        "del X_train, y_train, X_test, y_test"
      ]
    },
    {
      "cell_type": "markdown",
      "metadata": {
        "id": "IxaW1swoFGDB"
      },
      "source": [
        "### Model wrapper\n",
        "---"
      ]
    },
    {
      "cell_type": "code",
      "execution_count": 13,
      "metadata": {
        "id": "4oaj-4PeFGDC",
        "outputId": "d2c694c0-9da4-4e65-8d55-36af071d5572"
      },
      "outputs": [
        {
          "name": "stdout",
          "output_type": "stream",
          "text": [
            "Model: \"sequential\"\n",
            "_________________________________________________________________\n",
            " Layer (type)                Output Shape              Param #   \n",
            "=================================================================\n",
            " dense (Dense)               (None, 40)                400       \n",
            "                                                                 \n",
            " dense_1 (Dense)             (None, 40)                1640      \n",
            "                                                                 \n",
            " dense_2 (Dense)             (None, 20)                820       \n",
            "                                                                 \n",
            " dense_3 (Dense)             (None, 1)                 21        \n",
            "                                                                 \n",
            "=================================================================\n",
            "Total params: 2,881\n",
            "Trainable params: 2,881\n",
            "Non-trainable params: 0\n",
            "_________________________________________________________________\n"
          ]
        },
        {
          "name": "stderr",
          "output_type": "stream",
          "text": [
            "2023-05-03 22:06:50.998579: I tensorflow/compiler/xla/stream_executor/cuda/cuda_gpu_executor.cc:982] could not open file to read NUMA node: /sys/bus/pci/devices/0000:01:00.0/numa_node\n",
            "Your kernel may have been built without NUMA support.\n",
            "2023-05-03 22:06:51.084368: I tensorflow/compiler/xla/stream_executor/cuda/cuda_gpu_executor.cc:982] could not open file to read NUMA node: /sys/bus/pci/devices/0000:01:00.0/numa_node\n",
            "Your kernel may have been built without NUMA support.\n",
            "2023-05-03 22:06:51.084443: I tensorflow/compiler/xla/stream_executor/cuda/cuda_gpu_executor.cc:982] could not open file to read NUMA node: /sys/bus/pci/devices/0000:01:00.0/numa_node\n",
            "Your kernel may have been built without NUMA support.\n",
            "2023-05-03 22:06:51.087624: I tensorflow/compiler/xla/stream_executor/cuda/cuda_gpu_executor.cc:982] could not open file to read NUMA node: /sys/bus/pci/devices/0000:01:00.0/numa_node\n",
            "Your kernel may have been built without NUMA support.\n",
            "2023-05-03 22:06:51.087726: I tensorflow/compiler/xla/stream_executor/cuda/cuda_gpu_executor.cc:982] could not open file to read NUMA node: /sys/bus/pci/devices/0000:01:00.0/numa_node\n",
            "Your kernel may have been built without NUMA support.\n",
            "2023-05-03 22:06:51.087769: I tensorflow/compiler/xla/stream_executor/cuda/cuda_gpu_executor.cc:982] could not open file to read NUMA node: /sys/bus/pci/devices/0000:01:00.0/numa_node\n",
            "Your kernel may have been built without NUMA support.\n",
            "2023-05-03 22:06:52.198892: I tensorflow/compiler/xla/stream_executor/cuda/cuda_gpu_executor.cc:982] could not open file to read NUMA node: /sys/bus/pci/devices/0000:01:00.0/numa_node\n",
            "Your kernel may have been built without NUMA support.\n",
            "2023-05-03 22:06:52.199175: I tensorflow/compiler/xla/stream_executor/cuda/cuda_gpu_executor.cc:982] could not open file to read NUMA node: /sys/bus/pci/devices/0000:01:00.0/numa_node\n",
            "Your kernel may have been built without NUMA support.\n",
            "2023-05-03 22:06:52.199196: I tensorflow/core/common_runtime/gpu/gpu_device.cc:1722] Could not identify NUMA node of platform GPU id 0, defaulting to 0.  Your kernel may not have been built with NUMA support.\n",
            "2023-05-03 22:06:52.199358: I tensorflow/compiler/xla/stream_executor/cuda/cuda_gpu_executor.cc:982] could not open file to read NUMA node: /sys/bus/pci/devices/0000:01:00.0/numa_node\n",
            "Your kernel may have been built without NUMA support.\n",
            "2023-05-03 22:06:52.199482: I tensorflow/core/common_runtime/gpu/gpu_device.cc:1635] Created device /job:localhost/replica:0/task:0/device:GPU:0 with 1562 MB memory:  -> device: 0, name: NVIDIA GeForce RTX 3050 Laptop GPU, pci bus id: 0000:01:00.0, compute capability: 8.6\n"
          ]
        }
      ],
      "source": [
        "def build_model(\n",
        "    nfeatures = 9,\n",
        "    units = [40, 40, 20], \n",
        "    activations = ['relu'] * 3, \n",
        "    compile = True,\n",
        "    loss = 'mean_squared_error',\n",
        "    optimizer = tf.optimizers.legacy.Adam(learning_rate = .05),\n",
        "    metrics = [\"mae\", 'mean_squared_error', r2_score], \n",
        "    run_eagerly = True\n",
        "    ):\n",
        "  \n",
        "  \"\"\"Construct a fully connected neural network and compile it.\n",
        "  \n",
        "  Parameters\n",
        "  ------------\n",
        "  nfeatures: int, optional\n",
        "    Number of input features. Default is 9.\n",
        "  units: list of int, optional\n",
        "    List of number of units of the hidden dense layers. The length of ``units`` defines the number of hidden layers. Default are 3 layers with 40, 40 an 20 units, respectively.\n",
        "  activations: list of str, optional\n",
        "    List of activation functions used in the hidden layers.\n",
        "  loss: str, optional\n",
        "    Used loss function for compiling.\n",
        "  optimizer: keras.optimizers, optional\n",
        "    Used optimizer for compiling.\n",
        "  metrics: list of str or sklearn.metrics\n",
        "    List of metrics for compiling.\n",
        "  run_eagerly: bool\n",
        "    Parameter for compiling\n",
        "\n",
        "  Return\n",
        "  ------------\n",
        "    model: keras.engine.sequential.Sequential\n",
        "      Keras sequential fully connected neural network. Already compiled.\n",
        "  \"\"\"\n",
        "  \n",
        "  # construct model\n",
        "  model = Sequential()\n",
        "  model.add(InputLayer(input_shape = [nfeatures]))\n",
        "  for ind in range(len(units)):\n",
        "    model.add(Dense(\n",
        "      units = units[ind], \n",
        "      activation = activations[ind]\n",
        "      ))\n",
        "  model.add(Dense(1))\n",
        "  \n",
        "  # compile model\n",
        "  if compile:\n",
        "    model.compile(\n",
        "      loss = loss,\n",
        "      optimizer = optimizer,\n",
        "      metrics = metrics,\n",
        "      run_eagerly = run_eagerly\n",
        "    )\n",
        "\n",
        "  return model\n",
        "\n",
        "build_model().summary()"
      ]
    },
    {
      "cell_type": "code",
      "execution_count": 14,
      "metadata": {
        "id": "XZyzoc48FGDC"
      },
      "outputs": [],
      "source": [
        "def train_model(model, X_train, y_train,\n",
        "    epochs           = 100,\n",
        "    batch_size       = 128,\n",
        "    shuffle          = True,\n",
        "    validation_split = 0.2,\n",
        "    verbose          = 0,\n",
        "    output_msr       = 'loss',\n",
        "    seed             = 42,\n",
        "    **kwargs\n",
        "    ):\n",
        "  \n",
        "  \"\"\"Compile and train a Keras neural network.\n",
        "  \n",
        "  For additional arguments see https://www.tensorflow.org/api_docs/python/tf/keras/Model#fit.\n",
        "\n",
        "  Parameters\n",
        "  ------------\n",
        "  model: keras.engine.sequential.Sequential\n",
        "  X_train: dataFrame\n",
        "  y_train: dataFrame\n",
        "  shuffle: bool\n",
        "  epochs: int\n",
        "  validation_split: float\n",
        "  verbose: int\n",
        "    verbose of model.fit(...)\n",
        "  output_msr: str\n",
        "    measure for custom output.\n",
        "  batch_size: int\n",
        "    batch_size of model.fit(...)   \n",
        "\n",
        "  Return\n",
        "  ------------\n",
        "    hist: keras.callbacks.History\n",
        "      History of model.fit(...)\n",
        "  \"\"\"\n",
        "\n",
        "  # fit with custom verbose\n",
        "  starttime = time.time()\n",
        "  \n",
        "  if seed != None: tf.keras.utils.set_random_seed(seed)\n",
        "\n",
        "  hist = model.fit(\n",
        "    X_train, \n",
        "    y_train,\n",
        "    batch_size = batch_size, \n",
        "    shuffle    = shuffle,\n",
        "    validation_split = validation_split,\n",
        "    epochs     = epochs,\n",
        "    verbose    = verbose, \n",
        "    **kwargs\n",
        "  )\n",
        "  print(\n",
        "      \"R^2  = %.4f, \" % hist.history[output_msr][-1],\n",
        "      \"time = %.1f sec\" % ((time.time() - starttime)))\n",
        "  \n",
        "  return hist"
      ]
    },
    {
      "cell_type": "code",
      "execution_count": 15,
      "metadata": {
        "id": "BzR_tzHxFGDD"
      },
      "outputs": [],
      "source": [
        "def test_model(model, X_test, y_test, \n",
        "               verbose = False):\n",
        "  \"\"\"\n",
        "  Parameters\n",
        "  ------------\n",
        "  model: keras.engine.sequential.Sequential\n",
        "    Fitted model.\n",
        "  X_test, y_test: dataFrame\n",
        "    Test data.\n",
        "  verbose: bool\n",
        "    Output control.\n",
        "\n",
        "  Output\n",
        "  ------------\n",
        "  perf: list of float\n",
        "    The test performances.\n",
        "  \"\"\"\n",
        "\n",
        "  start = time.time() \n",
        "  perf  = model.evaluate(X_test, y_test, verbose = 0)[1:]\n",
        "\n",
        "  if verbose: print('time - test: %.2f' % (time.time() - start / 60))\n",
        "  \n",
        "  return perf"
      ]
    },
    {
      "cell_type": "code",
      "execution_count": 16,
      "metadata": {
        "id": "VN4ljlBVFGDE"
      },
      "outputs": [],
      "source": [
        "def plot_perf(hist, msr = 'loss'):\n",
        "  \"\"\"Plot the training history and save the figure.\n",
        "  :param hist: The history object including the metrics to plot\n",
        "  :type hist: keras.callbacks.History\n",
        "  :param msr: The metrics to plot\n",
        "  :type msr: str, optional\n",
        "  \"\"\"\n",
        "  plt.plot(hist.history[msr])\n",
        "  plt.plot(hist.history['val_' + msr])\n",
        "  plt.ylabel(msr)\n",
        "  plt.xlabel('epoch')\n",
        "  plt.legend(['train', 'eval'], loc='upper left')"
      ]
    },
    {
      "cell_type": "markdown",
      "metadata": {
        "id": "8eefB96OFGDE"
      },
      "source": [
        "## Experiments\n",
        "---"
      ]
    },
    {
      "cell_type": "code",
      "execution_count": 17,
      "metadata": {},
      "outputs": [],
      "source": [
        "# logging path\n",
        "log_path = '../output/experiments' "
      ]
    },
    {
      "cell_type": "markdown",
      "metadata": {
        "id": "IWLS0m-0FGDE"
      },
      "source": [
        "### Centralized Model\n",
        "---"
      ]
    },
    {
      "cell_type": "code",
      "execution_count": 18,
      "metadata": {},
      "outputs": [],
      "source": [
        "experiment_name = '00_central'\n",
        "\n",
        "experiment_path = log_path + \"/\" + experiment_name + \"/\"\n",
        "if not os.path.exists(experiment_path + 'logs'): os.makedirs(experiment_path + 'logs')\n",
        "if not os.path.exists(experiment_path + 'models'): os.makedirs(experiment_path + 'models')\n",
        "if not os.path.exists(experiment_path + 'results'): os.makedirs(experiment_path + 'results')"
      ]
    },
    {
      "cell_type": "markdown",
      "metadata": {
        "id": "cApnRAy5FGDF"
      },
      "source": [
        "#### Training"
      ]
    },
    {
      "cell_type": "code",
      "execution_count": 19,
      "metadata": {
        "id": "XxQvmdMhFGDF",
        "outputId": "27974865-682f-4dcf-d65a-e7212662adc2"
      },
      "outputs": [
        {
          "name": "stdout",
          "output_type": "stream",
          "text": [
            "======= rep 0 - fold 0  =======\n"
          ]
        },
        {
          "name": "stderr",
          "output_type": "stream",
          "text": [
            "2023-05-03 22:06:54.323527: I tensorflow/compiler/xla/stream_executor/cuda/cuda_blas.cc:637] TensorFloat-32 will be used for the matrix multiplication. This will only be logged once.\n"
          ]
        },
        {
          "name": "stdout",
          "output_type": "stream",
          "text": [
            "R^2  = 0.8435,  time = 41.9 sec\n",
            "======= rep 0 - fold 1  =======\n",
            "R^2  = 0.8660,  time = 43.2 sec\n",
            "======= rep 0 - fold 2  =======\n",
            "R^2  = 0.8589,  time = 43.6 sec\n",
            "======= rep 0 - fold 3  =======\n",
            "R^2  = 0.8361,  time = 40.5 sec\n",
            "======= rep 0 - fold 4  =======\n",
            "R^2  = 0.8438,  time = 41.1 sec\n",
            "======= rep 1 - fold 0  =======\n",
            "R^2  = 0.8467,  time = 40.7 sec\n",
            "======= rep 1 - fold 1  =======\n",
            "R^2  = 0.8408,  time = 41.3 sec\n",
            "======= rep 1 - fold 2  =======\n",
            "R^2  = 0.8722,  time = 40.2 sec\n",
            "======= rep 1 - fold 3  =======\n",
            "R^2  = 0.8441,  time = 38.3 sec\n",
            "======= rep 1 - fold 4  =======\n",
            "R^2  = 0.8372,  time = 37.0 sec\n",
            "======= rep 2 - fold 0  =======\n",
            "R^2  = 0.8481,  time = 37.6 sec\n",
            "======= rep 2 - fold 1  =======\n",
            "R^2  = 0.8509,  time = 37.8 sec\n",
            "======= rep 2 - fold 2  =======\n",
            "R^2  = 0.8428,  time = 40.4 sec\n",
            "======= rep 2 - fold 3  =======\n",
            "R^2  = 0.8471,  time = 38.6 sec\n",
            "======= rep 2 - fold 4  =======\n",
            "R^2  = 0.8591,  time = 37.6 sec\n",
            "======= rep 3 - fold 0  =======\n",
            "R^2  = 0.8453,  time = 38.8 sec\n",
            "======= rep 3 - fold 1  =======\n",
            "R^2  = 0.8447,  time = 38.2 sec\n",
            "======= rep 3 - fold 2  =======\n",
            "R^2  = 0.8467,  time = 38.0 sec\n",
            "======= rep 3 - fold 3  =======\n",
            "R^2  = 0.8315,  time = 39.1 sec\n",
            "======= rep 3 - fold 4  =======\n",
            "R^2  = 0.8518,  time = 38.6 sec\n",
            "======= rep 4 - fold 0  =======\n",
            "R^2  = 0.8327,  time = 38.1 sec\n",
            "======= rep 4 - fold 1  =======\n",
            "R^2  = 0.8508,  time = 38.9 sec\n",
            "======= rep 4 - fold 2  =======\n",
            "R^2  = 0.8312,  time = 37.9 sec\n",
            "======= rep 4 - fold 3  =======\n",
            "R^2  = 0.8469,  time = 37.8 sec\n",
            "======= rep 4 - fold 4  =======\n",
            "R^2  = 0.8481,  time = 36.5 sec\n",
            "CPU times: user 15min 25s, sys: 51.8 s, total: 16min 17s\n",
            "Wall time: 16min 23s\n"
          ]
        }
      ],
      "source": [
        "%%time\n",
        "\n",
        "n_epochs = 100\n",
        "\n",
        "hists = []\n",
        "for rep, fold in product(range(nreps), range(nfolds)):\n",
        "    \n",
        "    id = \"r\" + str(rep) + \"f\" + str(fold)\n",
        "    print('======= rep %s - fold %s  =======' % (rep, fold))\n",
        "    \n",
        "    model            = build_model()\n",
        "    X_train, y_train = select_split(df, type = 'train', rep = rep, fold = fold)\n",
        "    \n",
        "    hist             = train_model(\n",
        "        model, X_train, y_train, \n",
        "        epochs = n_epochs, output_msr = \"r2_score\",\n",
        "        callbacks = [CSVLogger(experiment_path + \"logs/\" + id + '_log.csv'  , separator =\";\")]\n",
        "        )\n",
        "    model.save_weights(experiment_path + \"models/\" + id + '_weights.h5')\n",
        "    \n",
        "    hists.append(hist)"
      ]
    },
    {
      "cell_type": "markdown",
      "metadata": {
        "id": "pe2GBt9ZFGDF"
      },
      "source": [
        "#### Evaluation"
      ]
    },
    {
      "cell_type": "code",
      "execution_count": 20,
      "metadata": {
        "id": "W1aK-YeYFGDF"
      },
      "outputs": [],
      "source": [
        "# calculate the performance\n",
        "perfs = [None] * nreps * nfolds\n",
        "\n",
        "i = 0\n",
        "for rep, fold in product(range(nreps), range(nfolds)):\n",
        "  \n",
        "  model          = hists[i].model\n",
        "  X_test, y_test = select_split(df, type = 'test', rep = rep, fold = fold)\n",
        "  perfs[i]       = [rep, fold] + test_model(model, X_test, y_test)\n",
        "\n",
        "  i += 1\n",
        "\n",
        "# convert to DataFrame\n",
        "perfs = pd.DataFrame(perfs, columns = [\"rep\", \"fold\",\"MAE\", 'MSE', 'RSQ']).assign(\n",
        "    RMSE   = lambda x: np.sqrt(x.MSE),\n",
        "    RSQ_pct = lambda x: x.RSQ * 100\n",
        ")"
      ]
    },
    {
      "cell_type": "markdown",
      "metadata": {
        "id": "l2RVkMpyFGDG"
      },
      "source": [
        "##### Tables"
      ]
    },
    {
      "cell_type": "markdown",
      "metadata": {
        "id": "WiSdwX7GFGDG"
      },
      "source": [
        "**Overview**"
      ]
    },
    {
      "cell_type": "code",
      "execution_count": 21,
      "metadata": {
        "id": "y0qILz8eFGDG",
        "outputId": "4497d807-6bc5-467d-91f3-024327148cfc"
      },
      "outputs": [
        {
          "data": {
            "text/html": [
              "<div>\n",
              "<style scoped>\n",
              "    .dataframe tbody tr th:only-of-type {\n",
              "        vertical-align: middle;\n",
              "    }\n",
              "\n",
              "    .dataframe tbody tr th {\n",
              "        vertical-align: top;\n",
              "    }\n",
              "\n",
              "    .dataframe thead th {\n",
              "        text-align: right;\n",
              "    }\n",
              "</style>\n",
              "<table border=\"1\" class=\"dataframe\">\n",
              "  <thead>\n",
              "    <tr style=\"text-align: right;\">\n",
              "      <th></th>\n",
              "      <th>MAE</th>\n",
              "      <th>RMSE</th>\n",
              "      <th>RSQ_pct</th>\n",
              "    </tr>\n",
              "  </thead>\n",
              "  <tbody>\n",
              "    <tr>\n",
              "      <th>mean</th>\n",
              "      <td>2920.63</td>\n",
              "      <td>4884.58</td>\n",
              "      <td>80.95</td>\n",
              "    </tr>\n",
              "    <tr>\n",
              "      <th>std</th>\n",
              "      <td>278.54</td>\n",
              "      <td>393.78</td>\n",
              "      <td>3.76</td>\n",
              "    </tr>\n",
              "    <tr>\n",
              "      <th>min</th>\n",
              "      <td>2415.64</td>\n",
              "      <td>4364.85</td>\n",
              "      <td>74.33</td>\n",
              "    </tr>\n",
              "    <tr>\n",
              "      <th>25%</th>\n",
              "      <td>2716.87</td>\n",
              "      <td>4601.28</td>\n",
              "      <td>78.50</td>\n",
              "    </tr>\n",
              "    <tr>\n",
              "      <th>50%</th>\n",
              "      <td>2938.53</td>\n",
              "      <td>4776.70</td>\n",
              "      <td>80.67</td>\n",
              "    </tr>\n",
              "    <tr>\n",
              "      <th>75%</th>\n",
              "      <td>3087.47</td>\n",
              "      <td>5116.86</td>\n",
              "      <td>83.75</td>\n",
              "    </tr>\n",
              "    <tr>\n",
              "      <th>max</th>\n",
              "      <td>3485.93</td>\n",
              "      <td>5722.28</td>\n",
              "      <td>87.82</td>\n",
              "    </tr>\n",
              "  </tbody>\n",
              "</table>\n",
              "</div>"
            ],
            "text/plain": [
              "          MAE     RMSE  RSQ_pct\n",
              "mean  2920.63  4884.58    80.95\n",
              "std    278.54   393.78     3.76\n",
              "min   2415.64  4364.85    74.33\n",
              "25%   2716.87  4601.28    78.50\n",
              "50%   2938.53  4776.70    80.67\n",
              "75%   3087.47  5116.86    83.75\n",
              "max   3485.93  5722.28    87.82"
            ]
          },
          "execution_count": 21,
          "metadata": {},
          "output_type": "execute_result"
        }
      ],
      "source": [
        "res = perfs[['MAE', 'RMSE', 'RSQ_pct']].describe()[1:].round(2)\n",
        "res.to_csv(experiment_path + \"results/test_performance_overview.csv\", sep = \";\")\n",
        "res"
      ]
    },
    {
      "cell_type": "markdown",
      "metadata": {
        "id": "wbnubVe1FGDH"
      },
      "source": [
        "**All Evaluations**"
      ]
    },
    {
      "cell_type": "code",
      "execution_count": 22,
      "metadata": {
        "id": "mBmUvix9FGDH",
        "outputId": "330afe78-e567-4a60-e611-7e0b6ed7fc26"
      },
      "outputs": [
        {
          "data": {
            "text/html": [
              "<div>\n",
              "<style scoped>\n",
              "    .dataframe tbody tr th:only-of-type {\n",
              "        vertical-align: middle;\n",
              "    }\n",
              "\n",
              "    .dataframe tbody tr th {\n",
              "        vertical-align: top;\n",
              "    }\n",
              "\n",
              "    .dataframe thead th {\n",
              "        text-align: right;\n",
              "    }\n",
              "</style>\n",
              "<table border=\"1\" class=\"dataframe\">\n",
              "  <thead>\n",
              "    <tr style=\"text-align: right;\">\n",
              "      <th></th>\n",
              "      <th>rep</th>\n",
              "      <th>fold</th>\n",
              "      <th>MAE</th>\n",
              "      <th>RMSE</th>\n",
              "      <th>RSQ_pct</th>\n",
              "    </tr>\n",
              "  </thead>\n",
              "  <tbody>\n",
              "    <tr>\n",
              "      <th>7</th>\n",
              "      <td>1</td>\n",
              "      <td>2</td>\n",
              "      <td>3051.87</td>\n",
              "      <td>5713.26</td>\n",
              "      <td>74.33</td>\n",
              "    </tr>\n",
              "    <tr>\n",
              "      <th>21</th>\n",
              "      <td>4</td>\n",
              "      <td>1</td>\n",
              "      <td>3377.95</td>\n",
              "      <td>5722.28</td>\n",
              "      <td>74.42</td>\n",
              "    </tr>\n",
              "    <tr>\n",
              "      <th>1</th>\n",
              "      <td>0</td>\n",
              "      <td>1</td>\n",
              "      <td>2934.99</td>\n",
              "      <td>5329.23</td>\n",
              "      <td>75.89</td>\n",
              "    </tr>\n",
              "    <tr>\n",
              "      <th>16</th>\n",
              "      <td>3</td>\n",
              "      <td>1</td>\n",
              "      <td>3094.16</td>\n",
              "      <td>4681.83</td>\n",
              "      <td>76.71</td>\n",
              "    </tr>\n",
              "    <tr>\n",
              "      <th>17</th>\n",
              "      <td>3</td>\n",
              "      <td>2</td>\n",
              "      <td>3161.08</td>\n",
              "      <td>4932.93</td>\n",
              "      <td>78.36</td>\n",
              "    </tr>\n",
              "    <tr>\n",
              "      <th>6</th>\n",
              "      <td>1</td>\n",
              "      <td>1</td>\n",
              "      <td>3021.74</td>\n",
              "      <td>4945.16</td>\n",
              "      <td>78.48</td>\n",
              "    </tr>\n",
              "    <tr>\n",
              "      <th>12</th>\n",
              "      <td>2</td>\n",
              "      <td>2</td>\n",
              "      <td>2992.65</td>\n",
              "      <td>5032.36</td>\n",
              "      <td>78.50</td>\n",
              "    </tr>\n",
              "    <tr>\n",
              "      <th>4</th>\n",
              "      <td>0</td>\n",
              "      <td>4</td>\n",
              "      <td>2785.30</td>\n",
              "      <td>5116.86</td>\n",
              "      <td>78.59</td>\n",
              "    </tr>\n",
              "    <tr>\n",
              "      <th>19</th>\n",
              "      <td>3</td>\n",
              "      <td>4</td>\n",
              "      <td>3485.93</td>\n",
              "      <td>5425.76</td>\n",
              "      <td>78.63</td>\n",
              "    </tr>\n",
              "    <tr>\n",
              "      <th>23</th>\n",
              "      <td>4</td>\n",
              "      <td>3</td>\n",
              "      <td>3087.47</td>\n",
              "      <td>4873.19</td>\n",
              "      <td>78.81</td>\n",
              "    </tr>\n",
              "    <tr>\n",
              "      <th>15</th>\n",
              "      <td>3</td>\n",
              "      <td>0</td>\n",
              "      <td>3378.82</td>\n",
              "      <td>4771.07</td>\n",
              "      <td>79.26</td>\n",
              "    </tr>\n",
              "    <tr>\n",
              "      <th>10</th>\n",
              "      <td>2</td>\n",
              "      <td>0</td>\n",
              "      <td>2746.21</td>\n",
              "      <td>5264.38</td>\n",
              "      <td>80.64</td>\n",
              "    </tr>\n",
              "    <tr>\n",
              "      <th>13</th>\n",
              "      <td>2</td>\n",
              "      <td>3</td>\n",
              "      <td>2938.53</td>\n",
              "      <td>4741.70</td>\n",
              "      <td>80.67</td>\n",
              "    </tr>\n",
              "    <tr>\n",
              "      <th>8</th>\n",
              "      <td>1</td>\n",
              "      <td>3</td>\n",
              "      <td>3223.33</td>\n",
              "      <td>4501.06</td>\n",
              "      <td>81.72</td>\n",
              "    </tr>\n",
              "    <tr>\n",
              "      <th>22</th>\n",
              "      <td>4</td>\n",
              "      <td>2</td>\n",
              "      <td>2703.43</td>\n",
              "      <td>4776.70</td>\n",
              "      <td>82.08</td>\n",
              "    </tr>\n",
              "    <tr>\n",
              "      <th>0</th>\n",
              "      <td>0</td>\n",
              "      <td>0</td>\n",
              "      <td>2741.62</td>\n",
              "      <td>5335.08</td>\n",
              "      <td>82.39</td>\n",
              "    </tr>\n",
              "    <tr>\n",
              "      <th>14</th>\n",
              "      <td>2</td>\n",
              "      <td>4</td>\n",
              "      <td>2636.27</td>\n",
              "      <td>4601.28</td>\n",
              "      <td>82.69</td>\n",
              "    </tr>\n",
              "    <tr>\n",
              "      <th>11</th>\n",
              "      <td>2</td>\n",
              "      <td>1</td>\n",
              "      <td>2716.87</td>\n",
              "      <td>4842.51</td>\n",
              "      <td>82.97</td>\n",
              "    </tr>\n",
              "    <tr>\n",
              "      <th>5</th>\n",
              "      <td>1</td>\n",
              "      <td>0</td>\n",
              "      <td>2941.71</td>\n",
              "      <td>4609.89</td>\n",
              "      <td>83.75</td>\n",
              "    </tr>\n",
              "    <tr>\n",
              "      <th>3</th>\n",
              "      <td>0</td>\n",
              "      <td>3</td>\n",
              "      <td>2604.53</td>\n",
              "      <td>4417.68</td>\n",
              "      <td>84.51</td>\n",
              "    </tr>\n",
              "    <tr>\n",
              "      <th>20</th>\n",
              "      <td>4</td>\n",
              "      <td>0</td>\n",
              "      <td>2696.05</td>\n",
              "      <td>4393.20</td>\n",
              "      <td>84.95</td>\n",
              "    </tr>\n",
              "    <tr>\n",
              "      <th>2</th>\n",
              "      <td>0</td>\n",
              "      <td>2</td>\n",
              "      <td>2415.64</td>\n",
              "      <td>4364.85</td>\n",
              "      <td>84.96</td>\n",
              "    </tr>\n",
              "    <tr>\n",
              "      <th>9</th>\n",
              "      <td>1</td>\n",
              "      <td>4</td>\n",
              "      <td>3000.43</td>\n",
              "      <td>4568.59</td>\n",
              "      <td>85.06</td>\n",
              "    </tr>\n",
              "    <tr>\n",
              "      <th>18</th>\n",
              "      <td>3</td>\n",
              "      <td>3</td>\n",
              "      <td>2816.09</td>\n",
              "      <td>4532.69</td>\n",
              "      <td>87.65</td>\n",
              "    </tr>\n",
              "    <tr>\n",
              "      <th>24</th>\n",
              "      <td>4</td>\n",
              "      <td>4</td>\n",
              "      <td>2463.10</td>\n",
              "      <td>4621.07</td>\n",
              "      <td>87.82</td>\n",
              "    </tr>\n",
              "  </tbody>\n",
              "</table>\n",
              "</div>"
            ],
            "text/plain": [
              "    rep  fold      MAE     RMSE  RSQ_pct\n",
              "7     1     2  3051.87  5713.26    74.33\n",
              "21    4     1  3377.95  5722.28    74.42\n",
              "1     0     1  2934.99  5329.23    75.89\n",
              "16    3     1  3094.16  4681.83    76.71\n",
              "17    3     2  3161.08  4932.93    78.36\n",
              "6     1     1  3021.74  4945.16    78.48\n",
              "12    2     2  2992.65  5032.36    78.50\n",
              "4     0     4  2785.30  5116.86    78.59\n",
              "19    3     4  3485.93  5425.76    78.63\n",
              "23    4     3  3087.47  4873.19    78.81\n",
              "15    3     0  3378.82  4771.07    79.26\n",
              "10    2     0  2746.21  5264.38    80.64\n",
              "13    2     3  2938.53  4741.70    80.67\n",
              "8     1     3  3223.33  4501.06    81.72\n",
              "22    4     2  2703.43  4776.70    82.08\n",
              "0     0     0  2741.62  5335.08    82.39\n",
              "14    2     4  2636.27  4601.28    82.69\n",
              "11    2     1  2716.87  4842.51    82.97\n",
              "5     1     0  2941.71  4609.89    83.75\n",
              "3     0     3  2604.53  4417.68    84.51\n",
              "20    4     0  2696.05  4393.20    84.95\n",
              "2     0     2  2415.64  4364.85    84.96\n",
              "9     1     4  3000.43  4568.59    85.06\n",
              "18    3     3  2816.09  4532.69    87.65\n",
              "24    4     4  2463.10  4621.07    87.82"
            ]
          },
          "execution_count": 22,
          "metadata": {},
          "output_type": "execute_result"
        }
      ],
      "source": [
        "perfs[[\"rep\", \"fold\",'MAE', 'RMSE', 'RSQ_pct']].sort_values('RSQ_pct').round(2)"
      ]
    },
    {
      "cell_type": "markdown",
      "metadata": {
        "id": "8e94Ea_MFGDH"
      },
      "source": [
        "##### Investigation"
      ]
    },
    {
      "cell_type": "code",
      "execution_count": 23,
      "metadata": {
        "id": "gAFfivvNFGDH",
        "outputId": "987bf15c-de69-4cff-e546-d68d5adfcfbb"
      },
      "outputs": [
        {
          "data": {
            "text/html": [
              "<div>\n",
              "<style scoped>\n",
              "    .dataframe tbody tr th:only-of-type {\n",
              "        vertical-align: middle;\n",
              "    }\n",
              "\n",
              "    .dataframe tbody tr th {\n",
              "        vertical-align: top;\n",
              "    }\n",
              "\n",
              "    .dataframe thead th {\n",
              "        text-align: right;\n",
              "    }\n",
              "</style>\n",
              "<table border=\"1\" class=\"dataframe\">\n",
              "  <thead>\n",
              "    <tr style=\"text-align: right;\">\n",
              "      <th></th>\n",
              "      <th>rep</th>\n",
              "      <th>fold</th>\n",
              "      <th>RSQ_train</th>\n",
              "      <th>RSQ_test</th>\n",
              "      <th>RSQ_eval</th>\n",
              "      <th>pct_diff_tt</th>\n",
              "      <th>mean_ttdiff_age</th>\n",
              "      <th>mean_ttdiff_sex</th>\n",
              "      <th>mean_ttdiff_bmi</th>\n",
              "      <th>mean_ttdiff_children</th>\n",
              "      <th>mean_ttdiff_smoker</th>\n",
              "      <th>mean_ttdiff_charges</th>\n",
              "    </tr>\n",
              "  </thead>\n",
              "  <tbody>\n",
              "    <tr>\n",
              "      <th>18</th>\n",
              "      <td>3</td>\n",
              "      <td>3</td>\n",
              "      <td>0.831540</td>\n",
              "      <td>0.876537</td>\n",
              "      <td>0.812819</td>\n",
              "      <td>-0.051335</td>\n",
              "      <td>0.022100</td>\n",
              "      <td>0.095347</td>\n",
              "      <td>0.000189</td>\n",
              "      <td>-0.060553</td>\n",
              "      <td>0.197668</td>\n",
              "      <td>0.064549</td>\n",
              "    </tr>\n",
              "    <tr>\n",
              "      <th>24</th>\n",
              "      <td>4</td>\n",
              "      <td>4</td>\n",
              "      <td>0.848071</td>\n",
              "      <td>0.878184</td>\n",
              "      <td>0.792547</td>\n",
              "      <td>-0.034291</td>\n",
              "      <td>0.031689</td>\n",
              "      <td>0.057167</td>\n",
              "      <td>0.010769</td>\n",
              "      <td>0.067814</td>\n",
              "      <td>0.350123</td>\n",
              "      <td>0.119249</td>\n",
              "    </tr>\n",
              "    <tr>\n",
              "      <th>20</th>\n",
              "      <td>4</td>\n",
              "      <td>0</td>\n",
              "      <td>0.832732</td>\n",
              "      <td>0.849548</td>\n",
              "      <td>0.844917</td>\n",
              "      <td>-0.019794</td>\n",
              "      <td>-0.019392</td>\n",
              "      <td>-0.058433</td>\n",
              "      <td>0.003965</td>\n",
              "      <td>0.071590</td>\n",
              "      <td>-0.152027</td>\n",
              "      <td>-0.056140</td>\n",
              "    </tr>\n",
              "    <tr>\n",
              "      <th>9</th>\n",
              "      <td>1</td>\n",
              "      <td>4</td>\n",
              "      <td>0.837222</td>\n",
              "      <td>0.850627</td>\n",
              "      <td>0.836103</td>\n",
              "      <td>-0.015760</td>\n",
              "      <td>-0.033809</td>\n",
              "      <td>0.057167</td>\n",
              "      <td>0.004975</td>\n",
              "      <td>0.024292</td>\n",
              "      <td>0.148758</td>\n",
              "      <td>0.010251</td>\n",
              "    </tr>\n",
              "    <tr>\n",
              "      <th>3</th>\n",
              "      <td>0</td>\n",
              "      <td>3</td>\n",
              "      <td>0.836059</td>\n",
              "      <td>0.845066</td>\n",
              "      <td>0.826699</td>\n",
              "      <td>-0.010658</td>\n",
              "      <td>0.084521</td>\n",
              "      <td>-0.063069</td>\n",
              "      <td>0.025432</td>\n",
              "      <td>-0.001466</td>\n",
              "      <td>0.100758</td>\n",
              "      <td>0.063132</td>\n",
              "    </tr>\n",
              "    <tr>\n",
              "      <th>5</th>\n",
              "      <td>1</td>\n",
              "      <td>0</td>\n",
              "      <td>0.846736</td>\n",
              "      <td>0.837538</td>\n",
              "      <td>0.817401</td>\n",
              "      <td>0.010982</td>\n",
              "      <td>0.040483</td>\n",
              "      <td>0.024108</td>\n",
              "      <td>-0.016223</td>\n",
              "      <td>-0.048271</td>\n",
              "      <td>-0.086909</td>\n",
              "      <td>-0.037292</td>\n",
              "    </tr>\n",
              "    <tr>\n",
              "      <th>2</th>\n",
              "      <td>0</td>\n",
              "      <td>2</td>\n",
              "      <td>0.858947</td>\n",
              "      <td>0.849606</td>\n",
              "      <td>0.844639</td>\n",
              "      <td>0.010994</td>\n",
              "      <td>-0.082120</td>\n",
              "      <td>0.109457</td>\n",
              "      <td>0.039859</td>\n",
              "      <td>0.028121</td>\n",
              "      <td>-0.173351</td>\n",
              "      <td>-0.102802</td>\n",
              "    </tr>\n",
              "    <tr>\n",
              "      <th>22</th>\n",
              "      <td>4</td>\n",
              "      <td>2</td>\n",
              "      <td>0.831230</td>\n",
              "      <td>0.820767</td>\n",
              "      <td>0.827319</td>\n",
              "      <td>0.012748</td>\n",
              "      <td>-0.034627</td>\n",
              "      <td>-0.022086</td>\n",
              "      <td>0.042950</td>\n",
              "      <td>-0.044088</td>\n",
              "      <td>0.002692</td>\n",
              "      <td>0.006854</td>\n",
              "    </tr>\n",
              "    <tr>\n",
              "      <th>0</th>\n",
              "      <td>0</td>\n",
              "      <td>0</td>\n",
              "      <td>0.843472</td>\n",
              "      <td>0.823947</td>\n",
              "      <td>0.806512</td>\n",
              "      <td>0.023696</td>\n",
              "      <td>0.023546</td>\n",
              "      <td>0.024108</td>\n",
              "      <td>-0.000275</td>\n",
              "      <td>-0.006120</td>\n",
              "      <td>0.317925</td>\n",
              "      <td>0.149049</td>\n",
              "    </tr>\n",
              "    <tr>\n",
              "      <th>11</th>\n",
              "      <td>2</td>\n",
              "      <td>1</td>\n",
              "      <td>0.850901</td>\n",
              "      <td>0.829726</td>\n",
              "      <td>0.832498</td>\n",
              "      <td>0.025521</td>\n",
              "      <td>0.085148</td>\n",
              "      <td>0.042827</td>\n",
              "      <td>0.017128</td>\n",
              "      <td>0.015226</td>\n",
              "      <td>-0.108809</td>\n",
              "      <td>-0.005258</td>\n",
              "    </tr>\n",
              "    <tr>\n",
              "      <th>8</th>\n",
              "      <td>1</td>\n",
              "      <td>3</td>\n",
              "      <td>0.844125</td>\n",
              "      <td>0.817198</td>\n",
              "      <td>0.809393</td>\n",
              "      <td>0.032951</td>\n",
              "      <td>0.011660</td>\n",
              "      <td>-0.017506</td>\n",
              "      <td>0.019953</td>\n",
              "      <td>-0.089577</td>\n",
              "      <td>-0.148056</td>\n",
              "      <td>-0.061477</td>\n",
              "    </tr>\n",
              "    <tr>\n",
              "      <th>14</th>\n",
              "      <td>2</td>\n",
              "      <td>4</td>\n",
              "      <td>0.859136</td>\n",
              "      <td>0.826924</td>\n",
              "      <td>0.821597</td>\n",
              "      <td>0.038954</td>\n",
              "      <td>0.052104</td>\n",
              "      <td>-0.035831</td>\n",
              "      <td>0.039994</td>\n",
              "      <td>0.081018</td>\n",
              "      <td>-0.015424</td>\n",
              "      <td>0.032672</td>\n",
              "    </tr>\n",
              "    <tr>\n",
              "      <th>13</th>\n",
              "      <td>2</td>\n",
              "      <td>3</td>\n",
              "      <td>0.847067</td>\n",
              "      <td>0.806689</td>\n",
              "      <td>0.856006</td>\n",
              "      <td>0.050054</td>\n",
              "      <td>0.026109</td>\n",
              "      <td>-0.125478</td>\n",
              "      <td>-0.046716</td>\n",
              "      <td>-0.039611</td>\n",
              "      <td>-0.190716</td>\n",
              "      <td>-0.104687</td>\n",
              "    </tr>\n",
              "    <tr>\n",
              "      <th>10</th>\n",
              "      <td>2</td>\n",
              "      <td>0</td>\n",
              "      <td>0.848064</td>\n",
              "      <td>0.806418</td>\n",
              "      <td>0.820342</td>\n",
              "      <td>0.051643</td>\n",
              "      <td>-0.127249</td>\n",
              "      <td>0.080687</td>\n",
              "      <td>-0.018192</td>\n",
              "      <td>-0.039898</td>\n",
              "      <td>0.167629</td>\n",
              "      <td>0.030073</td>\n",
              "    </tr>\n",
              "    <tr>\n",
              "      <th>15</th>\n",
              "      <td>3</td>\n",
              "      <td>0</td>\n",
              "      <td>0.845253</td>\n",
              "      <td>0.792596</td>\n",
              "      <td>0.833388</td>\n",
              "      <td>0.066437</td>\n",
              "      <td>0.028437</td>\n",
              "      <td>-0.111967</td>\n",
              "      <td>0.036564</td>\n",
              "      <td>0.054113</td>\n",
              "      <td>-0.064811</td>\n",
              "      <td>0.011428</td>\n",
              "    </tr>\n",
              "    <tr>\n",
              "      <th>6</th>\n",
              "      <td>1</td>\n",
              "      <td>1</td>\n",
              "      <td>0.840776</td>\n",
              "      <td>0.784793</td>\n",
              "      <td>0.843179</td>\n",
              "      <td>0.071336</td>\n",
              "      <td>0.048321</td>\n",
              "      <td>0.005528</td>\n",
              "      <td>0.007868</td>\n",
              "      <td>0.036755</td>\n",
              "      <td>-0.042514</td>\n",
              "      <td>0.031481</td>\n",
              "    </tr>\n",
              "    <tr>\n",
              "      <th>12</th>\n",
              "      <td>2</td>\n",
              "      <td>2</td>\n",
              "      <td>0.842760</td>\n",
              "      <td>0.785022</td>\n",
              "      <td>0.836666</td>\n",
              "      <td>0.073549</td>\n",
              "      <td>-0.030284</td>\n",
              "      <td>0.042827</td>\n",
              "      <td>0.008661</td>\n",
              "      <td>-0.014608</td>\n",
              "      <td>0.167629</td>\n",
              "      <td>0.050120</td>\n",
              "    </tr>\n",
              "    <tr>\n",
              "      <th>4</th>\n",
              "      <td>0</td>\n",
              "      <td>4</td>\n",
              "      <td>0.843830</td>\n",
              "      <td>0.785901</td>\n",
              "      <td>0.850021</td>\n",
              "      <td>0.073710</td>\n",
              "      <td>0.015209</td>\n",
              "      <td>-0.044944</td>\n",
              "      <td>-0.004838</td>\n",
              "      <td>0.028610</td>\n",
              "      <td>-0.211766</td>\n",
              "      <td>-0.063584</td>\n",
              "    </tr>\n",
              "    <tr>\n",
              "      <th>23</th>\n",
              "      <td>4</td>\n",
              "      <td>3</td>\n",
              "      <td>0.846856</td>\n",
              "      <td>0.788132</td>\n",
              "      <td>0.834707</td>\n",
              "      <td>0.074511</td>\n",
              "      <td>0.040194</td>\n",
              "      <td>0.104982</td>\n",
              "      <td>-0.032783</td>\n",
              "      <td>-0.097807</td>\n",
              "      <td>0.077091</td>\n",
              "      <td>-0.022008</td>\n",
              "    </tr>\n",
              "    <tr>\n",
              "      <th>17</th>\n",
              "      <td>3</td>\n",
              "      <td>2</td>\n",
              "      <td>0.846727</td>\n",
              "      <td>0.783607</td>\n",
              "      <td>0.847156</td>\n",
              "      <td>0.080551</td>\n",
              "      <td>-0.057735</td>\n",
              "      <td>0.005528</td>\n",
              "      <td>-0.003344</td>\n",
              "      <td>0.028121</td>\n",
              "      <td>-0.108809</td>\n",
              "      <td>-0.080556</td>\n",
              "    </tr>\n",
              "    <tr>\n",
              "      <th>19</th>\n",
              "      <td>3</td>\n",
              "      <td>4</td>\n",
              "      <td>0.851827</td>\n",
              "      <td>0.786298</td>\n",
              "      <td>0.849464</td>\n",
              "      <td>0.083338</td>\n",
              "      <td>0.010995</td>\n",
              "      <td>0.019553</td>\n",
              "      <td>-0.042372</td>\n",
              "      <td>-0.043814</td>\n",
              "      <td>-0.082632</td>\n",
              "      <td>0.011315</td>\n",
              "    </tr>\n",
              "    <tr>\n",
              "      <th>16</th>\n",
              "      <td>3</td>\n",
              "      <td>1</td>\n",
              "      <td>0.844732</td>\n",
              "      <td>0.767066</td>\n",
              "      <td>0.823037</td>\n",
              "      <td>0.101250</td>\n",
              "      <td>-0.002745</td>\n",
              "      <td>-0.003711</td>\n",
              "      <td>0.009492</td>\n",
              "      <td>0.023815</td>\n",
              "      <td>0.072070</td>\n",
              "      <td>-0.004328</td>\n",
              "    </tr>\n",
              "    <tr>\n",
              "      <th>1</th>\n",
              "      <td>0</td>\n",
              "      <td>1</td>\n",
              "      <td>0.865952</td>\n",
              "      <td>0.758861</td>\n",
              "      <td>0.849169</td>\n",
              "      <td>0.141122</td>\n",
              "      <td>-0.037663</td>\n",
              "      <td>-0.022086</td>\n",
              "      <td>-0.058967</td>\n",
              "      <td>-0.048271</td>\n",
              "      <td>0.002692</td>\n",
              "      <td>-0.037433</td>\n",
              "    </tr>\n",
              "    <tr>\n",
              "      <th>21</th>\n",
              "      <td>4</td>\n",
              "      <td>1</td>\n",
              "      <td>0.850810</td>\n",
              "      <td>0.744189</td>\n",
              "      <td>0.862514</td>\n",
              "      <td>0.143271</td>\n",
              "      <td>-0.016771</td>\n",
              "      <td>-0.076408</td>\n",
              "      <td>-0.024236</td>\n",
              "      <td>0.006665</td>\n",
              "      <td>-0.236210</td>\n",
              "      <td>-0.043786</td>\n",
              "    </tr>\n",
              "    <tr>\n",
              "      <th>7</th>\n",
              "      <td>1</td>\n",
              "      <td>2</td>\n",
              "      <td>0.872248</td>\n",
              "      <td>0.743325</td>\n",
              "      <td>0.877983</td>\n",
              "      <td>0.173441</td>\n",
              "      <td>-0.064819</td>\n",
              "      <td>-0.067437</td>\n",
              "      <td>-0.016301</td>\n",
              "      <td>0.080374</td>\n",
              "      <td>0.143403</td>\n",
              "      <td>0.058839</td>\n",
              "    </tr>\n",
              "  </tbody>\n",
              "</table>\n",
              "</div>"
            ],
            "text/plain": [
              "    rep  fold  RSQ_train  RSQ_test  RSQ_eval  pct_diff_tt  mean_ttdiff_age  \\\n",
              "18    3     3   0.831540  0.876537  0.812819    -0.051335         0.022100   \n",
              "24    4     4   0.848071  0.878184  0.792547    -0.034291         0.031689   \n",
              "20    4     0   0.832732  0.849548  0.844917    -0.019794        -0.019392   \n",
              "9     1     4   0.837222  0.850627  0.836103    -0.015760        -0.033809   \n",
              "3     0     3   0.836059  0.845066  0.826699    -0.010658         0.084521   \n",
              "5     1     0   0.846736  0.837538  0.817401     0.010982         0.040483   \n",
              "2     0     2   0.858947  0.849606  0.844639     0.010994        -0.082120   \n",
              "22    4     2   0.831230  0.820767  0.827319     0.012748        -0.034627   \n",
              "0     0     0   0.843472  0.823947  0.806512     0.023696         0.023546   \n",
              "11    2     1   0.850901  0.829726  0.832498     0.025521         0.085148   \n",
              "8     1     3   0.844125  0.817198  0.809393     0.032951         0.011660   \n",
              "14    2     4   0.859136  0.826924  0.821597     0.038954         0.052104   \n",
              "13    2     3   0.847067  0.806689  0.856006     0.050054         0.026109   \n",
              "10    2     0   0.848064  0.806418  0.820342     0.051643        -0.127249   \n",
              "15    3     0   0.845253  0.792596  0.833388     0.066437         0.028437   \n",
              "6     1     1   0.840776  0.784793  0.843179     0.071336         0.048321   \n",
              "12    2     2   0.842760  0.785022  0.836666     0.073549        -0.030284   \n",
              "4     0     4   0.843830  0.785901  0.850021     0.073710         0.015209   \n",
              "23    4     3   0.846856  0.788132  0.834707     0.074511         0.040194   \n",
              "17    3     2   0.846727  0.783607  0.847156     0.080551        -0.057735   \n",
              "19    3     4   0.851827  0.786298  0.849464     0.083338         0.010995   \n",
              "16    3     1   0.844732  0.767066  0.823037     0.101250        -0.002745   \n",
              "1     0     1   0.865952  0.758861  0.849169     0.141122        -0.037663   \n",
              "21    4     1   0.850810  0.744189  0.862514     0.143271        -0.016771   \n",
              "7     1     2   0.872248  0.743325  0.877983     0.173441        -0.064819   \n",
              "\n",
              "    mean_ttdiff_sex  mean_ttdiff_bmi  mean_ttdiff_children  \\\n",
              "18         0.095347         0.000189             -0.060553   \n",
              "24         0.057167         0.010769              0.067814   \n",
              "20        -0.058433         0.003965              0.071590   \n",
              "9          0.057167         0.004975              0.024292   \n",
              "3         -0.063069         0.025432             -0.001466   \n",
              "5          0.024108        -0.016223             -0.048271   \n",
              "2          0.109457         0.039859              0.028121   \n",
              "22        -0.022086         0.042950             -0.044088   \n",
              "0          0.024108        -0.000275             -0.006120   \n",
              "11         0.042827         0.017128              0.015226   \n",
              "8         -0.017506         0.019953             -0.089577   \n",
              "14        -0.035831         0.039994              0.081018   \n",
              "13        -0.125478        -0.046716             -0.039611   \n",
              "10         0.080687        -0.018192             -0.039898   \n",
              "15        -0.111967         0.036564              0.054113   \n",
              "6          0.005528         0.007868              0.036755   \n",
              "12         0.042827         0.008661             -0.014608   \n",
              "4         -0.044944        -0.004838              0.028610   \n",
              "23         0.104982        -0.032783             -0.097807   \n",
              "17         0.005528        -0.003344              0.028121   \n",
              "19         0.019553        -0.042372             -0.043814   \n",
              "16        -0.003711         0.009492              0.023815   \n",
              "1         -0.022086        -0.058967             -0.048271   \n",
              "21        -0.076408        -0.024236              0.006665   \n",
              "7         -0.067437        -0.016301              0.080374   \n",
              "\n",
              "    mean_ttdiff_smoker  mean_ttdiff_charges  \n",
              "18            0.197668             0.064549  \n",
              "24            0.350123             0.119249  \n",
              "20           -0.152027            -0.056140  \n",
              "9             0.148758             0.010251  \n",
              "3             0.100758             0.063132  \n",
              "5            -0.086909            -0.037292  \n",
              "2            -0.173351            -0.102802  \n",
              "22            0.002692             0.006854  \n",
              "0             0.317925             0.149049  \n",
              "11           -0.108809            -0.005258  \n",
              "8            -0.148056            -0.061477  \n",
              "14           -0.015424             0.032672  \n",
              "13           -0.190716            -0.104687  \n",
              "10            0.167629             0.030073  \n",
              "15           -0.064811             0.011428  \n",
              "6            -0.042514             0.031481  \n",
              "12            0.167629             0.050120  \n",
              "4            -0.211766            -0.063584  \n",
              "23            0.077091            -0.022008  \n",
              "17           -0.108809            -0.080556  \n",
              "19           -0.082632             0.011315  \n",
              "16            0.072070            -0.004328  \n",
              "1             0.002692            -0.037433  \n",
              "21           -0.236210            -0.043786  \n",
              "7             0.143403             0.058839  "
            ]
          },
          "execution_count": 23,
          "metadata": {},
          "output_type": "execute_result"
        }
      ],
      "source": [
        "\n",
        "results = []\n",
        "\n",
        "i = 0\n",
        "for rep, fold in product(range(nreps), range(nfolds)):\n",
        "\n",
        "    results.append(\n",
        "        [rep, fold]+ [\n",
        "            hists[i].history['r2_score'][-1],\n",
        "            float(perfs[(perfs.rep ==rep) & (perfs.fold==fold)][\"RSQ\"]), \n",
        "            hists[i].history['val_r2_score'][-1], \n",
        "            \n",
        "             hists[i].history['r2_score'][-1] /  float(perfs[(perfs.rep ==rep) & (perfs.fold==fold)][\"RSQ\"])- 1\n",
        "            ] +\n",
        "        [x - 1 for x in \n",
        "        list(df.loc[df['rep'+str(rep)+'-fold'+str(fold)] == 'test', features[:5] + [target]].mean() /\n",
        "        df.loc[df['rep'+str(rep)+'-fold'+str(fold)] == 'train', features[:5] + [target]].mean())])\n",
        "    i += 1\n",
        "\n",
        "results = pd.DataFrame(\n",
        "    results, \n",
        "    columns = ['rep', 'fold', \"RSQ_train\",'RSQ_test', \"RSQ_eval\",  \"pct_diff_tt\"]+['mean_ttdiff_' + x for x in features[:5] + [target]]\n",
        "    )\n",
        "\n",
        "results.sort_values(\"pct_diff_tt\")\n",
        "\n",
        "# save all perfomances\n",
        "# pd.DataFrame(hists[0].history).iloc[-1]"
      ]
    },
    {
      "cell_type": "markdown",
      "metadata": {
        "id": "kEjUXsXRFGDH"
      },
      "source": [
        "##### Plots"
      ]
    },
    {
      "cell_type": "code",
      "execution_count": 24,
      "metadata": {
        "id": "q54En8I-FGDH",
        "outputId": "cff4f111-9b5d-4a73-da5e-2b0d523dede5"
      },
      "outputs": [
        {
          "data": {
            "image/png": "[encoded data removed]",
            "text/plain": [
              "<Figure size 640x480 with 1 Axes>"
            ]
          },
          "metadata": {},
          "output_type": "display_data"
        },
        {
          "data": {
            "text/plain": [
              "<Figure size 640x480 with 0 Axes>"
            ]
          },
          "metadata": {},
          "output_type": "display_data"
        }
      ],
      "source": [
        "\n",
        "y1 = np.array([hist.history[\"r2_score\"] for hist in hists])\n",
        "y2 = np.array([hist.history[\"val_r2_score\"] for hist in hists])\n",
        "\n",
        "plt.plot(np.quantile(y1,.5, axis = 0), label = 'median (train)', color = 'blue')\n",
        "plt.fill_between(range(1, n_epochs +1), np.quantile(y1,.05, axis = 0), np.quantile(y1,.95, axis = 0),color = 'blue', alpha = 0.15, label = '90 % CI (train)')\n",
        "plt.plot(np.quantile(y2,.5, axis = 0), label = 'median (eval)', color = 'orange')\n",
        "plt.fill_between(range(1, n_epochs +1), np.quantile(y2,.05, axis = 0), np.quantile(y2,.95, axis = 0),color = 'orange', alpha = 0.15, label = '90 % CI (eval)')\n",
        "#plt.fill_between(range(1, n_epochs +1), np.quantile(y,.0, axis = 0), np.quantile(y,1., axis = 0), color = 'blue', alpha = 0.15, label = '100-90-70 % CI')\n",
        "#plt.fill_between(range(1, n_epochs +1), np.quantile(y,.05 + .1, axis = 0), np.quantile(y,.95 - .1, axis = 0),color = 'blue', alpha = 0.15)\n",
        "#plt.fill_between(range(1, n_epochs +1), np.quantile(y,.0, axis = 0), np.quantile(y,1., axis = 0), color = 'orange', alpha = 0.15, label = '100-90-70 % CI')\n",
        "#plt.fill_between(range(1, n_epochs +1), np.quantile(y,.05 + .1, axis = 0), np.quantile(y,.95 - .1, axis = 0),color = 'blue', alpha = 0.15)\n",
        "\n",
        "plt.title('Training Performance (test median RSQ = ' + str(round(perfs[['RSQ_pct']].median()[0], 2))+ \" %)\")\n",
        "\n",
        "plt.legend()\n",
        "plt.ylim([0.5, 0.9])\n",
        "plt.show()\n",
        "plt.savefig(experiment_path + 'results/training_performance.png')"
      ]
    },
    {
      "cell_type": "code",
      "execution_count": 25,
      "metadata": {
        "id": "k3dLnwjzFGDI",
        "outputId": "b34916a8-04bd-47a5-a820-8d637dbe57ce"
      },
      "outputs": [],
      "source": [
        "# All plots (if needed)\n",
        "if False:\n",
        "  i = 0\n",
        "  for rep, fold in product(range(nreps), range(nfolds)):\n",
        "    plot_perf(hists[i], 'r2_score')\n",
        "    #plt.suptitle('Training Performance (test r2_score = ' + str(round(perfs[ind][2] * 100, 2))+ \" %)\")\n",
        "    #'Training Performance (test r2_score = ' + str(round(perfs[ind][2] * 100, 2))+ \" %)\")\n",
        "    plt.suptitle('Training Performance for rep = ' + str(rep) + ', fold = ' + str(fold))\n",
        "    plt.title(' (test RSQ = ' + str(round(perfs.loc[i,'RSQ_pct'], 2))+ \" %)\")\n",
        "    plt.ylim([0.5, 0.9])\n",
        "    plt.show()\n",
        "    i += 1"
      ]
    },
    {
      "cell_type": "markdown",
      "metadata": {
        "id": "YyQcOjAKFGDI"
      },
      "source": [
        "### Centralized (5 Features)"
      ]
    },
    {
      "cell_type": "code",
      "execution_count": 26,
      "metadata": {},
      "outputs": [],
      "source": [
        "experiment_name = '01_central5'\n",
        "\n",
        "experiment_path = log_path + \"/\" + experiment_name + \"/\"\n",
        "if not os.path.exists(experiment_path + 'logs'): os.makedirs(experiment_path + 'logs')\n",
        "if not os.path.exists(experiment_path + 'models'): os.makedirs(experiment_path + 'models')\n",
        "if not os.path.exists(experiment_path + 'results'): os.makedirs(experiment_path + 'results')"
      ]
    },
    {
      "cell_type": "code",
      "execution_count": 58,
      "metadata": {
        "id": "dQZfKn7GFGDI",
        "outputId": "e619adf4-47eb-41dc-f0a0-b6c759fa0fa4"
      },
      "outputs": [
        {
          "name": "stdout",
          "output_type": "stream",
          "text": [
            "======= rep 0 - fold 0  =======\n",
            "R^2  = 0.7583,  time = 17.7 sec\n",
            "======= rep 0 - fold 1  =======\n",
            "R^2  = 0.7267,  time = 17.9 sec\n",
            "======= rep 0 - fold 2  =======\n"
          ]
        }
      ],
      "source": [
        "%%time\n",
        "\n",
        "n_epochs = 100\n",
        "\n",
        "hists = []\n",
        "for rep, fold in product(range(nreps), range(nfolds)):\n",
        "    \n",
        "    id = \"r\" + str(rep) + \"f\" + str(fold)\n",
        "    print('======= rep %s - fold %s  =======' % (rep, fold))\n",
        "    \n",
        "    model          = build_model(nfeatures = 5)\n",
        "    X_train, y_train = select_split(df, features = features[:5], type = 'test', rep = rep, fold = fold)\n",
        "\n",
        "    \n",
        "    hist = train_model(\n",
        "        model, X_train, y_train, \n",
        "        epochs = n_epochs, output_msr = \"r2_score\",\n",
        "        callbacks = [CSVLogger(experiment_path + \"logs/\" + id + '_log.csv'  , separator =\";\")]\n",
        "        )\n",
        "    model.save_weights(experiment_path + \"models/\" + id + '_weights.h5')\n",
        "    \n",
        "    hists.append(hist)"
      ]
    },
    {
      "cell_type": "code",
      "execution_count": null,
      "metadata": {
        "id": "1kRy0lNJFGDI",
        "outputId": "0dd1350a-a6b9-4ade-af60-3cd63fe04f42"
      },
      "outputs": [
        {
          "data": {
            "text/html": [
              "<div>\n",
              "<style scoped>\n",
              "    .dataframe tbody tr th:only-of-type {\n",
              "        vertical-align: middle;\n",
              "    }\n",
              "\n",
              "    .dataframe tbody tr th {\n",
              "        vertical-align: top;\n",
              "    }\n",
              "\n",
              "    .dataframe thead th {\n",
              "        text-align: right;\n",
              "    }\n",
              "</style>\n",
              "<table border=\"1\" class=\"dataframe\">\n",
              "  <thead>\n",
              "    <tr style=\"text-align: right;\">\n",
              "      <th></th>\n",
              "      <th>MAE</th>\n",
              "      <th>RMSE</th>\n",
              "      <th>RSQ_pct</th>\n",
              "    </tr>\n",
              "  </thead>\n",
              "  <tbody>\n",
              "    <tr>\n",
              "      <th>mean</th>\n",
              "      <td>3809.04</td>\n",
              "      <td>5696.63</td>\n",
              "      <td>74.13</td>\n",
              "    </tr>\n",
              "    <tr>\n",
              "      <th>std</th>\n",
              "      <td>400.24</td>\n",
              "      <td>484.62</td>\n",
              "      <td>5.24</td>\n",
              "    </tr>\n",
              "    <tr>\n",
              "      <th>min</th>\n",
              "      <td>2831.14</td>\n",
              "      <td>4584.92</td>\n",
              "      <td>64.77</td>\n",
              "    </tr>\n",
              "    <tr>\n",
              "      <th>25%</th>\n",
              "      <td>3599.07</td>\n",
              "      <td>5482.38</td>\n",
              "      <td>70.79</td>\n",
              "    </tr>\n",
              "    <tr>\n",
              "      <th>50%</th>\n",
              "      <td>3826.77</td>\n",
              "      <td>5779.15</td>\n",
              "      <td>73.54</td>\n",
              "    </tr>\n",
              "    <tr>\n",
              "      <th>75%</th>\n",
              "      <td>4027.87</td>\n",
              "      <td>5877.14</td>\n",
              "      <td>76.64</td>\n",
              "    </tr>\n",
              "    <tr>\n",
              "      <th>max</th>\n",
              "      <td>4603.45</td>\n",
              "      <td>6842.29</td>\n",
              "      <td>85.01</td>\n",
              "    </tr>\n",
              "  </tbody>\n",
              "</table>\n",
              "</div>"
            ],
            "text/plain": [
              "          MAE     RMSE  RSQ_pct\n",
              "mean  3809.04  5696.63    74.13\n",
              "std    400.24   484.62     5.24\n",
              "min   2831.14  4584.92    64.77\n",
              "25%   3599.07  5482.38    70.79\n",
              "50%   3826.77  5779.15    73.54\n",
              "75%   4027.87  5877.14    76.64\n",
              "max   4603.45  6842.29    85.01"
            ]
          },
          "execution_count": 46,
          "metadata": {},
          "output_type": "execute_result"
        }
      ],
      "source": [
        "# calculate the performance\n",
        "perfs = [None] * nreps * nfolds\n",
        "\n",
        "i = 0\n",
        "for rep, fold in product(range(nreps), range(nfolds)):\n",
        "  \n",
        "  model          = hists[i].model\n",
        "  X_test, y_test = select_split(df, features = features[:5], type = 'test', rep = rep, fold = fold)\n",
        "  perfs[i]       = [rep, fold] + test_model(model, X_test, y_test)\n",
        "\n",
        "  i += 1\n",
        "\n",
        "# convert to DataFrame\n",
        "perfs = pd.DataFrame(perfs, columns = [\"rep\", \"fold\",\"MAE\", 'MSE', 'RSQ']).assign(\n",
        "    RMSE   = lambda x: np.sqrt(x.MSE),\n",
        "    RSQ_pct = lambda x: x.RSQ * 100\n",
        ")\n",
        "\n",
        "res = perfs[['MAE', 'RMSE', 'RSQ_pct']].describe()[1:].round(2)\n",
        "res.to_csv(experiment_path + \"results/test_performance_overview.csv\", sep = \";\")\n",
        "res "
      ]
    },
    {
      "cell_type": "code",
      "execution_count": null,
      "metadata": {
        "id": "A6aO1PrBFGDJ",
        "outputId": "cbaf8758-b8e9-473d-87f1-c8e102b82f84"
      },
      "outputs": [
        {
          "data": {
            "image/png": "[encoded data removed]",
            "text/plain": [
              "<Figure size 640x480 with 1 Axes>"
            ]
          },
          "metadata": {},
          "output_type": "display_data"
        },
        {
          "data": {
            "text/plain": [
              "<Figure size 640x480 with 0 Axes>"
            ]
          },
          "metadata": {},
          "output_type": "display_data"
        }
      ],
      "source": [
        "y1 = np.array([hist.history[\"r2_score\"] for hist in hists])\n",
        "y2 = np.array([hist.history[\"val_r2_score\"] for hist in hists])\n",
        "\n",
        "plt.plot(np.quantile(y1,.5, axis = 0), label = 'median (train)', color = 'blue')\n",
        "plt.fill_between(range(1, n_epochs +1), np.quantile(y1,.05, axis = 0), np.quantile(y1,.95, axis = 0),color = 'blue', alpha = 0.15, label = '90 % CI (train)')\n",
        "plt.plot(np.quantile(y2,.5, axis = 0), label = 'median (eval)', color = 'orange')\n",
        "plt.fill_between(range(1, n_epochs +1), np.quantile(y2,.05, axis = 0), np.quantile(y2,.95, axis = 0),color = 'orange', alpha = 0.15, label = '90 % CI (eval)')\n",
        "#plt.fill_between(range(1, n_epochs +1), np.quantile(y,.0, axis = 0), np.quantile(y,1., axis = 0), color = 'blue', alpha = 0.15, label = '100-90-70 % CI')\n",
        "#plt.fill_between(range(1, n_epochs +1), np.quantile(y,.05 + .1, axis = 0), np.quantile(y,.95 - .1, axis = 0),color = 'blue', alpha = 0.15)\n",
        "#plt.fill_between(range(1, n_epochs +1), np.quantile(y,.0, axis = 0), np.quantile(y,1., axis = 0), color = 'orange', alpha = 0.15, label = '100-90-70 % CI')\n",
        "#plt.fill_between(range(1, n_epochs +1), np.quantile(y,.05 + .1, axis = 0), np.quantile(y,.95 - .1, axis = 0),color = 'blue', alpha = 0.15)\n",
        "\n",
        "plt.title('Training Performance (test median RSQ = ' + str(round(perfs[['RSQ_pct']].median()[0], 2))+ \" %)\")\n",
        "\n",
        "plt.legend()\n",
        "plt.ylim([0.5, 0.9])\n",
        "plt.show()\n",
        "plt.savefig(experiment_path + 'results/training_performance.png')"
      ]
    },
    {
      "cell_type": "markdown",
      "metadata": {
        "id": "F6cYOFI8FGDJ"
      },
      "source": [
        "### Tuning\n",
        "---"
      ]
    },
    {
      "cell_type": "markdown",
      "metadata": {
        "id": "xgw7t-ixFGDJ"
      },
      "source": [
        "Is the centralized model improvable?\n",
        "\n",
        "- train_model(..., steps_per_epoch = 3) -> improves the result?\n",
        "- FIXME: What about random forests?\n",
        "- FIXME: Systematic tuning"
      ]
    },
    {
      "cell_type": "markdown",
      "metadata": {
        "id": "dJ9n8UTuFGDK"
      },
      "source": [
        "### Federated Learning\n",
        "---"
      ]
    },
    {
      "cell_type": "code",
      "execution_count": null,
      "metadata": {
        "id": "fKNhwlSvFGDK"
      },
      "outputs": [],
      "source": [
        "# Federated Learning"
      ]
    },
    {
      "cell_type": "code",
      "execution_count": 48,
      "metadata": {},
      "outputs": [],
      "source": [
        "test_size_per_region = 20\n",
        "\n",
        "NUM_CLIENTS = 4\n",
        "NUM_EPOCHS = 50\n",
        "BATCH_SIZE = 128\n",
        "SHUFFLE_BUFFER = 20\n",
        "PREFETCH_BUFFER = 5\n",
        "NUM_ROUNDS = 50\n",
        "RUN_NAME = f'0,8-3({NUM_ROUNDS})-{NUM_EPOCHS}-epochs-{BATCH_SIZE}-batch-WithRegion/'"
      ]
    },
    {
      "cell_type": "code",
      "execution_count": 49,
      "metadata": {},
      "outputs": [
        {
          "data": {
            "text/html": [
              "<div>\n",
              "<style scoped>\n",
              "    .dataframe tbody tr th:only-of-type {\n",
              "        vertical-align: middle;\n",
              "    }\n",
              "\n",
              "    .dataframe tbody tr th {\n",
              "        vertical-align: top;\n",
              "    }\n",
              "\n",
              "    .dataframe thead th {\n",
              "        text-align: right;\n",
              "    }\n",
              "</style>\n",
              "<table border=\"1\" class=\"dataframe\">\n",
              "  <thead>\n",
              "    <tr style=\"text-align: right;\">\n",
              "      <th></th>\n",
              "      <th>age</th>\n",
              "      <th>sex</th>\n",
              "      <th>bmi</th>\n",
              "      <th>children</th>\n",
              "      <th>smoker</th>\n",
              "      <th>region</th>\n",
              "      <th>charges</th>\n",
              "      <th>region0</th>\n",
              "      <th>region1</th>\n",
              "      <th>region2</th>\n",
              "      <th>...</th>\n",
              "      <th>rep3-fold0</th>\n",
              "      <th>rep3-fold1</th>\n",
              "      <th>rep3-fold2</th>\n",
              "      <th>rep3-fold3</th>\n",
              "      <th>rep3-fold4</th>\n",
              "      <th>rep4-fold0</th>\n",
              "      <th>rep4-fold1</th>\n",
              "      <th>rep4-fold2</th>\n",
              "      <th>rep4-fold3</th>\n",
              "      <th>rep4-fold4</th>\n",
              "    </tr>\n",
              "  </thead>\n",
              "  <tbody>\n",
              "    <tr>\n",
              "      <th>0</th>\n",
              "      <td>0.021739</td>\n",
              "      <td>0.0</td>\n",
              "      <td>0.321227</td>\n",
              "      <td>0.0</td>\n",
              "      <td>1.0</td>\n",
              "      <td>southwest</td>\n",
              "      <td>16884.92400</td>\n",
              "      <td>0.0</td>\n",
              "      <td>0.0</td>\n",
              "      <td>0.0</td>\n",
              "      <td>...</td>\n",
              "      <td>train</td>\n",
              "      <td>train</td>\n",
              "      <td>train</td>\n",
              "      <td>train</td>\n",
              "      <td>test</td>\n",
              "      <td>train</td>\n",
              "      <td>train</td>\n",
              "      <td>train</td>\n",
              "      <td>test</td>\n",
              "      <td>train</td>\n",
              "    </tr>\n",
              "    <tr>\n",
              "      <th>1</th>\n",
              "      <td>0.000000</td>\n",
              "      <td>1.0</td>\n",
              "      <td>0.479150</td>\n",
              "      <td>0.2</td>\n",
              "      <td>0.0</td>\n",
              "      <td>southeast</td>\n",
              "      <td>1725.55230</td>\n",
              "      <td>0.0</td>\n",
              "      <td>0.0</td>\n",
              "      <td>1.0</td>\n",
              "      <td>...</td>\n",
              "      <td>train</td>\n",
              "      <td>train</td>\n",
              "      <td>train</td>\n",
              "      <td>train</td>\n",
              "      <td>test</td>\n",
              "      <td>train</td>\n",
              "      <td>train</td>\n",
              "      <td>test</td>\n",
              "      <td>train</td>\n",
              "      <td>train</td>\n",
              "    </tr>\n",
              "    <tr>\n",
              "      <th>2</th>\n",
              "      <td>0.217391</td>\n",
              "      <td>1.0</td>\n",
              "      <td>0.458434</td>\n",
              "      <td>0.6</td>\n",
              "      <td>0.0</td>\n",
              "      <td>southeast</td>\n",
              "      <td>4449.46200</td>\n",
              "      <td>0.0</td>\n",
              "      <td>0.0</td>\n",
              "      <td>1.0</td>\n",
              "      <td>...</td>\n",
              "      <td>train</td>\n",
              "      <td>train</td>\n",
              "      <td>train</td>\n",
              "      <td>test</td>\n",
              "      <td>train</td>\n",
              "      <td>test</td>\n",
              "      <td>train</td>\n",
              "      <td>train</td>\n",
              "      <td>train</td>\n",
              "      <td>train</td>\n",
              "    </tr>\n",
              "    <tr>\n",
              "      <th>3</th>\n",
              "      <td>0.326087</td>\n",
              "      <td>1.0</td>\n",
              "      <td>0.181464</td>\n",
              "      <td>0.0</td>\n",
              "      <td>0.0</td>\n",
              "      <td>northwest</td>\n",
              "      <td>21984.47061</td>\n",
              "      <td>0.0</td>\n",
              "      <td>1.0</td>\n",
              "      <td>0.0</td>\n",
              "      <td>...</td>\n",
              "      <td>train</td>\n",
              "      <td>test</td>\n",
              "      <td>train</td>\n",
              "      <td>train</td>\n",
              "      <td>train</td>\n",
              "      <td>train</td>\n",
              "      <td>train</td>\n",
              "      <td>train</td>\n",
              "      <td>test</td>\n",
              "      <td>train</td>\n",
              "    </tr>\n",
              "    <tr>\n",
              "      <th>4</th>\n",
              "      <td>0.304348</td>\n",
              "      <td>1.0</td>\n",
              "      <td>0.347592</td>\n",
              "      <td>0.0</td>\n",
              "      <td>0.0</td>\n",
              "      <td>northwest</td>\n",
              "      <td>3866.85520</td>\n",
              "      <td>0.0</td>\n",
              "      <td>1.0</td>\n",
              "      <td>0.0</td>\n",
              "      <td>...</td>\n",
              "      <td>train</td>\n",
              "      <td>train</td>\n",
              "      <td>test</td>\n",
              "      <td>train</td>\n",
              "      <td>train</td>\n",
              "      <td>train</td>\n",
              "      <td>test</td>\n",
              "      <td>train</td>\n",
              "      <td>train</td>\n",
              "      <td>train</td>\n",
              "    </tr>\n",
              "  </tbody>\n",
              "</table>\n",
              "<p>5 rows × 36 columns</p>\n",
              "</div>"
            ],
            "text/plain": [
              "        age  sex       bmi  children  smoker     region      charges  region0  \\\n",
              "0  0.021739  0.0  0.321227       0.0     1.0  southwest  16884.92400      0.0   \n",
              "1  0.000000  1.0  0.479150       0.2     0.0  southeast   1725.55230      0.0   \n",
              "2  0.217391  1.0  0.458434       0.6     0.0  southeast   4449.46200      0.0   \n",
              "3  0.326087  1.0  0.181464       0.0     0.0  northwest  21984.47061      0.0   \n",
              "4  0.304348  1.0  0.347592       0.0     0.0  northwest   3866.85520      0.0   \n",
              "\n",
              "   region1  region2  ...  rep3-fold0 rep3-fold1 rep3-fold2 rep3-fold3  \\\n",
              "0      0.0      0.0  ...       train      train      train      train   \n",
              "1      0.0      1.0  ...       train      train      train      train   \n",
              "2      0.0      1.0  ...       train      train      train       test   \n",
              "3      1.0      0.0  ...       train       test      train      train   \n",
              "4      1.0      0.0  ...       train      train       test      train   \n",
              "\n",
              "  rep3-fold4 rep4-fold0 rep4-fold1 rep4-fold2 rep4-fold3 rep4-fold4  \n",
              "0       test      train      train      train       test      train  \n",
              "1       test      train      train       test      train      train  \n",
              "2      train       test      train      train      train      train  \n",
              "3      train      train      train      train       test      train  \n",
              "4      train      train       test      train      train      train  \n",
              "\n",
              "[5 rows x 36 columns]"
            ]
          },
          "execution_count": 49,
          "metadata": {},
          "output_type": "execute_result"
        }
      ],
      "source": [
        "df.head()"
      ]
    },
    {
      "cell_type": "code",
      "execution_count": 50,
      "metadata": {
        "id": "C_gsgCw3FGDK",
        "outputId": "33a47488-16d6-4d97-bbef-cc9e936c3240"
      },
      "outputs": [],
      "source": [
        "# Create test and train sets and put them into random_client_ds, use four clients which are independent of the region\n",
        "def get_dataset_random_region(dataset, num_clients=4, test_size_per_region=20):\n",
        "    \"\"\"Creates a list with client datasets independent of the region.\n",
        "\n",
        "    :param dataset: The dataset to get the regional data from\n",
        "    :type dataset: pandas.DataFrame\n",
        "    :param num_clients: the number of clients create (equal big datasets per client), default value is 4 clients\n",
        "    :type num_clients: int, optional\n",
        "    :param test_size_per_region: The amount of values to separate for testing, default are 20\n",
        "    :type test_size_per_region: int, optional\n",
        "    :return: List of the prepared dataset with one entry per region, the test values and labels for each region\n",
        "    :rtype: List of (tensorflow.python.data.ops.dataset_ops.PrefetchDataset, tuple of pandas.core.series.Series)\"\"\"\n",
        "    size_of_client_ds = int(dataset.shape[0] / num_clients)\n",
        "\n",
        "    dataset_to_split = dataset.copy()\n",
        "    dataset_to_split.pop(\"region\")\n",
        "    random_client_ds = []\n",
        "    for i in range(num_clients):\n",
        "        sampled = dataset_to_split.sample(n=size_of_client_ds)\n",
        "        dataset_to_split.drop(sampled.index)\n",
        "\n",
        "        X_test = sampled.head(test_size_per_region)\n",
        "        y_test = X_test.pop('charges')\n",
        "\n",
        "        X_train = sampled.tail(size_of_client_ds - test_size_per_region)\n",
        "        y_train = X_train.pop('charges')\n",
        "\n",
        "        fed_train_dataset = tf.data.Dataset.from_tensor_slices((tf.convert_to_tensor(X_train), tf.convert_to_tensor(y_train)))\n",
        "\n",
        "        train_set = fed_train_dataset.repeat(NUM_EPOCHS).shuffle(SHUFFLE_BUFFER, seed=1).batch(BATCH_SIZE).prefetch(PREFETCH_BUFFER)\n",
        "        test_set = (X_test, y_test)\n",
        "\n",
        "        random_client_ds.append((train_set, test_set))\n",
        "\n",
        "    return random_client_ds\n",
        "\n",
        "# errors\n",
        "#random_client_ds = get_dataset_random_region(df, num_clients=NUM_CLIENTS, test_size_per_region=test_size_per_region)"
      ]
    },
    {
      "cell_type": "code",
      "execution_count": null,
      "metadata": {},
      "outputs": [],
      "source": [
        "# -> tensored splits\n",
        "# use e.g. https://www.appsloveworld.com/tensorflow/9/how-to-create-federated-dataset-from-a-csv-file"
      ]
    },
    {
      "cell_type": "code",
      "execution_count": 51,
      "metadata": {},
      "outputs": [
        {
          "name": "stdout",
          "output_type": "stream",
          "text": [
            "Model: \"sequential_83\"\n",
            "_________________________________________________________________\n",
            " Layer (type)                Output Shape              Param #   \n",
            "=================================================================\n",
            " dense_332 (Dense)           (None, 40)                400       \n",
            "                                                                 \n",
            " dense_333 (Dense)           (None, 40)                1640      \n",
            "                                                                 \n",
            " dense_334 (Dense)           (None, 20)                820       \n",
            "                                                                 \n",
            " dense_335 (Dense)           (None, 1)                 21        \n",
            "                                                                 \n",
            "=================================================================\n",
            "Total params: 2,881\n",
            "Trainable params: 2,881\n",
            "Non-trainable params: 0\n",
            "_________________________________________________________________\n"
          ]
        }
      ],
      "source": [
        "build_model(compile = False).summary()"
      ]
    },
    {
      "cell_type": "code",
      "execution_count": 52,
      "metadata": {},
      "outputs": [
        {
          "data": {
            "text/plain": [
              "<keras.engine.sequential.Sequential at 0x7fb11c190220>"
            ]
          },
          "execution_count": 52,
          "metadata": {},
          "output_type": "execute_result"
        }
      ],
      "source": [
        "build_model(nfeatures = 5)"
      ]
    },
    {
      "cell_type": "code",
      "execution_count": 53,
      "metadata": {},
      "outputs": [],
      "source": [
        "\n",
        "# A helper function for federated learning\n",
        "def model_fn(input_features = 9):\n",
        "\n",
        "  # We _must_ create a new model here, and _not_ capture it from an external\n",
        "  # scope. TFF will call this within different graph contexts.\n",
        "  keras_model = build_model(\n",
        "          features = input_features\n",
        "  )\n",
        "  return tff.learning.models.from_keras_model(\n",
        "      keras_model,\n",
        "      # without region: \n",
        "      #input_spec = federated_insurance_data[0][0].element_spec,\n",
        "      input_spec = random_client_ds[0][0].element_spec,\n",
        "      loss = tf.keras.losses.MeanAbsoluteError(),\n",
        "      #loss = tf.keras.losses.MeanSquaredError(),\n",
        "      metrics = [tf.keras.metrics.MeanAbsoluteError()\n",
        "      #metrics = [tf.keras.losses.MeanSquaredError()\n",
        "      #,tfa.metrics.RSquare()\n",
        "      ]\n",
        "  )\n",
        "\n",
        "# Helper functions for different features as input\n",
        "def model_fn_5():\n",
        "    return model_fn(5)\n",
        "\n",
        "def model_fn_5_mod():\n",
        "  return model_fn(5, initializer = 'glorot_uniform', activation = 'relu')\n",
        "\n",
        "def model_fn_9():\n",
        "  return model_fn(9)\n",
        "\n",
        "def model_fn_9_mod():\n",
        "  return model_fn(9, initializer = 'glorot_uniform', activation = 'relu')"
      ]
    },
    {
      "cell_type": "code",
      "execution_count": 54,
      "metadata": {},
      "outputs": [
        {
          "ename": "TypeError",
          "evalue": "build_model() got an unexpected keyword argument 'features'",
          "output_type": "error",
          "traceback": [
            "\u001b[0;31m---------------------------------------------------------------------------\u001b[0m",
            "\u001b[0;31mTypeError\u001b[0m                                 Traceback (most recent call last)",
            "Cell \u001b[0;32mIn[54], line 6\u001b[0m\n\u001b[1;32m      1\u001b[0m \u001b[39m# Inputs\u001b[39;00m\n\u001b[1;32m      2\u001b[0m \u001b[39m# model_fn_9\u001b[39;00m\n\u001b[1;32m      3\u001b[0m \u001b[39m# random_client_ds\u001b[39;00m\n\u001b[1;32m      4\u001b[0m \n\u001b[1;32m      5\u001b[0m \u001b[39m# Create iterative learning process which will perform the federated learning\u001b[39;00m\n\u001b[0;32m----> 6\u001b[0m iterative_process \u001b[39m=\u001b[39m tff\u001b[39m.\u001b[39;49mlearning\u001b[39m.\u001b[39;49malgorithms\u001b[39m.\u001b[39;49mbuild_weighted_fed_avg(\n\u001b[1;32m      7\u001b[0m     model_fn_9,\n\u001b[1;32m      8\u001b[0m     client_optimizer_fn\u001b[39m=\u001b[39;49m\u001b[39mlambda\u001b[39;49;00m: tf\u001b[39m.\u001b[39;49moptimizers\u001b[39m.\u001b[39;49mAdam(learning_rate \u001b[39m=\u001b[39;49m \u001b[39m.05\u001b[39;49m),\n\u001b[1;32m      9\u001b[0m     server_optimizer_fn\u001b[39m=\u001b[39;49m\u001b[39mlambda\u001b[39;49;00m: tf\u001b[39m.\u001b[39;49moptimizers\u001b[39m.\u001b[39;49mAdam(learning_rate \u001b[39m=\u001b[39;49m \u001b[39m.05\u001b[39;49m),)\n\u001b[1;32m     11\u001b[0m state \u001b[39m=\u001b[39m iterative_process\u001b[39m.\u001b[39minitialize()\n\u001b[1;32m     13\u001b[0m \u001b[39m# Train the federated model with random clients\u001b[39;00m\n",
            "File \u001b[0;32m~/.asdf/installs/python/miniconda3-latest/envs/tf/lib/python3.9/site-packages/tensorflow_federated/python/learning/algorithms/fed_avg.py:204\u001b[0m, in \u001b[0;36mbuild_weighted_fed_avg\u001b[0;34m(model_fn, client_optimizer_fn, server_optimizer_fn, client_weighting, model_distributor, model_aggregator, metrics_aggregator, use_experimental_simulation_loop)\u001b[0m\n\u001b[1;32m    200\u001b[0m \u001b[39melse\u001b[39;00m:\n\u001b[1;32m    201\u001b[0m   py_typecheck\u001b[39m.\u001b[39mcheck_callable(model_fn)\n\u001b[1;32m    203\u001b[0m   \u001b[39m@tensorflow_computation\u001b[39;49m\u001b[39m.\u001b[39;49mtf_computation()\n\u001b[0;32m--> 204\u001b[0m   \u001b[39mdef\u001b[39;49;00m \u001b[39minitial_model_weights_fn\u001b[39;49m():\n\u001b[1;32m    205\u001b[0m     model \u001b[39m=\u001b[39;49m model_fn()  \u001b[39m# pytype: disable=not-callable\u001b[39;49;00m\n\u001b[1;32m    206\u001b[0m     \u001b[39mif\u001b[39;49;00m \u001b[39mnot\u001b[39;49;00m \u001b[39misinstance\u001b[39;49m(model, variable\u001b[39m.\u001b[39;49mVariableModel):\n",
            "File \u001b[0;32m~/.asdf/installs/python/miniconda3-latest/envs/tf/lib/python3.9/site-packages/tensorflow_federated/python/core/impl/computation/computation_wrapper.py:527\u001b[0m, in \u001b[0;36mComputationWrapper.__call__\u001b[0;34m(self, tff_internal_types, *args, **kwargs)\u001b[0m\n\u001b[1;32m    524\u001b[0m \u001b[39melse\u001b[39;00m:\n\u001b[1;32m    525\u001b[0m   \u001b[39m# Either we have a concrete parameter type, or this is no-arg function.\u001b[39;00m\n\u001b[1;32m    526\u001b[0m   parameter_type \u001b[39m=\u001b[39m _parameter_type(parameters, parameter_types)\n\u001b[0;32m--> 527\u001b[0m   wrapped_func \u001b[39m=\u001b[39m \u001b[39mself\u001b[39;49m\u001b[39m.\u001b[39;49m_strategy(\n\u001b[1;32m    528\u001b[0m       fn_to_wrap,\n\u001b[1;32m    529\u001b[0m       fn_name,\n\u001b[1;32m    530\u001b[0m       parameter_type,\n\u001b[1;32m    531\u001b[0m       unpack\u001b[39m=\u001b[39;49m\u001b[39mNone\u001b[39;49;00m,\n\u001b[1;32m    532\u001b[0m       \u001b[39m*\u001b[39;49m\u001b[39m*\u001b[39;49mkwargs,\n\u001b[1;32m    533\u001b[0m   )\n\u001b[1;32m    535\u001b[0m \u001b[39m# Copy the __doc__ attribute with the documentation in triple-quotes from\u001b[39;00m\n\u001b[1;32m    536\u001b[0m \u001b[39m# the decorated function.\u001b[39;00m\n\u001b[1;32m    537\u001b[0m wrapped_func\u001b[39m.\u001b[39m\u001b[39m__doc__\u001b[39m \u001b[39m=\u001b[39m \u001b[39mgetattr\u001b[39m(fn_to_wrap, \u001b[39m'\u001b[39m\u001b[39m__doc__\u001b[39m\u001b[39m'\u001b[39m, \u001b[39mNone\u001b[39;00m)\n",
            "File \u001b[0;32m~/.asdf/installs/python/miniconda3-latest/envs/tf/lib/python3.9/site-packages/tensorflow_federated/python/core/impl/computation/computation_wrapper.py:246\u001b[0m, in \u001b[0;36mPythonTracingStrategy.__call__\u001b[0;34m(self, fn_to_wrap, fn_name, parameter_type, unpack, **kwargs)\u001b[0m\n\u001b[1;32m    244\u001b[0m \u001b[39mtry\u001b[39;00m:\n\u001b[1;32m    245\u001b[0m   args, kwargs \u001b[39m=\u001b[39m unpack_arguments_fn(packed_args)\n\u001b[0;32m--> 246\u001b[0m   result \u001b[39m=\u001b[39m fn_to_wrap(\u001b[39m*\u001b[39;49margs, \u001b[39m*\u001b[39;49m\u001b[39m*\u001b[39;49mkwargs)\n\u001b[1;32m    247\u001b[0m   \u001b[39mif\u001b[39;00m result \u001b[39mis\u001b[39;00m \u001b[39mNone\u001b[39;00m:\n\u001b[1;32m    248\u001b[0m     \u001b[39mraise\u001b[39;00m ComputationReturnedNoneError(fn_to_wrap)\n",
            "File \u001b[0;32m~/.asdf/installs/python/miniconda3-latest/envs/tf/lib/python3.9/site-packages/tensorflow_federated/python/learning/algorithms/fed_avg.py:205\u001b[0m, in \u001b[0;36mbuild_weighted_fed_avg.<locals>.initial_model_weights_fn\u001b[0;34m()\u001b[0m\n\u001b[1;32m    203\u001b[0m \u001b[39m@tensorflow_computation\u001b[39m\u001b[39m.\u001b[39mtf_computation()\n\u001b[1;32m    204\u001b[0m \u001b[39mdef\u001b[39;00m \u001b[39minitial_model_weights_fn\u001b[39m():\n\u001b[0;32m--> 205\u001b[0m   model \u001b[39m=\u001b[39m model_fn()  \u001b[39m# pytype: disable=not-callable\u001b[39;00m\n\u001b[1;32m    206\u001b[0m   \u001b[39mif\u001b[39;00m \u001b[39mnot\u001b[39;00m \u001b[39misinstance\u001b[39m(model, variable\u001b[39m.\u001b[39mVariableModel):\n\u001b[1;32m    207\u001b[0m     \u001b[39mraise\u001b[39;00m \u001b[39mTypeError\u001b[39;00m(\n\u001b[1;32m    208\u001b[0m         \u001b[39m'\u001b[39m\u001b[39mWhen `model_fn` is a callable, it return instances of\u001b[39m\u001b[39m'\u001b[39m\n\u001b[1;32m    209\u001b[0m         \u001b[39m'\u001b[39m\u001b[39m tff.learning.models.VariableModel. Instead callable returned\u001b[39m\u001b[39m'\u001b[39m\n\u001b[1;32m    210\u001b[0m         \u001b[39mf\u001b[39m\u001b[39m'\u001b[39m\u001b[39m type: \u001b[39m\u001b[39m{\u001b[39;00m\u001b[39mtype\u001b[39m(model)\u001b[39m}\u001b[39;00m\u001b[39m'\u001b[39m\n\u001b[1;32m    211\u001b[0m     )\n",
            "Cell \u001b[0;32mIn[53], line 30\u001b[0m, in \u001b[0;36mmodel_fn_9\u001b[0;34m()\u001b[0m\n\u001b[1;32m     29\u001b[0m \u001b[39mdef\u001b[39;00m \u001b[39mmodel_fn_9\u001b[39m():\n\u001b[0;32m---> 30\u001b[0m   \u001b[39mreturn\u001b[39;00m model_fn(\u001b[39m9\u001b[39;49m)\n",
            "Cell \u001b[0;32mIn[53], line 6\u001b[0m, in \u001b[0;36mmodel_fn\u001b[0;34m(input_features)\u001b[0m\n\u001b[1;32m      2\u001b[0m \u001b[39mdef\u001b[39;00m \u001b[39mmodel_fn\u001b[39m(input_features \u001b[39m=\u001b[39m \u001b[39m9\u001b[39m):\n\u001b[1;32m      3\u001b[0m \n\u001b[1;32m      4\u001b[0m   \u001b[39m# We _must_ create a new model here, and _not_ capture it from an external\u001b[39;00m\n\u001b[1;32m      5\u001b[0m   \u001b[39m# scope. TFF will call this within different graph contexts.\u001b[39;00m\n\u001b[0;32m----> 6\u001b[0m   keras_model \u001b[39m=\u001b[39m build_model(\n\u001b[1;32m      7\u001b[0m           features \u001b[39m=\u001b[39;49m input_features\n\u001b[1;32m      8\u001b[0m   )\n\u001b[1;32m      9\u001b[0m   \u001b[39mreturn\u001b[39;00m tff\u001b[39m.\u001b[39mlearning\u001b[39m.\u001b[39mmodels\u001b[39m.\u001b[39mfrom_keras_model(\n\u001b[1;32m     10\u001b[0m       keras_model,\n\u001b[1;32m     11\u001b[0m       \u001b[39m# without region: \u001b[39;00m\n\u001b[0;32m   (...)\u001b[0m\n\u001b[1;32m     19\u001b[0m       ]\n\u001b[1;32m     20\u001b[0m   )\n",
            "\u001b[0;31mTypeError\u001b[0m: build_model() got an unexpected keyword argument 'features'"
          ]
        }
      ],
      "source": [
        "# Inputs\n",
        "# model_fn_9\n",
        "# random_client_ds\n",
        "\n",
        "# Create iterative learning process which will perform the federated learning\n",
        "iterative_process = tff.learning.algorithms.build_weighted_fed_avg(\n",
        "    model_fn_9,\n",
        "    client_optimizer_fn=lambda: tf.optimizers.Adam(learning_rate = .05),\n",
        "    server_optimizer_fn=lambda: tf.optimizers.Adam(learning_rate = .05),)\n",
        "\n",
        "state = iterative_process.initialize()\n",
        "\n",
        "# Train the federated model with random clients\n",
        "for round_num in tqdm.tqdm(range(1, NUM_ROUNDS)):\n",
        "    result = iterative_process.next(state, [f[0] for f in random_client_ds])\n",
        "    state = result.state\n",
        "    metrics = result.metrics\n",
        "    for name, value in metrics['client_work']['train'].items():\n",
        "        tf.summary.scalar(name, value, step=round_num)"
      ]
    }
  ],
  "metadata": {
    "colab": {
      "include_colab_link": true,
      "provenance": []
    },
    "kernelspec": {
      "display_name": "tf",
      "language": "python",
      "name": "python3"
    },
    "language_info": {
      "codemirror_mode": {
        "name": "ipython",
        "version": 3
      },
      "file_extension": ".py",
      "mimetype": "text/x-python",
      "name": "python",
      "nbconvert_exporter": "python",
      "pygments_lexer": "ipython3",
      "version": "3.9.16"
    },
    "orig_nbformat": 4
  },
  "nbformat": 4,
  "nbformat_minor": 0
}
