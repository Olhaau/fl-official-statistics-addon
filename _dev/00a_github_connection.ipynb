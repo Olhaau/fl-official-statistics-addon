{
  "nbformat": 4,
  "nbformat_minor": 0,
  "metadata": {
    "colab": {
      "provenance": [],
      "authorship_tag": "ABX9TyPKWMjYGn9shM3Hb2vmvmLq",
      "include_colab_link": true
    },
    "kernelspec": {
      "name": "python3",
      "display_name": "Python 3"
    },
    "language_info": {
      "name": "python"
    }
  },
  "cells": [
    {
      "cell_type": "markdown",
      "metadata": {
        "id": "view-in-github",
        "colab_type": "text"
      },
      "source": [
        "<a href=\"https://colab.research.google.com/github/Olhaau/fl-official-statistics-addon/blob/main/_dev/00a_github_connection.ipynb\" target=\"_parent\"><img src=\"https://colab.research.google.com/assets/colab-badge.svg\" alt=\"Open In Colab\"/></a>"
      ]
    },
    {
      "cell_type": "code",
      "source": [
        "!ls"
      ],
      "metadata": {
        "colab": {
          "base_uri": "https://localhost:8080/"
        },
        "id": "m9XakuQpwzs_",
        "outputId": "fbef317a-3066-4f14-a66c-8c66172a228b"
      },
      "execution_count": 1,
      "outputs": [
        {
          "output_type": "stream",
          "name": "stdout",
          "text": [
            "sample_data\n"
          ]
        }
      ]
    },
    {
      "cell_type": "markdown",
      "source": [
        "\n",
        "# Pull Github"
      ],
      "metadata": {
        "id": "LX1O73pPw89P"
      }
    },
    {
      "cell_type": "code",
      "source": [
        "from google.colab import drive\n",
        "\n",
        "# connect gdrive and the current runtime of colab\n",
        "drive.mount('/content/gdrive')\n",
        "%cd gdrive/My Drive\n",
        "\n",
        "# clone\n",
        "!git clone https://github.com/Olhaau/fl-official-statistics-addon\n",
        "# the repo gets cloned to gdrive and available in the current runtime \n",
        "%cd fl-official-statistics-addon\n",
        "\n",
        "# pull (the currenct version of the repo)\n",
        "!git pull"
      ],
      "metadata": {
        "colab": {
          "base_uri": "https://localhost:8080/"
        },
        "id": "jMjIIxkhxAAK",
        "outputId": "7251de15-dca7-4346-fc8e-d22df3298138"
      },
      "execution_count": 3,
      "outputs": [
        {
          "output_type": "stream",
          "name": "stdout",
          "text": [
            "Mounted at /content/gdrive\n"
          ]
        }
      ]
    },
    {
      "cell_type": "code",
      "source": [
        "!git pull"
      ],
      "metadata": {
        "colab": {
          "base_uri": "https://localhost:8080/"
        },
        "id": "TGh2GbQ93bPZ",
        "outputId": "626f071f-dfee-4b88-87db-649fd9640ae1"
      },
      "execution_count": 10,
      "outputs": [
        {
          "output_type": "stream",
          "name": "stdout",
          "text": [
            "remote: Enumerating objects: 5, done.\u001b[K\n",
            "remote: Counting objects:  20% (1/5)\u001b[K\rremote: Counting objects:  40% (2/5)\u001b[K\rremote: Counting objects:  60% (3/5)\u001b[K\rremote: Counting objects:  80% (4/5)\u001b[K\rremote: Counting objects: 100% (5/5)\u001b[K\rremote: Counting objects: 100% (5/5), done.\u001b[K\n",
            "remote: Compressing objects:  50% (1/2)\u001b[K\rremote: Compressing objects: 100% (2/2)\u001b[K\rremote: Compressing objects: 100% (2/2), done.\u001b[K\n",
            "remote: Total 4 (delta 1), reused 4 (delta 1), pack-reused 0\u001b[K\n",
            "Unpacking objects:  25% (1/4)\rUnpacking objects:  50% (2/4)\rUnpacking objects:  75% (3/4)\rUnpacking objects: 100% (4/4)\rUnpacking objects: 100% (4/4), 345 bytes | 7.00 KiB/s, done.\n",
            "From https://github.com/Olhaau/fl-official-statistics-addon\n",
            "   43a5df5..eebe192  main       -> origin/main\n",
            "Updating 43a5df5..eebe192\n",
            "Fast-forward\n",
            " _dev/Untitled.ipynb | 6 \u001b[32m++++++\u001b[m\n",
            " 1 file changed, 6 insertions(+)\n",
            " create mode 100644 _dev/Untitled.ipynb\n"
          ]
        }
      ]
    },
    {
      "cell_type": "markdown",
      "source": [
        "## Push Github"
      ],
      "metadata": {
        "id": "yQ6Jqz_a1uQ7"
      }
    },
    {
      "cell_type": "markdown",
      "source": [
        "After you have made changes to your notebook, you can commit and push them to the repository. To do so from within a Colab notebook, click File → Save a copy in GitHub. You will be prompted to add a commit message, and after you click OK, the notebook will be pushed to your repository.\n",
        "\n",
        "S. https://bebi103a.github.io/lessons/02/git_with_colab.html"
      ],
      "metadata": {
        "id": "AYqZsorq4Ah6"
      }
    },
    {
      "cell_type": "code",
      "source": [],
      "metadata": {
        "id": "bVRnQdyE39DZ"
      },
      "execution_count": null,
      "outputs": []
    },
    {
      "cell_type": "code",
      "source": [
        "#https://bebi103a.github.io/lessons/02/git_with_colab.html"
      ],
      "metadata": {
        "id": "t1bK8IZW1oUO"
      },
      "execution_count": null,
      "outputs": []
    }
  ]
}