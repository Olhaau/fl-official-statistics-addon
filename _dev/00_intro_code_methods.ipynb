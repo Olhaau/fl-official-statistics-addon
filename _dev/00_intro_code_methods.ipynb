{
 "cells": [
  {
   "cell_type": "markdown",
   "id": "838e4d92-e918-4985-b522-5833ebeba061",
   "metadata": {},
   "source": [
    "# Introduction in used Code and Methods\n",
    "---\n",
    "Federated Learning for Official Statistics"
   ]
  },
  {
   "cell_type": "markdown",
   "id": "43cd9eda-63e3-4a76-a79d-fb16acf77382",
   "metadata": {},
   "source": [
    "\n",
    "S. [01_insurance_prep_eda_baselines.ipynb](../_dev/01_insurance_prep_eda_baselines.ipynb)\n",
    "- Datenverarbeitung in Python, s. [01_insurance_prep_eda_baselines.ipynb#Preprocessing](<../_dev/01_insurance_prep_eda_baselines.ipynb#Preprocessing>)\n",
    "- Exkurs EDA, Baselines\n",
    "- dnn: tensorflow, keras, ...\n",
    "- Federated Learning tff"
   ]
  }
 ],
 "metadata": {
  "kernelspec": {
   "display_name": "Python 3 (ipykernel)",
   "language": "python",
   "name": "python3"
  },
  "language_info": {
   "codemirror_mode": {
    "name": "ipython",
    "version": 3
   },
   "file_extension": ".py",
   "mimetype": "text/x-python",
   "name": "python",
   "nbconvert_exporter": "python",
   "pygments_lexer": "ipython3",
   "version": "3.9.16"
  }
 },
 "nbformat": 4,
 "nbformat_minor": 5
}
