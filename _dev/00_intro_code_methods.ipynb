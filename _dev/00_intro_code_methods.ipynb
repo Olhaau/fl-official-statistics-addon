{
  "cells": [
    {
      "cell_type": "markdown",
      "metadata": {
        "id": "view-in-github",
        "colab_type": "text"
      },
      "source": [
        "<a href=\"https://colab.research.google.com/github/Olhaau/fl-official-statistics-addon/blob/main/_dev/00_intro_code_methods.ipynb\" target=\"_parent\"><img src=\"https://colab.research.google.com/assets/colab-badge.svg\" alt=\"Open In Colab\"/></a>"
      ]
    },
    {
      "cell_type": "markdown",
      "id": "838e4d92-e918-4985-b522-5833ebeba061",
      "metadata": {
        "id": "838e4d92-e918-4985-b522-5833ebeba061"
      },
      "source": [
        "# Introduction in used Code and Methods\n",
        "---\n",
        "Federated Learning for Official Statistics"
      ]
    },
    {
      "cell_type": "markdown",
      "source": [
        "- repo clone, push, pull\n",
        "- installations (different plattforms)\n",
        "- preprocess with pandas\n",
        "- (dask)\n",
        "- (AutoEda (dataprep.eda))\n",
        "- (AutoML for Baselines (Pycarat, TPot))\n",
        "- **Neural Networks with keras**\n",
        "  - dense, dropout layer\n",
        "  - optimization: loss, optimizer, learning rate\n",
        "  - activation function\n",
        "  - visualizations\n",
        "  - evaluation\n",
        "- **Federated Learning tensorflow-federated**\n",
        "  - split data and convert to tensors\n",
        "  - show the tensor object\n",
        "  - convert keras model to tensorflow model\n",
        "  - use weighted_fed_avg\n",
        "  - print the FL model\n",
        "  - training: train iteratively, show state\n",
        "  - evaluation\n",
        "\n",
        "\n",
        "  S. e.g. [01_insurance_prep_eda_baselines.ipynb#Preprocessing](<../_dev/01_insurance_prep_eda_baselines.ipynb#Preprocessing>)"
      ],
      "metadata": {
        "id": "mW-O2vtGysDG"
      },
      "id": "mW-O2vtGysDG"
    },
    {
      "cell_type": "markdown",
      "source": [
        "## Details and Examples"
      ],
      "metadata": {
        "id": "m7WzpKDQDrIX"
      },
      "id": "m7WzpKDQDrIX"
    },
    {
      "cell_type": "markdown",
      "source": [
        "### DNNs\n",
        "\n",
        "- **Dropout**: Regularisierungsmethode, Anteil eingehender units werden ausgeschaltet. S. [Wikipedia](https://de.wikipedia.org/wiki/Dropout_(k%C3%BCnstliches_neuronales_Netz))\n",
        "- **Learning Rate**: Schrittweite im Training, s. https://www.jeremyjordan.me/nn-learning-rate/\n",
        "- Tuning a keras model"
      ],
      "metadata": {
        "id": "dxfpG6fmDnEy"
      },
      "id": "dxfpG6fmDnEy"
    }
  ],
  "metadata": {
    "kernelspec": {
      "display_name": "Python 3 (ipykernel)",
      "language": "python",
      "name": "python3"
    },
    "language_info": {
      "codemirror_mode": {
        "name": "ipython",
        "version": 3
      },
      "file_extension": ".py",
      "mimetype": "text/x-python",
      "name": "python",
      "nbconvert_exporter": "python",
      "pygments_lexer": "ipython3",
      "version": "3.9.16"
    },
    "colab": {
      "provenance": [],
      "include_colab_link": true
    }
  },
  "nbformat": 4,
  "nbformat_minor": 5
}