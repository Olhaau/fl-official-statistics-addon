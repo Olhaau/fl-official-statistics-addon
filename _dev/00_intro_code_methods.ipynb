{
  "cells": [
    {
      "cell_type": "markdown",
      "id": "838e4d92-e918-4985-b522-5833ebeba061",
      "metadata": {
        "id": "838e4d92-e918-4985-b522-5833ebeba061"
      },
      "source": [
        "# Introduction in used Code and Methods\n",
        "---\n",
        "Federated Learning for Official Statistics"
      ]
    },
    {
      "cell_type": "markdown",
      "id": "376d3529-5e74-4506-ab6d-3c268bab3fc2",
      "metadata": {
        "execution": {
          "iopub.execute_input": "2023-03-29T06:20:24.385566Z",
          "iopub.status.busy": "2023-03-29T06:20:24.385566Z",
          "iopub.status.idle": "2023-03-29T06:20:24.440940Z",
          "shell.execute_reply": "2023-03-29T06:20:24.440940Z",
          "shell.execute_reply.started": "2023-03-29T06:20:24.385566Z"
        },
        "tags": [],
        "id": "376d3529-5e74-4506-ab6d-3c268bab3fc2"
      },
      "source": [
        "## DNNs\n",
        "\n",
        "- **Dropout**: Regularisierungsmethode, Anteil eingehender units werden ausgeschaltet. S. [Wikipedia](https://de.wikipedia.org/wiki/Dropout_(k%C3%BCnstliches_neuronales_Netz))\n",
        "- **Learning Rate**: Schrittweite im Training, s. https://www.jeremyjordan.me/nn-learning-rate/\n",
        "- Tuning a keras model"
      ]
    },
    {
      "cell_type": "markdown",
      "id": "43cd9eda-63e3-4a76-a79d-fb16acf77382",
      "metadata": {
        "id": "43cd9eda-63e3-4a76-a79d-fb16acf77382"
      },
      "source": [
        "\n",
        "S. [01_insurance_prep_eda_baselines.ipynb](../_dev/01_insurance_prep_eda_baselines.ipynb)\n",
        "- Datenverarbeitung in Python, s. [01_insurance_prep_eda_baselines.ipynb#Preprocessing](<../_dev/01_insurance_prep_eda_baselines.ipynb#Preprocessing>)\n",
        "- Exkurs EDA, Baselines\n",
        "- dnn: tensorflow, keras, ...\n",
        "- Federated Learning tff"
      ]
    },
    {
      "cell_type": "markdown",
      "source": [
        "- repo clone, push, pull\n",
        "- installations (different plattforms)\n",
        "- preprocess with pandas\n",
        "- (exkurs) dask\n",
        "- (exkurs) AutoEda (dataprep.eda)\n",
        "- (exkurs) AutoML for Baselines (Pycarat, TPot)\n",
        "- dnn with keras\n",
        "  - dense, dropout layer\n",
        "  - visualization\n",
        "  - learning rate"
      ],
      "metadata": {
        "id": "mW-O2vtGysDG"
      },
      "id": "mW-O2vtGysDG"
    }
  ],
  "metadata": {
    "kernelspec": {
      "display_name": "Python 3 (ipykernel)",
      "language": "python",
      "name": "python3"
    },
    "language_info": {
      "codemirror_mode": {
        "name": "ipython",
        "version": 3
      },
      "file_extension": ".py",
      "mimetype": "text/x-python",
      "name": "python",
      "nbconvert_exporter": "python",
      "pygments_lexer": "ipython3",
      "version": "3.9.16"
    },
    "colab": {
      "provenance": []
    }
  },
  "nbformat": 4,
  "nbformat_minor": 5
}