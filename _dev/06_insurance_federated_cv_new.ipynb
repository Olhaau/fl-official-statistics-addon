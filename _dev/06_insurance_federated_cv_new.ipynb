{
  "cells": [
    {
      "cell_type": "markdown",
      "metadata": {
        "id": "view-in-github",
        "colab_type": "text"
      },
      "source": [
        "<a href=\"https://colab.research.google.com/github/Olhaau/fl-official-statistics-addon/blob/main/_dev/06_insurance_federated_cv_new.ipynb\" target=\"_parent\"><img src=\"https://colab.research.google.com/assets/colab-badge.svg\" alt=\"Open In Colab\"/></a>"
      ]
    },
    {
      "cell_type": "markdown",
      "metadata": {
        "id": "Z1N2mtyx2Uxs"
      },
      "source": [
        "# Medical Insurance - a Federated Learning Use Case.\n",
        "\n",
        "Wrapup"
      ]
    },
    {
      "cell_type": "markdown",
      "metadata": {
        "id": "2qdJnO4M7VDO"
      },
      "source": [
        "## Setup\n",
        "---"
      ]
    },
    {
      "cell_type": "code",
      "execution_count": 6,
      "metadata": {
        "execution": {
          "iopub.execute_input": "2023-03-28T14:27:44.075055Z",
          "iopub.status.busy": "2023-03-28T14:27:44.075055Z",
          "iopub.status.idle": "2023-03-28T14:27:44.092127Z",
          "shell.execute_reply": "2023-03-28T14:27:44.092127Z",
          "shell.execute_reply.started": "2023-03-28T14:27:44.075055Z"
        },
        "tags": [],
        "id": "urYRSTDKV8Nl"
      },
      "outputs": [],
      "source": [
        "# Is a repo-clone and installs needed (e.g. in colabs)? \n",
        "need_clone_install = True"
      ]
    },
    {
      "cell_type": "markdown",
      "metadata": {
        "id": "aZQgDGzbd3pm"
      },
      "source": [
        "### Pull Repo"
      ]
    },
    {
      "cell_type": "code",
      "execution_count": 7,
      "metadata": {
        "colab": {
          "base_uri": "https://localhost:8080/"
        },
        "execution": {
          "iopub.execute_input": "2023-03-28T11:35:39.951921Z",
          "iopub.status.busy": "2023-03-28T11:35:39.950864Z",
          "iopub.status.idle": "2023-03-28T11:36:02.975338Z",
          "shell.execute_reply": "2023-03-28T11:36:02.974338Z",
          "shell.execute_reply.started": "2023-03-28T11:35:39.951921Z"
        },
        "id": "F5qBP638d0iR",
        "outputId": "e3e5b8cf-48dc-4aca-e579-10256dd21b2c",
        "tags": []
      },
      "outputs": [
        {
          "output_type": "stream",
          "name": "stdout",
          "text": [
            "Cloning into 'fl-official-statistics-addon'...\n",
            "remote: Enumerating objects: 938, done.\u001b[K\n",
            "remote: Counting objects: 100% (120/120), done.\u001b[K\n",
            "remote: Compressing objects: 100% (110/110), done.\u001b[K\n",
            "remote: Total 938 (delta 81), reused 14 (delta 10), pack-reused 818\u001b[K\n",
            "Receiving objects: 100% (938/938), 34.69 MiB | 17.04 MiB/s, done.\n",
            "Resolving deltas: 100% (441/441), done.\n",
            "/content/fl-official-statistics-addon/fl-official-statistics-addon\n",
            "Already up to date.\n"
          ]
        }
      ],
      "source": [
        "if need_clone_install:\n",
        "    import os\n",
        "    \n",
        "    # rm repo from gdrive\n",
        "    if os.path.exists(\"fl-official-statistics-addon\"):\n",
        "      %rm -r fl-official-statistics-addon\n",
        "\n",
        "    # clone\n",
        "    !git clone https://github.com/Olhaau/fl-official-statistics-addon\n",
        "    %cd fl-official-statistics-addon\n",
        "\n",
        "    # pull (the currenct version of the repo)\n",
        "    !git pull"
      ]
    },
    {
      "cell_type": "markdown",
      "metadata": {
        "id": "1d5TMrK67Xxv"
      },
      "source": [
        "### Installs"
      ]
    },
    {
      "cell_type": "code",
      "execution_count": 8,
      "metadata": {
        "id": "UQSYlSd47WaM",
        "colab": {
          "base_uri": "https://localhost:8080/"
        },
        "outputId": "ca4b7b0f-35d4-4531-9750-4623dca92082"
      },
      "outputs": [
        {
          "output_type": "stream",
          "name": "stdout",
          "text": [
            "Python 3.10.11\n"
          ]
        }
      ],
      "source": [
        "#if need_clone_install: \n",
        "  #!pip install --quiet nest_asyncio==1.5.6\n",
        "  #!pip install --quiet tensorflow_federated==0.20.0\n",
        "  #!pip install --quiet tensorflow_addons==0.20.0\n",
        "  # or !pip install -r requirements.txt\n",
        "\n",
        "# save with: !pip freeze > requirements.txt\n",
        "!python --version"
      ]
    },
    {
      "cell_type": "markdown",
      "metadata": {
        "id": "nUcRlUPV7bZi"
      },
      "source": [
        "### Imports"
      ]
    },
    {
      "cell_type": "code",
      "execution_count": 9,
      "metadata": {
        "id": "2zMmbNFf7Wc6"
      },
      "outputs": [],
      "source": [
        "import collections\n",
        "import numpy as np\n",
        "import pandas as pd\n",
        "import matplotlib.pyplot as plt\n",
        "import time\n",
        "import tqdm\n",
        "from sklearn.preprocessing import MinMaxScaler\n",
        "import tensorflow as tf\n",
        "#import tensorflow_federated as tff\n",
        "#from tensorflow_addons.metrics import RSquare\n",
        "#import tensorflow_addons as tfa\n",
        "#import nest_asyncio\n",
        "from sklearn.metrics import r2_score\n",
        "\n",
        "np.random.seed(0)"
      ]
    },
    {
      "cell_type": "markdown",
      "metadata": {
        "id": "XxFNFscq8O74"
      },
      "source": [
        "## Ingestion and data split\n",
        "---"
      ]
    },
    {
      "cell_type": "code",
      "execution_count": 10,
      "metadata": {
        "colab": {
          "base_uri": "https://localhost:8080/",
          "height": 206
        },
        "id": "C9zyHqiN9fCo",
        "outputId": "bad473ef-ab84-4c34-dfe4-f220b3868e0a"
      },
      "outputs": [
        {
          "output_type": "execute_result",
          "data": {
            "text/plain": [
              "        age  sex       bmi  children  smoker     region      charges  region0  \\\n",
              "0  0.021739  0.0  0.321227       0.0     1.0  southwest  16884.92400      0.0   \n",
              "1  0.000000  1.0  0.479150       0.2     0.0  southeast   1725.55230      0.0   \n",
              "2  0.217391  1.0  0.458434       0.6     0.0  southeast   4449.46200      0.0   \n",
              "3  0.326087  1.0  0.181464       0.0     0.0  northwest  21984.47061      0.0   \n",
              "4  0.304348  1.0  0.347592       0.0     0.0  northwest   3866.85520      0.0   \n",
              "\n",
              "   region1  region2  region3  \n",
              "0      0.0      0.0      1.0  \n",
              "1      0.0      1.0      0.0  \n",
              "2      0.0      1.0      0.0  \n",
              "3      1.0      0.0      0.0  \n",
              "4      1.0      0.0      0.0  "
            ],
            "text/html": [
              "\n",
              "  <div id=\"df-46446f20-bdf7-42e8-921f-129095290d93\">\n",
              "    <div class=\"colab-df-container\">\n",
              "      <div>\n",
              "<style scoped>\n",
              "    .dataframe tbody tr th:only-of-type {\n",
              "        vertical-align: middle;\n",
              "    }\n",
              "\n",
              "    .dataframe tbody tr th {\n",
              "        vertical-align: top;\n",
              "    }\n",
              "\n",
              "    .dataframe thead th {\n",
              "        text-align: right;\n",
              "    }\n",
              "</style>\n",
              "<table border=\"1\" class=\"dataframe\">\n",
              "  <thead>\n",
              "    <tr style=\"text-align: right;\">\n",
              "      <th></th>\n",
              "      <th>age</th>\n",
              "      <th>sex</th>\n",
              "      <th>bmi</th>\n",
              "      <th>children</th>\n",
              "      <th>smoker</th>\n",
              "      <th>region</th>\n",
              "      <th>charges</th>\n",
              "      <th>region0</th>\n",
              "      <th>region1</th>\n",
              "      <th>region2</th>\n",
              "      <th>region3</th>\n",
              "    </tr>\n",
              "  </thead>\n",
              "  <tbody>\n",
              "    <tr>\n",
              "      <th>0</th>\n",
              "      <td>0.021739</td>\n",
              "      <td>0.0</td>\n",
              "      <td>0.321227</td>\n",
              "      <td>0.0</td>\n",
              "      <td>1.0</td>\n",
              "      <td>southwest</td>\n",
              "      <td>16884.92400</td>\n",
              "      <td>0.0</td>\n",
              "      <td>0.0</td>\n",
              "      <td>0.0</td>\n",
              "      <td>1.0</td>\n",
              "    </tr>\n",
              "    <tr>\n",
              "      <th>1</th>\n",
              "      <td>0.000000</td>\n",
              "      <td>1.0</td>\n",
              "      <td>0.479150</td>\n",
              "      <td>0.2</td>\n",
              "      <td>0.0</td>\n",
              "      <td>southeast</td>\n",
              "      <td>1725.55230</td>\n",
              "      <td>0.0</td>\n",
              "      <td>0.0</td>\n",
              "      <td>1.0</td>\n",
              "      <td>0.0</td>\n",
              "    </tr>\n",
              "    <tr>\n",
              "      <th>2</th>\n",
              "      <td>0.217391</td>\n",
              "      <td>1.0</td>\n",
              "      <td>0.458434</td>\n",
              "      <td>0.6</td>\n",
              "      <td>0.0</td>\n",
              "      <td>southeast</td>\n",
              "      <td>4449.46200</td>\n",
              "      <td>0.0</td>\n",
              "      <td>0.0</td>\n",
              "      <td>1.0</td>\n",
              "      <td>0.0</td>\n",
              "    </tr>\n",
              "    <tr>\n",
              "      <th>3</th>\n",
              "      <td>0.326087</td>\n",
              "      <td>1.0</td>\n",
              "      <td>0.181464</td>\n",
              "      <td>0.0</td>\n",
              "      <td>0.0</td>\n",
              "      <td>northwest</td>\n",
              "      <td>21984.47061</td>\n",
              "      <td>0.0</td>\n",
              "      <td>1.0</td>\n",
              "      <td>0.0</td>\n",
              "      <td>0.0</td>\n",
              "    </tr>\n",
              "    <tr>\n",
              "      <th>4</th>\n",
              "      <td>0.304348</td>\n",
              "      <td>1.0</td>\n",
              "      <td>0.347592</td>\n",
              "      <td>0.0</td>\n",
              "      <td>0.0</td>\n",
              "      <td>northwest</td>\n",
              "      <td>3866.85520</td>\n",
              "      <td>0.0</td>\n",
              "      <td>1.0</td>\n",
              "      <td>0.0</td>\n",
              "      <td>0.0</td>\n",
              "    </tr>\n",
              "  </tbody>\n",
              "</table>\n",
              "</div>\n",
              "      <button class=\"colab-df-convert\" onclick=\"convertToInteractive('df-46446f20-bdf7-42e8-921f-129095290d93')\"\n",
              "              title=\"Convert this dataframe to an interactive table.\"\n",
              "              style=\"display:none;\">\n",
              "        \n",
              "  <svg xmlns=\"http://www.w3.org/2000/svg\" height=\"24px\"viewBox=\"0 0 24 24\"\n",
              "       width=\"24px\">\n",
              "    <path d=\"M0 0h24v24H0V0z\" fill=\"none\"/>\n",
              "    <path d=\"M18.56 5.44l.94 2.06.94-2.06 2.06-.94-2.06-.94-.94-2.06-.94 2.06-2.06.94zm-11 1L8.5 8.5l.94-2.06 2.06-.94-2.06-.94L8.5 2.5l-.94 2.06-2.06.94zm10 10l.94 2.06.94-2.06 2.06-.94-2.06-.94-.94-2.06-.94 2.06-2.06.94z\"/><path d=\"M17.41 7.96l-1.37-1.37c-.4-.4-.92-.59-1.43-.59-.52 0-1.04.2-1.43.59L10.3 9.45l-7.72 7.72c-.78.78-.78 2.05 0 2.83L4 21.41c.39.39.9.59 1.41.59.51 0 1.02-.2 1.41-.59l7.78-7.78 2.81-2.81c.8-.78.8-2.07 0-2.86zM5.41 20L4 18.59l7.72-7.72 1.47 1.35L5.41 20z\"/>\n",
              "  </svg>\n",
              "      </button>\n",
              "      \n",
              "  <style>\n",
              "    .colab-df-container {\n",
              "      display:flex;\n",
              "      flex-wrap:wrap;\n",
              "      gap: 12px;\n",
              "    }\n",
              "\n",
              "    .colab-df-convert {\n",
              "      background-color: #E8F0FE;\n",
              "      border: none;\n",
              "      border-radius: 50%;\n",
              "      cursor: pointer;\n",
              "      display: none;\n",
              "      fill: #1967D2;\n",
              "      height: 32px;\n",
              "      padding: 0 0 0 0;\n",
              "      width: 32px;\n",
              "    }\n",
              "\n",
              "    .colab-df-convert:hover {\n",
              "      background-color: #E2EBFA;\n",
              "      box-shadow: 0px 1px 2px rgba(60, 64, 67, 0.3), 0px 1px 3px 1px rgba(60, 64, 67, 0.15);\n",
              "      fill: #174EA6;\n",
              "    }\n",
              "\n",
              "    [theme=dark] .colab-df-convert {\n",
              "      background-color: #3B4455;\n",
              "      fill: #D2E3FC;\n",
              "    }\n",
              "\n",
              "    [theme=dark] .colab-df-convert:hover {\n",
              "      background-color: #434B5C;\n",
              "      box-shadow: 0px 1px 3px 1px rgba(0, 0, 0, 0.15);\n",
              "      filter: drop-shadow(0px 1px 2px rgba(0, 0, 0, 0.3));\n",
              "      fill: #FFFFFF;\n",
              "    }\n",
              "  </style>\n",
              "\n",
              "      <script>\n",
              "        const buttonEl =\n",
              "          document.querySelector('#df-46446f20-bdf7-42e8-921f-129095290d93 button.colab-df-convert');\n",
              "        buttonEl.style.display =\n",
              "          google.colab.kernel.accessAllowed ? 'block' : 'none';\n",
              "\n",
              "        async function convertToInteractive(key) {\n",
              "          const element = document.querySelector('#df-46446f20-bdf7-42e8-921f-129095290d93');\n",
              "          const dataTable =\n",
              "            await google.colab.kernel.invokeFunction('convertToInteractive',\n",
              "                                                     [key], {});\n",
              "          if (!dataTable) return;\n",
              "\n",
              "          const docLinkHtml = 'Like what you see? Visit the ' +\n",
              "            '<a target=\"_blank\" href=https://colab.research.google.com/notebooks/data_table.ipynb>data table notebook</a>'\n",
              "            + ' to learn more about interactive tables.';\n",
              "          element.innerHTML = '';\n",
              "          dataTable['output_type'] = 'display_data';\n",
              "          await google.colab.output.renderOutput(dataTable, element);\n",
              "          const docLink = document.createElement('div');\n",
              "          docLink.innerHTML = docLinkHtml;\n",
              "          element.appendChild(docLink);\n",
              "        }\n",
              "      </script>\n",
              "    </div>\n",
              "  </div>\n",
              "  "
            ]
          },
          "metadata": {},
          "execution_count": 10
        }
      ],
      "source": [
        "df = pd.read_csv(\"https://raw.githubusercontent.com/Olhaau/fl-official-statistics-addon/main/output/data/insurance-clean.csv\", index_col = 0)\n",
        "df.head()"
      ]
    },
    {
      "cell_type": "markdown",
      "source": [
        "### Train-Test-Split"
      ],
      "metadata": {
        "id": "BalpUUMRZ8MI"
      }
    },
    {
      "cell_type": "markdown",
      "source": [
        "Cross Validation s. \n",
        "https://medium.com/the-owl/k-fold-cross-validation-in-keras-3ec4a3a00538 "
      ],
      "metadata": {
        "id": "hci3QH0KaFjh"
      }
    },
    {
      "cell_type": "code",
      "source": [
        "from sklearn.model_selection import StratifiedKFold, RepeatedStratifiedKFold"
      ],
      "metadata": {
        "id": "aNEFAok3di_k"
      },
      "execution_count": 11,
      "outputs": []
    },
    {
      "cell_type": "code",
      "source": [
        "#nfolds = 5\n",
        "#cv = StratifiedKFold(n_splits = nfolds, random_state = 42, shuffle= True)\n",
        "#ind = 0\n",
        "#for train, test in cv.split(df, df.region):\n",
        "#  ind += 1\n",
        "#  df.loc[train, 'fold' + str(ind)] = 'train'\n",
        "#  df.loc[test,  'fold' + str(ind)] = 'test'\n"
      ],
      "metadata": {
        "id": "WlCTaN6coOen"
      },
      "execution_count": 12,
      "outputs": []
    },
    {
      "cell_type": "code",
      "source": [
        "nfolds = 5\n",
        "nreps = 2\n",
        "cv = RepeatedStratifiedKFold(n_splits = nfolds, n_repeats = nreps, random_state = 42)\n",
        "ind = 0\n",
        "for train, test in cv.split(df, df.region):\n",
        "  \n",
        "  label = 'rep' + str(int(np.floor(ind / nfolds))) + '-fold' + str(ind % nfolds)\n",
        "  df.loc[train, label] = 'train'\n",
        "  df.loc[test,  label] = 'test'\n",
        "  ind += 1"
      ],
      "metadata": {
        "id": "9bLCSCHYv-X0"
      },
      "execution_count": 13,
      "outputs": []
    },
    {
      "cell_type": "code",
      "source": [
        "df.columns"
      ],
      "metadata": {
        "colab": {
          "base_uri": "https://localhost:8080/"
        },
        "id": "_9nxaCJ30JLk",
        "outputId": "b91e5ab7-8fef-4c3e-f40c-ec99f15440c1"
      },
      "execution_count": 14,
      "outputs": [
        {
          "output_type": "execute_result",
          "data": {
            "text/plain": [
              "Index(['age', 'sex', 'bmi', 'children', 'smoker', 'region', 'charges',\n",
              "       'region0', 'region1', 'region2', 'region3', 'rep0-fold0', 'rep0-fold1',\n",
              "       'rep0-fold2', 'rep0-fold3', 'rep0-fold4', 'rep1-fold0', 'rep1-fold1',\n",
              "       'rep1-fold2', 'rep1-fold3', 'rep1-fold4'],\n",
              "      dtype='object')"
            ]
          },
          "metadata": {},
          "execution_count": 14
        }
      ]
    },
    {
      "cell_type": "code",
      "source": [
        "df.head()"
      ],
      "metadata": {
        "colab": {
          "base_uri": "https://localhost:8080/",
          "height": 297
        },
        "id": "KAjrYMiy007r",
        "outputId": "b0c88330-0017-4362-ecc2-e2f390f952f1"
      },
      "execution_count": 15,
      "outputs": [
        {
          "output_type": "execute_result",
          "data": {
            "text/plain": [
              "        age  sex       bmi  children  smoker     region      charges  region0  \\\n",
              "0  0.021739  0.0  0.321227       0.0     1.0  southwest  16884.92400      0.0   \n",
              "1  0.000000  1.0  0.479150       0.2     0.0  southeast   1725.55230      0.0   \n",
              "2  0.217391  1.0  0.458434       0.6     0.0  southeast   4449.46200      0.0   \n",
              "3  0.326087  1.0  0.181464       0.0     0.0  northwest  21984.47061      0.0   \n",
              "4  0.304348  1.0  0.347592       0.0     0.0  northwest   3866.85520      0.0   \n",
              "\n",
              "   region1  region2  ...  rep0-fold0 rep0-fold1 rep0-fold2 rep0-fold3  \\\n",
              "0      0.0      0.0  ...       train      train      train       test   \n",
              "1      0.0      1.0  ...       train      train      train      train   \n",
              "2      0.0      1.0  ...       train      train      train       test   \n",
              "3      1.0      0.0  ...       train      train      train       test   \n",
              "4      1.0      0.0  ...       train      train       test      train   \n",
              "\n",
              "  rep0-fold4 rep1-fold0 rep1-fold1 rep1-fold2 rep1-fold3 rep1-fold4  \n",
              "0      train       test      train      train      train      train  \n",
              "1       test      train      train      train      train       test  \n",
              "2      train      train      train      train       test      train  \n",
              "3      train      train      train      train      train       test  \n",
              "4      train       test      train      train      train      train  \n",
              "\n",
              "[5 rows x 21 columns]"
            ],
            "text/html": [
              "\n",
              "  <div id=\"df-59f6c003-4298-4da4-86b3-5f4d3d7dac1b\">\n",
              "    <div class=\"colab-df-container\">\n",
              "      <div>\n",
              "<style scoped>\n",
              "    .dataframe tbody tr th:only-of-type {\n",
              "        vertical-align: middle;\n",
              "    }\n",
              "\n",
              "    .dataframe tbody tr th {\n",
              "        vertical-align: top;\n",
              "    }\n",
              "\n",
              "    .dataframe thead th {\n",
              "        text-align: right;\n",
              "    }\n",
              "</style>\n",
              "<table border=\"1\" class=\"dataframe\">\n",
              "  <thead>\n",
              "    <tr style=\"text-align: right;\">\n",
              "      <th></th>\n",
              "      <th>age</th>\n",
              "      <th>sex</th>\n",
              "      <th>bmi</th>\n",
              "      <th>children</th>\n",
              "      <th>smoker</th>\n",
              "      <th>region</th>\n",
              "      <th>charges</th>\n",
              "      <th>region0</th>\n",
              "      <th>region1</th>\n",
              "      <th>region2</th>\n",
              "      <th>...</th>\n",
              "      <th>rep0-fold0</th>\n",
              "      <th>rep0-fold1</th>\n",
              "      <th>rep0-fold2</th>\n",
              "      <th>rep0-fold3</th>\n",
              "      <th>rep0-fold4</th>\n",
              "      <th>rep1-fold0</th>\n",
              "      <th>rep1-fold1</th>\n",
              "      <th>rep1-fold2</th>\n",
              "      <th>rep1-fold3</th>\n",
              "      <th>rep1-fold4</th>\n",
              "    </tr>\n",
              "  </thead>\n",
              "  <tbody>\n",
              "    <tr>\n",
              "      <th>0</th>\n",
              "      <td>0.021739</td>\n",
              "      <td>0.0</td>\n",
              "      <td>0.321227</td>\n",
              "      <td>0.0</td>\n",
              "      <td>1.0</td>\n",
              "      <td>southwest</td>\n",
              "      <td>16884.92400</td>\n",
              "      <td>0.0</td>\n",
              "      <td>0.0</td>\n",
              "      <td>0.0</td>\n",
              "      <td>...</td>\n",
              "      <td>train</td>\n",
              "      <td>train</td>\n",
              "      <td>train</td>\n",
              "      <td>test</td>\n",
              "      <td>train</td>\n",
              "      <td>test</td>\n",
              "      <td>train</td>\n",
              "      <td>train</td>\n",
              "      <td>train</td>\n",
              "      <td>train</td>\n",
              "    </tr>\n",
              "    <tr>\n",
              "      <th>1</th>\n",
              "      <td>0.000000</td>\n",
              "      <td>1.0</td>\n",
              "      <td>0.479150</td>\n",
              "      <td>0.2</td>\n",
              "      <td>0.0</td>\n",
              "      <td>southeast</td>\n",
              "      <td>1725.55230</td>\n",
              "      <td>0.0</td>\n",
              "      <td>0.0</td>\n",
              "      <td>1.0</td>\n",
              "      <td>...</td>\n",
              "      <td>train</td>\n",
              "      <td>train</td>\n",
              "      <td>train</td>\n",
              "      <td>train</td>\n",
              "      <td>test</td>\n",
              "      <td>train</td>\n",
              "      <td>train</td>\n",
              "      <td>train</td>\n",
              "      <td>train</td>\n",
              "      <td>test</td>\n",
              "    </tr>\n",
              "    <tr>\n",
              "      <th>2</th>\n",
              "      <td>0.217391</td>\n",
              "      <td>1.0</td>\n",
              "      <td>0.458434</td>\n",
              "      <td>0.6</td>\n",
              "      <td>0.0</td>\n",
              "      <td>southeast</td>\n",
              "      <td>4449.46200</td>\n",
              "      <td>0.0</td>\n",
              "      <td>0.0</td>\n",
              "      <td>1.0</td>\n",
              "      <td>...</td>\n",
              "      <td>train</td>\n",
              "      <td>train</td>\n",
              "      <td>train</td>\n",
              "      <td>test</td>\n",
              "      <td>train</td>\n",
              "      <td>train</td>\n",
              "      <td>train</td>\n",
              "      <td>train</td>\n",
              "      <td>test</td>\n",
              "      <td>train</td>\n",
              "    </tr>\n",
              "    <tr>\n",
              "      <th>3</th>\n",
              "      <td>0.326087</td>\n",
              "      <td>1.0</td>\n",
              "      <td>0.181464</td>\n",
              "      <td>0.0</td>\n",
              "      <td>0.0</td>\n",
              "      <td>northwest</td>\n",
              "      <td>21984.47061</td>\n",
              "      <td>0.0</td>\n",
              "      <td>1.0</td>\n",
              "      <td>0.0</td>\n",
              "      <td>...</td>\n",
              "      <td>train</td>\n",
              "      <td>train</td>\n",
              "      <td>train</td>\n",
              "      <td>test</td>\n",
              "      <td>train</td>\n",
              "      <td>train</td>\n",
              "      <td>train</td>\n",
              "      <td>train</td>\n",
              "      <td>train</td>\n",
              "      <td>test</td>\n",
              "    </tr>\n",
              "    <tr>\n",
              "      <th>4</th>\n",
              "      <td>0.304348</td>\n",
              "      <td>1.0</td>\n",
              "      <td>0.347592</td>\n",
              "      <td>0.0</td>\n",
              "      <td>0.0</td>\n",
              "      <td>northwest</td>\n",
              "      <td>3866.85520</td>\n",
              "      <td>0.0</td>\n",
              "      <td>1.0</td>\n",
              "      <td>0.0</td>\n",
              "      <td>...</td>\n",
              "      <td>train</td>\n",
              "      <td>train</td>\n",
              "      <td>test</td>\n",
              "      <td>train</td>\n",
              "      <td>train</td>\n",
              "      <td>test</td>\n",
              "      <td>train</td>\n",
              "      <td>train</td>\n",
              "      <td>train</td>\n",
              "      <td>train</td>\n",
              "    </tr>\n",
              "  </tbody>\n",
              "</table>\n",
              "<p>5 rows × 21 columns</p>\n",
              "</div>\n",
              "      <button class=\"colab-df-convert\" onclick=\"convertToInteractive('df-59f6c003-4298-4da4-86b3-5f4d3d7dac1b')\"\n",
              "              title=\"Convert this dataframe to an interactive table.\"\n",
              "              style=\"display:none;\">\n",
              "        \n",
              "  <svg xmlns=\"http://www.w3.org/2000/svg\" height=\"24px\"viewBox=\"0 0 24 24\"\n",
              "       width=\"24px\">\n",
              "    <path d=\"M0 0h24v24H0V0z\" fill=\"none\"/>\n",
              "    <path d=\"M18.56 5.44l.94 2.06.94-2.06 2.06-.94-2.06-.94-.94-2.06-.94 2.06-2.06.94zm-11 1L8.5 8.5l.94-2.06 2.06-.94-2.06-.94L8.5 2.5l-.94 2.06-2.06.94zm10 10l.94 2.06.94-2.06 2.06-.94-2.06-.94-.94-2.06-.94 2.06-2.06.94z\"/><path d=\"M17.41 7.96l-1.37-1.37c-.4-.4-.92-.59-1.43-.59-.52 0-1.04.2-1.43.59L10.3 9.45l-7.72 7.72c-.78.78-.78 2.05 0 2.83L4 21.41c.39.39.9.59 1.41.59.51 0 1.02-.2 1.41-.59l7.78-7.78 2.81-2.81c.8-.78.8-2.07 0-2.86zM5.41 20L4 18.59l7.72-7.72 1.47 1.35L5.41 20z\"/>\n",
              "  </svg>\n",
              "      </button>\n",
              "      \n",
              "  <style>\n",
              "    .colab-df-container {\n",
              "      display:flex;\n",
              "      flex-wrap:wrap;\n",
              "      gap: 12px;\n",
              "    }\n",
              "\n",
              "    .colab-df-convert {\n",
              "      background-color: #E8F0FE;\n",
              "      border: none;\n",
              "      border-radius: 50%;\n",
              "      cursor: pointer;\n",
              "      display: none;\n",
              "      fill: #1967D2;\n",
              "      height: 32px;\n",
              "      padding: 0 0 0 0;\n",
              "      width: 32px;\n",
              "    }\n",
              "\n",
              "    .colab-df-convert:hover {\n",
              "      background-color: #E2EBFA;\n",
              "      box-shadow: 0px 1px 2px rgba(60, 64, 67, 0.3), 0px 1px 3px 1px rgba(60, 64, 67, 0.15);\n",
              "      fill: #174EA6;\n",
              "    }\n",
              "\n",
              "    [theme=dark] .colab-df-convert {\n",
              "      background-color: #3B4455;\n",
              "      fill: #D2E3FC;\n",
              "    }\n",
              "\n",
              "    [theme=dark] .colab-df-convert:hover {\n",
              "      background-color: #434B5C;\n",
              "      box-shadow: 0px 1px 3px 1px rgba(0, 0, 0, 0.15);\n",
              "      filter: drop-shadow(0px 1px 2px rgba(0, 0, 0, 0.3));\n",
              "      fill: #FFFFFF;\n",
              "    }\n",
              "  </style>\n",
              "\n",
              "      <script>\n",
              "        const buttonEl =\n",
              "          document.querySelector('#df-59f6c003-4298-4da4-86b3-5f4d3d7dac1b button.colab-df-convert');\n",
              "        buttonEl.style.display =\n",
              "          google.colab.kernel.accessAllowed ? 'block' : 'none';\n",
              "\n",
              "        async function convertToInteractive(key) {\n",
              "          const element = document.querySelector('#df-59f6c003-4298-4da4-86b3-5f4d3d7dac1b');\n",
              "          const dataTable =\n",
              "            await google.colab.kernel.invokeFunction('convertToInteractive',\n",
              "                                                     [key], {});\n",
              "          if (!dataTable) return;\n",
              "\n",
              "          const docLinkHtml = 'Like what you see? Visit the ' +\n",
              "            '<a target=\"_blank\" href=https://colab.research.google.com/notebooks/data_table.ipynb>data table notebook</a>'\n",
              "            + ' to learn more about interactive tables.';\n",
              "          element.innerHTML = '';\n",
              "          dataTable['output_type'] = 'display_data';\n",
              "          await google.colab.output.renderOutput(dataTable, element);\n",
              "          const docLink = document.createElement('div');\n",
              "          docLink.innerHTML = docLinkHtml;\n",
              "          element.appendChild(docLink);\n",
              "        }\n",
              "      </script>\n",
              "    </div>\n",
              "  </div>\n",
              "  "
            ]
          },
          "metadata": {},
          "execution_count": 15
        }
      ]
    },
    {
      "cell_type": "markdown",
      "source": [
        "#### Check"
      ],
      "metadata": {
        "id": "CjpkYCkQvYs_"
      }
    },
    {
      "cell_type": "markdown",
      "source": [
        "Check of the train test ratios for each region and fold."
      ],
      "metadata": {
        "id": "NWztxlkm0sW4"
      }
    },
    {
      "cell_type": "code",
      "source": [
        "ptrains = []\n",
        "rep = 1\n",
        "\n",
        "for fold in range(nfolds):\n",
        "  label = 'rep'+ str(rep) +'-fold' + str(fold)\n",
        "  ntrain = sum(df[label] == 'train')\n",
        "  ntest = sum(df[label] == 'test')\n",
        "  ptrain = ntrain / (ntrain + ntest); ptrains.append(ptrain)\n",
        "  print(\n",
        "      '(region, fold) =  (%s, %s), ntrain = %s, ntest = %s, ptrain = %.2f %%' %\n",
        "      ('combined', fold, ntrain, ntest, ptrain * 100)\n",
        "  )\n",
        "print('=============================================================================')\n",
        "for region in df.region.unique():\n",
        "  for fold in range(5):\n",
        "    df_temp = df[df.region == region]\n",
        "    ntrain  = sum(df_temp[label] == 'train')\n",
        "    ntest   = sum(df_temp[label] == 'test')\n",
        "    ptrain  = ntrain / (ntrain + ntest); ptrains.append(ptrain)\n",
        "    print(\n",
        "        '(region, fold) = (%s, %s), ntrain =  %s, ntest =  %s, ptrain = %.2f %%' %\n",
        "        (region, fold, ntrain, ntest, ptrain * 100)\n",
        "    )\n"
      ],
      "metadata": {
        "colab": {
          "base_uri": "https://localhost:8080/"
        },
        "id": "ZWdfIbfEsvqp",
        "outputId": "2bd3a091-1904-426f-f1ef-f054c4e92424"
      },
      "execution_count": 16,
      "outputs": [
        {
          "output_type": "stream",
          "name": "stdout",
          "text": [
            "(region, fold) =  (combined, 0), ntrain = 1070, ntest = 268, ptrain = 79.97 %\n",
            "(region, fold) =  (combined, 1), ntrain = 1070, ntest = 268, ptrain = 79.97 %\n",
            "(region, fold) =  (combined, 2), ntrain = 1070, ntest = 268, ptrain = 79.97 %\n",
            "(region, fold) =  (combined, 3), ntrain = 1071, ntest = 267, ptrain = 80.04 %\n",
            "(region, fold) =  (combined, 4), ntrain = 1071, ntest = 267, ptrain = 80.04 %\n",
            "=============================================================================\n",
            "(region, fold) = (southwest, 0), ntrain =  260, ntest =  65, ptrain = 80.00 %\n",
            "(region, fold) = (southwest, 1), ntrain =  260, ntest =  65, ptrain = 80.00 %\n",
            "(region, fold) = (southwest, 2), ntrain =  260, ntest =  65, ptrain = 80.00 %\n",
            "(region, fold) = (southwest, 3), ntrain =  260, ntest =  65, ptrain = 80.00 %\n",
            "(region, fold) = (southwest, 4), ntrain =  260, ntest =  65, ptrain = 80.00 %\n",
            "(region, fold) = (southeast, 0), ntrain =  292, ntest =  72, ptrain = 80.22 %\n",
            "(region, fold) = (southeast, 1), ntrain =  292, ntest =  72, ptrain = 80.22 %\n",
            "(region, fold) = (southeast, 2), ntrain =  292, ntest =  72, ptrain = 80.22 %\n",
            "(region, fold) = (southeast, 3), ntrain =  292, ntest =  72, ptrain = 80.22 %\n",
            "(region, fold) = (southeast, 4), ntrain =  292, ntest =  72, ptrain = 80.22 %\n",
            "(region, fold) = (northwest, 0), ntrain =  260, ntest =  65, ptrain = 80.00 %\n",
            "(region, fold) = (northwest, 1), ntrain =  260, ntest =  65, ptrain = 80.00 %\n",
            "(region, fold) = (northwest, 2), ntrain =  260, ntest =  65, ptrain = 80.00 %\n",
            "(region, fold) = (northwest, 3), ntrain =  260, ntest =  65, ptrain = 80.00 %\n",
            "(region, fold) = (northwest, 4), ntrain =  260, ntest =  65, ptrain = 80.00 %\n",
            "(region, fold) = (northeast, 0), ntrain =  259, ntest =  65, ptrain = 79.94 %\n",
            "(region, fold) = (northeast, 1), ntrain =  259, ntest =  65, ptrain = 79.94 %\n",
            "(region, fold) = (northeast, 2), ntrain =  259, ntest =  65, ptrain = 79.94 %\n",
            "(region, fold) = (northeast, 3), ntrain =  259, ntest =  65, ptrain = 79.94 %\n",
            "(region, fold) = (northeast, 4), ntrain =  259, ntest =  65, ptrain = 79.94 %\n"
          ]
        }
      ]
    },
    {
      "cell_type": "markdown",
      "source": [
        "## Model"
      ],
      "metadata": {
        "id": "PCgAI0HEYBwt"
      }
    },
    {
      "cell_type": "code",
      "source": [
        "from keras.models import Sequential\n",
        "from keras.layers import Dense, InputLayer\n",
        "\n",
        "\n",
        "def build_model(units = [40, 40, 20], activations = ['relu'] * 3, input_shape = [9]):\n",
        "  model = Sequential()\n",
        "  model.add(InputLayer(input_shape = input_shape))\n",
        "  for ind in range(len(units)):\n",
        "    model.add(Dense(units = units[ind], activation = activations[ind]))\n",
        "  model.add(Dense(1))\n",
        "  return model\n",
        "\n",
        "build_model().summary()"
      ],
      "metadata": {
        "colab": {
          "base_uri": "https://localhost:8080/"
        },
        "id": "993B1yqJYC7g",
        "outputId": "445dfc5c-cda6-41f0-92ea-27c7cbb3399f"
      },
      "execution_count": 17,
      "outputs": [
        {
          "output_type": "stream",
          "name": "stdout",
          "text": [
            "Model: \"sequential\"\n",
            "_________________________________________________________________\n",
            " Layer (type)                Output Shape              Param #   \n",
            "=================================================================\n",
            " dense (Dense)               (None, 40)                400       \n",
            "                                                                 \n",
            " dense_1 (Dense)             (None, 40)                1640      \n",
            "                                                                 \n",
            " dense_2 (Dense)             (None, 20)                820       \n",
            "                                                                 \n",
            " dense_3 (Dense)             (None, 1)                 21        \n",
            "                                                                 \n",
            "=================================================================\n",
            "Total params: 2,881\n",
            "Trainable params: 2,881\n",
            "Non-trainable params: 0\n",
            "_________________________________________________________________\n"
          ]
        }
      ]
    },
    {
      "cell_type": "markdown",
      "source": [
        "## Centralized neural networks\n",
        "---"
      ],
      "metadata": {
        "id": "Y6r-QlNN1KtK"
      }
    },
    {
      "cell_type": "markdown",
      "source": [
        "### Training"
      ],
      "metadata": {
        "id": "XH2OxG1b-uph"
      }
    },
    {
      "cell_type": "code",
      "source": [
        "# inputs\n",
        "features = ['age', 'sex', 'bmi', 'children', 'smoker'\n",
        "            , 'region0', 'region1', 'region2', 'region3'\n",
        "            ]\n",
        "target = 'charges'"
      ],
      "metadata": {
        "id": "IxS-QTfk7sU1"
      },
      "execution_count": 18,
      "outputs": []
    },
    {
      "cell_type": "code",
      "source": [
        "# helpers\n",
        "def train_model(X_train, y_train, epochs = 100, seed = 42, verbose = 0):\n",
        "  # generate a model\n",
        "  model = build_model(input_shape = [X_train.shape[1]])\n",
        "  model.compile(\n",
        "        loss = 'mean_squared_error', \n",
        "        optimizer = tf.optimizers.Adam(learning_rate = .05),\n",
        "        # <- Adam + lower learning rate\n",
        "        metrics = [\"mae\", 'mean_squared_error', r2_score], \n",
        "        run_eagerly = True\n",
        "        )\n",
        "\n",
        "  # train \n",
        "  tf.random.set_seed(seed)\n",
        "  rtime = time.time() \n",
        "  with tf.device('/device:GPU:0'):\n",
        "    hist = model.fit(\n",
        "        X_train, y_train,\n",
        "        batch_size = 128, \n",
        "        # <- higher batch_size\n",
        "        shuffle = True,\n",
        "        validation_split = 0.2,\n",
        "        epochs = epochs,\n",
        "        verbose = verbose\n",
        "    )\n",
        "  \n",
        "  print('loss - train: %.2f' % hist.history['loss'][-1])\n",
        "  print('loss - test:  %.2f' % hist.history['val_loss'][-1])  \n",
        "  rtime = time.time() - rtime\n",
        "  print('time - train: %.2f' % (rtime / 60))\n",
        "  return hist\n",
        "\n",
        "\n",
        "def apply_train_model(ind, epochs = 100, seed = 42, verbose = 0):\n",
        "  # label\n",
        "  rep = int(np.floor(ind / nfolds))\n",
        "  fold = ind % nfolds\n",
        "  label = 'rep' + str(rep) + '-fold' + str(fold)\n",
        "  print('====== rep %s - fold %s  ======' % (rep, fold))\n",
        "\n",
        "  # train data\n",
        "  X_train = df.loc[df[label] == 'train', features]\n",
        "  y_train = df[[target]][df[label] == 'train']\n",
        "\n",
        "  # apply train_model\n",
        "  hist = train_model(X_train, y_train, epochs = epochs, seed = seed, verbose = verbose)\n",
        "\n",
        "\n",
        "\n",
        "  return hist\n",
        "\n",
        "def test_model(hist, X_test, y_test):\n",
        "  rtime = time.time() \n",
        "  perf = hist.model.evaluate(X_test, y_test, verbose = 0)[1:]\n",
        "  rtime = time.time() - rtime\n",
        "  print('time - test: %.2f' % (rtime / 60))\n",
        "  return perf\n",
        "\n",
        "def apply_test_model(ind, hist):\n",
        "  # label\n",
        "  rep = int(np.floor(ind / nfolds))\n",
        "  fold = ind % nfolds\n",
        "  label = 'rep' + str(rep) + '-fold' + str(fold)\n",
        "  print('====== rep %s - fold %s  ======' % (rep, fold))\n",
        "\n",
        "  # test data\n",
        "  X_test = df.loc[df[label] == 'test', features]\n",
        "  y_test = df[[target]][df[label] == 'test']\n",
        "\n",
        "  perf = test_model(hist, X_test, y_test)\n",
        "  print(perf)\n",
        "  return perf\n"
      ],
      "metadata": {
        "id": "ESNT6Bxz7v2J"
      },
      "execution_count": 36,
      "outputs": []
    },
    {
      "cell_type": "code",
      "source": [
        "hists = []\n",
        "for ind in range(nreps * nfolds):\n",
        "  hist = apply_train_model(ind, epochs = 100, seed = 42)\n",
        "  hists.append(hist)\n"
      ],
      "metadata": {
        "colab": {
          "base_uri": "https://localhost:8080/"
        },
        "id": "6mfXLy11-DiJ",
        "outputId": "29d88392-2d0f-4ebf-d6ba-4fef0b47424b"
      },
      "execution_count": 32,
      "outputs": [
        {
          "output_type": "stream",
          "name": "stdout",
          "text": [
            "====== rep 0 - fold 0  ======\n",
            "loss - train: 21404670.00\n",
            "loss - test:  30225598.00\n",
            "time - train: 2.37\n",
            "====== rep 0 - fold 1  ======\n",
            "loss - train: 21254194.00\n",
            "loss - test:  21860592.00\n",
            "time - train: 1.41\n",
            "====== rep 0 - fold 2  ======\n",
            "loss - train: 23751312.00\n",
            "loss - test:  27461856.00\n",
            "time - train: 1.65\n",
            "====== rep 0 - fold 3  ======\n",
            "loss - train: 22480962.00\n",
            "loss - test:  27866474.00\n",
            "time - train: 1.38\n",
            "====== rep 0 - fold 4  ======\n",
            "loss - train: 21619070.00\n",
            "loss - test:  23599076.00\n",
            "time - train: 1.37\n",
            "====== rep 1 - fold 0  ======\n",
            "loss - train: 21677816.00\n",
            "loss - test:  29469610.00\n",
            "time - train: 1.37\n",
            "====== rep 1 - fold 1  ======\n",
            "loss - train: 21926192.00\n",
            "loss - test:  26449168.00\n",
            "time - train: 1.37\n",
            "====== rep 1 - fold 2  ======\n",
            "loss - train: 19755420.00\n",
            "loss - test:  20241214.00\n",
            "time - train: 1.37\n",
            "====== rep 1 - fold 3  ======\n",
            "loss - train: 22965622.00\n",
            "loss - test:  30596606.00\n",
            "time - train: 1.23\n",
            "====== rep 1 - fold 4  ======\n",
            "loss - train: 24544906.00\n",
            "loss - test:  23769778.00\n",
            "time - train: 1.37\n"
          ]
        }
      ]
    },
    {
      "cell_type": "markdown",
      "source": [
        "### Alternative"
      ],
      "metadata": {
        "id": "pt2jPG-F94jG"
      }
    },
    {
      "cell_type": "code",
      "source": [
        "# result list\n",
        "hists2 = []\n",
        "perfs = []\n",
        "\n",
        "for ind in range(nreps * nfolds):\n",
        "\n",
        "  # label\n",
        "  rep = int(np.floor(ind / nfolds))\n",
        "  fold = ind % nfolds\n",
        "  label = 'rep' + str(rep) + '-fold' + str(fold)\n",
        "\n",
        "  # train test split\n",
        "  X_train = df.loc[df[label] == 'train', features]\n",
        "  X_test  = df.loc[df[label] == 'test', features]\n",
        "  y_train = df[[target]][df[label] == 'train']\n",
        "  y_test = df[[target]][df[label] == 'test']\n",
        "\n",
        "  # reset model\n",
        "  model = build_model(input_shape = [X_train.shape[1]])\n",
        "  model.compile(\n",
        "        loss = 'mean_squared_error', \n",
        "        optimizer = tf.optimizers.Adam(learning_rate = .05),\n",
        "        # Adam + lower learning rate\n",
        "        metrics = [\"mae\", 'mean_squared_error', r2_score], \n",
        "        run_eagerly = True\n",
        "        )\n",
        "\n",
        "  # train \n",
        "  rtime = time.time() \n",
        "  tf.random.set_seed(42)\n",
        "\n",
        "  with tf.device('/device:GPU:0'):\n",
        "    hist = model.fit(\n",
        "        X_train, y_train,\n",
        "        batch_size = 128, # <- higher batch_size\n",
        "        shuffle = True,\n",
        "        validation_split = 0.2,\n",
        "        epochs = 100,\n",
        "        verbose = 0\n",
        "    )\n",
        "\n",
        "  rtime = time.time() - rtime\n",
        "  hists2.append(hist)\n",
        "  perf = hist.model.evaluate(X_test, y_test, verbose = 0)[1:]\n",
        "  perfs.append(perf)\n",
        "  print('====== rep %s - fold %s  ======' % (rep, fold))\n",
        "  print('training time: %.2f' % (rtime / 60))\n",
        "  print(\"---- test performance ----\")\n",
        "  print(pd.DataFrame({'measure': [\"mae\", 'mse', 'r2_score'],'value': perf}))\n",
        "     "
      ],
      "metadata": {
        "colab": {
          "base_uri": "https://localhost:8080/"
        },
        "id": "h_I2Nj4O1KJQ",
        "outputId": "417734f0-be57-4f06-e67f-7248d54b4931"
      },
      "execution_count": 72,
      "outputs": [
        {
          "output_type": "stream",
          "name": "stdout",
          "text": [
            "====== rep 0 - fold 0  ======\n",
            "training time: 1.37\n",
            "---- test performance ----\n",
            "    measure         value\n",
            "0       mae  2.756790e+03\n",
            "1       mse  2.762922e+07\n",
            "2  r2_score  8.292163e-01\n",
            "====== rep 0 - fold 1  ======\n",
            "training time: 1.37\n",
            "---- test performance ----\n",
            "    measure         value\n",
            "0       mae  3.283953e+03\n",
            "1       mse  2.855208e+07\n",
            "2  r2_score  7.602068e-01\n",
            "====== rep 0 - fold 2  ======\n",
            "training time: 1.37\n",
            "---- test performance ----\n",
            "    measure         value\n",
            "0       mae  2.643379e+03\n",
            "1       mse  1.858672e+07\n",
            "2  r2_score  8.518991e-01\n",
            "====== rep 0 - fold 3  ======\n",
            "training time: 1.22\n",
            "---- test performance ----\n",
            "    measure         value\n",
            "0       mae  2.599711e+03\n",
            "1       mse  1.936617e+07\n",
            "2  r2_score  8.452368e-01\n",
            "====== rep 0 - fold 4  ======\n",
            "training time: 1.37\n",
            "---- test performance ----\n",
            "    measure         value\n",
            "0       mae  2.903768e+03\n",
            "1       mse  2.643282e+07\n",
            "2  r2_score  7.829975e-01\n",
            "====== rep 1 - fold 0  ======\n",
            "training time: 1.24\n",
            "---- test performance ----\n",
            "    measure         value\n",
            "0       mae  2.949798e+03\n",
            "1       mse  2.176538e+07\n",
            "2  r2_score  8.335585e-01\n",
            "====== rep 1 - fold 1  ======\n",
            "training time: 1.21\n",
            "---- test performance ----\n",
            "    measure         value\n",
            "0       mae  2.988036e+03\n",
            "1       mse  2.460982e+07\n",
            "2  r2_score  7.836539e-01\n",
            "====== rep 1 - fold 2  ======\n",
            "training time: 1.37\n",
            "---- test performance ----\n",
            "    measure         value\n",
            "0       mae  3.447743e+03\n",
            "1       mse  3.553357e+07\n",
            "2  r2_score  7.245569e-01\n",
            "====== rep 1 - fold 3  ======\n",
            "training time: 1.24\n",
            "---- test performance ----\n",
            "    measure         value\n",
            "0       mae  3.280055e+03\n",
            "1       mse  2.126659e+07\n",
            "2  r2_score  8.109468e-01\n",
            "====== rep 1 - fold 4  ======\n",
            "training time: 1.20\n",
            "---- test performance ----\n",
            "    measure         value\n",
            "0       mae  2.957817e+03\n",
            "1       mse  2.041844e+07\n",
            "2  r2_score  8.535826e-01\n"
          ]
        }
      ]
    },
    {
      "cell_type": "markdown",
      "source": [
        "### Evaluation"
      ],
      "metadata": {
        "id": "gBic71jA-x_0"
      }
    },
    {
      "cell_type": "code",
      "source": [
        "perfs = []\n",
        "for ind in range(nreps * nfolds):\n",
        "  perfs = apply_test_model(ind, hist = hists[ind])\n",
        "  perfs.append(hist)"
      ],
      "metadata": {
        "colab": {
          "base_uri": "https://localhost:8080/"
        },
        "id": "x7YK11bdDrVh",
        "outputId": "2768c6fe-b7de-4680-b5c3-71e1c9a0537c"
      },
      "execution_count": 40,
      "outputs": [
        {
          "output_type": "stream",
          "name": "stdout",
          "text": [
            "====== rep 0 - fold 0  ======\n",
            "time - test: 0.01\n",
            "[2767.495361328125, 28632938.0, 0.822028636932373]\n",
            "====== rep 0 - fold 1  ======\n",
            "time - test: 0.01\n",
            "[3208.61376953125, 29222892.0, 0.7563403844833374]\n",
            "====== rep 0 - fold 2  ======\n",
            "time - test: 0.01\n",
            "[2567.66552734375, 18461452.0, 0.8533287644386292]\n",
            "====== rep 0 - fold 3  ======\n",
            "time - test: 0.01\n",
            "[2580.059326171875, 19418166.0, 0.8448664546012878]\n",
            "====== rep 0 - fold 4  ======\n",
            "time - test: 0.01\n",
            "[2856.5146484375, 26418504.0, 0.7838029861450195]\n",
            "====== rep 1 - fold 0  ======\n",
            "time - test: 0.01\n",
            "[2865.77880859375, 21127238.0, 0.8396165370941162]\n",
            "====== rep 1 - fold 1  ======\n",
            "time - test: 0.01\n",
            "[2972.41015625, 24346524.0, 0.7853748798370361]\n",
            "====== rep 1 - fold 2  ======\n",
            "time - test: 0.02\n",
            "[3428.53466796875, 35587236.0, 0.7239153981208801]\n",
            "====== rep 1 - fold 3  ======\n",
            "time - test: 0.02\n",
            "[3225.088623046875, 21007380.0, 0.8140127658843994]\n",
            "====== rep 1 - fold 4  ======\n",
            "time - test: 0.01\n",
            "[2848.80908203125, 19810472.0, 0.8577645421028137]\n"
          ]
        }
      ]
    },
    {
      "cell_type": "code",
      "source": [
        "perfs"
      ],
      "metadata": {
        "id": "KRtDtZagHSh1",
        "outputId": "66f067d8-df3f-4b8b-b94f-01e900579cf4",
        "colab": {
          "base_uri": "https://localhost:8080/"
        }
      },
      "execution_count": 41,
      "outputs": [
        {
          "output_type": "execute_result",
          "data": {
            "text/plain": [
              "[2848.80908203125,\n",
              " 19810472.0,\n",
              " 0.8577645421028137,\n",
              " <keras.callbacks.History at 0x7f1e59b7bbb0>]"
            ]
          },
          "metadata": {},
          "execution_count": 41
        }
      ]
    },
    {
      "cell_type": "code",
      "source": [
        "rsqs = [x[2] for x in perfs]\n",
        "print('All R^2: ',np.sort([round(x, 2) for x in rsqs]))\n",
        "print('R^2: mean = %.2f, std = %.2f' % (np.mean(rsqs), np.std(rsqs)))"
      ],
      "metadata": {
        "colab": {
          "base_uri": "https://localhost:8080/",
          "height": 294
        },
        "id": "stVDb2UiApE4",
        "outputId": "51a3bba0-769a-4a60-e9d1-04bae37c688c"
      },
      "execution_count": 38,
      "outputs": [
        {
          "output_type": "error",
          "ename": "TypeError",
          "evalue": "ignored",
          "traceback": [
            "\u001b[0;31m---------------------------------------------------------------------------\u001b[0m",
            "\u001b[0;31mTypeError\u001b[0m                                 Traceback (most recent call last)",
            "\u001b[0;32m<ipython-input-38-67737320b29b>\u001b[0m in \u001b[0;36m<cell line: 1>\u001b[0;34m()\u001b[0m\n\u001b[0;32m----> 1\u001b[0;31m \u001b[0mrsqs\u001b[0m \u001b[0;34m=\u001b[0m \u001b[0;34m[\u001b[0m\u001b[0mx\u001b[0m\u001b[0;34m[\u001b[0m\u001b[0;36m2\u001b[0m\u001b[0;34m]\u001b[0m \u001b[0;32mfor\u001b[0m \u001b[0mx\u001b[0m \u001b[0;32min\u001b[0m \u001b[0mperfs\u001b[0m\u001b[0;34m]\u001b[0m\u001b[0;34m\u001b[0m\u001b[0;34m\u001b[0m\u001b[0m\n\u001b[0m\u001b[1;32m      2\u001b[0m \u001b[0mprint\u001b[0m\u001b[0;34m(\u001b[0m\u001b[0;34m'All R^2: '\u001b[0m\u001b[0;34m,\u001b[0m\u001b[0mnp\u001b[0m\u001b[0;34m.\u001b[0m\u001b[0msort\u001b[0m\u001b[0;34m(\u001b[0m\u001b[0;34m[\u001b[0m\u001b[0mround\u001b[0m\u001b[0;34m(\u001b[0m\u001b[0mx\u001b[0m\u001b[0;34m,\u001b[0m \u001b[0;36m2\u001b[0m\u001b[0;34m)\u001b[0m \u001b[0;32mfor\u001b[0m \u001b[0mx\u001b[0m \u001b[0;32min\u001b[0m \u001b[0mrsqs\u001b[0m\u001b[0;34m]\u001b[0m\u001b[0;34m)\u001b[0m\u001b[0;34m)\u001b[0m\u001b[0;34m\u001b[0m\u001b[0;34m\u001b[0m\u001b[0m\n\u001b[1;32m      3\u001b[0m \u001b[0mprint\u001b[0m\u001b[0;34m(\u001b[0m\u001b[0;34m'R^2: mean = %.2f, std = %.2f'\u001b[0m \u001b[0;34m%\u001b[0m \u001b[0;34m(\u001b[0m\u001b[0mnp\u001b[0m\u001b[0;34m.\u001b[0m\u001b[0mmean\u001b[0m\u001b[0;34m(\u001b[0m\u001b[0mrsqs\u001b[0m\u001b[0;34m)\u001b[0m\u001b[0;34m,\u001b[0m \u001b[0mnp\u001b[0m\u001b[0;34m.\u001b[0m\u001b[0mstd\u001b[0m\u001b[0;34m(\u001b[0m\u001b[0mrsqs\u001b[0m\u001b[0;34m)\u001b[0m\u001b[0;34m)\u001b[0m\u001b[0;34m)\u001b[0m\u001b[0;34m\u001b[0m\u001b[0;34m\u001b[0m\u001b[0m\n",
            "\u001b[0;32m<ipython-input-38-67737320b29b>\u001b[0m in \u001b[0;36m<listcomp>\u001b[0;34m(.0)\u001b[0m\n\u001b[0;32m----> 1\u001b[0;31m \u001b[0mrsqs\u001b[0m \u001b[0;34m=\u001b[0m \u001b[0;34m[\u001b[0m\u001b[0mx\u001b[0m\u001b[0;34m[\u001b[0m\u001b[0;36m2\u001b[0m\u001b[0;34m]\u001b[0m \u001b[0;32mfor\u001b[0m \u001b[0mx\u001b[0m \u001b[0;32min\u001b[0m \u001b[0mperfs\u001b[0m\u001b[0;34m]\u001b[0m\u001b[0;34m\u001b[0m\u001b[0;34m\u001b[0m\u001b[0m\n\u001b[0m\u001b[1;32m      2\u001b[0m \u001b[0mprint\u001b[0m\u001b[0;34m(\u001b[0m\u001b[0;34m'All R^2: '\u001b[0m\u001b[0;34m,\u001b[0m\u001b[0mnp\u001b[0m\u001b[0;34m.\u001b[0m\u001b[0msort\u001b[0m\u001b[0;34m(\u001b[0m\u001b[0;34m[\u001b[0m\u001b[0mround\u001b[0m\u001b[0;34m(\u001b[0m\u001b[0mx\u001b[0m\u001b[0;34m,\u001b[0m \u001b[0;36m2\u001b[0m\u001b[0;34m)\u001b[0m \u001b[0;32mfor\u001b[0m \u001b[0mx\u001b[0m \u001b[0;32min\u001b[0m \u001b[0mrsqs\u001b[0m\u001b[0;34m]\u001b[0m\u001b[0;34m)\u001b[0m\u001b[0;34m)\u001b[0m\u001b[0;34m\u001b[0m\u001b[0;34m\u001b[0m\u001b[0m\n\u001b[1;32m      3\u001b[0m \u001b[0mprint\u001b[0m\u001b[0;34m(\u001b[0m\u001b[0;34m'R^2: mean = %.2f, std = %.2f'\u001b[0m \u001b[0;34m%\u001b[0m \u001b[0;34m(\u001b[0m\u001b[0mnp\u001b[0m\u001b[0;34m.\u001b[0m\u001b[0mmean\u001b[0m\u001b[0;34m(\u001b[0m\u001b[0mrsqs\u001b[0m\u001b[0;34m)\u001b[0m\u001b[0;34m,\u001b[0m \u001b[0mnp\u001b[0m\u001b[0;34m.\u001b[0m\u001b[0mstd\u001b[0m\u001b[0;34m(\u001b[0m\u001b[0mrsqs\u001b[0m\u001b[0;34m)\u001b[0m\u001b[0;34m)\u001b[0m\u001b[0;34m)\u001b[0m\u001b[0;34m\u001b[0m\u001b[0;34m\u001b[0m\u001b[0m\n",
            "\u001b[0;31mTypeError\u001b[0m: 'float' object is not subscriptable"
          ]
        }
      ]
    },
    {
      "cell_type": "code",
      "source": [
        "def plot_perf(hist, msr = 'loss'):\n",
        "  \"\"\"Plot the training history and save the figure.\n",
        "  :param hist: The history object including the metrics to plot\n",
        "  :type hist: keras.callbacks.History\n",
        "  :param msr: The metrics to plot\n",
        "  :type msr: str, optional\n",
        "  \"\"\"\n",
        "  plt.plot(hist.history[msr])\n",
        "  plt.plot(hist.history['val_' + msr])\n",
        "  plt.ylabel(msr)\n",
        "  plt.xlabel('epoch')\n",
        "  plt.legend(['train', 'eval'], loc='upper left')"
      ],
      "metadata": {
        "id": "if6QdlDDCjYC"
      },
      "execution_count": 74,
      "outputs": []
    },
    {
      "cell_type": "code",
      "source": [
        "for ind in range(len(hists)):\n",
        "  plot_perf(hists[ind], 'r2_score')\n",
        "  #plt.ylim([0.5, 0.9])\n",
        "  plt.show()"
      ],
      "metadata": {
        "colab": {
          "base_uri": "https://localhost:8080/",
          "height": 1000
        },
        "id": "QTXQFxhy-mVG",
        "outputId": "f6b20576-b184-491b-8884-de5ddb0002e9"
      },
      "execution_count": 75,
      "outputs": [
        {
          "output_type": "display_data",
          "data": {
            "text/plain": [
              "<Figure size 640x480 with 1 Axes>"
            ],
            "image/png": "[encoded data removed]"
          },
          "metadata": {}
        },
        {
          "output_type": "display_data",
          "data": {
            "text/plain": [
              "<Figure size 640x480 with 1 Axes>"
            ],
            "image/png": "[encoded data removed]"
          },
          "metadata": {}
        },
        {
          "output_type": "display_data",
          "data": {
            "text/plain": [
              "<Figure size 640x480 with 1 Axes>"
            ],
            "image/png": "[encoded data removed]"
          },
          "metadata": {}
        },
        {
          "output_type": "display_data",
          "data": {
            "text/plain": [
              "<Figure size 640x480 with 1 Axes>"
            ],
            "image/png": "[encoded data removed]"
          },
          "metadata": {}
        },
        {
          "output_type": "display_data",
          "data": {
            "text/plain": [
              "<Figure size 640x480 with 1 Axes>"
            ],
            "image/png": "[encoded data removed]"
          },
          "metadata": {}
        },
        {
          "output_type": "display_data",
          "data": {
            "text/plain": [
              "<Figure size 640x480 with 1 Axes>"
            ],
            "image/png": "[encoded data removed]"
          },
          "metadata": {}
        },
        {
          "output_type": "display_data",
          "data": {
            "text/plain": [
              "<Figure size 640x480 with 1 Axes>"
            ],
            "image/png": "[encoded data removed]"
          },
          "metadata": {}
        },
        {
          "output_type": "display_data",
          "data": {
            "text/plain": [
              "<Figure size 640x480 with 1 Axes>"
            ],
            "image/png": "[encoded data removed]"
          },
          "metadata": {}
        },
        {
          "output_type": "display_data",
          "data": {
            "text/plain": [
              "<Figure size 640x480 with 1 Axes>"
            ],
            "image/png": "[encoded data removed]"
          },
          "metadata": {}
        },
        {
          "output_type": "display_data",
          "data": {
            "text/plain": [
              "<Figure size 640x480 with 1 Axes>"
            ],
            "image/png": "[encoded data removed]"
          },
          "metadata": {}
        }
      ]
    },
    {
      "cell_type": "markdown",
      "source": [
        "# Appendix"
      ],
      "metadata": {
        "id": "avRNtqzxOB3h"
      }
    },
    {
      "cell_type": "markdown",
      "source": [],
      "metadata": {
        "id": "IDsqnRCXOB6C"
      }
    },
    {
      "cell_type": "markdown",
      "source": [],
      "metadata": {
        "id": "CapK-DPVOB9D"
      }
    },
    {
      "cell_type": "code",
      "execution_count": null,
      "metadata": {
        "id": "Qam6babo7Wgg"
      },
      "outputs": [],
      "source": [
        "NUM_CLIENTS = 4\n",
        "NUM_EPOCHS = 50\n",
        "BATCH_SIZE = 128\n",
        "SHUFFLE_BUFFER = 20\n",
        "PREFETCH_BUFFER = 5\n",
        "NUM_ROUNDS = 50\n",
        "RUN_NAME = f'0,8-3({NUM_ROUNDS})-{NUM_EPOCHS}-epochs-{BATCH_SIZE}-batch-WithRegion/'"
      ]
    },
    {
      "cell_type": "code",
      "execution_count": null,
      "metadata": {
        "id": "JTutbOjq8VzQ"
      },
      "outputs": [],
      "source": [
        "syn_samples_per_region = 1000\n",
        "\n",
        "def get_dataset_for_region(dataset, region_index, test_size_per_region=20):\n",
        "    \"\"\"Min-max scale and return data for a single, given region. The scaler must be fitted before.\n",
        "\n",
        "    :param dataset: The dataset to get the regional data from\n",
        "    :type dataset: pandas.DataFrame\n",
        "    :param region_index: The index number of the region to return\n",
        "    :type region_index: int\n",
        "    :param test_size_per_region: The amount of values to separate for testing, default are 20\n",
        "    :type test_size_per_region: int, optional\n",
        "    :return: The dataset specific for the defined region, the test values, the test labels\n",
        "    :rtype: tensorflow.python.data.ops.dataset_ops.PrefetchDataset, tuple of pandas.core.series.Series\n",
        "    \"\"\"\n",
        "    region_ds = dataset[dataset['region'] == region_index]\n",
        "    region_ds = region_ds.drop(columns=['region'])\n",
        "    len = region_ds.shape[0]\n",
        "\n",
        "    # The scaling into [0, 1] is not necessary anymore, it happens when the data loads already\n",
        "    # region_ds[['age', 'bmi', 'children']] = scaler.transform(region_ds[['age', 'bmi', 'children']])\n",
        "\n",
        "    X_test = region_ds.head(test_size_per_region)\n",
        "    y_test = X_test.pop('charges')\n",
        "\n",
        "    X_train = region_ds.tail(len - test_size_per_region)\n",
        "    y_train = X_train.pop('charges')\n",
        "\n",
        "    fed_train_dataset = tf.data.Dataset.from_tensor_slices((tf.convert_to_tensor(X_train), tf.convert_to_tensor(y_train)))\n",
        "\n",
        "    return (\n",
        "        fed_train_dataset.repeat(NUM_EPOCHS).shuffle(SHUFFLE_BUFFER, seed=1).batch(BATCH_SIZE).prefetch(PREFETCH_BUFFER),\n",
        "        (X_test, y_test)\n",
        "    )"
      ]
    },
    {
      "cell_type": "code",
      "execution_count": null,
      "metadata": {
        "id": "8FEwLlGv8eq3"
      },
      "outputs": [],
      "source": [
        "# Create test and train sets and put them into random_client_ds, use four clients which are independent of the region\n",
        "def get_dataset_random_region(dataset, num_clients=4, test_size_per_region=20):\n",
        "    \"\"\"Creates a list with client datasets independent of the region.\n",
        "\n",
        "    :param dataset: The dataset to get the regional data from\n",
        "    :type dataset: pandas.DataFrame\n",
        "    :param num_clients: the number of clients create (equal big datasets per client), default value is 4 clients\n",
        "    :type num_clients: int, optional\n",
        "    :param test_size_per_region: The amount of values to separate for testing, default are 20\n",
        "    :type test_size_per_region: int, optional\n",
        "    :return: List of the prepared dataset with one entry per region, the test values and labels for each region\n",
        "    :rtype: List of (tensorflow.python.data.ops.dataset_ops.PrefetchDataset, tuple of pandas.core.series.Series)\"\"\"\n",
        "    size_of_client_ds = int(dataset.shape[0] / num_clients)\n",
        "\n",
        "    dataset_to_split = dataset.copy()\n",
        "    dataset_to_split.pop(\"region\")\n",
        "    random_client_ds = []\n",
        "    for i in range(num_clients):\n",
        "        sampled = dataset_to_split.sample(n=size_of_client_ds)\n",
        "        dataset_to_split.drop(sampled.index)\n",
        "\n",
        "        X_test = sampled.head(test_size_per_region)\n",
        "        y_test = X_test.pop('charges')\n",
        "\n",
        "        X_train = sampled.tail(size_of_client_ds - test_size_per_region)\n",
        "        y_train = X_train.pop('charges')\n",
        "\n",
        "        fed_train_dataset = tf.data.Dataset.from_tensor_slices((tf.convert_to_tensor(X_train), tf.convert_to_tensor(y_train)))\n",
        "\n",
        "        train_set = fed_train_dataset.repeat(NUM_EPOCHS).shuffle(SHUFFLE_BUFFER, seed=1).batch(BATCH_SIZE).prefetch(PREFETCH_BUFFER)\n",
        "        test_set = (X_test, y_test)\n",
        "\n",
        "        random_client_ds.append((train_set, test_set))\n",
        "\n",
        "    return random_client_ds"
      ]
    },
    {
      "cell_type": "code",
      "execution_count": null,
      "metadata": {
        "colab": {
          "base_uri": "https://localhost:8080/"
        },
        "id": "Dirvrz6Y9ARK",
        "outputId": "d0072199-2a91-43ce-fec9-c2d56492bfa9"
      },
      "outputs": [
        {
          "output_type": "execute_result",
          "data": {
            "text/plain": [
              "[(<_PrefetchDataset element_spec=(TensorSpec(shape=(None, 5), dtype=tf.float64, name=None), TensorSpec(shape=(None,), dtype=tf.float64, name=None))>,\n",
              "  (Empty DataFrame\n",
              "   Columns: [age, sex, bmi, children, smoker]\n",
              "   Index: [],\n",
              "   Series([], Name: charges, dtype: float64))),\n",
              " (<_PrefetchDataset element_spec=(TensorSpec(shape=(None, 5), dtype=tf.float64, name=None), TensorSpec(shape=(None,), dtype=tf.float64, name=None))>,\n",
              "  (Empty DataFrame\n",
              "   Columns: [age, sex, bmi, children, smoker]\n",
              "   Index: [],\n",
              "   Series([], Name: charges, dtype: float64))),\n",
              " (<_PrefetchDataset element_spec=(TensorSpec(shape=(None, 5), dtype=tf.float64, name=None), TensorSpec(shape=(None,), dtype=tf.float64, name=None))>,\n",
              "  (Empty DataFrame\n",
              "   Columns: [age, sex, bmi, children, smoker]\n",
              "   Index: [],\n",
              "   Series([], Name: charges, dtype: float64)))]"
            ]
          },
          "metadata": {},
          "execution_count": 9
        }
      ],
      "source": [
        "# Training data for clients with regional data (each client one region)\n",
        "test_size_per_region = 20\n",
        "regions = ['region0', 'region1', 'region2', 'region3']\n",
        "\n",
        "federated_insurance_data = [\n",
        "    get_dataset_for_region(df.drop(regions, axis=1), i, test_size_per_region=test_size_per_region)\n",
        "    for i in range(NUM_CLIENTS-1)]\n",
        "federated_insurance_data"
      ]
    },
    {
      "cell_type": "code",
      "execution_count": null,
      "metadata": {
        "id": "mX6HRriR9Cil"
      },
      "outputs": [],
      "source": [
        "# Training data for clients with regional independent data\n",
        "random_client_ds = get_dataset_random_region(df, num_clients=NUM_CLIENTS, test_size_per_region=test_size_per_region)"
      ]
    },
    {
      "cell_type": "markdown",
      "metadata": {
        "id": "RiNQ6m66A7sa"
      },
      "source": [
        "### Code Tests"
      ]
    },
    {
      "cell_type": "code",
      "execution_count": null,
      "metadata": {
        "colab": {
          "base_uri": "https://localhost:8080/"
        },
        "id": "VRbSvR-Q9058",
        "outputId": "a05c704c-3b69-4d5b-fa3f-eeac47f4bd28"
      },
      "outputs": [
        {
          "output_type": "stream",
          "name": "stdout",
          "text": [
            "splitted datasets: 3\n",
            "------------------------------\n"
          ]
        },
        {
          "output_type": "execute_result",
          "data": {
            "text/plain": [
              "[]"
            ]
          },
          "metadata": {},
          "execution_count": 11
        }
      ],
      "source": [
        "print(\"splitted datasets: {}\".format(len(federated_insurance_data)))\n",
        "print(\"------------------------------\")\n",
        "# Q: why range(NUM_CLIENTS-1) and, thus, only 3 clients?\n",
        "\n",
        "# Q: how to output? -> does not work or nothing in it?\n",
        "# -> i think its empty\n",
        "list(federated_insurance_data[0][0].as_numpy_iterator())[:10]"
      ]
    },
    {
      "cell_type": "markdown",
      "metadata": {
        "id": "GJY8_tVdCXrz"
      },
      "source": [
        "#### Show Tensor"
      ]
    },
    {
      "cell_type": "code",
      "execution_count": null,
      "metadata": {
        "colab": {
          "base_uri": "https://localhost:8080/"
        },
        "id": "nFohPc1rAqVw",
        "outputId": "0c24f1e4-4f88-4c7a-a012-9bdf364e4bea"
      },
      "outputs": [
        {
          "output_type": "execute_result",
          "data": {
            "text/plain": [
              "<_TensorSliceDataset element_spec=(TensorSpec(shape=(4,), dtype=tf.float64, name=None), TensorSpec(shape=(), dtype=tf.float64, name=None))>"
            ]
          },
          "metadata": {},
          "execution_count": 12
        }
      ],
      "source": [
        "# Create a Tensor Object\n",
        "X_train = df.iloc[:,0:4]\n",
        "y_train = df['charges']\n",
        "df2 = tf.data.Dataset.from_tensor_slices((tf.convert_to_tensor(X_train), tf.convert_to_tensor(y_train)))\n",
        "df2"
      ]
    },
    {
      "cell_type": "code",
      "execution_count": null,
      "metadata": {
        "colab": {
          "base_uri": "https://localhost:8080/"
        },
        "id": "NpW57hM4DOBI",
        "outputId": "c97bb0ec-50b4-438f-f5d4-02020e422e8c"
      },
      "outputs": [
        {
          "output_type": "execute_result",
          "data": {
            "text/plain": [
              "[(array([0.02173913, 0.        , 0.3212268 , 0.        ]), 16884.924),\n",
              " (array([0.        , 1.        , 0.47914985, 0.2       ]), 1725.5523),\n",
              " (array([0.2173913 , 1.        , 0.45843422, 0.6       ]), 4449.462),\n",
              " (array([0.32608696, 1.        , 0.18146355, 0.        ]), 21984.47061),\n",
              " (array([0.30434783, 1.        , 0.34759214, 0.        ]), 3866.8552),\n",
              " (array([0.2826087 , 0.        , 0.26311542, 0.        ]), 3756.6216),\n",
              " (array([0.60869565, 0.        , 0.47027172, 0.2       ]), 8240.5896),\n",
              " (array([0.41304348, 0.        , 0.31692225, 0.6       ]), 7281.5056),\n",
              " (array([0.41304348, 1.        , 0.37315039, 0.4       ]), 6406.4107),\n",
              " (array([0.91304348, 0.        , 0.26580576, 0.        ]), 28923.13692)]"
            ]
          },
          "metadata": {},
          "execution_count": 13
        }
      ],
      "source": [
        "# Show Tensor Object\n",
        "# S. https://stackoverflow.com/questions/62436302/extract-target-from-tensorflow-prefetchdataset\n",
        "list(df2.as_numpy_iterator())[:10]"
      ]
    },
    {
      "cell_type": "markdown",
      "metadata": {
        "id": "2PvPyDQL8iXm"
      },
      "source": [
        "## Model Builder"
      ]
    },
    {
      "cell_type": "code",
      "source": [
        "u = [10] * 3\n",
        "len(u)"
      ],
      "metadata": {
        "colab": {
          "base_uri": "https://localhost:8080/"
        },
        "id": "DgK797J4SyUz",
        "outputId": "5f02744d-35b4-49c3-f1b8-140992a7688e"
      },
      "execution_count": null,
      "outputs": [
        {
          "output_type": "execute_result",
          "data": {
            "text/plain": [
              "3"
            ]
          },
          "metadata": {},
          "execution_count": 23
        }
      ]
    },
    {
      "cell_type": "code",
      "source": [
        "range(1,len(u)+1)"
      ],
      "metadata": {
        "colab": {
          "base_uri": "https://localhost:8080/"
        },
        "id": "qJNjWaHGS2P4",
        "outputId": "0af53b62-be1b-4946-a3d7-1f119c68d7e1"
      },
      "execution_count": null,
      "outputs": [
        {
          "output_type": "execute_result",
          "data": {
            "text/plain": [
              "range(1, 4)"
            ]
          },
          "metadata": {},
          "execution_count": 27
        }
      ]
    },
    {
      "cell_type": "code",
      "source": [
        "from keras.models import Sequential\n",
        "from keras.layers import Dense, InputLayer\n",
        "\n",
        "\n",
        "def build_model(units = [10] * 3, activations = ['relu'] * 3, input_dim = 9):\n",
        "  model = Sequential()\n",
        "  \n",
        "  return activations\n",
        "\n",
        "build_model()"
      ],
      "metadata": {
        "colab": {
          "base_uri": "https://localhost:8080/"
        },
        "id": "eE42sK8MQWEn",
        "outputId": "d4b29de9-9011-4250-d898-53a64d21c763"
      },
      "execution_count": null,
      "outputs": [
        {
          "output_type": "execute_result",
          "data": {
            "text/plain": [
              "['relu', 'relu', 'relu']"
            ]
          },
          "metadata": {},
          "execution_count": 29
        }
      ]
    },
    {
      "cell_type": "code",
      "source": [
        "from keras.layers import ReLU\n",
        "from keras.models import Sequential\n",
        "from keras.layers import Dense, InputLayer\n",
        "\n",
        "def create_keras_model(\n",
        "  input_features = 9\n",
        "  ):\n",
        "\n",
        "  model = Sequential([\n",
        "    Dense(40, input_dim = 9, activation = 'relu'),\n",
        "    Dense(40, activation = 'relu'),\n",
        "    Dense(20, activation = 'relu'),\n",
        "    Dense(1)\n",
        "    ])\n",
        "  #model = Sequential()\n",
        "  #model.add(Dense(40, input_dim=9))\n",
        "  #model.add(ReLU())\n",
        "  #model.add(Dense(40))\n",
        "  #model.add(ReLU())\n",
        "  #model.add(Dense(20))\n",
        "  #model.add(ReLU())\n",
        "  #model.add(Dense(1))\n",
        "  return model"
      ],
      "metadata": {
        "id": "0kaBYLVUQIDD"
      },
      "execution_count": null,
      "outputs": []
    },
    {
      "cell_type": "code",
      "execution_count": null,
      "metadata": {
        "id": "9Csom8dD8hRK"
      },
      "outputs": [],
      "source": [
        "from keras.layers import ReLU\n",
        "from keras.models import Sequential\n",
        "from keras.layers import Dense\n",
        "\n",
        "def build_model(\n",
        "  input_features = 9\n",
        "  ):\n",
        "  model = Sequential()\n",
        "  model.add(Dense(40, input_dim=9))\n",
        "  model.add(ReLU())\n",
        "  model.add(Dense(40))\n",
        "  model.add(ReLU())\n",
        "  model.add(Dense(20))\n",
        "  model.add(ReLU())\n",
        "  model.add(Dense(1))\n",
        "  return model\n",
        "\n",
        "\n",
        "# A helper function for federated learning\n",
        "def model_fn(    \n",
        "  input_features = 9):\n",
        "\n",
        "  # We _must_ create a new model here, and _not_ capture it from an external\n",
        "  # scope. TFF will call this within different graph contexts.\n",
        "  keras_model = create_keras_model(\n",
        "          input_features = input_features\n",
        "  )\n",
        "  return tff.learning.models.from_keras_model(\n",
        "      keras_model,\n",
        "      # without region: \n",
        "      #input_spec = federated_insurance_data[0][0].element_spec,\n",
        "      input_spec = random_client_ds[0][0].element_spec,\n",
        "      loss = tf.keras.losses.MeanAbsoluteError(),\n",
        "      #loss = tf.keras.losses.MeanSquaredError(),\n",
        "      metrics = [tf.keras.metrics.MeanAbsoluteError()\n",
        "      #metrics = [tf.keras.losses.MeanSquaredError()\n",
        "      #,tfa.metrics.RSquare()\n",
        "      ]\n",
        "  )\n",
        "\n",
        "# Helper functions for different features as input\n",
        "def model_fn_5():\n",
        "    return model_fn(5)\n",
        "\n",
        "def model_fn_5_mod():\n",
        "  return model_fn(5, initializer = 'glorot_uniform', activation = 'relu')\n",
        "\n",
        "def model_fn_9():\n",
        "  return model_fn(9)\n",
        "\n",
        "def model_fn_9_mod():\n",
        "  return model_fn(9, initializer = 'glorot_uniform', activation = 'relu')"
      ]
    },
    {
      "cell_type": "markdown",
      "metadata": {
        "id": "6Sc8xDdk2RTp"
      },
      "source": [
        "## Federated Learning"
      ]
    },
    {
      "cell_type": "markdown",
      "metadata": {
        "id": "_GGvMq3ATosV"
      },
      "source": [
        "### Tuned Model"
      ]
    },
    {
      "cell_type": "markdown",
      "metadata": {
        "id": "GgodbIMsH2b9"
      },
      "source": [
        "#### Create Learning Process"
      ]
    },
    {
      "cell_type": "code",
      "execution_count": null,
      "metadata": {
        "id": "K3k21nSQ9P-D"
      },
      "outputs": [],
      "source": [
        "# Create iterative learning process which will perform the federated learning\n",
        "iterative_process = tff.learning.algorithms.build_weighted_fed_avg(\n",
        "    model_fn_9,\n",
        "    client_optimizer_fn=lambda: tf.optimizers.Adam(learning_rate = .05),\n",
        "    server_optimizer_fn=lambda: tf.optimizers.Adam(learning_rate = .05),)"
      ]
    },
    {
      "cell_type": "code",
      "execution_count": null,
      "metadata": {
        "colab": {
          "base_uri": "https://localhost:8080/"
        },
        "id": "NBMUBG1tHFfC",
        "outputId": "c7a29685-4bab-4227-bf06-3f930db90391"
      },
      "outputs": [
        {
          "output_type": "stream",
          "name": "stdout",
          "text": [
            "( -> <\n",
            "  global_model_weights=<\n",
            "    trainable=<\n",
            "      float32[9,40],\n",
            "      float32[40],\n",
            "      float32[40,40],\n",
            "      float32[40],\n",
            "      float32[40,20],\n",
            "      float32[20],\n",
            "      float32[20,1],\n",
            "      float32[1]\n",
            "    >,\n",
            "    non_trainable=<>\n",
            "  >,\n",
            "  distributor=<>,\n",
            "  client_work=<>,\n",
            "  aggregator=<\n",
            "    value_sum_process=<>,\n",
            "    weight_sum_process=<>\n",
            "  >,\n",
            "  finalizer=<\n",
            "    int64,\n",
            "    float32[9,40],\n",
            "    float32[9,40],\n",
            "    float32[40],\n",
            "    float32[40],\n",
            "    float32[40,40],\n",
            "    float32[40,40],\n",
            "    float32[40],\n",
            "    float32[40],\n",
            "    float32[40,20],\n",
            "    float32[40,20],\n",
            "    float32[20],\n",
            "    float32[20],\n",
            "    float32[20,1],\n",
            "    float32[20,1],\n",
            "    float32[1],\n",
            "    float32[1]\n",
            "  >\n",
            ">@SERVER)\n"
          ]
        }
      ],
      "source": [
        "# The initial setup of the learning process\n",
        "print(iterative_process.initialize.type_signature.formatted_representation())"
      ]
    },
    {
      "cell_type": "markdown",
      "metadata": {
        "id": "1A-Lx1oGH9Jy"
      },
      "source": [
        "#### Train"
      ]
    },
    {
      "cell_type": "code",
      "execution_count": null,
      "metadata": {
        "id": "kuAoyOYNbyr5"
      },
      "outputs": [],
      "source": [
        "state = iterative_process.initialize()"
      ]
    },
    {
      "cell_type": "code",
      "execution_count": null,
      "metadata": {
        "colab": {
          "base_uri": "https://localhost:8080/"
        },
        "id": "QSqO7EPIHQXJ",
        "outputId": "654c3bec-46b8-4b93-8325-08676fe72e3f"
      },
      "outputs": [
        {
          "output_type": "stream",
          "name": "stderr",
          "text": [
            "100%|██████████| 49/49 [00:54<00:00,  1.12s/it]\n"
          ]
        }
      ],
      "source": [
        "# Train the federated model with random clients\n",
        "for round_num in tqdm.tqdm(range(1, NUM_ROUNDS)):\n",
        "    result = iterative_process.next(state, [f[0] for f in random_client_ds])\n",
        "    state = result.state\n",
        "    metrics = result.metrics\n",
        "    for name, value in metrics['client_work']['train'].items():\n",
        "        tf.summary.scalar(name, value, step=round_num)"
      ]
    },
    {
      "cell_type": "code",
      "execution_count": null,
      "metadata": {
        "colab": {
          "base_uri": "https://localhost:8080/"
        },
        "id": "03Kpx2vpWhQY",
        "outputId": "353528a2-6df0-4b78-810b-ba62270353f1"
      },
      "outputs": [
        {
          "output_type": "execute_result",
          "data": {
            "text/plain": [
              "OrderedDict([('distributor', ()),\n",
              "             ('client_work',\n",
              "              OrderedDict([('train',\n",
              "                            OrderedDict([('mean_absolute_error', 2147.164),\n",
              "                                         ('loss', 2148.4714),\n",
              "                                         ('num_examples', 62800),\n",
              "                                         ('num_batches', 492)]))])),\n",
              "             ('aggregator',\n",
              "              OrderedDict([('mean_value', ()), ('mean_weight', ())])),\n",
              "             ('finalizer', OrderedDict([('update_non_finite', 0)]))])"
            ]
          },
          "metadata": {},
          "execution_count": 30
        }
      ],
      "source": [
        "result.metrics"
      ]
    },
    {
      "cell_type": "code",
      "execution_count": null,
      "metadata": {
        "colab": {
          "base_uri": "https://localhost:8080/"
        },
        "id": "OhYfnkG4T1qf",
        "outputId": "0506b398-ab52-4027-cd2c-ef3643db7627"
      },
      "outputs": [
        {
          "output_type": "execute_result",
          "data": {
            "text/plain": [
              "LearningAlgorithmState(global_model_weights=ModelWeights(trainable=[array([[ 1.4189123 ,  1.7389028 ,  0.07312496,  1.5636287 , -0.35117736,\n",
              "         0.02626007,  1.2126486 , -0.49722698,  1.6391435 ,  1.6941264 ,\n",
              "         1.2193762 ,  1.7821853 ,  1.6029737 ,  0.8546293 ,  1.2168341 ,\n",
              "         1.7737147 ,  1.4188691 ,  1.3687578 ,  0.06397991,  1.4759294 ,\n",
              "        -0.00476585,  0.9762718 ,  0.6702352 ,  0.5839205 ,  1.3484639 ,\n",
              "         1.534091  ,  1.533158  ,  0.35992745,  1.2923716 ,  0.02302267,\n",
              "         1.4433652 ,  0.5868061 ,  1.5460756 , -0.42014095, -0.20809455,\n",
              "        -0.5650707 , -0.67297524,  1.2811157 ,  0.18986656,  1.5540348 ],\n",
              "       [-0.27092746, -0.22524552, -0.3120267 , -0.28786334,  0.1451848 ,\n",
              "         0.15787664, -0.37949395, -0.03356574, -0.21480867,  0.40005827,\n",
              "        -0.719972  ,  0.14270301, -0.26058057, -1.6049917 ,  0.32306284,\n",
              "         0.37985757, -0.21105848, -0.30480587, -0.25796545, -0.47293037,\n",
              "        -0.04555012,  0.10164984,  0.3313538 ,  0.23410119,  0.4267911 ,\n",
              "         0.7248771 , -0.35565677,  0.04696617, -0.6850261 ,  0.07111496,\n",
              "         0.15202579,  0.08240598, -0.19302467,  0.02537017,  0.07663631,\n",
              "        -0.1257087 ,  0.07575542,  0.026962  , -0.29049325,  0.52389824],\n",
              "       [-0.43456107,  0.1838002 , -0.2737286 , -0.3702132 ,  2.5209599 ,\n",
              "         2.042179  ,  0.5179349 ,  2.5902712 , -0.2500083 , -0.54884166,\n",
              "         0.41462317, -0.59350264,  0.01245895,  0.917295  ,  1.1719811 ,\n",
              "        -0.36579022,  0.9330759 , -0.28032416, -0.16884072,  0.266917  ,\n",
              "         2.652849  ,  1.5184864 ,  1.8274959 ,  2.731614  , -0.4565794 ,\n",
              "         0.7328487 ,  0.81592923,  2.3124802 ,  0.7571866 ,  2.645014  ,\n",
              "         1.0338092 ,  2.038234  , -0.2918936 ,  2.4807608 ,  2.1722362 ,\n",
              "         1.901284  ,  2.1384587 , -0.39195058, -0.0993866 ,  0.35625553],\n",
              "       [ 0.13699001, -0.6359626 , -0.47969764, -0.35292515,  0.30137834,\n",
              "        -0.9457249 , -0.00376668,  0.00445578,  1.1493087 ,  0.15549238,\n",
              "         0.5983124 , -0.34350663,  0.76663625,  0.24081674, -0.06034331,\n",
              "         0.74509263, -1.6669291 ,  0.50772995, -0.5007281 ,  0.57703626,\n",
              "        -0.45955807, -1.1206754 , -1.0753081 , -0.19209573, -0.23186122,\n",
              "         0.1007987 , -0.39450166, -0.10042771,  0.3579481 , -0.14454815,\n",
              "         0.06423873, -0.0259393 ,  1.1425042 , -0.03903498, -0.05680098,\n",
              "        -0.09818861, -0.0228305 ,  0.6670605 , -0.54894495, -0.19681787],\n",
              "       [ 1.3806127 ,  1.434889  ,  0.18781324,  1.4293364 ,  1.5987506 ,\n",
              "         1.8077966 ,  1.0420482 ,  1.91985   ,  1.155849  ,  1.2151711 ,\n",
              "         0.90786946,  1.3647156 ,  1.1864483 ,  1.5862112 ,  1.3323525 ,\n",
              "         1.3729185 ,  1.1742625 ,  1.0276903 ,  0.46464115,  1.0344123 ,\n",
              "         1.6990492 ,  1.2732964 ,  1.1933489 ,  1.7589549 ,  1.021507  ,\n",
              "         1.0719914 ,  0.9019617 ,  1.5616258 ,  1.1816134 ,  1.8544401 ,\n",
              "         1.1077106 ,  1.5906044 ,  0.9569453 ,  1.9374367 ,  1.761956  ,\n",
              "         1.2170545 ,  1.8324383 ,  1.3378913 ,  0.01754992,  1.1116879 ],\n",
              "       [ 0.6585826 , -0.13055551, -0.56979775, -0.06790294, -1.2419331 ,\n",
              "        -1.0509347 , -1.1394031 , -1.2759074 ,  0.44788617,  0.7190496 ,\n",
              "        -0.6807666 , -0.11949219,  0.26168853, -1.5973299 ,  0.06994124,\n",
              "        -0.17170301, -0.25294715,  0.4828745 , -0.54600096,  0.02325635,\n",
              "        -0.64599794, -0.9779206 , -0.18832177, -1.4377824 ,  0.51910895,\n",
              "        -1.4729087 , -0.6623009 , -0.89573795, -1.6206642 , -0.8274569 ,\n",
              "        -1.3933778 ,  1.2291054 ,  0.6091009 , -1.3649648 , -1.0947889 ,\n",
              "        -0.61609066, -1.0571911 ,  0.47624233, -0.42288357, -1.2308847 ],\n",
              "       [-0.0764327 , -0.18403035, -0.22785135, -0.21612653, -1.1978624 ,\n",
              "        -1.3329351 , -1.1592985 , -1.2241749 ,  0.2640792 , -0.7146387 ,\n",
              "        -0.67368776,  0.11902183,  0.5416941 ,  0.08108786, -1.884069  ,\n",
              "        -0.6267286 , -0.28532737,  0.03407368, -0.5005221 ,  0.63012433,\n",
              "        -0.81166613, -0.5637183 , -0.9848444 , -1.5378438 , -1.5293113 ,\n",
              "         0.6626119 , -0.91541344, -0.71776754,  0.92668736, -1.1347693 ,\n",
              "        -0.32093105, -0.9988143 ,  0.30265045, -1.2832643 , -1.1436318 ,\n",
              "        -0.5751057 , -0.91303176,  0.47943497, -0.574142  , -0.08066925],\n",
              "       [ 0.01160642,  0.209131  , -0.35371324, -0.2101273 , -1.4519114 ,\n",
              "        -1.2057319 , -0.86532617, -1.1380731 ,  0.44201452,  0.33769113,\n",
              "        -1.1283265 , -0.30428883,  0.04578855,  0.6343499 , -1.4422389 ,\n",
              "         0.6032345 , -1.26031   ,  0.5345786 , -0.33038202,  0.2767692 ,\n",
              "        -0.654837  , -0.7313781 , -0.3435289 , -1.5382229 ,  0.20414352,\n",
              "        -0.6101712 , -1.2242749 , -1.0676218 ,  0.01287671, -1.0475383 ,\n",
              "        -0.17926939, -0.86237955,  0.5321657 , -1.3687185 , -1.1310999 ,\n",
              "        -0.7191819 , -1.0902313 , -0.6758906 , -0.35601825, -0.19896165],\n",
              "       [ 0.46259886, -0.21728167, -0.08773933,  0.7620807 , -1.6098368 ,\n",
              "        -0.7430051 , -1.6096079 , -0.84775984,  0.20060405, -0.06951652,\n",
              "        -0.02330027, -0.4341377 ,  0.42752782, -0.6500055 ,  1.1346208 ,\n",
              "         0.3252553 , -0.52381426,  0.32238412, -0.6691144 , -0.45694354,\n",
              "        -0.45158634, -0.6115519 , -0.4112526 , -1.4146919 , -0.3340434 ,\n",
              "        -0.4959291 ,  0.4679197 , -0.73397785, -0.4869217 , -0.69225234,\n",
              "        -1.8647066 , -0.70860636,  0.15940946, -0.91056645, -0.72976524,\n",
              "        -0.5594039 , -0.9281039 , -0.07437111, -0.19123925, -1.4342989 ]],\n",
              "      dtype=float32), array([-0.2975192 , -0.30807078, -0.46181095, -0.36236697, -1.3898484 ,\n",
              "       -1.335763  , -1.1318102 , -1.5152538 ,  0.07349253, -0.59635353,\n",
              "       -1.8035111 , -0.44275057, -0.02954768, -1.1189988 , -1.4610393 ,\n",
              "       -0.6581601 , -0.9402747 ,  0.03204136, -0.49248725, -0.4457638 ,\n",
              "       -1.9352362 , -1.140016  , -2.0517516 , -1.48994   , -1.1183969 ,\n",
              "       -0.8172593 , -1.0945746 , -1.8327221 , -0.7964194 , -1.9525794 ,\n",
              "       -0.95306116, -1.3786252 , -0.05363508, -1.4737178 , -1.5005208 ,\n",
              "       -0.75565636, -1.4089873 , -0.46553043, -0.41750708, -0.619036  ],\n",
              "      dtype=float32), array([[-0.52694035,  0.44579706,  0.98325354, ...,  0.62808156,\n",
              "        -0.16256674,  0.62291896],\n",
              "       [-0.5656282 ,  1.3814067 ,  1.2082388 , ...,  1.3145016 ,\n",
              "        -0.57720816,  1.5381588 ],\n",
              "       [-0.11814667,  0.63529056,  0.3212143 , ...,  0.36617693,\n",
              "        -0.18553515,  0.594206  ],\n",
              "       ...,\n",
              "       [-0.33348092,  0.9443995 ,  0.94860077, ...,  0.72427195,\n",
              "        -0.30995575,  0.6947195 ],\n",
              "       [-0.2253355 ,  0.60651463,  0.14887068, ...,  0.6084914 ,\n",
              "         0.09098992,  0.43001136],\n",
              "       [-0.4371148 ,  1.3354635 ,  1.3769617 , ...,  1.3234109 ,\n",
              "        -0.32965198,  1.2758855 ]], dtype=float32), array([-0.41340324,  1.1021682 ,  1.1110569 ,  1.0804977 ,  1.0882857 ,\n",
              "       -0.42013782, -0.29803866,  1.1029402 ,  1.0404431 , -0.2790694 ,\n",
              "        1.1172463 ,  1.0896704 ,  1.1190631 ,  1.1547333 ,  0.8069006 ,\n",
              "       -0.29803866, -0.29803866,  1.1062388 ,  1.1379653 ,  1.0477821 ,\n",
              "        1.1522708 , -0.2980387 ,  1.1030276 ,  1.169633  , -0.41821933,\n",
              "       -0.41721117, -0.42017433, -0.41672567, -0.36608702, -0.29803866,\n",
              "        1.1207755 , -0.29803777, -0.4025236 ,  1.0934467 ,  1.0880728 ,\n",
              "        1.1022536 , -0.29803863,  1.1492887 , -0.40403187,  1.1919035 ],\n",
              "      dtype=float32), array([[ 1.26232177e-01,  3.82154912e-01,  4.03610766e-01,\n",
              "        -5.63487411e-01, -3.55188698e-01,  4.37700702e-03,\n",
              "         5.45900404e-01,  4.72787440e-01,  2.44635820e-01,\n",
              "        -4.63024616e-01, -1.01032518e-01, -1.12497225e-01,\n",
              "        -5.88244617e-01,  2.68020362e-01, -2.61795491e-01,\n",
              "        -2.59514987e-01,  1.04332417e-01, -8.21894556e-02,\n",
              "         1.27436310e-01, -2.23109618e-01],\n",
              "       [ 1.74794650e+00,  1.55848837e+00,  1.94453847e+00,\n",
              "        -4.13659245e-01,  4.82469052e-03, -6.00294411e-01,\n",
              "         1.64761364e+00,  1.61049247e+00,  1.49785137e+00,\n",
              "        -6.09314024e-01, -5.07425666e-01, -2.58810341e-01,\n",
              "        -2.99738050e-01,  1.86608350e+00, -2.40054727e-01,\n",
              "         1.51147199e+00,  1.47239244e+00, -4.47423249e-01,\n",
              "         1.93560970e+00, -8.45006928e-02],\n",
              "       [ 1.51527119e+00,  1.73608649e+00,  1.59443951e+00,\n",
              "        -3.95551324e-01, -2.94403315e-01, -3.48082185e-01,\n",
              "         1.63268042e+00,  1.74074101e+00,  1.84805000e+00,\n",
              "        -2.89526731e-01, -5.63554130e-02,  4.63988781e-02,\n",
              "        -5.75188816e-01,  1.93301892e+00, -3.26968431e-01,\n",
              "         1.99188924e+00,  1.64982688e+00, -2.22539693e-01,\n",
              "         1.90723956e+00, -1.65445104e-01],\n",
              "       [ 1.42666924e+00,  1.82263947e+00,  1.78254187e+00,\n",
              "        -1.84438571e-01, -3.53576034e-01, -5.00078201e-01,\n",
              "         1.48215103e+00,  1.69846809e+00,  1.39916146e+00,\n",
              "        -4.65008467e-01, -5.85038140e-02, -3.14666152e-01,\n",
              "        -5.97872198e-01,  1.84662580e+00, -4.05420423e-01,\n",
              "         1.66340828e+00,  1.53161955e+00, -4.10497099e-01,\n",
              "         1.51740503e+00, -1.32514834e-01],\n",
              "       [ 1.45826387e+00,  1.88520253e+00,  1.72839427e+00,\n",
              "        -4.60616052e-01, -2.89765269e-01, -1.60904735e-01,\n",
              "         1.43026376e+00,  1.82949936e+00,  1.91729188e+00,\n",
              "        -2.95703471e-01, -2.74661392e-01,  1.11676544e-01,\n",
              "        -7.10606053e-02,  1.39687240e+00, -3.61703962e-01,\n",
              "         1.58987164e+00,  1.70226145e+00, -4.78543669e-01,\n",
              "         1.93669569e+00, -2.70158827e-01],\n",
              "       [ 4.62286383e-01,  2.51231849e-01,  2.18319818e-01,\n",
              "        -1.51612654e-01, -5.89374781e-01, -6.16858304e-02,\n",
              "         3.93031716e-01,  2.39745557e-01,  5.32471895e-01,\n",
              "        -3.87342930e-01, -4.02204543e-01,  2.38576025e-01,\n",
              "        -5.66284478e-01,  5.75881958e-01, -2.00542361e-02,\n",
              "        -2.68491775e-01, -1.84080806e-02, -3.85563314e-01,\n",
              "         1.15622297e-01, -3.42203379e-01],\n",
              "       [ 9.01243389e-02,  3.64046986e-03,  2.30825827e-01,\n",
              "         1.06958125e-03, -3.27456445e-01, -1.15456834e-01,\n",
              "         4.23684657e-01,  1.90134317e-01, -3.99128199e-02,\n",
              "        -4.21892852e-01, -4.02535021e-01,  1.99213892e-01,\n",
              "         6.35457039e-03,  4.68208671e-01, -2.69077510e-01,\n",
              "         1.71686947e-01,  1.30804986e-01, -2.49647751e-01,\n",
              "         1.95125733e-02, -5.72365999e-01],\n",
              "       [ 1.49311221e+00,  1.93096471e+00,  1.96001542e+00,\n",
              "        -6.34594619e-01, -3.43848079e-01, -4.20537293e-01,\n",
              "         2.00282788e+00,  1.79257011e+00,  1.77556431e+00,\n",
              "        -5.89000583e-01, -2.30560899e-01, -2.67933458e-01,\n",
              "        -5.35009921e-01,  1.62091756e+00, -3.15223992e-01,\n",
              "         1.51714873e+00,  1.60816669e+00,  1.45725980e-02,\n",
              "         1.81199336e+00, -1.73601415e-02],\n",
              "       [ 1.71603262e+00,  1.96809709e+00,  1.67982066e+00,\n",
              "        -4.22770619e-01, -2.92929083e-01, -1.30856007e-01,\n",
              "         2.03476048e+00,  1.86519635e+00,  1.78121662e+00,\n",
              "        -3.24617475e-01, -1.96374506e-01, -3.68873656e-01,\n",
              "        -3.08842719e-01,  1.54944503e+00, -4.12112735e-02,\n",
              "         1.49322200e+00,  1.51709795e+00, -7.68081564e-03,\n",
              "         1.56358337e+00, -5.15807211e-01],\n",
              "       [ 9.53599364e-02, -7.09607154e-02, -9.57973823e-02,\n",
              "        -3.96254420e-01, -3.84402841e-01, -1.34152686e-03,\n",
              "        -1.87887065e-03,  4.70679671e-01,  3.56479853e-01,\n",
              "         1.09871387e-01, -2.99159408e-01, -2.57694423e-01,\n",
              "         2.20227927e-01,  4.22014058e-01, -5.05982459e-01,\n",
              "        -2.81027466e-01, -5.96517958e-02, -7.36020692e-03,\n",
              "         1.18990662e-02, -4.82988268e-01],\n",
              "       [ 1.88826966e+00,  1.72337949e+00,  1.59439397e+00,\n",
              "        -1.64020464e-01, -5.44004023e-01, -4.45431203e-01,\n",
              "         2.01326442e+00,  1.68868279e+00,  1.45833647e+00,\n",
              "        -2.22831696e-01, -6.07214451e-01, -2.87381083e-01,\n",
              "        -2.60235090e-02,  1.80996311e+00, -1.51645765e-01,\n",
              "         2.07102299e+00,  1.47969842e+00, -4.31634188e-01,\n",
              "         1.85192668e+00, -3.47638249e-01],\n",
              "       [ 1.63839543e+00,  1.53413153e+00,  1.96363330e+00,\n",
              "        -1.52013496e-01, -2.47458383e-01, -5.21089196e-01,\n",
              "         1.41466475e+00,  1.88763940e+00,  1.92234051e+00,\n",
              "        -5.97694814e-01,  1.22888396e-02, -8.00523013e-02,\n",
              "        -9.02453810e-02,  1.70049918e+00, -4.19943742e-02,\n",
              "         1.48750138e+00,  1.53436041e+00, -4.70271021e-01,\n",
              "         1.68239427e+00, -5.18840790e-01],\n",
              "       [ 1.55490792e+00,  1.65558112e+00,  1.53447962e+00,\n",
              "        -5.26879668e-01, -4.92980272e-01, -4.99718249e-01,\n",
              "         1.90009558e+00,  1.94901776e+00,  1.62628949e+00,\n",
              "        -1.66895092e-01, -8.05983767e-02, -4.49054927e-01,\n",
              "        -2.99458474e-01,  1.63250005e+00, -2.83641636e-01,\n",
              "         1.82035649e+00,  1.98652983e+00, -1.65081516e-01,\n",
              "         1.53101063e+00, -3.37993562e-01],\n",
              "       [ 1.65477002e+00,  1.56204486e+00,  1.75218654e+00,\n",
              "        -1.94053039e-01, -4.54371303e-01, -1.62909925e-01,\n",
              "         1.95299661e+00,  1.83169365e+00,  1.69246089e+00,\n",
              "        -9.45509672e-02, -4.31003511e-01, -2.28807330e-01,\n",
              "        -5.52220821e-01,  1.48642528e+00, -1.00813001e-01,\n",
              "         1.62126791e+00,  1.81146288e+00, -1.62909925e-01,\n",
              "         1.97503591e+00, -5.44021428e-01],\n",
              "       [ 1.71407318e+00,  1.81647241e+00,  1.80553222e+00,\n",
              "        -3.49199623e-01, -1.35335788e-01, -6.00239277e-01,\n",
              "         2.10437036e+00,  1.57522523e+00,  1.68320453e+00,\n",
              "        -7.44974837e-02, -2.74931401e-01, -3.71501088e-01,\n",
              "        -4.87247854e-01,  2.03596663e+00, -4.10242796e-01,\n",
              "         2.00811815e+00,  1.64704907e+00, -2.48328164e-01,\n",
              "         2.02687955e+00, -1.03378668e-01],\n",
              "       [ 6.07668161e-02,  2.93278489e-02,  2.06051469e-01,\n",
              "        -2.07079098e-01, -4.00027893e-02, -2.13506043e-01,\n",
              "         4.13381457e-01,  2.82682627e-01,  5.92933178e-01,\n",
              "        -2.68847883e-01, -5.21151900e-01, -4.02175784e-02,\n",
              "        -1.57568008e-01, -2.51302719e-01, -4.61226076e-01,\n",
              "        -2.03940585e-01,  6.49213865e-02, -3.31941456e-01,\n",
              "        -1.63754250e-03,  2.72019535e-01],\n",
              "       [ 5.46022713e-01,  3.36783379e-01,  2.25150928e-01,\n",
              "        -1.24306612e-01, -1.91520527e-01, -2.65835434e-01,\n",
              "         4.74358678e-01,  5.79214215e-01,  4.47146088e-01,\n",
              "         2.56764799e-01, -4.74495798e-01, -1.66943341e-01,\n",
              "         1.09445155e-02,  4.48903441e-02, -3.63700062e-01,\n",
              "         9.16479230e-02, -2.00511187e-01, -3.64880252e-04,\n",
              "         1.38494268e-01, -5.42845011e-01],\n",
              "       [ 1.72737968e+00,  1.53419948e+00,  1.65605831e+00,\n",
              "        -3.41163367e-01, -9.51323137e-02, -3.88164371e-01,\n",
              "         1.82679236e+00,  1.55267084e+00,  1.80602574e+00,\n",
              "         1.14054948e-01, -5.97029150e-01, -2.86043853e-01,\n",
              "         9.71116126e-02,  1.93184602e+00, -5.29649258e-01,\n",
              "         1.45321393e+00,  1.75264680e+00, -4.36578989e-01,\n",
              "         1.92329729e+00, -2.00320091e-02],\n",
              "       [ 1.78204823e+00,  1.98439026e+00,  1.69148004e+00,\n",
              "        -5.35755396e-01, -3.88744324e-01, -3.01596016e-01,\n",
              "         1.43065846e+00,  1.93548024e+00,  1.64671195e+00,\n",
              "        -1.21648833e-01, -5.81974149e-01, -2.23349482e-01,\n",
              "        -4.21391308e-01,  1.48895597e+00, -3.48643899e-01,\n",
              "         1.54828012e+00,  1.76347327e+00,  2.37827713e-04,\n",
              "         1.45887303e+00, -3.13961774e-01],\n",
              "       [ 1.85665953e+00,  1.64065468e+00,  1.96604300e+00,\n",
              "        -3.34619850e-01, -1.88077077e-01, -3.20825772e-03,\n",
              "         1.48576510e+00,  1.76661313e+00,  1.94629407e+00,\n",
              "        -5.85697591e-01, -4.59425181e-01,  2.64618665e-01,\n",
              "        -3.64738069e-02,  1.83678210e+00, -1.85862958e-01,\n",
              "         1.55086100e+00,  1.83368969e+00, -1.69378206e-01,\n",
              "         1.60584033e+00, -3.06563646e-01],\n",
              "       [ 1.93876421e+00,  1.66392481e+00,  1.41917002e+00,\n",
              "        -2.82596469e-01, -3.06138754e-01, -8.56944993e-02,\n",
              "         1.61477542e+00,  1.62870181e+00,  1.39558482e+00,\n",
              "         2.33785182e-01, -4.58790630e-01, -2.33127117e-01,\n",
              "        -2.44751215e-01,  1.94223475e+00, -1.62804782e-01,\n",
              "         1.61361039e+00,  1.99656320e+00, -6.05947316e-01,\n",
              "         1.64226973e+00, -5.88920832e-01],\n",
              "       [ 5.50878108e-01,  2.76664607e-02,  3.01164985e-01,\n",
              "        -5.14317989e-01, -3.46140474e-01, -5.05612314e-01,\n",
              "         2.96193749e-01,  1.41451061e-01,  5.24579942e-01,\n",
              "        -1.79126173e-01,  6.55706134e-03, -2.64969587e-01,\n",
              "        -3.94350961e-02,  3.15093130e-01, -6.26870468e-02,\n",
              "        -1.70700938e-01,  2.27956012e-01, -1.05523251e-01,\n",
              "         3.11559230e-01, -1.30587220e-01],\n",
              "       [ 1.89103162e+00,  1.60822117e+00,  1.79863572e+00,\n",
              "        -2.95481384e-01, -4.42806602e-01, -4.98171806e-01,\n",
              "         1.72907174e+00,  1.81162369e+00,  1.85038269e+00,\n",
              "        -1.92414567e-01, -9.19228606e-03, -5.54964483e-01,\n",
              "        -2.51806468e-01,  1.45438492e+00, -1.42352998e-01,\n",
              "         1.53327084e+00,  1.98730659e+00, -5.74063957e-01,\n",
              "         1.43926024e+00, -3.53890836e-01],\n",
              "       [ 1.98345947e+00,  1.69632137e+00,  1.53058243e+00,\n",
              "        -1.48346514e-01, -2.90812910e-01, -2.25128666e-01,\n",
              "         1.63843536e+00,  1.95040488e+00,  1.41450584e+00,\n",
              "        -4.01240736e-01, -6.05208457e-01, -3.30966786e-02,\n",
              "        -5.52790105e-01,  1.59136915e+00, -2.87580639e-01,\n",
              "         1.52484989e+00,  1.46986628e+00, -1.37406632e-01,\n",
              "         1.91905034e+00, -2.34856665e-01],\n",
              "       [ 4.93731707e-01,  3.07765484e-01,  2.22422421e-01,\n",
              "        -1.20936468e-01, -1.57810867e-01, -4.99918878e-01,\n",
              "         2.93134838e-01,  4.83884484e-01,  5.64746320e-01,\n",
              "        -1.52903020e-01, -2.91412115e-01, -2.04770610e-01,\n",
              "        -5.92752516e-01,  2.08134204e-01, -4.01210964e-01,\n",
              "         4.36620712e-01,  3.48745853e-01, -4.95735317e-01,\n",
              "         1.42446324e-01, -2.88733929e-01],\n",
              "       [ 4.80073631e-01,  3.43015820e-01,  5.13020456e-01,\n",
              "        -3.99920374e-01, -3.67259532e-01, -6.11392260e-02,\n",
              "         7.10991681e-01,  1.18587866e-01,  3.85580361e-01,\n",
              "        -1.32848233e-01, -3.05389106e-01, -2.43766844e-01,\n",
              "        -4.76574451e-01,  3.59429508e-01, -4.80577797e-01,\n",
              "        -3.12545568e-01,  8.54106620e-02, -4.59199667e-01,\n",
              "         6.20894492e-01, -5.11695184e-02],\n",
              "       [ 4.78791744e-01,  2.19161764e-01,  7.01157212e-01,\n",
              "        -2.28975713e-01, -1.20246259e-03, -4.76697944e-02,\n",
              "         4.26194191e-01,  1.20950185e-01,  3.40926915e-01,\n",
              "        -5.84810257e-01, -2.18734130e-01, -5.61632335e-01,\n",
              "        -1.09538198e-01,  4.90408689e-01, -2.87730753e-01,\n",
              "         1.24929793e-01,  2.23528266e-01, -3.69487554e-02,\n",
              "         3.93041551e-01, -2.00838566e-01],\n",
              "       [ 4.85928059e-01,  3.42759132e-01,  1.85178921e-01,\n",
              "        -5.81687748e-01, -2.22354904e-02, -4.02879924e-01,\n",
              "         3.44596207e-01,  3.00765932e-01,  3.37906629e-01,\n",
              "        -4.05036420e-01, -3.49219024e-01, -2.42956653e-01,\n",
              "        -3.93244207e-01,  2.09581450e-01, -3.27464819e-01,\n",
              "         3.40992570e-01,  2.66433150e-01, -5.65647557e-02,\n",
              "         6.74029946e-01, -5.63508809e-01],\n",
              "       [ 2.09694996e-01, -5.37751950e-02,  4.78482664e-01,\n",
              "        -1.56593531e-01, -5.64078927e-01, -1.44061223e-01,\n",
              "         2.43731469e-01,  3.49543601e-01,  2.29917422e-01,\n",
              "        -4.77875248e-02, -4.84998345e-01,  2.29844004e-01,\n",
              "        -2.78584987e-01,  4.51256394e-01, -2.05170810e-02,\n",
              "        -3.96217167e-01,  3.43357623e-01, -1.29359201e-01,\n",
              "         8.16953927e-03, -4.13514525e-01],\n",
              "       [ 5.95971793e-02, -1.96926862e-01,  5.27462184e-01,\n",
              "        -1.75401513e-02, -4.15345728e-01, -3.53304446e-02,\n",
              "         3.27813566e-01,  4.90720458e-02,  5.54329276e-01,\n",
              "        -1.73157826e-01,  1.66027218e-01, -6.21956289e-02,\n",
              "         8.05867016e-02,  2.75075287e-01, -4.64890122e-01,\n",
              "         3.42979729e-02, -9.06720012e-02, -1.17627263e-01,\n",
              "         9.23011452e-02, -1.79026157e-01],\n",
              "       [ 1.70999682e+00,  1.60132897e+00,  1.96203685e+00,\n",
              "        -2.61371940e-01, -4.26782548e-01, -2.98735082e-01,\n",
              "         1.83011973e+00,  1.87577128e+00,  1.81922519e+00,\n",
              "        -9.26988870e-02, -5.23191616e-02, -9.68775153e-03,\n",
              "        -5.38209617e-01,  1.74964201e+00, -4.05893713e-01,\n",
              "         1.89719331e+00,  2.00473380e+00, -5.24511039e-01,\n",
              "         1.81818354e+00, -3.41735810e-01],\n",
              "       [ 3.64190377e-02,  1.49971235e-03,  3.81807595e-01,\n",
              "        -3.84446055e-01, -3.71303320e-01, -2.62728125e-01,\n",
              "         3.18695337e-01,  4.18099612e-01,  4.68594693e-02,\n",
              "        -2.17533514e-01, -5.05299687e-01, -1.35675430e-01,\n",
              "        -3.22608799e-01,  2.34587222e-01, -2.93354034e-01,\n",
              "         1.95511684e-01,  4.09568220e-01, -5.69770277e-01,\n",
              "         1.84338048e-01, -5.69052160e-01],\n",
              "       [ 1.50209084e-01, -3.70846391e-02,  1.88228786e-01,\n",
              "        -8.05500373e-02, -2.16653243e-01, -4.72179532e-01,\n",
              "         1.89670399e-02, -8.00148845e-02,  3.85400981e-01,\n",
              "        -1.10290110e-01,  1.58987548e-02, -1.87530905e-01,\n",
              "        -6.14333972e-02,  2.58041978e-01, -3.22890699e-01,\n",
              "        -3.21307302e-01,  5.89501113e-02, -1.85632408e-01,\n",
              "         1.43173322e-01, -5.10985434e-01],\n",
              "       [ 1.46448922e+00,  1.47970808e+00,  1.96355712e+00,\n",
              "        -4.81155545e-01, -1.73379034e-01, -1.88406318e-01,\n",
              "         1.95012331e+00,  1.97350705e+00,  1.65822124e+00,\n",
              "        -3.56502682e-01, -5.60825646e-01, -5.89199483e-01,\n",
              "        -3.30721349e-01,  1.43214107e+00, -2.99487919e-01,\n",
              "         1.45327806e+00,  1.71899581e+00, -2.33523846e-01,\n",
              "         1.83811915e+00, -3.19986582e-01],\n",
              "       [ 1.53735924e+00,  1.76405561e+00,  1.46243656e+00,\n",
              "        -6.97231114e-01, -3.58950257e-01, -4.68206331e-02,\n",
              "         1.48014081e+00,  1.74241078e+00,  1.81266689e+00,\n",
              "        -2.38023803e-01, -4.41359669e-01, -5.07005394e-01,\n",
              "        -5.81163406e-01,  1.76946509e+00, -2.78376967e-01,\n",
              "         1.62877238e+00,  1.45461237e+00, -5.24368525e-01,\n",
              "         1.81054354e+00, -2.77943909e-01],\n",
              "       [ 1.96527386e+00,  1.86820543e+00,  1.57962656e+00,\n",
              "        -3.58771831e-01, -2.48638958e-01, -3.70980233e-01,\n",
              "         1.43470621e+00,  1.74191523e+00,  1.49633658e+00,\n",
              "        -4.85782236e-01, -4.12868023e-01, -4.69035953e-01,\n",
              "        -1.28932893e-02,  1.64217889e+00, -2.67748684e-01,\n",
              "         1.79056799e+00,  1.63666940e+00, -3.47714275e-01,\n",
              "         1.84446144e+00, -3.56184423e-01],\n",
              "       [ 2.00410979e-03,  4.49008673e-01,  2.89654046e-01,\n",
              "        -3.83910865e-01, -3.97496670e-02, -1.95659012e-01,\n",
              "         9.83814597e-02,  2.65486956e-01,  2.25097090e-01,\n",
              "        -3.83004695e-01, -5.79560101e-01, -1.28026187e-01,\n",
              "        -8.01945478e-02,  3.86523843e-01, -2.69063741e-01,\n",
              "         8.33498240e-02,  1.21772885e-01, -3.46855432e-01,\n",
              "         4.14452970e-01, -3.83876503e-01],\n",
              "       [ 1.58943188e+00,  1.67929852e+00,  1.79501069e+00,\n",
              "        -2.62507081e-01, -1.69650167e-01, -5.44456095e-02,\n",
              "         1.60527503e+00,  1.53484893e+00,  1.99144685e+00,\n",
              "        -2.45399326e-01, -2.72749931e-01, -8.18349048e-02,\n",
              "        -5.84935397e-02,  1.73943996e+00, -4.15036827e-01,\n",
              "         1.71881056e+00,  1.45168817e+00, -5.83322346e-01,\n",
              "         2.00394607e+00, -2.06554793e-02],\n",
              "       [ 3.25023800e-01,  1.45006761e-01,  7.94390365e-02,\n",
              "        -4.68457699e-01, -1.28398985e-01, -4.98022050e-01,\n",
              "         6.69076443e-01,  3.84574831e-01,  2.79058963e-01,\n",
              "        -4.23039407e-01, -1.71406001e-01, -3.15603346e-01,\n",
              "         2.79630125e-02,  2.49481305e-01, -5.11031628e-01,\n",
              "         6.86888099e-01,  6.18845820e-01, -3.50953311e-01,\n",
              "         1.33675218e-01, -3.34480584e-01],\n",
              "       [ 2.06976199e+00,  2.01433492e+00,  1.83198595e+00,\n",
              "        -2.21121266e-01, -1.74595162e-01, -8.81728604e-02,\n",
              "         1.76384437e+00,  1.98980474e+00,  1.86865151e+00,\n",
              "        -2.68465221e-01, -2.44692788e-01, -4.02827471e-01,\n",
              "        -4.02485341e-01,  2.04271650e+00, -1.17783889e-01,\n",
              "         1.58953035e+00,  1.52830815e+00, -3.00714523e-01,\n",
              "         1.53196859e+00, -5.62908426e-02]], dtype=float32), array([ 1.2664037 ,  1.2629269 ,  1.2530197 , -0.38420728, -0.29803866,\n",
              "       -0.2980387 ,  1.2594416 ,  1.2601618 ,  1.2586061 , -0.29803866,\n",
              "       -0.29803866, -0.29803866, -0.2980387 ,  1.2636237 , -0.2980387 ,\n",
              "        1.3316693 ,  1.283053  , -0.29803866,  1.2533623 , -0.29803866],\n",
              "      dtype=float32), array([[ 1.7736287e+00],\n",
              "       [ 2.1303713e+00],\n",
              "       [ 1.9231967e+00],\n",
              "       [ 2.6610276e-01],\n",
              "       [ 1.3864237e-01],\n",
              "       [ 6.0787089e-02],\n",
              "       [ 1.7606298e+00],\n",
              "       [ 2.1403186e+00],\n",
              "       [ 1.9898064e+00],\n",
              "       [-2.0405248e-01],\n",
              "       [ 1.3744636e-01],\n",
              "       [-1.5371715e-03],\n",
              "       [-1.3963100e-01],\n",
              "       [ 2.0762689e+00],\n",
              "       [ 1.9646336e-01],\n",
              "       [ 1.9774605e+00],\n",
              "       [ 1.7956978e+00],\n",
              "       [-2.1672189e-01],\n",
              "       [ 1.7954019e+00],\n",
              "       [ 1.2764204e-01]], dtype=float32), array([1.3369774], dtype=float32)], non_trainable=[]), distributor=(), client_work=(), aggregator=OrderedDict([('value_sum_process', ()), ('weight_sum_process', ())]), finalizer=[49, array([[-9.62392390e-02, -1.18408598e-01, -1.34589639e-03,\n",
              "        -1.21547028e-01,  2.08143502e-01,  5.18467784e-01,\n",
              "         1.43762067e-01,  3.80065084e-01, -1.25433609e-01,\n",
              "        -1.13973469e-01,  3.11625544e-02, -1.20920002e-01,\n",
              "        -1.21916763e-01,  1.40413314e-01, -1.14227071e-01,\n",
              "        -1.29035875e-01,  1.50126398e-01, -1.11391485e-01,\n",
              "        -6.10119139e-04, -8.08502883e-02,  3.74525398e-01,\n",
              "         2.91319609e-01,  2.73681343e-01,  5.55421352e-01,\n",
              "        -6.27758503e-02, -5.21140508e-02,  1.19845504e-02,\n",
              "         4.49130774e-01, -2.34062318e-02,  3.78405452e-01,\n",
              "        -4.09073643e-02,  2.18241617e-01, -1.20925248e-01,\n",
              "         3.70600045e-01,  3.81823570e-01,  3.44962984e-01,\n",
              "         4.33183700e-01, -1.06518000e-01, -7.37408700e-04,\n",
              "        -9.29695591e-02],\n",
              "       [-1.90280918e-02, -1.79207977e-02, -2.30359365e-05,\n",
              "         1.63890496e-02, -6.06208155e-03, -5.08142635e-04,\n",
              "         1.01431116e-01,  3.68823973e-03,  6.98257145e-03,\n",
              "        -1.41746094e-02,  2.57573485e-01,  3.06872791e-03,\n",
              "        -9.09759849e-03,  1.03731759e-01,  4.19478714e-02,\n",
              "        -2.82655209e-02,  1.80155691e-02,  5.92564885e-03,\n",
              "         1.69275489e-04, -2.46873312e-03,  2.28425078e-02,\n",
              "         2.70500139e-04, -1.60272062e-01,  2.36732978e-03,\n",
              "        -4.89448085e-02, -9.86735150e-03, -2.25938782e-02,\n",
              "         3.35990451e-02,  1.58487596e-02, -3.97418393e-04,\n",
              "         3.73797454e-02,  8.95802863e-03,  3.95263266e-03,\n",
              "         2.16279039e-03,  2.98228906e-03,  2.46524923e-02,\n",
              "        -1.85411912e-03,  3.20013589e-03,  1.28479092e-04,\n",
              "        -9.18884110e-03],\n",
              "       [ 2.64063925e-02,  4.06676196e-02, -9.12766700e-05,\n",
              "         8.52297246e-03, -5.06605268e-01, -6.94520652e-01,\n",
              "         3.32726873e-02, -6.96785927e-01, -7.03317346e-04,\n",
              "         1.35557959e-02,  5.55739105e-02,  2.32789926e-02,\n",
              "        -5.18564135e-03,  4.26114351e-02,  6.29724339e-02,\n",
              "        -2.30053114e-03, -4.64349948e-02,  4.75991424e-03,\n",
              "        -2.92511570e-04,  1.42890960e-03, -5.43082952e-01,\n",
              "        -1.42599344e-01, -1.39564469e-01, -4.93897021e-01,\n",
              "        -7.88240954e-02, -4.36304882e-02, -3.49749345e-03,\n",
              "        -6.17144585e-01,  4.96054143e-02, -6.82545662e-01,\n",
              "        -2.76259035e-02, -1.86356515e-01,  2.24336819e-03,\n",
              "        -7.17534661e-01, -7.59590685e-01, -3.00168902e-01,\n",
              "        -6.91432476e-01,  3.14710289e-02, -1.93438304e-04,\n",
              "         9.31046717e-03],\n",
              "       [ 3.86930145e-02, -9.50293429e-03,  3.37712350e-04,\n",
              "         5.71828429e-03, -1.51021123e-01,  9.70625281e-02,\n",
              "         4.18009050e-03, -3.12396651e-03, -9.68883783e-02,\n",
              "         3.87971848e-02, -1.17754936e-01, -1.55157782e-02,\n",
              "        -4.55763564e-02,  5.18163480e-02,  7.42031867e-03,\n",
              "         5.85374534e-02,  3.90136272e-01, -7.47549459e-02,\n",
              "         5.07101184e-04, -5.01450291e-03,  1.66119505e-02,\n",
              "         1.49103805e-01,  6.28997445e-01, -1.82722315e-01,\n",
              "         1.57594204e-01,  1.92790926e-02, -7.54944831e-02,\n",
              "        -5.81628904e-02, -2.72578541e-02, -1.36997681e-02,\n",
              "        -8.42932519e-03, -8.19745809e-02, -9.40591246e-02,\n",
              "         3.26786051e-03,  5.49857989e-02,  4.25762646e-02,\n",
              "        -7.44133024e-03,  7.09257182e-03,  4.53976128e-04,\n",
              "        -3.59104155e-03],\n",
              "       [ 9.51679274e-02,  1.03744984e-01, -2.65230518e-03,\n",
              "         9.89244506e-02, -6.52503550e-01, -3.49545330e-01,\n",
              "         1.06012180e-01, -5.77782333e-01,  9.70526189e-02,\n",
              "         1.82419300e-01, -1.77101772e-02,  1.01221032e-01,\n",
              "         9.58979949e-02, -2.81303853e-01,  2.11231969e-03,\n",
              "         1.33808419e-01, -1.58143211e-02,  9.55998823e-02,\n",
              "        -1.66755321e-03,  4.25567143e-02, -4.68356371e-01,\n",
              "        -1.50741905e-01, -3.77658546e-01, -3.81081909e-01,\n",
              "         1.64812684e-01,  6.44627661e-02,  8.15964192e-02,\n",
              "        -4.58697885e-01, -1.29924148e-01, -4.55067158e-01,\n",
              "        -8.74247551e-02, -1.19066283e-01,  9.68036354e-02,\n",
              "        -5.38949788e-01, -4.52678919e-01, -4.82112229e-01,\n",
              "        -5.66138506e-01,  1.08014174e-01, -1.80517545e-03,\n",
              "         8.93277749e-02],\n",
              "       [-1.57767590e-02, -1.27105117e-02,  1.15347689e-03,\n",
              "         2.83094198e-02, -9.41170678e-02, -3.04988399e-02,\n",
              "         1.32682249e-01, -6.08396865e-02,  1.61474738e-02,\n",
              "        -2.68402565e-02,  1.28546342e-01, -2.55871844e-02,\n",
              "        -1.74206812e-02,  8.88292938e-02,  1.05653815e-01,\n",
              "         4.91089886e-03, -8.01415928e-03,  1.96868479e-02,\n",
              "         9.75119590e-04,  3.55144180e-02, -2.26443887e-01,\n",
              "        -6.17250353e-02,  2.43989192e-02,  8.93792063e-02,\n",
              "        -4.11253050e-02, -7.79078063e-03,  1.39521882e-02,\n",
              "        -7.42230341e-02, -9.05317664e-02, -3.06982733e-02,\n",
              "        -7.54199177e-03,  1.52236642e-03,  2.05550138e-02,\n",
              "        -6.72125146e-02, -1.58185102e-02, -9.65560377e-02,\n",
              "        -6.67016283e-02,  2.29522912e-03,  6.62568142e-04,\n",
              "         1.32435769e-01],\n",
              "       [ 7.02281892e-02,  4.40064967e-02,  2.10544822e-04,\n",
              "         1.04970448e-02, -2.27751762e-01,  6.25945441e-03,\n",
              "         2.29109570e-01, -1.22041799e-01, -7.16937007e-03,\n",
              "         1.22158825e-01,  2.10502148e-01, -4.22138982e-02,\n",
              "        -9.99421254e-03,  2.24883016e-02,  4.98113036e-02,\n",
              "         1.38850929e-02,  8.96668993e-03,  1.51537796e-02,\n",
              "         2.30241261e-04, -3.84417623e-02,  8.23466703e-02,\n",
              "         1.23775840e-01,  1.55878454e-01,  2.46253572e-02,\n",
              "         2.96865940e-01, -8.77942517e-03,  3.07677448e-01,\n",
              "        -5.33495545e-02, -3.28362845e-02, -2.75359768e-02,\n",
              "        -4.61182147e-02, -8.97453576e-02, -4.54895664e-03,\n",
              "        -1.38481468e-01, -5.96875213e-02, -1.36786541e-02,\n",
              "        -2.33042806e-01, -7.53846020e-03,  3.59413796e-04,\n",
              "        -1.52097689e-02],\n",
              "       [ 2.46620588e-02,  2.02181819e-03,  2.06207245e-04,\n",
              "        -8.19416158e-03, -1.28921047e-01, -3.94503176e-02,\n",
              "         1.56329036e-01, -1.44688755e-01,  5.96172456e-03,\n",
              "        -2.86618862e-02,  1.75229728e-01,  1.19100772e-02,\n",
              "        -2.49624494e-02, -5.95795400e-02,  2.75386162e-02,\n",
              "         2.21325783e-03,  3.58781427e-01,  1.09313950e-02,\n",
              "         5.09268721e-04,  1.76463947e-02, -6.28641397e-02,\n",
              "         1.42011419e-01,  4.60229069e-02, -1.65368803e-02,\n",
              "        -1.16793551e-02,  2.36247964e-02,  3.09148967e-01,\n",
              "        -3.78035828e-02, -5.44239953e-03, -1.29609808e-01,\n",
              "         1.76762976e-02, -2.96268594e-02,  7.67171010e-03,\n",
              "        -1.48705289e-01, -1.01134926e-01, -5.83715066e-02,\n",
              "        -1.47853315e-01, -9.18937195e-03,  4.30762448e-04,\n",
              "         2.50058044e-02],\n",
              "       [-3.22989225e-02,  2.98796631e-02,  5.00856666e-04,\n",
              "        -2.14403812e-02,  1.80832848e-01, -6.42350763e-02,\n",
              "         2.04003021e-01, -7.35874027e-02,  2.53424840e-03,\n",
              "        -9.17449128e-03,  9.84757915e-02,  5.51738143e-02,\n",
              "         1.45865679e-02,  1.25460505e-01, -2.91072894e-02,\n",
              "         1.25116818e-02,  4.87233177e-02, -6.92550605e-03,\n",
              "         2.19642767e-04,  1.36778802e-02, -1.00948215e-01,\n",
              "        -2.98751220e-02,  1.17842458e-01,  2.03588679e-02,\n",
              "         1.93745717e-01,  9.16815363e-04, -1.12162856e-02,\n",
              "        -1.62151828e-02,  3.70097384e-02, -4.09934409e-02,\n",
              "         1.86561137e-01, -2.57605314e-02, -3.06499563e-03,\n",
              "        -7.90017620e-02, -9.20231938e-02, -1.49212601e-02,\n",
              "        -7.64828101e-02,  7.73559790e-04,  4.10747161e-04,\n",
              "         5.30335456e-02]], dtype=float32), array([[2.46155206e-02, 2.60199942e-02, 2.45500286e-03, 2.42891535e-02,\n",
              "        1.76910143e-02, 3.15152705e-02, 1.99407060e-02, 2.41870582e-02,\n",
              "        2.43929084e-02, 2.42440626e-02, 2.25023590e-02, 2.51788236e-02,\n",
              "        2.45663617e-02, 2.49789730e-02, 2.01663841e-02, 2.53609736e-02,\n",
              "        2.42320653e-02, 2.38135718e-02, 9.47358320e-04, 2.33392902e-02,\n",
              "        2.31089201e-02, 2.32355036e-02, 2.55665183e-02, 3.56195718e-02,\n",
              "        2.30572484e-02, 2.15858035e-02, 2.28464790e-02, 3.29944529e-02,\n",
              "        2.12237760e-02, 3.08443625e-02, 1.96481049e-02, 2.39837319e-02,\n",
              "        2.32195631e-02, 2.19227038e-02, 2.71010362e-02, 9.57431830e-03,\n",
              "        2.48299278e-02, 2.41354574e-02, 1.83702656e-03, 2.51823273e-02],\n",
              "       [1.54318201e-04, 1.33661189e-04, 1.72506698e-04, 2.15198961e-04,\n",
              "        1.10503449e-03, 4.11101151e-04, 6.59903744e-04, 1.99846181e-04,\n",
              "        1.62333818e-04, 1.36391129e-04, 1.87212811e-03, 1.24293394e-04,\n",
              "        1.79171606e-04, 1.03179237e-03, 3.40247789e-04, 1.46584818e-04,\n",
              "        1.43385318e-04, 1.26620536e-04, 1.09867091e-04, 1.24873564e-04,\n",
              "        6.71250105e-04, 1.58358933e-04, 1.27892045e-03, 4.82725882e-04,\n",
              "        2.39403671e-04, 7.01799872e-05, 1.85324941e-04, 4.25937556e-04,\n",
              "        2.59278429e-04, 3.30116105e-04, 1.91324230e-04, 2.09252234e-04,\n",
              "        1.93273736e-04, 1.95626053e-04, 3.13534547e-04, 6.00053638e-04,\n",
              "        2.62205023e-04, 1.49361294e-04, 9.33424453e-05, 1.59798961e-04],\n",
              "       [5.39041299e-04, 5.11547434e-04, 5.64043235e-04, 1.15001785e-04,\n",
              "        5.92735521e-02, 3.80349867e-02, 1.65222830e-03, 7.86824152e-02,\n",
              "        4.89478814e-04, 8.77176353e-05, 1.01450656e-03, 1.62059150e-04,\n",
              "        6.12721487e-04, 1.74353633e-03, 5.64320304e-04, 3.48765316e-04,\n",
              "        3.07810464e-04, 4.67969570e-04, 3.92233924e-04, 4.50988446e-04,\n",
              "        2.73234677e-02, 1.53303065e-03, 3.25216143e-03, 1.94709860e-02,\n",
              "        3.32990516e-04, 5.97928301e-04, 1.26844796e-04, 2.73951907e-02,\n",
              "        6.69128262e-04, 4.95877489e-02, 1.44088338e-03, 7.54807424e-03,\n",
              "        3.64702515e-04, 7.76595995e-02, 6.61026835e-02, 1.40180336e-02,\n",
              "        9.42373723e-02, 2.47573218e-04, 4.34699963e-04, 1.74055167e-04],\n",
              "       [3.07469838e-03, 2.62646558e-04, 2.03820906e-04, 1.32368226e-03,\n",
              "        3.12953629e-03, 1.94010790e-03, 5.33329207e-04, 2.74169981e-03,\n",
              "        2.92080571e-03, 1.30248268e-03, 3.08667915e-03, 3.64703068e-04,\n",
              "        3.08882608e-03, 2.32773111e-03, 9.18112288e-04, 2.25366047e-03,\n",
              "        3.54634388e-03, 2.78324611e-03, 1.79467927e-04, 2.14637537e-03,\n",
              "        3.58168804e-03, 1.20118086e-03, 1.01486659e-02, 2.88465363e-03,\n",
              "        2.75145262e-03, 8.60555039e-04, 6.56389573e-04, 1.78030820e-03,\n",
              "        1.31813739e-03, 1.18616049e-03, 7.07435131e-04, 1.74611155e-03,\n",
              "        2.67004757e-03, 3.78375780e-03, 3.08495457e-03, 8.77876533e-04,\n",
              "        2.72661727e-03, 2.59408145e-03, 2.17269742e-04, 9.98148826e-05],\n",
              "       [7.08176121e-02, 6.89170733e-02, 6.84574805e-03, 6.91133663e-02,\n",
              "        1.10583641e-01, 6.52036443e-02, 5.62044978e-02, 8.99093598e-02,\n",
              "        6.98456392e-02, 7.06177056e-02, 6.60119802e-02, 6.97439015e-02,\n",
              "        7.05848485e-02, 7.10540935e-02, 7.03155771e-02, 7.13519976e-02,\n",
              "        6.60361275e-02, 6.97707236e-02, 3.82722006e-03, 6.90429583e-02,\n",
              "        8.12758356e-02, 5.89309148e-02, 6.92658052e-02, 7.23594129e-02,\n",
              "        6.95726648e-02, 6.63841069e-02, 6.55002594e-02, 7.84244537e-02,\n",
              "        6.79050684e-02, 8.29073563e-02, 6.08553514e-02, 7.00750351e-02,\n",
              "        6.83778524e-02, 8.97372738e-02, 7.57120475e-02, 3.46859768e-02,\n",
              "        9.57545266e-02, 7.04983696e-02, 6.22043759e-03, 6.83230460e-02],\n",
              "       [3.10920499e-04, 1.19404402e-03, 1.08610117e-03, 4.16724622e-04,\n",
              "        7.55094783e-03, 3.53699666e-03, 1.00498705e-03, 8.60713981e-03,\n",
              "        2.88801763e-04, 2.04773140e-04, 1.30406406e-03, 6.44461019e-04,\n",
              "        6.34985801e-04, 3.03305499e-03, 6.22230582e-04, 4.32399422e-04,\n",
              "        1.30401505e-03, 3.45943350e-04, 9.38778394e-04, 4.09650675e-04,\n",
              "        7.20886281e-03, 1.49454956e-03, 1.86660979e-03, 3.10375122e-03,\n",
              "        4.55425296e-04, 6.02834101e-04, 5.27289056e-04, 2.57022167e-03,\n",
              "        1.69384922e-03, 2.51433230e-03, 1.62773649e-03, 4.17556934e-04,\n",
              "        2.96029146e-04, 8.21825210e-03, 4.71087033e-03, 2.71612243e-03,\n",
              "        1.27561335e-02, 3.26839363e-04, 8.37998290e-04, 9.10516595e-04],\n",
              "       [3.17980070e-04, 8.43257760e-04, 4.95237146e-05, 5.15228021e-04,\n",
              "        6.60671666e-03, 4.75995336e-03, 1.60593889e-03, 8.15789495e-03,\n",
              "        2.60081026e-04, 9.87843028e-04, 1.55595574e-03, 4.46271821e-04,\n",
              "        2.79351807e-04, 3.26796260e-04, 4.27790405e-03, 1.92719803e-04,\n",
              "        7.87186320e-04, 2.40903639e-04, 5.86192509e-05, 2.80744571e-04,\n",
              "        2.61767511e-03, 1.27383100e-03, 3.00968508e-03, 3.46507737e-03,\n",
              "        5.66347595e-03, 1.85504992e-04, 2.73479009e-03, 1.91191584e-03,\n",
              "        2.14240325e-04, 7.57708820e-03, 2.63931492e-04, 3.83350463e-03,\n",
              "        2.36188876e-04, 4.91570402e-03, 3.59782344e-03, 1.14647311e-03,\n",
              "        7.15835020e-03, 2.48113676e-04, 2.46587733e-04, 7.66004261e-04],\n",
              "       [4.72069340e-04, 6.48813671e-04, 9.25892964e-05, 7.55109126e-04,\n",
              "        4.14745929e-03, 1.02656998e-03, 8.06506316e-04, 2.34191818e-03,\n",
              "        9.13923795e-05, 1.24794591e-04, 8.61482753e-04, 4.77327732e-04,\n",
              "        1.71064021e-04, 5.52236685e-04, 1.45533006e-03, 8.28762495e-05,\n",
              "        3.95542430e-03, 8.23520822e-05, 1.88721941e-04, 9.52789633e-05,\n",
              "        7.62405281e-04, 1.27529074e-03, 1.59278791e-03, 1.16085634e-03,\n",
              "        8.97985650e-04, 5.57662570e-04, 2.65423581e-03, 2.99733086e-03,\n",
              "        2.63890193e-04, 1.79285381e-03, 2.38737310e-04, 5.29869692e-04,\n",
              "        7.79606125e-05, 5.02350694e-03, 2.65404070e-03, 6.47531124e-04,\n",
              "        3.70376301e-03, 2.23253781e-04, 1.95622415e-04, 9.96891176e-05],\n",
              "       [1.50057313e-04, 5.87031827e-04, 2.31760627e-04, 1.16539952e-04,\n",
              "        2.29437090e-03, 2.00432190e-03, 1.27526454e-03, 1.12958997e-03,\n",
              "        1.04493920e-04, 6.19425264e-05, 1.32180308e-03, 8.89628136e-04,\n",
              "        1.14904979e-04, 6.69057656e-04, 1.43929690e-04, 1.04240666e-04,\n",
              "        8.29245488e-04, 1.42497564e-04, 5.24874049e-05, 6.85249455e-04,\n",
              "        1.46973808e-03, 9.80015495e-04, 1.01365324e-03, 1.11568824e-03,\n",
              "        1.02740875e-03, 7.81765964e-04, 9.35755888e-05, 5.95158956e-04,\n",
              "        3.59389203e-04, 1.24257989e-03, 1.90596795e-03, 1.34674623e-03,\n",
              "        1.35029928e-04, 1.32892944e-03, 1.78790942e-03, 9.56467644e-04,\n",
              "        2.30312557e-03, 3.67890374e-04, 1.87867248e-04, 1.47093670e-03]],\n",
              "      dtype=float32), array([ 0.01483575,  0.022683  ,  0.00056968,  0.0115408 , -0.11216006,\n",
              "       -0.01914513,  0.17808332, -0.10255536,  0.00515361,  0.00043258,\n",
              "        0.22685595,  0.00802424, -0.00709902, -0.02206451,  0.02287325,\n",
              "        0.01368339,  0.09190036,  0.01180988,  0.00077976,  0.008901  ,\n",
              "       -0.02274238,  0.07236861,  0.06061615,  0.05849997,  0.04604018,\n",
              "        0.01489325,  0.08399227, -0.02356783,  0.00103706, -0.0190323 ,\n",
              "        0.00463094,  0.00313148,  0.00716313, -0.11400108, -0.05358405,\n",
              "       -0.05104985, -0.15340462,  0.00910266,  0.000574  ,  0.03814802],\n",
              "      dtype=float32), array([1.6219390e-04, 9.2398492e-04, 2.6432055e-04, 1.8279336e-04,\n",
              "       4.0675094e-03, 3.3914412e-03, 8.5807079e-04, 5.7793967e-03,\n",
              "       1.3738981e-04, 7.8370234e-05, 1.2654832e-03, 7.4166531e-04,\n",
              "       1.4827865e-04, 2.4102925e-04, 2.5025278e-04, 6.7694062e-05,\n",
              "       1.0641696e-03, 1.3594884e-04, 4.2295505e-04, 5.0589882e-05,\n",
              "       1.0943749e-03, 9.9044864e-04, 5.6786218e-04, 3.1393119e-03,\n",
              "       8.4693886e-05, 1.6283273e-04, 3.9642435e-04, 1.9299763e-03,\n",
              "       1.0013133e-04, 3.2730706e-03, 2.6549722e-04, 4.8658159e-04,\n",
              "       9.1279282e-05, 6.1034760e-03, 3.9498736e-03, 1.0704935e-03,\n",
              "       7.0862221e-03, 2.4902174e-05, 3.5334591e-04, 4.0490259e-04],\n",
              "      dtype=float32), array([[ 3.4122376e-04,  1.3958035e-01,  1.3724644e-01, ...,\n",
              "         1.3917153e-01,  3.9470571e-04,  1.3740239e-01],\n",
              "       [ 3.4725526e-04,  7.7918977e-02,  7.5605474e-02, ...,\n",
              "         7.7549964e-02,  2.4797302e-04,  7.6137476e-02],\n",
              "       [ 1.9088862e-04, -1.5255428e-03, -1.6023021e-03, ...,\n",
              "        -1.3757063e-03,  0.0000000e+00, -1.4164972e-03],\n",
              "       ...,\n",
              "       [ 1.9536320e-04,  1.3128676e-01,  1.2915240e-01, ...,\n",
              "         1.3093737e-01,  3.4733815e-04,  1.2919150e-01],\n",
              "       [ 1.9090893e-04, -8.6752791e-04, -9.4372086e-04, ...,\n",
              "        -6.9652748e-04,  0.0000000e+00, -7.7992055e-04],\n",
              "       [ 1.9093917e-04,  7.3419541e-02,  7.1149044e-02, ...,\n",
              "         7.2891325e-02,  9.4408118e-05,  7.1459346e-02]], dtype=float32), array([[1.2981985e-04, 6.1373590e-03, 6.8260296e-03, ..., 5.9847264e-03,\n",
              "        1.7941867e-04, 5.6386520e-03],\n",
              "       [1.3263318e-04, 2.0441134e-02, 2.1338454e-02, ..., 2.0135155e-02,\n",
              "        9.8762423e-05, 1.9395247e-02],\n",
              "       [8.5787215e-05, 1.3144995e-03, 1.4450119e-03, ..., 1.2098970e-03,\n",
              "        0.0000000e+00, 1.2672676e-03],\n",
              "       ...,\n",
              "       [8.9856192e-05, 6.4589386e-03, 7.1164747e-03, ..., 6.3564964e-03,\n",
              "        1.3595044e-04, 5.9469440e-03],\n",
              "       [8.5805535e-05, 9.4314961e-04, 1.0758757e-03, ..., 8.6319947e-04,\n",
              "        0.0000000e+00, 9.3201909e-04],\n",
              "       [8.5832697e-05, 1.2524753e-02, 1.3427328e-02, ..., 1.2727486e-02,\n",
              "        2.0983660e-05, 1.1936695e-02]], dtype=float32), array([ 0.00035096, -0.01267542, -0.014191  , -0.01203118, -0.01308967,\n",
              "        0.00040333,  0.00019085, -0.01427277, -0.01311694,  0.00017683,\n",
              "       -0.01400522, -0.01262757, -0.01355921, -0.0132742 , -0.01382436,\n",
              "        0.00019102,  0.00019103, -0.01300355, -0.01245621, -0.01353306,\n",
              "       -0.01249445,  0.00019105, -0.01307618, -0.01192081,  0.00042638,\n",
              "        0.00043824,  0.00040328,  0.00044313,  0.00025391,  0.00019039,\n",
              "       -0.01509331,  0.00014696,  0.0003135 , -0.01300042, -0.01246239,\n",
              "       -0.01305794,  0.00018761, -0.012946  ,  0.00039897, -0.01494146],\n",
              "      dtype=float32), array([1.3509805e-04, 6.9535885e-04, 1.0530314e-03, 7.4190320e-04,\n",
              "       8.7216846e-04, 1.7198420e-04, 8.5750398e-05, 9.2495227e-04,\n",
              "       5.9218617e-04, 8.6309199e-05, 8.3408941e-04, 8.0556655e-04,\n",
              "       8.0012786e-04, 7.0813746e-04, 4.4186975e-04, 8.5907232e-05,\n",
              "       8.5914260e-05, 7.7107415e-04, 6.3702930e-04, 6.2479713e-04,\n",
              "       6.0698605e-04, 8.5929249e-05, 7.9271081e-04, 4.9589772e-04,\n",
              "       1.9421881e-04, 2.0629760e-04, 1.7191451e-04, 2.1149279e-04,\n",
              "       9.3468283e-05, 8.5339409e-05, 1.0486445e-03, 5.0844388e-05,\n",
              "       1.1455490e-04, 7.7465212e-04, 7.7240594e-04, 7.9568150e-04,\n",
              "       8.2862716e-05, 6.6046329e-04, 1.8394941e-04, 7.4793305e-04],\n",
              "      dtype=float32), array([[-3.30725976e-04, -3.46983259e-04, -3.42449814e-04,\n",
              "         1.90162522e-04,  1.91034895e-04,  1.91039857e-04,\n",
              "        -3.30753741e-04, -3.45981651e-04, -3.44839995e-04,\n",
              "         1.90985447e-04,  1.90993786e-04,  0.00000000e+00,\n",
              "         1.90960389e-04, -3.46707297e-04,  1.91022395e-04,\n",
              "         0.00000000e+00, -2.51863006e-04,  1.91047380e-04,\n",
              "        -3.36011173e-04,  1.90925042e-04],\n",
              "       [-9.01687145e-02, -9.43661630e-02, -9.22621489e-02,\n",
              "         3.12137097e-04,  1.90933803e-04,  1.90968814e-04,\n",
              "        -9.00077671e-02, -9.45434347e-02, -9.29748714e-02,\n",
              "         1.90445746e-04,  1.71060907e-04,  0.00000000e+00,\n",
              "         1.42394754e-04, -9.38548446e-02,  1.90866092e-04,\n",
              "        -9.19247568e-02, -9.03702229e-02,  1.91008046e-04,\n",
              "        -9.06291306e-02,  1.90577673e-04],\n",
              "       [-6.94965497e-02, -7.37910867e-02, -7.16288835e-02,\n",
              "         3.18783743e-04,  1.91033832e-04,  1.91038751e-04,\n",
              "        -6.93357959e-02, -7.39459097e-02, -7.23530501e-02,\n",
              "         1.90918436e-04,  1.90993989e-04,  0.00000000e+00,\n",
              "         1.90965555e-04, -7.32456073e-02,  1.91020968e-04,\n",
              "        -7.12760985e-02, -6.97130114e-02,  1.91047235e-04,\n",
              "        -6.99668825e-02,  1.90922132e-04],\n",
              "       [-8.04761425e-02, -8.47428143e-02, -8.25917870e-02,\n",
              "         3.25824076e-04,  1.91014464e-04,  1.91015948e-04,\n",
              "        -8.03132653e-02, -8.48942176e-02, -8.33116844e-02,\n",
              "         1.90943087e-04,  1.90921666e-04,  3.46790948e-05,\n",
              "         1.89992745e-04, -8.41999948e-02,  1.90980689e-04,\n",
              "        -8.22384879e-02, -8.06893632e-02,  1.91037558e-04,\n",
              "        -8.09415877e-02,  1.90940031e-04],\n",
              "       [-8.23987126e-02, -8.66703838e-02, -8.45152289e-02,\n",
              "         3.21452186e-04,  1.91021129e-04,  1.91025727e-04,\n",
              "        -8.22339132e-02, -8.68206322e-02, -8.52379575e-02,\n",
              "         1.91000596e-04,  1.90966151e-04,  0.00000000e+00,\n",
              "         1.91000028e-04, -8.61240178e-02,  1.90995852e-04,\n",
              "        -8.41714889e-02, -8.26117843e-02,  1.91041458e-04,\n",
              "        -8.28648582e-02,  1.90792300e-04],\n",
              "       [-3.42278770e-04, -3.96030257e-04, -3.90856643e-04,\n",
              "         1.84241508e-04,  1.91030238e-04,  1.91036670e-04,\n",
              "        -3.73330491e-04, -3.96241521e-04, -3.93023132e-04,\n",
              "         1.90790452e-04,  1.90932886e-04,  0.00000000e+00,\n",
              "         1.90893392e-04, -3.95023788e-04,  1.91015453e-04,\n",
              "         0.00000000e+00, -1.37644151e-04,  1.91045867e-04,\n",
              "        -3.81358899e-04,  1.90886072e-04],\n",
              "       [ 0.00000000e+00, -9.01049643e-05, -1.84800738e-04,\n",
              "         1.74095912e-04,  1.79708120e-04,  1.82295524e-04,\n",
              "        -1.55710528e-04, -1.87884158e-04,  0.00000000e+00,\n",
              "         9.45628781e-05,  4.47846214e-05,  0.00000000e+00,\n",
              "         0.00000000e+00, -4.61220916e-05,  1.64310812e-04,\n",
              "         0.00000000e+00,  0.00000000e+00,  1.83561133e-04,\n",
              "        -1.29359993e-04,  8.65297625e-05],\n",
              "       [-9.35611725e-02, -9.77951214e-02, -9.56647098e-02,\n",
              "         1.81905285e-04,  1.91000348e-04,  1.91011553e-04,\n",
              "        -9.34063122e-02, -9.79486853e-02, -9.63769630e-02,\n",
              "         1.90697538e-04,  1.90897525e-04,  0.00000000e+00,\n",
              "         1.90886320e-04, -9.72562507e-02,  1.90963867e-04,\n",
              "        -9.53250304e-02, -9.37694535e-02,  1.91036670e-04,\n",
              "        -9.40310434e-02,  1.90731880e-04],\n",
              "       [-7.93401450e-02, -8.35470036e-02, -8.13962445e-02,\n",
              "         2.98612809e-04,  1.91021012e-04,  1.91030267e-04,\n",
              "        -7.91399032e-02, -8.36892426e-02, -8.21201280e-02,\n",
              "         1.90853185e-04,  1.90968349e-04,  1.85941899e-04,\n",
              "         1.90988838e-04, -8.30132887e-02,  1.91001789e-04,\n",
              "        -8.12311694e-02, -7.95404539e-02,  1.91043015e-04,\n",
              "        -7.97558725e-02,  1.90635139e-04],\n",
              "       [-9.06269634e-05, -9.53930867e-05, -9.61163605e-05,\n",
              "         4.58365175e-05,  1.90986175e-04,  1.91007915e-04,\n",
              "        -9.58360033e-05, -9.62428385e-05, -9.60478210e-05,\n",
              "         0.00000000e+00,  1.90500839e-04,  0.00000000e+00,\n",
              "         0.00000000e+00, -9.61510377e-05,  1.90946172e-04,\n",
              "         9.49438836e-05,  9.50054746e-05,  1.91032639e-04,\n",
              "        -9.59760364e-05,  1.90640421e-04],\n",
              "       [-9.50907022e-02, -9.93161425e-02, -9.71872360e-02,\n",
              "         3.33239732e-04,  1.91002589e-04,  1.91015453e-04,\n",
              "        -9.49299783e-02, -9.94695351e-02, -9.78982896e-02,\n",
              "         1.90982581e-04,  1.90752515e-04,  1.86502526e-04,\n",
              "         1.42913341e-04, -9.87790376e-02,  1.90971608e-04,\n",
              "        -9.68413502e-02, -9.52991173e-02,  1.91034342e-04,\n",
              "        -9.55534056e-02,  1.90844599e-04],\n",
              "       [-8.60291272e-02, -9.03085768e-02, -8.81642103e-02,\n",
              "         2.04694137e-04,  1.90944978e-04,  1.90974373e-04,\n",
              "        -8.58836174e-02, -9.04586166e-02, -8.88838992e-02,\n",
              "         1.89559054e-04,  1.90879000e-04,  0.00000000e+00,\n",
              "         1.90980034e-04, -8.97403434e-02,  1.90883104e-04,\n",
              "        -8.78294781e-02, -8.62633660e-02,  1.91019077e-04,\n",
              "        -8.65230411e-02,  3.45239387e-05],\n",
              "       [-8.81500989e-02, -9.23683941e-02, -9.02504772e-02,\n",
              "         3.18839942e-04,  1.90888008e-04,  1.90945546e-04,\n",
              "        -8.79908502e-02, -9.25376192e-02, -9.09641311e-02,\n",
              "         1.90913357e-04,  1.90553081e-04,  4.42941819e-05,\n",
              "         9.29049493e-05, -9.18446928e-02,  1.90811450e-04,\n",
              "        -8.99219215e-02, -8.83642435e-02,  1.90997016e-04,\n",
              "        -8.86127129e-02,  8.98602593e-05],\n",
              "       [-8.67468566e-02, -9.09951255e-02, -8.88571143e-02,\n",
              "         3.31320567e-04,  1.91017578e-04,  1.91028230e-04,\n",
              "        -8.65866467e-02, -9.11514759e-02, -8.95695239e-02,\n",
              "         1.91026993e-04,  1.90920255e-04,  1.90095481e-04,\n",
              "         1.43074620e-04, -9.04523879e-02,  1.90998384e-04,\n",
              "        -8.85212868e-02, -8.69575590e-02,  1.91036350e-04,\n",
              "        -8.72121453e-02,  1.90775245e-04],\n",
              "       [-1.07625544e-01, -1.11703873e-01, -1.09612919e-01,\n",
              "         1.86228557e-04,  1.91023399e-04,  1.91028463e-04,\n",
              "        -1.07447572e-01, -1.11830473e-01, -1.10350274e-01,\n",
              "         1.91015832e-04,  1.90936946e-04,  4.04786624e-05,\n",
              "         1.90803461e-04, -1.11207522e-01,  1.91000596e-04,\n",
              "        -1.09601639e-01, -1.07805617e-01,  1.91041778e-04,\n",
              "        -1.08029306e-01,  1.90926279e-04],\n",
              "       [ 0.00000000e+00, -1.90134422e-04, -1.88908147e-04,\n",
              "         8.41887086e-05,  1.88959952e-04,  1.89377810e-04,\n",
              "        -1.51034925e-04, -1.90317995e-04, -1.89271785e-04,\n",
              "         1.89431594e-04,  1.86686404e-04,  0.00000000e+00,\n",
              "         1.89868981e-04,  0.00000000e+00,  1.87800848e-04,\n",
              "         0.00000000e+00, -3.57691279e-05,  1.90159612e-04,\n",
              "        -1.87728714e-04,  0.00000000e+00],\n",
              "       [-1.85415061e-04, -2.97463921e-05, -1.90885738e-04,\n",
              "         1.82665754e-04,  1.90821462e-04,  1.90896768e-04,\n",
              "        -1.90361767e-04, -1.90954583e-04, -1.90787745e-04,\n",
              "         0.00000000e+00,  1.89924875e-04,  0.00000000e+00,\n",
              "         0.00000000e+00, -1.90655483e-04,  1.90688472e-04,\n",
              "         0.00000000e+00,  0.00000000e+00,  1.90981606e-04,\n",
              "        -1.90525636e-04,  1.88164951e-04],\n",
              "       [-8.81196856e-02, -9.23493132e-02, -9.02246609e-02,\n",
              "         4.32302259e-05,  1.90894905e-04,  1.90945837e-04,\n",
              "        -8.79639760e-02, -9.25129279e-02, -9.09389406e-02,\n",
              "         0.00000000e+00,  1.84349803e-04,  0.00000000e+00,\n",
              "         0.00000000e+00, -9.18211713e-02,  1.90804814e-04,\n",
              "        -8.98921937e-02, -8.83276686e-02,  1.91004539e-04,\n",
              "        -8.85863602e-02,  1.89815371e-04],\n",
              "       [-9.68855768e-02, -1.01117231e-01, -9.89851877e-02,\n",
              "         2.92295881e-04,  1.91014464e-04,  1.91025014e-04,\n",
              "        -9.67246145e-02, -1.01269655e-01, -9.96985063e-02,\n",
              "         1.90985709e-04,  1.90949489e-04,  0.00000000e+00,\n",
              "         1.90985520e-04, -1.00568369e-01,  1.90988503e-04,\n",
              "        -9.86563787e-02, -9.70925018e-02,  1.91040133e-04,\n",
              "        -9.73534286e-02,  1.89798695e-04],\n",
              "       [-8.28306749e-02, -8.70645568e-02, -8.49189162e-02,\n",
              "         2.85305723e-04,  1.90891500e-04,  1.90947801e-04,\n",
              "        -8.26635510e-02, -8.72103721e-02, -8.56416076e-02,\n",
              "         1.90951556e-04,  1.90384249e-04,  0.00000000e+00,\n",
              "         1.90447769e-04, -8.64631012e-02,  1.90814360e-04,\n",
              "        -8.48534182e-02, -8.29933435e-02,  1.90980791e-04,\n",
              "        -8.32806304e-02,  1.82646458e-04],\n",
              "       [-8.56090337e-02, -8.98170322e-02, -8.77085328e-02,\n",
              "         2.49451608e-04,  1.90324703e-04,  1.90563194e-04,\n",
              "        -8.54466707e-02, -8.99989232e-02, -8.84260684e-02,\n",
              "         0.00000000e+00,  1.87970407e-04,  0.00000000e+00,\n",
              "         0.00000000e+00, -8.93093944e-02,  1.89853716e-04,\n",
              "        -8.73931274e-02, -8.58146548e-02,  1.90827224e-04,\n",
              "        -8.60685930e-02,  1.35199225e-04],\n",
              "       [-1.90230814e-04, -1.90683422e-04, -1.91015628e-04,\n",
              "         1.88962469e-04,  1.90997554e-04,  1.91013474e-04,\n",
              "        -1.90873907e-04, -1.91025014e-04, -1.90928171e-04,\n",
              "         1.90981649e-04,  1.90776773e-04,  1.88741731e-04,\n",
              "         1.90665975e-04, -1.90950755e-04,  1.90970008e-04,\n",
              "         0.00000000e+00, -4.22678131e-05,  1.91030267e-04,\n",
              "        -1.90959065e-04,  1.90775536e-04],\n",
              "       [-8.57344568e-02, -8.99890885e-02, -8.78423899e-02,\n",
              "         3.32684867e-04,  1.91018364e-04,  1.91026324e-04,\n",
              "        -8.55683088e-02, -9.01390165e-02, -8.85615274e-02,\n",
              "         1.91021725e-04,  1.90955747e-04,  1.89487007e-04,\n",
              "         1.91013416e-04, -8.94280076e-02,  1.90996114e-04,\n",
              "        -8.74979272e-02, -8.59365761e-02,  1.91035520e-04,\n",
              "        -8.61981064e-02,  1.90660285e-04],\n",
              "       [-9.55243111e-02, -9.97443572e-02, -9.76155773e-02,\n",
              "         3.26748966e-04,  1.90670748e-04,  1.90829087e-04,\n",
              "        -9.53589454e-02, -9.98988375e-02, -9.83275846e-02,\n",
              "         1.90878738e-04,  8.84310575e-05,  1.89326645e-04,\n",
              "         1.37867159e-04, -9.91708338e-02,  1.90490624e-04,\n",
              "        -9.73013341e-02, -9.57087353e-02,  1.90845138e-04,\n",
              "        -9.59842801e-02,  0.00000000e+00],\n",
              "       [-4.03503480e-04, -4.11255547e-04, -4.61326010e-04,\n",
              "         1.45743354e-04,  1.90808132e-04,  1.90878607e-04,\n",
              "        -4.57315851e-04, -4.64788056e-04, -3.91351001e-04,\n",
              "         1.90794104e-04,  1.86161880e-04,  0.00000000e+00,\n",
              "         4.64986333e-05, -4.45443351e-04,  1.90670820e-04,\n",
              "        -1.03505081e-04, -3.51949478e-04,  1.90914565e-04,\n",
              "        -4.58472699e-04,  1.88998820e-04],\n",
              "       [-4.66090452e-04, -4.73889901e-04, -4.53024957e-04,\n",
              "         2.03274598e-04,  1.91006155e-04,  1.91021245e-04,\n",
              "        -4.73143882e-04, -4.72896441e-04, -4.70960076e-04,\n",
              "         1.91029132e-04,  1.90734601e-04,  1.90258230e-04,\n",
              "         1.90854073e-04, -4.16623050e-04,  1.90982435e-04,\n",
              "         0.00000000e+00, -2.54438579e-04,  1.91004568e-04,\n",
              "        -4.52979584e-04,  1.90788822e-04],\n",
              "       [-4.01287689e-04, -4.02964506e-04, -4.02806094e-04,\n",
              "         1.90017818e-04,  1.91038154e-04,  1.91043015e-04,\n",
              "        -4.01904224e-04, -4.03042068e-04, -4.02876816e-04,\n",
              "         1.91016807e-04,  1.90976352e-04,  1.86808757e-04,\n",
              "         1.90916457e-04, -4.02970822e-04,  1.91029525e-04,\n",
              "        -2.54336956e-05, -2.57581472e-04,  1.91047904e-04,\n",
              "        -4.02345526e-04,  1.90946012e-04],\n",
              "       [-4.50865453e-04, -4.47459461e-04, -4.32277506e-04,\n",
              "         1.88833787e-04,  1.91043058e-04,  1.91045649e-04,\n",
              "        -4.15306713e-04, -4.27674968e-04, -4.56420617e-04,\n",
              "         1.91028346e-04,  1.91017069e-04,  1.87325626e-04,\n",
              "         1.91027371e-04, -4.78279399e-04,  1.91036102e-04,\n",
              "        -1.00202960e-04, -3.60214035e-04,  1.91049796e-04,\n",
              "        -4.32413828e-04,  1.90965904e-04],\n",
              "       [-1.52477718e-04, -1.57128408e-04, -1.57070288e-04,\n",
              "         1.87645011e-04,  1.90994731e-04,  1.91013474e-04,\n",
              "        -1.56659342e-04, -1.57296352e-04, -1.56758295e-04,\n",
              "         1.90979292e-04,  1.90684659e-04,  0.00000000e+00,\n",
              "         1.88740509e-04, -1.57102011e-04,  1.90962062e-04,\n",
              "         3.40455299e-05, -1.28781876e-05,  1.91032217e-04,\n",
              "        -1.56880051e-04,  1.90489154e-04],\n",
              "       [-1.07251843e-04,  0.00000000e+00, -1.41931931e-04,\n",
              "         4.15575960e-05,  1.36909352e-04,  1.42531237e-04,\n",
              "        -1.19027965e-04, -9.09141381e-05, -1.30922388e-04,\n",
              "         1.35522219e-04,  0.00000000e+00,  0.00000000e+00,\n",
              "         0.00000000e+00, -1.89713246e-05,  1.30875429e-04,\n",
              "         0.00000000e+00,  0.00000000e+00,  1.47943851e-04,\n",
              "        -1.11282628e-04,  0.00000000e+00],\n",
              "       [-8.42845738e-02, -8.85617435e-02, -8.64159390e-02,\n",
              "         3.26167705e-04,  1.90886945e-04,  1.90937673e-04,\n",
              "        -8.41458291e-02, -8.87135491e-02, -8.71354714e-02,\n",
              "         1.90720748e-04,  1.90777151e-04,  0.00000000e+00,\n",
              "         1.87088328e-04, -8.80126134e-02,  1.90785941e-04,\n",
              "        -8.60797167e-02, -8.45231488e-02,  1.91002138e-04,\n",
              "        -8.47704709e-02,  9.33190895e-05],\n",
              "       [-2.59651511e-04, -2.42339054e-04, -2.61067355e-04,\n",
              "         2.04754018e-04,  1.90954888e-04,  1.90989420e-04,\n",
              "        -2.68886855e-04, -2.47486052e-04, -2.42879687e-04,\n",
              "         1.91014609e-04,  1.89927305e-04,  1.89457060e-04,\n",
              "         1.90705148e-04, -2.32542341e-04,  1.90917111e-04,\n",
              "        -7.20434255e-05, -2.39038651e-04,  1.90902356e-04,\n",
              "        -2.62425892e-04,  1.90388280e-04],\n",
              "       [-6.60716323e-05, -6.46525004e-05, -6.58111021e-05,\n",
              "         1.89732556e-04,  1.91013591e-04,  1.91026105e-04,\n",
              "        -6.70907975e-05, -6.45542823e-05, -6.54340329e-05,\n",
              "         1.91012878e-04,  1.90958206e-04,  1.88599472e-04,\n",
              "         1.90894687e-04, -6.45576511e-05,  1.90991792e-04,\n",
              "         1.24693310e-04,  7.72177882e-05,  1.91037558e-04,\n",
              "        -6.66317865e-05,  1.90122024e-04],\n",
              "       [-9.02177989e-02, -9.44582298e-02, -9.23266336e-02,\n",
              "         3.32140626e-04,  1.91042709e-04,  1.91045445e-04,\n",
              "        -9.00599360e-02, -9.46155861e-02, -9.30374339e-02,\n",
              "         1.91017956e-04,  1.91014173e-04,  1.89502083e-04,\n",
              "         1.91007028e-04, -9.39184129e-02,  1.91035782e-04,\n",
              "        -9.19608250e-02, -9.04270411e-02,  1.91049825e-04,\n",
              "        -9.06867385e-02,  1.90984210e-04],\n",
              "       [-8.44970047e-02, -8.87546688e-02, -8.66067782e-02,\n",
              "         3.21650063e-04,  1.91009502e-04,  1.91022918e-04,\n",
              "        -8.43309239e-02, -8.89046416e-02, -8.73260498e-02,\n",
              "         1.91021332e-04,  1.90773790e-04,  1.88025209e-04,\n",
              "         1.90948325e-04, -8.82093459e-02,  1.90982886e-04,\n",
              "        -8.62660557e-02, -8.46979767e-02,  1.91025960e-04,\n",
              "        -8.49614888e-02,  1.90475825e-04],\n",
              "       [-9.00785327e-02, -9.43284407e-02, -9.21896994e-02,\n",
              "         3.26157984e-04,  1.91042112e-04,  1.91044644e-04,\n",
              "        -8.99180323e-02, -9.44830999e-02, -9.29030180e-02,\n",
              "         1.91028230e-04,  1.91017956e-04,  4.63034958e-05,\n",
              "         1.91021012e-04, -9.37844068e-02,  1.91034167e-04,\n",
              "        -9.18301418e-02, -9.02876928e-02,  1.91049505e-04,\n",
              "        -9.05479118e-02,  1.90981445e-04],\n",
              "       [-1.87573212e-04, -1.91145533e-04, -1.91068568e-04,\n",
              "         1.89666200e-04,  1.90982886e-04,  1.90995343e-04,\n",
              "        -1.90865074e-04, -1.91095081e-04, -1.91122395e-04,\n",
              "         1.90962368e-04,  1.90876875e-04,  1.89961589e-04,\n",
              "         1.90933919e-04, -1.92362262e-04,  1.90941530e-04,\n",
              "         0.00000000e+00, -2.67503710e-05,  1.91021943e-04,\n",
              "        -1.91014813e-04,  1.90158578e-04],\n",
              "       [-9.53565389e-02, -9.95775312e-02, -9.74473506e-02,\n",
              "         2.03807227e-04,  1.90932886e-04,  1.90972089e-04,\n",
              "        -9.51922610e-02, -9.97277945e-02, -9.81612876e-02,\n",
              "         1.90912891e-04,  1.90690116e-04,  1.74948655e-04,\n",
              "         1.90914550e-04, -9.89987552e-02,  1.90861800e-04,\n",
              "        -9.71260071e-02, -9.55361724e-02,  1.91003142e-04,\n",
              "        -9.58200544e-02,  4.70463965e-05],\n",
              "       [-2.64826871e-04, -3.53276351e-04, -3.99560580e-04,\n",
              "         2.01935109e-04,  1.90827064e-04,  1.90900988e-04,\n",
              "        -3.80289392e-04, -4.01345285e-04, -4.04452614e-04,\n",
              "         1.30041895e-04,  1.90603721e-04,  2.82836936e-05,\n",
              "         0.00000000e+00, -3.32376949e-04,  1.90631254e-04,\n",
              "        -9.53122508e-05, -3.14686942e-04,  1.90983599e-04,\n",
              "        -3.94159724e-04,  4.65096819e-05],\n",
              "       [-9.35034305e-02, -9.76052508e-02, -9.55766290e-02,\n",
              "         3.16295453e-04,  1.89301863e-04,  1.90125793e-04,\n",
              "        -9.33368132e-02, -9.78488922e-02, -9.62881222e-02,\n",
              "         1.90705003e-04,  0.00000000e+00,  1.88561200e-04,\n",
              "         9.43251871e-05, -9.70618054e-02,  1.89442129e-04,\n",
              "        -9.53437835e-02, -9.36326683e-02,  4.45070691e-05,\n",
              "        -9.39524397e-02,  1.35241760e-04]], dtype=float32), array([[1.22998434e-04, 1.32830872e-04, 1.29835578e-04, 8.51358200e-05,\n",
              "        8.59188003e-05, 8.59231804e-05, 1.23484933e-04, 1.31874374e-04,\n",
              "        1.31512570e-04, 8.58742933e-05, 8.58818385e-05, 0.00000000e+00,\n",
              "        8.58517960e-05, 1.32788700e-04, 8.59074862e-05, 0.00000000e+00,\n",
              "        6.78230135e-05, 8.59300198e-05, 1.26214640e-04, 8.58199492e-05],\n",
              "       [1.01683363e-02, 1.12016173e-02, 1.08138388e-02, 1.23093705e-04,\n",
              "        8.58279091e-05, 8.58592903e-05, 1.01600159e-02, 1.13548068e-02,\n",
              "        1.09605212e-02, 8.53895981e-05, 6.88912623e-05, 0.00000000e+00,\n",
              "        4.77364883e-05, 1.11556211e-02, 8.57670093e-05, 9.56742559e-03,\n",
              "        1.00728031e-02, 8.58946078e-05, 1.03958128e-02, 8.55079707e-05],\n",
              "       [9.89370793e-03, 1.10546909e-02, 1.05756968e-02, 1.28483109e-04,\n",
              "        8.59178108e-05, 8.59222127e-05, 9.89294704e-03, 1.11362450e-02,\n",
              "        1.07203536e-02, 8.58139465e-05, 8.58819840e-05, 0.00000000e+00,\n",
              "        8.58563362e-05, 1.09167360e-02, 8.59062056e-05, 9.23662726e-03,\n",
              "        9.82004218e-03, 8.59298525e-05, 1.01440102e-02, 8.58173808e-05],\n",
              "       [1.01396432e-02, 1.12967715e-02, 1.08086402e-02, 1.35373775e-04,\n",
              "        8.59003267e-05, 8.59017091e-05, 1.01290736e-02, 1.13655990e-02,\n",
              "        1.09566748e-02, 8.58362109e-05, 8.58169587e-05, 2.83137911e-06,\n",
              "        8.49839053e-05, 1.11574084e-02, 8.58700078e-05, 9.47860070e-03,\n",
              "        1.00637712e-02, 8.59210995e-05, 1.03793070e-02, 8.58334897e-05],\n",
              "       [9.81416833e-03, 1.09668523e-02, 1.04739303e-02, 1.31122812e-04,\n",
              "        8.59063657e-05, 8.59105421e-05, 9.79850069e-03, 1.10310232e-02,\n",
              "        1.06287152e-02, 8.58879357e-05, 8.58569038e-05, 0.00000000e+00,\n",
              "        8.58874191e-05, 1.08177718e-02, 8.58837011e-05, 9.18660033e-03,\n",
              "        9.74038616e-03, 8.59246575e-05, 1.00520365e-02, 8.57006380e-05],\n",
              "       [1.29276232e-04, 1.66144266e-04, 1.62142082e-04, 7.99166883e-05,\n",
              "        8.59144857e-05, 8.59203938e-05, 1.49348853e-04, 1.66305836e-04,\n",
              "        1.63797173e-04, 8.56990446e-05, 8.58269414e-05, 0.00000000e+00,\n",
              "        8.57915002e-05, 1.65355392e-04, 8.59012798e-05, 0.00000000e+00,\n",
              "        3.61657403e-05, 8.59286010e-05, 1.55066693e-04, 8.57849227e-05],\n",
              "       [0.00000000e+00, 1.91143627e-05, 8.04025767e-05, 7.13574773e-05,\n",
              "        7.60323092e-05, 7.82374773e-05, 5.70818811e-05, 8.31079815e-05,\n",
              "        0.00000000e+00, 2.10524977e-05, 4.72193642e-06, 0.00000000e+00,\n",
              "        0.00000000e+00, 5.00818624e-06, 6.35616016e-05, 0.00000000e+00,\n",
              "        0.00000000e+00, 7.93275976e-05, 3.93969276e-05, 1.76276226e-05],\n",
              "       [1.00993523e-02, 1.12532144e-02, 1.07762823e-02, 3.51962917e-05,\n",
              "        8.58876883e-05, 8.58978237e-05, 1.01106400e-02, 1.13281384e-02,\n",
              "        1.09219383e-02, 8.56155893e-05, 8.57952327e-05, 0.00000000e+00,\n",
              "        8.57851628e-05, 1.11152092e-02, 8.58548519e-05, 9.52177215e-03,\n",
              "        1.00253886e-02, 8.59204156e-05, 1.03565985e-02, 8.56463957e-05],\n",
              "       [9.23497789e-03, 1.01753194e-02, 9.72552039e-03, 1.09160290e-04,\n",
              "        8.59062347e-05, 8.59145803e-05, 9.14983172e-03, 1.02183903e-02,\n",
              "        9.87331476e-03, 8.57553605e-05, 8.58589046e-05, 8.13986553e-05,\n",
              "        8.58773055e-05, 1.00656431e-02, 8.58889834e-05, 9.24879592e-03,\n",
              "        9.18397121e-03, 8.59260908e-05, 9.35044978e-03, 8.55595499e-05],\n",
              "       [9.83587233e-05, 1.02319391e-04, 1.03077953e-04, 4.94635742e-06,\n",
              "        8.58749045e-05, 8.58944986e-05, 1.02978869e-04, 1.03061589e-04,\n",
              "        1.02985083e-04, 0.00000000e+00, 8.54390673e-05, 0.00000000e+00,\n",
              "        0.00000000e+00, 1.03037390e-04, 8.58389758e-05, 1.72074342e-05,\n",
              "        1.72297568e-05, 8.59167194e-05, 1.03039245e-04, 8.55642502e-05],\n",
              "       [1.01620844e-02, 1.12973507e-02, 1.08211283e-02, 1.43404948e-04,\n",
              "        8.58897329e-05, 8.59012580e-05, 1.01552019e-02, 1.13712568e-02,\n",
              "        1.09644681e-02, 8.58716812e-05, 8.56648767e-05, 8.18903063e-05,\n",
              "        4.80848284e-05, 1.11648617e-02, 8.58618223e-05, 9.54547711e-03,\n",
              "        1.00882100e-02, 8.59182983e-05, 1.03973169e-02, 8.57477062e-05],\n",
              "       [9.77505464e-03, 1.09996218e-02, 1.05138328e-02, 4.70162740e-05,\n",
              "        8.58378553e-05, 8.58643180e-05, 9.81492642e-03, 1.10609792e-02,\n",
              "        1.06709814e-02, 8.45963004e-05, 8.57785417e-05, 0.00000000e+00,\n",
              "        8.58694621e-05, 1.07732788e-02, 8.57822379e-05, 9.27304104e-03,\n",
              "        9.77563765e-03, 8.59045977e-05, 1.00986697e-02, 2.80610129e-06],\n",
              "       [9.90319159e-03, 1.09663066e-02, 1.05512887e-02, 1.28543601e-04,\n",
              "        8.57866544e-05, 8.58383792e-05, 9.90176387e-03, 1.10926116e-02,\n",
              "        1.06937010e-02, 8.58094354e-05, 8.54858808e-05, 4.61908394e-06,\n",
              "        2.03207783e-05, 1.08833369e-02, 8.57178529e-05, 9.33022052e-03,\n",
              "        9.84389149e-03, 8.58846761e-05, 1.01345619e-02, 1.90106803e-05],\n",
              "       [1.00132748e-02, 1.11373831e-02, 1.06759416e-02, 1.41210214e-04,\n",
              "        8.59031788e-05, 8.59127322e-05, 1.00095449e-02, 1.12215253e-02,\n",
              "        1.08063407e-02, 8.59116481e-05, 8.58156855e-05, 8.50758006e-05,\n",
              "        4.81934258e-05, 1.09951058e-02, 8.58858621e-05, 9.42657888e-03,\n",
              "        9.93875600e-03, 8.59200809e-05, 1.02515453e-02, 8.56853221e-05],\n",
              "       [8.09642207e-03, 8.87242518e-03, 8.50081723e-03, 8.16498141e-05,\n",
              "        8.59083884e-05, 8.59129796e-05, 8.05806927e-03, 8.89561698e-03,\n",
              "        8.66278168e-03, 8.59015854e-05, 8.58306375e-05, 3.85757767e-06,\n",
              "        8.57106716e-05, 8.80639069e-03, 8.58878848e-05, 8.28208588e-03,\n",
              "        8.06676596e-03, 8.59249776e-05, 8.20094906e-03, 8.58210624e-05],\n",
              "       [0.00000000e+00, 8.51106888e-05, 8.40163048e-05, 1.66866830e-05,\n",
              "        8.40624416e-05, 8.44347014e-05, 5.37053093e-05, 8.52750454e-05,\n",
              "        8.43401285e-05, 8.44825772e-05, 8.20517598e-05, 0.00000000e+00,\n",
              "        8.48732307e-05, 0.00000000e+00, 8.30342833e-05, 0.00000000e+00,\n",
              "        3.01216755e-06, 8.51332588e-05, 8.29706041e-05, 0.00000000e+00],\n",
              "       [8.09380872e-05, 2.08320057e-06, 8.57846171e-05, 7.85555894e-05,\n",
              "        8.57268533e-05, 8.57945124e-05, 8.53143356e-05, 8.58465646e-05,\n",
              "        8.56965416e-05, 0.00000000e+00, 8.49231728e-05, 0.00000000e+00,\n",
              "        0.00000000e+00, 8.55777762e-05, 8.56073748e-05, 0.00000000e+00,\n",
              "        0.00000000e+00, 8.58708227e-05, 8.54613463e-05, 8.33566301e-05],\n",
              "       [9.80634149e-03, 1.08931158e-02, 1.04614897e-02, 4.39984615e-06,\n",
              "        8.57928535e-05, 8.58387066e-05, 9.81547218e-03, 1.10000279e-02,\n",
              "        1.06047494e-02, 0.00000000e+00, 8.00106354e-05, 0.00000000e+00,\n",
              "        0.00000000e+00, 1.07968356e-02, 8.57119012e-05, 9.25175194e-03,\n",
              "        9.72991157e-03, 8.58914136e-05, 1.00478809e-02, 8.48253039e-05],\n",
              "       [1.00555886e-02, 1.12002390e-02, 1.07164672e-02, 1.04497522e-04,\n",
              "        8.59003630e-05, 8.59099164e-05, 1.00466413e-02, 1.12699009e-02,\n",
              "        1.08676152e-02, 8.58745334e-05, 8.58419662e-05, 0.00000000e+00,\n",
              "        8.58743952e-05, 1.10303098e-02, 8.58770509e-05, 9.53515619e-03,\n",
              "        9.98303760e-03, 8.59235079e-05, 1.03026666e-02, 8.48103882e-05],\n",
              "       [9.03499871e-03, 1.00238752e-02, 9.58233513e-03, 9.99980621e-05,\n",
              "        8.57898267e-05, 8.58404528e-05, 9.00957268e-03, 1.00727323e-02,\n",
              "        9.72895604e-03, 8.58437998e-05, 8.53344827e-05, 0.00000000e+00,\n",
              "        8.53914753e-05, 9.79145709e-03, 8.57205087e-05, 9.09540523e-03,\n",
              "        8.92744120e-03, 8.58700878e-05, 9.21105221e-03, 7.85389420e-05],\n",
              "       [9.86156147e-03, 1.08655831e-02, 1.04917279e-02, 7.03233236e-05,\n",
              "        8.52810772e-05, 8.54949831e-05, 9.84993670e-03, 1.10288216e-02,\n",
              "        1.06423963e-02, 0.00000000e+00, 8.31843063e-05, 0.00000000e+00,\n",
              "        0.00000000e+00, 1.08347097e-02, 8.48595737e-05, 9.33485385e-03,\n",
              "        9.77796875e-03, 8.57320556e-05, 1.00797853e-02, 4.30339278e-05],\n",
              "       [8.51969307e-05, 8.56028200e-05, 8.59014253e-05, 8.40646899e-05,\n",
              "        8.58851417e-05, 8.58994899e-05, 8.57740015e-05, 8.59098654e-05,\n",
              "        8.58227504e-05, 8.58708736e-05, 8.56867118e-05, 8.38684136e-05,\n",
              "        8.55872713e-05, 8.58430576e-05, 8.58604690e-05, 0.00000000e+00,\n",
              "        4.20612469e-06, 8.59146021e-05, 8.58505373e-05, 8.56855258e-05],\n",
              "       [1.00712981e-02, 1.12180682e-02, 1.07280454e-02, 1.42753692e-04,\n",
              "        8.59039574e-05, 8.59110005e-05, 1.00495871e-02, 1.12807257e-02,\n",
              "        1.08810440e-02, 8.59069187e-05, 8.58475614e-05, 8.45320537e-05,\n",
              "        8.58994244e-05, 1.10139018e-02, 8.58838466e-05, 9.44078900e-03,\n",
              "        9.96868685e-03, 8.59193678e-05, 1.03052920e-02, 8.55821199e-05],\n",
              "       [9.74642951e-03, 1.08289253e-02, 1.03673935e-02, 1.36879593e-04,\n",
              "        8.55915569e-05, 8.57337582e-05, 9.72486939e-03, 1.09032039e-02,\n",
              "        1.05103720e-02, 8.57782725e-05, 1.84107794e-05, 8.43891030e-05,\n",
              "        4.47490856e-05, 1.05891563e-02, 8.54299142e-05, 9.26873088e-03,\n",
              "        9.61624272e-03, 8.57481282e-05, 9.96488333e-03, 0.00000000e+00],\n",
              "       [1.75664740e-04, 1.79503229e-04, 2.33368351e-04, 5.00080823e-05,\n",
              "        8.57148698e-05, 8.57781852e-05, 2.30859267e-04, 2.36886845e-04,\n",
              "        1.61642864e-04, 8.57022824e-05, 8.15913081e-05, 0.00000000e+00,\n",
              "        5.09029496e-06, 2.14696498e-04, 8.55916223e-05, 2.04505632e-05,\n",
              "        1.31031818e-04, 8.58105122e-05, 2.31140642e-04, 8.40970897e-05],\n",
              "       [2.38571680e-04, 2.47368880e-04, 2.22769115e-04, 9.72811686e-05,\n",
              "        8.58928252e-05, 8.59064457e-05, 2.47266493e-04, 2.46137497e-04,\n",
              "        2.43863542e-04, 8.59136198e-05, 8.56488696e-05, 8.52215671e-05,\n",
              "        8.57561899e-05, 1.84418241e-04, 8.58715357e-05, 0.00000000e+00,\n",
              "        8.89935836e-05, 8.58915082e-05, 2.22978779e-04, 8.56975676e-05],\n",
              "       [1.70260813e-04, 1.71650172e-04, 1.71527703e-04, 8.50063370e-05,\n",
              "        8.59216671e-05, 8.59260836e-05, 1.70796193e-04, 1.71718959e-04,\n",
              "        1.71582607e-04, 8.59025604e-05, 8.58660787e-05, 8.21593276e-05,\n",
              "        8.58122439e-05, 1.71659543e-04, 8.59139473e-05, 1.23481277e-06,\n",
              "        8.99853476e-05, 8.59304782e-05, 1.71154403e-04, 8.58388375e-05],\n",
              "       [2.20058981e-04, 2.16239743e-04, 1.99972026e-04, 8.39502463e-05,\n",
              "        8.59261127e-05, 8.59284191e-05, 1.83076088e-04, 1.95251036e-04,\n",
              "        2.26355085e-04, 8.59128631e-05, 8.59027277e-05, 8.26145697e-05,\n",
              "        8.59119973e-05, 2.52608443e-04, 8.59197971e-05, 1.91665149e-05,\n",
              "        1.37534502e-04, 8.59321663e-05, 2.00119277e-04, 8.58566200e-05],\n",
              "       [8.42485679e-05, 8.79674044e-05, 8.80923253e-05, 8.28965785e-05,\n",
              "        8.58826170e-05, 8.58995045e-05, 8.79678846e-05, 8.80856314e-05,\n",
              "        8.77617276e-05, 8.58687126e-05, 8.56040424e-05, 0.00000000e+00,\n",
              "        8.38673586e-05, 8.80045991e-05, 8.58532730e-05, 2.21259711e-06,\n",
              "        7.43997862e-06, 8.59163265e-05, 8.80620355e-05, 8.54285026e-05],\n",
              "       [2.70814708e-05, 0.00000000e+00, 4.74266599e-05, 4.06596064e-06,\n",
              "        4.41294578e-05, 4.78280454e-05, 3.33549797e-05, 1.94592340e-05,\n",
              "        4.03543527e-05, 4.32397792e-05, 0.00000000e+00, 0.00000000e+00,\n",
              "        0.00000000e+00, 8.47340004e-07, 4.03253980e-05, 0.00000000e+00,\n",
              "        0.00000000e+00, 5.15295505e-05, 2.91552860e-05, 0.00000000e+00],\n",
              "       [1.00074420e-02, 1.12133417e-02, 1.07324542e-02, 1.36287679e-04,\n",
              "        8.57857012e-05, 8.58313215e-05, 1.00711882e-02, 1.12828473e-02,\n",
              "        1.08844899e-02, 8.56364641e-05, 8.56870247e-05, 0.00000000e+00,\n",
              "        8.24054514e-05, 1.10513652e-02, 8.56949700e-05, 9.46688838e-03,\n",
              "        1.00160250e-02, 8.58892527e-05, 1.03102755e-02, 2.05023443e-05],\n",
              "       [1.58724666e-04, 1.38264077e-04, 1.60460317e-04, 9.87023232e-05,\n",
              "        8.58468120e-05, 8.58778585e-05, 1.70216517e-04, 1.44199643e-04,\n",
              "        1.38881718e-04, 8.59004504e-05, 8.49253265e-05, 8.45053582e-05,\n",
              "        8.56223487e-05, 1.27311127e-04, 8.58128478e-05, 1.22194406e-05,\n",
              "        1.34523638e-04, 8.57995401e-05, 1.62134689e-04, 8.53380770e-05],\n",
              "       [1.14164322e-04, 1.16321280e-04, 1.15835443e-04, 8.47512129e-05,\n",
              "        8.58996136e-05, 8.59108623e-05, 1.15051815e-04, 1.16456817e-04,\n",
              "        1.15951181e-04, 8.58988860e-05, 8.58496860e-05, 8.37420375e-05,\n",
              "        8.57926352e-05, 1.15737086e-04, 8.58799976e-05, 2.96803028e-05,\n",
              "        3.44177643e-05, 8.59211650e-05, 1.15394578e-04, 8.50996294e-05],\n",
              "       [1.06009478e-02, 1.17765125e-02, 1.12997489e-02, 1.42144592e-04,\n",
              "        8.59258143e-05, 8.59282372e-05, 1.06041217e-02, 1.18663469e-02,\n",
              "        1.14379078e-02, 8.59035354e-05, 8.59000938e-05, 8.45455652e-05,\n",
              "        8.58936110e-05, 1.16352094e-02, 8.59195352e-05, 9.93504189e-03,\n",
              "        1.05227241e-02, 8.59321954e-05, 1.08612720e-02, 8.58731655e-05],\n",
              "       [9.77227651e-03, 1.09009827e-02, 1.04198027e-02, 1.32109562e-04,\n",
              "        8.58959029e-05, 8.59080101e-05, 9.75140277e-03, 1.09635023e-02,\n",
              "        1.05685703e-02, 8.59065185e-05, 8.56840343e-05, 8.32328587e-05,\n",
              "        8.58408603e-05, 1.07538030e-02, 8.58719723e-05, 9.17184353e-03,\n",
              "        9.66776721e-03, 8.59107022e-05, 1.00047095e-02, 8.54166428e-05],\n",
              "       [1.03536993e-02, 1.15283113e-02, 1.10432068e-02, 1.36036571e-04,\n",
              "        8.59252686e-05, 8.59275096e-05, 1.03488211e-02, 1.16083827e-02,\n",
              "        1.11842779e-02, 8.59126958e-05, 8.59035572e-05, 5.04766058e-06,\n",
              "        8.59062493e-05, 1.13767842e-02, 8.59181164e-05, 9.70510487e-03,\n",
              "        1.02743478e-02, 8.59318316e-05, 1.06109027e-02, 8.58707281e-05],\n",
              "       [8.28331395e-05, 8.60183500e-05, 8.59490610e-05, 8.46920011e-05,\n",
              "        8.58719723e-05, 8.58831409e-05, 8.57660925e-05, 8.59729116e-05,\n",
              "        8.59975116e-05, 8.58535277e-05, 8.57766718e-05, 8.49560602e-05,\n",
              "        8.58279454e-05, 8.71168522e-05, 8.58347266e-05, 0.00000000e+00,\n",
              "        1.68469728e-06, 8.59070497e-05, 8.59006177e-05, 8.51323275e-05],\n",
              "       [1.00949509e-02, 1.12199243e-02, 1.07360892e-02, 4.40807307e-05,\n",
              "        8.58269777e-05, 8.58622952e-05, 1.00754779e-02, 1.12821767e-02,\n",
              "        1.08915456e-02, 8.58090207e-05, 8.56089027e-05, 7.20582466e-05,\n",
              "        8.58104759e-05, 1.09558050e-02, 8.57631458e-05, 9.57466662e-03,\n",
              "        9.94877703e-03, 8.58901694e-05, 1.03304237e-02, 5.21092761e-06],\n",
              "       [7.85050870e-05, 1.42576158e-04, 1.99315051e-04, 9.60033212e-05,\n",
              "        8.57318737e-05, 8.57983541e-05, 1.93910935e-04, 1.95025292e-04,\n",
              "        2.02727897e-04, 3.98133780e-05, 8.55313701e-05, 1.88336594e-06,\n",
              "        0.00000000e+00, 1.23648540e-04, 8.55560575e-05, 9.58148030e-06,\n",
              "        1.18259159e-04, 8.58726489e-05, 2.03342162e-04, 5.09271149e-06],\n",
              "       [9.41863284e-03, 1.02327503e-02, 9.97223426e-03, 1.26103594e-04,\n",
              "        8.43669259e-05, 8.51028963e-05, 9.39206965e-03, 1.04631344e-02,\n",
              "        1.01117324e-02, 8.56222832e-05, 0.00000000e+00, 8.37080370e-05,\n",
              "        2.09468126e-05, 1.01006348e-02, 8.44920287e-05, 9.37588140e-03,\n",
              "        9.25886445e-03, 4.66359234e-06, 9.59824771e-03, 4.30609907e-05]],\n",
              "      dtype=float32), array([-0.03364622, -0.03827645, -0.03597004,  0.00033739,  0.00019105,\n",
              "        0.00019105, -0.03348637, -0.03840183, -0.03676476,  0.00019105,\n",
              "        0.00019104,  0.00019086,  0.00019104, -0.03771012,  0.00019105,\n",
              "       -0.03580641, -0.03391211,  0.00019105, -0.03413426,  0.00019102],\n",
              "      dtype=float32), array([2.4622090e-03, 3.4037477e-03, 3.0272284e-03, 1.4761300e-04,\n",
              "       8.5932006e-05, 8.5932974e-05, 2.4718721e-03, 3.4473955e-03,\n",
              "       3.1472708e-03, 8.5930587e-05, 8.5923202e-05, 8.5761007e-05,\n",
              "       8.5924446e-05, 3.2900826e-03, 8.5929831e-05, 2.2946442e-03,\n",
              "       2.4197882e-03, 8.5934189e-05, 2.6487915e-03, 8.5907799e-05],\n",
              "      dtype=float32), array([[-0.08689938],\n",
              "       [-0.087395  ],\n",
              "       [-0.08744055],\n",
              "       [-0.00033386],\n",
              "       [-0.00019105],\n",
              "       [-0.00019105],\n",
              "       [-0.08681311],\n",
              "       [-0.08821435],\n",
              "       [-0.08684687],\n",
              "       [-0.00019101],\n",
              "       [-0.00019099],\n",
              "       [-0.00018723],\n",
              "       [-0.00019092],\n",
              "       [-0.08708383],\n",
              "       [-0.00019105],\n",
              "       [-0.08508158],\n",
              "       [-0.08592376],\n",
              "       [-0.00019105],\n",
              "       [-0.08774659],\n",
              "       [-0.0001909 ]], dtype=float32), array([[9.67771094e-03],\n",
              "       [1.00988215e-02],\n",
              "       [1.00900270e-02],\n",
              "       [1.43884157e-04],\n",
              "       [8.59314532e-05],\n",
              "       [8.59309584e-05],\n",
              "       [9.75728594e-03],\n",
              "       [1.03906263e-02],\n",
              "       [9.95231513e-03],\n",
              "       [8.58989370e-05],\n",
              "       [8.58828134e-05],\n",
              "       [8.25276147e-05],\n",
              "       [8.58178028e-05],\n",
              "       [9.94620286e-03],\n",
              "       [8.59298816e-05],\n",
              "       [8.36503971e-03],\n",
              "       [9.43043921e-03],\n",
              "       [8.59331703e-05],\n",
              "       [1.00996969e-02],\n",
              "       [8.57930645e-05]], dtype=float32), array([-0.05497169], dtype=float32), array([0.00509821], dtype=float32)])"
            ]
          },
          "metadata": {},
          "execution_count": 31
        }
      ],
      "source": [
        "result.state\n",
        "# all weights are zero\n",
        "# -> nothing is learned "
      ]
    },
    {
      "cell_type": "markdown",
      "metadata": {
        "id": "eqkadG5nH_KU"
      },
      "source": [
        "#### Evaluate"
      ]
    },
    {
      "cell_type": "code",
      "execution_count": null,
      "metadata": {
        "id": "XwZd8b3FHjuh"
      },
      "outputs": [],
      "source": [
        "# Create the test data for model evaluation\n",
        "X_test = pd.concat([f[1][0] for f in random_client_ds])\n",
        "y_test = pd.concat([f[1][1] for f in random_client_ds])\n",
        "\n",
        "test_sets = [tf.data.Dataset.from_tensor_slices(\n",
        "    (tf.convert_to_tensor(np.expand_dims(el[1][0], axis=0)), \n",
        "    tf.convert_to_tensor(np.expand_dims(el[1][1], axis=0)))) \n",
        "    for el in random_client_ds]"
      ]
    },
    {
      "cell_type": "code",
      "execution_count": null,
      "metadata": {
        "colab": {
          "base_uri": "https://localhost:8080/"
        },
        "id": "Wl-0NiBSJDuO",
        "outputId": "839ea71e-d394-4305-ca18-c05945f3f91a"
      },
      "outputs": [
        {
          "output_type": "stream",
          "name": "stderr",
          "text": [
            "<ipython-input-38-552d4a23315f>:2: DeprecationWarning: `tff.learning.build_federated_evaluation` is deprecated, use `tff.learning.algorithms.build_fed_eval` instead.\n",
            "  evaluation = tff.learning.build_federated_evaluation(model_fn_9)\n"
          ]
        },
        {
          "output_type": "execute_result",
          "data": {
            "text/plain": [
              "OrderedDict([('eval',\n",
              "              OrderedDict([('mean_absolute_error', 3185.3452),\n",
              "                           ('loss', 3185.3452),\n",
              "                           ('num_examples', 80),\n",
              "                           ('num_batches', 4)]))])"
            ]
          },
          "metadata": {},
          "execution_count": 38
        }
      ],
      "source": [
        "# Model evaluation\n",
        "evaluation = tff.learning.build_federated_evaluation(model_fn_9)\n",
        "# print(evaluation.type_signature.formatted_representation())\n",
        "model_weights = iterative_process.get_model_weights(state)\n",
        "train_metrics = evaluation(model_weights, test_sets)\n",
        "train_metrics"
      ]
    },
    {
      "cell_type": "code",
      "execution_count": null,
      "metadata": {
        "colab": {
          "base_uri": "https://localhost:8080/"
        },
        "id": "qHtfuogKJe6z",
        "outputId": "26a5e6ab-bf88-453b-9f42-885cd146c862"
      },
      "outputs": [
        {
          "output_type": "stream",
          "name": "stdout",
          "text": [
            "3/3 [==============================] - 0s 7ms/step - loss: 3185.3455 - mae: 3185.3455 - mean_squared_error: 42205208.0000\n",
            "[3185.345458984375, 3185.345458984375, 42205208.0]\n",
            "['loss', 'mae', 'mean_squared_error']\n"
          ]
        }
      ],
      "source": [
        "# Create model from training results and evaluate\n",
        "model = create_keras_model(input_features = 9)\n",
        "model_weights.assign_weights_to(model)\n",
        "model.compile(\n",
        "    loss=tf.losses.mae,\n",
        "    # loss=tf.losses.mean_squared_error,\n",
        "    optimizer=tf.optimizers.Adam(),\n",
        "    metrics=[\"mae\", 'mean_squared_error']\n",
        ")\n",
        "# The evaluation results, for technical reasons the metrics_names is called afterwards. However, its order fits to the results\n",
        "print(model.evaluate(X_test, y_test))\n",
        "print(model.metrics_names)"
      ]
    },
    {
      "cell_type": "markdown",
      "metadata": {
        "id": "mI5W1ESJXe4z"
      },
      "source": [
        "Results federated:\n",
        "\n",
        "fl-loss (mae): 2280.2578 \n",
        "🚀 JW\n",
        "\n",
        "OH: 3185.3455"
      ]
    }
  ],
  "metadata": {
    "colab": {
      "provenance": [],
      "toc_visible": true,
      "include_colab_link": true
    },
    "kernelspec": {
      "display_name": "Python 3 (ipykernel)",
      "language": "python",
      "name": "python3"
    },
    "language_info": {
      "codemirror_mode": {
        "name": "ipython",
        "version": 3
      },
      "file_extension": ".py",
      "mimetype": "text/x-python",
      "name": "python",
      "nbconvert_exporter": "python",
      "pygments_lexer": "ipython3",
      "version": "3.9.16"
    }
  },
  "nbformat": 4,
  "nbformat_minor": 0
}