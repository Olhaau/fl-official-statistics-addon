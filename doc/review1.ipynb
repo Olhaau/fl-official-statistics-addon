{
 "cells": [
  {
   "cell_type": "markdown",
   "id": "0aab56ea-c6ac-4e8c-8f8e-f4e81838d3b7",
   "metadata": {},
   "source": [
    "# ACKI Review 1\n",
    "\n",
    "Federated Learning in Official Statistics - check of the initial Results"
   ]
  },
  {
   "cell_type": "markdown",
   "id": "96f7a0e0-1176-41b6-be77-35c5d1c519d2",
   "metadata": {},
   "source": [
    "## Übersicht\n",
    "\n",
    "... über die Ergebnisse der Studie.\n",
    "\n",
    "S. [00_initial_results.ipynb](../_dev/00_initial_results.ipynb)"
   ]
  },
  {
   "cell_type": "markdown",
   "id": "a685c1d9-356c-47d8-b880-cdc823a0de89",
   "metadata": {},
   "source": [
    "## Intro in Code und Methoden\n",
    "\n",
    "S. [01_insurance_prep_eda_baselines.ipynb](../_dev/01_insurance_prep_eda_baselines.ipynb)\n",
    "\n",
    "\n",
    "- Datenverarbeitung in Python\n",
    "- Exkurs EDA, Baselines\n",
    "- dnn: tensorflow, keras, ..."
   ]
  },
  {
   "cell_type": "markdown",
   "id": "6e5ac9df-5ca0-4c46-a748-f92b924cbc2b",
   "metadata": {},
   "source": [
    "## Unsere Untersuchung und Ergebnisse\n",
    "\n",
    "### Einrichtung auf verschiedenen Systemen aufwändig\n",
    "\n",
    "### Medical Insurance - Details\n",
    "\n",
    "S. [00_initial_results.ipynb#Our Investigation](<../_dev/00_initial_results.ipynb#Our Investigation>)"
   ]
  },
  {
   "cell_type": "code",
   "execution_count": null,
   "id": "5329c799-7e9c-43d5-8c46-b284eecdc293",
   "metadata": {},
   "outputs": [],
   "source": []
  },
  {
   "cell_type": "code",
   "execution_count": null,
   "id": "35d592c2-784a-4a86-a12f-35e21d36ac63",
   "metadata": {},
   "outputs": [],
   "source": []
  }
 ],
 "metadata": {
  "kernelspec": {
   "display_name": "Python 3 (ipykernel)",
   "language": "python",
   "name": "python3"
  },
  "language_info": {
   "codemirror_mode": {
    "name": "ipython",
    "version": 3
   },
   "file_extension": ".py",
   "mimetype": "text/x-python",
   "name": "python",
   "nbconvert_exporter": "python",
   "pygments_lexer": "ipython3",
   "version": "3.9.16"
  }
 },
 "nbformat": 4,
 "nbformat_minor": 5
}
