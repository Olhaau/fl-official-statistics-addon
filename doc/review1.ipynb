{
 "cells": [
  {
   "cell_type": "markdown",
   "id": "66b41498",
   "metadata": {
    "colab_type": "text",
    "id": "view-in-github"
   },
   "source": [
    "<a href=\"https://colab.research.google.com/github/Olhaau/fl-official-statistics-addon/blob/main/doc/review1.ipynb\" target=\"_parent\"><img src=\"https://colab.research.google.com/assets/colab-badge.svg\" alt=\"Open In Colab\"/></a>"
   ]
  },
  {
   "cell_type": "markdown",
   "id": "0aab56ea-c6ac-4e8c-8f8e-f4e81838d3b7",
   "metadata": {
    "id": "0aab56ea-c6ac-4e8c-8f8e-f4e81838d3b7"
   },
   "source": [
    "# ACKI Review 1\n",
    "---\n",
    "\n",
    "**Federated Learning in Official Statistics - Checks of the initial Results**"
   ]
  },
  {
   "cell_type": "markdown",
   "id": "96f7a0e0-1176-41b6-be77-35c5d1c519d2",
   "metadata": {
    "id": "96f7a0e0-1176-41b6-be77-35c5d1c519d2",
    "jp-MarkdownHeadingCollapsed": true,
    "tags": []
   },
   "source": [
    "## [Übersicht über die Ergebnisse der Studie](../_dev/00_initial_results.ipynb)\n",
    "---"
   ]
  },
  {
   "cell_type": "markdown",
   "id": "ec3236ba-415e-4ed7-be61-67b4ed5f6fe3",
   "metadata": {
    "tags": []
   },
   "source": [
    "Federated Learning (FL) wurde in 3 Situationen erprobt:\n",
    "\n",
    "- **Krankenversicherungskosten (Kaggle)**\n",
    "    - relevanter Anwendungsfall (Datenschutzbeschränkungen), potentiell geeignet für die initiale Codeentwicklung (simple Daten und Modelle)\n",
    "    - **Ergebnisse:** Lt. Studie performen zentralisierte Modelle hervorragend und FL katastrophal. Uns sind jedoch Inkonsistenzen in den verwendeten Modellen und hohe Varianz der Performance-Ergebnisse aufgefallen.\n",
    "    - <span style=\"background-color: #FFFF00\">Zunächst war geplant den Anwendungsfall für initiale Codeentwicklung aufzubereiten. Dabei sind uns Verbesserungsmöglichkeiten aufgefallen, die wir in eine geplante Veröffentlichung einfließen lassen. </span>\n",
    "- **Mobilfunk (umlaut)**\n",
    "    - relevanter Anwendungsfall (Datenschutzbeschränkungen, StBA Bezug)\n",
    "    - **Ergebnisse:** FL performt fast genauso gut wie betrachtete zentralisierte Modelle, jedoch ist kein Modell wirklich gut ($R^2\\leq 0.158$)\n",
    "    - Weiterentwicklung aktuell ausgeschlossen (Datenverfügbarkeit)\n",
    "- **Feinstaubbelastung (Bejing)**\n",
    "    - kein datenschutzkritischer Anwendungsfall, aufwändiges Modell, unhandlicher Datensatz\n",
    "    - **Ergebnisse:** FL performed insgesamt und im Vergleich zu zentralisierten Ansätzen sehr gut (Kreuzvalidierung ergibt 67% Accuracy ggü. 72% eines Globalmodells).\n",
    "    - Zunächst nicht Gegenstand weiterer Untersuchungen.\n",
    "\n"
   ]
  },
  {
   "cell_type": "markdown",
   "id": "a685c1d9-356c-47d8-b880-cdc823a0de89",
   "metadata": {
    "id": "a685c1d9-356c-47d8-b880-cdc823a0de89",
    "jp-MarkdownHeadingCollapsed": true,
    "tags": []
   },
   "source": [
    "## [Einführung in Code und Methoden](../_dev/00_intro_code_methods.ipynb)\n",
    "---"
   ]
  },
  {
   "cell_type": "markdown",
   "id": "61bb7230-8b4e-4e86-8afc-b8261877851b",
   "metadata": {},
   "source": [
    "tba Zusammenfassung"
   ]
  },
  {
   "cell_type": "markdown",
   "id": "6e5ac9df-5ca0-4c46-a748-f92b924cbc2b",
   "metadata": {
    "id": "6e5ac9df-5ca0-4c46-a748-f92b924cbc2b",
    "jp-MarkdownHeadingCollapsed": true,
    "tags": []
   },
   "source": [
    "## [Unsere Untersuchung und deren Ergebnisse](../_dev/xx_results.ipynb)\n",
    "---"
   ]
  },
  {
   "cell_type": "markdown",
   "id": "5eb2b0ed-820c-4d47-bcf9-1e4f74696f9c",
   "metadata": {},
   "source": [
    "tba Zusammenfassung"
   ]
  }
 ],
 "metadata": {
  "colab": {
   "include_colab_link": true,
   "provenance": []
  },
  "kernelspec": {
   "display_name": "Python 3 (ipykernel)",
   "language": "python",
   "name": "python3"
  },
  "language_info": {
   "codemirror_mode": {
    "name": "ipython",
    "version": 3
   },
   "file_extension": ".py",
   "mimetype": "text/x-python",
   "name": "python",
   "nbconvert_exporter": "python",
   "pygments_lexer": "ipython3",
   "version": "3.9.16"
  }
 },
 "nbformat": 4,
 "nbformat_minor": 5
}
