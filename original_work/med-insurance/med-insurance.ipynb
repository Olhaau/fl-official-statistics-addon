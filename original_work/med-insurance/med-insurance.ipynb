{
 "cells": [
  {
   "cell_type": "markdown",
   "metadata": {},
   "source": [
    "## Medical insurance data set\n",
    "* https://www.kaggle.com/datasets/teertha/ushealthinsurancedataset\n",
    "    * 1400 data points\n",
    "\n",
    "## Results\n",
    "* DNN: R² of 0.83\n",
    "* RandomForest: R² of 0.87\n",
    "* LinearRegression: bad idea, non-linear data R² of 0.78\n",
    "* Same with Ridge Regressor\n",
    "\n",
    "### Next steps\n",
    "* Data augmentation\n",
    "* cross validation\n",
    "* privacy attacks\n",
    "* differential privacy\n"
   ]
  },
  {
   "cell_type": "code",
   "execution_count": null,
   "metadata": {
    "collapsed": false,
    "execution": {
     "iopub.status.busy": "2023-03-20T13:58:15.754554Z",
     "iopub.status.idle": "2023-03-20T13:58:15.755735Z",
     "shell.execute_reply": "2023-03-20T13:58:15.754554Z",
     "shell.execute_reply.started": "2023-03-20T13:58:15.754554Z"
    },
    "jupyter": {
     "outputs_hidden": false
    },
    "tags": []
   },
   "outputs": [],
   "source": [
    "import numpy as np\n",
    "import pandas as pd\n",
    "import matplotlib.pyplot as plt\n",
    "from sklearn.model_selection import train_test_split, cross_val_score, ShuffleSplit, RandomizedSearchCV, GridSearchCV\n",
    "from sklearn.preprocessing import MinMaxScaler\n",
    "from sklearn.ensemble import RandomForestRegressor\n",
    "# Import the DNN functions\n",
    "import tensorflow as tf\n",
    "from tensorflow import keras\n",
    "from keras.models import Sequential\n",
    "from keras.layers import Dense, Dropout\n",
    "from tensorflow_addons.metrics import RSquare\n",
    "import keras_tuner\n",
    "\n",
    "validation_split_size = 0.2"
   ]
  },
  {
   "cell_type": "code",
   "execution_count": null,
   "metadata": {
    "collapsed": false,
    "execution": {
     "iopub.status.busy": "2023-03-20T13:58:15.756742Z",
     "iopub.status.idle": "2023-03-20T13:58:15.757747Z",
     "shell.execute_reply": "2023-03-20T13:58:15.756742Z",
     "shell.execute_reply.started": "2023-03-20T13:58:15.756742Z"
    },
    "jupyter": {
     "outputs_hidden": false
    },
    "tags": []
   },
   "outputs": [],
   "source": [
    "# Load and preprocess the data\n",
    "dataset = pd.read_csv('data/insurance.csv')\n",
    "# Make non numerical features (sex, region, smoker) to categorical features\n",
    "dataset['sex'] = dataset['sex'].astype('category').cat.codes\n",
    "dataset['region'] = dataset['region'].astype('category').cat.codes\n",
    "dataset['smoker'] = dataset['smoker'].astype('category').cat.codes\n",
    "# One hot encoding\n",
    "dataset[['region0', 'region1', 'region2', 'region3']] = pd.get_dummies(dataset['region'])\n",
    "# Scale data into [0, 1]\n",
    "scaler = MinMaxScaler()\n",
    "dataset[['age', 'bmi', 'children']] = scaler.fit_transform(dataset[['age', 'bmi', 'children']])\n",
    "dataset"
   ]
  },
  {
   "cell_type": "code",
   "execution_count": null,
   "metadata": {
    "collapsed": false,
    "execution": {
     "iopub.status.busy": "2023-03-20T13:58:15.757747Z",
     "iopub.status.idle": "2023-03-20T13:58:15.758758Z",
     "shell.execute_reply": "2023-03-20T13:58:15.757747Z",
     "shell.execute_reply.started": "2023-03-20T13:58:15.757747Z"
    },
    "jupyter": {
     "outputs_hidden": false
    },
    "tags": []
   },
   "outputs": [],
   "source": [
    "# Functions for easy data handling and feature definition\n",
    "training_features = ['age', 'sex', 'bmi', 'children', 'smoker', 'region0', 'region1', 'region2', 'region3']\n",
    "target_variable = 'charges'\n",
    "def get_x(d):\n",
    "    \"\"\"Return the before defined training_features from the given data.\n",
    "\n",
    "    :param d: The data to filter the features from\n",
    "    :type d: pandas.DataFrame\n",
    "    :return: The data of the training_features\n",
    "    :rtype: pandas.DataFrame\n",
    "    \"\"\"\n",
    "    return d[training_features]\n",
    "\n",
    "def get_y(d):\n",
    "    \"\"\"Return the before defined target_variable from the given data.\n",
    "\n",
    "    :param d: The data to filter the features from\n",
    "    :type d: pandas.DataFrame\n",
    "    :return: The data of the training_features\n",
    "    :rtype: pandas.DataFrame\n",
    "    \"\"\"\n",
    "    return d[[target_variable]]"
   ]
  },
  {
   "cell_type": "code",
   "execution_count": 4,
   "metadata": {
    "collapsed": false,
    "execution": {
     "iopub.execute_input": "2023-03-20T13:58:15.759764Z",
     "iopub.status.busy": "2023-03-20T13:58:15.759764Z",
     "iopub.status.idle": "2023-03-20T13:58:15.769852Z",
     "shell.execute_reply": "2023-03-20T13:58:15.769852Z",
     "shell.execute_reply.started": "2023-03-20T13:58:15.759764Z"
    },
    "jupyter": {
     "outputs_hidden": false
    }
   },
   "outputs": [],
   "source": [
    "# Divide data into train and test data\n",
    "X_train, X_test, y_train, y_test = train_test_split(dataset[training_features], dataset[[target_variable]], test_size=0.2, random_state=42,\n",
    "                                                    shuffle=True)"
   ]
  },
  {
   "cell_type": "code",
   "execution_count": 5,
   "metadata": {
    "collapsed": false,
    "execution": {
     "iopub.execute_input": "2023-03-20T13:58:15.771963Z",
     "iopub.status.busy": "2023-03-20T13:58:15.770954Z",
     "iopub.status.idle": "2023-03-20T13:58:15.785074Z",
     "shell.execute_reply": "2023-03-20T13:58:15.785074Z",
     "shell.execute_reply.started": "2023-03-20T13:58:15.771963Z"
    },
    "jupyter": {
     "outputs_hidden": false
    }
   },
   "outputs": [],
   "source": [
    "def plot_loss(history, y_min=None, y_max=None, save_path=None):\n",
    "    \"\"\"Plot the training history and save the figure.\n",
    "\n",
    "    :param history: The history object including the metrics to plot\n",
    "    :type history: keras.callbacks.History\n",
    "    :param y_min: The lover limit of the plot\n",
    "    :type y_min: float, optional\n",
    "    :param y_max: The upper limit of the plot\n",
    "    :type y_max: float, optional\n",
    "    :param save_path: The path to save the plot, if None, it will not be saved\n",
    "    :type save_path: str, optional\n",
    "    \"\"\"\n",
    "    plt.plot(history.history['r_square'], label='train R^2')\n",
    "    plt.plot(history.history['val_r_square'], label='test R^2')\n",
    "    if y_min is not None and y_max is not None:\n",
    "        plt.ylim([y_min, y_max])\n",
    "    plt.xlabel('Epoch')\n",
    "    plt.ylabel('Error')\n",
    "    plt.legend()\n",
    "    plt.grid(True)\n",
    "    if save_path is not None:\n",
    "        plt.savefig(save_path)"
   ]
  },
  {
   "cell_type": "markdown",
   "metadata": {},
   "source": [
    "# DNN"
   ]
  },
  {
   "cell_type": "code",
   "execution_count": 6,
   "metadata": {
    "collapsed": false,
    "execution": {
     "iopub.execute_input": "2023-03-20T13:58:15.910136Z",
     "iopub.status.busy": "2023-03-20T13:58:15.909135Z",
     "iopub.status.idle": "2023-03-20T13:58:16.001959Z",
     "shell.execute_reply": "2023-03-20T13:58:16.001959Z",
     "shell.execute_reply.started": "2023-03-20T13:58:15.910136Z"
    },
    "jupyter": {
     "outputs_hidden": false
    }
   },
   "outputs": [],
   "source": [
    "# DNN: compose and compile\n",
    "dnn_model = Sequential([\n",
    "    keras.Input(shape=(9,)),\n",
    "    Dense(32, activation='relu'),\n",
    "    Dropout(0.05),\n",
    "    Dense(16, activation='relu'),\n",
    "    Dense(1)\n",
    "])\n",
    "\n",
    "dnn_model.compile(loss=tf.losses.mae,\n",
    "                  optimizer=tf.optimizers.SGD(),\n",
    "                  metrics=[\"mae\", 'mean_squared_error', RSquare()]\n",
    "                  )"
   ]
  },
  {
   "cell_type": "code",
   "execution_count": 7,
   "metadata": {
    "collapsed": true,
    "execution": {
     "iopub.execute_input": "2023-03-20T13:58:16.003960Z",
     "iopub.status.busy": "2023-03-20T13:58:16.002960Z",
     "iopub.status.idle": "2023-03-20T13:58:22.252966Z",
     "shell.execute_reply": "2023-03-20T13:58:22.252966Z",
     "shell.execute_reply.started": "2023-03-20T13:58:16.003960Z"
    },
    "jupyter": {
     "outputs_hidden": true
    },
    "tags": []
   },
   "outputs": [
    {
     "name": "stdout",
     "output_type": "stream",
     "text": [
      "Epoch 1/100\n",
      "27/27 [==============================] - 1s 9ms/step - loss: 13518.5361 - mae: 13518.5361 - mean_squared_error: 325468000.0000 - r_square: -1.2805 - val_loss: 12654.9629 - val_mae: 12654.9629 - val_mean_squared_error: 310352800.0000 - val_r_square: -1.0662\n",
      "Epoch 2/100\n",
      "27/27 [==============================] - 0s 2ms/step - loss: 13517.6084 - mae: 13517.6084 - mean_squared_error: 325441024.0000 - r_square: -1.2803 - val_loss: 12653.7217 - val_mae: 12653.7217 - val_mean_squared_error: 310318848.0000 - val_r_square: -1.0660\n",
      "Epoch 3/100\n",
      "27/27 [==============================] - 0s 2ms/step - loss: 13515.3105 - mae: 13515.3105 - mean_squared_error: 325374496.0000 - r_square: -1.2799 - val_loss: 12649.2441 - val_mae: 12649.2441 - val_mean_squared_error: 310195392.0000 - val_r_square: -1.0651\n",
      "Epoch 4/100\n",
      "27/27 [==============================] - 0s 2ms/step - loss: 13498.3105 - mae: 13498.3105 - mean_squared_error: 324903072.0000 - r_square: -1.2766 - val_loss: 12589.7402 - val_mae: 12589.7402 - val_mean_squared_error: 308565120.0000 - val_r_square: -1.0543\n",
      "Epoch 5/100\n",
      "27/27 [==============================] - 0s 2ms/step - loss: 11137.0117 - mae: 11137.0117 - mean_squared_error: 254484576.0000 - r_square: -0.7831 - val_loss: 6799.9053 - val_mae: 6799.9053 - val_mean_squared_error: 133462344.0000 - val_r_square: 0.1115\n",
      "Epoch 6/100\n",
      "27/27 [==============================] - 0s 2ms/step - loss: 6105.5889 - mae: 6105.5889 - mean_squared_error: 92300096.0000 - r_square: 0.3533 - val_loss: 5552.4722 - val_mae: 5552.4722 - val_mean_squared_error: 84888664.0000 - val_r_square: 0.4348\n",
      "Epoch 7/100\n",
      "27/27 [==============================] - 0s 2ms/step - loss: 5581.1099 - mae: 5581.1099 - mean_squared_error: 70408864.0000 - r_square: 0.5067 - val_loss: 6334.1362 - val_mae: 6334.1362 - val_mean_squared_error: 86231280.0000 - val_r_square: 0.4259\n",
      "Epoch 8/100\n",
      "27/27 [==============================] - 0s 2ms/step - loss: 4996.7202 - mae: 4996.7202 - mean_squared_error: 57742548.0000 - r_square: 0.5954 - val_loss: 4508.1743 - val_mae: 4508.1743 - val_mean_squared_error: 38649872.0000 - val_r_square: 0.7427\n",
      "Epoch 9/100\n",
      "27/27 [==============================] - 0s 2ms/step - loss: 4982.8940 - mae: 4982.8940 - mean_squared_error: 58805972.0000 - r_square: 0.5880 - val_loss: 3835.1978 - val_mae: 3835.1978 - val_mean_squared_error: 48771492.0000 - val_r_square: 0.6753\n",
      "Epoch 10/100\n",
      "27/27 [==============================] - 0s 2ms/step - loss: 4738.6738 - mae: 4738.6738 - mean_squared_error: 53110656.0000 - r_square: 0.6279 - val_loss: 3404.7263 - val_mae: 3404.7263 - val_mean_squared_error: 39587512.0000 - val_r_square: 0.7364\n",
      "Epoch 11/100\n",
      "27/27 [==============================] - 0s 2ms/step - loss: 4176.6426 - mae: 4176.6426 - mean_squared_error: 44190484.0000 - r_square: 0.6904 - val_loss: 4495.0176 - val_mae: 4495.0176 - val_mean_squared_error: 56585372.0000 - val_r_square: 0.6233\n",
      "Epoch 12/100\n",
      "27/27 [==============================] - 0s 2ms/step - loss: 4999.4565 - mae: 4999.4565 - mean_squared_error: 58970256.0000 - r_square: 0.5868 - val_loss: 3961.6045 - val_mae: 3961.6045 - val_mean_squared_error: 53135448.0000 - val_r_square: 0.6462\n",
      "Epoch 13/100\n",
      "27/27 [==============================] - 0s 2ms/step - loss: 4404.6929 - mae: 4404.6929 - mean_squared_error: 49116876.0000 - r_square: 0.6558 - val_loss: 7236.9761 - val_mae: 7236.9761 - val_mean_squared_error: 113796320.0000 - val_r_square: 0.2424\n",
      "Epoch 14/100\n",
      "27/27 [==============================] - 0s 2ms/step - loss: 4852.5986 - mae: 4852.5986 - mean_squared_error: 58828652.0000 - r_square: 0.5878 - val_loss: 3211.3345 - val_mae: 3211.3345 - val_mean_squared_error: 38450584.0000 - val_r_square: 0.7440\n",
      "Epoch 15/100\n",
      "27/27 [==============================] - 0s 2ms/step - loss: 4414.9771 - mae: 4414.9771 - mean_squared_error: 49933744.0000 - r_square: 0.6501 - val_loss: 5709.7715 - val_mae: 5709.7715 - val_mean_squared_error: 74555368.0000 - val_r_square: 0.5036\n",
      "Epoch 16/100\n",
      "27/27 [==============================] - 0s 2ms/step - loss: 4531.9233 - mae: 4531.9233 - mean_squared_error: 53522320.0000 - r_square: 0.6250 - val_loss: 5116.1577 - val_mae: 5116.1577 - val_mean_squared_error: 67738104.0000 - val_r_square: 0.5490\n",
      "Epoch 17/100\n",
      "27/27 [==============================] - 0s 2ms/step - loss: 4422.4736 - mae: 4422.4736 - mean_squared_error: 48722188.0000 - r_square: 0.6586 - val_loss: 3123.4871 - val_mae: 3123.4871 - val_mean_squared_error: 35079472.0000 - val_r_square: 0.7665\n",
      "Epoch 18/100\n",
      "27/27 [==============================] - 0s 2ms/step - loss: 4568.4678 - mae: 4568.4678 - mean_squared_error: 50346744.0000 - r_square: 0.6472 - val_loss: 4528.3394 - val_mae: 4528.3394 - val_mean_squared_error: 49834628.0000 - val_r_square: 0.6682\n",
      "Epoch 19/100\n",
      "27/27 [==============================] - 0s 2ms/step - loss: 4088.2764 - mae: 4088.2764 - mean_squared_error: 44142500.0000 - r_square: 0.6907 - val_loss: 5121.8745 - val_mae: 5121.8745 - val_mean_squared_error: 66000732.0000 - val_r_square: 0.5606\n",
      "Epoch 20/100\n",
      "27/27 [==============================] - 0s 2ms/step - loss: 4349.2490 - mae: 4349.2490 - mean_squared_error: 48698508.0000 - r_square: 0.6588 - val_loss: 2746.5593 - val_mae: 2746.5593 - val_mean_squared_error: 29476438.0000 - val_r_square: 0.8038\n",
      "Epoch 21/100\n",
      "27/27 [==============================] - 0s 2ms/step - loss: 4547.5117 - mae: 4547.5117 - mean_squared_error: 51668476.0000 - r_square: 0.6380 - val_loss: 3176.1560 - val_mae: 3176.1560 - val_mean_squared_error: 29399920.0000 - val_r_square: 0.8043\n",
      "Epoch 22/100\n",
      "27/27 [==============================] - 0s 2ms/step - loss: 4256.0962 - mae: 4256.0962 - mean_squared_error: 43104380.0000 - r_square: 0.6980 - val_loss: 3401.6121 - val_mae: 3401.6121 - val_mean_squared_error: 41850500.0000 - val_r_square: 0.7214\n",
      "Epoch 23/100\n",
      "27/27 [==============================] - 0s 2ms/step - loss: 4350.0933 - mae: 4350.0933 - mean_squared_error: 48648580.0000 - r_square: 0.6591 - val_loss: 3902.2451 - val_mae: 3902.2451 - val_mean_squared_error: 42095916.0000 - val_r_square: 0.7197\n",
      "Epoch 24/100\n",
      "27/27 [==============================] - 0s 2ms/step - loss: 4094.2378 - mae: 4094.2378 - mean_squared_error: 45897072.0000 - r_square: 0.6784 - val_loss: 4998.9512 - val_mae: 4998.9512 - val_mean_squared_error: 59780832.0000 - val_r_square: 0.6020\n",
      "Epoch 25/100\n",
      "27/27 [==============================] - 0s 2ms/step - loss: 4470.9551 - mae: 4470.9551 - mean_squared_error: 50960748.0000 - r_square: 0.6429 - val_loss: 2849.0530 - val_mae: 2849.0530 - val_mean_squared_error: 29604390.0000 - val_r_square: 0.8029\n",
      "Epoch 26/100\n",
      "27/27 [==============================] - 0s 2ms/step - loss: 4516.1855 - mae: 4516.1855 - mean_squared_error: 52062592.0000 - r_square: 0.6352 - val_loss: 3031.0107 - val_mae: 3031.0107 - val_mean_squared_error: 36273640.0000 - val_r_square: 0.7585\n",
      "Epoch 27/100\n",
      "27/27 [==============================] - 0s 2ms/step - loss: 4019.1765 - mae: 4019.1765 - mean_squared_error: 40931272.0000 - r_square: 0.7132 - val_loss: 5772.0068 - val_mae: 5772.0068 - val_mean_squared_error: 77818632.0000 - val_r_square: 0.4819\n",
      "Epoch 28/100\n",
      "27/27 [==============================] - 0s 2ms/step - loss: 4284.2124 - mae: 4284.2124 - mean_squared_error: 47582940.0000 - r_square: 0.6666 - val_loss: 2634.4402 - val_mae: 2634.4402 - val_mean_squared_error: 30211402.0000 - val_r_square: 0.7989\n",
      "Epoch 29/100\n",
      "27/27 [==============================] - 0s 2ms/step - loss: 4014.0295 - mae: 4014.0295 - mean_squared_error: 43622008.0000 - r_square: 0.6943 - val_loss: 4327.5171 - val_mae: 4327.5171 - val_mean_squared_error: 45316344.0000 - val_r_square: 0.6983\n",
      "Epoch 30/100\n",
      "27/27 [==============================] - 0s 2ms/step - loss: 4343.0347 - mae: 4343.0347 - mean_squared_error: 47398744.0000 - r_square: 0.6679 - val_loss: 3725.1807 - val_mae: 3725.1807 - val_mean_squared_error: 30849936.0000 - val_r_square: 0.7946\n",
      "Epoch 31/100\n",
      "27/27 [==============================] - 0s 2ms/step - loss: 4302.5742 - mae: 4302.5742 - mean_squared_error: 48281696.0000 - r_square: 0.6617 - val_loss: 3031.8467 - val_mae: 3031.8467 - val_mean_squared_error: 24575882.0000 - val_r_square: 0.8364\n",
      "Epoch 32/100\n",
      "27/27 [==============================] - 0s 2ms/step - loss: 4490.6582 - mae: 4490.6582 - mean_squared_error: 50834768.0000 - r_square: 0.6438 - val_loss: 3266.4614 - val_mae: 3266.4614 - val_mean_squared_error: 24100194.0000 - val_r_square: 0.8396\n",
      "Epoch 33/100\n",
      "27/27 [==============================] - 0s 2ms/step - loss: 4227.6387 - mae: 4227.6387 - mean_squared_error: 45202748.0000 - r_square: 0.6833 - val_loss: 4053.6821 - val_mae: 4053.6821 - val_mean_squared_error: 35051552.0000 - val_r_square: 0.7666\n",
      "Epoch 34/100\n",
      "27/27 [==============================] - 0s 2ms/step - loss: 4313.4805 - mae: 4313.4805 - mean_squared_error: 47831788.0000 - r_square: 0.6648 - val_loss: 3273.5896 - val_mae: 3273.5896 - val_mean_squared_error: 33269550.0000 - val_r_square: 0.7785\n",
      "Epoch 35/100\n",
      "27/27 [==============================] - 0s 2ms/step - loss: 4311.5176 - mae: 4311.5176 - mean_squared_error: 45806984.0000 - r_square: 0.6790 - val_loss: 3527.7322 - val_mae: 3527.7322 - val_mean_squared_error: 39230600.0000 - val_r_square: 0.7388\n",
      "Epoch 36/100\n",
      "27/27 [==============================] - 0s 2ms/step - loss: 3690.0359 - mae: 3690.0359 - mean_squared_error: 39771400.0000 - r_square: 0.7213 - val_loss: 3755.6404 - val_mae: 3755.6404 - val_mean_squared_error: 39331276.0000 - val_r_square: 0.7381\n",
      "Epoch 37/100\n",
      "27/27 [==============================] - 0s 2ms/step - loss: 4016.8987 - mae: 4016.8987 - mean_squared_error: 44053868.0000 - r_square: 0.6913 - val_loss: 6136.9346 - val_mae: 6136.9346 - val_mean_squared_error: 82887832.0000 - val_r_square: 0.4482\n",
      "Epoch 38/100\n",
      "27/27 [==============================] - 0s 2ms/step - loss: 4347.1313 - mae: 4347.1313 - mean_squared_error: 47115396.0000 - r_square: 0.6699 - val_loss: 3077.6504 - val_mae: 3077.6504 - val_mean_squared_error: 26250168.0000 - val_r_square: 0.8252\n",
      "Epoch 39/100\n",
      "27/27 [==============================] - 0s 2ms/step - loss: 3983.6089 - mae: 3983.6089 - mean_squared_error: 44679896.0000 - r_square: 0.6869 - val_loss: 2864.7100 - val_mae: 2864.7100 - val_mean_squared_error: 27999192.0000 - val_r_square: 0.8136\n",
      "Epoch 40/100\n",
      "27/27 [==============================] - 0s 2ms/step - loss: 4252.9307 - mae: 4252.9307 - mean_squared_error: 46270568.0000 - r_square: 0.6758 - val_loss: 3177.8765 - val_mae: 3177.8765 - val_mean_squared_error: 23092654.0000 - val_r_square: 0.8463\n",
      "Epoch 41/100\n",
      "27/27 [==============================] - 0s 2ms/step - loss: 4049.6172 - mae: 4049.6172 - mean_squared_error: 42187380.0000 - r_square: 0.7044 - val_loss: 3961.6753 - val_mae: 3961.6753 - val_mean_squared_error: 29082446.0000 - val_r_square: 0.8064\n",
      "Epoch 42/100\n",
      "27/27 [==============================] - 0s 2ms/step - loss: 4004.1311 - mae: 4004.1311 - mean_squared_error: 42417864.0000 - r_square: 0.7028 - val_loss: 3089.1396 - val_mae: 3089.1396 - val_mean_squared_error: 28408372.0000 - val_r_square: 0.8109\n",
      "Epoch 43/100\n",
      "27/27 [==============================] - 0s 2ms/step - loss: 3787.5520 - mae: 3787.5520 - mean_squared_error: 38809740.0000 - r_square: 0.7281 - val_loss: 3910.8025 - val_mae: 3910.8025 - val_mean_squared_error: 47572796.0000 - val_r_square: 0.6833\n",
      "Epoch 44/100\n",
      "27/27 [==============================] - 0s 2ms/step - loss: 4001.0525 - mae: 4001.0525 - mean_squared_error: 41584084.0000 - r_square: 0.7086 - val_loss: 4178.8633 - val_mae: 4178.8633 - val_mean_squared_error: 29508790.0000 - val_r_square: 0.8035\n",
      "Epoch 45/100\n",
      "27/27 [==============================] - 0s 2ms/step - loss: 3802.6523 - mae: 3802.6523 - mean_squared_error: 39388492.0000 - r_square: 0.7240 - val_loss: 2353.7114 - val_mae: 2353.7114 - val_mean_squared_error: 24963596.0000 - val_r_square: 0.8338\n",
      "Epoch 46/100\n",
      "27/27 [==============================] - 0s 2ms/step - loss: 4211.1172 - mae: 4211.1172 - mean_squared_error: 45324732.0000 - r_square: 0.6824 - val_loss: 3961.3525 - val_mae: 3961.3525 - val_mean_squared_error: 37615952.0000 - val_r_square: 0.7496\n",
      "Epoch 47/100\n",
      "27/27 [==============================] - 0s 2ms/step - loss: 3764.0813 - mae: 3764.0813 - mean_squared_error: 39923912.0000 - r_square: 0.7203 - val_loss: 6604.0034 - val_mae: 6604.0034 - val_mean_squared_error: 96000816.0000 - val_r_square: 0.3609\n",
      "Epoch 48/100\n",
      "27/27 [==============================] - 0s 2ms/step - loss: 3746.6387 - mae: 3746.6387 - mean_squared_error: 39967984.0000 - r_square: 0.7199 - val_loss: 2527.2554 - val_mae: 2527.2554 - val_mean_squared_error: 26669094.0000 - val_r_square: 0.8224\n",
      "Epoch 49/100\n",
      "27/27 [==============================] - 0s 2ms/step - loss: 3749.4470 - mae: 3749.4470 - mean_squared_error: 38889560.0000 - r_square: 0.7275 - val_loss: 3644.7324 - val_mae: 3644.7324 - val_mean_squared_error: 26158698.0000 - val_r_square: 0.8258\n",
      "Epoch 50/100\n",
      "27/27 [==============================] - 0s 2ms/step - loss: 3917.1802 - mae: 3917.1802 - mean_squared_error: 42535276.0000 - r_square: 0.7020 - val_loss: 4986.7642 - val_mae: 4986.7642 - val_mean_squared_error: 63286568.0000 - val_r_square: 0.5787\n",
      "Epoch 51/100\n",
      "27/27 [==============================] - 0s 2ms/step - loss: 3690.6533 - mae: 3690.6533 - mean_squared_error: 38884968.0000 - r_square: 0.7275 - val_loss: 3390.3611 - val_mae: 3390.3611 - val_mean_squared_error: 27315436.0000 - val_r_square: 0.8181\n",
      "Epoch 52/100\n",
      "27/27 [==============================] - 0s 2ms/step - loss: 3412.5669 - mae: 3412.5669 - mean_squared_error: 35581148.0000 - r_square: 0.7507 - val_loss: 3077.0569 - val_mae: 3077.0569 - val_mean_squared_error: 28985088.0000 - val_r_square: 0.8070\n",
      "Epoch 53/100\n",
      "27/27 [==============================] - 0s 2ms/step - loss: 3795.6443 - mae: 3795.6443 - mean_squared_error: 39959324.0000 - r_square: 0.7200 - val_loss: 3490.3149 - val_mae: 3490.3149 - val_mean_squared_error: 42231000.0000 - val_r_square: 0.7188\n",
      "Epoch 54/100\n",
      "27/27 [==============================] - 0s 2ms/step - loss: 3787.6460 - mae: 3787.6460 - mean_squared_error: 39563556.0000 - r_square: 0.7228 - val_loss: 4274.0732 - val_mae: 4274.0732 - val_mean_squared_error: 52326000.0000 - val_r_square: 0.6516\n",
      "Epoch 55/100\n",
      "27/27 [==============================] - 0s 2ms/step - loss: 3759.5188 - mae: 3759.5188 - mean_squared_error: 39202092.0000 - r_square: 0.7253 - val_loss: 4191.7036 - val_mae: 4191.7036 - val_mean_squared_error: 32259100.0000 - val_r_square: 0.7852\n",
      "Epoch 56/100\n",
      "27/27 [==============================] - 0s 2ms/step - loss: 3638.9929 - mae: 3638.9929 - mean_squared_error: 40183660.0000 - r_square: 0.7184 - val_loss: 3850.2129 - val_mae: 3850.2129 - val_mean_squared_error: 45796264.0000 - val_r_square: 0.6951\n",
      "Epoch 57/100\n",
      "27/27 [==============================] - 0s 2ms/step - loss: 3831.2290 - mae: 3831.2290 - mean_squared_error: 41000908.0000 - r_square: 0.7127 - val_loss: 2622.0540 - val_mae: 2622.0544 - val_mean_squared_error: 25782252.0000 - val_r_square: 0.8284\n",
      "Epoch 58/100\n",
      "27/27 [==============================] - 0s 2ms/step - loss: 3540.2952 - mae: 3540.2952 - mean_squared_error: 36699268.0000 - r_square: 0.7429 - val_loss: 3446.8716 - val_mae: 3446.8716 - val_mean_squared_error: 29692248.0000 - val_r_square: 0.8023\n",
      "Epoch 59/100\n",
      "27/27 [==============================] - 0s 2ms/step - loss: 3480.2395 - mae: 3480.2395 - mean_squared_error: 35489728.0000 - r_square: 0.7513 - val_loss: 3609.4805 - val_mae: 3609.4805 - val_mean_squared_error: 33029660.0000 - val_r_square: 0.7801\n",
      "Epoch 60/100\n",
      "27/27 [==============================] - 0s 2ms/step - loss: 3681.2832 - mae: 3681.2832 - mean_squared_error: 39756516.0000 - r_square: 0.7214 - val_loss: 4807.0630 - val_mae: 4807.0630 - val_mean_squared_error: 42013896.0000 - val_r_square: 0.7203\n",
      "Epoch 61/100\n",
      "27/27 [==============================] - 0s 2ms/step - loss: 3577.4451 - mae: 3577.4451 - mean_squared_error: 38487776.0000 - r_square: 0.7303 - val_loss: 3653.8323 - val_mae: 3653.8323 - val_mean_squared_error: 41328664.0000 - val_r_square: 0.7249\n",
      "Epoch 62/100\n",
      "27/27 [==============================] - 0s 2ms/step - loss: 3661.2534 - mae: 3661.2534 - mean_squared_error: 38668220.0000 - r_square: 0.7291 - val_loss: 2520.5759 - val_mae: 2520.5759 - val_mean_squared_error: 27285372.0000 - val_r_square: 0.8183\n",
      "Epoch 63/100\n",
      "27/27 [==============================] - 0s 2ms/step - loss: 3483.2764 - mae: 3483.2764 - mean_squared_error: 36096380.0000 - r_square: 0.7471 - val_loss: 3729.4819 - val_mae: 3729.4819 - val_mean_squared_error: 45418648.0000 - val_r_square: 0.6976\n",
      "Epoch 64/100\n",
      "27/27 [==============================] - 0s 2ms/step - loss: 3560.9431 - mae: 3560.9431 - mean_squared_error: 35901468.0000 - r_square: 0.7484 - val_loss: 2560.4697 - val_mae: 2560.4697 - val_mean_squared_error: 21583656.0000 - val_r_square: 0.8563\n",
      "Epoch 65/100\n",
      "27/27 [==============================] - 0s 2ms/step - loss: 3638.2214 - mae: 3638.2214 - mean_squared_error: 40175484.0000 - r_square: 0.7185 - val_loss: 3413.3870 - val_mae: 3413.3870 - val_mean_squared_error: 24440498.0000 - val_r_square: 0.8373\n",
      "Epoch 66/100\n",
      "27/27 [==============================] - 0s 2ms/step - loss: 3336.8049 - mae: 3336.8049 - mean_squared_error: 33835168.0000 - r_square: 0.7629 - val_loss: 3711.2336 - val_mae: 3711.2336 - val_mean_squared_error: 41635128.0000 - val_r_square: 0.7228\n",
      "Epoch 67/100\n",
      "27/27 [==============================] - 0s 2ms/step - loss: 3260.6731 - mae: 3260.6731 - mean_squared_error: 32772768.0000 - r_square: 0.7704 - val_loss: 3923.9868 - val_mae: 3923.9868 - val_mean_squared_error: 30875346.0000 - val_r_square: 0.7944\n",
      "Epoch 68/100\n",
      "27/27 [==============================] - 0s 2ms/step - loss: 3426.6545 - mae: 3426.6545 - mean_squared_error: 37023232.0000 - r_square: 0.7406 - val_loss: 2457.0327 - val_mae: 2457.0327 - val_mean_squared_error: 26439390.0000 - val_r_square: 0.8240\n",
      "Epoch 69/100\n",
      "27/27 [==============================] - 0s 2ms/step - loss: 3464.7134 - mae: 3464.7134 - mean_squared_error: 36607528.0000 - r_square: 0.7435 - val_loss: 2597.9761 - val_mae: 2597.9761 - val_mean_squared_error: 30393376.0000 - val_r_square: 0.7977\n",
      "Epoch 70/100\n",
      "27/27 [==============================] - 0s 2ms/step - loss: 3508.8342 - mae: 3508.8342 - mean_squared_error: 39053152.0000 - r_square: 0.7264 - val_loss: 2708.5100 - val_mae: 2708.5100 - val_mean_squared_error: 26975368.0000 - val_r_square: 0.8204\n",
      "Epoch 71/100\n",
      "27/27 [==============================] - 0s 2ms/step - loss: 3211.0281 - mae: 3211.0281 - mean_squared_error: 32315994.0000 - r_square: 0.7736 - val_loss: 4460.7505 - val_mae: 4460.7505 - val_mean_squared_error: 37753380.0000 - val_r_square: 0.7487\n",
      "Epoch 72/100\n",
      "27/27 [==============================] - 0s 2ms/step - loss: 3502.1501 - mae: 3502.1501 - mean_squared_error: 36096104.0000 - r_square: 0.7471 - val_loss: 2356.8284 - val_mae: 2356.8281 - val_mean_squared_error: 24362712.0000 - val_r_square: 0.8378\n",
      "Epoch 73/100\n",
      "27/27 [==============================] - 0s 2ms/step - loss: 3278.6702 - mae: 3278.6702 - mean_squared_error: 33469114.0000 - r_square: 0.7655 - val_loss: 2265.8879 - val_mae: 2265.8879 - val_mean_squared_error: 22879504.0000 - val_r_square: 0.8477\n",
      "Epoch 74/100\n",
      "27/27 [==============================] - 0s 2ms/step - loss: 3460.9158 - mae: 3460.9158 - mean_squared_error: 38637096.0000 - r_square: 0.7293 - val_loss: 2629.8008 - val_mae: 2629.8008 - val_mean_squared_error: 23255538.0000 - val_r_square: 0.8452\n",
      "Epoch 75/100\n",
      "27/27 [==============================] - 0s 2ms/step - loss: 3486.0210 - mae: 3486.0210 - mean_squared_error: 36658032.0000 - r_square: 0.7431 - val_loss: 4761.8628 - val_mae: 4761.8628 - val_mean_squared_error: 49600456.0000 - val_r_square: 0.6698\n",
      "Epoch 76/100\n",
      "27/27 [==============================] - 0s 2ms/step - loss: 3383.8018 - mae: 3383.8018 - mean_squared_error: 34892884.0000 - r_square: 0.7555 - val_loss: 3169.2593 - val_mae: 3169.2593 - val_mean_squared_error: 35281624.0000 - val_r_square: 0.7651\n",
      "Epoch 77/100\n",
      "27/27 [==============================] - 0s 2ms/step - loss: 3337.1062 - mae: 3337.1062 - mean_squared_error: 33471842.0000 - r_square: 0.7655 - val_loss: 2349.4543 - val_mae: 2349.4543 - val_mean_squared_error: 26502402.0000 - val_r_square: 0.8236\n",
      "Epoch 78/100\n",
      "27/27 [==============================] - 0s 2ms/step - loss: 3238.4631 - mae: 3238.4631 - mean_squared_error: 33585884.0000 - r_square: 0.7647 - val_loss: 2778.5393 - val_mae: 2778.5393 - val_mean_squared_error: 34382396.0000 - val_r_square: 0.7711\n",
      "Epoch 79/100\n",
      "27/27 [==============================] - 0s 2ms/step - loss: 3090.8884 - mae: 3090.8884 - mean_squared_error: 32063444.0000 - r_square: 0.7753 - val_loss: 2457.7578 - val_mae: 2457.7578 - val_mean_squared_error: 23491124.0000 - val_r_square: 0.8436\n",
      "Epoch 80/100\n",
      "27/27 [==============================] - 0s 2ms/step - loss: 3288.5771 - mae: 3288.5771 - mean_squared_error: 33809020.0000 - r_square: 0.7631 - val_loss: 2305.8916 - val_mae: 2305.8916 - val_mean_squared_error: 23850130.0000 - val_r_square: 0.8412\n",
      "Epoch 81/100\n",
      "27/27 [==============================] - 0s 2ms/step - loss: 3357.6370 - mae: 3357.6370 - mean_squared_error: 33753144.0000 - r_square: 0.7635 - val_loss: 3215.6360 - val_mae: 3215.6360 - val_mean_squared_error: 33629608.0000 - val_r_square: 0.7761\n",
      "Epoch 82/100\n",
      "27/27 [==============================] - 0s 2ms/step - loss: 3341.6919 - mae: 3341.6919 - mean_squared_error: 34317352.0000 - r_square: 0.7595 - val_loss: 3638.3901 - val_mae: 3638.3901 - val_mean_squared_error: 42071648.0000 - val_r_square: 0.7199\n",
      "Epoch 83/100\n",
      "27/27 [==============================] - 0s 2ms/step - loss: 3236.9617 - mae: 3236.9617 - mean_squared_error: 33546788.0000 - r_square: 0.7649 - val_loss: 2291.9822 - val_mae: 2291.9822 - val_mean_squared_error: 24413212.0000 - val_r_square: 0.8375\n",
      "Epoch 84/100\n",
      "27/27 [==============================] - 0s 2ms/step - loss: 3329.6619 - mae: 3329.6619 - mean_squared_error: 35407708.0000 - r_square: 0.7519 - val_loss: 3901.0652 - val_mae: 3901.0652 - val_mean_squared_error: 34200648.0000 - val_r_square: 0.7723\n",
      "Epoch 85/100\n",
      "27/27 [==============================] - 0s 2ms/step - loss: 3467.8352 - mae: 3467.8352 - mean_squared_error: 36367252.0000 - r_square: 0.7452 - val_loss: 3977.6995 - val_mae: 3977.6995 - val_mean_squared_error: 46874468.0000 - val_r_square: 0.6879\n",
      "Epoch 86/100\n",
      "27/27 [==============================] - 0s 2ms/step - loss: 3396.0637 - mae: 3396.0637 - mean_squared_error: 34740488.0000 - r_square: 0.7566 - val_loss: 3820.4875 - val_mae: 3820.4875 - val_mean_squared_error: 40942260.0000 - val_r_square: 0.7274\n",
      "Epoch 87/100\n",
      "27/27 [==============================] - 0s 2ms/step - loss: 3252.6821 - mae: 3252.6821 - mean_squared_error: 34263444.0000 - r_square: 0.7599 - val_loss: 2820.5271 - val_mae: 2820.5271 - val_mean_squared_error: 29074288.0000 - val_r_square: 0.8064\n",
      "Epoch 88/100\n",
      "27/27 [==============================] - 0s 2ms/step - loss: 3448.0544 - mae: 3448.0544 - mean_squared_error: 38060536.0000 - r_square: 0.7333 - val_loss: 2482.6597 - val_mae: 2482.6597 - val_mean_squared_error: 24369400.0000 - val_r_square: 0.8378\n",
      "Epoch 89/100\n",
      "27/27 [==============================] - 0s 2ms/step - loss: 3319.6155 - mae: 3319.6155 - mean_squared_error: 32185514.0000 - r_square: 0.7745 - val_loss: 4178.7861 - val_mae: 4178.7861 - val_mean_squared_error: 42230276.0000 - val_r_square: 0.7188\n",
      "Epoch 90/100\n",
      "27/27 [==============================] - 0s 2ms/step - loss: 3208.5486 - mae: 3208.5486 - mean_squared_error: 33063654.0000 - r_square: 0.7683 - val_loss: 2405.0999 - val_mae: 2405.0999 - val_mean_squared_error: 25754504.0000 - val_r_square: 0.8285\n",
      "Epoch 91/100\n",
      "27/27 [==============================] - 0s 2ms/step - loss: 3309.8982 - mae: 3309.8982 - mean_squared_error: 34705336.0000 - r_square: 0.7568 - val_loss: 3667.9556 - val_mae: 3667.9556 - val_mean_squared_error: 38546956.0000 - val_r_square: 0.7434\n",
      "Epoch 92/100\n",
      "27/27 [==============================] - 0s 2ms/step - loss: 3539.7288 - mae: 3539.7288 - mean_squared_error: 39222964.0000 - r_square: 0.7252 - val_loss: 3556.9495 - val_mae: 3556.9495 - val_mean_squared_error: 25965740.0000 - val_r_square: 0.8271\n",
      "Epoch 93/100\n",
      "27/27 [==============================] - 0s 2ms/step - loss: 3331.4270 - mae: 3331.4270 - mean_squared_error: 34485452.0000 - r_square: 0.7584 - val_loss: 2385.8633 - val_mae: 2385.8633 - val_mean_squared_error: 27333158.0000 - val_r_square: 0.8180\n",
      "Epoch 94/100\n",
      "27/27 [==============================] - 0s 2ms/step - loss: 3257.6895 - mae: 3257.6895 - mean_squared_error: 34722728.0000 - r_square: 0.7567 - val_loss: 2682.1418 - val_mae: 2682.1418 - val_mean_squared_error: 23108820.0000 - val_r_square: 0.8462\n",
      "Epoch 95/100\n",
      "27/27 [==============================] - 0s 2ms/step - loss: 3149.9153 - mae: 3149.9153 - mean_squared_error: 32458138.0000 - r_square: 0.7726 - val_loss: 2166.3347 - val_mae: 2166.3347 - val_mean_squared_error: 23395962.0000 - val_r_square: 0.8442\n",
      "Epoch 96/100\n",
      "27/27 [==============================] - 0s 2ms/step - loss: 3332.3567 - mae: 3332.3567 - mean_squared_error: 35328256.0000 - r_square: 0.7525 - val_loss: 2455.7102 - val_mae: 2455.7102 - val_mean_squared_error: 28495468.0000 - val_r_square: 0.8103\n",
      "Epoch 97/100\n",
      "27/27 [==============================] - 0s 2ms/step - loss: 2889.2153 - mae: 2889.2153 - mean_squared_error: 31073886.0000 - r_square: 0.7823 - val_loss: 2238.0105 - val_mae: 2238.0105 - val_mean_squared_error: 24216288.0000 - val_r_square: 0.8388\n",
      "Epoch 98/100\n",
      "27/27 [==============================] - 0s 2ms/step - loss: 3166.7546 - mae: 3166.7546 - mean_squared_error: 34610844.0000 - r_square: 0.7575 - val_loss: 2859.0764 - val_mae: 2859.0764 - val_mean_squared_error: 23681820.0000 - val_r_square: 0.8423\n",
      "Epoch 99/100\n",
      "27/27 [==============================] - 0s 2ms/step - loss: 3186.2490 - mae: 3186.2490 - mean_squared_error: 32876592.0000 - r_square: 0.7696 - val_loss: 2279.8157 - val_mae: 2279.8157 - val_mean_squared_error: 21863380.0000 - val_r_square: 0.8544\n",
      "Epoch 100/100\n",
      "27/27 [==============================] - 0s 2ms/step - loss: 2930.5859 - mae: 2930.5859 - mean_squared_error: 29404718.0000 - r_square: 0.7940 - val_loss: 2586.2483 - val_mae: 2586.2483 - val_mean_squared_error: 22256136.0000 - val_r_square: 0.8518\n"
     ]
    }
   ],
   "source": [
    "# DNN: train\n",
    "dnn_history = dnn_model.fit(\n",
    "    X_train,\n",
    "    y_train,\n",
    "    shuffle=True,\n",
    "    validation_split=validation_split_size,\n",
    "    epochs=100)"
   ]
  },
  {
   "cell_type": "code",
   "execution_count": 8,
   "metadata": {
    "collapsed": false,
    "execution": {
     "iopub.execute_input": "2023-03-20T13:58:22.253966Z",
     "iopub.status.busy": "2023-03-20T13:58:22.253966Z",
     "iopub.status.idle": "2023-03-20T13:58:22.515656Z",
     "shell.execute_reply": "2023-03-20T13:58:22.515656Z",
     "shell.execute_reply.started": "2023-03-20T13:58:22.253966Z"
    },
    "jupyter": {
     "outputs_hidden": false
    }
   },
   "outputs": [
    {
     "data": {
      "image/png": "[encoded data removed]",
      "text/plain": [
       "<Figure size 640x480 with 1 Axes>"
      ]
     },
     "metadata": {},
     "output_type": "display_data"
    }
   ],
   "source": [
    "plot_loss(dnn_history, y_min=0.5, y_max=0.9, save_path=\"rsquared_init_params.jpg\")"
   ]
  },
  {
   "cell_type": "code",
   "execution_count": 9,
   "metadata": {
    "collapsed": false,
    "execution": {
     "iopub.execute_input": "2023-03-20T13:58:22.517656Z",
     "iopub.status.busy": "2023-03-20T13:58:22.516657Z",
     "iopub.status.idle": "2023-03-20T13:58:22.638505Z",
     "shell.execute_reply": "2023-03-20T13:58:22.638505Z",
     "shell.execute_reply.started": "2023-03-20T13:58:22.517656Z"
    },
    "jupyter": {
     "outputs_hidden": false
    }
   },
   "outputs": [
    {
     "name": "stdout",
     "output_type": "stream",
     "text": [
      "1/1 [==============================] - 0s 75ms/step\n"
     ]
    },
    {
     "data": {
      "text/plain": [
       "array([[14486.947]], dtype=float32)"
      ]
     },
     "execution_count": 9,
     "metadata": {},
     "output_type": "execute_result"
    }
   ],
   "source": [
    "# Test to predict one sample, features are: 'age', 'sex', 'bmi', 'children', 'smoker', 'region'\n",
    "# The region feature is one hot encoded over four different regions so the last four features blong to region\n",
    "dnn_model.predict([[0.9, 0, 0, 0.1, 0, 0,0,0,1]])"
   ]
  },
  {
   "cell_type": "markdown",
   "metadata": {},
   "source": [
    "#### keras tune: DNN Hyper search"
   ]
  },
  {
   "cell_type": "code",
   "execution_count": 10,
   "metadata": {
    "collapsed": false,
    "execution": {
     "iopub.execute_input": "2023-03-20T13:58:22.761287Z",
     "iopub.status.busy": "2023-03-20T13:58:22.761287Z",
     "iopub.status.idle": "2023-03-20T13:58:22.776408Z",
     "shell.execute_reply": "2023-03-20T13:58:22.775407Z",
     "shell.execute_reply.started": "2023-03-20T13:58:22.761287Z"
    },
    "jupyter": {
     "outputs_hidden": false
    }
   },
   "outputs": [],
   "source": [
    "def build_model(hp):\n",
    "    \"\"\"Build and compile model for hyperparameter search\n",
    "\n",
    "    :param hp: Hyperparameter object to define model parameters\n",
    "    :type hp: keras_tuner.HyperParameters\n",
    "    :return: The build and compiled model\n",
    "    :rtype: keras.Model\n",
    "    \"\"\"\n",
    "    model = keras.Sequential()\n",
    "    model.add(Dense(\n",
    "        # Define the hyperparameters.\n",
    "        units=hp.Int(\"units_0\", min_value=8, max_value=64, step=8),\n",
    "        activation=\"relu\",\n",
    "    ))\n",
    "    if hp.Boolean(\"dropout\"):\n",
    "        model.add(Dropout(\n",
    "            rate=hp.Float(\"dropout_rate\", min_value=0.1, max_value=0.3, step=0.05)\n",
    "        ))\n",
    "    model.add(Dense(\n",
    "        # Define the hyperparameter.\n",
    "        units=hp.Int(\"units_1\", min_value=2, max_value=14, step=4), activation=\"relu\",\n",
    "    ))\n",
    "    model.add(Dense(1))\n",
    "    model.compile(\n",
    "        optimizer=\"sgd\",\n",
    "        loss=\"mae\",\n",
    "        metrics=[\"mae\", 'mean_squared_error', RSquare()],\n",
    "    )\n",
    "    return model"
   ]
  },
  {
   "cell_type": "code",
   "execution_count": 11,
   "metadata": {
    "collapsed": false,
    "execution": {
     "iopub.execute_input": "2023-03-20T13:58:22.777417Z",
     "iopub.status.busy": "2023-03-20T13:58:22.776408Z",
     "iopub.status.idle": "2023-03-20T13:58:22.806771Z",
     "shell.execute_reply": "2023-03-20T13:58:22.805679Z",
     "shell.execute_reply.started": "2023-03-20T13:58:22.777417Z"
    },
    "jupyter": {
     "outputs_hidden": false
    }
   },
   "outputs": [],
   "source": [
    "# Prepare hyperparameter search\n",
    "build_model(keras_tuner.HyperParameters())\n",
    "\n",
    "tuner = keras_tuner.RandomSearch(\n",
    "    hypermodel=build_model,\n",
    "    objective=\"val_mae\",\n",
    "    max_trials=3,\n",
    "    executions_per_trial=2,\n",
    "    overwrite=True,\n",
    "    directory=\"keras_tune_results\",\n",
    "    project_name=\"insurance-dnn-tuner\",\n",
    ")\n"
   ]
  },
  {
   "cell_type": "code",
   "execution_count": 12,
   "metadata": {
    "collapsed": false,
    "execution": {
     "iopub.execute_input": "2023-03-20T13:58:22.807778Z",
     "iopub.status.busy": "2023-03-20T13:58:22.807778Z",
     "iopub.status.idle": "2023-03-20T13:59:01.601520Z",
     "shell.execute_reply": "2023-03-20T13:59:01.601520Z",
     "shell.execute_reply.started": "2023-03-20T13:58:22.807778Z"
    },
    "jupyter": {
     "outputs_hidden": false
    }
   },
   "outputs": [
    {
     "name": "stdout",
     "output_type": "stream",
     "text": [
      "Trial 3 Complete [00h 00m 13s]\n",
      "val_mae: 7419.25146484375\n",
      "\n",
      "Best val_mae So Far: 2192.88134765625\n",
      "Total elapsed time: 00h 00m 39s\n",
      "INFO:tensorflow:Oracle triggered exit\n"
     ]
    }
   ],
   "source": [
    "# Search best parameters\n",
    "tuner.search(X_train, y_train, epochs=100, validation_split=validation_split_size)"
   ]
  },
  {
   "cell_type": "code",
   "execution_count": 13,
   "metadata": {
    "collapsed": false,
    "execution": {
     "iopub.execute_input": "2023-03-20T13:59:01.603736Z",
     "iopub.status.busy": "2023-03-20T13:59:01.602656Z",
     "iopub.status.idle": "2023-03-20T13:59:01.648381Z",
     "shell.execute_reply": "2023-03-20T13:59:01.648381Z",
     "shell.execute_reply.started": "2023-03-20T13:59:01.603736Z"
    },
    "jupyter": {
     "outputs_hidden": false
    }
   },
   "outputs": [
    {
     "name": "stdout",
     "output_type": "stream",
     "text": [
      "Model: \"sequential_1\"\n",
      "_________________________________________________________________\n",
      " Layer (type)                Output Shape              Param #   \n",
      "=================================================================\n",
      " dense_3 (Dense)             (None, 56)                560       \n",
      "                                                                 \n",
      " dense_4 (Dense)             (None, 14)                798       \n",
      "                                                                 \n",
      " dense_5 (Dense)             (None, 1)                 15        \n",
      "                                                                 \n",
      "=================================================================\n",
      "Total params: 1,373\n",
      "Trainable params: 1,373\n",
      "Non-trainable params: 0\n",
      "_________________________________________________________________\n"
     ]
    }
   ],
   "source": [
    "# Get best found parameters and build such model\n",
    "best_hps = tuner.get_best_hyperparameters(5)\n",
    "best_model = build_model(best_hps[0])\n",
    "best_model.build(input_shape=(None,9))\n",
    "#best_model.build(input_shape=(None,9))\n",
    "best_model.summary()"
   ]
  },
  {
   "cell_type": "code",
   "execution_count": 14,
   "metadata": {
    "collapsed": true,
    "execution": {
     "iopub.execute_input": "2023-03-20T13:59:01.650381Z",
     "iopub.status.busy": "2023-03-20T13:59:01.649382Z",
     "iopub.status.idle": "2023-03-20T13:59:07.583700Z",
     "shell.execute_reply": "2023-03-20T13:59:07.583700Z",
     "shell.execute_reply.started": "2023-03-20T13:59:01.650381Z"
    },
    "jupyter": {
     "outputs_hidden": true
    },
    "tags": []
   },
   "outputs": [
    {
     "name": "stdout",
     "output_type": "stream",
     "text": [
      "Epoch 1/100\n",
      "27/27 [==============================] - 0s 6ms/step - loss: 13518.4590 - mae: 13518.4590 - mean_squared_error: 325465440.0000 - r_square: -1.2805 - val_loss: 12654.9102 - val_mae: 12654.9102 - val_mean_squared_error: 310351136.0000 - val_r_square: -1.0662\n",
      "Epoch 2/100\n",
      "27/27 [==============================] - 0s 2ms/step - loss: 13517.4189 - mae: 13517.4189 - mean_squared_error: 325436640.0000 - r_square: -1.2803 - val_loss: 12653.3428 - val_mae: 12653.3428 - val_mean_squared_error: 310308800.0000 - val_r_square: -1.0659\n",
      "Epoch 3/100\n",
      "27/27 [==============================] - 0s 2ms/step - loss: 13514.3115 - mae: 13514.3115 - mean_squared_error: 325346464.0000 - r_square: -1.2797 - val_loss: 12646.9873 - val_mae: 12646.9873 - val_mean_squared_error: 310135456.0000 - val_r_square: -1.0647\n",
      "Epoch 4/100\n",
      "27/27 [==============================] - 0s 2ms/step - loss: 13482.9893 - mae: 13482.9893 - mean_squared_error: 324420384.0000 - r_square: -1.2732 - val_loss: 12511.6475 - val_mae: 12511.6475 - val_mean_squared_error: 306464352.0000 - val_r_square: -1.0403\n",
      "Epoch 5/100\n",
      "27/27 [==============================] - 0s 2ms/step - loss: 9771.8076 - mae: 9771.8076 - mean_squared_error: 211014112.0000 - r_square: -0.4786 - val_loss: 6133.9351 - val_mae: 6133.9351 - val_mean_squared_error: 112557184.0000 - val_r_square: 0.2506\n",
      "Epoch 6/100\n",
      "27/27 [==============================] - 0s 2ms/step - loss: 6048.7905 - mae: 6048.7905 - mean_squared_error: 82513304.0000 - r_square: 0.4218 - val_loss: 6992.0771 - val_mae: 6992.0771 - val_mean_squared_error: 110207184.0000 - val_r_square: 0.2663\n",
      "Epoch 7/100\n",
      "27/27 [==============================] - 0s 2ms/step - loss: 5431.2529 - mae: 5431.2529 - mean_squared_error: 64121792.0000 - r_square: 0.5507 - val_loss: 5300.4756 - val_mae: 5300.4756 - val_mean_squared_error: 78812976.0000 - val_r_square: 0.4753\n",
      "Epoch 8/100\n",
      "27/27 [==============================] - 0s 2ms/step - loss: 5452.0918 - mae: 5452.0918 - mean_squared_error: 62868096.0000 - r_square: 0.5595 - val_loss: 4144.5454 - val_mae: 4144.5454 - val_mean_squared_error: 50053900.0000 - val_r_square: 0.6668\n",
      "Epoch 9/100\n",
      "27/27 [==============================] - 0s 2ms/step - loss: 4719.1909 - mae: 4719.1909 - mean_squared_error: 51765876.0000 - r_square: 0.6373 - val_loss: 5807.0391 - val_mae: 5807.0391 - val_mean_squared_error: 58356716.0000 - val_r_square: 0.6115\n",
      "Epoch 10/100\n",
      "27/27 [==============================] - 0s 2ms/step - loss: 4733.7397 - mae: 4733.7397 - mean_squared_error: 54607308.0000 - r_square: 0.6174 - val_loss: 3740.0032 - val_mae: 3740.0032 - val_mean_squared_error: 36644664.0000 - val_r_square: 0.7560\n",
      "Epoch 11/100\n",
      "27/27 [==============================] - 0s 2ms/step - loss: 4939.2886 - mae: 4939.2886 - mean_squared_error: 57848036.0000 - r_square: 0.5947 - val_loss: 3781.1582 - val_mae: 3781.1582 - val_mean_squared_error: 46876656.0000 - val_r_square: 0.6879\n",
      "Epoch 12/100\n",
      "27/27 [==============================] - 0s 2ms/step - loss: 4480.0317 - mae: 4480.0317 - mean_squared_error: 52077096.0000 - r_square: 0.6351 - val_loss: 3802.2659 - val_mae: 3802.2659 - val_mean_squared_error: 35501952.0000 - val_r_square: 0.7636\n",
      "Epoch 13/100\n",
      "27/27 [==============================] - 0s 2ms/step - loss: 4338.2725 - mae: 4338.2725 - mean_squared_error: 47670024.0000 - r_square: 0.6660 - val_loss: 5802.3184 - val_mae: 5802.3184 - val_mean_squared_error: 81176904.0000 - val_r_square: 0.4596\n",
      "Epoch 14/100\n",
      "27/27 [==============================] - 0s 2ms/step - loss: 4621.9824 - mae: 4621.9824 - mean_squared_error: 50641000.0000 - r_square: 0.6452 - val_loss: 5417.8516 - val_mae: 5417.8516 - val_mean_squared_error: 56592472.0000 - val_r_square: 0.6232\n",
      "Epoch 15/100\n",
      "27/27 [==============================] - 0s 2ms/step - loss: 5054.6514 - mae: 5054.6514 - mean_squared_error: 60044340.0000 - r_square: 0.5793 - val_loss: 3774.0310 - val_mae: 3774.0310 - val_mean_squared_error: 34065836.0000 - val_r_square: 0.7732\n",
      "Epoch 16/100\n",
      "27/27 [==============================] - 0s 2ms/step - loss: 4872.7690 - mae: 4872.7690 - mean_squared_error: 55237736.0000 - r_square: 0.6130 - val_loss: 4411.4585 - val_mae: 4411.4585 - val_mean_squared_error: 50402824.0000 - val_r_square: 0.6644\n",
      "Epoch 17/100\n",
      "27/27 [==============================] - 0s 2ms/step - loss: 5078.9824 - mae: 5078.9824 - mean_squared_error: 59280716.0000 - r_square: 0.5846 - val_loss: 3768.1567 - val_mae: 3768.1567 - val_mean_squared_error: 51291828.0000 - val_r_square: 0.6585\n",
      "Epoch 18/100\n",
      "27/27 [==============================] - 0s 2ms/step - loss: 4706.9849 - mae: 4706.9849 - mean_squared_error: 49571180.0000 - r_square: 0.6527 - val_loss: 3914.4856 - val_mae: 3914.4856 - val_mean_squared_error: 32860696.0000 - val_r_square: 0.7812\n",
      "Epoch 19/100\n",
      "27/27 [==============================] - 0s 2ms/step - loss: 4719.0859 - mae: 4719.0859 - mean_squared_error: 53462752.0000 - r_square: 0.6254 - val_loss: 3112.6318 - val_mae: 3112.6318 - val_mean_squared_error: 33467708.0000 - val_r_square: 0.7772\n",
      "Epoch 20/100\n",
      "27/27 [==============================] - 0s 2ms/step - loss: 4580.7002 - mae: 4580.7002 - mean_squared_error: 51756888.0000 - r_square: 0.6373 - val_loss: 4730.3745 - val_mae: 4730.3745 - val_mean_squared_error: 40541136.0000 - val_r_square: 0.7301\n",
      "Epoch 21/100\n",
      "27/27 [==============================] - 0s 2ms/step - loss: 4609.7349 - mae: 4609.7349 - mean_squared_error: 52141576.0000 - r_square: 0.6346 - val_loss: 4650.5234 - val_mae: 4650.5234 - val_mean_squared_error: 59310516.0000 - val_r_square: 0.6051\n",
      "Epoch 22/100\n",
      "27/27 [==============================] - 0s 2ms/step - loss: 4177.8813 - mae: 4177.8813 - mean_squared_error: 44536292.0000 - r_square: 0.6879 - val_loss: 3216.5193 - val_mae: 3216.5193 - val_mean_squared_error: 33148560.0000 - val_r_square: 0.7793\n",
      "Epoch 23/100\n",
      "27/27 [==============================] - 0s 2ms/step - loss: 4292.8999 - mae: 4292.8999 - mean_squared_error: 48003292.0000 - r_square: 0.6636 - val_loss: 4716.9863 - val_mae: 4716.9863 - val_mean_squared_error: 56378544.0000 - val_r_square: 0.6247\n",
      "Epoch 24/100\n",
      "27/27 [==============================] - 0s 2ms/step - loss: 4336.4780 - mae: 4336.4780 - mean_squared_error: 47703324.0000 - r_square: 0.6657 - val_loss: 5753.0859 - val_mae: 5753.0859 - val_mean_squared_error: 71679008.0000 - val_r_square: 0.5228\n",
      "Epoch 25/100\n",
      "27/27 [==============================] - 0s 2ms/step - loss: 4242.8770 - mae: 4242.8770 - mean_squared_error: 46074128.0000 - r_square: 0.6772 - val_loss: 5606.4292 - val_mae: 5606.4292 - val_mean_squared_error: 67045148.0000 - val_r_square: 0.5536\n",
      "Epoch 26/100\n",
      "27/27 [==============================] - 0s 2ms/step - loss: 4464.0171 - mae: 4464.0171 - mean_squared_error: 50508016.0000 - r_square: 0.6461 - val_loss: 4773.1880 - val_mae: 4773.1880 - val_mean_squared_error: 39910408.0000 - val_r_square: 0.7343\n",
      "Epoch 27/100\n",
      "27/27 [==============================] - 0s 2ms/step - loss: 4342.6201 - mae: 4342.6201 - mean_squared_error: 46668620.0000 - r_square: 0.6730 - val_loss: 5677.6343 - val_mae: 5677.6343 - val_mean_squared_error: 64817636.0000 - val_r_square: 0.5685\n",
      "Epoch 28/100\n",
      "27/27 [==============================] - 0s 2ms/step - loss: 4615.1543 - mae: 4615.1543 - mean_squared_error: 52849472.0000 - r_square: 0.6297 - val_loss: 2525.1367 - val_mae: 2525.1367 - val_mean_squared_error: 25651664.0000 - val_r_square: 0.8292\n",
      "Epoch 29/100\n",
      "27/27 [==============================] - 0s 2ms/step - loss: 4348.6128 - mae: 4348.6128 - mean_squared_error: 48475492.0000 - r_square: 0.6603 - val_loss: 5079.2290 - val_mae: 5079.2290 - val_mean_squared_error: 40968324.0000 - val_r_square: 0.7273\n",
      "Epoch 30/100\n",
      "27/27 [==============================] - 0s 2ms/step - loss: 4625.5259 - mae: 4625.5259 - mean_squared_error: 49609552.0000 - r_square: 0.6524 - val_loss: 3071.8552 - val_mae: 3071.8552 - val_mean_squared_error: 27521206.0000 - val_r_square: 0.8168\n",
      "Epoch 31/100\n",
      "27/27 [==============================] - 0s 2ms/step - loss: 4062.9839 - mae: 4062.9839 - mean_squared_error: 43211548.0000 - r_square: 0.6972 - val_loss: 3343.5056 - val_mae: 3343.5056 - val_mean_squared_error: 26186756.0000 - val_r_square: 0.8257\n",
      "Epoch 32/100\n",
      "27/27 [==============================] - 0s 2ms/step - loss: 4075.6770 - mae: 4075.6770 - mean_squared_error: 41355700.0000 - r_square: 0.7102 - val_loss: 3224.9592 - val_mae: 3224.9592 - val_mean_squared_error: 33462854.0000 - val_r_square: 0.7772\n",
      "Epoch 33/100\n",
      "27/27 [==============================] - 0s 2ms/step - loss: 4110.1128 - mae: 4110.1128 - mean_squared_error: 43451784.0000 - r_square: 0.6955 - val_loss: 4171.0962 - val_mae: 4171.0962 - val_mean_squared_error: 44353392.0000 - val_r_square: 0.7047\n",
      "Epoch 34/100\n",
      "27/27 [==============================] - 0s 2ms/step - loss: 4428.4844 - mae: 4428.4844 - mean_squared_error: 48745256.0000 - r_square: 0.6584 - val_loss: 3978.9900 - val_mae: 3978.9900 - val_mean_squared_error: 36239540.0000 - val_r_square: 0.7587\n",
      "Epoch 35/100\n",
      "27/27 [==============================] - 0s 2ms/step - loss: 4349.0024 - mae: 4349.0024 - mean_squared_error: 47138224.0000 - r_square: 0.6697 - val_loss: 2305.4980 - val_mae: 2305.4980 - val_mean_squared_error: 23260826.0000 - val_r_square: 0.8451\n",
      "Epoch 36/100\n",
      "27/27 [==============================] - 0s 2ms/step - loss: 4099.6255 - mae: 4099.6255 - mean_squared_error: 44044824.0000 - r_square: 0.6914 - val_loss: 4555.8936 - val_mae: 4555.8936 - val_mean_squared_error: 56133004.0000 - val_r_square: 0.6263\n",
      "Epoch 37/100\n",
      "27/27 [==============================] - 0s 2ms/step - loss: 4557.2065 - mae: 4557.2065 - mean_squared_error: 49765312.0000 - r_square: 0.6513 - val_loss: 5214.2119 - val_mae: 5214.2119 - val_mean_squared_error: 41127620.0000 - val_r_square: 0.7262\n",
      "Epoch 38/100\n",
      "27/27 [==============================] - 0s 2ms/step - loss: 4155.8843 - mae: 4155.8843 - mean_squared_error: 42971096.0000 - r_square: 0.6989 - val_loss: 3214.1270 - val_mae: 3214.1270 - val_mean_squared_error: 34015892.0000 - val_r_square: 0.7735\n",
      "Epoch 39/100\n",
      "27/27 [==============================] - 0s 2ms/step - loss: 3993.5505 - mae: 3993.5505 - mean_squared_error: 40852612.0000 - r_square: 0.7138 - val_loss: 3509.4153 - val_mae: 3509.4153 - val_mean_squared_error: 26169638.0000 - val_r_square: 0.8258\n",
      "Epoch 40/100\n",
      "27/27 [==============================] - 0s 2ms/step - loss: 4025.4939 - mae: 4025.4939 - mean_squared_error: 40758804.0000 - r_square: 0.7144 - val_loss: 3629.2495 - val_mae: 3629.2495 - val_mean_squared_error: 32081854.0000 - val_r_square: 0.7864\n",
      "Epoch 41/100\n",
      "27/27 [==============================] - 0s 2ms/step - loss: 4073.9470 - mae: 4073.9470 - mean_squared_error: 42522648.0000 - r_square: 0.7020 - val_loss: 2973.7039 - val_mae: 2973.7039 - val_mean_squared_error: 28511376.0000 - val_r_square: 0.8102\n",
      "Epoch 42/100\n",
      "27/27 [==============================] - 0s 2ms/step - loss: 3726.3047 - mae: 3726.3047 - mean_squared_error: 36625492.0000 - r_square: 0.7434 - val_loss: 3537.8857 - val_mae: 3537.8857 - val_mean_squared_error: 27936100.0000 - val_r_square: 0.8140\n",
      "Epoch 43/100\n",
      "27/27 [==============================] - 0s 2ms/step - loss: 3867.9563 - mae: 3867.9563 - mean_squared_error: 39236592.0000 - r_square: 0.7251 - val_loss: 4080.8735 - val_mae: 4080.8735 - val_mean_squared_error: 40001380.0000 - val_r_square: 0.7337\n",
      "Epoch 44/100\n",
      "27/27 [==============================] - 0s 2ms/step - loss: 3817.3433 - mae: 3817.3433 - mean_squared_error: 39132544.0000 - r_square: 0.7258 - val_loss: 3826.4749 - val_mae: 3826.4749 - val_mean_squared_error: 39935216.0000 - val_r_square: 0.7341\n",
      "Epoch 45/100\n",
      "27/27 [==============================] - 0s 2ms/step - loss: 3781.9832 - mae: 3781.9832 - mean_squared_error: 38859316.0000 - r_square: 0.7277 - val_loss: 2446.7510 - val_mae: 2446.7510 - val_mean_squared_error: 24789378.0000 - val_r_square: 0.8350\n",
      "Epoch 46/100\n",
      "27/27 [==============================] - 0s 2ms/step - loss: 3646.2725 - mae: 3646.2725 - mean_squared_error: 34642144.0000 - r_square: 0.7573 - val_loss: 2788.4241 - val_mae: 2788.4241 - val_mean_squared_error: 27087138.0000 - val_r_square: 0.8197\n",
      "Epoch 47/100\n",
      "27/27 [==============================] - 0s 2ms/step - loss: 3777.1313 - mae: 3777.1313 - mean_squared_error: 39126732.0000 - r_square: 0.7258 - val_loss: 2592.5244 - val_mae: 2592.5244 - val_mean_squared_error: 31445954.0000 - val_r_square: 0.7906\n",
      "Epoch 48/100\n",
      "27/27 [==============================] - 0s 2ms/step - loss: 3607.7866 - mae: 3607.7866 - mean_squared_error: 36981728.0000 - r_square: 0.7409 - val_loss: 3071.4507 - val_mae: 3071.4507 - val_mean_squared_error: 33366262.0000 - val_r_square: 0.7779\n",
      "Epoch 49/100\n",
      "27/27 [==============================] - 0s 2ms/step - loss: 3298.4314 - mae: 3298.4314 - mean_squared_error: 30587188.0000 - r_square: 0.7857 - val_loss: 3082.2822 - val_mae: 3082.2822 - val_mean_squared_error: 29523458.0000 - val_r_square: 0.8034\n",
      "Epoch 50/100\n",
      "27/27 [==============================] - 0s 2ms/step - loss: 3674.6616 - mae: 3674.6616 - mean_squared_error: 37357364.0000 - r_square: 0.7382 - val_loss: 4059.4607 - val_mae: 4059.4607 - val_mean_squared_error: 39433568.0000 - val_r_square: 0.7375\n",
      "Epoch 51/100\n",
      "27/27 [==============================] - 0s 2ms/step - loss: 3584.9509 - mae: 3584.9509 - mean_squared_error: 36845456.0000 - r_square: 0.7418 - val_loss: 4322.5425 - val_mae: 4322.5425 - val_mean_squared_error: 55666680.0000 - val_r_square: 0.6294\n",
      "Epoch 52/100\n",
      "27/27 [==============================] - 0s 2ms/step - loss: 3527.9475 - mae: 3527.9475 - mean_squared_error: 35200224.0000 - r_square: 0.7534 - val_loss: 4555.8091 - val_mae: 4555.8091 - val_mean_squared_error: 53596540.0000 - val_r_square: 0.6432\n",
      "Epoch 53/100\n",
      "27/27 [==============================] - 0s 2ms/step - loss: 3449.1611 - mae: 3449.1611 - mean_squared_error: 34416456.0000 - r_square: 0.7588 - val_loss: 2929.0688 - val_mae: 2929.0688 - val_mean_squared_error: 26974538.0000 - val_r_square: 0.8204\n",
      "Epoch 54/100\n",
      "27/27 [==============================] - 0s 2ms/step - loss: 3532.7644 - mae: 3532.7644 - mean_squared_error: 36561116.0000 - r_square: 0.7438 - val_loss: 2508.5071 - val_mae: 2508.5071 - val_mean_squared_error: 23142860.0000 - val_r_square: 0.8459\n",
      "Epoch 55/100\n",
      "27/27 [==============================] - 0s 2ms/step - loss: 3350.4521 - mae: 3350.4521 - mean_squared_error: 35244564.0000 - r_square: 0.7530 - val_loss: 3697.7556 - val_mae: 3697.7556 - val_mean_squared_error: 27061520.0000 - val_r_square: 0.8198\n",
      "Epoch 56/100\n",
      "27/27 [==============================] - 0s 2ms/step - loss: 3605.3696 - mae: 3605.3696 - mean_squared_error: 36779904.0000 - r_square: 0.7423 - val_loss: 3667.9790 - val_mae: 3667.9790 - val_mean_squared_error: 40267248.0000 - val_r_square: 0.7319\n",
      "Epoch 57/100\n",
      "27/27 [==============================] - 0s 2ms/step - loss: 3246.5308 - mae: 3246.5308 - mean_squared_error: 31515476.0000 - r_square: 0.7792 - val_loss: 2434.3767 - val_mae: 2434.3767 - val_mean_squared_error: 26861978.0000 - val_r_square: 0.8212\n",
      "Epoch 58/100\n",
      "27/27 [==============================] - 0s 2ms/step - loss: 3506.9644 - mae: 3506.9644 - mean_squared_error: 37011344.0000 - r_square: 0.7407 - val_loss: 2784.2134 - val_mae: 2784.2134 - val_mean_squared_error: 31925248.0000 - val_r_square: 0.7875\n",
      "Epoch 59/100\n",
      "27/27 [==============================] - 0s 2ms/step - loss: 3255.6096 - mae: 3255.6096 - mean_squared_error: 31697752.0000 - r_square: 0.7779 - val_loss: 4122.7510 - val_mae: 4122.7510 - val_mean_squared_error: 33383758.0000 - val_r_square: 0.7777\n",
      "Epoch 60/100\n",
      "27/27 [==============================] - 0s 2ms/step - loss: 3281.5525 - mae: 3281.5525 - mean_squared_error: 33285402.0000 - r_square: 0.7668 - val_loss: 2303.7866 - val_mae: 2303.7866 - val_mean_squared_error: 24708112.0000 - val_r_square: 0.8355\n",
      "Epoch 61/100\n",
      "27/27 [==============================] - 0s 2ms/step - loss: 3384.1484 - mae: 3384.1484 - mean_squared_error: 35025008.0000 - r_square: 0.7546 - val_loss: 2342.9766 - val_mae: 2342.9766 - val_mean_squared_error: 25812662.0000 - val_r_square: 0.8282\n",
      "Epoch 62/100\n",
      "27/27 [==============================] - 0s 2ms/step - loss: 3329.9065 - mae: 3329.9065 - mean_squared_error: 32977600.0000 - r_square: 0.7689 - val_loss: 2542.9802 - val_mae: 2542.9802 - val_mean_squared_error: 22004246.0000 - val_r_square: 0.8535\n",
      "Epoch 63/100\n",
      "27/27 [==============================] - 0s 2ms/step - loss: 3300.2336 - mae: 3300.2336 - mean_squared_error: 32521650.0000 - r_square: 0.7721 - val_loss: 2359.6785 - val_mae: 2359.6785 - val_mean_squared_error: 22393808.0000 - val_r_square: 0.8509\n",
      "Epoch 64/100\n",
      "27/27 [==============================] - 0s 2ms/step - loss: 2925.4663 - mae: 2925.4663 - mean_squared_error: 29923754.0000 - r_square: 0.7903 - val_loss: 3492.6548 - val_mae: 3492.6548 - val_mean_squared_error: 34804516.0000 - val_r_square: 0.7683\n",
      "Epoch 65/100\n",
      "27/27 [==============================] - 0s 2ms/step - loss: 3480.1233 - mae: 3480.1233 - mean_squared_error: 35300568.0000 - r_square: 0.7527 - val_loss: 2337.8909 - val_mae: 2337.8909 - val_mean_squared_error: 22371514.0000 - val_r_square: 0.8511\n",
      "Epoch 66/100\n",
      "27/27 [==============================] - 0s 2ms/step - loss: 3249.0583 - mae: 3249.0583 - mean_squared_error: 33356932.0000 - r_square: 0.7663 - val_loss: 2350.6921 - val_mae: 2350.6921 - val_mean_squared_error: 26623810.0000 - val_r_square: 0.8228\n",
      "Epoch 67/100\n",
      "27/27 [==============================] - 0s 2ms/step - loss: 3186.2773 - mae: 3186.2773 - mean_squared_error: 31033234.0000 - r_square: 0.7826 - val_loss: 4898.6045 - val_mae: 4898.6045 - val_mean_squared_error: 56459240.0000 - val_r_square: 0.6241\n",
      "Epoch 68/100\n",
      "27/27 [==============================] - 0s 2ms/step - loss: 3231.4058 - mae: 3231.4058 - mean_squared_error: 35324744.0000 - r_square: 0.7525 - val_loss: 2853.4211 - val_mae: 2853.4211 - val_mean_squared_error: 22610222.0000 - val_r_square: 0.8495\n",
      "Epoch 69/100\n",
      "27/27 [==============================] - 0s 2ms/step - loss: 3257.0610 - mae: 3257.0610 - mean_squared_error: 31826344.0000 - r_square: 0.7770 - val_loss: 2509.9207 - val_mae: 2509.9207 - val_mean_squared_error: 28218598.0000 - val_r_square: 0.8121\n",
      "Epoch 70/100\n",
      "27/27 [==============================] - 0s 2ms/step - loss: 3245.0034 - mae: 3245.0034 - mean_squared_error: 34184804.0000 - r_square: 0.7605 - val_loss: 2932.2178 - val_mae: 2932.2178 - val_mean_squared_error: 36164580.0000 - val_r_square: 0.7592\n",
      "Epoch 71/100\n",
      "27/27 [==============================] - 0s 2ms/step - loss: 3363.5718 - mae: 3363.5718 - mean_squared_error: 35274036.0000 - r_square: 0.7528 - val_loss: 2244.1453 - val_mae: 2244.1453 - val_mean_squared_error: 23055746.0000 - val_r_square: 0.8465\n",
      "Epoch 72/100\n",
      "27/27 [==============================] - 0s 2ms/step - loss: 2930.2712 - mae: 2930.2712 - mean_squared_error: 30286352.0000 - r_square: 0.7878 - val_loss: 2550.6101 - val_mae: 2550.6101 - val_mean_squared_error: 25530784.0000 - val_r_square: 0.8300\n",
      "Epoch 73/100\n",
      "27/27 [==============================] - 0s 2ms/step - loss: 3086.6101 - mae: 3086.6101 - mean_squared_error: 31808192.0000 - r_square: 0.7771 - val_loss: 2531.1492 - val_mae: 2531.1492 - val_mean_squared_error: 24262210.0000 - val_r_square: 0.8385\n",
      "Epoch 74/100\n",
      "27/27 [==============================] - 0s 2ms/step - loss: 3193.4980 - mae: 3193.4980 - mean_squared_error: 33936700.0000 - r_square: 0.7622 - val_loss: 3064.5615 - val_mae: 3064.5615 - val_mean_squared_error: 23413598.0000 - val_r_square: 0.8441\n",
      "Epoch 75/100\n",
      "27/27 [==============================] - 0s 2ms/step - loss: 3036.7542 - mae: 3036.7542 - mean_squared_error: 30444010.0000 - r_square: 0.7867 - val_loss: 3222.0503 - val_mae: 3222.0503 - val_mean_squared_error: 34129048.0000 - val_r_square: 0.7728\n",
      "Epoch 76/100\n",
      "27/27 [==============================] - 0s 2ms/step - loss: 3148.9163 - mae: 3148.9163 - mean_squared_error: 32887610.0000 - r_square: 0.7696 - val_loss: 3083.3533 - val_mae: 3083.3533 - val_mean_squared_error: 30576922.0000 - val_r_square: 0.7964\n",
      "Epoch 77/100\n",
      "27/27 [==============================] - 0s 2ms/step - loss: 3080.3301 - mae: 3080.3301 - mean_squared_error: 31113884.0000 - r_square: 0.7820 - val_loss: 2251.4214 - val_mae: 2251.4216 - val_mean_squared_error: 23141668.0000 - val_r_square: 0.8459\n",
      "Epoch 78/100\n",
      "27/27 [==============================] - 0s 2ms/step - loss: 3122.5391 - mae: 3122.5391 - mean_squared_error: 32407124.0000 - r_square: 0.7729 - val_loss: 3408.6470 - val_mae: 3408.6470 - val_mean_squared_error: 35800500.0000 - val_r_square: 0.7617\n",
      "Epoch 79/100\n",
      "27/27 [==============================] - 0s 2ms/step - loss: 3120.5515 - mae: 3120.5515 - mean_squared_error: 32373200.0000 - r_square: 0.7732 - val_loss: 2356.5454 - val_mae: 2356.5452 - val_mean_squared_error: 23711536.0000 - val_r_square: 0.8421\n",
      "Epoch 80/100\n",
      "27/27 [==============================] - 0s 2ms/step - loss: 3120.7168 - mae: 3120.7168 - mean_squared_error: 31412310.0000 - r_square: 0.7799 - val_loss: 3863.2764 - val_mae: 3863.2764 - val_mean_squared_error: 41420268.0000 - val_r_square: 0.7242\n",
      "Epoch 81/100\n",
      "27/27 [==============================] - 0s 2ms/step - loss: 3130.7695 - mae: 3130.7695 - mean_squared_error: 33440648.0000 - r_square: 0.7657 - val_loss: 2598.6062 - val_mae: 2598.6062 - val_mean_squared_error: 22312812.0000 - val_r_square: 0.8515\n",
      "Epoch 82/100\n",
      "27/27 [==============================] - 0s 2ms/step - loss: 3144.0183 - mae: 3144.0183 - mean_squared_error: 32302246.0000 - r_square: 0.7737 - val_loss: 2489.9880 - val_mae: 2489.9880 - val_mean_squared_error: 27528596.0000 - val_r_square: 0.8167\n",
      "Epoch 83/100\n",
      "27/27 [==============================] - 0s 2ms/step - loss: 3101.0510 - mae: 3101.0510 - mean_squared_error: 31810862.0000 - r_square: 0.7771 - val_loss: 2496.9207 - val_mae: 2496.9207 - val_mean_squared_error: 22148364.0000 - val_r_square: 0.8525\n",
      "Epoch 84/100\n",
      "27/27 [==============================] - 0s 2ms/step - loss: 2942.3130 - mae: 2942.3130 - mean_squared_error: 29190124.0000 - r_square: 0.7955 - val_loss: 3194.7317 - val_mae: 3194.7317 - val_mean_squared_error: 36508352.0000 - val_r_square: 0.7569\n",
      "Epoch 85/100\n",
      "27/27 [==============================] - 0s 2ms/step - loss: 3192.3232 - mae: 3192.3232 - mean_squared_error: 32234788.0000 - r_square: 0.7741 - val_loss: 2464.9460 - val_mae: 2464.9460 - val_mean_squared_error: 26649356.0000 - val_r_square: 0.8226\n",
      "Epoch 86/100\n",
      "27/27 [==============================] - 0s 2ms/step - loss: 3017.7053 - mae: 3017.7053 - mean_squared_error: 31703294.0000 - r_square: 0.7779 - val_loss: 2932.8760 - val_mae: 2932.8760 - val_mean_squared_error: 33348524.0000 - val_r_square: 0.7780\n",
      "Epoch 87/100\n",
      "27/27 [==============================] - 0s 2ms/step - loss: 3075.0361 - mae: 3075.0361 - mean_squared_error: 32356942.0000 - r_square: 0.7733 - val_loss: 2397.2581 - val_mae: 2397.2581 - val_mean_squared_error: 24373756.0000 - val_r_square: 0.8377\n",
      "Epoch 88/100\n",
      "27/27 [==============================] - 0s 2ms/step - loss: 2936.7495 - mae: 2936.7495 - mean_squared_error: 30340564.0000 - r_square: 0.7874 - val_loss: 2196.0461 - val_mae: 2196.0461 - val_mean_squared_error: 24465786.0000 - val_r_square: 0.8371\n",
      "Epoch 89/100\n",
      "27/27 [==============================] - 0s 2ms/step - loss: 3166.9998 - mae: 3166.9998 - mean_squared_error: 31036110.0000 - r_square: 0.7825 - val_loss: 2613.8086 - val_mae: 2613.8086 - val_mean_squared_error: 24032282.0000 - val_r_square: 0.8400\n",
      "Epoch 90/100\n",
      "27/27 [==============================] - 0s 2ms/step - loss: 3178.9795 - mae: 3178.9795 - mean_squared_error: 32511650.0000 - r_square: 0.7722 - val_loss: 2531.1714 - val_mae: 2531.1714 - val_mean_squared_error: 29902356.0000 - val_r_square: 0.8009\n",
      "Epoch 91/100\n",
      "27/27 [==============================] - 0s 2ms/step - loss: 3122.7283 - mae: 3122.7283 - mean_squared_error: 33465976.0000 - r_square: 0.7655 - val_loss: 3146.4097 - val_mae: 3146.4097 - val_mean_squared_error: 37225076.0000 - val_r_square: 0.7522\n",
      "Epoch 92/100\n",
      "27/27 [==============================] - 0s 2ms/step - loss: 3152.9700 - mae: 3152.9700 - mean_squared_error: 33202892.0000 - r_square: 0.7674 - val_loss: 2605.2310 - val_mae: 2605.2310 - val_mean_squared_error: 29021670.0000 - val_r_square: 0.8068\n",
      "Epoch 93/100\n",
      "27/27 [==============================] - 0s 2ms/step - loss: 2929.0408 - mae: 2929.0408 - mean_squared_error: 30742440.0000 - r_square: 0.7846 - val_loss: 2327.0161 - val_mae: 2327.0161 - val_mean_squared_error: 22707570.0000 - val_r_square: 0.8488\n",
      "Epoch 94/100\n",
      "27/27 [==============================] - 0s 2ms/step - loss: 2899.3491 - mae: 2899.3491 - mean_squared_error: 29693732.0000 - r_square: 0.7919 - val_loss: 2357.2109 - val_mae: 2357.2109 - val_mean_squared_error: 26412716.0000 - val_r_square: 0.8242\n",
      "Epoch 95/100\n",
      "27/27 [==============================] - 0s 2ms/step - loss: 3167.6067 - mae: 3167.6067 - mean_squared_error: 33894568.0000 - r_square: 0.7625 - val_loss: 3586.1794 - val_mae: 3586.1794 - val_mean_squared_error: 38461272.0000 - val_r_square: 0.7439\n",
      "Epoch 96/100\n",
      "27/27 [==============================] - 0s 2ms/step - loss: 2993.5503 - mae: 2993.5503 - mean_squared_error: 30158666.0000 - r_square: 0.7887 - val_loss: 2169.1670 - val_mae: 2169.1670 - val_mean_squared_error: 23094648.0000 - val_r_square: 0.8462\n",
      "Epoch 97/100\n",
      "27/27 [==============================] - 0s 2ms/step - loss: 2977.5576 - mae: 2977.5576 - mean_squared_error: 31822752.0000 - r_square: 0.7770 - val_loss: 2626.5659 - val_mae: 2626.5659 - val_mean_squared_error: 24889428.0000 - val_r_square: 0.8343\n",
      "Epoch 98/100\n",
      "27/27 [==============================] - 0s 2ms/step - loss: 2950.9333 - mae: 2950.9333 - mean_squared_error: 29126578.0000 - r_square: 0.7959 - val_loss: 2834.2258 - val_mae: 2834.2258 - val_mean_squared_error: 27592452.0000 - val_r_square: 0.8163\n",
      "Epoch 99/100\n",
      "27/27 [==============================] - 0s 2ms/step - loss: 3415.1001 - mae: 3415.1001 - mean_squared_error: 36665328.0000 - r_square: 0.7431 - val_loss: 2856.3914 - val_mae: 2856.3914 - val_mean_squared_error: 25301094.0000 - val_r_square: 0.8316\n",
      "Epoch 100/100\n",
      "27/27 [==============================] - 0s 2ms/step - loss: 2777.7549 - mae: 2777.7549 - mean_squared_error: 28229044.0000 - r_square: 0.8022 - val_loss: 3309.0820 - val_mae: 3309.0820 - val_mean_squared_error: 45467228.0000 - val_r_square: 0.6973\n"
     ]
    }
   ],
   "source": [
    "history = best_model.fit(\n",
    "    X_train,\n",
    "    y_train,\n",
    "    #batch_size=16,\n",
    "    shuffle=True,\n",
    "validation_split=validation_split_size,\n",
    "epochs=100)"
   ]
  },
  {
   "cell_type": "code",
   "execution_count": 15,
   "metadata": {
    "collapsed": false,
    "execution": {
     "iopub.execute_input": "2023-03-20T13:59:07.585780Z",
     "iopub.status.busy": "2023-03-20T13:59:07.584775Z",
     "iopub.status.idle": "2023-03-20T13:59:07.751723Z",
     "shell.execute_reply": "2023-03-20T13:59:07.751723Z",
     "shell.execute_reply.started": "2023-03-20T13:59:07.585780Z"
    },
    "jupyter": {
     "outputs_hidden": false
    }
   },
   "outputs": [
    {
     "data": {
      "image/png": "[encoded data removed]",
      "text/plain": [
       "<Figure size 640x480 with 1 Axes>"
      ]
     },
     "metadata": {},
     "output_type": "display_data"
    }
   ],
   "source": [
    "# Comparison with the above trained model (before hyperparameter search)\n",
    "plot_loss(dnn_history, y_min=0.5, y_max=0.9)"
   ]
  },
  {
   "cell_type": "code",
   "execution_count": 16,
   "metadata": {
    "collapsed": false,
    "execution": {
     "iopub.execute_input": "2023-03-20T13:59:07.752726Z",
     "iopub.status.busy": "2023-03-20T13:59:07.752726Z",
     "iopub.status.idle": "2023-03-20T13:59:07.938448Z",
     "shell.execute_reply": "2023-03-20T13:59:07.938448Z",
     "shell.execute_reply.started": "2023-03-20T13:59:07.752726Z"
    },
    "jupyter": {
     "outputs_hidden": false
    }
   },
   "outputs": [
    {
     "data": {
      "image/png": "[encoded data removed]",
      "text/plain": [
       "<Figure size 640x480 with 1 Axes>"
      ]
     },
     "metadata": {},
     "output_type": "display_data"
    }
   ],
   "source": [
    "plot_loss(history, y_min=0.5, y_max=0.9, save_path=\"rsquared_hyperparams.jpg\")"
   ]
  },
  {
   "cell_type": "code",
   "execution_count": 17,
   "metadata": {
    "collapsed": false,
    "execution": {
     "iopub.execute_input": "2023-03-20T13:59:07.939449Z",
     "iopub.status.busy": "2023-03-20T13:59:07.939449Z",
     "iopub.status.idle": "2023-03-20T13:59:08.015690Z",
     "shell.execute_reply": "2023-03-20T13:59:08.015690Z",
     "shell.execute_reply.started": "2023-03-20T13:59:07.939449Z"
    },
    "jupyter": {
     "outputs_hidden": false
    }
   },
   "outputs": [
    {
     "name": "stdout",
     "output_type": "stream",
     "text": [
      "9/9 [==============================] - 0s 1ms/step - loss: 3270.7688 - mae: 3270.7688 - mean_squared_error: 41839100.0000 - r_square: 0.7305\n",
      "[3270.768798828125, 3270.768798828125, 41839100.0, 0.7305028438568115]\n"
     ]
    }
   ],
   "source": [
    "# Evaluate the model with the test data\n",
    "result = best_model.evaluate(X_test, y_test)\n",
    "print(str(result))"
   ]
  },
  {
   "cell_type": "markdown",
   "metadata": {},
   "source": [
    "# Random Forest"
   ]
  },
  {
   "cell_type": "code",
   "execution_count": 18,
   "metadata": {
    "collapsed": false,
    "execution": {
     "iopub.execute_input": "2023-03-20T13:59:08.139546Z",
     "iopub.status.busy": "2023-03-20T13:59:08.139546Z",
     "iopub.status.idle": "2023-03-20T13:59:08.154054Z",
     "shell.execute_reply": "2023-03-20T13:59:08.154054Z",
     "shell.execute_reply.started": "2023-03-20T13:59:08.139546Z"
    },
    "jupyter": {
     "outputs_hidden": false
    }
   },
   "outputs": [],
   "source": [
    "def cross_validate(model, X_train, y_train, cross_val_test_set_size):\n",
    "    \"\"\"Cross validate a model and return mean and standard deviation for given data\n",
    "\n",
    "    :param model: model to test\n",
    "    :type model: keras.Model\n",
    "    :param X_train: test set (X, features)\n",
    "    :type X_train: pandas.DataFrame\n",
    "    :param y_train: test set (y, labels)\n",
    "    :type y_train: pandas.DataFrame\n",
    "    :param cross_val_test_set_size: relative size of validation set\n",
    "    :type cross_val_test_set_size: float\n",
    "    :return: mean and standard deviation for test scores\n",
    "    :rtype: float, float\n",
    "    \"\"\"\n",
    "    cv = ShuffleSplit(n_splits=5, test_size=cross_val_test_set_size, random_state=0)\n",
    "    scores = cross_val_score(model, X_train, y_train.values.ravel(), cv=cv)\n",
    "    return scores.mean(), scores.std()"
   ]
  },
  {
   "cell_type": "code",
   "execution_count": 19,
   "metadata": {
    "collapsed": false,
    "execution": {
     "iopub.execute_input": "2023-03-20T13:59:08.155054Z",
     "iopub.status.busy": "2023-03-20T13:59:08.155054Z",
     "iopub.status.idle": "2023-03-20T13:59:08.958820Z",
     "shell.execute_reply": "2023-03-20T13:59:08.958820Z",
     "shell.execute_reply.started": "2023-03-20T13:59:08.155054Z"
    },
    "jupyter": {
     "outputs_hidden": false
    }
   },
   "outputs": [
    {
     "name": "stdout",
     "output_type": "stream",
     "text": [
      "RANDOM FOREST: 0.84147 mean accuracy with a standard deviation of 0.01782\n"
     ]
    },
    {
     "data": {
      "text/html": [
       "<style>#sk-container-id-1 {color: black;background-color: white;}#sk-container-id-1 pre{padding: 0;}#sk-container-id-1 div.sk-toggleable {background-color: white;}#sk-container-id-1 label.sk-toggleable__label {cursor: pointer;display: block;width: 100%;margin-bottom: 0;padding: 0.3em;box-sizing: border-box;text-align: center;}#sk-container-id-1 label.sk-toggleable__label-arrow:before {content: \"▸\";float: left;margin-right: 0.25em;color: #696969;}#sk-container-id-1 label.sk-toggleable__label-arrow:hover:before {color: black;}#sk-container-id-1 div.sk-estimator:hover label.sk-toggleable__label-arrow:before {color: black;}#sk-container-id-1 div.sk-toggleable__content {max-height: 0;max-width: 0;overflow: hidden;text-align: left;background-color: #f0f8ff;}#sk-container-id-1 div.sk-toggleable__content pre {margin: 0.2em;color: black;border-radius: 0.25em;background-color: #f0f8ff;}#sk-container-id-1 input.sk-toggleable__control:checked~div.sk-toggleable__content {max-height: 200px;max-width: 100%;overflow: auto;}#sk-container-id-1 input.sk-toggleable__control:checked~label.sk-toggleable__label-arrow:before {content: \"▾\";}#sk-container-id-1 div.sk-estimator input.sk-toggleable__control:checked~label.sk-toggleable__label {background-color: #d4ebff;}#sk-container-id-1 div.sk-label input.sk-toggleable__control:checked~label.sk-toggleable__label {background-color: #d4ebff;}#sk-container-id-1 input.sk-hidden--visually {border: 0;clip: rect(1px 1px 1px 1px);clip: rect(1px, 1px, 1px, 1px);height: 1px;margin: -1px;overflow: hidden;padding: 0;position: absolute;width: 1px;}#sk-container-id-1 div.sk-estimator {font-family: monospace;background-color: #f0f8ff;border: 1px dotted black;border-radius: 0.25em;box-sizing: border-box;margin-bottom: 0.5em;}#sk-container-id-1 div.sk-estimator:hover {background-color: #d4ebff;}#sk-container-id-1 div.sk-parallel-item::after {content: \"\";width: 100%;border-bottom: 1px solid gray;flex-grow: 1;}#sk-container-id-1 div.sk-label:hover label.sk-toggleable__label {background-color: #d4ebff;}#sk-container-id-1 div.sk-serial::before {content: \"\";position: absolute;border-left: 1px solid gray;box-sizing: border-box;top: 0;bottom: 0;left: 50%;z-index: 0;}#sk-container-id-1 div.sk-serial {display: flex;flex-direction: column;align-items: center;background-color: white;padding-right: 0.2em;padding-left: 0.2em;position: relative;}#sk-container-id-1 div.sk-item {position: relative;z-index: 1;}#sk-container-id-1 div.sk-parallel {display: flex;align-items: stretch;justify-content: center;background-color: white;position: relative;}#sk-container-id-1 div.sk-item::before, #sk-container-id-1 div.sk-parallel-item::before {content: \"\";position: absolute;border-left: 1px solid gray;box-sizing: border-box;top: 0;bottom: 0;left: 50%;z-index: -1;}#sk-container-id-1 div.sk-parallel-item {display: flex;flex-direction: column;z-index: 1;position: relative;background-color: white;}#sk-container-id-1 div.sk-parallel-item:first-child::after {align-self: flex-end;width: 50%;}#sk-container-id-1 div.sk-parallel-item:last-child::after {align-self: flex-start;width: 50%;}#sk-container-id-1 div.sk-parallel-item:only-child::after {width: 0;}#sk-container-id-1 div.sk-dashed-wrapped {border: 1px dashed gray;margin: 0 0.4em 0.5em 0.4em;box-sizing: border-box;padding-bottom: 0.4em;background-color: white;}#sk-container-id-1 div.sk-label label {font-family: monospace;font-weight: bold;display: inline-block;line-height: 1.2em;}#sk-container-id-1 div.sk-label-container {text-align: center;}#sk-container-id-1 div.sk-container {/* jupyter's `normalize.less` sets `[hidden] { display: none; }` but bootstrap.min.css set `[hidden] { display: none !important; }` so we also need the `!important` here to be able to override the default hidden behavior on the sphinx rendered scikit-learn.org. See: https://github.com/scikit-learn/scikit-learn/issues/21755 */display: inline-block !important;position: relative;}#sk-container-id-1 div.sk-text-repr-fallback {display: none;}</style><div id=\"sk-container-id-1\" class=\"sk-top-container\"><div class=\"sk-text-repr-fallback\"><pre>RandomForestRegressor(max_depth=4, random_state=0)</pre><b>In a Jupyter environment, please rerun this cell to show the HTML representation or trust the notebook. <br />On GitHub, the HTML representation is unable to render, please try loading this page with nbviewer.org.</b></div><div class=\"sk-container\" hidden><div class=\"sk-item\"><div class=\"sk-estimator sk-toggleable\"><input class=\"sk-toggleable__control sk-hidden--visually\" id=\"sk-estimator-id-1\" type=\"checkbox\" checked><label for=\"sk-estimator-id-1\" class=\"sk-toggleable__label sk-toggleable__label-arrow\">RandomForestRegressor</label><div class=\"sk-toggleable__content\"><pre>RandomForestRegressor(max_depth=4, random_state=0)</pre></div></div></div></div></div>"
      ],
      "text/plain": [
       "RandomForestRegressor(max_depth=4, random_state=0)"
      ]
     },
     "execution_count": 19,
     "metadata": {},
     "output_type": "execute_result"
    }
   ],
   "source": [
    "# Cross validation of Random Forest model\n",
    "clf = RandomForestRegressor(max_depth=4, random_state=0)\n",
    "mean, std = cross_validate(clf, X_train, y_train, validation_split_size)\n",
    "print(\"RANDOM FOREST: %0.5f mean accuracy with a standard deviation of %0.5f\" % (mean, std))\n",
    "clf.fit(X_train, y_train.values.ravel())"
   ]
  },
  {
   "cell_type": "code",
   "execution_count": 20,
   "metadata": {
    "collapsed": false,
    "execution": {
     "iopub.execute_input": "2023-03-20T13:59:08.960820Z",
     "iopub.status.busy": "2023-03-20T13:59:08.959820Z",
     "iopub.status.idle": "2023-03-20T13:59:08.974825Z",
     "shell.execute_reply": "2023-03-20T13:59:08.974825Z",
     "shell.execute_reply.started": "2023-03-20T13:59:08.960820Z"
    },
    "jupyter": {
     "outputs_hidden": false
    }
   },
   "outputs": [
    {
     "data": {
      "text/plain": [
       "0.8714346169733819"
      ]
     },
     "execution_count": 20,
     "metadata": {},
     "output_type": "execute_result"
    }
   ],
   "source": [
    "# Calculate the r² score for the test data\n",
    "clf.score(X_test, y_test.values.ravel())"
   ]
  },
  {
   "cell_type": "code",
   "execution_count": 21,
   "metadata": {
    "collapsed": false,
    "execution": {
     "iopub.execute_input": "2023-03-20T13:59:08.976826Z",
     "iopub.status.busy": "2023-03-20T13:59:08.975825Z",
     "iopub.status.idle": "2023-03-20T13:59:08.990047Z",
     "shell.execute_reply": "2023-03-20T13:59:08.990047Z",
     "shell.execute_reply.started": "2023-03-20T13:59:08.976826Z"
    },
    "jupyter": {
     "outputs_hidden": false
    }
   },
   "outputs": [
    {
     "name": "stderr",
     "output_type": "stream",
     "text": [
      "C:\\Users\\olisc\\anaconda3\\lib\\site-packages\\sklearn\\base.py:420: UserWarning: X does not have valid feature names, but RandomForestRegressor was fitted with feature names\n",
      "  warnings.warn(\n"
     ]
    },
    {
     "data": {
      "text/plain": [
       "array([14183.52296664])"
      ]
     },
     "execution_count": 21,
     "metadata": {},
     "output_type": "execute_result"
    }
   ],
   "source": [
    "# A test prediction\n",
    "clf.predict([[0.9, 0, 0, 0.1, 0, 0,0,0,1]])"
   ]
  },
  {
   "cell_type": "markdown",
   "metadata": {},
   "source": [
    "### Hyperparemeter tuning"
   ]
  },
  {
   "cell_type": "code",
   "execution_count": 22,
   "metadata": {
    "collapsed": false,
    "execution": {
     "iopub.execute_input": "2023-03-20T13:59:09.117163Z",
     "iopub.status.busy": "2023-03-20T13:59:09.116146Z",
     "iopub.status.idle": "2023-03-20T14:01:51.480943Z",
     "shell.execute_reply": "2023-03-20T14:01:51.480943Z",
     "shell.execute_reply.started": "2023-03-20T13:59:09.117163Z"
    },
    "jupyter": {
     "outputs_hidden": false
    }
   },
   "outputs": [
    {
     "name": "stdout",
     "output_type": "stream",
     "text": [
      "Fitting 3 folds for each of 300 candidates, totalling 900 fits\n"
     ]
    },
    {
     "data": {
      "text/html": [
       "<style>#sk-container-id-2 {color: black;background-color: white;}#sk-container-id-2 pre{padding: 0;}#sk-container-id-2 div.sk-toggleable {background-color: white;}#sk-container-id-2 label.sk-toggleable__label {cursor: pointer;display: block;width: 100%;margin-bottom: 0;padding: 0.3em;box-sizing: border-box;text-align: center;}#sk-container-id-2 label.sk-toggleable__label-arrow:before {content: \"▸\";float: left;margin-right: 0.25em;color: #696969;}#sk-container-id-2 label.sk-toggleable__label-arrow:hover:before {color: black;}#sk-container-id-2 div.sk-estimator:hover label.sk-toggleable__label-arrow:before {color: black;}#sk-container-id-2 div.sk-toggleable__content {max-height: 0;max-width: 0;overflow: hidden;text-align: left;background-color: #f0f8ff;}#sk-container-id-2 div.sk-toggleable__content pre {margin: 0.2em;color: black;border-radius: 0.25em;background-color: #f0f8ff;}#sk-container-id-2 input.sk-toggleable__control:checked~div.sk-toggleable__content {max-height: 200px;max-width: 100%;overflow: auto;}#sk-container-id-2 input.sk-toggleable__control:checked~label.sk-toggleable__label-arrow:before {content: \"▾\";}#sk-container-id-2 div.sk-estimator input.sk-toggleable__control:checked~label.sk-toggleable__label {background-color: #d4ebff;}#sk-container-id-2 div.sk-label input.sk-toggleable__control:checked~label.sk-toggleable__label {background-color: #d4ebff;}#sk-container-id-2 input.sk-hidden--visually {border: 0;clip: rect(1px 1px 1px 1px);clip: rect(1px, 1px, 1px, 1px);height: 1px;margin: -1px;overflow: hidden;padding: 0;position: absolute;width: 1px;}#sk-container-id-2 div.sk-estimator {font-family: monospace;background-color: #f0f8ff;border: 1px dotted black;border-radius: 0.25em;box-sizing: border-box;margin-bottom: 0.5em;}#sk-container-id-2 div.sk-estimator:hover {background-color: #d4ebff;}#sk-container-id-2 div.sk-parallel-item::after {content: \"\";width: 100%;border-bottom: 1px solid gray;flex-grow: 1;}#sk-container-id-2 div.sk-label:hover label.sk-toggleable__label {background-color: #d4ebff;}#sk-container-id-2 div.sk-serial::before {content: \"\";position: absolute;border-left: 1px solid gray;box-sizing: border-box;top: 0;bottom: 0;left: 50%;z-index: 0;}#sk-container-id-2 div.sk-serial {display: flex;flex-direction: column;align-items: center;background-color: white;padding-right: 0.2em;padding-left: 0.2em;position: relative;}#sk-container-id-2 div.sk-item {position: relative;z-index: 1;}#sk-container-id-2 div.sk-parallel {display: flex;align-items: stretch;justify-content: center;background-color: white;position: relative;}#sk-container-id-2 div.sk-item::before, #sk-container-id-2 div.sk-parallel-item::before {content: \"\";position: absolute;border-left: 1px solid gray;box-sizing: border-box;top: 0;bottom: 0;left: 50%;z-index: -1;}#sk-container-id-2 div.sk-parallel-item {display: flex;flex-direction: column;z-index: 1;position: relative;background-color: white;}#sk-container-id-2 div.sk-parallel-item:first-child::after {align-self: flex-end;width: 50%;}#sk-container-id-2 div.sk-parallel-item:last-child::after {align-self: flex-start;width: 50%;}#sk-container-id-2 div.sk-parallel-item:only-child::after {width: 0;}#sk-container-id-2 div.sk-dashed-wrapped {border: 1px dashed gray;margin: 0 0.4em 0.5em 0.4em;box-sizing: border-box;padding-bottom: 0.4em;background-color: white;}#sk-container-id-2 div.sk-label label {font-family: monospace;font-weight: bold;display: inline-block;line-height: 1.2em;}#sk-container-id-2 div.sk-label-container {text-align: center;}#sk-container-id-2 div.sk-container {/* jupyter's `normalize.less` sets `[hidden] { display: none; }` but bootstrap.min.css set `[hidden] { display: none !important; }` so we also need the `!important` here to be able to override the default hidden behavior on the sphinx rendered scikit-learn.org. See: https://github.com/scikit-learn/scikit-learn/issues/21755 */display: inline-block !important;position: relative;}#sk-container-id-2 div.sk-text-repr-fallback {display: none;}</style><div id=\"sk-container-id-2\" class=\"sk-top-container\"><div class=\"sk-text-repr-fallback\"><pre>RandomizedSearchCV(cv=3, estimator=RandomForestRegressor(), n_iter=300,\n",
       "                   n_jobs=-1,\n",
       "                   param_distributions={&#x27;bootstrap&#x27;: [True, False],\n",
       "                                        &#x27;max_depth&#x27;: [3, 4, 5, 6],\n",
       "                                        &#x27;max_features&#x27;: [0.5, 0.6, 0.7, 0.8,\n",
       "                                                         0.9, 0.95, 1.0],\n",
       "                                        &#x27;min_samples_leaf&#x27;: [1, 2, 4],\n",
       "                                        &#x27;min_samples_split&#x27;: [2, 5, 10],\n",
       "                                        &#x27;n_estimators&#x27;: [200, 400, 600, 800,\n",
       "                                                         1000, 1200, 1400, 1600,\n",
       "                                                         1800, 2000]},\n",
       "                   random_state=42, verbose=2)</pre><b>In a Jupyter environment, please rerun this cell to show the HTML representation or trust the notebook. <br />On GitHub, the HTML representation is unable to render, please try loading this page with nbviewer.org.</b></div><div class=\"sk-container\" hidden><div class=\"sk-item sk-dashed-wrapped\"><div class=\"sk-label-container\"><div class=\"sk-label sk-toggleable\"><input class=\"sk-toggleable__control sk-hidden--visually\" id=\"sk-estimator-id-2\" type=\"checkbox\" ><label for=\"sk-estimator-id-2\" class=\"sk-toggleable__label sk-toggleable__label-arrow\">RandomizedSearchCV</label><div class=\"sk-toggleable__content\"><pre>RandomizedSearchCV(cv=3, estimator=RandomForestRegressor(), n_iter=300,\n",
       "                   n_jobs=-1,\n",
       "                   param_distributions={&#x27;bootstrap&#x27;: [True, False],\n",
       "                                        &#x27;max_depth&#x27;: [3, 4, 5, 6],\n",
       "                                        &#x27;max_features&#x27;: [0.5, 0.6, 0.7, 0.8,\n",
       "                                                         0.9, 0.95, 1.0],\n",
       "                                        &#x27;min_samples_leaf&#x27;: [1, 2, 4],\n",
       "                                        &#x27;min_samples_split&#x27;: [2, 5, 10],\n",
       "                                        &#x27;n_estimators&#x27;: [200, 400, 600, 800,\n",
       "                                                         1000, 1200, 1400, 1600,\n",
       "                                                         1800, 2000]},\n",
       "                   random_state=42, verbose=2)</pre></div></div></div><div class=\"sk-parallel\"><div class=\"sk-parallel-item\"><div class=\"sk-item\"><div class=\"sk-label-container\"><div class=\"sk-label sk-toggleable\"><input class=\"sk-toggleable__control sk-hidden--visually\" id=\"sk-estimator-id-3\" type=\"checkbox\" ><label for=\"sk-estimator-id-3\" class=\"sk-toggleable__label sk-toggleable__label-arrow\">estimator: RandomForestRegressor</label><div class=\"sk-toggleable__content\"><pre>RandomForestRegressor()</pre></div></div></div><div class=\"sk-serial\"><div class=\"sk-item\"><div class=\"sk-estimator sk-toggleable\"><input class=\"sk-toggleable__control sk-hidden--visually\" id=\"sk-estimator-id-4\" type=\"checkbox\" ><label for=\"sk-estimator-id-4\" class=\"sk-toggleable__label sk-toggleable__label-arrow\">RandomForestRegressor</label><div class=\"sk-toggleable__content\"><pre>RandomForestRegressor()</pre></div></div></div></div></div></div></div></div></div></div>"
      ],
      "text/plain": [
       "RandomizedSearchCV(cv=3, estimator=RandomForestRegressor(), n_iter=300,\n",
       "                   n_jobs=-1,\n",
       "                   param_distributions={'bootstrap': [True, False],\n",
       "                                        'max_depth': [3, 4, 5, 6],\n",
       "                                        'max_features': [0.5, 0.6, 0.7, 0.8,\n",
       "                                                         0.9, 0.95, 1.0],\n",
       "                                        'min_samples_leaf': [1, 2, 4],\n",
       "                                        'min_samples_split': [2, 5, 10],\n",
       "                                        'n_estimators': [200, 400, 600, 800,\n",
       "                                                         1000, 1200, 1400, 1600,\n",
       "                                                         1800, 2000]},\n",
       "                   random_state=42, verbose=2)"
      ]
     },
     "execution_count": 22,
     "metadata": {},
     "output_type": "execute_result"
    }
   ],
   "source": [
    "# Do the hyperparameter tuning for the Random Forest\n",
    "n_estimators = [int(x) for x in np.linspace(start = 200, stop = 2000, num = 10)]\n",
    "# Maximum number of levels in tree\n",
    "max_depth = [3,4,5,6]\n",
    "max_features = [0.5,0.6,0.7,0.8,0.9,0.95,1.0]\n",
    "# Minimum number of samples required to split a node\n",
    "min_samples_split = [2, 5, 10]\n",
    "# Minimum number of samples required at each leaf node\n",
    "min_samples_leaf = [1, 2, 4]\n",
    "# Method of selecting samples for training each tree\n",
    "bootstrap = [True, False]# Create the random grid\n",
    "random_grid = {'n_estimators': n_estimators,\n",
    "               'max_depth': max_depth,\n",
    "               'max_features': max_features,\n",
    "               'min_samples_split': min_samples_split,\n",
    "               'min_samples_leaf': min_samples_leaf,\n",
    "               'bootstrap': bootstrap}\n",
    "\n",
    "rf = RandomForestRegressor()\n",
    "# Random search of parameters, using 3 fold cross validation,\n",
    "# search across 100 different combinations, and use all available cores\n",
    "rf_random = RandomizedSearchCV(estimator = rf, param_distributions = random_grid, n_iter = 300, cv = 3, verbose=2, random_state=42, n_jobs = -1)# Fit the random search model\n",
    "rf_random.fit(X_train, y_train.values.ravel())"
   ]
  },
  {
   "cell_type": "code",
   "execution_count": 23,
   "metadata": {
    "collapsed": false,
    "execution": {
     "iopub.execute_input": "2023-03-20T14:01:51.482943Z",
     "iopub.status.busy": "2023-03-20T14:01:51.481944Z",
     "iopub.status.idle": "2023-03-20T14:01:51.497075Z",
     "shell.execute_reply": "2023-03-20T14:01:51.495952Z",
     "shell.execute_reply.started": "2023-03-20T14:01:51.481944Z"
    },
    "jupyter": {
     "outputs_hidden": false
    }
   },
   "outputs": [
    {
     "name": "stdout",
     "output_type": "stream",
     "text": [
      "BEST PARAMS: {'n_estimators': 1000, 'min_samples_split': 10, 'min_samples_leaf': 4, 'max_features': 0.9, 'max_depth': 4, 'bootstrap': True}\n"
     ]
    }
   ],
   "source": [
    "# Print best results and create forest with these values\n",
    "print(f'BEST PARAMS: {rf_random.best_params_}')\n",
    "rand_forest_improved = RandomForestRegressor(**rf_random.best_params_)"
   ]
  },
  {
   "cell_type": "code",
   "execution_count": 24,
   "metadata": {
    "collapsed": false,
    "execution": {
     "iopub.execute_input": "2023-03-20T14:01:51.498079Z",
     "iopub.status.busy": "2023-03-20T14:01:51.497075Z",
     "iopub.status.idle": "2023-03-20T14:02:00.311977Z",
     "shell.execute_reply": "2023-03-20T14:02:00.310976Z",
     "shell.execute_reply.started": "2023-03-20T14:01:51.498079Z"
    },
    "jupyter": {
     "outputs_hidden": false
    }
   },
   "outputs": [
    {
     "name": "stdout",
     "output_type": "stream",
     "text": [
      "RANDOM FOREST: 0.84333 mean accuracy with a standard deviation of 0.01897\n"
     ]
    },
    {
     "data": {
      "text/plain": [
       "0.8760140656495919"
      ]
     },
     "execution_count": 24,
     "metadata": {},
     "output_type": "execute_result"
    }
   ],
   "source": [
    "# Tran the \"best\" model\n",
    "mean, std = cross_validate(rand_forest_improved, X_train, y_train, validation_split_size)\n",
    "print(\"RANDOM FOREST: %0.5f mean accuracy with a standard deviation of %0.5f\" % (mean, std))\n",
    "rand_forest_improved.fit(X_train, y_train.values.ravel())\n",
    "rand_forest_improved.score(X_test, y_test.values.ravel())"
   ]
  },
  {
   "cell_type": "code",
   "execution_count": 25,
   "metadata": {
    "collapsed": false,
    "execution": {
     "iopub.execute_input": "2023-03-20T14:02:00.313997Z",
     "iopub.status.busy": "2023-03-20T14:02:00.312986Z",
     "iopub.status.idle": "2023-03-20T14:36:50.643971Z",
     "shell.execute_reply": "2023-03-20T14:36:50.642886Z",
     "shell.execute_reply.started": "2023-03-20T14:02:00.313997Z"
    },
    "jupyter": {
     "outputs_hidden": false
    }
   },
   "outputs": [
    {
     "name": "stdout",
     "output_type": "stream",
     "text": [
      "Fitting 3 folds for each of 3456 candidates, totalling 10368 fits\n"
     ]
    },
    {
     "data": {
      "text/plain": [
       "{'bootstrap': True,\n",
       " 'max_depth': 5,\n",
       " 'max_features': 0.75,\n",
       " 'min_samples_leaf': 5,\n",
       " 'min_samples_split': 6,\n",
       " 'n_estimators': 1000}"
      ]
     },
     "execution_count": 25,
     "metadata": {},
     "output_type": "execute_result"
    }
   ],
   "source": [
    "# Create the parameter grid based on the results of random search\n",
    "param_grid = {\n",
    "    'bootstrap': [True],\n",
    "    'max_depth': [4,5,6],\n",
    "    'max_features': [0.65, 0.7, 0.75, 0.8, 0.85, 0.9],\n",
    "    'min_samples_leaf': [2, 3, 4, 5],\n",
    "    'min_samples_split': [3,4,5,6,7,8,9,10],\n",
    "    'n_estimators': [900, 950, 1000, 1050, 1100, 1150]\n",
    "}# Create a based model\n",
    "rf = RandomForestRegressor()# Instantiate the grid search model\n",
    "grid_search = GridSearchCV(estimator = rf, param_grid = param_grid,\n",
    "                           cv = 3, n_jobs = -1, verbose = 1)\n",
    "grid_search.fit(X_train, y_train.values.ravel())\n",
    "grid_search.best_params_"
   ]
  },
  {
   "cell_type": "code",
   "execution_count": 26,
   "metadata": {
    "collapsed": false,
    "execution": {
     "iopub.execute_input": "2023-03-20T14:36:50.645989Z",
     "iopub.status.busy": "2023-03-20T14:36:50.645989Z",
     "iopub.status.idle": "2023-03-20T14:36:50.659360Z",
     "shell.execute_reply": "2023-03-20T14:36:50.658357Z",
     "shell.execute_reply.started": "2023-03-20T14:36:50.645989Z"
    },
    "jupyter": {
     "outputs_hidden": false
    }
   },
   "outputs": [
    {
     "name": "stdout",
     "output_type": "stream",
     "text": [
      "BEST PARAMS: {'bootstrap': True, 'max_depth': 5, 'max_features': 0.75, 'min_samples_leaf': 5, 'min_samples_split': 6, 'n_estimators': 1000}\n"
     ]
    }
   ],
   "source": [
    "# Get the best parameters using grid search\n",
    "print(f'BEST PARAMS: {grid_search.best_params_}')\n",
    "rand_forest_improved_grid = RandomForestRegressor(**grid_search.best_params_)"
   ]
  },
  {
   "cell_type": "code",
   "execution_count": 27,
   "metadata": {
    "collapsed": false,
    "execution": {
     "iopub.execute_input": "2023-03-20T14:36:50.661370Z",
     "iopub.status.busy": "2023-03-20T14:36:50.660365Z",
     "iopub.status.idle": "2023-03-20T14:36:58.126074Z",
     "shell.execute_reply": "2023-03-20T14:36:58.126074Z",
     "shell.execute_reply.started": "2023-03-20T14:36:50.661370Z"
    },
    "jupyter": {
     "outputs_hidden": false
    }
   },
   "outputs": [
    {
     "name": "stdout",
     "output_type": "stream",
     "text": [
      "RANDOM FOREST: 0.84217 mean accuracy with a standard deviation of 0.01970\n"
     ]
    },
    {
     "data": {
      "text/plain": [
       "0.8802315399474905"
      ]
     },
     "execution_count": 27,
     "metadata": {},
     "output_type": "execute_result"
    }
   ],
   "source": [
    "# Train the model with the best parameters found with grind search\n",
    "mean, std = cross_validate(rand_forest_improved_grid, X_train, y_train, validation_split_size)\n",
    "print(\"RANDOM FOREST: %0.5f mean accuracy with a standard deviation of %0.5f\" % (mean, std))\n",
    "rand_forest_improved_grid.fit(X_train, y_train.values.ravel())\n",
    "rand_forest_improved_grid.score(X_test, y_test.values.ravel())"
   ]
  },
  {
   "cell_type": "markdown",
   "metadata": {},
   "source": [
    "## Random Forest without region attribute (test scenario)"
   ]
  },
  {
   "cell_type": "code",
   "execution_count": 28,
   "metadata": {
    "collapsed": false,
    "execution": {
     "iopub.execute_input": "2023-03-20T14:36:58.252608Z",
     "iopub.status.busy": "2023-03-20T14:36:58.252608Z",
     "iopub.status.idle": "2023-03-20T14:36:58.266984Z",
     "shell.execute_reply": "2023-03-20T14:36:58.266984Z",
     "shell.execute_reply.started": "2023-03-20T14:36:58.252608Z"
    },
    "jupyter": {
     "outputs_hidden": false
    }
   },
   "outputs": [
    {
     "data": {
      "text/html": [
       "<div>\n",
       "<style scoped>\n",
       "    .dataframe tbody tr th:only-of-type {\n",
       "        vertical-align: middle;\n",
       "    }\n",
       "\n",
       "    .dataframe tbody tr th {\n",
       "        vertical-align: top;\n",
       "    }\n",
       "\n",
       "    .dataframe thead th {\n",
       "        text-align: right;\n",
       "    }\n",
       "</style>\n",
       "<table border=\"1\" class=\"dataframe\">\n",
       "  <thead>\n",
       "    <tr style=\"text-align: right;\">\n",
       "      <th></th>\n",
       "      <th>age</th>\n",
       "      <th>sex</th>\n",
       "      <th>bmi</th>\n",
       "      <th>children</th>\n",
       "      <th>smoker</th>\n",
       "      <th>region0</th>\n",
       "      <th>region1</th>\n",
       "      <th>region2</th>\n",
       "      <th>region3</th>\n",
       "    </tr>\n",
       "  </thead>\n",
       "  <tbody>\n",
       "    <tr>\n",
       "      <th>560</th>\n",
       "      <td>0.608696</td>\n",
       "      <td>0</td>\n",
       "      <td>0.107345</td>\n",
       "      <td>0.4</td>\n",
       "      <td>0</td>\n",
       "      <td>0</td>\n",
       "      <td>1</td>\n",
       "      <td>0</td>\n",
       "      <td>0</td>\n",
       "    </tr>\n",
       "    <tr>\n",
       "      <th>1285</th>\n",
       "      <td>0.630435</td>\n",
       "      <td>0</td>\n",
       "      <td>0.224913</td>\n",
       "      <td>0.0</td>\n",
       "      <td>0</td>\n",
       "      <td>1</td>\n",
       "      <td>0</td>\n",
       "      <td>0</td>\n",
       "      <td>0</td>\n",
       "    </tr>\n",
       "    <tr>\n",
       "      <th>1142</th>\n",
       "      <td>0.739130</td>\n",
       "      <td>0</td>\n",
       "      <td>0.239440</td>\n",
       "      <td>0.0</td>\n",
       "      <td>0</td>\n",
       "      <td>0</td>\n",
       "      <td>0</td>\n",
       "      <td>1</td>\n",
       "      <td>0</td>\n",
       "    </tr>\n",
       "    <tr>\n",
       "      <th>969</th>\n",
       "      <td>0.456522</td>\n",
       "      <td>0</td>\n",
       "      <td>0.493947</td>\n",
       "      <td>1.0</td>\n",
       "      <td>0</td>\n",
       "      <td>0</td>\n",
       "      <td>0</td>\n",
       "      <td>1</td>\n",
       "      <td>0</td>\n",
       "    </tr>\n",
       "    <tr>\n",
       "      <th>486</th>\n",
       "      <td>0.782609</td>\n",
       "      <td>0</td>\n",
       "      <td>0.148238</td>\n",
       "      <td>0.6</td>\n",
       "      <td>0</td>\n",
       "      <td>0</td>\n",
       "      <td>1</td>\n",
       "      <td>0</td>\n",
       "      <td>0</td>\n",
       "    </tr>\n",
       "    <tr>\n",
       "      <th>...</th>\n",
       "      <td>...</td>\n",
       "      <td>...</td>\n",
       "      <td>...</td>\n",
       "      <td>...</td>\n",
       "      <td>...</td>\n",
       "      <td>...</td>\n",
       "      <td>...</td>\n",
       "      <td>...</td>\n",
       "      <td>...</td>\n",
       "    </tr>\n",
       "    <tr>\n",
       "      <th>1095</th>\n",
       "      <td>0.000000</td>\n",
       "      <td>0</td>\n",
       "      <td>0.414044</td>\n",
       "      <td>0.8</td>\n",
       "      <td>0</td>\n",
       "      <td>1</td>\n",
       "      <td>0</td>\n",
       "      <td>0</td>\n",
       "      <td>0</td>\n",
       "    </tr>\n",
       "    <tr>\n",
       "      <th>1130</th>\n",
       "      <td>0.456522</td>\n",
       "      <td>0</td>\n",
       "      <td>0.212806</td>\n",
       "      <td>1.0</td>\n",
       "      <td>0</td>\n",
       "      <td>0</td>\n",
       "      <td>0</td>\n",
       "      <td>1</td>\n",
       "      <td>0</td>\n",
       "    </tr>\n",
       "    <tr>\n",
       "      <th>1294</th>\n",
       "      <td>0.869565</td>\n",
       "      <td>1</td>\n",
       "      <td>0.247915</td>\n",
       "      <td>0.0</td>\n",
       "      <td>0</td>\n",
       "      <td>1</td>\n",
       "      <td>0</td>\n",
       "      <td>0</td>\n",
       "      <td>0</td>\n",
       "    </tr>\n",
       "    <tr>\n",
       "      <th>860</th>\n",
       "      <td>0.413043</td>\n",
       "      <td>0</td>\n",
       "      <td>0.851224</td>\n",
       "      <td>0.4</td>\n",
       "      <td>1</td>\n",
       "      <td>0</td>\n",
       "      <td>0</td>\n",
       "      <td>0</td>\n",
       "      <td>1</td>\n",
       "    </tr>\n",
       "    <tr>\n",
       "      <th>1126</th>\n",
       "      <td>0.804348</td>\n",
       "      <td>1</td>\n",
       "      <td>0.375034</td>\n",
       "      <td>0.0</td>\n",
       "      <td>0</td>\n",
       "      <td>0</td>\n",
       "      <td>0</td>\n",
       "      <td>0</td>\n",
       "      <td>1</td>\n",
       "    </tr>\n",
       "  </tbody>\n",
       "</table>\n",
       "<p>1070 rows × 9 columns</p>\n",
       "</div>"
      ],
      "text/plain": [
       "           age  sex       bmi  children  smoker  region0  region1  region2  \\\n",
       "560   0.608696    0  0.107345       0.4       0        0        1        0   \n",
       "1285  0.630435    0  0.224913       0.0       0        1        0        0   \n",
       "1142  0.739130    0  0.239440       0.0       0        0        0        1   \n",
       "969   0.456522    0  0.493947       1.0       0        0        0        1   \n",
       "486   0.782609    0  0.148238       0.6       0        0        1        0   \n",
       "...        ...  ...       ...       ...     ...      ...      ...      ...   \n",
       "1095  0.000000    0  0.414044       0.8       0        1        0        0   \n",
       "1130  0.456522    0  0.212806       1.0       0        0        0        1   \n",
       "1294  0.869565    1  0.247915       0.0       0        1        0        0   \n",
       "860   0.413043    0  0.851224       0.4       1        0        0        0   \n",
       "1126  0.804348    1  0.375034       0.0       0        0        0        0   \n",
       "\n",
       "      region3  \n",
       "560         0  \n",
       "1285        0  \n",
       "1142        0  \n",
       "969         0  \n",
       "486         0  \n",
       "...       ...  \n",
       "1095        0  \n",
       "1130        0  \n",
       "1294        0  \n",
       "860         1  \n",
       "1126        1  \n",
       "\n",
       "[1070 rows x 9 columns]"
      ]
     },
     "execution_count": 28,
     "metadata": {},
     "output_type": "execute_result"
    }
   ],
   "source": [
    "X_train"
   ]
  },
  {
   "cell_type": "code",
   "execution_count": 29,
   "metadata": {
    "collapsed": false,
    "execution": {
     "iopub.execute_input": "2023-03-20T14:36:58.278651Z",
     "iopub.status.busy": "2023-03-20T14:36:58.278651Z",
     "iopub.status.idle": "2023-03-20T14:36:58.297814Z",
     "shell.execute_reply": "2023-03-20T14:36:58.297814Z",
     "shell.execute_reply.started": "2023-03-20T14:36:58.278651Z"
    },
    "jupyter": {
     "outputs_hidden": false
    }
   },
   "outputs": [],
   "source": [
    "# Create data without the region attribute\n",
    "X_train_no_region = X_train.copy()\n",
    "X_train_no_region = X_train_no_region.drop(columns=[\"region0\", \"region1\", \"region2\", \"region3\"])\n",
    "\n",
    "X_test_no_region = X_test.copy()\n",
    "X_test_no_region = X_test_no_region.drop(columns=[\"region0\", \"region1\", \"region2\", \"region3\"])"
   ]
  },
  {
   "cell_type": "code",
   "execution_count": 30,
   "metadata": {
    "collapsed": false,
    "execution": {
     "iopub.execute_input": "2023-03-20T14:36:58.299812Z",
     "iopub.status.busy": "2023-03-20T14:36:58.298812Z",
     "iopub.status.idle": "2023-03-20T14:37:05.872128Z",
     "shell.execute_reply": "2023-03-20T14:37:05.870925Z",
     "shell.execute_reply.started": "2023-03-20T14:36:58.299812Z"
    },
    "jupyter": {
     "outputs_hidden": false
    }
   },
   "outputs": [
    {
     "name": "stdout",
     "output_type": "stream",
     "text": [
      "RANDOM FOREST: 0.84313 mean accuracy with a standard deviation of 0.01944\n"
     ]
    },
    {
     "data": {
      "text/plain": [
       "0.8775128696645594"
      ]
     },
     "execution_count": 30,
     "metadata": {},
     "output_type": "execute_result"
    }
   ],
   "source": [
    "# Create a model with reliable parameters and do cross validation without the region data\n",
    "rf_no_region = RandomForestRegressor(bootstrap=True, max_depth=4, max_features=0.8, min_samples_leaf=5, min_samples_split=9, n_estimators=1050)\n",
    "\n",
    "mean, std = cross_validate(rf_no_region, X_train_no_region, y_train, validation_split_size)\n",
    "print(\"RANDOM FOREST: %0.5f mean accuracy with a standard deviation of %0.5f\" % (mean, std))\n",
    "rf_no_region.fit(X_train_no_region, y_train.values.ravel())\n",
    "rf_no_region.score(X_test_no_region, y_test.values.ravel())"
   ]
  },
  {
   "cell_type": "code",
   "execution_count": 31,
   "metadata": {
    "collapsed": false,
    "execution": {
     "iopub.execute_input": "2023-03-20T14:37:05.873678Z",
     "iopub.status.busy": "2023-03-20T14:37:05.873678Z",
     "iopub.status.idle": "2023-03-20T14:37:05.948906Z",
     "shell.execute_reply": "2023-03-20T14:37:05.948906Z",
     "shell.execute_reply.started": "2023-03-20T14:37:05.873678Z"
    },
    "jupyter": {
     "outputs_hidden": false
    }
   },
   "outputs": [
    {
     "data": {
      "text/plain": [
       "0.8802315399474905"
      ]
     },
     "execution_count": 31,
     "metadata": {},
     "output_type": "execute_result"
    }
   ],
   "source": [
    "# As a test the results with region data\n",
    "rand_forest_improved_grid.score(X_test, y_test.values.ravel())"
   ]
  },
  {
   "cell_type": "markdown",
   "metadata": {},
   "source": [
    "## Linear Regression"
   ]
  },
  {
   "cell_type": "code",
   "execution_count": 32,
   "metadata": {
    "collapsed": false,
    "execution": {
     "iopub.execute_input": "2023-03-20T14:37:06.074988Z",
     "iopub.status.busy": "2023-03-20T14:37:06.073971Z",
     "iopub.status.idle": "2023-03-20T14:37:06.166140Z",
     "shell.execute_reply": "2023-03-20T14:37:06.165139Z",
     "shell.execute_reply.started": "2023-03-20T14:37:06.074988Z"
    },
    "jupyter": {
     "outputs_hidden": false
    }
   },
   "outputs": [
    {
     "name": "stdout",
     "output_type": "stream",
     "text": [
      "LINEAR REGRESSION: 0.72319 mean accuracy with a standard deviation of 0.02811\n"
     ]
    },
    {
     "data": {
      "text/html": [
       "<style>#sk-container-id-3 {color: black;background-color: white;}#sk-container-id-3 pre{padding: 0;}#sk-container-id-3 div.sk-toggleable {background-color: white;}#sk-container-id-3 label.sk-toggleable__label {cursor: pointer;display: block;width: 100%;margin-bottom: 0;padding: 0.3em;box-sizing: border-box;text-align: center;}#sk-container-id-3 label.sk-toggleable__label-arrow:before {content: \"▸\";float: left;margin-right: 0.25em;color: #696969;}#sk-container-id-3 label.sk-toggleable__label-arrow:hover:before {color: black;}#sk-container-id-3 div.sk-estimator:hover label.sk-toggleable__label-arrow:before {color: black;}#sk-container-id-3 div.sk-toggleable__content {max-height: 0;max-width: 0;overflow: hidden;text-align: left;background-color: #f0f8ff;}#sk-container-id-3 div.sk-toggleable__content pre {margin: 0.2em;color: black;border-radius: 0.25em;background-color: #f0f8ff;}#sk-container-id-3 input.sk-toggleable__control:checked~div.sk-toggleable__content {max-height: 200px;max-width: 100%;overflow: auto;}#sk-container-id-3 input.sk-toggleable__control:checked~label.sk-toggleable__label-arrow:before {content: \"▾\";}#sk-container-id-3 div.sk-estimator input.sk-toggleable__control:checked~label.sk-toggleable__label {background-color: #d4ebff;}#sk-container-id-3 div.sk-label input.sk-toggleable__control:checked~label.sk-toggleable__label {background-color: #d4ebff;}#sk-container-id-3 input.sk-hidden--visually {border: 0;clip: rect(1px 1px 1px 1px);clip: rect(1px, 1px, 1px, 1px);height: 1px;margin: -1px;overflow: hidden;padding: 0;position: absolute;width: 1px;}#sk-container-id-3 div.sk-estimator {font-family: monospace;background-color: #f0f8ff;border: 1px dotted black;border-radius: 0.25em;box-sizing: border-box;margin-bottom: 0.5em;}#sk-container-id-3 div.sk-estimator:hover {background-color: #d4ebff;}#sk-container-id-3 div.sk-parallel-item::after {content: \"\";width: 100%;border-bottom: 1px solid gray;flex-grow: 1;}#sk-container-id-3 div.sk-label:hover label.sk-toggleable__label {background-color: #d4ebff;}#sk-container-id-3 div.sk-serial::before {content: \"\";position: absolute;border-left: 1px solid gray;box-sizing: border-box;top: 0;bottom: 0;left: 50%;z-index: 0;}#sk-container-id-3 div.sk-serial {display: flex;flex-direction: column;align-items: center;background-color: white;padding-right: 0.2em;padding-left: 0.2em;position: relative;}#sk-container-id-3 div.sk-item {position: relative;z-index: 1;}#sk-container-id-3 div.sk-parallel {display: flex;align-items: stretch;justify-content: center;background-color: white;position: relative;}#sk-container-id-3 div.sk-item::before, #sk-container-id-3 div.sk-parallel-item::before {content: \"\";position: absolute;border-left: 1px solid gray;box-sizing: border-box;top: 0;bottom: 0;left: 50%;z-index: -1;}#sk-container-id-3 div.sk-parallel-item {display: flex;flex-direction: column;z-index: 1;position: relative;background-color: white;}#sk-container-id-3 div.sk-parallel-item:first-child::after {align-self: flex-end;width: 50%;}#sk-container-id-3 div.sk-parallel-item:last-child::after {align-self: flex-start;width: 50%;}#sk-container-id-3 div.sk-parallel-item:only-child::after {width: 0;}#sk-container-id-3 div.sk-dashed-wrapped {border: 1px dashed gray;margin: 0 0.4em 0.5em 0.4em;box-sizing: border-box;padding-bottom: 0.4em;background-color: white;}#sk-container-id-3 div.sk-label label {font-family: monospace;font-weight: bold;display: inline-block;line-height: 1.2em;}#sk-container-id-3 div.sk-label-container {text-align: center;}#sk-container-id-3 div.sk-container {/* jupyter's `normalize.less` sets `[hidden] { display: none; }` but bootstrap.min.css set `[hidden] { display: none !important; }` so we also need the `!important` here to be able to override the default hidden behavior on the sphinx rendered scikit-learn.org. See: https://github.com/scikit-learn/scikit-learn/issues/21755 */display: inline-block !important;position: relative;}#sk-container-id-3 div.sk-text-repr-fallback {display: none;}</style><div id=\"sk-container-id-3\" class=\"sk-top-container\"><div class=\"sk-text-repr-fallback\"><pre>LinearRegression()</pre><b>In a Jupyter environment, please rerun this cell to show the HTML representation or trust the notebook. <br />On GitHub, the HTML representation is unable to render, please try loading this page with nbviewer.org.</b></div><div class=\"sk-container\" hidden><div class=\"sk-item\"><div class=\"sk-estimator sk-toggleable\"><input class=\"sk-toggleable__control sk-hidden--visually\" id=\"sk-estimator-id-5\" type=\"checkbox\" checked><label for=\"sk-estimator-id-5\" class=\"sk-toggleable__label sk-toggleable__label-arrow\">LinearRegression</label><div class=\"sk-toggleable__content\"><pre>LinearRegression()</pre></div></div></div></div></div>"
      ],
      "text/plain": [
       "LinearRegression()"
      ]
     },
     "execution_count": 32,
     "metadata": {},
     "output_type": "execute_result"
    }
   ],
   "source": [
    "from sklearn.linear_model import LinearRegression\n",
    "\n",
    "clf_lr = LinearRegression()\n",
    "mean, std = cross_validate(clf_lr, X_train, y_train, validation_split_size)\n",
    "print(\"LINEAR REGRESSION: %0.5f mean accuracy with a standard deviation of %0.5f\" % (mean, std))\n",
    "clf_lr.fit(X_train, y_train.values.ravel())"
   ]
  },
  {
   "cell_type": "code",
   "execution_count": 33,
   "metadata": {
    "collapsed": false,
    "execution": {
     "iopub.execute_input": "2023-03-20T14:37:06.167531Z",
     "iopub.status.busy": "2023-03-20T14:37:06.167531Z",
     "iopub.status.idle": "2023-03-20T14:37:06.181478Z",
     "shell.execute_reply": "2023-03-20T14:37:06.180478Z",
     "shell.execute_reply.started": "2023-03-20T14:37:06.167531Z"
    },
    "jupyter": {
     "outputs_hidden": false
    }
   },
   "outputs": [
    {
     "data": {
      "text/plain": [
       "0.7819540596940383"
      ]
     },
     "execution_count": 33,
     "metadata": {},
     "output_type": "execute_result"
    }
   ],
   "source": [
    "clf_lr.score(X_test, y_test.values.ravel())"
   ]
  },
  {
   "cell_type": "code",
   "execution_count": null,
   "metadata": {
    "collapsed": false,
    "jupyter": {
     "outputs_hidden": false
    }
   },
   "outputs": [],
   "source": []
  }
 ],
 "metadata": {
  "kernelspec": {
   "display_name": "Python 3 (ipykernel)",
   "language": "python",
   "name": "python3"
  },
  "language_info": {
   "codemirror_mode": {
    "name": "ipython",
    "version": 3
   },
   "file_extension": ".py",
   "mimetype": "text/x-python",
   "name": "python",
   "nbconvert_exporter": "python",
   "pygments_lexer": "ipython3",
   "version": "3.9.16"
  }
 },
 "nbformat": 4,
 "nbformat_minor": 4
}
