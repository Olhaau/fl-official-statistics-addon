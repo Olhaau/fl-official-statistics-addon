{
 "cells": [
  {
   "cell_type": "markdown",
   "id": "bdae0592-750c-43c4-842a-71a6527a4ff6",
   "metadata": {},
   "source": [
    "# Medical Insurance\n",
    "\n",
    "FL or no FL?"
   ]
  },
  {
   "cell_type": "code",
   "execution_count": null,
   "id": "6229c6f8-579d-4f98-8e74-0bfbcc8d2a08",
   "metadata": {},
   "outputs": [],
   "source": [
    "# import\n",
    "import dask.dataframe as dd\n",
    "from sklearn.preprocessing import MinMaxScaler\n",
    "import os\n",
    "os.chdir(\"..\")"
   ]
  }
 ],
 "metadata": {
  "kernelspec": {
   "display_name": "Python 3 (ipykernel)",
   "language": "python",
   "name": "python3"
  },
  "language_info": {
   "codemirror_mode": {
    "name": "ipython",
    "version": 3
   },
   "file_extension": ".py",
   "mimetype": "text/x-python",
   "name": "python",
   "nbconvert_exporter": "python",
   "pygments_lexer": "ipython3",
   "version": "3.9.16"
  }
 },
 "nbformat": 4,
 "nbformat_minor": 5
}
