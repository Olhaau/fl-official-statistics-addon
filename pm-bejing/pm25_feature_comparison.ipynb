{
 "cells": [
  {
   "cell_type": "markdown",
   "metadata": {
    "collapsed": false
   },
   "source": [
    "## Model performance comparison with different features\n",
    "The features as used in the paper are used as \"standard\" set of features. Additionaly tested features are:\n",
    "- date and hour\n",
    "- wind direction\n",
    "\n",
    "All features are tested with a local model and perform roughly the same."
   ]
  },
  {
   "cell_type": "code",
   "execution_count": 1,
   "metadata": {
    "collapsed": false
   },
   "outputs": [
    {
     "name": "stderr",
     "output_type": "stream",
     "text": [
      "2023-01-18 13:09:16.615647: W tensorflow/compiler/xla/stream_executor/platform/default/dso_loader.cc:64] Could not load dynamic library 'libcudart.so.11.0'; dlerror: libcudart.so.11.0: cannot open shared object file: No such file or directory\n",
      "2023-01-18 13:09:16.615690: I tensorflow/compiler/xla/stream_executor/cuda/cudart_stub.cc:29] Ignore above cudart dlerror if you do not have a GPU set up on your machine.\n",
      "2023-01-18 13:11:36.084136: W tensorflow/compiler/xla/stream_executor/platform/default/dso_loader.cc:64] Could not load dynamic library 'libnvinfer.so.7'; dlerror: libnvinfer.so.7: cannot open shared object file: No such file or directory\n",
      "2023-01-18 13:11:36.084360: W tensorflow/compiler/xla/stream_executor/platform/default/dso_loader.cc:64] Could not load dynamic library 'libnvinfer_plugin.so.7'; dlerror: libnvinfer_plugin.so.7: cannot open shared object file: No such file or directory\n",
      "2023-01-18 13:11:36.084390: W tensorflow/compiler/tf2tensorrt/utils/py_utils.cc:38] TF-TRT Warning: Cannot dlopen some TensorRT libraries. If you would like to use Nvidia GPU with TensorRT, please make sure the missing libraries mentioned above are installed properly.\n"
     ]
    }
   ],
   "source": [
    "import os\n",
    "import json\n",
    "import numpy as np\n",
    "import matplotlib.pyplot as plt\n",
    "\n",
    "import pm25_beijing\n",
    "\n",
    "# database path:\n",
    "DATA_PATH = \"data/pollution-data/\"\n",
    "FEATURES_TO_USE = [\"TEMP\", \"PRES\", \"DEWP\", \"RAIN\", \"WSPM\", \"wd\", \"month\", \"day\", \"hour\"]\n",
    "TIMESTEPS = 48 # How many steps the LSTM should take into account\n",
    "NUM_REG_CLASSES = 3"
   ]
  },
  {
   "cell_type": "code",
   "execution_count": 2,
   "metadata": {
    "collapsed": false
   },
   "outputs": [
    {
     "name": "stdout",
     "output_type": "stream",
     "text": [
      "Recognized wd (wind direction) as feature. Create columns north, east, south and west automatically.\n",
      "Creating multiple classes from wd (wind direction):\n"
     ]
    },
    {
     "name": "stderr",
     "output_type": "stream",
     "text": [
      "100%|██████████| 12/12 [00:29<00:00,  2.46s/it]\n"
     ]
    },
    {
     "name": "stdout",
     "output_type": "stream",
     "text": [
      "Warning: 'wd' is not part of the features anymore. Instead each wind direction is separated (north, east, south, west)\n"
     ]
    }
   ],
   "source": [
    "# With this DataHandler the run function does not need to preprocess everything again\n",
    "data = pm25_beijing.DataHandler(DATA_PATH, features_to_use=FEATURES_TO_USE, col_to_predict=[\"PM2.5\"])\n",
    "data.preprocess_data(minmax_features=FEATURES_TO_USE)\n",
    "data.interpolate()\n",
    "# The complete data as model input can not be used for sinlge stations\n",
    "# data.create_model_input(TIMESTEPS, save_data=True)\n",
    "_, data_labels = data.create_classes(NUM_REG_CLASSES, features=[\"PM2.5\"])"
   ]
  },
  {
   "cell_type": "code",
   "execution_count": 3,
   "metadata": {
    "collapsed": false
   },
   "outputs": [
    {
     "name": "stdout",
     "output_type": "stream",
     "text": [
      "['TEMP', 'PRES', 'DEWP', 'RAIN', 'WSPM']\n"
     ]
    },
    {
     "name": "stderr",
     "output_type": "stream",
     "text": [
      "2023-01-18 13:14:31.492954: W tensorflow/compiler/xla/stream_executor/platform/default/dso_loader.cc:64] Could not load dynamic library 'libcuda.so.1'; dlerror: libcuda.so.1: cannot open shared object file: No such file or directory\n",
      "2023-01-18 13:14:31.493010: W tensorflow/compiler/xla/stream_executor/cuda/cuda_driver.cc:265] failed call to cuInit: UNKNOWN ERROR (303)\n",
      "2023-01-18 13:14:31.493042: I tensorflow/compiler/xla/stream_executor/cuda/cuda_diagnostics.cc:156] kernel driver does not appear to be running on this host (svsram): /proc/driver/nvidia/version does not exist\n"
     ]
    },
    {
     "name": "stdout",
     "output_type": "stream",
     "text": [
      "Warning: If the station(s) is defined, not all data is loaded.This leads to faster processing but might result in problems with the minmax scaler since it orientates itself at the highest and lowest value (which might differ for different stations. You can use the full data and use the specific station(s) after the preprocessing step.\n",
      "---------------------Preprocessing data--------------------------\n",
      "-------------------Creating training data------------------------\n",
      "Wanliu (1/1)\n",
      "Creating model input from ['TEMP', 'PRES', 'DEWP', 'RAIN', 'WSPM']\n"
     ]
    },
    {
     "name": "stderr",
     "output_type": "stream",
     "text": [
      "100%|██████████| 35016/35016 [00:23<00:00, 1469.16it/s]\n"
     ]
    },
    {
     "name": "stdout",
     "output_type": "stream",
     "text": [
      "---------------------Training the model--------------------------\n",
      "Epoch 1/30\n",
      "206/206 [==============================] - 12s 43ms/step - loss: 1.0736 - accuracy: 0.3791 - val_loss: 1.0617 - val_accuracy: 0.5117\n",
      "Epoch 2/30\n",
      "206/206 [==============================] - 8s 40ms/step - loss: 1.0112 - accuracy: 0.4707 - val_loss: 1.0054 - val_accuracy: 0.4957\n",
      "Epoch 3/30\n",
      "206/206 [==============================] - 8s 40ms/step - loss: 0.9678 - accuracy: 0.4965 - val_loss: 0.9419 - val_accuracy: 0.5515\n",
      "Epoch 4/30\n",
      "206/206 [==============================] - 8s 41ms/step - loss: 0.9362 - accuracy: 0.5169 - val_loss: 0.9334 - val_accuracy: 0.5425\n",
      "Epoch 5/30\n",
      "206/206 [==============================] - 8s 40ms/step - loss: 0.9189 - accuracy: 0.5325 - val_loss: 0.9051 - val_accuracy: 0.5576\n",
      "Epoch 6/30\n",
      "206/206 [==============================] - 8s 40ms/step - loss: 0.8988 - accuracy: 0.5493 - val_loss: 0.8838 - val_accuracy: 0.5720\n",
      "Epoch 7/30\n",
      "206/206 [==============================] - 8s 40ms/step - loss: 0.8766 - accuracy: 0.5648 - val_loss: 0.8590 - val_accuracy: 0.5866\n",
      "Epoch 8/30\n",
      "206/206 [==============================] - 9s 42ms/step - loss: 0.8651 - accuracy: 0.5719 - val_loss: 0.8345 - val_accuracy: 0.6080\n",
      "Epoch 9/30\n",
      "206/206 [==============================] - 9s 43ms/step - loss: 0.8450 - accuracy: 0.5903 - val_loss: 0.8452 - val_accuracy: 0.6099\n",
      "Epoch 10/30\n",
      "206/206 [==============================] - 9s 42ms/step - loss: 0.8377 - accuracy: 0.5925 - val_loss: 0.7941 - val_accuracy: 0.6233\n",
      "Epoch 11/30\n",
      "206/206 [==============================] - 9s 42ms/step - loss: 0.8326 - accuracy: 0.6012 - val_loss: 0.8288 - val_accuracy: 0.6156\n",
      "Epoch 12/30\n",
      "206/206 [==============================] - 9s 42ms/step - loss: 0.8278 - accuracy: 0.6026 - val_loss: 0.7806 - val_accuracy: 0.6316\n",
      "Epoch 13/30\n",
      "206/206 [==============================] - 9s 42ms/step - loss: 0.8166 - accuracy: 0.6090 - val_loss: 0.8424 - val_accuracy: 0.6049\n",
      "Epoch 14/30\n",
      "206/206 [==============================] - 9s 42ms/step - loss: 0.8082 - accuracy: 0.6099 - val_loss: 0.7729 - val_accuracy: 0.6371\n",
      "Epoch 15/30\n",
      "206/206 [==============================] - 9s 41ms/step - loss: 0.8064 - accuracy: 0.6149 - val_loss: 0.8295 - val_accuracy: 0.6062\n",
      "Epoch 16/30\n",
      "206/206 [==============================] - 9s 41ms/step - loss: 0.7999 - accuracy: 0.6164 - val_loss: 0.7569 - val_accuracy: 0.6503\n",
      "Epoch 17/30\n",
      "206/206 [==============================] - 9s 42ms/step - loss: 0.7929 - accuracy: 0.6204 - val_loss: 0.7544 - val_accuracy: 0.6470\n",
      "Epoch 18/30\n",
      "206/206 [==============================] - 9s 43ms/step - loss: 0.7910 - accuracy: 0.6232 - val_loss: 0.7822 - val_accuracy: 0.6382\n",
      "Epoch 19/30\n",
      "206/206 [==============================] - 9s 44ms/step - loss: 0.7858 - accuracy: 0.6288 - val_loss: 0.8144 - val_accuracy: 0.6156\n",
      "Epoch 20/30\n",
      "206/206 [==============================] - 9s 42ms/step - loss: 0.7849 - accuracy: 0.6272 - val_loss: 0.8407 - val_accuracy: 0.6022\n",
      "Epoch 21/30\n",
      "206/206 [==============================] - 8s 41ms/step - loss: 0.7841 - accuracy: 0.6251 - val_loss: 0.7582 - val_accuracy: 0.6470\n",
      "Epoch 22/30\n",
      "206/206 [==============================] - 9s 42ms/step - loss: 0.7755 - accuracy: 0.6311 - val_loss: 0.7565 - val_accuracy: 0.6518\n",
      "Epoch 23/30\n",
      "206/206 [==============================] - 9s 43ms/step - loss: 0.7758 - accuracy: 0.6346 - val_loss: 0.7669 - val_accuracy: 0.6444\n",
      "Epoch 24/30\n",
      "206/206 [==============================] - 9s 42ms/step - loss: 0.7722 - accuracy: 0.6340 - val_loss: 0.7436 - val_accuracy: 0.6583\n",
      "Epoch 25/30\n",
      "206/206 [==============================] - 9s 42ms/step - loss: 0.7706 - accuracy: 0.6350 - val_loss: 0.7410 - val_accuracy: 0.6615\n",
      "Epoch 26/30\n",
      "206/206 [==============================] - 9s 42ms/step - loss: 0.7712 - accuracy: 0.6340 - val_loss: 0.7517 - val_accuracy: 0.6568\n",
      "Epoch 27/30\n",
      "206/206 [==============================] - 9s 42ms/step - loss: 0.7675 - accuracy: 0.6351 - val_loss: 0.7531 - val_accuracy: 0.6524\n",
      "Epoch 28/30\n",
      "206/206 [==============================] - 9s 42ms/step - loss: 0.7663 - accuracy: 0.6362 - val_loss: 0.7638 - val_accuracy: 0.6405\n",
      "Epoch 29/30\n",
      "206/206 [==============================] - 9s 41ms/step - loss: 0.7594 - accuracy: 0.6423 - val_loss: 0.7476 - val_accuracy: 0.6567\n",
      "Epoch 30/30\n",
      "206/206 [==============================] - 9s 43ms/step - loss: 0.7619 - accuracy: 0.6398 - val_loss: 0.7465 - val_accuracy: 0.6551\n",
      "['TEMP', 'PRES', 'DEWP', 'RAIN', 'WSPM', 'month', 'day', 'hour']\n",
      "Warning: If the station(s) is defined, not all data is loaded.This leads to faster processing but might result in problems with the minmax scaler since it orientates itself at the highest and lowest value (which might differ for different stations. You can use the full data and use the specific station(s) after the preprocessing step.\n",
      "---------------------Preprocessing data--------------------------\n",
      "-------------------Creating training data------------------------\n",
      "Wanliu (1/1)\n",
      "Creating model input from ['TEMP', 'PRES', 'DEWP', 'RAIN', 'WSPM', 'month', 'day', 'hour']\n"
     ]
    },
    {
     "name": "stderr",
     "output_type": "stream",
     "text": [
      "100%|██████████| 35016/35016 [00:26<00:00, 1310.70it/s]\n"
     ]
    },
    {
     "name": "stdout",
     "output_type": "stream",
     "text": [
      "---------------------Training the model--------------------------\n",
      "Epoch 1/30\n",
      "206/206 [==============================] - 13s 45ms/step - loss: 1.0642 - accuracy: 0.4055 - val_loss: 1.0446 - val_accuracy: 0.4610\n",
      "Epoch 2/30\n",
      "206/206 [==============================] - 8s 41ms/step - loss: 0.9810 - accuracy: 0.5001 - val_loss: 0.9459 - val_accuracy: 0.5441\n",
      "Epoch 3/30\n",
      "206/206 [==============================] - 8s 40ms/step - loss: 0.9312 - accuracy: 0.5370 - val_loss: 0.9488 - val_accuracy: 0.5384\n",
      "Epoch 4/30\n",
      "206/206 [==============================] - 8s 39ms/step - loss: 0.9100 - accuracy: 0.5533 - val_loss: 0.8824 - val_accuracy: 0.5996\n",
      "Epoch 5/30\n",
      "206/206 [==============================] - 8s 40ms/step - loss: 0.8901 - accuracy: 0.5663 - val_loss: 0.8967 - val_accuracy: 0.5741\n",
      "Epoch 6/30\n",
      "206/206 [==============================] - 8s 39ms/step - loss: 0.8738 - accuracy: 0.5765 - val_loss: 0.8770 - val_accuracy: 0.5775\n",
      "Epoch 7/30\n",
      "206/206 [==============================] - 8s 39ms/step - loss: 0.8585 - accuracy: 0.5854 - val_loss: 0.8923 - val_accuracy: 0.5709\n",
      "Epoch 8/30\n",
      "206/206 [==============================] - 8s 40ms/step - loss: 0.8467 - accuracy: 0.5898 - val_loss: 0.8435 - val_accuracy: 0.6025\n",
      "Epoch 9/30\n",
      "206/206 [==============================] - 8s 40ms/step - loss: 0.8315 - accuracy: 0.6021 - val_loss: 0.8283 - val_accuracy: 0.6265\n",
      "Epoch 10/30\n",
      "206/206 [==============================] - 8s 40ms/step - loss: 0.8223 - accuracy: 0.6060 - val_loss: 0.7920 - val_accuracy: 0.6403\n",
      "Epoch 11/30\n",
      "206/206 [==============================] - 8s 40ms/step - loss: 0.8117 - accuracy: 0.6101 - val_loss: 0.8281 - val_accuracy: 0.6155\n",
      "Epoch 12/30\n",
      "206/206 [==============================] - 8s 41ms/step - loss: 0.8000 - accuracy: 0.6167 - val_loss: 0.8162 - val_accuracy: 0.6276\n",
      "Epoch 13/30\n",
      "206/206 [==============================] - 9s 42ms/step - loss: 0.7936 - accuracy: 0.6234 - val_loss: 0.8047 - val_accuracy: 0.6348\n",
      "Epoch 14/30\n",
      "206/206 [==============================] - 9s 42ms/step - loss: 0.7878 - accuracy: 0.6263 - val_loss: 0.8121 - val_accuracy: 0.6187\n",
      "Epoch 15/30\n",
      "206/206 [==============================] - 9s 42ms/step - loss: 0.7815 - accuracy: 0.6289 - val_loss: 0.7657 - val_accuracy: 0.6499\n",
      "Epoch 16/30\n",
      "206/206 [==============================] - 9s 43ms/step - loss: 0.7772 - accuracy: 0.6311 - val_loss: 0.8117 - val_accuracy: 0.6163\n",
      "Epoch 17/30\n",
      "206/206 [==============================] - 9s 43ms/step - loss: 0.7641 - accuracy: 0.6408 - val_loss: 0.7788 - val_accuracy: 0.6404\n",
      "Epoch 18/30\n",
      "206/206 [==============================] - 9s 43ms/step - loss: 0.7611 - accuracy: 0.6412 - val_loss: 0.7595 - val_accuracy: 0.6454\n",
      "Epoch 19/30\n",
      "206/206 [==============================] - 9s 42ms/step - loss: 0.7542 - accuracy: 0.6409 - val_loss: 0.7166 - val_accuracy: 0.6702\n",
      "Epoch 20/30\n",
      "206/206 [==============================] - 9s 42ms/step - loss: 0.7514 - accuracy: 0.6464 - val_loss: 0.8092 - val_accuracy: 0.6193\n",
      "Epoch 21/30\n",
      "206/206 [==============================] - 8s 41ms/step - loss: 0.7474 - accuracy: 0.6470 - val_loss: 0.7101 - val_accuracy: 0.6748\n",
      "Epoch 22/30\n",
      "206/206 [==============================] - 9s 42ms/step - loss: 0.7372 - accuracy: 0.6512 - val_loss: 0.7155 - val_accuracy: 0.6727\n",
      "Epoch 23/30\n",
      "206/206 [==============================] - 9s 42ms/step - loss: 0.7373 - accuracy: 0.6512 - val_loss: 0.7352 - val_accuracy: 0.6611\n",
      "Epoch 24/30\n",
      "206/206 [==============================] - 8s 41ms/step - loss: 0.7324 - accuracy: 0.6535 - val_loss: 0.7697 - val_accuracy: 0.6391\n",
      "Epoch 25/30\n",
      "206/206 [==============================] - 9s 42ms/step - loss: 0.7263 - accuracy: 0.6623 - val_loss: 0.7315 - val_accuracy: 0.6627\n",
      "Epoch 26/30\n",
      "206/206 [==============================] - 9s 42ms/step - loss: 0.7232 - accuracy: 0.6601 - val_loss: 0.7197 - val_accuracy: 0.6634\n",
      "Epoch 27/30\n",
      "206/206 [==============================] - 9s 42ms/step - loss: 0.7166 - accuracy: 0.6624 - val_loss: 0.7319 - val_accuracy: 0.6607\n",
      "Epoch 28/30\n",
      "206/206 [==============================] - 9s 43ms/step - loss: 0.7167 - accuracy: 0.6647 - val_loss: 0.8266 - val_accuracy: 0.6089\n",
      "Epoch 29/30\n",
      "206/206 [==============================] - 9s 43ms/step - loss: 0.7189 - accuracy: 0.6641 - val_loss: 0.7276 - val_accuracy: 0.6669\n",
      "Epoch 30/30\n",
      "206/206 [==============================] - 9s 43ms/step - loss: 0.7102 - accuracy: 0.6671 - val_loss: 0.7658 - val_accuracy: 0.6492\n",
      "['TEMP', 'PRES', 'DEWP', 'RAIN', 'WSPM', 'wd']\n",
      "Warning: If the station(s) is defined, not all data is loaded.This leads to faster processing but might result in problems with the minmax scaler since it orientates itself at the highest and lowest value (which might differ for different stations. You can use the full data and use the specific station(s) after the preprocessing step.\n",
      "---------------------Preprocessing data--------------------------\n",
      "Recognized wd (wind direction) as feature. Create columns north, east, south and west automatically.\n",
      "Creating multiple classes from wd (wind direction):\n"
     ]
    },
    {
     "name": "stderr",
     "output_type": "stream",
     "text": [
      "100%|██████████| 1/1 [00:02<00:00,  2.47s/it]\n"
     ]
    },
    {
     "name": "stdout",
     "output_type": "stream",
     "text": [
      "Warning: 'wd' is not part of the features anymore. Instead each wind direction is separated (north, east, south, west)\n",
      "-------------------Creating training data------------------------\n",
      "Wanliu (1/1)\n",
      "Creating model input from ['TEMP', 'PRES', 'DEWP', 'RAIN', 'WSPM', 'wd_N', 'wd_E', 'wd_S', 'wd_W']\n"
     ]
    },
    {
     "name": "stderr",
     "output_type": "stream",
     "text": [
      "100%|██████████| 35016/35016 [00:27<00:00, 1286.43it/s]\n"
     ]
    },
    {
     "name": "stdout",
     "output_type": "stream",
     "text": [
      "---------------------Training the model--------------------------\n",
      "Epoch 1/30\n",
      "206/206 [==============================] - 13s 46ms/step - loss: 1.0091 - accuracy: 0.4841 - val_loss: 0.9678 - val_accuracy: 0.5392\n",
      "Epoch 2/30\n",
      "206/206 [==============================] - 9s 41ms/step - loss: 0.9091 - accuracy: 0.5549 - val_loss: 0.8871 - val_accuracy: 0.5798\n",
      "Epoch 3/30\n",
      "206/206 [==============================] - 8s 41ms/step - loss: 0.8678 - accuracy: 0.5735 - val_loss: 0.8755 - val_accuracy: 0.5942\n",
      "Epoch 4/30\n",
      "206/206 [==============================] - 9s 41ms/step - loss: 0.8501 - accuracy: 0.5830 - val_loss: 0.8872 - val_accuracy: 0.5921\n",
      "Epoch 5/30\n",
      "206/206 [==============================] - 9s 42ms/step - loss: 0.8333 - accuracy: 0.5928 - val_loss: 0.8340 - val_accuracy: 0.6165\n",
      "Epoch 6/30\n",
      "206/206 [==============================] - 9s 42ms/step - loss: 0.8235 - accuracy: 0.5999 - val_loss: 0.8336 - val_accuracy: 0.6133\n",
      "Epoch 7/30\n",
      "206/206 [==============================] - 9s 43ms/step - loss: 0.8153 - accuracy: 0.6062 - val_loss: 0.8348 - val_accuracy: 0.6199\n",
      "Epoch 8/30\n",
      "206/206 [==============================] - 9s 42ms/step - loss: 0.8031 - accuracy: 0.6116 - val_loss: 0.8416 - val_accuracy: 0.6068\n",
      "Epoch 9/30\n",
      "206/206 [==============================] - 9s 43ms/step - loss: 0.7952 - accuracy: 0.6140 - val_loss: 0.8087 - val_accuracy: 0.6202\n",
      "Epoch 10/30\n",
      "206/206 [==============================] - 9s 42ms/step - loss: 0.7896 - accuracy: 0.6227 - val_loss: 0.8967 - val_accuracy: 0.5674\n",
      "Epoch 11/30\n",
      "206/206 [==============================] - 9s 43ms/step - loss: 0.7769 - accuracy: 0.6315 - val_loss: 0.7933 - val_accuracy: 0.6221\n",
      "Epoch 12/30\n",
      "206/206 [==============================] - 9s 42ms/step - loss: 0.7715 - accuracy: 0.6367 - val_loss: 0.7827 - val_accuracy: 0.6290\n",
      "Epoch 13/30\n",
      "206/206 [==============================] - 8s 37ms/step - loss: 0.7625 - accuracy: 0.6423 - val_loss: 0.7826 - val_accuracy: 0.6188\n",
      "Epoch 14/30\n",
      "206/206 [==============================] - 8s 37ms/step - loss: 0.7546 - accuracy: 0.6474 - val_loss: 0.8257 - val_accuracy: 0.5990\n",
      "Epoch 15/30\n",
      "206/206 [==============================] - 8s 37ms/step - loss: 0.7502 - accuracy: 0.6513 - val_loss: 0.7846 - val_accuracy: 0.6197\n",
      "Epoch 16/30\n",
      "206/206 [==============================] - 7s 36ms/step - loss: 0.7454 - accuracy: 0.6551 - val_loss: 0.7843 - val_accuracy: 0.6177\n",
      "Epoch 17/30\n",
      "206/206 [==============================] - 8s 36ms/step - loss: 0.7360 - accuracy: 0.6633 - val_loss: 0.7717 - val_accuracy: 0.6247\n",
      "Epoch 18/30\n",
      "206/206 [==============================] - 8s 36ms/step - loss: 0.7320 - accuracy: 0.6612 - val_loss: 0.7913 - val_accuracy: 0.6131\n",
      "Epoch 19/30\n",
      "206/206 [==============================] - 7s 36ms/step - loss: 0.7304 - accuracy: 0.6642 - val_loss: 0.7891 - val_accuracy: 0.6117\n",
      "Epoch 20/30\n",
      "206/206 [==============================] - 7s 35ms/step - loss: 0.7207 - accuracy: 0.6710 - val_loss: 0.7702 - val_accuracy: 0.6214\n",
      "Epoch 21/30\n",
      "206/206 [==============================] - 7s 35ms/step - loss: 0.7207 - accuracy: 0.6721 - val_loss: 0.7504 - val_accuracy: 0.6343\n",
      "Epoch 22/30\n",
      "206/206 [==============================] - 7s 36ms/step - loss: 0.7152 - accuracy: 0.6735 - val_loss: 0.7758 - val_accuracy: 0.6201\n",
      "Epoch 23/30\n",
      "206/206 [==============================] - 7s 35ms/step - loss: 0.7121 - accuracy: 0.6744 - val_loss: 0.7161 - val_accuracy: 0.6600\n",
      "Epoch 24/30\n",
      "206/206 [==============================] - 7s 35ms/step - loss: 0.7114 - accuracy: 0.6757 - val_loss: 0.7180 - val_accuracy: 0.6483\n",
      "Epoch 25/30\n",
      "206/206 [==============================] - 8s 38ms/step - loss: 0.7067 - accuracy: 0.6788 - val_loss: 0.7351 - val_accuracy: 0.6430\n",
      "Epoch 26/30\n",
      "206/206 [==============================] - 8s 38ms/step - loss: 0.7043 - accuracy: 0.6790 - val_loss: 0.7048 - val_accuracy: 0.6594\n",
      "Epoch 27/30\n",
      "206/206 [==============================] - 8s 38ms/step - loss: 0.7011 - accuracy: 0.6810 - val_loss: 0.7532 - val_accuracy: 0.6382\n",
      "Epoch 28/30\n",
      "206/206 [==============================] - 8s 38ms/step - loss: 0.7027 - accuracy: 0.6771 - val_loss: 0.7447 - val_accuracy: 0.6367\n",
      "Epoch 29/30\n",
      "206/206 [==============================] - 8s 38ms/step - loss: 0.7012 - accuracy: 0.6799 - val_loss: 0.7459 - val_accuracy: 0.6413\n",
      "Epoch 30/30\n",
      "206/206 [==============================] - 9s 42ms/step - loss: 0.6939 - accuracy: 0.6854 - val_loss: 0.7306 - val_accuracy: 0.6455\n",
      "['TEMP', 'PRES', 'DEWP', 'RAIN', 'WSPM', 'wd', 'month', 'day', 'hour']\n",
      "Warning: If the station(s) is defined, not all data is loaded.This leads to faster processing but might result in problems with the minmax scaler since it orientates itself at the highest and lowest value (which might differ for different stations. You can use the full data and use the specific station(s) after the preprocessing step.\n",
      "---------------------Preprocessing data--------------------------\n",
      "Recognized wd (wind direction) as feature. Create columns north, east, south and west automatically.\n",
      "Creating multiple classes from wd (wind direction):\n"
     ]
    },
    {
     "name": "stderr",
     "output_type": "stream",
     "text": [
      "100%|██████████| 1/1 [00:02<00:00,  2.50s/it]\n"
     ]
    },
    {
     "name": "stdout",
     "output_type": "stream",
     "text": [
      "Warning: 'wd' is not part of the features anymore. Instead each wind direction is separated (north, east, south, west)\n",
      "-------------------Creating training data------------------------\n",
      "Wanliu (1/1)\n",
      "Creating model input from ['TEMP', 'PRES', 'DEWP', 'RAIN', 'WSPM', 'month', 'day', 'hour', 'wd_N', 'wd_E', 'wd_S', 'wd_W']\n"
     ]
    },
    {
     "name": "stderr",
     "output_type": "stream",
     "text": [
      "100%|██████████| 35016/35016 [00:29<00:00, 1196.41it/s]\n"
     ]
    },
    {
     "name": "stdout",
     "output_type": "stream",
     "text": [
      "---------------------Training the model--------------------------\n",
      "Epoch 1/30\n",
      "206/206 [==============================] - 13s 48ms/step - loss: 1.0012 - accuracy: 0.4672 - val_loss: 0.9751 - val_accuracy: 0.5396\n",
      "Epoch 2/30\n",
      "206/206 [==============================] - 9s 43ms/step - loss: 0.9244 - accuracy: 0.5339 - val_loss: 0.8973 - val_accuracy: 0.5752\n",
      "Epoch 3/30\n",
      "206/206 [==============================] - 9s 43ms/step - loss: 0.8848 - accuracy: 0.5628 - val_loss: 0.8690 - val_accuracy: 0.6010\n",
      "Epoch 4/30\n",
      "206/206 [==============================] - 9s 43ms/step - loss: 0.8548 - accuracy: 0.5844 - val_loss: 0.8481 - val_accuracy: 0.6141\n",
      "Epoch 5/30\n",
      "206/206 [==============================] - 9s 44ms/step - loss: 0.8337 - accuracy: 0.5953 - val_loss: 0.8003 - val_accuracy: 0.6356\n",
      "Epoch 6/30\n",
      "206/206 [==============================] - 9s 45ms/step - loss: 0.8220 - accuracy: 0.6007 - val_loss: 0.8579 - val_accuracy: 0.5979\n",
      "Epoch 7/30\n",
      "206/206 [==============================] - 9s 45ms/step - loss: 0.8018 - accuracy: 0.6217 - val_loss: 0.8408 - val_accuracy: 0.6076\n",
      "Epoch 8/30\n",
      "206/206 [==============================] - 9s 45ms/step - loss: 0.7904 - accuracy: 0.6257 - val_loss: 0.8304 - val_accuracy: 0.6133\n",
      "Epoch 9/30\n",
      "206/206 [==============================] - 9s 44ms/step - loss: 0.7838 - accuracy: 0.6333 - val_loss: 0.8506 - val_accuracy: 0.5982\n",
      "Epoch 10/30\n",
      "206/206 [==============================] - 9s 44ms/step - loss: 0.7735 - accuracy: 0.6410 - val_loss: 0.7652 - val_accuracy: 0.6476\n",
      "Epoch 11/30\n",
      "206/206 [==============================] - 9s 44ms/step - loss: 0.7634 - accuracy: 0.6479 - val_loss: 0.7150 - val_accuracy: 0.6724\n",
      "Epoch 12/30\n",
      "206/206 [==============================] - 7s 36ms/step - loss: 0.7570 - accuracy: 0.6538 - val_loss: 0.8876 - val_accuracy: 0.5793\n",
      "Epoch 13/30\n",
      "206/206 [==============================] - 7s 35ms/step - loss: 0.7538 - accuracy: 0.6561 - val_loss: 0.7745 - val_accuracy: 0.6407\n",
      "Epoch 14/30\n",
      "206/206 [==============================] - 7s 36ms/step - loss: 0.7450 - accuracy: 0.6581 - val_loss: 0.8402 - val_accuracy: 0.5920\n",
      "Epoch 15/30\n",
      "206/206 [==============================] - 8s 38ms/step - loss: 0.7384 - accuracy: 0.6615 - val_loss: 0.8451 - val_accuracy: 0.5979\n",
      "Epoch 16/30\n",
      "206/206 [==============================] - 8s 38ms/step - loss: 0.7360 - accuracy: 0.6659 - val_loss: 0.7798 - val_accuracy: 0.6332\n",
      "Epoch 17/30\n",
      "206/206 [==============================] - 8s 37ms/step - loss: 0.7280 - accuracy: 0.6720 - val_loss: 0.7083 - val_accuracy: 0.6724\n",
      "Epoch 18/30\n",
      "206/206 [==============================] - 7s 35ms/step - loss: 0.7247 - accuracy: 0.6697 - val_loss: 0.7795 - val_accuracy: 0.6349\n",
      "Epoch 19/30\n",
      "206/206 [==============================] - 7s 34ms/step - loss: 0.7212 - accuracy: 0.6747 - val_loss: 0.7937 - val_accuracy: 0.6299\n",
      "Epoch 20/30\n",
      "206/206 [==============================] - 7s 34ms/step - loss: 0.7177 - accuracy: 0.6734 - val_loss: 0.7770 - val_accuracy: 0.6361\n",
      "Epoch 21/30\n",
      "206/206 [==============================] - 7s 34ms/step - loss: 0.7106 - accuracy: 0.6788 - val_loss: 0.8607 - val_accuracy: 0.6030\n",
      "Epoch 22/30\n",
      "206/206 [==============================] - 7s 35ms/step - loss: 0.7060 - accuracy: 0.6824 - val_loss: 0.8137 - val_accuracy: 0.6237\n",
      "Epoch 23/30\n",
      "206/206 [==============================] - 7s 34ms/step - loss: 0.7042 - accuracy: 0.6797 - val_loss: 0.7503 - val_accuracy: 0.6494\n",
      "Epoch 24/30\n",
      "206/206 [==============================] - 7s 34ms/step - loss: 0.7005 - accuracy: 0.6815 - val_loss: 0.7467 - val_accuracy: 0.6532\n",
      "Epoch 25/30\n",
      "206/206 [==============================] - 7s 34ms/step - loss: 0.6959 - accuracy: 0.6835 - val_loss: 0.6851 - val_accuracy: 0.6846\n",
      "Epoch 26/30\n",
      "206/206 [==============================] - 7s 34ms/step - loss: 0.6926 - accuracy: 0.6833 - val_loss: 0.7677 - val_accuracy: 0.6401\n",
      "Epoch 27/30\n",
      "206/206 [==============================] - 7s 35ms/step - loss: 0.6907 - accuracy: 0.6891 - val_loss: 0.7550 - val_accuracy: 0.6506\n",
      "Epoch 28/30\n",
      "206/206 [==============================] - 7s 35ms/step - loss: 0.6856 - accuracy: 0.6893 - val_loss: 0.7022 - val_accuracy: 0.6751\n",
      "Epoch 29/30\n",
      "206/206 [==============================] - 7s 34ms/step - loss: 0.6883 - accuracy: 0.6870 - val_loss: 0.7379 - val_accuracy: 0.6627\n",
      "Epoch 30/30\n",
      "206/206 [==============================] - 7s 35ms/step - loss: 0.6761 - accuracy: 0.6961 - val_loss: 0.7773 - val_accuracy: 0.6399\n"
     ]
    }
   ],
   "source": [
    "# Feature comparison for single station\n",
    "station = \"Wanliu\"\n",
    "features = [\"TEMP\", \"PRES\", \"DEWP\", \"RAIN\", \"WSPM\"]\n",
    "print(features)\n",
    "lstm = pm25_beijing.create_lstm(TIMESTEPS, len(features),\n",
    "                                num_output_classes=NUM_REG_CLASSES)\n",
    "trained_model_std, loss_std = pm25_beijing.run_model(DATA_PATH, lstm, station=station,\n",
    "                                                     features=features,\n",
    "                                                     num_classes=NUM_REG_CLASSES)\n",
    "\n",
    "features = features + [\"month\", \"day\", \"hour\"]\n",
    "print(features)\n",
    "lstm = pm25_beijing.create_lstm(TIMESTEPS, len(features),\n",
    "                                num_output_classes=NUM_REG_CLASSES)\n",
    "trained_model_w_date, loss_w_date = pm25_beijing.run_model(DATA_PATH, lstm, station=station,\n",
    "                                                           features=features,\n",
    "                                                           num_classes=NUM_REG_CLASSES)\n",
    "features = [\"TEMP\", \"PRES\", \"DEWP\", \"RAIN\", \"WSPM\", \"wd\"]\n",
    "print(features)\n",
    "lstm = pm25_beijing.create_lstm(TIMESTEPS, len(features)+3,\n",
    "                                num_output_classes=NUM_REG_CLASSES)\n",
    "trained_model_w_wd, loss_w_wd = pm25_beijing.run_model(DATA_PATH, lstm, station=station,\n",
    "                                                       features=features,\n",
    "                                                       num_classes=NUM_REG_CLASSES)\n",
    "features = features + [\"month\", \"day\", \"hour\"]\n",
    "print(features)\n",
    "lstm = pm25_beijing.create_lstm(TIMESTEPS, len(features)+3,\n",
    "                                num_output_classes=NUM_REG_CLASSES)\n",
    "trained_model_w_wd_date, loss_w_wd_date = pm25_beijing.run_model(\n",
    "    DATA_PATH, lstm, station=station, features=features, num_classes=NUM_REG_CLASSES)"
   ]
  },
  {
   "cell_type": "code",
   "execution_count": 4,
   "metadata": {
    "collapsed": false
   },
   "outputs": [
    {
     "name": "stdout",
     "output_type": "stream",
     "text": [
      "Standard training acc: 0.655129075050354\n",
      "Std + wd training acc: 0.6455334424972534\n",
      "Std + date training acc: 0.6491889357566833\n",
      "Std + wd + date training acc: 0.6399360299110413\n"
     ]
    },
    {
     "data": {
      "image/png": "[encoded data removed]",
      "text/plain": [
       "<Figure size 432x288 with 1 Axes>"
      ]
     },
     "metadata": {
      "needs_background": "light"
     },
     "output_type": "display_data"
    }
   ],
   "source": [
    "# Loss is not plotted for better visuality\n",
    "plt.plot(loss_std.history[\"accuracy\"], label=\"training acc std\")\n",
    "plt.plot(loss_std.history[\"val_accuracy\"], label=\"validation acc std\")\n",
    "#plt.plot(loss_std.history[\"loss\"], label=\"training loss\")\n",
    "#plt.plot(loss_std.history[\"val_loss\"], label=\"validation loss\")\n",
    "plt.plot(loss_w_wd.history[\"accuracy\"], label=\"training acc wind\")\n",
    "plt.plot(loss_w_wd.history[\"val_accuracy\"], label=\"validation acc wind\")\n",
    "#plt.plot(loss_w_date.history[\"loss\"], label=\"training loss\")\n",
    "#plt.plot(loss_w_date.history[\"val_loss\"], label=\"validation loss\")\n",
    "plt.plot(loss_w_date.history[\"accuracy\"], label=\"training acc date\")\n",
    "plt.plot(loss_w_date.history[\"val_accuracy\"], label=\"validation acc date\")\n",
    "#plt.plot(loss_w_date.history[\"loss\"], label=\"training loss\")\n",
    "#plt.plot(loss_w_date.history[\"val_loss\"], label=\"validation loss\")\n",
    "plt.plot(loss_w_wd_date.history[\"accuracy\"], label=\"training acc wd+date\")\n",
    "plt.plot(loss_w_wd_date.history[\"val_accuracy\"], label=\"validation acc wd+date\")\n",
    "#plt.plot(loss_w_date.history[\"loss\"], label=\"training loss\")\n",
    "#plt.plot(loss_w_date.history[\"val_loss\"], label=\"validation loss\")\n",
    "plt.legend()\n",
    "print(\"Standard training acc: \" + str(loss_std.history[\"val_accuracy\"][-1]))\n",
    "print(\"Std + wd training acc: \" + str(loss_w_wd.history[\"val_accuracy\"][-1]))\n",
    "print(\"Std + date training acc: \" + str(loss_w_date.history[\"val_accuracy\"][-1]))\n",
    "print(\"Std + wd + date training acc: \" + str(loss_w_wd_date.history[\"val_accuracy\"][-1]))"
   ]
  },
  {
   "cell_type": "code",
   "execution_count": null,
   "metadata": {
    "collapsed": false
   },
   "outputs": [],
   "source": []
  }
 ],
 "metadata": {
  "kernelspec": {
   "display_name": "Python 3",
   "language": "python",
   "name": "python3"
  },
  "language_info": {
   "codemirror_mode": {
    "name": "ipython",
    "version": 2
   },
   "file_extension": ".py",
   "mimetype": "text/x-python",
   "name": "python",
   "nbconvert_exporter": "python",
   "pygments_lexer": "ipython2",
   "version": "2.7.6"
  }
 },
 "nbformat": 4,
 "nbformat_minor": 0
}
