{
  "cells": [
    {
      "cell_type": "markdown",
      "id": "07fd0e3a-d25e-4d62-ad6b-33714f4fe994",
      "metadata": {
        "id": "07fd0e3a-d25e-4d62-ad6b-33714f4fe994"
      },
      "source": [
        "# Results of further Investigation \n",
        "---\n",
        "\n",
        "Federated Learning in Official Statistics"
      ]
    },
    {
      "cell_type": "markdown",
      "source": [
        "## Results\n",
        "---"
      ],
      "metadata": {
        "id": "Al-ZilIZhaX9"
      },
      "id": "Al-ZilIZhaX9"
    },
    {
      "cell_type": "markdown",
      "source": [
        "- installation is effortful and often needed for Federated Learning\n",
        "\n",
        "### Medical Insurance\n",
        "\n",
        "- observed high variation in the training and between experiments\n",
        "- stablized the centralized performance by a lower learning rate\n",
        "- investigated the data (inhomogenity in children and age, relevant variable 'smoking' has only 2 levels)\n",
        "- observed regional differences in the training performance."
      ],
      "metadata": {
        "id": "WKuU1YxcwmUK"
      },
      "id": "WKuU1YxcwmUK"
    },
    {
      "cell_type": "markdown",
      "source": [
        "## Progress\n",
        "---"
      ],
      "metadata": {
        "id": "esB9c0lJhd_u"
      },
      "id": "esB9c0lJhd_u"
    },
    {
      "cell_type": "markdown",
      "source": [
        "### Installations"
      ],
      "metadata": {
        "id": "K-OgZCmFhhwG"
      },
      "id": "K-OgZCmFhhwG"
    },
    {
      "cell_type": "markdown",
      "source": [
        "effortfully established:\n",
        "\n",
        "- github (repo fork)\n",
        "- colab (cloud computing and collaboration)\n",
        "- local version (JupyterLab)\n",
        "- tff avaialbe at R-Server\n",
        "\n",
        "&rarr; often expectable with Federated Learning!"
      ],
      "metadata": {
        "id": "fGGpO83ViZuD"
      },
      "id": "fGGpO83ViZuD"
    },
    {
      "cell_type": "markdown",
      "source": [
        "### Training (of Oli)\n",
        "\n",
        "Python, used Libraries, ..."
      ],
      "metadata": {
        "id": "9aohUU27oeJS"
      },
      "id": "9aohUU27oeJS"
    },
    {
      "cell_type": "markdown",
      "source": [
        "### Initial Check of FL for medical insurance"
      ],
      "metadata": {
        "id": "7qIOPoONi98D"
      },
      "id": "7qIOPoONi98D"
    },
    {
      "cell_type": "markdown",
      "source": [
        "Observations:\n",
        "\n",
        "- not convenient (e.g. tff)\n",
        "- not consistent, missing documentation\n",
        "  - I think 'federated_insurance_data' is empty\n",
        "- missspecified model (zero initializer) \n",
        "  - no training occurs, s. [03_insurance_federated.ipynb#Original Model](<../_dev/03_insurance_federated.ipynb>)\n",
        "- first we could not generate improvements."
      ],
      "metadata": {
        "id": "ylPWb6qYjPOz"
      },
      "id": "ylPWb6qYjPOz"
    },
    {
      "cell_type": "markdown",
      "source": [
        "### Initial Check of centralized medical insurance"
      ],
      "metadata": {
        "id": "NV2z4796i9-6"
      },
      "id": "NV2z4796i9-6"
    },
    {
      "cell_type": "markdown",
      "source": [
        "In the centralized situation another neural network was used.\n",
        "\n",
        "The paper stated that the result of the centralized neural network are very good ($R^2 = 0.85$). But we found very high variance in the training process and between experiments. Thus, the high performance occurs randomly. See:\n",
        "\n",
        "\n",
        "*Training Performance with initial parameters:*\n",
        "![](https://github.com/Olhaau/fl-official-statistics-addon/blob/main/original_work/med-insurance/rsquared_init_params.jpg?raw=1)\n",
        "\n",
        "*Training Performance after tuning:*\n",
        "![](https://github.com/Olhaau/fl-official-statistics-addon/blob/main/original_work/med-insurance/rsquared_hyperparams.jpg?raw=1)\n",
        "\n",
        "We used a lower learning rate to stabilize the training:\n",
        "\n",
        "![](https://github.com/Olhaau/fl-official-statistics-addon/blob/main/output/plots/dnn_experiments/01_low-learnrate-0p0025.png?raw=1)\n",
        "\n",
        "Adam Optimizer can lead to further improvements.\n",
        "\n",
        "But why is test (actually eval) over train (no dropout used)? &rarr; open\n",
        "\n"
      ],
      "metadata": {
        "id": "fpDIj9Wli-B6"
      },
      "id": "fpDIj9Wli-B6"
    },
    {
      "cell_type": "markdown",
      "source": [
        "### (in progress) Is not enough data available for FL?"
      ],
      "metadata": {
        "id": "A5DsINroozV8"
      },
      "id": "A5DsINroozV8"
    },
    {
      "cell_type": "markdown",
      "source": [
        "Stock et al., 2023, p. 4:\n",
        "\n",
        "> *Instead, we conjecture that the data set is too small for a FL training scenario – with about\n",
        "350 data records per client, minus 20% for the test data.*"
      ],
      "metadata": {
        "id": "ENqg1BrrozY6"
      },
      "id": "ENqg1BrrozY6"
    },
    {
      "cell_type": "markdown",
      "source": [
        "We investigated the performance for each region seperately and found out that the available data for some regions is sufficient to train a neural network and for some the data is not sufficient.\n",
        "\n",
        "See.:\n",
        "\n",
        "![](https://github.com/Olhaau/fl-official-statistics-addon/blob/main/output/plots/dnn_experiments/03_seperated-regions1.png?raw=1)\n",
        "\n",
        "![](https://github.com/Olhaau/fl-official-statistics-addon/blob/main/output/plots/dnn_experiments/03_seperated-regions2.png?raw=1)\n",
        "\n",
        "![](https://github.com/Olhaau/fl-official-statistics-addon/blob/main/output/plots/dnn_experiments/03_seperated-regions3.png?raw=1)\n",
        "\n",
        "![](https://github.com/Olhaau/fl-official-statistics-addon/blob/main/output/plots/dnn_experiments/04_seperated-regions3.png?raw=1)"
      ],
      "metadata": {
        "id": "9wCEeLsPumWI"
      },
      "id": "9wCEeLsPumWI"
    },
    {
      "cell_type": "markdown",
      "source": [
        "**Open**\n",
        "\n",
        "- How does FL Framework perform with just one client? \n",
        "- How is the FL performance with only stable trainable regions?"
      ],
      "metadata": {
        "id": "l6Uf1iKGvaT2"
      },
      "id": "l6Uf1iKGvaT2"
    },
    {
      "cell_type": "markdown",
      "source": [
        "### (in progress) FL for medical insurance - improved model\n",
        "\n",
        "- result: from mae 8700 to ~6500 (error from update), centralized we have ~2900\n",
        "- changes\n",
        "  - lower learning rate, 'glorom_uniform' (default) initializer and relu activation"
      ],
      "metadata": {
        "id": "QGlTpm7ni-FN"
      },
      "id": "QGlTpm7ni-FN"
    },
    {
      "cell_type": "markdown",
      "source": [
        "### (tba) extract a minimal example"
      ],
      "metadata": {
        "id": "X7jxBVQKuIXp"
      },
      "id": "X7jxBVQKuIXp"
    },
    {
      "cell_type": "markdown",
      "source": [
        "### (tba) MSE as Loss improves the results "
      ],
      "metadata": {
        "id": "IOH9TXGFuIaX"
      },
      "id": "IOH9TXGFuIaX"
    },
    {
      "cell_type": "markdown",
      "source": [
        "### (tba) Add tuning and cv"
      ],
      "metadata": {
        "id": "ulRVKuT7vpXr"
      },
      "id": "ulRVKuT7vpXr"
    }
  ],
  "metadata": {
    "kernelspec": {
      "display_name": "Python 3 (ipykernel)",
      "language": "python",
      "name": "python3"
    },
    "language_info": {
      "codemirror_mode": {
        "name": "ipython",
        "version": 3
      },
      "file_extension": ".py",
      "mimetype": "text/x-python",
      "name": "python",
      "nbconvert_exporter": "python",
      "pygments_lexer": "ipython3",
      "version": "3.9.16"
    },
    "colab": {
      "provenance": []
    }
  },
  "nbformat": 4,
  "nbformat_minor": 5
}